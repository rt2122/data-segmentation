{
 "cells": [
  {
   "cell_type": "code",
   "execution_count": 1,
   "metadata": {
    "ExecuteTime": {
     "end_time": "2020-04-01T17:20:39.352243Z",
     "start_time": "2020-04-01T17:20:32.739214Z"
    }
   },
   "outputs": [],
   "source": [
    "from astropy.io import fits\n",
    "import numpy as np\n",
    "import pandas as pd"
   ]
  },
  {
   "cell_type": "code",
   "execution_count": 3,
   "metadata": {
    "ExecuteTime": {
     "end_time": "2020-04-01T17:23:51.558718Z",
     "start_time": "2020-04-01T17:23:51.250104Z"
    }
   },
   "outputs": [],
   "source": [
    "planck = pd.DataFrame([])\n",
    "with fits.open('./Planck_SZ2.fits') as table:\n",
    "    data = table[1].data\n",
    "    keys = data.names\n",
    "    saved_keys = ['Name', 'RAdeg', 'DEdeg', 'z', 'MSZ','MCXC', 'RedMAPPer']\n",
    "    for key in saved_keys:\n",
    "        planck[key] = data[key]"
   ]
  },
  {
   "cell_type": "code",
   "execution_count": 4,
   "metadata": {
    "ExecuteTime": {
     "end_time": "2020-04-01T17:23:56.596077Z",
     "start_time": "2020-04-01T17:23:56.328510Z"
    }
   },
   "outputs": [
    {
     "data": {
      "text/html": [
       "<div>\n",
       "<style scoped>\n",
       "    .dataframe tbody tr th:only-of-type {\n",
       "        vertical-align: middle;\n",
       "    }\n",
       "\n",
       "    .dataframe tbody tr th {\n",
       "        vertical-align: top;\n",
       "    }\n",
       "\n",
       "    .dataframe thead th {\n",
       "        text-align: right;\n",
       "    }\n",
       "</style>\n",
       "<table border=\"1\" class=\"dataframe\">\n",
       "  <thead>\n",
       "    <tr style=\"text-align: right;\">\n",
       "      <th></th>\n",
       "      <th>Name</th>\n",
       "      <th>RAdeg</th>\n",
       "      <th>DEdeg</th>\n",
       "      <th>z</th>\n",
       "      <th>MSZ</th>\n",
       "      <th>MCXC</th>\n",
       "      <th>RedMAPPer</th>\n",
       "    </tr>\n",
       "  </thead>\n",
       "  <tbody>\n",
       "    <tr>\n",
       "      <th>0</th>\n",
       "      <td>PSZ2 G000.04+45.13</td>\n",
       "      <td>229.190512</td>\n",
       "      <td>-1.017222</td>\n",
       "      <td>0.1198</td>\n",
       "      <td>3.962411</td>\n",
       "      <td>J1516.5-0056</td>\n",
       "      <td>RMJ151653.9-010506.3</td>\n",
       "    </tr>\n",
       "    <tr>\n",
       "      <th>1</th>\n",
       "      <td>PSZ2 G000.13+78.04</td>\n",
       "      <td>203.558683</td>\n",
       "      <td>20.255990</td>\n",
       "      <td>0.1710</td>\n",
       "      <td>5.122391</td>\n",
       "      <td>J1334.1+2013</td>\n",
       "      <td>RMJ133408.7+201453.0</td>\n",
       "    </tr>\n",
       "    <tr>\n",
       "      <th>2</th>\n",
       "      <td>PSZ2 G000.40-41.86</td>\n",
       "      <td>316.084485</td>\n",
       "      <td>-41.354169</td>\n",
       "      <td>0.1651</td>\n",
       "      <td>5.297053</td>\n",
       "      <td>J2104.3-4120</td>\n",
       "      <td></td>\n",
       "    </tr>\n",
       "    <tr>\n",
       "      <th>3</th>\n",
       "      <td>PSZ2 G000.77-35.69</td>\n",
       "      <td>307.972844</td>\n",
       "      <td>-40.598725</td>\n",
       "      <td>0.3416</td>\n",
       "      <td>6.333562</td>\n",
       "      <td>J2031.8-4037</td>\n",
       "      <td></td>\n",
       "    </tr>\n",
       "    <tr>\n",
       "      <th>4</th>\n",
       "      <td>PSZ2 G002.04-22.15</td>\n",
       "      <td>291.359610</td>\n",
       "      <td>-36.517944</td>\n",
       "      <td>-1.0000</td>\n",
       "      <td>0.000000</td>\n",
       "      <td></td>\n",
       "      <td></td>\n",
       "    </tr>\n",
       "  </tbody>\n",
       "</table>\n",
       "</div>"
      ],
      "text/plain": [
       "                 Name       RAdeg      DEdeg       z       MSZ          MCXC  \\\n",
       "0  PSZ2 G000.04+45.13  229.190512  -1.017222  0.1198  3.962411  J1516.5-0056   \n",
       "1  PSZ2 G000.13+78.04  203.558683  20.255990  0.1710  5.122391  J1334.1+2013   \n",
       "2  PSZ2 G000.40-41.86  316.084485 -41.354169  0.1651  5.297053  J2104.3-4120   \n",
       "3  PSZ2 G000.77-35.69  307.972844 -40.598725  0.3416  6.333562  J2031.8-4037   \n",
       "4  PSZ2 G002.04-22.15  291.359610 -36.517944 -1.0000  0.000000                 \n",
       "\n",
       "              RedMAPPer  \n",
       "0  RMJ151653.9-010506.3  \n",
       "1  RMJ133408.7+201453.0  \n",
       "2                        \n",
       "3                        \n",
       "4                        "
      ]
     },
     "execution_count": 4,
     "metadata": {},
     "output_type": "execute_result"
    }
   ],
   "source": [
    "planck.head()"
   ]
  },
  {
   "cell_type": "code",
   "execution_count": 5,
   "metadata": {
    "ExecuteTime": {
     "end_time": "2020-04-01T17:24:02.644420Z",
     "start_time": "2020-04-01T17:24:02.634361Z"
    }
   },
   "outputs": [
    {
     "data": {
      "text/plain": [
       "(1653, 7)"
      ]
     },
     "execution_count": 5,
     "metadata": {},
     "output_type": "execute_result"
    }
   ],
   "source": [
    "planck.shape"
   ]
  },
  {
   "cell_type": "code",
   "execution_count": 9,
   "metadata": {
    "ExecuteTime": {
     "end_time": "2020-04-01T17:26:25.592074Z",
     "start_time": "2020-04-01T17:26:25.424382Z"
    }
   },
   "outputs": [
    {
     "name": "stdout",
     "output_type": "stream",
     "text": [
      "['MCXC', 'OName', 'AName', 'RAh', 'RAm', 'RAs', 'DE-', 'DEd', 'DEm', 'DEs', 'RAdeg', 'DEdeg', 'GLON', 'GLAT', 'z', 'Cat', 'Sub-Cat', 'Scale', 'L500', 'M500', 'R500', 'Notes', 'Cat1', 'Cat2', 'Cat3', 'Cat4', 'L500r1', 'L500r2', 'L500r3', 'L500r4']\n"
     ]
    }
   ],
   "source": [
    "mcxc = pd.DataFrame([])\n",
    "with fits.open('./MCXC.fits') as table:\n",
    "    data = table[1].data\n",
    "    keys = data.names\n",
    "    print(keys)\n",
    "    saved_keys = ['MCXC','RAdeg', 'DEdeg', 'z', 'M500']\n",
    "    for key in saved_keys:\n",
    "        mcxc[key] = data[key]"
   ]
  },
  {
   "cell_type": "code",
   "execution_count": 10,
   "metadata": {
    "ExecuteTime": {
     "end_time": "2020-04-01T17:26:34.220209Z",
     "start_time": "2020-04-01T17:26:34.211162Z"
    }
   },
   "outputs": [
    {
     "data": {
      "text/html": [
       "<div>\n",
       "<style scoped>\n",
       "    .dataframe tbody tr th:only-of-type {\n",
       "        vertical-align: middle;\n",
       "    }\n",
       "\n",
       "    .dataframe tbody tr th {\n",
       "        vertical-align: top;\n",
       "    }\n",
       "\n",
       "    .dataframe thead th {\n",
       "        text-align: right;\n",
       "    }\n",
       "</style>\n",
       "<table border=\"1\" class=\"dataframe\">\n",
       "  <thead>\n",
       "    <tr style=\"text-align: right;\">\n",
       "      <th></th>\n",
       "      <th>MCXC</th>\n",
       "      <th>RAdeg</th>\n",
       "      <th>DEdeg</th>\n",
       "      <th>z</th>\n",
       "      <th>M500</th>\n",
       "    </tr>\n",
       "  </thead>\n",
       "  <tbody>\n",
       "    <tr>\n",
       "      <th>0</th>\n",
       "      <td>J0000.1+0816</td>\n",
       "      <td>0.030</td>\n",
       "      <td>8.274</td>\n",
       "      <td>0.0396</td>\n",
       "      <td>0.7373</td>\n",
       "    </tr>\n",
       "    <tr>\n",
       "      <th>1</th>\n",
       "      <td>J0000.4-0237</td>\n",
       "      <td>0.103</td>\n",
       "      <td>-2.625</td>\n",
       "      <td>0.0379</td>\n",
       "      <td>0.3297</td>\n",
       "    </tr>\n",
       "    <tr>\n",
       "      <th>2</th>\n",
       "      <td>J0001.6-1540</td>\n",
       "      <td>0.412</td>\n",
       "      <td>-15.681</td>\n",
       "      <td>0.1246</td>\n",
       "      <td>1.6557</td>\n",
       "    </tr>\n",
       "    <tr>\n",
       "      <th>3</th>\n",
       "      <td>J0001.9+1204</td>\n",
       "      <td>0.488</td>\n",
       "      <td>12.073</td>\n",
       "      <td>0.2033</td>\n",
       "      <td>2.6927</td>\n",
       "    </tr>\n",
       "    <tr>\n",
       "      <th>4</th>\n",
       "      <td>J0003.1-0605</td>\n",
       "      <td>0.799</td>\n",
       "      <td>-6.086</td>\n",
       "      <td>0.2320</td>\n",
       "      <td>5.2188</td>\n",
       "    </tr>\n",
       "  </tbody>\n",
       "</table>\n",
       "</div>"
      ],
      "text/plain": [
       "           MCXC  RAdeg   DEdeg       z    M500\n",
       "0  J0000.1+0816  0.030   8.274  0.0396  0.7373\n",
       "1  J0000.4-0237  0.103  -2.625  0.0379  0.3297\n",
       "2  J0001.6-1540  0.412 -15.681  0.1246  1.6557\n",
       "3  J0001.9+1204  0.488  12.073  0.2033  2.6927\n",
       "4  J0003.1-0605  0.799  -6.086  0.2320  5.2188"
      ]
     },
     "execution_count": 10,
     "metadata": {},
     "output_type": "execute_result"
    }
   ],
   "source": [
    "mcxc.head()"
   ]
  },
  {
   "cell_type": "code",
   "execution_count": 11,
   "metadata": {
    "ExecuteTime": {
     "end_time": "2020-04-01T17:26:38.714412Z",
     "start_time": "2020-04-01T17:26:38.710940Z"
    }
   },
   "outputs": [
    {
     "data": {
      "text/plain": [
       "(1743, 5)"
      ]
     },
     "execution_count": 11,
     "metadata": {},
     "output_type": "execute_result"
    }
   ],
   "source": [
    "mcxc.shape"
   ]
  },
  {
   "cell_type": "code",
   "execution_count": 33,
   "metadata": {
    "ExecuteTime": {
     "end_time": "2020-04-01T18:07:26.151190Z",
     "start_time": "2020-04-01T18:07:26.068756Z"
    }
   },
   "outputs": [
    {
     "name": "stdout",
     "output_type": "stream",
     "text": [
      "['ID', 'NAME', 'RA', 'DEC', 'Z_LAMBDA', 'Z_LAMBDA_ERR', 'LAMBDA', 'LAMBDA_ERR', 'S', 'Z_SPEC', 'OBJID', 'IMAG', 'IMAG_ERR', 'MODEL_MAG_U', 'MODEL_MAGERR_U', 'MODEL_MAG_G', 'MODEL_MAGERR_G', 'MODEL_MAG_R', 'MODEL_MAGERR_R', 'MODEL_MAG_I', 'MODEL_MAGERR_I', 'MODEL_MAG_Z', 'MODEL_MAGERR_Z', 'ILUM', 'P_CEN', 'RA_CEN', 'DEC_CEN', 'ID_CEN', 'PZBINS', 'PZ']\n"
     ]
    }
   ],
   "source": [
    "redmapper_ = pd.DataFrame([])\n",
    "with fits.open('./redmapper_dr8_public_v6.3_catalog.fits') as table:\n",
    "    data = table[1].data\n",
    "    keys = data.names\n",
    "    print(keys)\n",
    "    saved_keys = ['NAME', 'RA', 'DEC', 'LAMBDA','Z_SPEC']\n",
    "    for key in saved_keys:\n",
    "        redmapper_[key] = data[key]"
   ]
  },
  {
   "cell_type": "code",
   "execution_count": 34,
   "metadata": {
    "ExecuteTime": {
     "end_time": "2020-04-01T18:08:28.158994Z",
     "start_time": "2020-04-01T18:08:28.132650Z"
    }
   },
   "outputs": [],
   "source": [
    "inter = redmapper_['NAME'].isin(set(redmapper_['NAME']).intersection(set(planck['RedMAPPer'])))\n",
    "r_inter_p = redmapper_[inter]"
   ]
  },
  {
   "cell_type": "code",
   "execution_count": 35,
   "metadata": {
    "ExecuteTime": {
     "end_time": "2020-04-01T18:08:37.711634Z",
     "start_time": "2020-04-01T18:08:37.702487Z"
    }
   },
   "outputs": [
    {
     "data": {
      "text/plain": [
       "(300, 5)"
      ]
     },
     "execution_count": 35,
     "metadata": {},
     "output_type": "execute_result"
    }
   ],
   "source": [
    "r_inter_p.shape"
   ]
  },
  {
   "cell_type": "code",
   "execution_count": 14,
   "metadata": {
    "ExecuteTime": {
     "end_time": "2020-04-01T17:28:23.278668Z",
     "start_time": "2020-04-01T17:28:23.265799Z"
    }
   },
   "outputs": [
    {
     "data": {
      "text/html": [
       "<div>\n",
       "<style scoped>\n",
       "    .dataframe tbody tr th:only-of-type {\n",
       "        vertical-align: middle;\n",
       "    }\n",
       "\n",
       "    .dataframe tbody tr th {\n",
       "        vertical-align: top;\n",
       "    }\n",
       "\n",
       "    .dataframe thead th {\n",
       "        text-align: right;\n",
       "    }\n",
       "</style>\n",
       "<table border=\"1\" class=\"dataframe\">\n",
       "  <thead>\n",
       "    <tr style=\"text-align: right;\">\n",
       "      <th></th>\n",
       "      <th>NAME</th>\n",
       "      <th>RA</th>\n",
       "      <th>DEC</th>\n",
       "      <th>LAMBDA</th>\n",
       "      <th>Z_SPEC</th>\n",
       "    </tr>\n",
       "  </thead>\n",
       "  <tbody>\n",
       "    <tr>\n",
       "      <th>0</th>\n",
       "      <td>RMJ155820.0+271400.3</td>\n",
       "      <td>239.583329</td>\n",
       "      <td>27.233413</td>\n",
       "      <td>169.837845</td>\n",
       "      <td>0.090807</td>\n",
       "    </tr>\n",
       "    <tr>\n",
       "      <th>1</th>\n",
       "      <td>RMJ164019.8+464241.5</td>\n",
       "      <td>250.082548</td>\n",
       "      <td>46.711531</td>\n",
       "      <td>199.539276</td>\n",
       "      <td>-1.000000</td>\n",
       "    </tr>\n",
       "    <tr>\n",
       "      <th>2</th>\n",
       "      <td>RMJ131129.5-012028.0</td>\n",
       "      <td>197.872957</td>\n",
       "      <td>-1.341116</td>\n",
       "      <td>164.712173</td>\n",
       "      <td>-1.000000</td>\n",
       "    </tr>\n",
       "    <tr>\n",
       "      <th>3</th>\n",
       "      <td>RMJ090912.2+105824.9</td>\n",
       "      <td>137.300745</td>\n",
       "      <td>10.973595</td>\n",
       "      <td>174.704178</td>\n",
       "      <td>-1.000000</td>\n",
       "    </tr>\n",
       "    <tr>\n",
       "      <th>4</th>\n",
       "      <td>RMJ133520.1+410004.1</td>\n",
       "      <td>203.833723</td>\n",
       "      <td>41.001146</td>\n",
       "      <td>189.181152</td>\n",
       "      <td>0.228309</td>\n",
       "    </tr>\n",
       "  </tbody>\n",
       "</table>\n",
       "</div>"
      ],
      "text/plain": [
       "                   NAME          RA        DEC      LAMBDA    Z_SPEC\n",
       "0  RMJ155820.0+271400.3  239.583329  27.233413  169.837845  0.090807\n",
       "1  RMJ164019.8+464241.5  250.082548  46.711531  199.539276 -1.000000\n",
       "2  RMJ131129.5-012028.0  197.872957  -1.341116  164.712173 -1.000000\n",
       "3  RMJ090912.2+105824.9  137.300745  10.973595  174.704178 -1.000000\n",
       "4  RMJ133520.1+410004.1  203.833723  41.001146  189.181152  0.228309"
      ]
     },
     "execution_count": 14,
     "metadata": {},
     "output_type": "execute_result"
    }
   ],
   "source": [
    "redmapper.head()"
   ]
  },
  {
   "cell_type": "code",
   "execution_count": 15,
   "metadata": {
    "ExecuteTime": {
     "end_time": "2020-04-01T17:28:29.157292Z",
     "start_time": "2020-04-01T17:28:29.148038Z"
    }
   },
   "outputs": [
    {
     "data": {
      "text/plain": [
       "(26111, 5)"
      ]
     },
     "execution_count": 15,
     "metadata": {},
     "output_type": "execute_result"
    }
   ],
   "source": [
    "redmapper.shape"
   ]
  },
  {
   "cell_type": "code",
   "execution_count": 17,
   "metadata": {
    "ExecuteTime": {
     "end_time": "2020-04-01T17:29:55.717843Z",
     "start_time": "2020-04-01T17:29:55.691017Z"
    }
   },
   "outputs": [
    {
     "data": {
      "text/plain": [
       "(1193, 5)"
      ]
     },
     "execution_count": 17,
     "metadata": {},
     "output_type": "execute_result"
    }
   ],
   "source": [
    "filter_mcxc_no_p = mcxc['MCXC'].isin(set(mcxc['MCXC']).difference(set(planck['MCXC'])))\n",
    "mcxc = mcxc[filter_mcxc_no_p]\n",
    "mcxc.shape"
   ]
  },
  {
   "cell_type": "code",
   "execution_count": 18,
   "metadata": {
    "ExecuteTime": {
     "end_time": "2020-04-01T17:31:06.143142Z",
     "start_time": "2020-04-01T17:31:06.112694Z"
    }
   },
   "outputs": [
    {
     "data": {
      "text/plain": [
       "(25811, 5)"
      ]
     },
     "execution_count": 18,
     "metadata": {},
     "output_type": "execute_result"
    }
   ],
   "source": [
    "filter_redmapper_no_p = redmapper['NAME'].isin(set(redmapper['NAME']).difference(set(planck['RedMAPPer'])))\n",
    "redmapper = redmapper[filter_redmapper_no_p]\n",
    "redmapper.shape"
   ]
  },
  {
   "cell_type": "code",
   "execution_count": 19,
   "metadata": {
    "ExecuteTime": {
     "end_time": "2020-04-01T17:31:50.722606Z",
     "start_time": "2020-04-01T17:31:50.356404Z"
    }
   },
   "outputs": [
    {
     "data": {
      "text/html": [
       "<div>\n",
       "<style scoped>\n",
       "    .dataframe tbody tr th:only-of-type {\n",
       "        vertical-align: middle;\n",
       "    }\n",
       "\n",
       "    .dataframe tbody tr th {\n",
       "        vertical-align: top;\n",
       "    }\n",
       "\n",
       "    .dataframe thead th {\n",
       "        text-align: right;\n",
       "    }\n",
       "</style>\n",
       "<table border=\"1\" class=\"dataframe\">\n",
       "  <thead>\n",
       "    <tr style=\"text-align: right;\">\n",
       "      <th></th>\n",
       "      <th>NAME</th>\n",
       "      <th>RA</th>\n",
       "      <th>DEC</th>\n",
       "      <th>LAMBDA</th>\n",
       "      <th>Z_SPEC</th>\n",
       "      <th>dist</th>\n",
       "    </tr>\n",
       "  </thead>\n",
       "  <tbody>\n",
       "    <tr>\n",
       "      <th>7</th>\n",
       "      <td>RMJ100214.1+203216.6</td>\n",
       "      <td>150.558906</td>\n",
       "      <td>20.537949</td>\n",
       "      <td>151.364075</td>\n",
       "      <td>0.319619</td>\n",
       "      <td>None</td>\n",
       "    </tr>\n",
       "    <tr>\n",
       "      <th>11</th>\n",
       "      <td>RMJ004629.3+202804.8</td>\n",
       "      <td>11.622200</td>\n",
       "      <td>20.468013</td>\n",
       "      <td>123.355934</td>\n",
       "      <td>-1.000000</td>\n",
       "      <td>None</td>\n",
       "    </tr>\n",
       "    <tr>\n",
       "      <th>16</th>\n",
       "      <td>RMJ092030.0+302946.8</td>\n",
       "      <td>140.125081</td>\n",
       "      <td>30.496347</td>\n",
       "      <td>38.690826</td>\n",
       "      <td>-1.000000</td>\n",
       "      <td>None</td>\n",
       "    </tr>\n",
       "    <tr>\n",
       "      <th>18</th>\n",
       "      <td>RMJ092052.5+302740.3</td>\n",
       "      <td>140.218892</td>\n",
       "      <td>30.461187</td>\n",
       "      <td>128.649414</td>\n",
       "      <td>0.292902</td>\n",
       "      <td>None</td>\n",
       "    </tr>\n",
       "    <tr>\n",
       "      <th>19</th>\n",
       "      <td>RMJ133359.1+201801.3</td>\n",
       "      <td>203.496397</td>\n",
       "      <td>20.300356</td>\n",
       "      <td>26.471594</td>\n",
       "      <td>0.176180</td>\n",
       "      <td>None</td>\n",
       "    </tr>\n",
       "  </tbody>\n",
       "</table>\n",
       "</div>"
      ],
      "text/plain": [
       "                    NAME          RA        DEC      LAMBDA    Z_SPEC  dist\n",
       "7   RMJ100214.1+203216.6  150.558906  20.537949  151.364075  0.319619  None\n",
       "11  RMJ004629.3+202804.8   11.622200  20.468013  123.355934 -1.000000  None\n",
       "16  RMJ092030.0+302946.8  140.125081  30.496347   38.690826 -1.000000  None\n",
       "18  RMJ092052.5+302740.3  140.218892  30.461187  128.649414  0.292902  None\n",
       "19  RMJ133359.1+201801.3  203.496397  20.300356   26.471594  0.176180  None"
      ]
     },
     "execution_count": 19,
     "metadata": {},
     "output_type": "execute_result"
    }
   ],
   "source": [
    "redmapper['dist'] = None\n",
    "redmapper.head()"
   ]
  },
  {
   "cell_type": "code",
   "execution_count": 20,
   "metadata": {
    "ExecuteTime": {
     "end_time": "2020-04-01T17:32:22.861602Z",
     "start_time": "2020-04-01T17:32:22.848445Z"
    }
   },
   "outputs": [],
   "source": [
    "def ra_dec_distance(ra, dec, ra1, dec1):\n",
    "    import numpy as np\n",
    "    from astropy import units as u\n",
    "    from astropy.coordinates import SkyCoord\n",
    "    c1 = SkyCoord(ra=ra, dec=dec, unit='deg')\n",
    "    c2 = SkyCoord(ra=ra1, dec=dec1, unit='deg')\n",
    "    sep = c1.separation(c2)\n",
    "    return sep.degree"
   ]
  },
  {
   "cell_type": "code",
   "execution_count": 29,
   "metadata": {
    "ExecuteTime": {
     "end_time": "2020-04-01T17:43:53.606333Z",
     "start_time": "2020-04-01T17:43:53.591569Z"
    }
   },
   "outputs": [
    {
     "data": {
      "text/html": [
       "<div>\n",
       "<style scoped>\n",
       "    .dataframe tbody tr th:only-of-type {\n",
       "        vertical-align: middle;\n",
       "    }\n",
       "\n",
       "    .dataframe tbody tr th {\n",
       "        vertical-align: top;\n",
       "    }\n",
       "\n",
       "    .dataframe thead th {\n",
       "        text-align: right;\n",
       "    }\n",
       "</style>\n",
       "<table border=\"1\" class=\"dataframe\">\n",
       "  <thead>\n",
       "    <tr style=\"text-align: right;\">\n",
       "      <th></th>\n",
       "      <th>NAME</th>\n",
       "      <th>RA</th>\n",
       "      <th>DEC</th>\n",
       "      <th>LAMBDA</th>\n",
       "      <th>Z_SPEC</th>\n",
       "      <th>dist</th>\n",
       "    </tr>\n",
       "  </thead>\n",
       "  <tbody>\n",
       "    <tr>\n",
       "      <th>0</th>\n",
       "      <td>RMJ100214.1+203216.6</td>\n",
       "      <td>150.558906</td>\n",
       "      <td>20.537949</td>\n",
       "      <td>151.364075</td>\n",
       "      <td>0.319619</td>\n",
       "      <td>4</td>\n",
       "    </tr>\n",
       "    <tr>\n",
       "      <th>1</th>\n",
       "      <td>RMJ004629.3+202804.8</td>\n",
       "      <td>11.622200</td>\n",
       "      <td>20.468013</td>\n",
       "      <td>123.355934</td>\n",
       "      <td>-1.000000</td>\n",
       "      <td>None</td>\n",
       "    </tr>\n",
       "    <tr>\n",
       "      <th>2</th>\n",
       "      <td>RMJ092030.0+302946.8</td>\n",
       "      <td>140.125081</td>\n",
       "      <td>30.496347</td>\n",
       "      <td>38.690826</td>\n",
       "      <td>-1.000000</td>\n",
       "      <td>None</td>\n",
       "    </tr>\n",
       "    <tr>\n",
       "      <th>3</th>\n",
       "      <td>RMJ092052.5+302740.3</td>\n",
       "      <td>140.218892</td>\n",
       "      <td>30.461187</td>\n",
       "      <td>128.649414</td>\n",
       "      <td>0.292902</td>\n",
       "      <td>None</td>\n",
       "    </tr>\n",
       "    <tr>\n",
       "      <th>4</th>\n",
       "      <td>RMJ133359.1+201801.3</td>\n",
       "      <td>203.496397</td>\n",
       "      <td>20.300356</td>\n",
       "      <td>26.471594</td>\n",
       "      <td>0.176180</td>\n",
       "      <td>None</td>\n",
       "    </tr>\n",
       "  </tbody>\n",
       "</table>\n",
       "</div>"
      ],
      "text/plain": [
       "                   NAME          RA        DEC      LAMBDA    Z_SPEC  dist\n",
       "0  RMJ100214.1+203216.6  150.558906  20.537949  151.364075  0.319619     4\n",
       "1  RMJ004629.3+202804.8   11.622200  20.468013  123.355934 -1.000000  None\n",
       "2  RMJ092030.0+302946.8  140.125081  30.496347   38.690826 -1.000000  None\n",
       "3  RMJ092052.5+302740.3  140.218892  30.461187  128.649414  0.292902  None\n",
       "4  RMJ133359.1+201801.3  203.496397  20.300356   26.471594  0.176180  None"
      ]
     },
     "execution_count": 29,
     "metadata": {},
     "output_type": "execute_result"
    }
   ],
   "source": [
    "redmapper = redmapper.reset_index(drop=True)\n",
    "redmapper.loc[0,'dist'] = 4\n",
    "redmapper.head()"
   ]
  },
  {
   "cell_type": "code",
   "execution_count": 30,
   "metadata": {
    "ExecuteTime": {
     "end_time": "2020-04-01T18:01:38.775671Z",
     "start_time": "2020-04-01T17:44:15.300465Z"
    }
   },
   "outputs": [],
   "source": [
    "for i in range(redmapper.shape[0]):\n",
    "    d = ra_dec_distance(redmapper.iloc[i]['RA'], redmapper.iloc[i]['DEC'], \n",
    "                       mcxc['RAdeg'], mcxc['DEdeg'])\n",
    "    redmapper.loc[i, 'dist'] = min(d)"
   ]
  },
  {
   "cell_type": "code",
   "execution_count": 31,
   "metadata": {
    "ExecuteTime": {
     "end_time": "2020-04-01T18:05:01.788067Z",
     "start_time": "2020-04-01T18:05:01.587096Z"
    }
   },
   "outputs": [],
   "source": [
    "redmapper.to_csv('./redmapper_w_dists.csv')"
   ]
  },
  {
   "cell_type": "code",
   "execution_count": 32,
   "metadata": {
    "ExecuteTime": {
     "end_time": "2020-04-01T18:06:48.137440Z",
     "start_time": "2020-04-01T18:06:48.129287Z"
    }
   },
   "outputs": [
    {
     "data": {
      "text/html": [
       "<div>\n",
       "<style scoped>\n",
       "    .dataframe tbody tr th:only-of-type {\n",
       "        vertical-align: middle;\n",
       "    }\n",
       "\n",
       "    .dataframe tbody tr th {\n",
       "        vertical-align: top;\n",
       "    }\n",
       "\n",
       "    .dataframe thead th {\n",
       "        text-align: right;\n",
       "    }\n",
       "</style>\n",
       "<table border=\"1\" class=\"dataframe\">\n",
       "  <thead>\n",
       "    <tr style=\"text-align: right;\">\n",
       "      <th></th>\n",
       "      <th>NAME</th>\n",
       "      <th>RA</th>\n",
       "      <th>DEC</th>\n",
       "      <th>LAMBDA</th>\n",
       "      <th>Z_SPEC</th>\n",
       "      <th>dist</th>\n",
       "    </tr>\n",
       "  </thead>\n",
       "  <tbody>\n",
       "    <tr>\n",
       "      <th>0</th>\n",
       "      <td>RMJ100214.1+203216.6</td>\n",
       "      <td>150.558906</td>\n",
       "      <td>20.537949</td>\n",
       "      <td>151.364075</td>\n",
       "      <td>0.319619</td>\n",
       "      <td>1.94268</td>\n",
       "    </tr>\n",
       "    <tr>\n",
       "      <th>1</th>\n",
       "      <td>RMJ004629.3+202804.8</td>\n",
       "      <td>11.622200</td>\n",
       "      <td>20.468013</td>\n",
       "      <td>123.355934</td>\n",
       "      <td>-1.000000</td>\n",
       "      <td>1.44968</td>\n",
       "    </tr>\n",
       "    <tr>\n",
       "      <th>2</th>\n",
       "      <td>RMJ092030.0+302946.8</td>\n",
       "      <td>140.125081</td>\n",
       "      <td>30.496347</td>\n",
       "      <td>38.690826</td>\n",
       "      <td>-1.000000</td>\n",
       "      <td>3.26683</td>\n",
       "    </tr>\n",
       "    <tr>\n",
       "      <th>3</th>\n",
       "      <td>RMJ092052.5+302740.3</td>\n",
       "      <td>140.218892</td>\n",
       "      <td>30.461187</td>\n",
       "      <td>128.649414</td>\n",
       "      <td>0.292902</td>\n",
       "      <td>3.30637</td>\n",
       "    </tr>\n",
       "    <tr>\n",
       "      <th>4</th>\n",
       "      <td>RMJ133359.1+201801.3</td>\n",
       "      <td>203.496397</td>\n",
       "      <td>20.300356</td>\n",
       "      <td>26.471594</td>\n",
       "      <td>0.176180</td>\n",
       "      <td>2.2222</td>\n",
       "    </tr>\n",
       "  </tbody>\n",
       "</table>\n",
       "</div>"
      ],
      "text/plain": [
       "                   NAME          RA        DEC      LAMBDA    Z_SPEC     dist\n",
       "0  RMJ100214.1+203216.6  150.558906  20.537949  151.364075  0.319619  1.94268\n",
       "1  RMJ004629.3+202804.8   11.622200  20.468013  123.355934 -1.000000  1.44968\n",
       "2  RMJ092030.0+302946.8  140.125081  30.496347   38.690826 -1.000000  3.26683\n",
       "3  RMJ092052.5+302740.3  140.218892  30.461187  128.649414  0.292902  3.30637\n",
       "4  RMJ133359.1+201801.3  203.496397  20.300356   26.471594  0.176180   2.2222"
      ]
     },
     "execution_count": 32,
     "metadata": {},
     "output_type": "execute_result"
    }
   ],
   "source": [
    "redmapper.head()"
   ]
  },
  {
   "cell_type": "code",
   "execution_count": 36,
   "metadata": {
    "ExecuteTime": {
     "end_time": "2020-04-01T18:11:09.950609Z",
     "start_time": "2020-04-01T18:10:53.640555Z"
    }
   },
   "outputs": [
    {
     "name": "stderr",
     "output_type": "stream",
     "text": [
      "/home/rt2122/anaconda3/lib/python3.7/site-packages/ipykernel_launcher.py:1: SettingWithCopyWarning: \n",
      "A value is trying to be set on a copy of a slice from a DataFrame.\n",
      "Try using .loc[row_indexer,col_indexer] = value instead\n",
      "\n",
      "See the caveats in the documentation: http://pandas.pydata.org/pandas-docs/stable/indexing.html#indexing-view-versus-copy\n",
      "  \"\"\"Entry point for launching an IPython kernel.\n"
     ]
    }
   ],
   "source": [
    "r_inter_p['dist'] = None\n",
    "r_inter_p = r_inter_p.reset_index()\n",
    "for i in range(r_inter_p.shape[0]):\n",
    "    d = ra_dec_distance(r_inter_p.iloc[i]['RA'], r_inter_p.iloc[i]['DEC'], \n",
    "                       planck['RAdeg'], planck['DEdeg'])\n",
    "    r_inter_p.loc[i, 'dist'] = min(d)"
   ]
  },
  {
   "cell_type": "code",
   "execution_count": 37,
   "metadata": {
    "ExecuteTime": {
     "end_time": "2020-04-01T18:11:16.716766Z",
     "start_time": "2020-04-01T18:11:16.707616Z"
    }
   },
   "outputs": [
    {
     "data": {
      "text/html": [
       "<div>\n",
       "<style scoped>\n",
       "    .dataframe tbody tr th:only-of-type {\n",
       "        vertical-align: middle;\n",
       "    }\n",
       "\n",
       "    .dataframe tbody tr th {\n",
       "        vertical-align: top;\n",
       "    }\n",
       "\n",
       "    .dataframe thead th {\n",
       "        text-align: right;\n",
       "    }\n",
       "</style>\n",
       "<table border=\"1\" class=\"dataframe\">\n",
       "  <thead>\n",
       "    <tr style=\"text-align: right;\">\n",
       "      <th></th>\n",
       "      <th>index</th>\n",
       "      <th>NAME</th>\n",
       "      <th>RA</th>\n",
       "      <th>DEC</th>\n",
       "      <th>LAMBDA</th>\n",
       "      <th>Z_SPEC</th>\n",
       "      <th>dist</th>\n",
       "    </tr>\n",
       "  </thead>\n",
       "  <tbody>\n",
       "    <tr>\n",
       "      <th>0</th>\n",
       "      <td>0</td>\n",
       "      <td>RMJ155820.0+271400.3</td>\n",
       "      <td>239.583329</td>\n",
       "      <td>27.233413</td>\n",
       "      <td>169.837845</td>\n",
       "      <td>0.090807</td>\n",
       "      <td>0.0260783</td>\n",
       "    </tr>\n",
       "    <tr>\n",
       "      <th>1</th>\n",
       "      <td>1</td>\n",
       "      <td>RMJ164019.8+464241.5</td>\n",
       "      <td>250.082548</td>\n",
       "      <td>46.711531</td>\n",
       "      <td>199.539276</td>\n",
       "      <td>-1.000000</td>\n",
       "      <td>0.00804658</td>\n",
       "    </tr>\n",
       "    <tr>\n",
       "      <th>2</th>\n",
       "      <td>2</td>\n",
       "      <td>RMJ131129.5-012028.0</td>\n",
       "      <td>197.872957</td>\n",
       "      <td>-1.341116</td>\n",
       "      <td>164.712173</td>\n",
       "      <td>-1.000000</td>\n",
       "      <td>0.0134923</td>\n",
       "    </tr>\n",
       "    <tr>\n",
       "      <th>3</th>\n",
       "      <td>3</td>\n",
       "      <td>RMJ090912.2+105824.9</td>\n",
       "      <td>137.300745</td>\n",
       "      <td>10.973595</td>\n",
       "      <td>174.704178</td>\n",
       "      <td>-1.000000</td>\n",
       "      <td>0.0170277</td>\n",
       "    </tr>\n",
       "    <tr>\n",
       "      <th>4</th>\n",
       "      <td>4</td>\n",
       "      <td>RMJ133520.1+410004.1</td>\n",
       "      <td>203.833723</td>\n",
       "      <td>41.001146</td>\n",
       "      <td>189.181152</td>\n",
       "      <td>0.228309</td>\n",
       "      <td>0.0244114</td>\n",
       "    </tr>\n",
       "  </tbody>\n",
       "</table>\n",
       "</div>"
      ],
      "text/plain": [
       "   index                  NAME          RA        DEC      LAMBDA    Z_SPEC  \\\n",
       "0      0  RMJ155820.0+271400.3  239.583329  27.233413  169.837845  0.090807   \n",
       "1      1  RMJ164019.8+464241.5  250.082548  46.711531  199.539276 -1.000000   \n",
       "2      2  RMJ131129.5-012028.0  197.872957  -1.341116  164.712173 -1.000000   \n",
       "3      3  RMJ090912.2+105824.9  137.300745  10.973595  174.704178 -1.000000   \n",
       "4      4  RMJ133520.1+410004.1  203.833723  41.001146  189.181152  0.228309   \n",
       "\n",
       "         dist  \n",
       "0   0.0260783  \n",
       "1  0.00804658  \n",
       "2   0.0134923  \n",
       "3   0.0170277  \n",
       "4   0.0244114  "
      ]
     },
     "execution_count": 37,
     "metadata": {},
     "output_type": "execute_result"
    }
   ],
   "source": [
    "r_inter_p.head()"
   ]
  },
  {
   "cell_type": "code",
   "execution_count": 38,
   "metadata": {
    "ExecuteTime": {
     "end_time": "2020-04-01T18:11:30.895639Z",
     "start_time": "2020-04-01T18:11:30.891424Z"
    }
   },
   "outputs": [
    {
     "data": {
      "text/plain": [
       "0.0012781551389953582"
      ]
     },
     "execution_count": 38,
     "metadata": {},
     "output_type": "execute_result"
    }
   ],
   "source": [
    "r_inter_p['dist'].min()"
   ]
  },
  {
   "cell_type": "code",
   "execution_count": 39,
   "metadata": {
    "ExecuteTime": {
     "end_time": "2020-04-01T18:12:09.057551Z",
     "start_time": "2020-04-01T18:12:09.047172Z"
    }
   },
   "outputs": [],
   "source": [
    "def histogram(data, n_bins = 0):\n",
    "    import matplotlib.pyplot as plt\n",
    "    max_nbins = 10\n",
    "    data_range = [min(data), max(data)]\n",
    "    bins = n_bins\n",
    "\n",
    "    _, ax = plt.subplots()\n",
    "    ax.hist(data, bins = bins, alpha = 1, label = \"\")\n",
    "    ax.set_ylabel(\"\")\n",
    "    ax.set_xlabel(\"\")\n",
    "    ax.set_title(\"\")\n",
    "    ax.legend(loc = 'best')"
   ]
  },
  {
   "cell_type": "code",
   "execution_count": null,
   "metadata": {
    "ExecuteTime": {
     "start_time": "2020-04-01T18:12:23.795Z"
    }
   },
   "outputs": [],
   "source": [
    "histogram(r_inter_p['dist'], 100)"
   ]
  },
  {
   "cell_type": "code",
   "execution_count": null,
   "metadata": {},
   "outputs": [],
   "source": []
  }
 ],
 "metadata": {
  "kernelspec": {
   "display_name": "Python 3",
   "language": "python",
   "name": "python3"
  },
  "language_info": {
   "codemirror_mode": {
    "name": "ipython",
    "version": 3
   },
   "file_extension": ".py",
   "mimetype": "text/x-python",
   "name": "python",
   "nbconvert_exporter": "python",
   "pygments_lexer": "ipython3",
   "version": "3.7.3"
  }
 },
 "nbformat": 4,
 "nbformat_minor": 2
}
