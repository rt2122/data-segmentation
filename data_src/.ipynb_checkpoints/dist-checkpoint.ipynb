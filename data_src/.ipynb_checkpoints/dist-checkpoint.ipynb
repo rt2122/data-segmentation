{
 "cells": [
  {
   "cell_type": "code",
   "execution_count": 1,
   "metadata": {
    "ExecuteTime": {
     "end_time": "2020-04-01T09:20:23.429959Z",
     "start_time": "2020-04-01T09:20:17.623205Z"
    }
   },
   "outputs": [],
   "source": [
    "import pandas as pd"
   ]
  },
  {
   "cell_type": "code",
   "execution_count": 2,
   "metadata": {
    "ExecuteTime": {
     "end_time": "2020-04-01T09:20:23.760525Z",
     "start_time": "2020-04-01T09:20:23.434669Z"
    }
   },
   "outputs": [],
   "source": [
    "mcxc = pd.read_csv('MCXC.csv')"
   ]
  },
  {
   "cell_type": "code",
   "execution_count": 3,
   "metadata": {
    "ExecuteTime": {
     "end_time": "2020-04-01T09:20:23.896811Z",
     "start_time": "2020-04-01T09:20:23.764091Z"
    }
   },
   "outputs": [
    {
     "data": {
      "text/html": [
       "<div>\n",
       "<style scoped>\n",
       "    .dataframe tbody tr th:only-of-type {\n",
       "        vertical-align: middle;\n",
       "    }\n",
       "\n",
       "    .dataframe tbody tr th {\n",
       "        vertical-align: top;\n",
       "    }\n",
       "\n",
       "    .dataframe thead th {\n",
       "        text-align: right;\n",
       "    }\n",
       "</style>\n",
       "<table border=\"1\" class=\"dataframe\">\n",
       "  <thead>\n",
       "    <tr style=\"text-align: right;\">\n",
       "      <th></th>\n",
       "      <th>Unnamed: 0</th>\n",
       "      <th>MCXC</th>\n",
       "      <th>OName</th>\n",
       "      <th>AName</th>\n",
       "      <th>RAdeg</th>\n",
       "      <th>DEdeg</th>\n",
       "      <th>z</th>\n",
       "      <th>M500</th>\n",
       "    </tr>\n",
       "  </thead>\n",
       "  <tbody>\n",
       "    <tr>\n",
       "      <th>0</th>\n",
       "      <td>0</td>\n",
       "      <td>J0000.1+0816</td>\n",
       "      <td>RXC J0000.1+0816</td>\n",
       "      <td>UGC 12890                                     ...</td>\n",
       "      <td>0.030</td>\n",
       "      <td>8.274</td>\n",
       "      <td>0.0396</td>\n",
       "      <td>0.7373</td>\n",
       "    </tr>\n",
       "    <tr>\n",
       "      <th>1</th>\n",
       "      <td>1</td>\n",
       "      <td>J0000.4-0237</td>\n",
       "      <td>RXC J0000.4-0237</td>\n",
       "      <td>...</td>\n",
       "      <td>0.103</td>\n",
       "      <td>-2.625</td>\n",
       "      <td>0.0379</td>\n",
       "      <td>0.3297</td>\n",
       "    </tr>\n",
       "    <tr>\n",
       "      <th>2</th>\n",
       "      <td>2</td>\n",
       "      <td>J0001.6-1540</td>\n",
       "      <td>RXC J0001.6-1540</td>\n",
       "      <td>...</td>\n",
       "      <td>0.412</td>\n",
       "      <td>-15.681</td>\n",
       "      <td>0.1246</td>\n",
       "      <td>1.6557</td>\n",
       "    </tr>\n",
       "    <tr>\n",
       "      <th>3</th>\n",
       "      <td>3</td>\n",
       "      <td>J0001.9+1204</td>\n",
       "      <td>RXC J0001.9+1204</td>\n",
       "      <td>A2692                                         ...</td>\n",
       "      <td>0.488</td>\n",
       "      <td>12.073</td>\n",
       "      <td>0.2033</td>\n",
       "      <td>2.6927</td>\n",
       "    </tr>\n",
       "    <tr>\n",
       "      <th>4</th>\n",
       "      <td>4</td>\n",
       "      <td>J0003.1-0605</td>\n",
       "      <td>RXCJ0003.1-0605</td>\n",
       "      <td>A2697                                         ...</td>\n",
       "      <td>0.799</td>\n",
       "      <td>-6.086</td>\n",
       "      <td>0.2320</td>\n",
       "      <td>5.2188</td>\n",
       "    </tr>\n",
       "  </tbody>\n",
       "</table>\n",
       "</div>"
      ],
      "text/plain": [
       "   Unnamed: 0          MCXC               OName  \\\n",
       "0           0  J0000.1+0816  RXC J0000.1+0816     \n",
       "1           1  J0000.4-0237  RXC J0000.4-0237     \n",
       "2           2  J0001.6-1540  RXC J0001.6-1540     \n",
       "3           3  J0001.9+1204  RXC J0001.9+1204     \n",
       "4           4  J0003.1-0605  RXCJ0003.1-0605      \n",
       "\n",
       "                                               AName  RAdeg   DEdeg       z  \\\n",
       "0  UGC 12890                                     ...  0.030   8.274  0.0396   \n",
       "1                                                ...  0.103  -2.625  0.0379   \n",
       "2                                                ...  0.412 -15.681  0.1246   \n",
       "3  A2692                                         ...  0.488  12.073  0.2033   \n",
       "4  A2697                                         ...  0.799  -6.086  0.2320   \n",
       "\n",
       "     M500  \n",
       "0  0.7373  \n",
       "1  0.3297  \n",
       "2  1.6557  \n",
       "3  2.6927  \n",
       "4  5.2188  "
      ]
     },
     "execution_count": 3,
     "metadata": {},
     "output_type": "execute_result"
    }
   ],
   "source": [
    "mcxc.head()"
   ]
  },
  {
   "cell_type": "code",
   "execution_count": 4,
   "metadata": {
    "ExecuteTime": {
     "end_time": "2020-04-01T09:21:22.567120Z",
     "start_time": "2020-04-01T09:21:19.511867Z"
    }
   },
   "outputs": [
    {
     "name": "stdout",
     "output_type": "stream",
     "text": [
      "['ID', 'NAME', 'RA', 'DEC', 'Z_LAMBDA', 'Z_LAMBDA_ERR', 'LAMBDA', 'LAMBDA_ERR', 'S', 'Z_SPEC', 'OBJID', 'IMAG', 'IMAG_ERR', 'MODEL_MAG_U', 'MODEL_MAGERR_U', 'MODEL_MAG_G', 'MODEL_MAGERR_G', 'MODEL_MAG_R', 'MODEL_MAGERR_R', 'MODEL_MAG_I', 'MODEL_MAGERR_I', 'MODEL_MAG_Z', 'MODEL_MAGERR_Z', 'ILUM', 'P_CEN', 'RA_CEN', 'DEC_CEN', 'ID_CEN', 'PZBINS', 'PZ']\n",
      "NAME \t RMJ000002.3+051717.8 \t RMJ235954.1-110813.5\n",
      "RA \t 0.009573451801770716 \t 359.9754387159011\n",
      "DEC \t -11.201826615164308 \t 68.72255623374552\n",
      "LAMBDA \t 19.850935 \t 299.45935\n",
      "Z_SPEC \t -1.0 \t 0.943789\n",
      "                   NAME          RA        DEC      LAMBDA    Z_SPEC\n",
      "0  RMJ155820.0+271400.3  239.583329  27.233413  169.837845  0.090807\n",
      "1  RMJ164019.8+464241.5  250.082548  46.711531  199.539276 -1.000000\n",
      "2  RMJ131129.5-012028.0  197.872957  -1.341116  164.712173 -1.000000\n",
      "3  RMJ090912.2+105824.9  137.300745  10.973595  174.704178 -1.000000\n",
      "4  RMJ133520.1+410004.1  203.833723  41.001146  189.181152  0.228309\n",
      "(26111, 5)\n"
     ]
    }
   ],
   "source": [
    "filename = '/home/rt2122/Desktop/data-segmentation/data_src/redmapper_dr8_public_v6.3_catalog.fits'\n",
    "from astropy.io import fits\n",
    "import pandas as pd\n",
    "r_z = None\n",
    "r_m = None\n",
    "redmapper = None\n",
    "with fits.open(filename) as table:\n",
    "    table.verify('fix')\n",
    "\n",
    "    data = table[1].data\n",
    "    keys = data.names\n",
    "    print(keys)\n",
    "    saved_keys = ['NAME', 'RA', 'DEC', 'LAMBDA', 'Z_SPEC']\n",
    "    \n",
    "    redmapper = pd.DataFrame([])\n",
    "    for key in saved_keys:\n",
    "        redmapper[key] = data[key]\n",
    "        print(key, '\\t', redmapper[key].min(), '\\t', redmapper[key].max())\n",
    "    print(redmapper.head())\n",
    "    print(redmapper.shape)\n",
    "    redmapper.to_csv('./redmapper.csv')\n"
   ]
  },
  {
   "cell_type": "code",
   "execution_count": 5,
   "metadata": {
    "ExecuteTime": {
     "end_time": "2020-04-01T09:22:37.230253Z",
     "start_time": "2020-04-01T09:22:37.223631Z"
    }
   },
   "outputs": [],
   "source": [
    "def ra_dec_distance(ra, dec, ra1, dec1):\n",
    "    import numpy as np\n",
    "    from astropy import units as u\n",
    "    from astropy.coordinates import SkyCoord\n",
    "    c1 = SkyCoord(ra=ra, dec=dec, unit='deg')\n",
    "    c2 = SkyCoord(ra=ra1, dec=dec1, unit='deg')\n",
    "    sep = c1.separation(c2)\n",
    "    return sep.degree"
   ]
  },
  {
   "cell_type": "code",
   "execution_count": 6,
   "metadata": {
    "ExecuteTime": {
     "end_time": "2020-04-01T09:50:59.622795Z",
     "start_time": "2020-04-01T09:24:14.864299Z"
    }
   },
   "outputs": [],
   "source": [
    "dists = []\n",
    "for i in range(mcxc.shape[0]):\n",
    "    d = ra_dec_distance(mcxc.iloc[i]['RAdeg'], mcxc.iloc[i]['DEdeg'],\n",
    "                       redmapper['RA'], redmapper['DEC'])\n",
    "    d = list(d)\n",
    "    d = [x for x in d if x < 1.0]\n",
    "    dists.extend(d)"
   ]
  },
  {
   "cell_type": "code",
   "execution_count": 8,
   "metadata": {
    "ExecuteTime": {
     "end_time": "2020-04-01T09:51:44.368925Z",
     "start_time": "2020-04-01T09:51:44.320751Z"
    }
   },
   "outputs": [],
   "source": [
    "len(dists)\n",
    "pd.DataFrame(dists).to_csv('./dists_less1.csv')"
   ]
  },
  {
   "cell_type": "code",
   "execution_count": 9,
   "metadata": {
    "ExecuteTime": {
     "end_time": "2020-04-01T09:51:48.854199Z",
     "start_time": "2020-04-01T09:51:48.847059Z"
    }
   },
   "outputs": [],
   "source": [
    "def histogram(data, n_bins = 0):\n",
    "    import matplotlib.pyplot as plt\n",
    "    max_nbins = 10\n",
    "    data_range = [min(data), max(data)]\n",
    "    bins = n_bins\n",
    "\n",
    "    _, ax = plt.subplots()\n",
    "    ax.hist(data, bins = bins, alpha = 1, label = \"\")\n",
    "    ax.set_ylabel(\"\")\n",
    "    ax.set_xlabel(\"\")\n",
    "    ax.set_title(\"\")\n",
    "    ax.legend(loc = 'best')"
   ]
  },
  {
   "cell_type": "code",
   "execution_count": 12,
   "metadata": {
    "ExecuteTime": {
     "end_time": "2020-04-01T09:52:10.124983Z",
     "start_time": "2020-04-01T09:52:09.044697Z"
    }
   },
   "outputs": [
    {
     "name": "stderr",
     "output_type": "stream",
     "text": [
      "No handles with labels found to put in legend.\n"
     ]
    },
    {
     "data": {
      "image/png": "[encoded data removed]",
      "text/plain": [
       "<Figure size 432x288 with 1 Axes>"
      ]
     },
     "metadata": {
      "needs_background": "light"
     },
     "output_type": "display_data"
    }
   ],
   "source": [
    "histogram(dists, 500)"
   ]
  },
  {
   "cell_type": "code",
   "execution_count": null,
   "metadata": {},
   "outputs": [],
   "source": []
  }
 ],
 "metadata": {
  "kernelspec": {
   "display_name": "Python 3",
   "language": "python",
   "name": "python3"
  },
  "language_info": {
   "codemirror_mode": {
    "name": "ipython",
    "version": 3
   },
   "file_extension": ".py",
   "mimetype": "text/x-python",
   "name": "python",
   "nbconvert_exporter": "python",
   "pygments_lexer": "ipython3",
   "version": "3.7.3"
  }
 },
 "nbformat": 4,
 "nbformat_minor": 2
}
