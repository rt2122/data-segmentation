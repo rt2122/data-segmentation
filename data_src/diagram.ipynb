{
 "cells": [
  {
   "cell_type": "code",
   "execution_count": 54,
   "metadata": {
    "ExecuteTime": {
     "end_time": "2020-03-26T12:34:46.107093Z",
     "start_time": "2020-03-26T12:34:46.006050Z"
    }
   },
   "outputs": [
    {
     "name": "stdout",
     "output_type": "stream",
     "text": [
      "['Index', 'Name', 'GLON', 'GLAT', 'RAdeg', 'DEdeg', 'e_pos', 'SNR', 'Pipeline', 'PipeDet', 'PCCS2', 'PSZ', 'f_IR', 'q_neural', 'Y5R500', 'e_Y5R500', 'Val', 'zID', 'z', 'MSZ', 'E_MSZ', 'e_MSZ', 'MCXC', 'RedMAPPer', 'ACT', 'SPT', 'f_WISE', 'AMIevi', 'COSMO', 'Comment']\n"
     ]
    },
    {
     "name": "stderr",
     "output_type": "stream",
     "text": [
      "WARNING: VerifyWarning: Verification reported errors: [astropy.io.fits.verify]\n",
      "WARNING: VerifyWarning: HDU 2: [astropy.io.fits.verify]\n",
      "WARNING: VerifyWarning:     Card 66: [astropy.io.fits.verify]\n",
      "WARNING: VerifyWarning:         Card 'TAMAX9' is not FITS standard (invalid value string: '-nan / Allowed maximal value').  Fixed 'TAMAX9' card to meet the FITS standard. [astropy.io.fits.verify]\n",
      "WARNING: VerifyWarning:     Card 73: [astropy.io.fits.verify]\n",
      "WARNING: VerifyWarning:         Card 'TAMIN10' is not FITS standard (invalid value string: '-nan / Allowed minimal value').  Fixed 'TAMIN10' card to meet the FITS standard. [astropy.io.fits.verify]\n",
      "WARNING: VerifyWarning:     Card 80: [astropy.io.fits.verify]\n",
      "WARNING: VerifyWarning:         Card 'TAMAX11' is not FITS standard (invalid value string: '-nan / Allowed maximal value').  Fixed 'TAMAX11' card to meet the FITS standard. [astropy.io.fits.verify]\n",
      "WARNING: VerifyWarning:     Card 87: [astropy.io.fits.verify]\n",
      "WARNING: VerifyWarning:         Card 'TAMIN12' is not FITS standard (invalid value string: '-nan / Allowed minimal value').  Fixed 'TAMIN12' card to meet the FITS standard. [astropy.io.fits.verify]\n",
      "WARNING: VerifyWarning: HDU 3: [astropy.io.fits.verify]\n",
      "WARNING: VerifyWarning: HDU 4: [astropy.io.fits.verify]\n",
      "WARNING: VerifyWarning: Note: astropy.io.fits uses zero-based indexing.\n",
      " [astropy.io.fits.verify]\n"
     ]
    }
   ],
   "source": [
    "from astropy.io import fits\n",
    "import numpy as np\n",
    "import matplotlib.pyplot as plt\n",
    "\n",
    "\n",
    "planck = '/home/rt2122/Desktop/data-segmentation/data_src/Planck_SZ2.fits'\n",
    "p_z = None\n",
    "with fits.open(planck) as table:\n",
    "    table.verify('fix')\n",
    "    data = table[1].data\n",
    "    keys = data.names\n",
    "    print(keys)\n",
    "    redshifts = np.array(data['z'])\n",
    "    redshifts = redshifts[redshifts != -1]\n",
    "    p_z = redshifts"
   ]
  },
  {
   "cell_type": "code",
   "execution_count": 21,
   "metadata": {
    "ExecuteTime": {
     "end_time": "2020-03-26T12:22:00.486250Z",
     "start_time": "2020-03-26T12:22:00.418847Z"
    }
   },
   "outputs": [],
   "source": [
    "mcxc = '/home/rt2122/Desktop/data-segmentation/data_src/MCXC.fits'\n",
    "m_z = None\n",
    "with fits.open(mcxc) as mcxc_table:\n",
    "    mcxc_table.verify('fix')\n",
    "    m_data = mcxc_table[1].data\n",
    "    m_keys = m_data.names\n",
    "    key_names = m_keys[:3]\n",
    "\n",
    "    mcxc_names = [m_data[x] for x in key_names]\n",
    "    mcxc_names = np.array(mcxc_names).astype(str)\n",
    "\n",
    "    mradec = [m_data['radeg'], m_data['dedeg']]\n",
    "    mradec = np.array(mradec).astype(float)\n",
    "    redshifts = m_data['z']\n",
    "    redshifts = redshifts[redshifts != -1]\n",
    "    m_z = redshifts\n"
   ]
  },
  {
   "cell_type": "code",
   "execution_count": 56,
   "metadata": {
    "ExecuteTime": {
     "end_time": "2020-03-26T13:14:50.904472Z",
     "start_time": "2020-03-26T13:14:50.850341Z"
    }
   },
   "outputs": [
    {
     "name": "stdout",
     "output_type": "stream",
     "text": [
      "['ID', 'NAME', 'RA', 'DEC', 'Z_LAMBDA', 'Z_LAMBDA_ERR', 'LAMBDA', 'LAMBDA_ERR', 'S', 'Z_SPEC', 'OBJID', 'IMAG', 'IMAG_ERR', 'MODEL_MAG_U', 'MODEL_MAGERR_U', 'MODEL_MAG_G', 'MODEL_MAGERR_G', 'MODEL_MAG_R', 'MODEL_MAGERR_R', 'MODEL_MAG_I', 'MODEL_MAGERR_I', 'MODEL_MAG_Z', 'MODEL_MAGERR_Z', 'ILUM', 'P_CEN', 'RA_CEN', 'DEC_CEN', 'ID_CEN', 'PZBINS', 'PZ']\n"
     ]
    }
   ],
   "source": [
    "filename = '/home/rt2122/Desktop/data-segmentation/data_src/redmapper_dr8_public_v6.3_catalog.fits'\n",
    "r_z = None\n",
    "with fits.open(filename) as table:\n",
    "    table.verify('fix')\n",
    "    data = table[1].data\n",
    "    keys = data.names\n",
    "    print(keys)\n",
    "    redshifts = data['Z_SPEC']\n",
    "    redshifts = redshifts[redshifts != -1]\n",
    "    r_z = redshifts\n"
   ]
  },
  {
   "cell_type": "code",
   "execution_count": 50,
   "metadata": {
    "ExecuteTime": {
     "end_time": "2020-03-26T12:34:25.244238Z",
     "start_time": "2020-03-26T12:34:25.228428Z"
    }
   },
   "outputs": [],
   "source": [
    "def overlaid_histogram(data1, data2, data3, n_bins = 0, data1_name=\"\", data1_color=\"#539caf\", \n",
    "                       data2_name=\"\", data2_color=\"#7663b0\", data3_name = \"\", data3_color=\"#ffff00\", \n",
    "                       x_label=\"\", y_label=\"\", title=\"\"):\n",
    "    # Set the bounds for the bins so that the two distributions are fairly compared\n",
    "    max_nbins = 10\n",
    "    data_range = [min(min(data1), min(data2), min(data3)), max(max(data1), max(data2), max(data3))]\n",
    "    binwidth = (data_range[1] - data_range[0]) / max_nbins\n",
    "\n",
    "\n",
    "    bins = n_bins\n",
    "\n",
    "    # Create the plot\n",
    "    _, ax = plt.subplots()\n",
    "    ax.hist(data1, bins = bins, color = data1_color, alpha = 0.75, label = data1_name)\n",
    "    ax.hist(data2, bins = bins, color = data2_color, alpha = 0.75, label = data2_name)\n",
    "    ax.hist(data3, bins = bins, color = data3_color, alpha = 0.75, label = data3_name)\n",
    "    ax.set_ylabel(y_label)\n",
    "    ax.set_xlabel(x_label)\n",
    "    ax.set_title(title)\n",
    "    ax.legend(loc = 'best')"
   ]
  },
  {
   "cell_type": "code",
   "execution_count": 57,
   "metadata": {
    "ExecuteTime": {
     "end_time": "2020-03-26T13:14:55.289576Z",
     "start_time": "2020-03-26T13:14:54.645802Z"
    }
   },
   "outputs": [
    {
     "name": "stderr",
     "output_type": "stream",
     "text": [
      "No handles with labels found to put in legend.\n"
     ]
    },
    {
     "data": {
      "image/png": "[encoded data removed]",
      "text/plain": [
       "<Figure size 432x288 with 1 Axes>"
      ]
     },
     "metadata": {
      "needs_background": "light"
     },
     "output_type": "display_data"
    }
   ],
   "source": [
    "overlaid_histogram(p_z, m_z, r_z, n_bins = 50)"
   ]
  },
  {
   "cell_type": "code",
   "execution_count": 53,
   "metadata": {
    "ExecuteTime": {
     "end_time": "2020-03-26T12:34:32.712093Z",
     "start_time": "2020-03-26T12:34:32.393250Z"
    }
   },
   "outputs": [
    {
     "name": "stderr",
     "output_type": "stream",
     "text": [
      "No handles with labels found to put in legend.\n"
     ]
    },
    {
     "data": {
      "image/png": "[encoded data removed]",
      "text/plain": [
       "<Figure size 432x288 with 1 Axes>"
      ]
     },
     "metadata": {
      "needs_background": "light"
     },
     "output_type": "display_data"
    }
   ],
   "source": [
    "overlaid_histogram(p_z, m_z, [0], n_bins =30)"
   ]
  },
  {
   "cell_type": "code",
   "execution_count": null,
   "metadata": {},
   "outputs": [],
   "source": []
  }
 ],
 "metadata": {
  "kernelspec": {
   "display_name": "Python 3",
   "language": "python",
   "name": "python3"
  },
  "language_info": {
   "codemirror_mode": {
    "name": "ipython",
    "version": 3
   },
   "file_extension": ".py",
   "mimetype": "text/x-python",
   "name": "python",
   "nbconvert_exporter": "python",
   "pygments_lexer": "ipython3",
   "version": "3.7.3"
  }
 },
 "nbformat": 4,
 "nbformat_minor": 2
}
