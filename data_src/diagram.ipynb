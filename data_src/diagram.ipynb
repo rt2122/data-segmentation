{
 "cells": [
  {
   "cell_type": "code",
   "execution_count": 63,
   "metadata": {
    "ExecuteTime": {
     "end_time": "2020-03-26T13:46:29.044468Z",
     "start_time": "2020-03-26T13:46:28.836306Z"
    }
   },
   "outputs": [
    {
     "name": "stdout",
     "output_type": "stream",
     "text": [
      "['Index', 'Name', 'GLON', 'GLAT', 'RAdeg', 'DEdeg', 'e_pos', 'SNR', 'Pipeline', 'PipeDet', 'PCCS2', 'PSZ', 'f_IR', 'q_neural', 'Y5R500', 'e_Y5R500', 'Val', 'zID', 'z', 'MSZ', 'E_MSZ', 'e_MSZ', 'MCXC', 'RedMAPPer', 'ACT', 'SPT', 'f_WISE', 'AMIevi', 'COSMO', 'Comment']\n"
     ]
    },
    {
     "name": "stderr",
     "output_type": "stream",
     "text": [
      "WARNING: VerifyWarning: Verification reported errors: [astropy.io.fits.verify]\n",
      "WARNING: VerifyWarning: HDU 2: [astropy.io.fits.verify]\n",
      "WARNING: VerifyWarning:     Card 66: [astropy.io.fits.verify]\n",
      "WARNING: VerifyWarning:         Card 'TAMAX9' is not FITS standard (invalid value string: '-nan / Allowed maximal value').  Fixed 'TAMAX9' card to meet the FITS standard. [astropy.io.fits.verify]\n",
      "WARNING: VerifyWarning:     Card 73: [astropy.io.fits.verify]\n",
      "WARNING: VerifyWarning:         Card 'TAMIN10' is not FITS standard (invalid value string: '-nan / Allowed minimal value').  Fixed 'TAMIN10' card to meet the FITS standard. [astropy.io.fits.verify]\n",
      "WARNING: VerifyWarning:     Card 80: [astropy.io.fits.verify]\n",
      "WARNING: VerifyWarning:         Card 'TAMAX11' is not FITS standard (invalid value string: '-nan / Allowed maximal value').  Fixed 'TAMAX11' card to meet the FITS standard. [astropy.io.fits.verify]\n",
      "WARNING: VerifyWarning:     Card 87: [astropy.io.fits.verify]\n",
      "WARNING: VerifyWarning:         Card 'TAMIN12' is not FITS standard (invalid value string: '-nan / Allowed minimal value').  Fixed 'TAMIN12' card to meet the FITS standard. [astropy.io.fits.verify]\n",
      "WARNING: VerifyWarning: HDU 3: [astropy.io.fits.verify]\n",
      "WARNING: VerifyWarning: HDU 4: [astropy.io.fits.verify]\n",
      "WARNING: VerifyWarning: Note: astropy.io.fits uses zero-based indexing.\n",
      " [astropy.io.fits.verify]\n"
     ]
    }
   ],
   "source": [
    "from astropy.io import fits\n",
    "import numpy as np\n",
    "import matplotlib.pyplot as plt\n",
    "\n",
    "\n",
    "planck = '/home/rt2122/Desktop/data-segmentation/data_src/Planck_SZ2.fits'\n",
    "p_z = None\n",
    "p_m = None\n",
    "with fits.open(planck) as table:\n",
    "    table.verify('fix')\n",
    "    data = table[1].data\n",
    "    keys = data.names\n",
    "    print(keys)\n",
    "    redshifts = np.array(data['z'])\n",
    "    redshifts = redshifts[redshifts != -1]\n",
    "    p_z = redshifts\n",
    "    p_m = data['MSZ']"
   ]
  },
  {
   "cell_type": "code",
   "execution_count": 64,
   "metadata": {
    "ExecuteTime": {
     "end_time": "2020-03-26T13:47:05.498168Z",
     "start_time": "2020-03-26T13:47:05.365715Z"
    }
   },
   "outputs": [
    {
     "name": "stdout",
     "output_type": "stream",
     "text": [
      "['MCXC', 'OName', 'AName', 'RAh', 'RAm', 'RAs', 'DE-', 'DEd', 'DEm', 'DEs', 'RAdeg', 'DEdeg', 'GLON', 'GLAT', 'z', 'Cat', 'Sub-Cat', 'Scale', 'L500', 'M500', 'R500', 'Notes', 'Cat1', 'Cat2', 'Cat3', 'Cat4', 'L500r1', 'L500r2', 'L500r3', 'L500r4']\n"
     ]
    }
   ],
   "source": [
    "mcxc = '/home/rt2122/Desktop/data-segmentation/data_src/MCXC.fits'\n",
    "m_z = None\n",
    "with fits.open(mcxc) as mcxc_table:\n",
    "    mcxc_table.verify('fix')\n",
    "    m_data = mcxc_table[1].data\n",
    "    m_keys = m_data.names\n",
    "    print(m_keys)\n",
    "    key_names = m_keys[:3]\n",
    "\n",
    "    mcxc_names = [m_data[x] for x in key_names]\n",
    "    mcxc_names = np.array(mcxc_names).astype(str)\n",
    "\n",
    "    mradec = [m_data['radeg'], m_data['dedeg']]\n",
    "    mradec = np.array(mradec).astype(float)\n",
    "    redshifts = m_data['z']\n",
    "    redshifts = redshifts[redshifts != -1]\n",
    "    m_z = redshifts\n"
   ]
  },
  {
   "cell_type": "code",
   "execution_count": 67,
   "metadata": {
    "ExecuteTime": {
     "end_time": "2020-03-26T13:49:06.597397Z",
     "start_time": "2020-03-26T13:49:06.458656Z"
    },
    "scrolled": false
   },
   "outputs": [
    {
     "name": "stdout",
     "output_type": "stream",
     "text": [
      "XTENSION= 'BINTABLE'           /Binary table written by MWRFITS v1.11b          BITPIX  =                    8 /Required value                                  NAXIS   =                    2 /Required value                                  NAXIS1  =                  392 /Number of bytes per row                         NAXIS2  =                26111 /Number of rows                                  PCOUNT  =                    0 /Normally 0 (no varying arrays)                  GCOUNT  =                    1 /Required value                                  TFIELDS =                   30 /Number of columns in table                      COMMENT                                                                         COMMENT  *** End of mandatory fields ***                                        COMMENT                                                                         COMMENT                                                                         COMMENT  *** Column names ***                                                   COMMENT                                                                         TTYPE1  = 'ID      '           /                                                TTYPE2  = 'NAME    '           /                                                TTYPE3  = 'RA      '           /                                                TTYPE4  = 'DEC     '           /                                                TTYPE5  = 'Z_LAMBDA'           /                                                TTYPE6  = 'Z_LAMBDA_ERR'       /                                                TTYPE7  = 'LAMBDA  '           /                                                TTYPE8  = 'LAMBDA_ERR'         /                                                TTYPE9  = 'S       '           /                                                TTYPE10 = 'Z_SPEC  '           /                                                TTYPE11 = 'OBJID   '           /                                                TTYPE12 = 'IMAG    '           /                                                TTYPE13 = 'IMAG_ERR'           /                                                TTYPE14 = 'MODEL_MAG_U'        /                                                TTYPE15 = 'MODEL_MAGERR_U'     /                                                TTYPE16 = 'MODEL_MAG_G'        /                                                TTYPE17 = 'MODEL_MAGERR_G'     /                                                TTYPE18 = 'MODEL_MAG_R'        /                                                TTYPE19 = 'MODEL_MAGERR_R'     /                                                TTYPE20 = 'MODEL_MAG_I'        /                                                TTYPE21 = 'MODEL_MAGERR_I'     /                                                TTYPE22 = 'MODEL_MAG_Z'        /                                                TTYPE23 = 'MODEL_MAGERR_Z'     /                                                TTYPE24 = 'ILUM    '           /                                                TTYPE25 = 'P_CEN   '           /                                                TTYPE26 = 'RA_CEN  '           /                                                TTYPE27 = 'DEC_CEN '           /                                                TTYPE28 = 'ID_CEN  '           /                                                TTYPE29 = 'PZBINS  '           /                                                TTYPE30 = 'PZ      '           /                                                COMMENT                                                                         COMMENT  *** Column formats ***                                                 COMMENT                                                                         TFORM1  = 'J       '           /                                                TFORM2  = '20A     '           /                                                TFORM3  = 'D       '           /                                                TFORM4  = 'D       '           /                                                TFORM5  = 'E       '           /                                                TFORM6  = 'E       '           /                                                TFORM7  = 'E       '           /                                                TFORM8  = 'E       '           /                                                TFORM9  = 'E       '           /                                                TFORM10 = 'E       '           /                                                TFORM11 = 'K       '           /                                                TFORM12 = 'E       '           /                                                TFORM13 = 'E       '           /                                                TFORM14 = 'E       '           /                                                TFORM15 = 'E       '           /                                                TFORM16 = 'E       '           /                                                TFORM17 = 'E       '           /                                                TFORM18 = 'E       '           /                                                TFORM19 = 'E       '           /                                                TFORM20 = 'E       '           /                                                TFORM21 = 'E       '           /                                                TFORM22 = 'E       '           /                                                TFORM23 = 'E       '           /                                                TFORM24 = 'E       '           /                                                TFORM25 = '5E      '           /                                                TFORM26 = '5E      '           /                                                TFORM27 = '5E      '           /                                                TFORM28 = '5K      '           /                                                TFORM29 = '21E     '           /                                                TFORM30 = '21E     '           /                                                END                                                                                                                                                                                                                                                                                                                                                                                                                                                                                                                                                                                                                                                                                                                                                                                                                                                                                                                                                                                                                                                                                                                                                                                                                                                                                                                                                                                                                                                                                                                                                                                                                                                                                                                                                                                                                                                                                                                                                                                                                                                                                                                                                                                                                                                                                                                                                                                                                                                                                                                                                                             \n",
      "['ID', 'NAME', 'RA', 'DEC', 'Z_LAMBDA', 'Z_LAMBDA_ERR', 'LAMBDA', 'LAMBDA_ERR', 'S', 'Z_SPEC', 'OBJID', 'IMAG', 'IMAG_ERR', 'MODEL_MAG_U', 'MODEL_MAGERR_U', 'MODEL_MAG_G', 'MODEL_MAGERR_G', 'MODEL_MAG_R', 'MODEL_MAGERR_R', 'MODEL_MAG_I', 'MODEL_MAGERR_I', 'MODEL_MAG_Z', 'MODEL_MAGERR_Z', 'ILUM', 'P_CEN', 'RA_CEN', 'DEC_CEN', 'ID_CEN', 'PZBINS', 'PZ']\n",
      "[(1, 'RMJ155820.0+271400.3', 239.58332907, 27.23341292, 0.09483067, 0.00458178, 169.83784, 4.1870255, 1.0113665 ,  0.09080672, 1237662340012638224, 0., 0., 17.76729 , 0.04957182, 15.414802, 0.00378445, 14.3970995, 0.00272018, 13.97824  , 0.00269827, 13.619685, 0.00515177, 115.149506, [8.7483835e-01, 1.2514694e-01, 1.3188495e-05, 1.0466367e-06, 5.3684289e-07], [239.58333, 239.5554 , 239.60272, 239.52678, 239.55963], [27.233414 , 27.248121 , 27.229519 , 27.274109 , 27.272102 ], [25404293, 25403990, 25404292, 25404032, 25404056], [0.06894211, 0.07153096, 0.07411982, 0.07670867, 0.07929754, 0.08188639, 0.08447525, 0.0870641 , 0.08965296, 0.09224182, 0.09483067, 0.09741953, 0.10000838, 0.10259724, 0.10518609, 0.10777494, 0.11036381, 0.11295266, 0.11554152, 0.11813037, 0.12071922], [6.6654225e-06, 1.7619789e-04, 2.3823027e-03, 3.1638920e-02, 2.3194079e-01, 1.5463539e+00, 6.1498165e+00, 2.0581387e+01, 4.4371845e+01, 7.1695839e+01, 8.7156303e+01, 7.6323601e+01, 4.6574085e+01, 2.2104368e+01, 6.7671461e+00, 1.7394874e+00, 2.6699269e-01, 3.7152253e-02, 2.8593452e-03, 2.1519138e-04, 8.2978431e-06])\n",
      " (2, 'RMJ164019.8+464241.5', 250.08254839, 46.71153135, 0.23276423, 0.00615558, 199.53928, 5.2998266, 0.99517053, -1.        , 1237651715872325879, 0., 0., 19.793066, 0.14495553, 17.980946, 0.01426638, 16.546164 , 0.00695238, 16.04907  , 0.00729464, 15.814708, 0.0193181 , 132.71582 , [9.8567283e-01, 1.1496065e-02, 1.5903878e-03, 1.2374397e-03, 3.2535431e-06], [250.08255, 250.09854, 250.09949, 250.08647, 250.10757], [46.711533 , 46.70284  , 46.714714 , 46.71227  , 46.709465 ], [ 3352952,  3352959,  3352955,  3352954,  3352965], [0.19623154, 0.1998848 , 0.20353806, 0.20719135, 0.2108446 , 0.21449786, 0.21815112, 0.22180438, 0.22545767, 0.22911093, 0.23276418, 0.23641747, 0.24007073, 0.24372399, 0.24737728, 0.25103053, 0.2546838 , 0.25833705, 0.2619903 , 0.2656436 , 0.26929685], [3.3839501e-07, 1.4773013e-05, 5.3011510e-04, 9.1685569e-03, 1.0394461e-01, 9.1016775e-01, 4.4695277e+00, 1.4986673e+01, 3.6703995e+01, 5.7890514e+01, 6.4757843e+01, 5.0275391e+01, 2.8490316e+01, 1.1837946e+01, 3.2624118e+00, 7.3417598e-01, 1.2488194e-01, 1.3508866e-02, 1.3195354e-03, 1.0005032e-04, 5.9347708e-06])\n",
      " (3, 'RMJ131129.5-012028.0', 197.87295717, -1.34111628, 0.18239772, 0.00393653, 164.71217, 4.241623 , 1.0065473 , -1.        , 1237655500272500810, 0., 0., 20.430338, 0.4959239 , 16.88942 , 0.01013487, 15.686827 , 0.00550487, 15.2489805, 0.00531618, 15.027758, 0.01410829, 118.676895, [6.6009790e-01, 3.0167994e-01, 3.5567652e-02, 2.2810765e-03, 3.7347790e-04], [197.87296, 197.8753 , 197.87624, 197.88617, 197.88637], [-1.3411163, -1.345205 , -1.341423 , -1.3329309, -1.3254577], [ 9222531,  9222521,  9222520,  9222793,  9222794], [0.15987472, 0.16212702, 0.16437933, 0.16663162, 0.16888392, 0.17113622, 0.17338853, 0.17564082, 0.17789312, 0.18014541, 0.18239772, 0.18465002, 0.18690231, 0.18915461, 0.19140692, 0.19365922, 0.19591151, 0.19816382, 0.20041612, 0.20266841, 0.20492071], [8.1311373e-06, 1.8345276e-04, 3.9230194e-03, 4.3326445e-02, 3.4291202e-01, 2.3245215e+00, 9.2458649e+00, 2.9510246e+01, 6.0203876e+01, 9.2653557e+01, 9.9207512e+01, 7.8997627e+01, 4.3617748e+01, 1.8926292e+01, 5.4091449e+00, 1.3162010e+00, 2.4585927e-01, 2.8202102e-02, 3.0868985e-03, 1.9879805e-04, 1.3149694e-05])\n",
      " (5, 'RMJ090912.2+105824.9', 137.30074464, 10.97359494, 0.17046206, 0.00360837, 174.70418, 4.9478636, 1.0145435 , -1.        , 1237671260126576920, 0., 0., 26.343122, 3.2173216 , 18.158167, 0.0231597 , 17.184233 , 0.01367531, 16.532034 , 0.01074852, 16.288134, 0.02845545, 112.05844 , [9.4703996e-01, 4.9016498e-02, 3.4524291e-03, 2.7416254e-04, 2.1698933e-04], [137.30075, 137.30312, 137.27843, 137.21742, 137.32939], [10.973595 , 10.974747 , 10.964103 , 11.026449 , 10.985692 ], [45540350, 45540345, 45540330, 45540034, 45540320], [0.15001194, 0.15205695, 0.15410197, 0.15614697, 0.158192  , 0.160237  , 0.16228202, 0.16432703, 0.16637203, 0.16841705, 0.17046206, 0.17250708, 0.17455208, 0.1765971 , 0.17864211, 0.18068713, 0.18273214, 0.18477714, 0.18682216, 0.18886717, 0.19091219], [1.0995842e-05, 2.9367435e-04, 3.9668730e-03, 5.1966093e-02, 3.7314120e-01, 2.4087622e+00, 9.2437973e+00, 2.9610241e+01, 6.5676025e+01, 9.8230209e+01, 1.0979615e+02, 8.9814903e+01, 5.1280476e+01, 2.3238234e+01, 6.8837914e+00, 1.7534912e+00, 2.7427310e-01, 3.9958782e-02, 3.3663693e-03, 2.8562074e-04, 1.3239960e-05])\n",
      " (6, 'RMJ133520.1+410004.1', 203.83372268, 41.00114644, 0.23174694, 0.0060674 , 189.18115, 5.613359 , 1.0100377 ,  0.2283087 , 1237662306722447498, 0., 0., 19.995804, 0.10798486, 17.901672, 0.00915489, 16.366825 , 0.004501  , 15.850655 , 0.00432744, 15.507919, 0.01125991, 128.97887 , [9.8141843e-01, 1.6316090e-02, 2.0582934e-03, 1.7066997e-04, 3.6546284e-05], [203.83372, 203.81827, 203.76596, 203.78654, 203.83876], [41.00115  , 41.01315  , 40.977543 , 40.98678  , 40.991226 ], [25032419, 25032534, 25032451, 25032461, 25032423], [0.1959384 , 0.19951925, 0.2031001 , 0.20668095, 0.2102618 , 0.21384266, 0.21742351, 0.22100435, 0.22458522, 0.22816606, 0.23174693, 0.23532777, 0.23890863, 0.24248947, 0.24607034, 0.24965118, 0.25323203, 0.25681287, 0.26039374, 0.26397458, 0.26755545], [8.0235895e-07, 2.7195143e-05, 7.9585647e-04, 1.4525075e-02, 1.3946640e-01, 1.0757468e+00, 5.4105449e+00, 1.6534710e+01, 3.8128075e+01, 5.9752422e+01, 6.4867676e+01, 5.0201389e+01, 2.7375238e+01, 1.1665071e+01, 3.3629057e+00, 7.0622528e-01, 1.2907568e-01, 1.5222077e-02, 1.3476363e-03, 9.0350644e-05, 5.9931349e-06])]\n"
     ]
    },
    {
     "ename": "AttributeError",
     "evalue": "'DataFrame' object has no attribute 'unique'",
     "output_type": "error",
     "traceback": [
      "\u001b[0;31m---------------------------------------------------------------------------\u001b[0m",
      "\u001b[0;31mAttributeError\u001b[0m                            Traceback (most recent call last)",
      "\u001b[0;32m<ipython-input-67-a48325504064>\u001b[0m in \u001b[0;36m<module>\u001b[0;34m\u001b[0m\n\u001b[1;32m     14\u001b[0m     \u001b[0mprint\u001b[0m\u001b[0;34m(\u001b[0m\u001b[0mdata\u001b[0m\u001b[0;34m[\u001b[0m\u001b[0;34m:\u001b[0m\u001b[0;36m5\u001b[0m\u001b[0;34m]\u001b[0m\u001b[0;34m)\u001b[0m\u001b[0;34m\u001b[0m\u001b[0;34m\u001b[0m\u001b[0m\n\u001b[1;32m     15\u001b[0m     \u001b[0mnames\u001b[0m \u001b[0;34m=\u001b[0m \u001b[0mpd\u001b[0m\u001b[0;34m.\u001b[0m\u001b[0mDataFrame\u001b[0m\u001b[0;34m(\u001b[0m\u001b[0mdata\u001b[0m\u001b[0;34m[\u001b[0m\u001b[0;34m'NAME'\u001b[0m\u001b[0;34m]\u001b[0m\u001b[0;34m)\u001b[0m\u001b[0;34m\u001b[0m\u001b[0;34m\u001b[0m\u001b[0m\n\u001b[0;32m---> 16\u001b[0;31m     \u001b[0mprint\u001b[0m\u001b[0;34m(\u001b[0m\u001b[0mnames\u001b[0m\u001b[0;34m.\u001b[0m\u001b[0munique\u001b[0m\u001b[0;34m(\u001b[0m\u001b[0;34m)\u001b[0m\u001b[0;34m)\u001b[0m\u001b[0;34m\u001b[0m\u001b[0;34m\u001b[0m\u001b[0m\n\u001b[0m",
      "\u001b[0;32m~/anaconda3/lib/python3.7/site-packages/pandas/core/generic.py\u001b[0m in \u001b[0;36m__getattr__\u001b[0;34m(self, name)\u001b[0m\n\u001b[1;32m   5065\u001b[0m             \u001b[0;32mif\u001b[0m \u001b[0mself\u001b[0m\u001b[0;34m.\u001b[0m\u001b[0m_info_axis\u001b[0m\u001b[0;34m.\u001b[0m\u001b[0m_can_hold_identifiers_and_holds_name\u001b[0m\u001b[0;34m(\u001b[0m\u001b[0mname\u001b[0m\u001b[0;34m)\u001b[0m\u001b[0;34m:\u001b[0m\u001b[0;34m\u001b[0m\u001b[0;34m\u001b[0m\u001b[0m\n\u001b[1;32m   5066\u001b[0m                 \u001b[0;32mreturn\u001b[0m \u001b[0mself\u001b[0m\u001b[0;34m[\u001b[0m\u001b[0mname\u001b[0m\u001b[0;34m]\u001b[0m\u001b[0;34m\u001b[0m\u001b[0;34m\u001b[0m\u001b[0m\n\u001b[0;32m-> 5067\u001b[0;31m             \u001b[0;32mreturn\u001b[0m \u001b[0mobject\u001b[0m\u001b[0;34m.\u001b[0m\u001b[0m__getattribute__\u001b[0m\u001b[0;34m(\u001b[0m\u001b[0mself\u001b[0m\u001b[0;34m,\u001b[0m \u001b[0mname\u001b[0m\u001b[0;34m)\u001b[0m\u001b[0;34m\u001b[0m\u001b[0;34m\u001b[0m\u001b[0m\n\u001b[0m\u001b[1;32m   5068\u001b[0m \u001b[0;34m\u001b[0m\u001b[0m\n\u001b[1;32m   5069\u001b[0m     \u001b[0;32mdef\u001b[0m \u001b[0m__setattr__\u001b[0m\u001b[0;34m(\u001b[0m\u001b[0mself\u001b[0m\u001b[0;34m,\u001b[0m \u001b[0mname\u001b[0m\u001b[0;34m,\u001b[0m \u001b[0mvalue\u001b[0m\u001b[0;34m)\u001b[0m\u001b[0;34m:\u001b[0m\u001b[0;34m\u001b[0m\u001b[0;34m\u001b[0m\u001b[0m\n",
      "\u001b[0;31mAttributeError\u001b[0m: 'DataFrame' object has no attribute 'unique'"
     ]
    }
   ],
   "source": [
    "filename = '/home/rt2122/Desktop/data-segmentation/data_src/redmapper_dr8_public_v6.3_catalog.fits'\n",
    "import pandas as pd\n",
    "r_z = None\n",
    "with fits.open(filename) as table:\n",
    "    print(table[1].header)\n",
    "    table.verify('fix')\n",
    "    data = table[1].data\n",
    "    data = data[data['LAMBDA'] > 50]\n",
    "    keys = data.names\n",
    "    print(keys)\n",
    "    redshifts = data['Z_SPEC']\n",
    "    redshifts = redshifts[redshifts != -1]\n",
    "    r_z = redshifts\n",
    "    print(data[:5])\n",
    "    names = pd.DataFrame(data['NAME'])\n",
    "    print(names.unique())"
   ]
  },
  {
   "cell_type": "code",
   "execution_count": 50,
   "metadata": {
    "ExecuteTime": {
     "end_time": "2020-03-26T12:34:25.244238Z",
     "start_time": "2020-03-26T12:34:25.228428Z"
    }
   },
   "outputs": [],
   "source": [
    "def overlaid_histogram(data1, data2, data3, n_bins = 0, data1_name=\"\", data1_color=\"#539caf\", \n",
    "                       data2_name=\"\", data2_color=\"#7663b0\", data3_name = \"\", data3_color=\"#ffff00\", \n",
    "                       x_label=\"\", y_label=\"\", title=\"\"):\n",
    "    # Set the bounds for the bins so that the two distributions are fairly compared\n",
    "    max_nbins = 10\n",
    "    data_range = [min(min(data1), min(data2), min(data3)), max(max(data1), max(data2), max(data3))]\n",
    "    binwidth = (data_range[1] - data_range[0]) / max_nbins\n",
    "\n",
    "\n",
    "    bins = n_bins\n",
    "\n",
    "    # Create the plot\n",
    "    _, ax = plt.subplots()\n",
    "    ax.hist(data1, bins = bins, color = data1_color, alpha = 0.75, label = data1_name)\n",
    "    ax.hist(data2, bins = bins, color = data2_color, alpha = 0.75, label = data2_name)\n",
    "    ax.hist(data3, bins = bins, color = data3_color, alpha = 0.75, label = data3_name)\n",
    "    ax.set_ylabel(y_label)\n",
    "    ax.set_xlabel(x_label)\n",
    "    ax.set_title(title)\n",
    "    ax.legend(loc = 'best')"
   ]
  },
  {
   "cell_type": "code",
   "execution_count": 68,
   "metadata": {
    "ExecuteTime": {
     "end_time": "2020-03-26T13:49:11.570649Z",
     "start_time": "2020-03-26T13:49:10.851476Z"
    }
   },
   "outputs": [
    {
     "name": "stderr",
     "output_type": "stream",
     "text": [
      "No handles with labels found to put in legend.\n"
     ]
    },
    {
     "data": {
      "image/png": "[encoded data removed]",
      "text/plain": [
       "<Figure size 432x288 with 1 Axes>"
      ]
     },
     "metadata": {
      "needs_background": "light"
     },
     "output_type": "display_data"
    }
   ],
   "source": [
    "overlaid_histogram(p_z, m_z, r_z, n_bins = 50)"
   ]
  },
  {
   "cell_type": "code",
   "execution_count": 53,
   "metadata": {
    "ExecuteTime": {
     "end_time": "2020-03-26T12:34:32.712093Z",
     "start_time": "2020-03-26T12:34:32.393250Z"
    }
   },
   "outputs": [
    {
     "name": "stderr",
     "output_type": "stream",
     "text": [
      "No handles with labels found to put in legend.\n"
     ]
    },
    {
     "data": {
      "image/png": "[encoded data removed]",
      "text/plain": [
       "<Figure size 432x288 with 1 Axes>"
      ]
     },
     "metadata": {
      "needs_background": "light"
     },
     "output_type": "display_data"
    }
   ],
   "source": [
    "overlaid_histogram(p_z, m_z, [0], n_bins =30)"
   ]
  },
  {
   "cell_type": "code",
   "execution_count": null,
   "metadata": {},
   "outputs": [],
   "source": [
    "r"
   ]
  }
 ],
 "metadata": {
  "kernelspec": {
   "display_name": "Python 3",
   "language": "python",
   "name": "python3"
  },
  "language_info": {
   "codemirror_mode": {
    "name": "ipython",
    "version": 3
   },
   "file_extension": ".py",
   "mimetype": "text/x-python",
   "name": "python",
   "nbconvert_exporter": "python",
   "pygments_lexer": "ipython3",
   "version": "3.7.3"
  }
 },
 "nbformat": 4,
 "nbformat_minor": 2
}
