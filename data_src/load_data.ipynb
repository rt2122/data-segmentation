{
 "cells": [
  {
   "cell_type": "code",
   "execution_count": 32,
   "metadata": {
    "ExecuteTime": {
     "end_time": "2020-03-30T19:29:00.659615Z",
     "start_time": "2020-03-30T19:29:00.548430Z"
    }
   },
   "outputs": [
    {
     "name": "stdout",
     "output_type": "stream",
     "text": [
      "['Index', 'Name', 'GLON', 'GLAT', 'RAdeg', 'DEdeg', 'e_pos', 'SNR', 'Pipeline', 'PipeDet', 'PCCS2', 'PSZ', 'f_IR', 'q_neural', 'Y5R500', 'e_Y5R500', 'Val', 'zID', 'z', 'MSZ', 'E_MSZ', 'e_MSZ', 'MCXC', 'RedMAPPer', 'ACT', 'SPT', 'f_WISE', 'AMIevi', 'COSMO', 'Comment']\n",
      "                 Name       RAdeg      DEdeg       z       MSZ          MCXC  \\\n",
      "0  PSZ2 G000.04+45.13  229.190512  -1.017222  0.1198  3.962411  J1516.5-0056   \n",
      "1  PSZ2 G000.13+78.04  203.558683  20.255990  0.1710  5.122391  J1334.1+2013   \n",
      "2  PSZ2 G000.40-41.86  316.084485 -41.354169  0.1651  5.297053  J2104.3-4120   \n",
      "3  PSZ2 G000.77-35.69  307.972844 -40.598725  0.3416  6.333562  J2031.8-4037   \n",
      "4  PSZ2 G002.04-22.15  291.359610 -36.517944 -1.0000  0.000000                 \n",
      "\n",
      "              RedMAPPer  \n",
      "0  RMJ151653.9-010506.3  \n",
      "1  RMJ133408.7+201453.0  \n",
      "2                        \n",
      "3                        \n",
      "4                        \n"
     ]
    }
   ],
   "source": [
    "from astropy.io import fits\n",
    "from astropy.table import Table\n",
    "import numpy as np\n",
    "import matplotlib.pyplot as plt\n",
    "import pandas as pd\n",
    "\n",
    "planck_file = '/home/rt2122/Desktop/data-segmentation/data_src/Planck_SZ2.fits'\n",
    "planck = None\n",
    "with fits.open(planck_file) as table:\n",
    "    table.verify('fix')\n",
    "    data = table[1].data\n",
    "    keys = data.names\n",
    "    print(keys)\n",
    "    saved_keys = ['Name', 'RAdeg', 'DEdeg', 'z', 'MSZ', 'MCXC', 'RedMAPPer']\n",
    "    planck = pd.DataFrame([])\n",
    "    for key in saved_keys:\n",
    "        planck[key] = data[key]\n",
    "    print(planck.head())"
   ]
  },
  {
   "cell_type": "code",
   "execution_count": 33,
   "metadata": {
    "ExecuteTime": {
     "end_time": "2020-03-30T19:29:18.563890Z",
     "start_time": "2020-03-30T19:29:18.550253Z"
    }
   },
   "outputs": [
    {
     "name": "stdout",
     "output_type": "stream",
     "text": [
      "(1653, 7)\n"
     ]
    }
   ],
   "source": [
    "print(planck.shape)"
   ]
  },
  {
   "cell_type": "code",
   "execution_count": 34,
   "metadata": {
    "ExecuteTime": {
     "end_time": "2020-03-30T19:29:19.589794Z",
     "start_time": "2020-03-30T19:29:19.546521Z"
    }
   },
   "outputs": [
    {
     "name": "stdout",
     "output_type": "stream",
     "text": [
      "(1094, 7)\n",
      "(559, 7)\n"
     ]
    }
   ],
   "source": [
    "planck_z = planck[df['z'] != -1]\n",
    "print(planck_z.shape)\n",
    "planck_no_z = planck[df['z'] == -1]\n",
    "print(plank_no_z.shape)\n",
    "#planck_z.to_csv('./planck_z.csv')\n",
    "#planck_no_z.to_csv('./planck_no_z.csv')"
   ]
  },
  {
   "cell_type": "code",
   "execution_count": 48,
   "metadata": {
    "ExecuteTime": {
     "end_time": "2020-03-30T19:31:54.658352Z",
     "start_time": "2020-03-30T19:31:54.599161Z"
    }
   },
   "outputs": [
    {
     "name": "stdout",
     "output_type": "stream",
     "text": [
      "           MCXC               OName  \\\n",
      "0  J0000.1+0816  RXC J0000.1+0816     \n",
      "1  J0000.4-0237  RXC J0000.4-0237     \n",
      "2  J0001.6-1540  RXC J0001.6-1540     \n",
      "3  J0001.9+1204  RXC J0001.9+1204     \n",
      "4  J0003.1-0605  RXCJ0003.1-0605      \n",
      "\n",
      "                                               AName  RAdeg       z    M500  \n",
      "0  UGC 12890                                     ...  0.030  0.0396  0.7373  \n",
      "1                                                ...  0.103  0.0379  0.3297  \n",
      "2                                                ...  0.412  0.1246  1.6557  \n",
      "3  A2692                                         ...  0.488  0.2033  2.6927  \n",
      "4  A2697                                         ...  0.799  0.2320  5.2188  \n",
      "(1743, 6)\n"
     ]
    }
   ],
   "source": [
    "mcxc = None\n",
    "mcxc_file = '/home/rt2122/Desktop/data-segmentation/data_src/MCXC.fits'\n",
    "with fits.open(mcxc_file) as table:\n",
    "    table.verify('fix')\n",
    "\n",
    "    data = table[1].data\n",
    "    keys = data.names\n",
    "    saved_keys = ['MCXC', 'OName', 'AName', 'RAdeg', 'RAdeg', 'z', 'M500']\n",
    "    \n",
    "    mcxc = pd.DataFrame([])\n",
    "    for key in saved_keys:\n",
    "        mcxc[key] = data[key]\n",
    "    print(mcxc.head())\n",
    "    print(mcxc.shape)"
   ]
  },
  {
   "cell_type": "code",
   "execution_count": 70,
   "metadata": {
    "ExecuteTime": {
     "end_time": "2020-03-30T19:50:25.892817Z",
     "start_time": "2020-03-30T19:50:25.882847Z"
    }
   },
   "outputs": [
    {
     "name": "stdout",
     "output_type": "stream",
     "text": [
      "1193\n"
     ]
    }
   ],
   "source": [
    "withoutp = (set(mcxc['MCXC'])).difference(set(planck['MCXC']))\n",
    "print(len(withoutp))"
   ]
  },
  {
   "cell_type": "code",
   "execution_count": 71,
   "metadata": {
    "ExecuteTime": {
     "end_time": "2020-03-30T19:52:26.623573Z",
     "start_time": "2020-03-30T19:52:26.619023Z"
    }
   },
   "outputs": [],
   "source": [
    "filter_wp = mcxc['MCXC'].isin(withoutpthoutp)\n",
    "mcxcwp = mcxc[filter_wp]"
   ]
  },
  {
   "cell_type": "code",
   "execution_count": null,
   "metadata": {},
   "outputs": [],
   "source": []
  }
 ],
 "metadata": {
  "kernelspec": {
   "display_name": "Python 3",
   "language": "python",
   "name": "python3"
  },
  "language_info": {
   "codemirror_mode": {
    "name": "ipython",
    "version": 3
   },
   "file_extension": ".py",
   "mimetype": "text/x-python",
   "name": "python",
   "nbconvert_exporter": "python",
   "pygments_lexer": "ipython3",
   "version": "3.7.3"
  }
 },
 "nbformat": 4,
 "nbformat_minor": 2
}
