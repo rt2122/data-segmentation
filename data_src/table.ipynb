{
 "cells": [
  {
   "cell_type": "code",
   "execution_count": 1,
   "metadata": {
    "ExecuteTime": {
     "end_time": "2020-03-25T18:07:09.328243Z",
     "start_time": "2020-03-25T18:07:08.825764Z"
    }
   },
   "outputs": [
    {
     "name": "stdout",
     "output_type": "stream",
     "text": [
      "Planck_z 1094\n",
      "Planck_no_z 559\n"
     ]
    },
    {
     "name": "stderr",
     "output_type": "stream",
     "text": [
      "WARNING: VerifyWarning: Verification reported errors: [astropy.io.fits.verify]\n",
      "WARNING: VerifyWarning: HDU 2: [astropy.io.fits.verify]\n",
      "WARNING: VerifyWarning:     Card 66: [astropy.io.fits.verify]\n",
      "WARNING: VerifyWarning:         Card 'TAMAX9' is not FITS standard (invalid value string: '-nan / Allowed maximal value').  Fixed 'TAMAX9' card to meet the FITS standard. [astropy.io.fits.verify]\n",
      "WARNING: VerifyWarning:     Card 73: [astropy.io.fits.verify]\n",
      "WARNING: VerifyWarning:         Card 'TAMIN10' is not FITS standard (invalid value string: '-nan / Allowed minimal value').  Fixed 'TAMIN10' card to meet the FITS standard. [astropy.io.fits.verify]\n",
      "WARNING: VerifyWarning:     Card 80: [astropy.io.fits.verify]\n",
      "WARNING: VerifyWarning:         Card 'TAMAX11' is not FITS standard (invalid value string: '-nan / Allowed maximal value').  Fixed 'TAMAX11' card to meet the FITS standard. [astropy.io.fits.verify]\n",
      "WARNING: VerifyWarning:     Card 87: [astropy.io.fits.verify]\n",
      "WARNING: VerifyWarning:         Card 'TAMIN12' is not FITS standard (invalid value string: '-nan / Allowed minimal value').  Fixed 'TAMIN12' card to meet the FITS standard. [astropy.io.fits.verify]\n",
      "WARNING: VerifyWarning: HDU 3: [astropy.io.fits.verify]\n",
      "WARNING: VerifyWarning: HDU 4: [astropy.io.fits.verify]\n",
      "WARNING: VerifyWarning: Note: astropy.io.fits uses zero-based indexing.\n",
      " [astropy.io.fits.verify]\n"
     ]
    }
   ],
   "source": [
    "from astropy.io import fits\n",
    "import numpy as np\n",
    "import matplotlib.pyplot as plt\n",
    "\n",
    "\n",
    "planck = '/home/rt2122/Desktop/data-segmentation/data_src/Planck_SZ2.fits'\n",
    "\n",
    "with fits.open(planck) as table:\n",
    "    table.verify('fix')\n",
    "    data = table[1].data\n",
    "    keys = data.names\n",
    "    redshifts = np.array(data['z'])\n",
    "    Planck_z = np.count_nonzero(redshifts[redshifts != -1])\n",
    "    Planck_no_z = np.count_nonzero(redshifts[redshifts == -1])\n",
    "\n",
    "\n",
    "    planck_names = data['Name']\n",
    "    planck_names = [name[5:] for name in planck_names]\n",
    "    planck_names = np.array(planck_names).astype(str)\n",
    "\n",
    "    radec = [data['radeg'], data['dedeg']]\n",
    "    radec = np.array(radec).astype(float)\n",
    "\n",
    "    mcxc = '/home/rt2122/Desktop/data-segmentation/data_src/MCXC.fits'\n",
    "    print('Planck_z', Planck_z)\n",
    "    print('Planck_no_z', Planck_no_z)"
   ]
  },
  {
   "cell_type": "code",
   "execution_count": 3,
   "metadata": {
    "ExecuteTime": {
     "end_time": "2020-03-25T18:07:44.330477Z",
     "start_time": "2020-03-25T18:07:44.271543Z"
    }
   },
   "outputs": [
    {
     "name": "stdout",
     "output_type": "stream",
     "text": [
      "MCXC 1743\n"
     ]
    }
   ],
   "source": [
    "\n",
    "with fits.open(mcxc) as mcxc_table:\n",
    "    mcxc_table.verify('fix')\n",
    "    m_data = mcxc_table[1].data\n",
    "    m_keys = m_data.names\n",
    "    key_names = m_keys[:3]\n",
    "\n",
    "    mcxc_names = [m_data[x] for x in key_names]\n",
    "    mcxc_names = np.array(mcxc_names).astype(str)\n",
    "\n",
    "    mradec = [m_data['radeg'], m_data['dedeg']]\n",
    "    mradec = np.array(mradec).astype(float)\n",
    "    MCXC = len(m_data)\n",
    "    print('MCXC', MCXC)"
   ]
  },
  {
   "cell_type": "code",
   "execution_count": 5,
   "metadata": {
    "ExecuteTime": {
     "end_time": "2020-03-25T18:10:33.309344Z",
     "start_time": "2020-03-25T18:10:33.266198Z"
    }
   },
   "outputs": [
    {
     "name": "stdout",
     "output_type": "stream",
     "text": [
      "P50 5087\n",
      "P30 15673\n"
     ]
    }
   ],
   "source": [
    "filename = '/home/rt2122/Desktop/data-segmentation/data_src/redmapper_dr8_public_v6.3_catalog.fits'\n",
    "\n",
    "with fits.open(filename) as table:\n",
    "    table.verify('fix')\n",
    "    data = table[1].data\n",
    "    keys = data.names\n",
    "    print('P50', np.count_nonzero(data['LAMBDA'] > 50))\n",
    "    print('P30', np.count_nonzero(data['LAMBDA'] > 30))\n"
   ]
  },
  {
   "cell_type": "code",
   "execution_count": null,
   "metadata": {},
   "outputs": [],
   "source": []
  }
 ],
 "metadata": {
  "kernelspec": {
   "display_name": "Python 3",
   "language": "python",
   "name": "python3"
  },
  "language_info": {
   "codemirror_mode": {
    "name": "ipython",
    "version": 3
   },
   "file_extension": ".py",
   "mimetype": "text/x-python",
   "name": "python",
   "nbconvert_exporter": "python",
   "pygments_lexer": "ipython3",
   "version": "3.7.3"
  }
 },
 "nbformat": 4,
 "nbformat_minor": 2
}
