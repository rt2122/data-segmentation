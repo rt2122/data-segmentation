{
 "cells": [
  {
   "cell_type": "code",
   "execution_count": 1,
   "metadata": {
    "ExecuteTime": {
     "end_time": "2020-04-25T12:58:16.802543Z",
     "start_time": "2020-04-25T12:58:14.601601Z"
    }
   },
   "outputs": [],
   "source": [
    "import scipy.sparse as sp\n",
    "import numpy as np"
   ]
  },
  {
   "cell_type": "code",
   "execution_count": 14,
   "metadata": {
    "ExecuteTime": {
     "end_time": "2020-04-25T13:02:05.509787Z",
     "start_time": "2020-04-25T13:02:05.503260Z"
    }
   },
   "outputs": [],
   "source": [
    "def unpack_csr(data_dir):\n",
    "    from os import walk\n",
    "    from os.path import join\n",
    "    import scipy.sparse as sp\n",
    "    from all_p import ClusterFile\n",
    "    filters = 'grizym'\n",
    "    csr = []\n",
    "    files = next(walk(data_dir))[-1]\n",
    "    files = sorted(files, key=lambda name:filters.index(ClusterFile(name).params['state'][-1]))\n",
    "    for f in files:\n",
    "        csr.append(sp.load_npz(join(data_dir, f)))\n",
    "    return csr"
   ]
  },
  {
   "cell_type": "code",
   "execution_count": 15,
   "metadata": {
    "ExecuteTime": {
     "end_time": "2020-04-25T13:02:06.146305Z",
     "start_time": "2020-04-25T13:02:05.773789Z"
    }
   },
   "outputs": [],
   "source": [
    "dirname = '/home/rt2122/data/train/csr/0_0'\n",
    "csr = unpack_csr(dirname)"
   ]
  },
  {
   "cell_type": "code",
   "execution_count": 16,
   "metadata": {
    "ExecuteTime": {
     "end_time": "2020-04-25T13:02:07.702080Z",
     "start_time": "2020-04-25T13:02:07.698666Z"
    }
   },
   "outputs": [
    {
     "data": {
      "text/plain": [
       "6"
      ]
     },
     "execution_count": 16,
     "metadata": {},
     "output_type": "execute_result"
    }
   ],
   "source": [
    "len(csr)"
   ]
  },
  {
   "cell_type": "code",
   "execution_count": 34,
   "metadata": {
    "ExecuteTime": {
     "end_time": "2020-04-25T13:05:24.180858Z",
     "start_time": "2020-04-25T13:05:24.170643Z"
    }
   },
   "outputs": [],
   "source": [
    "arr = np.stack(csr[:-1])"
   ]
  },
  {
   "cell_type": "code",
   "execution_count": 35,
   "metadata": {
    "ExecuteTime": {
     "end_time": "2020-04-25T13:05:24.583913Z",
     "start_time": "2020-04-25T13:05:24.572456Z"
    }
   },
   "outputs": [
    {
     "data": {
      "text/plain": [
       "(5,)"
      ]
     },
     "execution_count": 35,
     "metadata": {},
     "output_type": "execute_result"
    }
   ],
   "source": [
    "arr.shape"
   ]
  },
  {
   "cell_type": "code",
   "execution_count": 36,
   "metadata": {
    "ExecuteTime": {
     "end_time": "2020-04-25T13:05:31.153153Z",
     "start_time": "2020-04-25T13:05:31.142070Z"
    }
   },
   "outputs": [
    {
     "data": {
      "text/plain": [
       "0.0"
      ]
     },
     "execution_count": 36,
     "metadata": {},
     "output_type": "execute_result"
    }
   ],
   "source": [
    "csr[0][4, 5]"
   ]
  },
  {
   "cell_type": "code",
   "execution_count": 1,
   "metadata": {
    "ExecuteTime": {
     "end_time": "2020-04-26T19:49:03.384733Z",
     "start_time": "2020-04-26T19:49:03.235549Z"
    }
   },
   "outputs": [],
   "source": [
    "import numpy as np"
   ]
  },
  {
   "cell_type": "code",
   "execution_count": 2,
   "metadata": {
    "ExecuteTime": {
     "end_time": "2020-04-26T19:49:39.320618Z",
     "start_time": "2020-04-26T19:49:39.318555Z"
    }
   },
   "outputs": [],
   "source": [
    "from os import walk\n",
    "from os.path import join"
   ]
  },
  {
   "cell_type": "code",
   "execution_count": 5,
   "metadata": {
    "ExecuteTime": {
     "end_time": "2020-04-26T19:50:43.664244Z",
     "start_time": "2020-04-26T19:50:43.658581Z"
    }
   },
   "outputs": [],
   "source": [
    "from all_p import ClusterFile"
   ]
  },
  {
   "cell_type": "code",
   "execution_count": 8,
   "metadata": {
    "ExecuteTime": {
     "end_time": "2020-04-26T19:51:31.974652Z",
     "start_time": "2020-04-26T19:51:31.783320Z"
    }
   },
   "outputs": [
    {
     "data": {
      "text/plain": [
       "['tm_il2_ip16_ra287.2266_dec74.6800_sm_in6.npy',\n",
       " 'tm_il2_ip14_ra202.4956_dec59.2331_sm_in6.npy',\n",
       " 'tm_il2_ip2_ra178.7477_dec74.1461_sm_in6.npy',\n",
       " 'tm_il2_ip10_ra249.8211_dec65.8520_sm_in6.npy',\n",
       " 'tm_il2_ip7_ra204.9807_dec58.5619_sm_in6.npy',\n",
       " 'tm_il2_ip19_ra186.4993_dec81.9842_sm_in6.npy',\n",
       " 'tm_il2_ip12_ra257.6072_dec79.2340_sm_in6.npy',\n",
       " 'tm_il2_ip15_ra215.7991_dec57.0706_sm_in6.npy',\n",
       " 'tm_il2_ip5_ra254.6024_dec78.7722_sm_in6.npy',\n",
       " 'tm_il2_ip3_ra196.4308_dec66.7326_sm_in6.npy',\n",
       " 'tm_il2_ip13_ra204.3179_dec59.6934_sm_in6.npy',\n",
       " 'tm_il2_ip4_ra239.9862_dec66.8155_sm_in6.npy',\n",
       " 'tm_il2_ip1_ra225.3314_dec58.6644_sm_in6.npy',\n",
       " 'tm_il2_ip11_ra227.4676_dec57.7936_sm_in6.npy',\n",
       " 'tm_il2_ip6_ra189.0297_dec81.6060_sm_in6.npy',\n",
       " 'tm_il2_ip18_ra260.4893_dec70.2501_sm_in6.npy',\n",
       " 'tm_il2_ip17_ra206.7140_dec75.2101_sm_in6.npy',\n",
       " 'tm_il2_ip8_ra171.7315_dec71.4904_sm_in6.npy',\n",
       " 'tm_il2_ip9_ra252.3287_dec86.3659_sm_in6.npy',\n",
       " 'tm_il2_ip0_ra217.7167_dec65.9643_sm_in6.npy']"
      ]
     },
     "execution_count": 8,
     "metadata": {},
     "output_type": "execute_result"
    }
   ],
   "source": [
    "files = next(walk('/home/rt2122/data/train/filters/'))[-1]\n",
    "files = list(filter(lambda name:ClusterFile(name).params['id_list']==2, files))\n",
    "files = list(filter(lambda name:ClusterFile(name).params['typ']=='m', files))\n",
    "files"
   ]
  },
  {
   "cell_type": "code",
   "execution_count": 13,
   "metadata": {
    "ExecuteTime": {
     "end_time": "2020-04-26T19:53:31.952598Z",
     "start_time": "2020-04-26T19:53:30.640820Z"
    }
   },
   "outputs": [],
   "source": [
    "for f in files:\n",
    "    mask = np.load(join('/home/rt2122/data/train/filters/', f))\n",
    "    mask *= 255\n",
    "    np.save(join('/home/rt2122/data/train/filters/', f), mask)"
   ]
  },
  {
   "cell_type": "code",
   "execution_count": null,
   "metadata": {},
   "outputs": [],
   "source": []
  }
 ],
 "metadata": {
  "kernelspec": {
   "display_name": "Python 3",
   "language": "python",
   "name": "python3"
  },
  "language_info": {
   "codemirror_mode": {
    "name": "ipython",
    "version": 3
   },
   "file_extension": ".py",
   "mimetype": "text/x-python",
   "name": "python",
   "nbconvert_exporter": "python",
   "pygments_lexer": "ipython3",
   "version": "3.7.3"
  }
 },
 "nbformat": 4,
 "nbformat_minor": 2
}
