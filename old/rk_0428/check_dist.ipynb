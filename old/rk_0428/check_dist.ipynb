{
 "cells": [
  {
   "cell_type": "code",
   "execution_count": 1,
   "metadata": {
    "ExecuteTime": {
     "end_time": "2020-04-26T15:11:42.155234Z",
     "start_time": "2020-04-26T15:11:33.094489Z"
    }
   },
   "outputs": [],
   "source": [
    "import numpy as np\n",
    "import healpy as hp\n",
    "import pandas as pd"
   ]
  },
  {
   "cell_type": "code",
   "execution_count": 2,
   "metadata": {
    "ExecuteTime": {
     "end_time": "2020-04-26T15:11:42.685784Z",
     "start_time": "2020-04-26T15:11:42.367478Z"
    }
   },
   "outputs": [],
   "source": [
    "pc = pd.read_csv('../src_data/one_patch.csv')"
   ]
  },
  {
   "cell_type": "code",
   "execution_count": 3,
   "metadata": {
    "ExecuteTime": {
     "end_time": "2020-04-26T15:11:43.502967Z",
     "start_time": "2020-04-26T15:11:43.477929Z"
    }
   },
   "outputs": [],
   "source": [
    "ra = pc['RAdeg'].iloc[0]\n",
    "dec = pc['DEdeg'].iloc[0]"
   ]
  },
  {
   "cell_type": "code",
   "execution_count": 4,
   "metadata": {
    "ExecuteTime": {
     "end_time": "2020-04-26T15:11:46.687120Z",
     "start_time": "2020-04-26T15:11:44.037145Z"
    }
   },
   "outputs": [],
   "source": [
    "from astropy.coordinates import SkyCoord\n",
    "from astropy import units as u"
   ]
  },
  {
   "cell_type": "code",
   "execution_count": 5,
   "metadata": {
    "ExecuteTime": {
     "end_time": "2020-04-26T15:11:46.693223Z",
     "start_time": "2020-04-26T15:11:46.688986Z"
    }
   },
   "outputs": [],
   "source": [
    "sc = SkyCoord(ra=ra*u.degree, dec=dec*u.degree, frame='icrs')"
   ]
  },
  {
   "cell_type": "code",
   "execution_count": 6,
   "metadata": {
    "ExecuteTime": {
     "end_time": "2020-04-26T15:11:47.229937Z",
     "start_time": "2020-04-26T15:11:47.171482Z"
    }
   },
   "outputs": [],
   "source": [
    "l = sc.galactic.l.degree\n",
    "b = sc.galactic.b.degree"
   ]
  },
  {
   "cell_type": "code",
   "execution_count": 7,
   "metadata": {
    "ExecuteTime": {
     "end_time": "2020-04-26T15:11:50.040920Z",
     "start_time": "2020-04-26T15:11:50.031075Z"
    }
   },
   "outputs": [],
   "source": [
    "def dist(l, b, ll, bb):\n",
    "    sc = SkyCoord(l=l*u.degree, b=b*u.degree, frame='galactic')\n",
    "    sscc = SkyCoord(l=ll*u.degree, b=bb*u.degree, frame='galactic')\n",
    "    return sc.separation(sscc).degree"
   ]
  },
  {
   "cell_type": "code",
   "execution_count": 8,
   "metadata": {
    "ExecuteTime": {
     "end_time": "2020-04-26T15:11:51.952711Z",
     "start_time": "2020-04-26T15:11:51.936815Z"
    }
   },
   "outputs": [
    {
     "data": {
      "text/plain": [
       "0.0"
      ]
     },
     "execution_count": 8,
     "metadata": {},
     "output_type": "execute_result"
    }
   ],
   "source": [
    "dist(l, b, l, b)"
   ]
  },
  {
   "cell_type": "code",
   "execution_count": 10,
   "metadata": {
    "ExecuteTime": {
     "end_time": "2020-04-26T15:12:07.020709Z",
     "start_time": "2020-04-26T15:12:01.106425Z"
    }
   },
   "outputs": [],
   "source": [
    "from all_p import make_pic"
   ]
  },
  {
   "cell_type": "code",
   "execution_count": 11,
   "metadata": {
    "ExecuteTime": {
     "end_time": "2020-04-26T15:12:46.537335Z",
     "start_time": "2020-04-26T15:12:46.530424Z"
    }
   },
   "outputs": [],
   "source": [
    "#pix11 = hp.ang2pix(theta=l, phi=b, lonlat=True, nest=True, nside=2**11)\n",
    "pix17 = hp.ang2pix(theta=l, phi=b, lonlat=True, nest=True, nside=2**17)"
   ]
  },
  {
   "cell_type": "code",
   "execution_count": 18,
   "metadata": {
    "ExecuteTime": {
     "end_time": "2020-04-17T22:24:13.036734Z",
     "start_time": "2020-04-17T22:24:13.028239Z"
    }
   },
   "outputs": [
    {
     "data": {
      "text/plain": [
       "(7115936, 29146875562)"
      ]
     },
     "execution_count": 18,
     "metadata": {},
     "output_type": "execute_result"
    }
   ],
   "source": [
    "#pix11, pix17"
   ]
  },
  {
   "cell_type": "code",
   "execution_count": 30,
   "metadata": {
    "ExecuteTime": {
     "end_time": "2020-04-17T22:48:19.974828Z",
     "start_time": "2020-04-17T22:48:19.696079Z"
    }
   },
   "outputs": [
    {
     "data": {
      "application/vnd.jupyter.widget-view+json": {
       "model_id": "1e2363a5ef43488ab1c4335402293f4c",
       "version_major": 2,
       "version_minor": 0
      },
      "text/plain": [
       "HBox(children=(IntProgress(value=0, max=66), HTML(value='')))"
      ]
     },
     "metadata": {},
     "output_type": "display_data"
    },
    {
     "name": "stdout",
     "output_type": "stream",
     "text": [
      "\n"
     ]
    }
   ],
   "source": [
    "#pix_map11 = make_pic(pix11, nside=2**11, size=66)"
   ]
  },
  {
   "cell_type": "code",
   "execution_count": 12,
   "metadata": {
    "ExecuteTime": {
     "end_time": "2020-04-26T15:16:37.066078Z",
     "start_time": "2020-04-26T15:13:03.575521Z"
    }
   },
   "outputs": [
    {
     "data": {
      "application/vnd.jupyter.widget-view+json": {
       "model_id": "b4a954e82c404fdc85a8a1a720adaac6",
       "version_major": 2,
       "version_minor": 0
      },
      "text/plain": [
       "HBox(children=(IntProgress(value=0, max=2050), HTML(value='')))"
      ]
     },
     "metadata": {},
     "output_type": "display_data"
    },
    {
     "name": "stdout",
     "output_type": "stream",
     "text": [
      "\n"
     ]
    }
   ],
   "source": [
    "pix_map17 = make_pic(pix17, nside=2**17, size=2050)"
   ]
  },
  {
   "cell_type": "code",
   "execution_count": 13,
   "metadata": {
    "ExecuteTime": {
     "end_time": "2020-04-26T15:16:37.073650Z",
     "start_time": "2020-04-26T15:16:37.068087Z"
    }
   },
   "outputs": [],
   "source": [
    "def pix_dist(nside, pix0, pix1):\n",
    "    l0, b0 = hp.pix2ang(nside=nside, ipix=pix0, nest=True, lonlat=True)\n",
    "    l1, b1 = hp.pix2ang(nside=nside, ipix=pix1, nest=True, lonlat=True)\n",
    "    \n",
    "    return dist(l0, b0, l1, b1)"
   ]
  },
  {
   "cell_type": "code",
   "execution_count": 31,
   "metadata": {
    "ExecuteTime": {
     "end_time": "2020-04-17T22:48:22.944749Z",
     "start_time": "2020-04-17T22:48:22.934569Z"
    }
   },
   "outputs": [
    {
     "data": {
      "text/plain": [
       "1.691237818550674"
      ]
     },
     "execution_count": 31,
     "metadata": {},
     "output_type": "execute_result"
    }
   ],
   "source": [
    "pix_dist(2**11, pix11, pix_map11[0,0])"
   ]
  },
  {
   "cell_type": "code",
   "execution_count": 14,
   "metadata": {
    "ExecuteTime": {
     "end_time": "2020-04-26T15:16:37.225333Z",
     "start_time": "2020-04-26T15:16:37.075728Z"
    }
   },
   "outputs": [
    {
     "data": {
      "text/plain": [
       "0.8452888293408316"
      ]
     },
     "execution_count": 14,
     "metadata": {},
     "output_type": "execute_result"
    }
   ],
   "source": [
    "pix_dist(2**17, pix17, pix_map17[0,0])"
   ]
  },
  {
   "cell_type": "code",
   "execution_count": null,
   "metadata": {},
   "outputs": [],
   "source": []
  }
 ],
 "metadata": {
  "kernelspec": {
   "display_name": "Python 3",
   "language": "python",
   "name": "python3"
  },
  "language_info": {
   "codemirror_mode": {
    "name": "ipython",
    "version": 3
   },
   "file_extension": ".py",
   "mimetype": "text/x-python",
   "name": "python",
   "nbconvert_exporter": "python",
   "pygments_lexer": "ipython3",
   "version": "3.7.3"
  }
 },
 "nbformat": 4,
 "nbformat_minor": 2
}
