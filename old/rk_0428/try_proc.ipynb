{
 "cells": [
  {
   "cell_type": "code",
   "execution_count": 1,
   "metadata": {
    "ExecuteTime": {
     "end_time": "2020-04-20T01:02:26.330932Z",
     "start_time": "2020-04-20T01:02:16.821861Z"
    }
   },
   "outputs": [],
   "source": [
    "from api import *"
   ]
  },
  {
   "cell_type": "code",
   "execution_count": 2,
   "metadata": {
    "ExecuteTime": {
     "end_time": "2020-04-20T01:02:32.871517Z",
     "start_time": "2020-04-20T01:02:26.334734Z"
    }
   },
   "outputs": [],
   "source": [
    "from proc import *"
   ]
  },
  {
   "cell_type": "code",
   "execution_count": 3,
   "metadata": {
    "ExecuteTime": {
     "end_time": "2020-04-20T01:02:33.735366Z",
     "start_time": "2020-04-20T01:02:32.881744Z"
    }
   },
   "outputs": [],
   "source": [
    "from generate_patches import *"
   ]
  },
  {
   "cell_type": "code",
   "execution_count": 4,
   "metadata": {
    "ExecuteTime": {
     "end_time": "2020-04-20T01:02:34.036551Z",
     "start_time": "2020-04-20T01:02:33.742930Z"
    }
   },
   "outputs": [],
   "source": [
    "planck = pd.read_csv('../src_data/planck_z-Copy1.csv')"
   ]
  },
  {
   "cell_type": "code",
   "execution_count": 5,
   "metadata": {
    "ExecuteTime": {
     "end_time": "2020-04-20T01:02:47.674763Z",
     "start_time": "2020-04-20T01:02:34.040227Z"
    }
   },
   "outputs": [
    {
     "name": "stdout",
     "output_type": "stream",
     "text": [
      "(50331648,)\n"
     ]
    }
   ],
   "source": [
    "centers_patches = gen_centers(planck, 10, radius=1.5, nside=2**11, \n",
    "                              func=lambda n, nside:in_nth_pix(n, nside, nbig=4))"
   ]
  },
  {
   "cell_type": "code",
   "execution_count": 6,
   "metadata": {
    "ExecuteTime": {
     "end_time": "2020-04-20T01:03:59.241237Z",
     "start_time": "2020-04-20T01:03:59.233707Z"
    }
   },
   "outputs": [
    {
     "data": {
      "text/plain": [
       "(10,)"
      ]
     },
     "execution_count": 6,
     "metadata": {},
     "output_type": "execute_result"
    }
   ],
   "source": [
    "centers_patches.shape"
   ]
  },
  {
   "cell_type": "code",
   "execution_count": 9,
   "metadata": {
    "ExecuteTime": {
     "end_time": "2020-04-20T01:10:11.364867Z",
     "start_time": "2020-04-20T01:10:11.351426Z"
    }
   },
   "outputs": [],
   "source": [
    "def centers2ra_dec(centers, nside=2**11, res_nside=2**17):\n",
    "    theta, phi = hp.pix2ang(nside=nside, lonlat=True, nest=True, ipix=centers)\n",
    "    sc = SkyCoord(l=theta*u.degree, b=phi*u.degree, frame='galactic')\n",
    "    data = pd.DataFrame({'ra' : sc.icrs.ra.degree, 'dec' : sc.icrs.dec.degree})\n",
    "    if res_nside == nside:\n",
    "        data['pix'] = centers\n",
    "    else:\n",
    "        data['pix'] = hp.ang2pix(theta=theta, phi=phi, nest=True, nside=res_nside, lonlat=True)\n",
    "    return data"
   ]
  },
  {
   "cell_type": "code",
   "execution_count": 10,
   "metadata": {
    "ExecuteTime": {
     "end_time": "2020-04-20T01:10:11.757774Z",
     "start_time": "2020-04-20T01:10:11.724898Z"
    }
   },
   "outputs": [],
   "source": [
    "c_rd = centers2ra_dec(centers_patches)"
   ]
  },
  {
   "cell_type": "code",
   "execution_count": 11,
   "metadata": {
    "ExecuteTime": {
     "end_time": "2020-04-20T01:10:17.158839Z",
     "start_time": "2020-04-20T01:10:17.101352Z"
    }
   },
   "outputs": [
    {
     "data": {
      "text/html": [
       "<div>\n",
       "<style scoped>\n",
       "    .dataframe tbody tr th:only-of-type {\n",
       "        vertical-align: middle;\n",
       "    }\n",
       "\n",
       "    .dataframe tbody tr th {\n",
       "        vertical-align: top;\n",
       "    }\n",
       "\n",
       "    .dataframe thead th {\n",
       "        text-align: right;\n",
       "    }\n",
       "</style>\n",
       "<table border=\"1\" class=\"dataframe\">\n",
       "  <thead>\n",
       "    <tr style=\"text-align: right;\">\n",
       "      <th></th>\n",
       "      <th>ra</th>\n",
       "      <th>dec</th>\n",
       "      <th>pix</th>\n",
       "    </tr>\n",
       "  </thead>\n",
       "  <tbody>\n",
       "    <tr>\n",
       "      <th>0</th>\n",
       "      <td>112.518224</td>\n",
       "      <td>73.955458</td>\n",
       "      <td>20726593194</td>\n",
       "    </tr>\n",
       "    <tr>\n",
       "      <th>1</th>\n",
       "      <td>97.016781</td>\n",
       "      <td>68.181778</td>\n",
       "      <td>19111331498</td>\n",
       "    </tr>\n",
       "    <tr>\n",
       "      <th>2</th>\n",
       "      <td>100.142482</td>\n",
       "      <td>75.057815</td>\n",
       "      <td>20499556010</td>\n",
       "    </tr>\n",
       "    <tr>\n",
       "      <th>3</th>\n",
       "      <td>44.908473</td>\n",
       "      <td>78.890212</td>\n",
       "      <td>19648649557</td>\n",
       "    </tr>\n",
       "    <tr>\n",
       "      <th>4</th>\n",
       "      <td>113.331027</td>\n",
       "      <td>73.660705</td>\n",
       "      <td>20727424682</td>\n",
       "    </tr>\n",
       "    <tr>\n",
       "      <th>5</th>\n",
       "      <td>147.331390</td>\n",
       "      <td>77.321883</td>\n",
       "      <td>21363816106</td>\n",
       "    </tr>\n",
       "    <tr>\n",
       "      <th>6</th>\n",
       "      <td>73.372187</td>\n",
       "      <td>68.043812</td>\n",
       "      <td>18435298986</td>\n",
       "    </tr>\n",
       "    <tr>\n",
       "      <th>7</th>\n",
       "      <td>100.884806</td>\n",
       "      <td>70.604441</td>\n",
       "      <td>19220326058</td>\n",
       "    </tr>\n",
       "    <tr>\n",
       "      <th>8</th>\n",
       "      <td>45.694592</td>\n",
       "      <td>77.987601</td>\n",
       "      <td>19623286442</td>\n",
       "    </tr>\n",
       "    <tr>\n",
       "      <th>9</th>\n",
       "      <td>103.926016</td>\n",
       "      <td>71.421707</td>\n",
       "      <td>19250386602</td>\n",
       "    </tr>\n",
       "  </tbody>\n",
       "</table>\n",
       "</div>"
      ],
      "text/plain": [
       "           ra        dec          pix\n",
       "0  112.518224  73.955458  20726593194\n",
       "1   97.016781  68.181778  19111331498\n",
       "2  100.142482  75.057815  20499556010\n",
       "3   44.908473  78.890212  19648649557\n",
       "4  113.331027  73.660705  20727424682\n",
       "5  147.331390  77.321883  21363816106\n",
       "6   73.372187  68.043812  18435298986\n",
       "7  100.884806  70.604441  19220326058\n",
       "8   45.694592  77.987601  19623286442\n",
       "9  103.926016  71.421707  19250386602"
      ]
     },
     "execution_count": 11,
     "metadata": {},
     "output_type": "execute_result"
    }
   ],
   "source": [
    "c_rd"
   ]
  },
  {
   "cell_type": "code",
   "execution_count": 12,
   "metadata": {
    "ExecuteTime": {
     "end_time": "2020-04-20T01:11:15.302816Z",
     "start_time": "2020-04-20T01:11:15.295109Z"
    }
   },
   "outputs": [],
   "source": [
    "del(centers_patches)\n",
    "del(c_rd)"
   ]
  },
  {
   "cell_type": "code",
   "execution_count": 13,
   "metadata": {
    "ExecuteTime": {
     "end_time": "2020-04-20T01:13:20.084814Z",
     "start_time": "2020-04-20T01:12:45.055525Z"
    }
   },
   "outputs": [
    {
     "name": "stdout",
     "output_type": "stream",
     "text": [
      "(50331648,)\n"
     ]
    }
   ],
   "source": [
    "patches = gen_centers(planck, 50, radius=1.5, nside=2**11, \n",
    "                     func=lambda n, nside:in_nth_pix(n, nside, nbig=4))"
   ]
  },
  {
   "cell_type": "code",
   "execution_count": 14,
   "metadata": {
    "ExecuteTime": {
     "end_time": "2020-04-20T01:13:30.027786Z",
     "start_time": "2020-04-20T01:13:30.015116Z"
    }
   },
   "outputs": [],
   "source": [
    "patches = centers2ra_dec(patches)"
   ]
  },
  {
   "cell_type": "code",
   "execution_count": 15,
   "metadata": {
    "ExecuteTime": {
     "end_time": "2020-04-20T01:14:57.612269Z",
     "start_time": "2020-04-20T01:14:57.565756Z"
    }
   },
   "outputs": [],
   "source": [
    "patches.to_csv('/home/rt2122/data/train/centers_50_in4.csv')"
   ]
  },
  {
   "cell_type": "code",
   "execution_count": 18,
   "metadata": {
    "ExecuteTime": {
     "end_time": "2020-04-20T01:28:59.369647Z",
     "start_time": "2020-04-20T01:26:47.410407Z"
    }
   },
   "outputs": [
    {
     "name": "stdout",
     "output_type": "stream",
     "text": [
      "https://catalogs.mast.stsci.edu/api/v0.1/panstarrs/dr2/stack.csv?nDetections.gt=1&ra=68.14971979554957&dec=67.3437821215862&radius=1.7&columns=%5Bl%2Cb%2CgPSFFlux%2CgPSFFluxErr%2CgKronFlux%2CgKronFluxErr%2CrPSFFlux%2CrPSFFluxErr%2CrKronFlux%2CrKronFluxErr%2CiPSFFlux%2CiPSFFluxErr%2CiKronFlux%2CiKronFluxErr%2CzPSFFlux%2CzPSFFluxErr%2CzKronFlux%2CzKronFluxErr%2CyPSFFlux%2CyPSFFluxErr%2CyKronFlux%2CyKronFluxErr%5D\n"
     ]
    },
    {
     "ename": "HTTPError",
     "evalue": "504 Server Error: Gateway Time-out for url: https://catalogs.mast.stsci.edu/api/v0.1/panstarrs/dr2/stack.csv?nDetections.gt=1&ra=68.14971979554957&dec=67.3437821215862&radius=1.7&columns=%5Bl%2Cb%2CgPSFFlux%2CgPSFFluxErr%2CgKronFlux%2CgKronFluxErr%2CrPSFFlux%2CrPSFFluxErr%2CrKronFlux%2CrKronFluxErr%2CiPSFFlux%2CiPSFFluxErr%2CiKronFlux%2CiKronFluxErr%2CzPSFFlux%2CzPSFFluxErr%2CzKronFlux%2CzKronFluxErr%2CyPSFFlux%2CyPSFFluxErr%2CyKronFlux%2CyKronFluxErr%5D",
     "output_type": "error",
     "traceback": [
      "\u001b[0;31m---------------------------------------------------------------------------\u001b[0m",
      "\u001b[0;31mHTTPError\u001b[0m                                 Traceback (most recent call last)",
      "\u001b[0;32m<ipython-input-18-42c68ad2986a>\u001b[0m in \u001b[0;36m<module>\u001b[0;34m\u001b[0m\n\u001b[1;32m      3\u001b[0m     \u001b[0mdec\u001b[0m \u001b[0;34m=\u001b[0m \u001b[0mpatches\u001b[0m\u001b[0;34m[\u001b[0m\u001b[0;34m'dec'\u001b[0m\u001b[0;34m]\u001b[0m\u001b[0;34m.\u001b[0m\u001b[0miloc\u001b[0m\u001b[0;34m[\u001b[0m\u001b[0mi\u001b[0m\u001b[0;34m]\u001b[0m\u001b[0;34m\u001b[0m\u001b[0;34m\u001b[0m\u001b[0m\n\u001b[1;32m      4\u001b[0m \u001b[0;34m\u001b[0m\u001b[0m\n\u001b[0;32m----> 5\u001b[0;31m     \u001b[0mpatch_data\u001b[0m \u001b[0;34m=\u001b[0m \u001b[0mget_one_patch\u001b[0m\u001b[0;34m(\u001b[0m\u001b[0mra\u001b[0m\u001b[0;34m,\u001b[0m \u001b[0mdec\u001b[0m\u001b[0;34m,\u001b[0m \u001b[0;36m1.7\u001b[0m\u001b[0;34m)\u001b[0m\u001b[0;34m\u001b[0m\u001b[0;34m\u001b[0m\u001b[0m\n\u001b[0m\u001b[1;32m      6\u001b[0m     \u001b[0mpatch_data\u001b[0m\u001b[0;34m.\u001b[0m\u001b[0mindex\u001b[0m\u001b[0;34m.\u001b[0m\u001b[0mname\u001b[0m\u001b[0;34m=\u001b[0m\u001b[0;34m'index'\u001b[0m\u001b[0;34m\u001b[0m\u001b[0;34m\u001b[0m\u001b[0m\n\u001b[1;32m      7\u001b[0m \u001b[0;34m\u001b[0m\u001b[0m\n",
      "\u001b[0;32m~/L/git/data-segmentation/rk/api.py\u001b[0m in \u001b[0;36mget_one_patch\u001b[0;34m(ra, dec, radius)\u001b[0m\n\u001b[1;32m    219\u001b[0m     \u001b[0mcolumns\u001b[0m \u001b[0;34m=\u001b[0m \u001b[0;34m[\u001b[0m\u001b[0mx\u001b[0m\u001b[0;34m.\u001b[0m\u001b[0mstrip\u001b[0m\u001b[0;34m(\u001b[0m\u001b[0;34m)\u001b[0m \u001b[0;32mfor\u001b[0m \u001b[0mx\u001b[0m \u001b[0;32min\u001b[0m \u001b[0mcolumns\u001b[0m\u001b[0;34m]\u001b[0m\u001b[0;34m\u001b[0m\u001b[0;34m\u001b[0m\u001b[0m\n\u001b[1;32m    220\u001b[0m     \u001b[0mcolumns\u001b[0m \u001b[0;34m=\u001b[0m \u001b[0;34m[\u001b[0m\u001b[0mx\u001b[0m \u001b[0;32mfor\u001b[0m \u001b[0mx\u001b[0m \u001b[0;32min\u001b[0m \u001b[0mcolumns\u001b[0m \u001b[0;32mif\u001b[0m \u001b[0mx\u001b[0m \u001b[0;32mand\u001b[0m \u001b[0;32mnot\u001b[0m \u001b[0mx\u001b[0m\u001b[0;34m.\u001b[0m\u001b[0mstartswith\u001b[0m\u001b[0;34m(\u001b[0m\u001b[0;34m'#'\u001b[0m\u001b[0;34m)\u001b[0m\u001b[0;34m]\u001b[0m\u001b[0;34m\u001b[0m\u001b[0;34m\u001b[0m\u001b[0m\n\u001b[0;32m--> 221\u001b[0;31m     \u001b[0mresults\u001b[0m \u001b[0;34m=\u001b[0m \u001b[0mps1cone\u001b[0m\u001b[0;34m(\u001b[0m\u001b[0mra\u001b[0m\u001b[0;34m,\u001b[0m\u001b[0mdec\u001b[0m\u001b[0;34m,\u001b[0m\u001b[0mradius\u001b[0m\u001b[0;34m,\u001b[0m\u001b[0mrelease\u001b[0m\u001b[0;34m=\u001b[0m\u001b[0;34m'dr2'\u001b[0m\u001b[0;34m,\u001b[0m\u001b[0mcolumns\u001b[0m\u001b[0;34m=\u001b[0m\u001b[0mcolumns\u001b[0m\u001b[0;34m,\u001b[0m\u001b[0mverbose\u001b[0m\u001b[0;34m=\u001b[0m\u001b[0;32mTrue\u001b[0m\u001b[0;34m,\u001b[0m\u001b[0;34m**\u001b[0m\u001b[0mconstraints\u001b[0m\u001b[0;34m,\u001b[0m \u001b[0mtable\u001b[0m\u001b[0;34m=\u001b[0m\u001b[0;34m'stack'\u001b[0m\u001b[0;34m)\u001b[0m\u001b[0;34m\u001b[0m\u001b[0;34m\u001b[0m\u001b[0m\n\u001b[0m\u001b[1;32m    222\u001b[0m     \u001b[0mlines\u001b[0m \u001b[0;34m=\u001b[0m \u001b[0mresults\u001b[0m\u001b[0;34m.\u001b[0m\u001b[0msplit\u001b[0m\u001b[0;34m(\u001b[0m\u001b[0;34m'\\n'\u001b[0m\u001b[0;34m)\u001b[0m\u001b[0;34m\u001b[0m\u001b[0;34m\u001b[0m\u001b[0m\n\u001b[1;32m    223\u001b[0m \u001b[0;34m\u001b[0m\u001b[0m\n",
      "\u001b[0;32m~/L/git/data-segmentation/rk/api.py\u001b[0m in \u001b[0;36mps1cone\u001b[0;34m(ra, dec, radius, table, release, format, columns, baseurl, verbose, **kw)\u001b[0m\n\u001b[1;32m     46\u001b[0m     \u001b[0mdata\u001b[0m\u001b[0;34m[\u001b[0m\u001b[0;34m'radius'\u001b[0m\u001b[0;34m]\u001b[0m \u001b[0;34m=\u001b[0m \u001b[0mradius\u001b[0m\u001b[0;34m\u001b[0m\u001b[0;34m\u001b[0m\u001b[0m\n\u001b[1;32m     47\u001b[0m     return ps1search(table=table,release=release,format=format,columns=columns,\n\u001b[0;32m---> 48\u001b[0;31m                     baseurl=baseurl, verbose=verbose, **data)\n\u001b[0m\u001b[1;32m     49\u001b[0m \u001b[0;34m\u001b[0m\u001b[0m\n\u001b[1;32m     50\u001b[0m \u001b[0;34m\u001b[0m\u001b[0m\n",
      "\u001b[0;32m~/L/git/data-segmentation/rk/api.py\u001b[0m in \u001b[0;36mps1search\u001b[0;34m(table, release, format, columns, baseurl, verbose, **kw)\u001b[0m\n\u001b[1;32m     94\u001b[0m     \u001b[0;32mif\u001b[0m \u001b[0mverbose\u001b[0m\u001b[0;34m:\u001b[0m\u001b[0;34m\u001b[0m\u001b[0;34m\u001b[0m\u001b[0m\n\u001b[1;32m     95\u001b[0m         \u001b[0mprint\u001b[0m\u001b[0;34m(\u001b[0m\u001b[0mr\u001b[0m\u001b[0;34m.\u001b[0m\u001b[0murl\u001b[0m\u001b[0;34m)\u001b[0m\u001b[0;34m\u001b[0m\u001b[0;34m\u001b[0m\u001b[0m\n\u001b[0;32m---> 96\u001b[0;31m     \u001b[0mr\u001b[0m\u001b[0;34m.\u001b[0m\u001b[0mraise_for_status\u001b[0m\u001b[0;34m(\u001b[0m\u001b[0;34m)\u001b[0m\u001b[0;34m\u001b[0m\u001b[0;34m\u001b[0m\u001b[0m\n\u001b[0m\u001b[1;32m     97\u001b[0m     \u001b[0;32mif\u001b[0m \u001b[0mformat\u001b[0m \u001b[0;34m==\u001b[0m \u001b[0;34m\"json\"\u001b[0m\u001b[0;34m:\u001b[0m\u001b[0;34m\u001b[0m\u001b[0;34m\u001b[0m\u001b[0m\n\u001b[1;32m     98\u001b[0m         \u001b[0;32mreturn\u001b[0m \u001b[0mr\u001b[0m\u001b[0;34m.\u001b[0m\u001b[0mjson\u001b[0m\u001b[0;34m(\u001b[0m\u001b[0;34m)\u001b[0m\u001b[0;34m\u001b[0m\u001b[0;34m\u001b[0m\u001b[0m\n",
      "\u001b[0;32m~/anaconda3/lib/python3.7/site-packages/requests/models.py\u001b[0m in \u001b[0;36mraise_for_status\u001b[0;34m(self)\u001b[0m\n\u001b[1;32m    938\u001b[0m \u001b[0;34m\u001b[0m\u001b[0m\n\u001b[1;32m    939\u001b[0m         \u001b[0;32mif\u001b[0m \u001b[0mhttp_error_msg\u001b[0m\u001b[0;34m:\u001b[0m\u001b[0;34m\u001b[0m\u001b[0;34m\u001b[0m\u001b[0m\n\u001b[0;32m--> 940\u001b[0;31m             \u001b[0;32mraise\u001b[0m \u001b[0mHTTPError\u001b[0m\u001b[0;34m(\u001b[0m\u001b[0mhttp_error_msg\u001b[0m\u001b[0;34m,\u001b[0m \u001b[0mresponse\u001b[0m\u001b[0;34m=\u001b[0m\u001b[0mself\u001b[0m\u001b[0;34m)\u001b[0m\u001b[0;34m\u001b[0m\u001b[0;34m\u001b[0m\u001b[0m\n\u001b[0m\u001b[1;32m    941\u001b[0m \u001b[0;34m\u001b[0m\u001b[0m\n\u001b[1;32m    942\u001b[0m     \u001b[0;32mdef\u001b[0m \u001b[0mclose\u001b[0m\u001b[0;34m(\u001b[0m\u001b[0mself\u001b[0m\u001b[0;34m)\u001b[0m\u001b[0;34m:\u001b[0m\u001b[0;34m\u001b[0m\u001b[0;34m\u001b[0m\u001b[0m\n",
      "\u001b[0;31mHTTPError\u001b[0m: 504 Server Error: Gateway Time-out for url: https://catalogs.mast.stsci.edu/api/v0.1/panstarrs/dr2/stack.csv?nDetections.gt=1&ra=68.14971979554957&dec=67.3437821215862&radius=1.7&columns=%5Bl%2Cb%2CgPSFFlux%2CgPSFFluxErr%2CgKronFlux%2CgKronFluxErr%2CrPSFFlux%2CrPSFFluxErr%2CrKronFlux%2CrKronFluxErr%2CiPSFFlux%2CiPSFFluxErr%2CiKronFlux%2CiKronFluxErr%2CzPSFFlux%2CzPSFFluxErr%2CzKronFlux%2CzKronFluxErr%2CyPSFFlux%2CyPSFFluxErr%2CyKronFlux%2CyKronFluxErr%5D"
     ]
    }
   ],
   "source": [
    "for i in range(patches.shape[0]):\n",
    "    ra = patches['ra'].iloc[i]\n",
    "    dec = patches['dec'].iloc[i]\n",
    "    \n",
    "    patch_data = get_one_patch(ra, dec, 1.7)\n",
    "    patch_data.index.name='index'\n",
    "    \n",
    "    pix = patches['pix'].iloc[i]\n",
    "    name = '/home/rt2122/data/train/data%d_%dpix_bp4_ns17.csv' % (i, pix)\n",
    "    patch_data.to_csv(name)"
   ]
  },
  {
   "cell_type": "code",
   "execution_count": 1,
   "metadata": {
    "ExecuteTime": {
     "end_time": "2020-04-26T19:09:42.784229Z",
     "start_time": "2020-04-26T19:09:42.462236Z"
    }
   },
   "outputs": [],
   "source": [
    "import pandas as pd"
   ]
  },
  {
   "cell_type": "code",
   "execution_count": 2,
   "metadata": {
    "ExecuteTime": {
     "end_time": "2020-04-26T19:10:09.559769Z",
     "start_time": "2020-04-26T19:10:08.947507Z"
    }
   },
   "outputs": [],
   "source": [
    "patch = pd.read_csv('/home/rt2122/data/train/no_edit/tdat_il1_ip11_ra118.8646_dec52.9088_sne_in5.csv')"
   ]
  },
  {
   "cell_type": "code",
   "execution_count": 3,
   "metadata": {
    "ExecuteTime": {
     "end_time": "2020-04-26T19:10:13.296796Z",
     "start_time": "2020-04-26T19:10:13.281253Z"
    }
   },
   "outputs": [
    {
     "data": {
      "text/plain": [
       "(68958, 23)"
      ]
     },
     "execution_count": 3,
     "metadata": {},
     "output_type": "execute_result"
    }
   ],
   "source": [
    "patch.shape"
   ]
  },
  {
   "cell_type": "code",
   "execution_count": 4,
   "metadata": {
    "ExecuteTime": {
     "end_time": "2020-04-26T19:10:29.305363Z",
     "start_time": "2020-04-26T19:10:29.302670Z"
    }
   },
   "outputs": [],
   "source": [
    "import numpy as np"
   ]
  },
  {
   "cell_type": "code",
   "execution_count": 12,
   "metadata": {
    "ExecuteTime": {
     "end_time": "2020-04-26T19:11:35.613992Z",
     "start_time": "2020-04-26T19:11:35.600257Z"
    }
   },
   "outputs": [
    {
     "data": {
      "text/plain": [
       "90"
      ]
     },
     "execution_count": 12,
     "metadata": {},
     "output_type": "execute_result"
    }
   ],
   "source": [
    "np.count_nonzero(np.abs(patch['rKronFlux']) <= 0.000001)"
   ]
  },
  {
   "cell_type": "code",
   "execution_count": null,
   "metadata": {},
   "outputs": [],
   "source": []
  }
 ],
 "metadata": {
  "kernelspec": {
   "display_name": "Python 3",
   "language": "python",
   "name": "python3"
  },
  "language_info": {
   "codemirror_mode": {
    "name": "ipython",
    "version": 3
   },
   "file_extension": ".py",
   "mimetype": "text/x-python",
   "name": "python",
   "nbconvert_exporter": "python",
   "pygments_lexer": "ipython3",
   "version": "3.7.3"
  }
 },
 "nbformat": 4,
 "nbformat_minor": 2
}
