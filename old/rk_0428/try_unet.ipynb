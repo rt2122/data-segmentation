{
 "cells": [
  {
   "cell_type": "code",
   "execution_count": 2,
   "metadata": {
    "ExecuteTime": {
     "end_time": "2020-04-24T18:30:56.234827Z",
     "start_time": "2020-04-24T18:30:32.369013Z"
    }
   },
   "outputs": [],
   "source": [
    "from Unet import unet"
   ]
  },
  {
   "cell_type": "code",
   "execution_count": 3,
   "metadata": {
    "ExecuteTime": {
     "end_time": "2020-04-24T18:37:38.345905Z",
     "start_time": "2020-04-24T18:37:34.921917Z"
    }
   },
   "outputs": [],
   "source": [
    "model = unet(input_size=(None, None, 5), filters=16, blocks=3)"
   ]
  },
  {
   "cell_type": "code",
   "execution_count": 4,
   "metadata": {
    "ExecuteTime": {
     "end_time": "2020-04-24T18:38:39.893239Z",
     "start_time": "2020-04-24T18:38:39.886734Z"
    }
   },
   "outputs": [],
   "source": [
    "from os import walk"
   ]
  },
  {
   "cell_type": "code",
   "execution_count": 6,
   "metadata": {
    "ExecuteTime": {
     "end_time": "2020-04-24T18:44:56.998280Z",
     "start_time": "2020-04-24T18:44:56.984651Z"
    }
   },
   "outputs": [
    {
     "data": {
      "text/plain": [
       "['tf_ip17_ra133.0238_dec77.3853_sgrizym_in4_il0.csv.npy',\n",
       " 'tf_ip18_ra92.5061_dec85.5084_sgrizym_in4_il0.csv.npy',\n",
       " 'tf_ip10_ra149.8894_dec75.3573_sgrizym_in4_il0.csv.npy',\n",
       " 'tf_ip3_ra68.5748_dec86.6007_sgrizym_in4_il0.csv.npy',\n",
       " 'tf_ip8_ra51.6729_dec78.4047_sgrizym_in4_il0.csv.npy',\n",
       " 'tf_ip16_ra128.9214_dec76.5332_sgrizym_in4_il0.csv.npy',\n",
       " 'tf_ip12_ra52.0033_dec78.6723_sgrizym_in4_il0.csv.npy',\n",
       " 'tf_ip9_ra96.1332_dec67.3208_sgrizym_in4_il0.csv.npy',\n",
       " 'tf_ip5_ra101.1796_dec70.7459_sgrizym_in4_il0.csv.npy',\n",
       " 'tf_ip1_ra95.6591_dec66.9648_sgrizym_in4_il0.csv.npy',\n",
       " 'tf_ip14_ra99.4052_dec75.2856_sgrizym_in4_il0.csv.npy',\n",
       " 'tf_ip19_ra101.2175_dec68.8344_sgrizym_in4_il0.csv.npy',\n",
       " 'tf_ip6_ra95.8086_dec68.133_sgrizym_in4_il0.csv.npy',\n",
       " 'tf_ip0_ra68.1497_dec67.3438_sgrizym_in4_il0.csv.npy',\n",
       " 'tf_ip2_ra91.6275_dec67.48_sgrizym_in4_il0.csv.npy',\n",
       " 'tf_ip4_ra93.6453_dec74.5114_sgrizym_in4_il0.csv.npy',\n",
       " 'tf_ip13_ra52.1056_dec77.6378_sgrizym_in4_il0.csv.npy',\n",
       " 'tf_ip11_ra95.9004_dec67.9524_sgrizym_in4_il0.csv.npy',\n",
       " 'tf_ip7_ra112.9365_dec74.2803_sgrizym_in4_il0.csv.npy',\n",
       " 'tf_ip15_ra138.5468_dec79.3242_sgrizym_in4_il0.csv.npy']"
      ]
     },
     "execution_count": 6,
     "metadata": {},
     "output_type": "execute_result"
    }
   ],
   "source": [
    "files = next(walk('/home/rt2122/data/train/filters/'))[-1]\n",
    "files"
   ]
  },
  {
   "cell_type": "code",
   "execution_count": 7,
   "metadata": {
    "ExecuteTime": {
     "end_time": "2020-04-24T18:50:36.681290Z",
     "start_time": "2020-04-24T18:50:36.676635Z"
    }
   },
   "outputs": [],
   "source": [
    "import numpy as np"
   ]
  },
  {
   "cell_type": "code",
   "execution_count": 11,
   "metadata": {
    "ExecuteTime": {
     "end_time": "2020-04-24T18:54:49.094845Z",
     "start_time": "2020-04-24T18:54:49.082201Z"
    }
   },
   "outputs": [],
   "source": [
    "def my_image_mask_generator(dirf, files):\n",
    "    for f in files:\n",
    "        data = np.load(join(dirf, f))\n",
    "        mask = data[:,:,-1]\n",
    "        yield (np.array([data[:,:,:-1]]), np.array([mask]))"
   ]
  },
  {
   "cell_type": "code",
   "execution_count": 9,
   "metadata": {
    "ExecuteTime": {
     "end_time": "2020-04-24T18:52:02.429757Z",
     "start_time": "2020-04-24T18:52:02.419155Z"
    }
   },
   "outputs": [],
   "source": [
    "from os.path import join"
   ]
  },
  {
   "cell_type": "code",
   "execution_count": 10,
   "metadata": {
    "ExecuteTime": {
     "end_time": "2020-04-24T18:53:25.216039Z",
     "start_time": "2020-04-24T18:53:25.209867Z"
    }
   },
   "outputs": [],
   "source": [
    "dirf = '/home/rt2122/data/train/filters/'"
   ]
  },
  {
   "cell_type": "code",
   "execution_count": null,
   "metadata": {},
   "outputs": [],
   "source": [
    "steps "
   ]
  },
  {
   "cell_type": "code",
   "execution_count": null,
   "metadata": {},
   "outputs": [],
   "source": [
    "history = model.fit_generator(my_image_mask_generator(dirf, files), \n",
    "                             steps_per_epoch = , epochs=5)"
   ]
  }
 ],
 "metadata": {
  "kernelspec": {
   "display_name": "Python 3",
   "language": "python",
   "name": "python3"
  },
  "language_info": {
   "codemirror_mode": {
    "name": "ipython",
    "version": 3
   },
   "file_extension": ".py",
   "mimetype": "text/x-python",
   "name": "python",
   "nbconvert_exporter": "python",
   "pygments_lexer": "ipython3",
   "version": "3.7.3"
  }
 },
 "nbformat": 4,
 "nbformat_minor": 2
}
