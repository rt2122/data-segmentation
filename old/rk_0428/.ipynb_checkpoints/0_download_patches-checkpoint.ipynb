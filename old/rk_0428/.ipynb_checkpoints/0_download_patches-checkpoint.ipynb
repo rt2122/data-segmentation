{
 "cells": [
  {
   "cell_type": "code",
   "execution_count": 1,
   "metadata": {
    "ExecuteTime": {
     "end_time": "2020-04-26T20:31:51.736497Z",
     "start_time": "2020-04-26T20:31:51.723865Z"
    }
   },
   "outputs": [],
   "source": [
    "def download_patches(filename, dirname, start=0):\n",
    "    import pandas as pd\n",
    "    from only_colab import get_patch\n",
    "    from all_p import ClusterFile\n",
    "    from os.path import join\n",
    "    from tqdm import tqdm_notebook\n",
    "    \n",
    "    cnt = pd.read_csv(filename, index_col='index')\n",
    "    cnt_cf = ClusterFile(filename)\n",
    "    radius = cnt_cf.params['size']\n",
    "    print('radius: %f' % radius)\n",
    "    \n",
    "    cf = ClusterFile('_')\n",
    "    cf.params['typ'] = 'dat'\n",
    "    cf.params['id_list'] = cnt_cf.params['id_list']\n",
    "    cf.params['state'] = 'ne'\n",
    "    cf.params['inpix'] = cnt_cf.params['inpix']\n",
    "    for i in tqdm_notebook(range(start, cnt.shape[0])):\n",
    "        ra = cnt['ra'].iloc[i]\n",
    "        dec = cnt['dec'].iloc[i]\n",
    "        cf.params['ra'] = ra\n",
    "        cf.params['dec'] = dec\n",
    "        cf.params['id_patch'] = i\n",
    "        \n",
    "        print('downloading to: %s'%join(dirname,cf.file('.csv')))\n",
    "        get_patch(ra, dec, radius*60, job_name=str(i), file_name=join(dirname, cf.file('.csv')), \n",
    "                  table_name='table%d_%d' % (cnt_cf.params['id_list'], i))"
   ]
  },
  {
   "cell_type": "code",
   "execution_count": 2,
   "metadata": {
    "ExecuteTime": {
     "end_time": "2020-04-26T20:31:58.828861Z",
     "start_time": "2020-04-26T20:31:58.823662Z"
    }
   },
   "outputs": [],
   "source": [
    "dirname = '/home/rt2122/data/train/no_edit/'"
   ]
  },
  {
   "cell_type": "code",
   "execution_count": 3,
   "metadata": {
    "ExecuteTime": {
     "end_time": "2020-04-26T20:31:59.670825Z",
     "start_time": "2020-04-26T20:31:59.357630Z"
    }
   },
   "outputs": [],
   "source": [
    "import pandas as pd"
   ]
  },
  {
   "cell_type": "code",
   "execution_count": 4,
   "metadata": {
    "ExecuteTime": {
     "end_time": "2020-04-26T20:32:08.388448Z",
     "start_time": "2020-04-26T20:32:08.382760Z"
    }
   },
   "outputs": [],
   "source": [
    "cnt_name = '/home/rt2122/data/train/centers/tcen_il4_n20_in7_len0.8453_hns17.csv'"
   ]
  },
  {
   "cell_type": "code",
   "execution_count": 6,
   "metadata": {
    "ExecuteTime": {
     "end_time": "2020-04-26T21:23:29.679409Z",
     "start_time": "2020-04-26T21:16:51.801130Z"
    }
   },
   "outputs": [
    {
     "name": "stdout",
     "output_type": "stream",
     "text": [
      "radius: 0.845300\n"
     ]
    },
    {
     "data": {
      "application/vnd.jupyter.widget-view+json": {
       "model_id": "1fadaf5d64d941a8a26bc494ded7a5ee",
       "version_major": 2,
       "version_minor": 0
      },
      "text/plain": [
       "HBox(children=(IntProgress(value=0, max=3), HTML(value='')))"
      ]
     },
     "metadata": {},
     "output_type": "display_data"
    },
    {
     "name": "stdout",
     "output_type": "stream",
     "text": [
      "downloading to: /home/rt2122/data/train/no_edit/tdat_il4_ip17_ra170.8056_dec43.5411_sne_in7.csv\n",
      "downloading to: /home/rt2122/data/train/no_edit/tdat_il4_ip18_ra197.8840_dec38.4552_sne_in7.csv\n",
      "downloading to: /home/rt2122/data/train/no_edit/tdat_il4_ip19_ra178.0183_dec60.5293_sne_in7.csv\n"
     ]
    }
   ],
   "source": [
    "download_patches(cnt_name, dirname, 17)"
   ]
  },
  {
   "cell_type": "code",
   "execution_count": 13,
   "metadata": {
    "ExecuteTime": {
     "end_time": "2020-04-26T16:58:25.685881Z",
     "start_time": "2020-04-26T16:58:25.670599Z"
    }
   },
   "outputs": [],
   "source": [
    "import pandas as pd\n",
    "cnt = pd.read_csv(cnt_name, index_col='index')"
   ]
  },
  {
   "cell_type": "code",
   "execution_count": 16,
   "metadata": {
    "ExecuteTime": {
     "end_time": "2020-04-26T16:59:09.326523Z",
     "start_time": "2020-04-26T16:59:09.310653Z"
    }
   },
   "outputs": [
    {
     "data": {
      "text/plain": [
       "59.233197354075244"
      ]
     },
     "execution_count": 16,
     "metadata": {},
     "output_type": "execute_result"
    }
   ],
   "source": [
    "cnt['dec'].iloc[14]"
   ]
  },
  {
   "cell_type": "code",
   "execution_count": null,
   "metadata": {},
   "outputs": [],
   "source": []
  }
 ],
 "metadata": {
  "kernelspec": {
   "display_name": "Python 3",
   "language": "python",
   "name": "python3"
  },
  "language_info": {
   "codemirror_mode": {
    "name": "ipython",
    "version": 3
   },
   "file_extension": ".py",
   "mimetype": "text/x-python",
   "name": "python",
   "nbconvert_exporter": "python",
   "pygments_lexer": "ipython3",
   "version": "3.7.3"
  }
 },
 "nbformat": 4,
 "nbformat_minor": 2
}
