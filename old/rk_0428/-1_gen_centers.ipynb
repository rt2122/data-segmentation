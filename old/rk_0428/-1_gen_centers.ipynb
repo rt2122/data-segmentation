{
 "cells": [
  {
   "cell_type": "code",
   "execution_count": 2,
   "metadata": {
    "ExecuteTime": {
     "end_time": "2020-04-26T20:28:31.313384Z",
     "start_time": "2020-04-26T20:28:30.963453Z"
    }
   },
   "outputs": [],
   "source": [
    "import healpy as hp\n",
    "import pandas as pd\n",
    "import numpy as np\n",
    "from astropy.coordinates import SkyCoord\n",
    "from astropy import units as u\n",
    "dist=0.8452888293408316\n",
    "from all_p import gen_patches_pixels, gen_centers_fast"
   ]
  },
  {
   "cell_type": "code",
   "execution_count": 3,
   "metadata": {
    "ExecuteTime": {
     "end_time": "2020-04-26T15:47:05.806037Z",
     "start_time": "2020-04-26T15:47:05.788708Z"
    }
   },
   "outputs": [],
   "source": [
    "'''\n",
    "def gen_patches_pixels(cat, radius, nside=2**10):\n",
    "    \n",
    "    all_pixels = np.array([])\n",
    "    for i in range(cat.shape[0]):\n",
    "        ra = cat['RAdeg'].iloc[i]\n",
    "        dec = cat['DEdeg'].iloc[i]\n",
    "        sc = SkyCoord(ra=ra*u.degree, dec=dec*u.degree, frame='icrs')\n",
    "        vec = hp.ang2vec(theta=sc.galactic.l.degree, \n",
    "                         phi=sc.galactic.b.degree, \n",
    "                         lonlat=True)\n",
    "        pixels = hp.query_disc(nside=nside, vec=vec, radius=np.radians(radius), nest=True).flatten()\n",
    "        all_pixels = np.concatenate([all_pixels, pixels], axis=0)\n",
    "    \n",
    "    all_pixels = np.unique(all_pixels)\n",
    "    return all_pixels\n",
    "    '''"
   ]
  },
  {
   "cell_type": "code",
   "execution_count": 3,
   "metadata": {
    "ExecuteTime": {
     "end_time": "2020-04-26T20:28:34.154789Z",
     "start_time": "2020-04-26T20:28:34.128306Z"
    }
   },
   "outputs": [],
   "source": [
    "planck = pd.read_csv('../src_data/planck_z.csv', index_col='index')"
   ]
  },
  {
   "cell_type": "code",
   "execution_count": 4,
   "metadata": {
    "ExecuteTime": {
     "end_time": "2020-04-26T20:28:35.063010Z",
     "start_time": "2020-04-26T20:28:35.056512Z"
    }
   },
   "outputs": [],
   "source": [
    "this_pix = 7"
   ]
  },
  {
   "cell_type": "code",
   "execution_count": 5,
   "metadata": {
    "ExecuteTime": {
     "end_time": "2020-04-26T20:28:36.241984Z",
     "start_time": "2020-04-26T20:28:36.225832Z"
    }
   },
   "outputs": [
    {
     "data": {
      "text/plain": [
       "(42, 10)"
      ]
     },
     "execution_count": 5,
     "metadata": {},
     "output_type": "execute_result"
    }
   ],
   "source": [
    "planck_pix = planck[planck['pix'] == this_pix]\n",
    "planck_pix.shape"
   ]
  },
  {
   "cell_type": "code",
   "execution_count": 6,
   "metadata": {
    "ExecuteTime": {
     "end_time": "2020-04-26T20:28:44.148447Z",
     "start_time": "2020-04-26T20:28:43.825888Z"
    }
   },
   "outputs": [],
   "source": [
    "all_pixels = gen_patches_pixels(planck_pix, dist)"
   ]
  },
  {
   "cell_type": "code",
   "execution_count": 7,
   "metadata": {
    "ExecuteTime": {
     "end_time": "2020-04-26T20:28:45.935821Z",
     "start_time": "2020-04-26T20:28:45.928232Z"
    }
   },
   "outputs": [],
   "source": [
    "all_pixels = all_pixels.astype(np.int64)"
   ]
  },
  {
   "cell_type": "code",
   "execution_count": 24,
   "metadata": {
    "ExecuteTime": {
     "end_time": "2020-04-26T16:16:10.566777Z",
     "start_time": "2020-04-26T16:16:10.552400Z"
    }
   },
   "outputs": [],
   "source": [
    "'''\n",
    "def gen_centers_fast(n, all_pixels, nside1 = 2**10, nside2=2**17):\n",
    "    \n",
    "    def n_pix2ra_dec(npix, nside):\n",
    "        theta, phi = hp.pix2ang(nside=nside, ipix=npix, nest=True, lonlat=True)\n",
    "        sc = SkyCoord(l=theta*u.degree, b=phi*u.degree, frame='galactic')\n",
    "        return sc.icrs.ra.degree, sc.icrs.dec.degree\n",
    "\n",
    "    \n",
    "    ans = np.random.choice(all_pixels, size=n)\n",
    "    \n",
    "    ras, decs = n_pix2ra_dec(ans, nside1)\n",
    "    \n",
    "    if nside1 != nside2:\n",
    "        l, b = hp.pix2ang(nside=nside1, ipix=ans, nest=True, lonlat=True)\n",
    "        ans = hp.ang2pix(nside=nside2, nest=True, lonlat=True, theta=l, phi=b)\n",
    "    \n",
    "    return pd.DataFrame({'pix':ans, 'ra':ras, 'dec':decs})\n",
    "'''"
   ]
  },
  {
   "cell_type": "code",
   "execution_count": 8,
   "metadata": {
    "ExecuteTime": {
     "end_time": "2020-04-26T20:28:54.503585Z",
     "start_time": "2020-04-26T20:28:54.453404Z"
    }
   },
   "outputs": [],
   "source": [
    "cnt = gen_centers_fast(20, all_pixels)"
   ]
  },
  {
   "cell_type": "code",
   "execution_count": 9,
   "metadata": {
    "ExecuteTime": {
     "end_time": "2020-04-26T20:28:55.268872Z",
     "start_time": "2020-04-26T20:28:55.254689Z"
    }
   },
   "outputs": [
    {
     "data": {
      "text/plain": [
       "(20, 3)"
      ]
     },
     "execution_count": 9,
     "metadata": {},
     "output_type": "execute_result"
    }
   ],
   "source": [
    "cnt.shape"
   ]
  },
  {
   "cell_type": "code",
   "execution_count": 10,
   "metadata": {
    "ExecuteTime": {
     "end_time": "2020-04-26T20:28:57.232192Z",
     "start_time": "2020-04-26T20:28:57.223762Z"
    }
   },
   "outputs": [],
   "source": [
    "from all_p import ClusterFile"
   ]
  },
  {
   "cell_type": "code",
   "execution_count": 11,
   "metadata": {
    "ExecuteTime": {
     "end_time": "2020-04-26T20:29:16.380864Z",
     "start_time": "2020-04-26T20:29:16.366006Z"
    }
   },
   "outputs": [],
   "source": [
    "cf = ClusterFile('_')\n",
    "cf.params['typ'] = 'cen'\n",
    "cf.params['id_list'] = 4\n",
    "cf.params['num'] = 20\n",
    "cf.params['inpix'] = this_pix\n",
    "cf.params['size'] = dist\n",
    "cf.params['nside'] = 17"
   ]
  },
  {
   "cell_type": "code",
   "execution_count": 12,
   "metadata": {
    "ExecuteTime": {
     "end_time": "2020-04-26T20:29:17.938243Z",
     "start_time": "2020-04-26T20:29:17.918146Z"
    }
   },
   "outputs": [
    {
     "data": {
      "text/plain": [
       "'tcen_il4_n20_in7_len0.8453_hns17.csv'"
      ]
     },
     "execution_count": 12,
     "metadata": {},
     "output_type": "execute_result"
    }
   ],
   "source": [
    "cf.file('.csv')"
   ]
  },
  {
   "cell_type": "code",
   "execution_count": 13,
   "metadata": {
    "ExecuteTime": {
     "end_time": "2020-04-26T20:29:22.357229Z",
     "start_time": "2020-04-26T20:29:22.337427Z"
    }
   },
   "outputs": [
    {
     "data": {
      "text/html": [
       "<div>\n",
       "<style scoped>\n",
       "    .dataframe tbody tr th:only-of-type {\n",
       "        vertical-align: middle;\n",
       "    }\n",
       "\n",
       "    .dataframe tbody tr th {\n",
       "        vertical-align: top;\n",
       "    }\n",
       "\n",
       "    .dataframe thead th {\n",
       "        text-align: right;\n",
       "    }\n",
       "</style>\n",
       "<table border=\"1\" class=\"dataframe\">\n",
       "  <thead>\n",
       "    <tr style=\"text-align: right;\">\n",
       "      <th></th>\n",
       "      <th>pix</th>\n",
       "      <th>ra</th>\n",
       "      <th>dec</th>\n",
       "    </tr>\n",
       "  </thead>\n",
       "  <tbody>\n",
       "    <tr>\n",
       "      <th>0</th>\n",
       "      <td>24688600405</td>\n",
       "      <td>163.132005</td>\n",
       "      <td>58.310115</td>\n",
       "    </tr>\n",
       "    <tr>\n",
       "      <th>1</th>\n",
       "      <td>33325551615</td>\n",
       "      <td>187.348437</td>\n",
       "      <td>47.149784</td>\n",
       "    </tr>\n",
       "    <tr>\n",
       "      <th>2</th>\n",
       "      <td>30229584554</td>\n",
       "      <td>174.684496</td>\n",
       "      <td>66.807545</td>\n",
       "    </tr>\n",
       "    <tr>\n",
       "      <th>3</th>\n",
       "      <td>30326525951</td>\n",
       "      <td>177.726342</td>\n",
       "      <td>63.028568</td>\n",
       "    </tr>\n",
       "    <tr>\n",
       "      <th>4</th>\n",
       "      <td>32691657386</td>\n",
       "      <td>193.209004</td>\n",
       "      <td>49.331341</td>\n",
       "    </tr>\n",
       "  </tbody>\n",
       "</table>\n",
       "</div>"
      ],
      "text/plain": [
       "           pix          ra        dec\n",
       "0  24688600405  163.132005  58.310115\n",
       "1  33325551615  187.348437  47.149784\n",
       "2  30229584554  174.684496  66.807545\n",
       "3  30326525951  177.726342  63.028568\n",
       "4  32691657386  193.209004  49.331341"
      ]
     },
     "execution_count": 13,
     "metadata": {},
     "output_type": "execute_result"
    }
   ],
   "source": [
    "cnt.head()"
   ]
  },
  {
   "cell_type": "code",
   "execution_count": 14,
   "metadata": {
    "ExecuteTime": {
     "end_time": "2020-04-26T20:29:24.993837Z",
     "start_time": "2020-04-26T20:29:24.987292Z"
    }
   },
   "outputs": [],
   "source": [
    "from os.path import join"
   ]
  },
  {
   "cell_type": "code",
   "execution_count": 16,
   "metadata": {
    "ExecuteTime": {
     "end_time": "2020-04-26T20:29:32.412279Z",
     "start_time": "2020-04-26T20:29:32.408443Z"
    }
   },
   "outputs": [],
   "source": [
    "cnt.index.name='index'"
   ]
  },
  {
   "cell_type": "code",
   "execution_count": 17,
   "metadata": {
    "ExecuteTime": {
     "end_time": "2020-04-26T20:29:34.443647Z",
     "start_time": "2020-04-26T20:29:34.430950Z"
    }
   },
   "outputs": [],
   "source": [
    "cnt.to_csv(join('/home/rt2122/data/train/centers/', cf.file('.csv')))"
   ]
  },
  {
   "cell_type": "code",
   "execution_count": null,
   "metadata": {},
   "outputs": [],
   "source": []
  }
 ],
 "metadata": {
  "kernelspec": {
   "display_name": "Python 3",
   "language": "python",
   "name": "python3"
  },
  "language_info": {
   "codemirror_mode": {
    "name": "ipython",
    "version": 3
   },
   "file_extension": ".py",
   "mimetype": "text/x-python",
   "name": "python",
   "nbconvert_exporter": "python",
   "pygments_lexer": "ipython3",
   "version": "3.7.3"
  }
 },
 "nbformat": 4,
 "nbformat_minor": 2
}
