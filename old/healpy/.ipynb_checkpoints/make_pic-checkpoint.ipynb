{
 "cells": [
  {
   "cell_type": "code",
   "execution_count": 1,
   "metadata": {
    "ExecuteTime": {
     "end_time": "2020-04-11T16:02:42.781952Z",
     "start_time": "2020-04-11T16:02:32.821059Z"
    }
   },
   "outputs": [],
   "source": [
    "import matplotlib.pyplot as plt\n",
    "%matplotlib inline\n",
    "import numpy as np\n",
    "import healpy as hp\n",
    "from astropy import units as u\n",
    "from astropy.coordinates import SkyCoord"
   ]
  },
  {
   "cell_type": "code",
   "execution_count": 132,
   "metadata": {
    "ExecuteTime": {
     "end_time": "2020-04-11T17:15:22.626483Z",
     "start_time": "2020-04-11T17:15:22.619541Z"
    }
   },
   "outputs": [],
   "source": [
    "def show_pix(a, nside=2**11, pp=False):\n",
    "    print(a)\n",
    "    m = np.zeros((hp.nside2npix(nside)), dtype=np.int32)\n",
    "    i = 0\n",
    "    for npix in a:\n",
    "        if pp:\n",
    "            npix = npix.pix\n",
    "        print(npix)\n",
    "        vec = hp.pix2vec(nside=nside, ipix=npix, nest=True)\n",
    "        ipix_disc = hp.query_disc(nside=nside, vec=vec, radius=np.radians(1), nest=True)\n",
    "        m[ipix_disc] = 3 + i\n",
    "        i += 1\n",
    "    hp.mollview(m, title=\"Mollview image NEST\", nest=True)"
   ]
  },
  {
   "cell_type": "code",
   "execution_count": 11,
   "metadata": {
    "ExecuteTime": {
     "end_time": "2020-04-11T16:09:44.299799Z",
     "start_time": "2020-04-11T16:09:44.292715Z"
    }
   },
   "outputs": [],
   "source": [
    "class Pic_Pix:\n",
    "    def __init__(self, pix, x, y):\n",
    "        self.pix = pix\n",
    "        self.x = x\n",
    "        self.y = y"
   ]
  },
  {
   "cell_type": "code",
   "execution_count": 71,
   "metadata": {
    "ExecuteTime": {
     "end_time": "2020-04-11T16:33:03.818045Z",
     "start_time": "2020-04-11T16:33:03.795434Z"
    }
   },
   "outputs": [],
   "source": [
    "def make_pix_idx(center_pix, size=64, nside=2**11):\n",
    "    \n",
    "    def get_neighbours(npix):\n",
    "        theta, phi = hp.pix2ang(nside=nside, ipix=npix, nest=True)\n",
    "        neighbours = hp.get_all_neighbours(nside=nside, theta=theta, phi=phi, nest=True)\n",
    "        return neighbours\n",
    "    \n",
    "    half = size // 2\n",
    "    \n",
    "    picture_pixels_idx = [center_pix]\n",
    "    picture_pixels_idx.extend(get_neighbours(center_pix)[:3])\n",
    "    print(picture_pixels_idx)\n",
    "    \n",
    "    far_pix = None\n",
    "    for i in range(half):\n",
    "        next_idx = set(picture_pixels_idx)\n",
    "        for pix in picture_pixels_idx:\n",
    "            next_idx = next_idx.union(set(get_neighbours(pix)))\n",
    "            \n",
    "        if i == half - 1:\n",
    "            far_pix = next_idx.difference(picture_pixels_idx)\n",
    "        else:\n",
    "            picture_pixels_idx = next_idx\n",
    "    \n",
    "    far_pix = list(far_pix)\n",
    "    picture_pixels_idx = list(picture_pixels_idx)\n",
    "    \n",
    "    \n",
    "    def dist_pixels(apix, bpix):\n",
    "        theta, phi = hp.pix2ang(nest=True, nside=nside, ipix=apix)\n",
    "        a = SkyCoord(frame='galactic', l=theta*u.radian, b=phi*u.radian)\n",
    "        theta, phi = hp.pix2ang(nest=True, nside=nside, ipix=bpix)\n",
    "        b = SkyCoord(frame='galactic', l=theta*u.radian, b=phi*u.radian)\n",
    "        return a.separation(b).degree\n",
    "    \n",
    "    dist = max(dist_pixels(center_pix, far_pix))\n",
    "    return picture_pixels_idx, dist"
   ]
  },
  {
   "cell_type": "code",
   "execution_count": 76,
   "metadata": {
    "ExecuteTime": {
     "end_time": "2020-04-11T16:36:09.025856Z",
     "start_time": "2020-04-11T16:36:09.023168Z"
    }
   },
   "outputs": [],
   "source": [
    "nside = 2**3\n",
    "size = 4\n",
    "center_pix = 6"
   ]
  },
  {
   "cell_type": "code",
   "execution_count": 77,
   "metadata": {
    "ExecuteTime": {
     "end_time": "2020-04-11T16:36:09.593846Z",
     "start_time": "2020-04-11T16:36:09.569492Z"
    }
   },
   "outputs": [
    {
     "name": "stdout",
     "output_type": "stream",
     "text": [
      "[6, 3, 9, 12]\n",
      "33.74999999999999\n"
     ]
    }
   ],
   "source": [
    "idx, dist = make_pix_idx(center_pix=center_pix, nside=nside, size=size)\n",
    "print(dist)"
   ]
  },
  {
   "cell_type": "code",
   "execution_count": 78,
   "metadata": {
    "ExecuteTime": {
     "end_time": "2020-04-11T16:36:17.192959Z",
     "start_time": "2020-04-11T16:36:16.909452Z"
    }
   },
   "outputs": [
    {
     "name": "stdout",
     "output_type": "stream",
     "text": [
      "[0, 1, 2, 3, 4, 5, 6, 7, 8, 9, 10, 11, 12, 13, 14, 15]\n"
     ]
    },
    {
     "data": {
      "image/png": "[encoded data removed]",
      "text/plain": [
       "<Figure size 612x388.8 with 2 Axes>"
      ]
     },
     "metadata": {
      "needs_background": "light"
     },
     "output_type": "display_data"
    }
   ],
   "source": [
    "show_pix(idx, nside=nside)"
   ]
  },
  {
   "cell_type": "code",
   "execution_count": 104,
   "metadata": {
    "ExecuteTime": {
     "end_time": "2020-04-11T16:40:00.725934Z",
     "start_time": "2020-04-11T16:40:00.715874Z"
    }
   },
   "outputs": [],
   "source": [
    "def show_near(pix_idx, nside=2**11, size=64):\n",
    "    half = size // 2\n",
    "    center = 6\n",
    "    right = 3\n",
    "    up = 12\n",
    "    down = 4\n",
    "    left = 7\n",
    "    pix_idx.remove(center)\n",
    "    pix_idx.remove(right)\n",
    "    pix_idx.remove(up)\n",
    "    pix_idx.remove(down)\n",
    "    pix_idx.remove(left)\n",
    "    show_pix(pix_idx, nside)"
   ]
  },
  {
   "cell_type": "code",
   "execution_count": 105,
   "metadata": {
    "ExecuteTime": {
     "end_time": "2020-04-11T16:40:06.174546Z",
     "start_time": "2020-04-11T16:40:05.928961Z"
    }
   },
   "outputs": [
    {
     "name": "stdout",
     "output_type": "stream",
     "text": [
      "[0, 1, 2, 5, 8, 9, 10, 11, 13, 14, 15]\n"
     ]
    },
    {
     "data": {
      "image/png": "[encoded data removed]",
      "text/plain": [
       "<Figure size 612x388.8 with 2 Axes>"
      ]
     },
     "metadata": {
      "needs_background": "light"
     },
     "output_type": "display_data"
    }
   ],
   "source": [
    "show_near(idx.copy(), nside, size)"
   ]
  },
  {
   "cell_type": "code",
   "execution_count": 108,
   "metadata": {
    "ExecuteTime": {
     "end_time": "2020-04-11T16:44:31.118423Z",
     "start_time": "2020-04-11T16:44:31.104773Z"
    }
   },
   "outputs": [],
   "source": [
    "def calc_dist_near(pix_idx, nside=2**11, size=64):\n",
    "    \n",
    "    center = 6\n",
    "    right = 3\n",
    "    up = 12\n",
    "    down = 4\n",
    "    left = 7\n",
    "    \n",
    "    c = np.array(hp.pix2vec(ipix=center, nside=nside, nest=True))\n",
    "    r = np.array(hp.pix2vec(ipix=right, nside=nside, nest=True))\n",
    "    u = np.array(hp.pix2vec(ipix=up, nside=nside, nest=True))\n",
    "    d = np.array(hp.pix2vec(ipix=down, nside=nside, nest=True))\n",
    "    l = np.array(hp.pix2vec(ipix=left, nside=nside, nest=True))\n",
    "    \n",
    "    print('center - right: ', c - r)\n",
    "    print('center - up: ', c - u)\n",
    "    print('center - down: ', c - d)\n",
    "    print('center - left: ', c - l)"
   ]
  },
  {
   "cell_type": "code",
   "execution_count": 109,
   "metadata": {
    "ExecuteTime": {
     "end_time": "2020-04-11T16:44:31.590665Z",
     "start_time": "2020-04-11T16:44:31.570323Z"
    }
   },
   "outputs": [
    {
     "name": "stdout",
     "output_type": "stream",
     "text": [
      "center - right:  [-0.08654147  0.04414805  0.08333333]\n",
      "center - up:  [-0.0446903   0.08599922 -0.08333333]\n",
      "center - down:  [ 0.06018316 -0.07626575  0.08333333]\n",
      "center - left:  [ 0.09306541 -0.02705397 -0.08333333]\n"
     ]
    }
   ],
   "source": [
    "calc_dist_near(idx, nside, size)"
   ]
  },
  {
   "cell_type": "code",
   "execution_count": 148,
   "metadata": {
    "ExecuteTime": {
     "end_time": "2020-04-11T17:18:36.340783Z",
     "start_time": "2020-04-11T17:18:36.326990Z"
    }
   },
   "outputs": [],
   "source": [
    "def make_pic(center_pix, nside=2**11, size=64):\n",
    "    def get_neighbours(npix, direction=None):\n",
    "        theta, phi = hp.pix2ang(nside=nside, ipix=npix, nest=True)\n",
    "        neighbours = hp.get_all_neighbours(nside=nside, theta=theta, phi=phi, nest=True)\n",
    "        if direction is None:\n",
    "            return neighbours\n",
    "        dirs = ['sw', 'w', 'nw', 'n', 'ne', 'e', 'se', 's']\n",
    "        return neighbours[dirs.index(direction)]\n",
    "    \n",
    "    ''' ~~~~~~~~~~> y \n",
    "      |  n __nw__ w\n",
    "      |    |    |\n",
    "    x | ne |    | sw\n",
    "      |    |    |\n",
    "      \\/ e ~~se~~ s\n",
    "         \n",
    "    '''\n",
    "    \n",
    "    half = size // 2\n",
    "    start = center_pix\n",
    "    for i in range(half - 1):\n",
    "        start = get_neighbours(start, 'n')\n",
    "    \n",
    "    pp_idx = [Pic_Pix(start, 0, 0)]\n",
    "    for i in range(size - 1):\n",
    "        pp_idx.append(Pic_Pix(get_neighbours(pp_idx[i].pix, 'se'), i + 1, 0))\n",
    "    for i in range(size):\n",
    "        prev = pp_idx[i].pix\n",
    "        for j in range(size - 1):\n",
    "            pp_idx.append(Pic_Pix(get_neighbours(prev, 'sw'), i, j))\n",
    "    show_pix(pp_idx, nside, True)"
   ]
  },
  {
   "cell_type": "code",
   "execution_count": 149,
   "metadata": {
    "ExecuteTime": {
     "end_time": "2020-04-11T17:18:37.094883Z",
     "start_time": "2020-04-11T17:18:36.802866Z"
    }
   },
   "outputs": [
    {
     "name": "stdout",
     "output_type": "stream",
     "text": [
      "[<__main__.Pic_Pix object at 0x7fbf803d2ef0>, <__main__.Pic_Pix object at 0x7fbf803d2f98>, <__main__.Pic_Pix object at 0x7fbf803d2f60>, <__main__.Pic_Pix object at 0x7fbf802df748>, <__main__.Pic_Pix object at 0x7fbf802df780>]\n",
      "13\n",
      "7\n",
      "5\n",
      "367\n",
      "6\n"
     ]
    },
    {
     "data": {
      "image/png": "[encoded data removed]",
      "text/plain": [
       "<Figure size 612x388.8 with 2 Axes>"
      ]
     },
     "metadata": {
      "needs_background": "light"
     },
     "output_type": "display_data"
    }
   ],
   "source": [
    "make_pic(center_pix, nside, size)"
   ]
  },
  {
   "cell_type": "code",
   "execution_count": null,
   "metadata": {},
   "outputs": [],
   "source": []
  }
 ],
 "metadata": {
  "kernelspec": {
   "display_name": "Python 3",
   "language": "python",
   "name": "python3"
  },
  "language_info": {
   "codemirror_mode": {
    "name": "ipython",
    "version": 3
   },
   "file_extension": ".py",
   "mimetype": "text/x-python",
   "name": "python",
   "nbconvert_exporter": "python",
   "pygments_lexer": "ipython3",
   "version": "3.7.3"
  }
 },
 "nbformat": 4,
 "nbformat_minor": 2
}
