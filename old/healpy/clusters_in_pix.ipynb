{
 "cells": [
  {
   "cell_type": "code",
   "execution_count": 1,
   "metadata": {
    "ExecuteTime": {
     "end_time": "2020-04-07T16:14:12.926065Z",
     "start_time": "2020-04-07T16:14:08.043450Z"
    }
   },
   "outputs": [],
   "source": [
    "import matplotlib.pyplot as plt\n",
    "%matplotlib inline\n",
    "import numpy as np\n",
    "import healpy as hp\n",
    "import astropy\n",
    "from astropy import units as u\n",
    "from astropy.coordinates import SkyCoord"
   ]
  },
  {
   "cell_type": "code",
   "execution_count": 2,
   "metadata": {
    "ExecuteTime": {
     "end_time": "2020-04-07T16:14:12.966051Z",
     "start_time": "2020-04-07T16:14:12.940494Z"
    }
   },
   "outputs": [],
   "source": [
    "def obj_in_pix(nside, ra, dec):\n",
    "    from math import pi, modf\n",
    "    sc = SkyCoord(ra=ra*u.degree, dec=dec*u.degree, frame='icrs') \n",
    "    theta = sc.galactic.l.degree\n",
    "    phi = sc.galactic.b.degree\n",
    "    return hp.ang2pix(nside=2, nest=True, theta=theta, phi=phi, lonlat=True)"
   ]
  },
  {
   "cell_type": "code",
   "execution_count": 3,
   "metadata": {
    "ExecuteTime": {
     "end_time": "2020-04-07T16:14:13.595257Z",
     "start_time": "2020-04-07T16:14:12.970162Z"
    }
   },
   "outputs": [],
   "source": [
    "import pandas as pd"
   ]
  },
  {
   "cell_type": "code",
   "execution_count": 14,
   "metadata": {
    "ExecuteTime": {
     "end_time": "2020-04-07T16:17:10.841103Z",
     "start_time": "2020-04-07T16:17:10.805770Z"
    }
   },
   "outputs": [],
   "source": [
    "planck_z = pd.read_csv('../data_src/planck_z.csv')"
   ]
  },
  {
   "cell_type": "code",
   "execution_count": 15,
   "metadata": {
    "ExecuteTime": {
     "end_time": "2020-04-07T16:17:11.415882Z",
     "start_time": "2020-04-07T16:17:11.411109Z"
    }
   },
   "outputs": [
    {
     "data": {
      "text/plain": [
       "['Unnamed: 0', 'Name', 'RAdeg', 'DEdeg', 'z', 'MSZ', 'MCXC', 'RedMAPPer']"
      ]
     },
     "execution_count": 15,
     "metadata": {},
     "output_type": "execute_result"
    }
   ],
   "source": [
    "list(planck_z)"
   ]
  },
  {
   "cell_type": "code",
   "execution_count": 16,
   "metadata": {
    "ExecuteTime": {
     "end_time": "2020-04-07T16:17:16.246734Z",
     "start_time": "2020-04-07T16:17:16.237652Z"
    }
   },
   "outputs": [],
   "source": [
    "planck_z.drop(['Unnamed: 0', 'MCXC', 'RedMAPPer'], axis='columns', inplace=True)"
   ]
  },
  {
   "cell_type": "code",
   "execution_count": 17,
   "metadata": {
    "ExecuteTime": {
     "end_time": "2020-04-07T16:17:17.310049Z",
     "start_time": "2020-04-07T16:17:17.268393Z"
    }
   },
   "outputs": [
    {
     "data": {
      "text/html": [
       "<div>\n",
       "<style scoped>\n",
       "    .dataframe tbody tr th:only-of-type {\n",
       "        vertical-align: middle;\n",
       "    }\n",
       "\n",
       "    .dataframe tbody tr th {\n",
       "        vertical-align: top;\n",
       "    }\n",
       "\n",
       "    .dataframe thead th {\n",
       "        text-align: right;\n",
       "    }\n",
       "</style>\n",
       "<table border=\"1\" class=\"dataframe\">\n",
       "  <thead>\n",
       "    <tr style=\"text-align: right;\">\n",
       "      <th></th>\n",
       "      <th>Name</th>\n",
       "      <th>RAdeg</th>\n",
       "      <th>DEdeg</th>\n",
       "      <th>z</th>\n",
       "      <th>MSZ</th>\n",
       "    </tr>\n",
       "  </thead>\n",
       "  <tbody>\n",
       "    <tr>\n",
       "      <th>0</th>\n",
       "      <td>PSZ2 G000.04+45.13</td>\n",
       "      <td>229.190512</td>\n",
       "      <td>-1.017222</td>\n",
       "      <td>0.1198</td>\n",
       "      <td>3.962411</td>\n",
       "    </tr>\n",
       "    <tr>\n",
       "      <th>1</th>\n",
       "      <td>PSZ2 G000.13+78.04</td>\n",
       "      <td>203.558683</td>\n",
       "      <td>20.255990</td>\n",
       "      <td>0.1710</td>\n",
       "      <td>5.122391</td>\n",
       "    </tr>\n",
       "    <tr>\n",
       "      <th>2</th>\n",
       "      <td>PSZ2 G000.40-41.86</td>\n",
       "      <td>316.084485</td>\n",
       "      <td>-41.354169</td>\n",
       "      <td>0.1651</td>\n",
       "      <td>5.297053</td>\n",
       "    </tr>\n",
       "    <tr>\n",
       "      <th>3</th>\n",
       "      <td>PSZ2 G000.77-35.69</td>\n",
       "      <td>307.972844</td>\n",
       "      <td>-40.598725</td>\n",
       "      <td>0.3416</td>\n",
       "      <td>6.333562</td>\n",
       "    </tr>\n",
       "    <tr>\n",
       "      <th>4</th>\n",
       "      <td>PSZ2 G002.08-68.28</td>\n",
       "      <td>349.632431</td>\n",
       "      <td>-36.332559</td>\n",
       "      <td>0.1400</td>\n",
       "      <td>2.835297</td>\n",
       "    </tr>\n",
       "  </tbody>\n",
       "</table>\n",
       "</div>"
      ],
      "text/plain": [
       "                 Name       RAdeg      DEdeg       z       MSZ\n",
       "0  PSZ2 G000.04+45.13  229.190512  -1.017222  0.1198  3.962411\n",
       "1  PSZ2 G000.13+78.04  203.558683  20.255990  0.1710  5.122391\n",
       "2  PSZ2 G000.40-41.86  316.084485 -41.354169  0.1651  5.297053\n",
       "3  PSZ2 G000.77-35.69  307.972844 -40.598725  0.3416  6.333562\n",
       "4  PSZ2 G002.08-68.28  349.632431 -36.332559  0.1400  2.835297"
      ]
     },
     "execution_count": 17,
     "metadata": {},
     "output_type": "execute_result"
    }
   ],
   "source": [
    "planck_z.head()"
   ]
  },
  {
   "cell_type": "code",
   "execution_count": 18,
   "metadata": {
    "ExecuteTime": {
     "end_time": "2020-04-07T16:17:41.269272Z",
     "start_time": "2020-04-07T16:17:41.254453Z"
    }
   },
   "outputs": [],
   "source": [
    "planck_z['pix'] = None"
   ]
  },
  {
   "cell_type": "code",
   "execution_count": 19,
   "metadata": {
    "ExecuteTime": {
     "end_time": "2020-04-07T16:17:57.511616Z",
     "start_time": "2020-04-07T16:17:45.781825Z"
    }
   },
   "outputs": [],
   "source": [
    "for i in range(planck_z.shape[0]):\n",
    "    pix = obj_in_pix(nside=2, ra=planck_z.iloc[i]['RAdeg'], dec=planck_z.iloc[i]['DEdeg'])\n",
    "    planck_z.loc[i, 'pix'] = pix"
   ]
  },
  {
   "cell_type": "code",
   "execution_count": 20,
   "metadata": {
    "ExecuteTime": {
     "end_time": "2020-04-07T16:17:59.190775Z",
     "start_time": "2020-04-07T16:17:59.169296Z"
    }
   },
   "outputs": [
    {
     "data": {
      "text/html": [
       "<div>\n",
       "<style scoped>\n",
       "    .dataframe tbody tr th:only-of-type {\n",
       "        vertical-align: middle;\n",
       "    }\n",
       "\n",
       "    .dataframe tbody tr th {\n",
       "        vertical-align: top;\n",
       "    }\n",
       "\n",
       "    .dataframe thead th {\n",
       "        text-align: right;\n",
       "    }\n",
       "</style>\n",
       "<table border=\"1\" class=\"dataframe\">\n",
       "  <thead>\n",
       "    <tr style=\"text-align: right;\">\n",
       "      <th></th>\n",
       "      <th>Name</th>\n",
       "      <th>RAdeg</th>\n",
       "      <th>DEdeg</th>\n",
       "      <th>z</th>\n",
       "      <th>MSZ</th>\n",
       "      <th>pix</th>\n",
       "    </tr>\n",
       "  </thead>\n",
       "  <tbody>\n",
       "    <tr>\n",
       "      <th>0</th>\n",
       "      <td>PSZ2 G000.04+45.13</td>\n",
       "      <td>229.190512</td>\n",
       "      <td>-1.017222</td>\n",
       "      <td>0.1198</td>\n",
       "      <td>3.962411</td>\n",
       "      <td>2</td>\n",
       "    </tr>\n",
       "    <tr>\n",
       "      <th>1</th>\n",
       "      <td>PSZ2 G000.13+78.04</td>\n",
       "      <td>203.558683</td>\n",
       "      <td>20.255990</td>\n",
       "      <td>0.1710</td>\n",
       "      <td>5.122391</td>\n",
       "      <td>3</td>\n",
       "    </tr>\n",
       "    <tr>\n",
       "      <th>2</th>\n",
       "      <td>PSZ2 G000.40-41.86</td>\n",
       "      <td>316.084485</td>\n",
       "      <td>-41.354169</td>\n",
       "      <td>0.1651</td>\n",
       "      <td>5.297053</td>\n",
       "      <td>34</td>\n",
       "    </tr>\n",
       "    <tr>\n",
       "      <th>3</th>\n",
       "      <td>PSZ2 G000.77-35.69</td>\n",
       "      <td>307.972844</td>\n",
       "      <td>-40.598725</td>\n",
       "      <td>0.3416</td>\n",
       "      <td>6.333562</td>\n",
       "      <td>16</td>\n",
       "    </tr>\n",
       "    <tr>\n",
       "      <th>4</th>\n",
       "      <td>PSZ2 G002.08-68.28</td>\n",
       "      <td>349.632431</td>\n",
       "      <td>-36.332559</td>\n",
       "      <td>0.1400</td>\n",
       "      <td>2.835297</td>\n",
       "      <td>32</td>\n",
       "    </tr>\n",
       "  </tbody>\n",
       "</table>\n",
       "</div>"
      ],
      "text/plain": [
       "                 Name       RAdeg      DEdeg       z       MSZ  pix\n",
       "0  PSZ2 G000.04+45.13  229.190512  -1.017222  0.1198  3.962411    2\n",
       "1  PSZ2 G000.13+78.04  203.558683  20.255990  0.1710  5.122391    3\n",
       "2  PSZ2 G000.40-41.86  316.084485 -41.354169  0.1651  5.297053   34\n",
       "3  PSZ2 G000.77-35.69  307.972844 -40.598725  0.3416  6.333562   16\n",
       "4  PSZ2 G002.08-68.28  349.632431 -36.332559  0.1400  2.835297   32"
      ]
     },
     "execution_count": 20,
     "metadata": {},
     "output_type": "execute_result"
    }
   ],
   "source": [
    "planck_z.head()"
   ]
  },
  {
   "cell_type": "code",
   "execution_count": 24,
   "metadata": {
    "ExecuteTime": {
     "end_time": "2020-04-07T16:20:54.569426Z",
     "start_time": "2020-04-07T16:20:54.556194Z"
    }
   },
   "outputs": [
    {
     "data": {
      "text/html": [
       "<div>\n",
       "<style scoped>\n",
       "    .dataframe tbody tr th:only-of-type {\n",
       "        vertical-align: middle;\n",
       "    }\n",
       "\n",
       "    .dataframe tbody tr th {\n",
       "        vertical-align: top;\n",
       "    }\n",
       "\n",
       "    .dataframe thead th {\n",
       "        text-align: right;\n",
       "    }\n",
       "</style>\n",
       "<table border=\"1\" class=\"dataframe\">\n",
       "  <thead>\n",
       "    <tr style=\"text-align: right;\">\n",
       "      <th></th>\n",
       "      <th>Name</th>\n",
       "      <th>RAdeg</th>\n",
       "      <th>DEdeg</th>\n",
       "      <th>z</th>\n",
       "      <th>M500</th>\n",
       "      <th>pix</th>\n",
       "    </tr>\n",
       "  </thead>\n",
       "  <tbody>\n",
       "    <tr>\n",
       "      <th>0</th>\n",
       "      <td>PSZ2 G000.04+45.13</td>\n",
       "      <td>229.190512</td>\n",
       "      <td>-1.017222</td>\n",
       "      <td>0.1198</td>\n",
       "      <td>3.962411</td>\n",
       "      <td>2</td>\n",
       "    </tr>\n",
       "    <tr>\n",
       "      <th>1</th>\n",
       "      <td>PSZ2 G000.13+78.04</td>\n",
       "      <td>203.558683</td>\n",
       "      <td>20.255990</td>\n",
       "      <td>0.1710</td>\n",
       "      <td>5.122391</td>\n",
       "      <td>3</td>\n",
       "    </tr>\n",
       "    <tr>\n",
       "      <th>2</th>\n",
       "      <td>PSZ2 G000.40-41.86</td>\n",
       "      <td>316.084485</td>\n",
       "      <td>-41.354169</td>\n",
       "      <td>0.1651</td>\n",
       "      <td>5.297053</td>\n",
       "      <td>34</td>\n",
       "    </tr>\n",
       "    <tr>\n",
       "      <th>3</th>\n",
       "      <td>PSZ2 G000.77-35.69</td>\n",
       "      <td>307.972844</td>\n",
       "      <td>-40.598725</td>\n",
       "      <td>0.3416</td>\n",
       "      <td>6.333562</td>\n",
       "      <td>16</td>\n",
       "    </tr>\n",
       "    <tr>\n",
       "      <th>4</th>\n",
       "      <td>PSZ2 G002.08-68.28</td>\n",
       "      <td>349.632431</td>\n",
       "      <td>-36.332559</td>\n",
       "      <td>0.1400</td>\n",
       "      <td>2.835297</td>\n",
       "      <td>32</td>\n",
       "    </tr>\n",
       "  </tbody>\n",
       "</table>\n",
       "</div>"
      ],
      "text/plain": [
       "                 Name       RAdeg      DEdeg       z      M500  pix\n",
       "0  PSZ2 G000.04+45.13  229.190512  -1.017222  0.1198  3.962411    2\n",
       "1  PSZ2 G000.13+78.04  203.558683  20.255990  0.1710  5.122391    3\n",
       "2  PSZ2 G000.40-41.86  316.084485 -41.354169  0.1651  5.297053   34\n",
       "3  PSZ2 G000.77-35.69  307.972844 -40.598725  0.3416  6.333562   16\n",
       "4  PSZ2 G002.08-68.28  349.632431 -36.332559  0.1400  2.835297   32"
      ]
     },
     "execution_count": 24,
     "metadata": {},
     "output_type": "execute_result"
    }
   ],
   "source": [
    "planck_z.rename(columns={'MSZ':'M500'}, inplace=True)\n",
    "planck_z.head()"
   ]
  },
  {
   "cell_type": "code",
   "execution_count": null,
   "metadata": {
    "ExecuteTime": {
     "end_time": "2020-04-06T19:08:32.348484Z",
     "start_time": "2020-04-06T19:07:35.636Z"
    }
   },
   "outputs": [],
   "source": [
    "planck_z.to_csv('./planck_z.csv')"
   ]
  },
  {
   "cell_type": "code",
   "execution_count": 25,
   "metadata": {
    "ExecuteTime": {
     "end_time": "2020-04-07T16:21:24.848310Z",
     "start_time": "2020-04-07T16:21:24.844406Z"
    }
   },
   "outputs": [],
   "source": [
    "planck_z['Cat'] = 'planck_z'"
   ]
  },
  {
   "cell_type": "code",
   "execution_count": 26,
   "metadata": {
    "ExecuteTime": {
     "end_time": "2020-04-07T16:21:36.508348Z",
     "start_time": "2020-04-07T16:21:36.492834Z"
    }
   },
   "outputs": [
    {
     "data": {
      "text/html": [
       "<div>\n",
       "<style scoped>\n",
       "    .dataframe tbody tr th:only-of-type {\n",
       "        vertical-align: middle;\n",
       "    }\n",
       "\n",
       "    .dataframe tbody tr th {\n",
       "        vertical-align: top;\n",
       "    }\n",
       "\n",
       "    .dataframe thead th {\n",
       "        text-align: right;\n",
       "    }\n",
       "</style>\n",
       "<table border=\"1\" class=\"dataframe\">\n",
       "  <thead>\n",
       "    <tr style=\"text-align: right;\">\n",
       "      <th></th>\n",
       "      <th>Name</th>\n",
       "      <th>RAdeg</th>\n",
       "      <th>DEdeg</th>\n",
       "      <th>z</th>\n",
       "      <th>M500</th>\n",
       "      <th>pix</th>\n",
       "      <th>Cat</th>\n",
       "    </tr>\n",
       "  </thead>\n",
       "  <tbody>\n",
       "    <tr>\n",
       "      <th>0</th>\n",
       "      <td>PSZ2 G000.04+45.13</td>\n",
       "      <td>229.190512</td>\n",
       "      <td>-1.017222</td>\n",
       "      <td>0.1198</td>\n",
       "      <td>3.962411</td>\n",
       "      <td>2</td>\n",
       "      <td>planck_z</td>\n",
       "    </tr>\n",
       "    <tr>\n",
       "      <th>1</th>\n",
       "      <td>PSZ2 G000.13+78.04</td>\n",
       "      <td>203.558683</td>\n",
       "      <td>20.255990</td>\n",
       "      <td>0.1710</td>\n",
       "      <td>5.122391</td>\n",
       "      <td>3</td>\n",
       "      <td>planck_z</td>\n",
       "    </tr>\n",
       "    <tr>\n",
       "      <th>2</th>\n",
       "      <td>PSZ2 G000.40-41.86</td>\n",
       "      <td>316.084485</td>\n",
       "      <td>-41.354169</td>\n",
       "      <td>0.1651</td>\n",
       "      <td>5.297053</td>\n",
       "      <td>34</td>\n",
       "      <td>planck_z</td>\n",
       "    </tr>\n",
       "    <tr>\n",
       "      <th>3</th>\n",
       "      <td>PSZ2 G000.77-35.69</td>\n",
       "      <td>307.972844</td>\n",
       "      <td>-40.598725</td>\n",
       "      <td>0.3416</td>\n",
       "      <td>6.333562</td>\n",
       "      <td>16</td>\n",
       "      <td>planck_z</td>\n",
       "    </tr>\n",
       "    <tr>\n",
       "      <th>4</th>\n",
       "      <td>PSZ2 G002.08-68.28</td>\n",
       "      <td>349.632431</td>\n",
       "      <td>-36.332559</td>\n",
       "      <td>0.1400</td>\n",
       "      <td>2.835297</td>\n",
       "      <td>32</td>\n",
       "      <td>planck_z</td>\n",
       "    </tr>\n",
       "  </tbody>\n",
       "</table>\n",
       "</div>"
      ],
      "text/plain": [
       "                 Name       RAdeg      DEdeg       z      M500  pix       Cat\n",
       "0  PSZ2 G000.04+45.13  229.190512  -1.017222  0.1198  3.962411    2  planck_z\n",
       "1  PSZ2 G000.13+78.04  203.558683  20.255990  0.1710  5.122391    3  planck_z\n",
       "2  PSZ2 G000.40-41.86  316.084485 -41.354169  0.1651  5.297053   34  planck_z\n",
       "3  PSZ2 G000.77-35.69  307.972844 -40.598725  0.3416  6.333562   16  planck_z\n",
       "4  PSZ2 G002.08-68.28  349.632431 -36.332559  0.1400  2.835297   32  planck_z"
      ]
     },
     "execution_count": 26,
     "metadata": {},
     "output_type": "execute_result"
    }
   ],
   "source": [
    "planck_z.head()"
   ]
  },
  {
   "cell_type": "code",
   "execution_count": 27,
   "metadata": {
    "ExecuteTime": {
     "end_time": "2020-04-07T16:21:46.987685Z",
     "start_time": "2020-04-07T16:21:46.949756Z"
    }
   },
   "outputs": [
    {
     "data": {
      "text/html": [
       "<div>\n",
       "<style scoped>\n",
       "    .dataframe tbody tr th:only-of-type {\n",
       "        vertical-align: middle;\n",
       "    }\n",
       "\n",
       "    .dataframe tbody tr th {\n",
       "        vertical-align: top;\n",
       "    }\n",
       "\n",
       "    .dataframe thead th {\n",
       "        text-align: right;\n",
       "    }\n",
       "</style>\n",
       "<table border=\"1\" class=\"dataframe\">\n",
       "  <thead>\n",
       "    <tr style=\"text-align: right;\">\n",
       "      <th></th>\n",
       "      <th>Unnamed: 0</th>\n",
       "      <th>Name</th>\n",
       "      <th>RAdeg</th>\n",
       "      <th>DEdeg</th>\n",
       "      <th>z</th>\n",
       "      <th>MSZ</th>\n",
       "      <th>MCXC</th>\n",
       "      <th>RedMAPPer</th>\n",
       "    </tr>\n",
       "  </thead>\n",
       "  <tbody>\n",
       "    <tr>\n",
       "      <th>0</th>\n",
       "      <td>4</td>\n",
       "      <td>PSZ2 G002.04-22.15</td>\n",
       "      <td>291.359610</td>\n",
       "      <td>-36.517944</td>\n",
       "      <td>-1.0</td>\n",
       "      <td>0.0</td>\n",
       "      <td></td>\n",
       "      <td></td>\n",
       "    </tr>\n",
       "    <tr>\n",
       "      <th>1</th>\n",
       "      <td>9</td>\n",
       "      <td>PSZ2 G002.88-22.45</td>\n",
       "      <td>292.014768</td>\n",
       "      <td>-35.876093</td>\n",
       "      <td>-1.0</td>\n",
       "      <td>0.0</td>\n",
       "      <td></td>\n",
       "      <td></td>\n",
       "    </tr>\n",
       "    <tr>\n",
       "      <th>2</th>\n",
       "      <td>10</td>\n",
       "      <td>PSZ2 G003.21-76.04</td>\n",
       "      <td>358.351215</td>\n",
       "      <td>-33.293244</td>\n",
       "      <td>-1.0</td>\n",
       "      <td>0.0</td>\n",
       "      <td></td>\n",
       "      <td></td>\n",
       "    </tr>\n",
       "    <tr>\n",
       "      <th>3</th>\n",
       "      <td>18</td>\n",
       "      <td>PSZ2 G006.16-69.49</td>\n",
       "      <td>350.537519</td>\n",
       "      <td>-34.575214</td>\n",
       "      <td>-1.0</td>\n",
       "      <td>0.0</td>\n",
       "      <td></td>\n",
       "      <td></td>\n",
       "    </tr>\n",
       "    <tr>\n",
       "      <th>4</th>\n",
       "      <td>26</td>\n",
       "      <td>PSZ2 G007.67-43.18</td>\n",
       "      <td>318.179579</td>\n",
       "      <td>-36.084397</td>\n",
       "      <td>-1.0</td>\n",
       "      <td>0.0</td>\n",
       "      <td></td>\n",
       "      <td></td>\n",
       "    </tr>\n",
       "  </tbody>\n",
       "</table>\n",
       "</div>"
      ],
      "text/plain": [
       "   Unnamed: 0                Name       RAdeg      DEdeg    z  MSZ  \\\n",
       "0           4  PSZ2 G002.04-22.15  291.359610 -36.517944 -1.0  0.0   \n",
       "1           9  PSZ2 G002.88-22.45  292.014768 -35.876093 -1.0  0.0   \n",
       "2          10  PSZ2 G003.21-76.04  358.351215 -33.293244 -1.0  0.0   \n",
       "3          18  PSZ2 G006.16-69.49  350.537519 -34.575214 -1.0  0.0   \n",
       "4          26  PSZ2 G007.67-43.18  318.179579 -36.084397 -1.0  0.0   \n",
       "\n",
       "           MCXC             RedMAPPer  \n",
       "0                                      \n",
       "1                                      \n",
       "2                                      \n",
       "3                                      \n",
       "4                                      "
      ]
     },
     "execution_count": 27,
     "metadata": {},
     "output_type": "execute_result"
    }
   ],
   "source": [
    "planck_no_z = pd.read_csv('../data_src/planck_no_z.csv')\n",
    "planck_no_z.head()"
   ]
  },
  {
   "cell_type": "code",
   "execution_count": 28,
   "metadata": {
    "ExecuteTime": {
     "end_time": "2020-04-07T16:21:56.244019Z",
     "start_time": "2020-04-07T16:21:50.972923Z"
    }
   },
   "outputs": [
    {
     "data": {
      "text/html": [
       "<div>\n",
       "<style scoped>\n",
       "    .dataframe tbody tr th:only-of-type {\n",
       "        vertical-align: middle;\n",
       "    }\n",
       "\n",
       "    .dataframe tbody tr th {\n",
       "        vertical-align: top;\n",
       "    }\n",
       "\n",
       "    .dataframe thead th {\n",
       "        text-align: right;\n",
       "    }\n",
       "</style>\n",
       "<table border=\"1\" class=\"dataframe\">\n",
       "  <thead>\n",
       "    <tr style=\"text-align: right;\">\n",
       "      <th></th>\n",
       "      <th>Unnamed: 0</th>\n",
       "      <th>Name</th>\n",
       "      <th>RAdeg</th>\n",
       "      <th>DEdeg</th>\n",
       "      <th>z</th>\n",
       "      <th>MSZ</th>\n",
       "      <th>MCXC</th>\n",
       "      <th>RedMAPPer</th>\n",
       "      <th>pix</th>\n",
       "    </tr>\n",
       "  </thead>\n",
       "  <tbody>\n",
       "    <tr>\n",
       "      <th>0</th>\n",
       "      <td>4</td>\n",
       "      <td>PSZ2 G002.04-22.15</td>\n",
       "      <td>291.359610</td>\n",
       "      <td>-36.517944</td>\n",
       "      <td>-1.0</td>\n",
       "      <td>0.0</td>\n",
       "      <td></td>\n",
       "      <td></td>\n",
       "      <td>16</td>\n",
       "    </tr>\n",
       "    <tr>\n",
       "      <th>1</th>\n",
       "      <td>9</td>\n",
       "      <td>PSZ2 G002.88-22.45</td>\n",
       "      <td>292.014768</td>\n",
       "      <td>-35.876093</td>\n",
       "      <td>-1.0</td>\n",
       "      <td>0.0</td>\n",
       "      <td></td>\n",
       "      <td></td>\n",
       "      <td>16</td>\n",
       "    </tr>\n",
       "    <tr>\n",
       "      <th>2</th>\n",
       "      <td>10</td>\n",
       "      <td>PSZ2 G003.21-76.04</td>\n",
       "      <td>358.351215</td>\n",
       "      <td>-33.293244</td>\n",
       "      <td>-1.0</td>\n",
       "      <td>0.0</td>\n",
       "      <td></td>\n",
       "      <td></td>\n",
       "      <td>32</td>\n",
       "    </tr>\n",
       "    <tr>\n",
       "      <th>3</th>\n",
       "      <td>18</td>\n",
       "      <td>PSZ2 G006.16-69.49</td>\n",
       "      <td>350.537519</td>\n",
       "      <td>-34.575214</td>\n",
       "      <td>-1.0</td>\n",
       "      <td>0.0</td>\n",
       "      <td></td>\n",
       "      <td></td>\n",
       "      <td>32</td>\n",
       "    </tr>\n",
       "    <tr>\n",
       "      <th>4</th>\n",
       "      <td>26</td>\n",
       "      <td>PSZ2 G007.67-43.18</td>\n",
       "      <td>318.179579</td>\n",
       "      <td>-36.084397</td>\n",
       "      <td>-1.0</td>\n",
       "      <td>0.0</td>\n",
       "      <td></td>\n",
       "      <td></td>\n",
       "      <td>34</td>\n",
       "    </tr>\n",
       "  </tbody>\n",
       "</table>\n",
       "</div>"
      ],
      "text/plain": [
       "   Unnamed: 0                Name       RAdeg      DEdeg    z  MSZ  \\\n",
       "0           4  PSZ2 G002.04-22.15  291.359610 -36.517944 -1.0  0.0   \n",
       "1           9  PSZ2 G002.88-22.45  292.014768 -35.876093 -1.0  0.0   \n",
       "2          10  PSZ2 G003.21-76.04  358.351215 -33.293244 -1.0  0.0   \n",
       "3          18  PSZ2 G006.16-69.49  350.537519 -34.575214 -1.0  0.0   \n",
       "4          26  PSZ2 G007.67-43.18  318.179579 -36.084397 -1.0  0.0   \n",
       "\n",
       "           MCXC             RedMAPPer  pix  \n",
       "0                                       16  \n",
       "1                                       16  \n",
       "2                                       32  \n",
       "3                                       32  \n",
       "4                                       34  "
      ]
     },
     "execution_count": 28,
     "metadata": {},
     "output_type": "execute_result"
    }
   ],
   "source": [
    "planck_no_z['pix'] = None\n",
    "for i in range(planck_no_z.shape[0]):\n",
    "    planck_no_z.loc[i, 'pix'] = obj_in_pix(nside=2, \n",
    "                                           ra=planck_no_z.iloc[i]['RAdeg'], dec=planck_no_z.iloc[i]['DEdeg'])\n",
    "planck_no_z.head()"
   ]
  },
  {
   "cell_type": "code",
   "execution_count": 51,
   "metadata": {
    "ExecuteTime": {
     "end_time": "2020-04-06T19:04:21.211900Z",
     "start_time": "2020-04-06T19:04:21.198616Z"
    }
   },
   "outputs": [
    {
     "data": {
      "text/plain": [
       "18"
      ]
     },
     "execution_count": 51,
     "metadata": {},
     "output_type": "execute_result"
    }
   ],
   "source": [
    "np.count_nonzero(planck_no_z == 6)"
   ]
  },
  {
   "cell_type": "code",
   "execution_count": 29,
   "metadata": {
    "ExecuteTime": {
     "end_time": "2020-04-07T16:22:02.555483Z",
     "start_time": "2020-04-07T16:22:02.550027Z"
    }
   },
   "outputs": [
    {
     "data": {
      "text/plain": [
       "['Unnamed: 0',\n",
       " 'Name',\n",
       " 'RAdeg',\n",
       " 'DEdeg',\n",
       " 'z',\n",
       " 'MSZ',\n",
       " 'MCXC',\n",
       " 'RedMAPPer',\n",
       " 'pix']"
      ]
     },
     "execution_count": 29,
     "metadata": {},
     "output_type": "execute_result"
    }
   ],
   "source": [
    "list(planck_no_z)"
   ]
  },
  {
   "cell_type": "code",
   "execution_count": 30,
   "metadata": {
    "ExecuteTime": {
     "end_time": "2020-04-07T16:23:43.082040Z",
     "start_time": "2020-04-07T16:23:43.064125Z"
    }
   },
   "outputs": [
    {
     "data": {
      "text/html": [
       "<div>\n",
       "<style scoped>\n",
       "    .dataframe tbody tr th:only-of-type {\n",
       "        vertical-align: middle;\n",
       "    }\n",
       "\n",
       "    .dataframe tbody tr th {\n",
       "        vertical-align: top;\n",
       "    }\n",
       "\n",
       "    .dataframe thead th {\n",
       "        text-align: right;\n",
       "    }\n",
       "</style>\n",
       "<table border=\"1\" class=\"dataframe\">\n",
       "  <thead>\n",
       "    <tr style=\"text-align: right;\">\n",
       "      <th></th>\n",
       "      <th>Name</th>\n",
       "      <th>RAdeg</th>\n",
       "      <th>DEdeg</th>\n",
       "      <th>z</th>\n",
       "      <th>M500</th>\n",
       "      <th>pix</th>\n",
       "    </tr>\n",
       "  </thead>\n",
       "  <tbody>\n",
       "    <tr>\n",
       "      <th>0</th>\n",
       "      <td>PSZ2 G002.04-22.15</td>\n",
       "      <td>291.359610</td>\n",
       "      <td>-36.517944</td>\n",
       "      <td>-1.0</td>\n",
       "      <td>0.0</td>\n",
       "      <td>16</td>\n",
       "    </tr>\n",
       "    <tr>\n",
       "      <th>1</th>\n",
       "      <td>PSZ2 G002.88-22.45</td>\n",
       "      <td>292.014768</td>\n",
       "      <td>-35.876093</td>\n",
       "      <td>-1.0</td>\n",
       "      <td>0.0</td>\n",
       "      <td>16</td>\n",
       "    </tr>\n",
       "    <tr>\n",
       "      <th>2</th>\n",
       "      <td>PSZ2 G003.21-76.04</td>\n",
       "      <td>358.351215</td>\n",
       "      <td>-33.293244</td>\n",
       "      <td>-1.0</td>\n",
       "      <td>0.0</td>\n",
       "      <td>32</td>\n",
       "    </tr>\n",
       "    <tr>\n",
       "      <th>3</th>\n",
       "      <td>PSZ2 G006.16-69.49</td>\n",
       "      <td>350.537519</td>\n",
       "      <td>-34.575214</td>\n",
       "      <td>-1.0</td>\n",
       "      <td>0.0</td>\n",
       "      <td>32</td>\n",
       "    </tr>\n",
       "    <tr>\n",
       "      <th>4</th>\n",
       "      <td>PSZ2 G007.67-43.18</td>\n",
       "      <td>318.179579</td>\n",
       "      <td>-36.084397</td>\n",
       "      <td>-1.0</td>\n",
       "      <td>0.0</td>\n",
       "      <td>34</td>\n",
       "    </tr>\n",
       "  </tbody>\n",
       "</table>\n",
       "</div>"
      ],
      "text/plain": [
       "                 Name       RAdeg      DEdeg    z  M500  pix\n",
       "0  PSZ2 G002.04-22.15  291.359610 -36.517944 -1.0   0.0   16\n",
       "1  PSZ2 G002.88-22.45  292.014768 -35.876093 -1.0   0.0   16\n",
       "2  PSZ2 G003.21-76.04  358.351215 -33.293244 -1.0   0.0   32\n",
       "3  PSZ2 G006.16-69.49  350.537519 -34.575214 -1.0   0.0   32\n",
       "4  PSZ2 G007.67-43.18  318.179579 -36.084397 -1.0   0.0   34"
      ]
     },
     "execution_count": 30,
     "metadata": {},
     "output_type": "execute_result"
    }
   ],
   "source": [
    "planck_no_z.drop(['Unnamed: 0', 'MCXC', 'RedMAPPer'], axis='columns', inplace=True)\n",
    "planck_no_z.rename(columns={'MSZ':'M500'}, inplace=True)\n",
    "planck_no_z.head()"
   ]
  },
  {
   "cell_type": "code",
   "execution_count": 31,
   "metadata": {
    "ExecuteTime": {
     "end_time": "2020-04-07T16:24:24.085929Z",
     "start_time": "2020-04-07T16:24:24.065005Z"
    }
   },
   "outputs": [],
   "source": [
    "planck_no_z['Cat'] = 'planck_no_z'"
   ]
  },
  {
   "cell_type": "code",
   "execution_count": 54,
   "metadata": {
    "ExecuteTime": {
     "end_time": "2020-04-06T19:05:19.472517Z",
     "start_time": "2020-04-06T19:05:19.453300Z"
    }
   },
   "outputs": [],
   "source": [
    "planck_no_z.to_csv('./planck_no_z.csv')"
   ]
  },
  {
   "cell_type": "code",
   "execution_count": 32,
   "metadata": {
    "ExecuteTime": {
     "end_time": "2020-04-07T16:25:02.304828Z",
     "start_time": "2020-04-07T16:25:02.215385Z"
    }
   },
   "outputs": [],
   "source": [
    "mcxcwp = pd.read_csv('../data_src/mcxcwp.csv')"
   ]
  },
  {
   "cell_type": "code",
   "execution_count": 33,
   "metadata": {
    "ExecuteTime": {
     "end_time": "2020-04-07T16:25:12.297651Z",
     "start_time": "2020-04-07T16:25:12.277594Z"
    }
   },
   "outputs": [
    {
     "data": {
      "text/plain": [
       "['Unnamed: 0', 'MCXC', 'OName', 'AName', 'RAdeg', 'DEdeg', 'z', 'M500']"
      ]
     },
     "execution_count": 33,
     "metadata": {},
     "output_type": "execute_result"
    }
   ],
   "source": [
    "list(mcxcwp)"
   ]
  },
  {
   "cell_type": "code",
   "execution_count": 34,
   "metadata": {
    "ExecuteTime": {
     "end_time": "2020-04-07T16:25:25.859055Z",
     "start_time": "2020-04-07T16:25:15.015885Z"
    }
   },
   "outputs": [
    {
     "data": {
      "text/html": [
       "<div>\n",
       "<style scoped>\n",
       "    .dataframe tbody tr th:only-of-type {\n",
       "        vertical-align: middle;\n",
       "    }\n",
       "\n",
       "    .dataframe tbody tr th {\n",
       "        vertical-align: top;\n",
       "    }\n",
       "\n",
       "    .dataframe thead th {\n",
       "        text-align: right;\n",
       "    }\n",
       "</style>\n",
       "<table border=\"1\" class=\"dataframe\">\n",
       "  <thead>\n",
       "    <tr style=\"text-align: right;\">\n",
       "      <th></th>\n",
       "      <th>Unnamed: 0</th>\n",
       "      <th>MCXC</th>\n",
       "      <th>OName</th>\n",
       "      <th>AName</th>\n",
       "      <th>RAdeg</th>\n",
       "      <th>DEdeg</th>\n",
       "      <th>z</th>\n",
       "      <th>M500</th>\n",
       "      <th>pix</th>\n",
       "    </tr>\n",
       "  </thead>\n",
       "  <tbody>\n",
       "    <tr>\n",
       "      <th>0</th>\n",
       "      <td>0</td>\n",
       "      <td>J0000.1+0816</td>\n",
       "      <td>RXC J0000.1+0816</td>\n",
       "      <td>UGC 12890                                     ...</td>\n",
       "      <td>0.030</td>\n",
       "      <td>8.274</td>\n",
       "      <td>0.0396</td>\n",
       "      <td>0.7373</td>\n",
       "      <td>38</td>\n",
       "    </tr>\n",
       "    <tr>\n",
       "      <th>1</th>\n",
       "      <td>1</td>\n",
       "      <td>J0000.4-0237</td>\n",
       "      <td>RXC J0000.4-0237</td>\n",
       "      <td>...</td>\n",
       "      <td>0.103</td>\n",
       "      <td>-2.625</td>\n",
       "      <td>0.0379</td>\n",
       "      <td>0.3297</td>\n",
       "      <td>38</td>\n",
       "    </tr>\n",
       "    <tr>\n",
       "      <th>2</th>\n",
       "      <td>2</td>\n",
       "      <td>J0001.6-1540</td>\n",
       "      <td>RXC J0001.6-1540</td>\n",
       "      <td>...</td>\n",
       "      <td>0.412</td>\n",
       "      <td>-15.681</td>\n",
       "      <td>0.1246</td>\n",
       "      <td>1.6557</td>\n",
       "      <td>32</td>\n",
       "    </tr>\n",
       "    <tr>\n",
       "      <th>3</th>\n",
       "      <td>5</td>\n",
       "      <td>J0003.2-3555</td>\n",
       "      <td>RXCJ0003.2-3555</td>\n",
       "      <td>A2717                                         ...</td>\n",
       "      <td>0.801</td>\n",
       "      <td>-35.927</td>\n",
       "      <td>0.0490</td>\n",
       "      <td>1.2016</td>\n",
       "      <td>44</td>\n",
       "    </tr>\n",
       "    <tr>\n",
       "      <th>4</th>\n",
       "      <td>7</td>\n",
       "      <td>J0004.9+1142</td>\n",
       "      <td>RXC J0004.9+1142</td>\n",
       "      <td>UGC 00032                                     ...</td>\n",
       "      <td>1.247</td>\n",
       "      <td>11.701</td>\n",
       "      <td>0.0761</td>\n",
       "      <td>1.3009</td>\n",
       "      <td>38</td>\n",
       "    </tr>\n",
       "  </tbody>\n",
       "</table>\n",
       "</div>"
      ],
      "text/plain": [
       "   Unnamed: 0          MCXC               OName  \\\n",
       "0           0  J0000.1+0816  RXC J0000.1+0816     \n",
       "1           1  J0000.4-0237  RXC J0000.4-0237     \n",
       "2           2  J0001.6-1540  RXC J0001.6-1540     \n",
       "3           5  J0003.2-3555  RXCJ0003.2-3555      \n",
       "4           7  J0004.9+1142  RXC J0004.9+1142     \n",
       "\n",
       "                                               AName  RAdeg   DEdeg       z  \\\n",
       "0  UGC 12890                                     ...  0.030   8.274  0.0396   \n",
       "1                                                ...  0.103  -2.625  0.0379   \n",
       "2                                                ...  0.412 -15.681  0.1246   \n",
       "3  A2717                                         ...  0.801 -35.927  0.0490   \n",
       "4  UGC 00032                                     ...  1.247  11.701  0.0761   \n",
       "\n",
       "     M500  pix  \n",
       "0  0.7373   38  \n",
       "1  0.3297   38  \n",
       "2  1.6557   32  \n",
       "3  1.2016   44  \n",
       "4  1.3009   38  "
      ]
     },
     "execution_count": 34,
     "metadata": {},
     "output_type": "execute_result"
    }
   ],
   "source": [
    "mcxcwp['pix'] = None\n",
    "for i in range(mcxcwp.shape[0]):\n",
    "    mcxcwp.loc[i, 'pix'] = obj_in_pix(nside=2, \n",
    "                                           ra=mcxcwp.iloc[i]['RAdeg'], dec=mcxcwp.iloc[i]['DEdeg'])\n",
    "mcxcwp.head()"
   ]
  },
  {
   "cell_type": "code",
   "execution_count": 36,
   "metadata": {
    "ExecuteTime": {
     "end_time": "2020-04-07T16:27:22.799334Z",
     "start_time": "2020-04-07T16:27:22.694392Z"
    },
    "collapsed": true
   },
   "outputs": [
    {
     "ename": "KeyError",
     "evalue": "\"['Unnamed: 0' 'OName' 'AName'] not found in axis\"",
     "output_type": "error",
     "traceback": [
      "\u001b[0;31m---------------------------------------------------------------------------\u001b[0m",
      "\u001b[0;31mKeyError\u001b[0m                                  Traceback (most recent call last)",
      "\u001b[0;32m<ipython-input-36-55c1b8831599>\u001b[0m in \u001b[0;36m<module>\u001b[0;34m\u001b[0m\n\u001b[0;32m----> 1\u001b[0;31m \u001b[0mmcxcwp\u001b[0m\u001b[0;34m.\u001b[0m\u001b[0mdrop\u001b[0m\u001b[0;34m(\u001b[0m\u001b[0;34m[\u001b[0m\u001b[0;34m'Unnamed: 0'\u001b[0m\u001b[0;34m,\u001b[0m \u001b[0;34m'OName'\u001b[0m\u001b[0;34m,\u001b[0m \u001b[0;34m'AName'\u001b[0m\u001b[0;34m]\u001b[0m\u001b[0;34m,\u001b[0m \u001b[0maxis\u001b[0m\u001b[0;34m=\u001b[0m\u001b[0;34m'columns'\u001b[0m\u001b[0;34m,\u001b[0m \u001b[0minplace\u001b[0m\u001b[0;34m=\u001b[0m\u001b[0;32mTrue\u001b[0m\u001b[0;34m)\u001b[0m\u001b[0;34m\u001b[0m\u001b[0;34m\u001b[0m\u001b[0m\n\u001b[0m\u001b[1;32m      2\u001b[0m \u001b[0mmcxcwp\u001b[0m\u001b[0;34m.\u001b[0m\u001b[0mrename\u001b[0m\u001b[0;34m(\u001b[0m\u001b[0mcolumns\u001b[0m\u001b[0;34m=\u001b[0m\u001b[0;34m{\u001b[0m\u001b[0;34m'MCXC'\u001b[0m \u001b[0;34m:\u001b[0m \u001b[0;34m'Name'\u001b[0m\u001b[0;34m}\u001b[0m\u001b[0;34m,\u001b[0m \u001b[0minplace\u001b[0m\u001b[0;34m=\u001b[0m\u001b[0;32mTrue\u001b[0m\u001b[0;34m)\u001b[0m\u001b[0;34m\u001b[0m\u001b[0;34m\u001b[0m\u001b[0m\n\u001b[1;32m      3\u001b[0m \u001b[0mmcxcwp\u001b[0m\u001b[0;34m[\u001b[0m\u001b[0;34m'Cat'\u001b[0m\u001b[0;34m]\u001b[0m \u001b[0;34m=\u001b[0m \u001b[0;34m'mcxcwp'\u001b[0m\u001b[0;34m\u001b[0m\u001b[0;34m\u001b[0m\u001b[0m\n\u001b[1;32m      4\u001b[0m \u001b[0mmcxcwp\u001b[0m\u001b[0;34m.\u001b[0m\u001b[0mhead\u001b[0m\u001b[0;34m(\u001b[0m\u001b[0;34m)\u001b[0m\u001b[0;34m\u001b[0m\u001b[0;34m\u001b[0m\u001b[0m\n",
      "\u001b[0;32m~/anaconda3/lib/python3.7/site-packages/pandas/core/frame.py\u001b[0m in \u001b[0;36mdrop\u001b[0;34m(self, labels, axis, index, columns, level, inplace, errors)\u001b[0m\n\u001b[1;32m   3938\u001b[0m                                            \u001b[0mindex\u001b[0m\u001b[0;34m=\u001b[0m\u001b[0mindex\u001b[0m\u001b[0;34m,\u001b[0m \u001b[0mcolumns\u001b[0m\u001b[0;34m=\u001b[0m\u001b[0mcolumns\u001b[0m\u001b[0;34m,\u001b[0m\u001b[0;34m\u001b[0m\u001b[0;34m\u001b[0m\u001b[0m\n\u001b[1;32m   3939\u001b[0m                                            \u001b[0mlevel\u001b[0m\u001b[0;34m=\u001b[0m\u001b[0mlevel\u001b[0m\u001b[0;34m,\u001b[0m \u001b[0minplace\u001b[0m\u001b[0;34m=\u001b[0m\u001b[0minplace\u001b[0m\u001b[0;34m,\u001b[0m\u001b[0;34m\u001b[0m\u001b[0;34m\u001b[0m\u001b[0m\n\u001b[0;32m-> 3940\u001b[0;31m                                            errors=errors)\n\u001b[0m\u001b[1;32m   3941\u001b[0m \u001b[0;34m\u001b[0m\u001b[0m\n\u001b[1;32m   3942\u001b[0m     @rewrite_axis_style_signature('mapper', [('copy', True),\n",
      "\u001b[0;32m~/anaconda3/lib/python3.7/site-packages/pandas/core/generic.py\u001b[0m in \u001b[0;36mdrop\u001b[0;34m(self, labels, axis, index, columns, level, inplace, errors)\u001b[0m\n\u001b[1;32m   3778\u001b[0m         \u001b[0;32mfor\u001b[0m \u001b[0maxis\u001b[0m\u001b[0;34m,\u001b[0m \u001b[0mlabels\u001b[0m \u001b[0;32min\u001b[0m \u001b[0maxes\u001b[0m\u001b[0;34m.\u001b[0m\u001b[0mitems\u001b[0m\u001b[0;34m(\u001b[0m\u001b[0;34m)\u001b[0m\u001b[0;34m:\u001b[0m\u001b[0;34m\u001b[0m\u001b[0;34m\u001b[0m\u001b[0m\n\u001b[1;32m   3779\u001b[0m             \u001b[0;32mif\u001b[0m \u001b[0mlabels\u001b[0m \u001b[0;32mis\u001b[0m \u001b[0;32mnot\u001b[0m \u001b[0;32mNone\u001b[0m\u001b[0;34m:\u001b[0m\u001b[0;34m\u001b[0m\u001b[0;34m\u001b[0m\u001b[0m\n\u001b[0;32m-> 3780\u001b[0;31m                 \u001b[0mobj\u001b[0m \u001b[0;34m=\u001b[0m \u001b[0mobj\u001b[0m\u001b[0;34m.\u001b[0m\u001b[0m_drop_axis\u001b[0m\u001b[0;34m(\u001b[0m\u001b[0mlabels\u001b[0m\u001b[0;34m,\u001b[0m \u001b[0maxis\u001b[0m\u001b[0;34m,\u001b[0m \u001b[0mlevel\u001b[0m\u001b[0;34m=\u001b[0m\u001b[0mlevel\u001b[0m\u001b[0;34m,\u001b[0m \u001b[0merrors\u001b[0m\u001b[0;34m=\u001b[0m\u001b[0merrors\u001b[0m\u001b[0;34m)\u001b[0m\u001b[0;34m\u001b[0m\u001b[0;34m\u001b[0m\u001b[0m\n\u001b[0m\u001b[1;32m   3781\u001b[0m \u001b[0;34m\u001b[0m\u001b[0m\n\u001b[1;32m   3782\u001b[0m         \u001b[0;32mif\u001b[0m \u001b[0minplace\u001b[0m\u001b[0;34m:\u001b[0m\u001b[0;34m\u001b[0m\u001b[0;34m\u001b[0m\u001b[0m\n",
      "\u001b[0;32m~/anaconda3/lib/python3.7/site-packages/pandas/core/generic.py\u001b[0m in \u001b[0;36m_drop_axis\u001b[0;34m(self, labels, axis, level, errors)\u001b[0m\n\u001b[1;32m   3810\u001b[0m                 \u001b[0mnew_axis\u001b[0m \u001b[0;34m=\u001b[0m \u001b[0maxis\u001b[0m\u001b[0;34m.\u001b[0m\u001b[0mdrop\u001b[0m\u001b[0;34m(\u001b[0m\u001b[0mlabels\u001b[0m\u001b[0;34m,\u001b[0m \u001b[0mlevel\u001b[0m\u001b[0;34m=\u001b[0m\u001b[0mlevel\u001b[0m\u001b[0;34m,\u001b[0m \u001b[0merrors\u001b[0m\u001b[0;34m=\u001b[0m\u001b[0merrors\u001b[0m\u001b[0;34m)\u001b[0m\u001b[0;34m\u001b[0m\u001b[0;34m\u001b[0m\u001b[0m\n\u001b[1;32m   3811\u001b[0m             \u001b[0;32melse\u001b[0m\u001b[0;34m:\u001b[0m\u001b[0;34m\u001b[0m\u001b[0;34m\u001b[0m\u001b[0m\n\u001b[0;32m-> 3812\u001b[0;31m                 \u001b[0mnew_axis\u001b[0m \u001b[0;34m=\u001b[0m \u001b[0maxis\u001b[0m\u001b[0;34m.\u001b[0m\u001b[0mdrop\u001b[0m\u001b[0;34m(\u001b[0m\u001b[0mlabels\u001b[0m\u001b[0;34m,\u001b[0m \u001b[0merrors\u001b[0m\u001b[0;34m=\u001b[0m\u001b[0merrors\u001b[0m\u001b[0;34m)\u001b[0m\u001b[0;34m\u001b[0m\u001b[0;34m\u001b[0m\u001b[0m\n\u001b[0m\u001b[1;32m   3813\u001b[0m             \u001b[0mresult\u001b[0m \u001b[0;34m=\u001b[0m \u001b[0mself\u001b[0m\u001b[0;34m.\u001b[0m\u001b[0mreindex\u001b[0m\u001b[0;34m(\u001b[0m\u001b[0;34m**\u001b[0m\u001b[0;34m{\u001b[0m\u001b[0maxis_name\u001b[0m\u001b[0;34m:\u001b[0m \u001b[0mnew_axis\u001b[0m\u001b[0;34m}\u001b[0m\u001b[0;34m)\u001b[0m\u001b[0;34m\u001b[0m\u001b[0;34m\u001b[0m\u001b[0m\n\u001b[1;32m   3814\u001b[0m \u001b[0;34m\u001b[0m\u001b[0m\n",
      "\u001b[0;32m~/anaconda3/lib/python3.7/site-packages/pandas/core/indexes/base.py\u001b[0m in \u001b[0;36mdrop\u001b[0;34m(self, labels, errors)\u001b[0m\n\u001b[1;32m   4963\u001b[0m             \u001b[0;32mif\u001b[0m \u001b[0merrors\u001b[0m \u001b[0;34m!=\u001b[0m \u001b[0;34m'ignore'\u001b[0m\u001b[0;34m:\u001b[0m\u001b[0;34m\u001b[0m\u001b[0;34m\u001b[0m\u001b[0m\n\u001b[1;32m   4964\u001b[0m                 raise KeyError(\n\u001b[0;32m-> 4965\u001b[0;31m                     '{} not found in axis'.format(labels[mask]))\n\u001b[0m\u001b[1;32m   4966\u001b[0m             \u001b[0mindexer\u001b[0m \u001b[0;34m=\u001b[0m \u001b[0mindexer\u001b[0m\u001b[0;34m[\u001b[0m\u001b[0;34m~\u001b[0m\u001b[0mmask\u001b[0m\u001b[0;34m]\u001b[0m\u001b[0;34m\u001b[0m\u001b[0;34m\u001b[0m\u001b[0m\n\u001b[1;32m   4967\u001b[0m         \u001b[0;32mreturn\u001b[0m \u001b[0mself\u001b[0m\u001b[0;34m.\u001b[0m\u001b[0mdelete\u001b[0m\u001b[0;34m(\u001b[0m\u001b[0mindexer\u001b[0m\u001b[0;34m)\u001b[0m\u001b[0;34m\u001b[0m\u001b[0;34m\u001b[0m\u001b[0m\n",
      "\u001b[0;31mKeyError\u001b[0m: \"['Unnamed: 0' 'OName' 'AName'] not found in axis\""
     ]
    }
   ],
   "source": [
    "mcxcwp.drop(['Unnamed: 0', 'OName', 'AName'], axis='columns', inplace=True)\n",
    "mcxcwp.rename(columns={'MCXC' : 'Name'}, inplace=True)\n"
   ]
  },
  {
   "cell_type": "code",
   "execution_count": 37,
   "metadata": {
    "ExecuteTime": {
     "end_time": "2020-04-07T16:27:43.682948Z",
     "start_time": "2020-04-07T16:27:43.648947Z"
    }
   },
   "outputs": [
    {
     "data": {
      "text/html": [
       "<div>\n",
       "<style scoped>\n",
       "    .dataframe tbody tr th:only-of-type {\n",
       "        vertical-align: middle;\n",
       "    }\n",
       "\n",
       "    .dataframe tbody tr th {\n",
       "        vertical-align: top;\n",
       "    }\n",
       "\n",
       "    .dataframe thead th {\n",
       "        text-align: right;\n",
       "    }\n",
       "</style>\n",
       "<table border=\"1\" class=\"dataframe\">\n",
       "  <thead>\n",
       "    <tr style=\"text-align: right;\">\n",
       "      <th></th>\n",
       "      <th>Name</th>\n",
       "      <th>RAdeg</th>\n",
       "      <th>DEdeg</th>\n",
       "      <th>z</th>\n",
       "      <th>M500</th>\n",
       "      <th>pix</th>\n",
       "      <th>Cat</th>\n",
       "    </tr>\n",
       "  </thead>\n",
       "  <tbody>\n",
       "    <tr>\n",
       "      <th>0</th>\n",
       "      <td>J0000.1+0816</td>\n",
       "      <td>0.030</td>\n",
       "      <td>8.274</td>\n",
       "      <td>0.0396</td>\n",
       "      <td>0.7373</td>\n",
       "      <td>38</td>\n",
       "      <td>mcxcwp</td>\n",
       "    </tr>\n",
       "    <tr>\n",
       "      <th>1</th>\n",
       "      <td>J0000.4-0237</td>\n",
       "      <td>0.103</td>\n",
       "      <td>-2.625</td>\n",
       "      <td>0.0379</td>\n",
       "      <td>0.3297</td>\n",
       "      <td>38</td>\n",
       "      <td>mcxcwp</td>\n",
       "    </tr>\n",
       "    <tr>\n",
       "      <th>2</th>\n",
       "      <td>J0001.6-1540</td>\n",
       "      <td>0.412</td>\n",
       "      <td>-15.681</td>\n",
       "      <td>0.1246</td>\n",
       "      <td>1.6557</td>\n",
       "      <td>32</td>\n",
       "      <td>mcxcwp</td>\n",
       "    </tr>\n",
       "    <tr>\n",
       "      <th>3</th>\n",
       "      <td>J0003.2-3555</td>\n",
       "      <td>0.801</td>\n",
       "      <td>-35.927</td>\n",
       "      <td>0.0490</td>\n",
       "      <td>1.2016</td>\n",
       "      <td>44</td>\n",
       "      <td>mcxcwp</td>\n",
       "    </tr>\n",
       "    <tr>\n",
       "      <th>4</th>\n",
       "      <td>J0004.9+1142</td>\n",
       "      <td>1.247</td>\n",
       "      <td>11.701</td>\n",
       "      <td>0.0761</td>\n",
       "      <td>1.3009</td>\n",
       "      <td>38</td>\n",
       "      <td>mcxcwp</td>\n",
       "    </tr>\n",
       "  </tbody>\n",
       "</table>\n",
       "</div>"
      ],
      "text/plain": [
       "           Name  RAdeg   DEdeg       z    M500  pix     Cat\n",
       "0  J0000.1+0816  0.030   8.274  0.0396  0.7373   38  mcxcwp\n",
       "1  J0000.4-0237  0.103  -2.625  0.0379  0.3297   38  mcxcwp\n",
       "2  J0001.6-1540  0.412 -15.681  0.1246  1.6557   32  mcxcwp\n",
       "3  J0003.2-3555  0.801 -35.927  0.0490  1.2016   44  mcxcwp\n",
       "4  J0004.9+1142  1.247  11.701  0.0761  1.3009   38  mcxcwp"
      ]
     },
     "execution_count": 37,
     "metadata": {},
     "output_type": "execute_result"
    }
   ],
   "source": [
    "mcxcwp['Cat'] = 'mcxcwp'\n",
    "mcxcwp.head()"
   ]
  },
  {
   "cell_type": "code",
   "execution_count": 57,
   "metadata": {
    "ExecuteTime": {
     "end_time": "2020-04-06T19:05:49.488287Z",
     "start_time": "2020-04-06T19:05:49.477923Z"
    }
   },
   "outputs": [
    {
     "data": {
      "text/plain": [
       "50"
      ]
     },
     "execution_count": 57,
     "metadata": {},
     "output_type": "execute_result"
    }
   ],
   "source": [
    "np.count_nonzero(mcxcwp['pix'] == 6)"
   ]
  },
  {
   "cell_type": "code",
   "execution_count": 59,
   "metadata": {
    "ExecuteTime": {
     "end_time": "2020-04-06T19:06:24.471200Z",
     "start_time": "2020-04-06T19:06:24.451261Z"
    }
   },
   "outputs": [],
   "source": [
    "mcxcwp.to_csv('./mcxcwp.csv')"
   ]
  },
  {
   "cell_type": "code",
   "execution_count": 20,
   "metadata": {
    "ExecuteTime": {
     "end_time": "2020-04-06T18:37:29.837533Z",
     "start_time": "2020-04-06T18:37:29.658832Z"
    }
   },
   "outputs": [],
   "source": [
    "rm30 = pd.read_csv('../data_src/RM30.csv')"
   ]
  },
  {
   "cell_type": "code",
   "execution_count": 22,
   "metadata": {
    "ExecuteTime": {
     "end_time": "2020-04-06T18:38:34.833326Z",
     "start_time": "2020-04-06T18:38:34.829055Z"
    }
   },
   "outputs": [],
   "source": [
    "rm30['RAdeg'] = rm30['RA']\n",
    "rm30['DEdeg'] = rm30['DEC']"
   ]
  },
  {
   "cell_type": "code",
   "execution_count": 23,
   "metadata": {
    "ExecuteTime": {
     "end_time": "2020-04-06T18:38:44.558624Z",
     "start_time": "2020-04-06T18:38:44.538534Z"
    }
   },
   "outputs": [
    {
     "data": {
      "text/html": [
       "<div>\n",
       "<style scoped>\n",
       "    .dataframe tbody tr th:only-of-type {\n",
       "        vertical-align: middle;\n",
       "    }\n",
       "\n",
       "    .dataframe tbody tr th {\n",
       "        vertical-align: top;\n",
       "    }\n",
       "\n",
       "    .dataframe thead th {\n",
       "        text-align: right;\n",
       "    }\n",
       "</style>\n",
       "<table border=\"1\" class=\"dataframe\">\n",
       "  <thead>\n",
       "    <tr style=\"text-align: right;\">\n",
       "      <th></th>\n",
       "      <th>Unnamed: 0</th>\n",
       "      <th>Unnamed: 0.1</th>\n",
       "      <th>NAME</th>\n",
       "      <th>RA</th>\n",
       "      <th>DEC</th>\n",
       "      <th>LAMBDA</th>\n",
       "      <th>Z_SPEC</th>\n",
       "      <th>pix</th>\n",
       "      <th>RAdeg</th>\n",
       "      <th>DEdeg</th>\n",
       "    </tr>\n",
       "  </thead>\n",
       "  <tbody>\n",
       "    <tr>\n",
       "      <th>0</th>\n",
       "      <td>1</td>\n",
       "      <td>1</td>\n",
       "      <td>RMJ164019.8+464241.5</td>\n",
       "      <td>250.082548</td>\n",
       "      <td>46.711531</td>\n",
       "      <td>199.53928</td>\n",
       "      <td>-1.000000</td>\n",
       "      <td>None</td>\n",
       "      <td>250.082548</td>\n",
       "      <td>46.711531</td>\n",
       "    </tr>\n",
       "    <tr>\n",
       "      <th>1</th>\n",
       "      <td>2</td>\n",
       "      <td>2</td>\n",
       "      <td>RMJ131129.5-012028.0</td>\n",
       "      <td>197.872957</td>\n",
       "      <td>-1.341116</td>\n",
       "      <td>164.71217</td>\n",
       "      <td>-1.000000</td>\n",
       "      <td>None</td>\n",
       "      <td>197.872957</td>\n",
       "      <td>-1.341116</td>\n",
       "    </tr>\n",
       "    <tr>\n",
       "      <th>2</th>\n",
       "      <td>3</td>\n",
       "      <td>3</td>\n",
       "      <td>RMJ090912.2+105824.9</td>\n",
       "      <td>137.300745</td>\n",
       "      <td>10.973595</td>\n",
       "      <td>174.70418</td>\n",
       "      <td>-1.000000</td>\n",
       "      <td>None</td>\n",
       "      <td>137.300745</td>\n",
       "      <td>10.973595</td>\n",
       "    </tr>\n",
       "    <tr>\n",
       "      <th>3</th>\n",
       "      <td>5</td>\n",
       "      <td>5</td>\n",
       "      <td>RMJ003208.2+180625.3</td>\n",
       "      <td>8.034265</td>\n",
       "      <td>18.107024</td>\n",
       "      <td>248.38571</td>\n",
       "      <td>-1.000000</td>\n",
       "      <td>None</td>\n",
       "      <td>8.034265</td>\n",
       "      <td>18.107024</td>\n",
       "    </tr>\n",
       "    <tr>\n",
       "      <th>4</th>\n",
       "      <td>7</td>\n",
       "      <td>7</td>\n",
       "      <td>RMJ100214.1+203216.6</td>\n",
       "      <td>150.558906</td>\n",
       "      <td>20.537949</td>\n",
       "      <td>151.36407</td>\n",
       "      <td>0.319619</td>\n",
       "      <td>None</td>\n",
       "      <td>150.558906</td>\n",
       "      <td>20.537949</td>\n",
       "    </tr>\n",
       "  </tbody>\n",
       "</table>\n",
       "</div>"
      ],
      "text/plain": [
       "   Unnamed: 0  Unnamed: 0.1                  NAME          RA        DEC  \\\n",
       "0           1             1  RMJ164019.8+464241.5  250.082548  46.711531   \n",
       "1           2             2  RMJ131129.5-012028.0  197.872957  -1.341116   \n",
       "2           3             3  RMJ090912.2+105824.9  137.300745  10.973595   \n",
       "3           5             5  RMJ003208.2+180625.3    8.034265  18.107024   \n",
       "4           7             7  RMJ100214.1+203216.6  150.558906  20.537949   \n",
       "\n",
       "      LAMBDA    Z_SPEC   pix       RAdeg      DEdeg  \n",
       "0  199.53928 -1.000000  None  250.082548  46.711531  \n",
       "1  164.71217 -1.000000  None  197.872957  -1.341116  \n",
       "2  174.70418 -1.000000  None  137.300745  10.973595  \n",
       "3  248.38571 -1.000000  None    8.034265  18.107024  \n",
       "4  151.36407  0.319619  None  150.558906  20.537949  "
      ]
     },
     "execution_count": 23,
     "metadata": {},
     "output_type": "execute_result"
    }
   ],
   "source": [
    "rm30.head()"
   ]
  },
  {
   "cell_type": "code",
   "execution_count": 24,
   "metadata": {
    "ExecuteTime": {
     "end_time": "2020-04-06T18:39:35.935229Z",
     "start_time": "2020-04-06T18:39:35.803163Z"
    }
   },
   "outputs": [],
   "source": [
    "rm30.drop(['RA', 'DEC'], axis='columns', inplace=True)"
   ]
  },
  {
   "cell_type": "code",
   "execution_count": 60,
   "metadata": {
    "ExecuteTime": {
     "end_time": "2020-04-06T19:08:32.184066Z",
     "start_time": "2020-04-06T19:06:27.157024Z"
    }
   },
   "outputs": [
    {
     "data": {
      "text/html": [
       "<div>\n",
       "<style scoped>\n",
       "    .dataframe tbody tr th:only-of-type {\n",
       "        vertical-align: middle;\n",
       "    }\n",
       "\n",
       "    .dataframe tbody tr th {\n",
       "        vertical-align: top;\n",
       "    }\n",
       "\n",
       "    .dataframe thead th {\n",
       "        text-align: right;\n",
       "    }\n",
       "</style>\n",
       "<table border=\"1\" class=\"dataframe\">\n",
       "  <thead>\n",
       "    <tr style=\"text-align: right;\">\n",
       "      <th></th>\n",
       "      <th>Unnamed: 0</th>\n",
       "      <th>Unnamed: 0.1</th>\n",
       "      <th>NAME</th>\n",
       "      <th>LAMBDA</th>\n",
       "      <th>Z_SPEC</th>\n",
       "      <th>pix</th>\n",
       "      <th>RAdeg</th>\n",
       "      <th>DEdeg</th>\n",
       "    </tr>\n",
       "  </thead>\n",
       "  <tbody>\n",
       "    <tr>\n",
       "      <th>0</th>\n",
       "      <td>1</td>\n",
       "      <td>1</td>\n",
       "      <td>RMJ164019.8+464241.5</td>\n",
       "      <td>199.53928</td>\n",
       "      <td>-1.000000</td>\n",
       "      <td>1</td>\n",
       "      <td>250.082548</td>\n",
       "      <td>46.711531</td>\n",
       "    </tr>\n",
       "    <tr>\n",
       "      <th>1</th>\n",
       "      <td>2</td>\n",
       "      <td>2</td>\n",
       "      <td>RMJ131129.5-012028.0</td>\n",
       "      <td>164.71217</td>\n",
       "      <td>-1.000000</td>\n",
       "      <td>15</td>\n",
       "      <td>197.872957</td>\n",
       "      <td>-1.341116</td>\n",
       "    </tr>\n",
       "    <tr>\n",
       "      <th>2</th>\n",
       "      <td>3</td>\n",
       "      <td>3</td>\n",
       "      <td>RMJ090912.2+105824.9</td>\n",
       "      <td>174.70418</td>\n",
       "      <td>-1.000000</td>\n",
       "      <td>10</td>\n",
       "      <td>137.300745</td>\n",
       "      <td>10.973595</td>\n",
       "    </tr>\n",
       "    <tr>\n",
       "      <th>3</th>\n",
       "      <td>5</td>\n",
       "      <td>5</td>\n",
       "      <td>RMJ003208.2+180625.3</td>\n",
       "      <td>248.38571</td>\n",
       "      <td>-1.000000</td>\n",
       "      <td>38</td>\n",
       "      <td>8.034265</td>\n",
       "      <td>18.107024</td>\n",
       "    </tr>\n",
       "    <tr>\n",
       "      <th>4</th>\n",
       "      <td>7</td>\n",
       "      <td>7</td>\n",
       "      <td>RMJ100214.1+203216.6</td>\n",
       "      <td>151.36407</td>\n",
       "      <td>0.319619</td>\n",
       "      <td>10</td>\n",
       "      <td>150.558906</td>\n",
       "      <td>20.537949</td>\n",
       "    </tr>\n",
       "  </tbody>\n",
       "</table>\n",
       "</div>"
      ],
      "text/plain": [
       "   Unnamed: 0  Unnamed: 0.1                  NAME     LAMBDA    Z_SPEC  pix  \\\n",
       "0           1             1  RMJ164019.8+464241.5  199.53928 -1.000000    1   \n",
       "1           2             2  RMJ131129.5-012028.0  164.71217 -1.000000   15   \n",
       "2           3             3  RMJ090912.2+105824.9  174.70418 -1.000000   10   \n",
       "3           5             5  RMJ003208.2+180625.3  248.38571 -1.000000   38   \n",
       "4           7             7  RMJ100214.1+203216.6  151.36407  0.319619   10   \n",
       "\n",
       "        RAdeg      DEdeg  \n",
       "0  250.082548  46.711531  \n",
       "1  197.872957  -1.341116  \n",
       "2  137.300745  10.973595  \n",
       "3    8.034265  18.107024  \n",
       "4  150.558906  20.537949  "
      ]
     },
     "execution_count": 60,
     "metadata": {},
     "output_type": "execute_result"
    }
   ],
   "source": [
    "rm30['pix'] = None\n",
    "for i in range(rm30.shape[0]):\n",
    "    rm30.loc[i, 'pix'] = obj_in_pix(nside=2, \n",
    "                                           ra=rm30.iloc[i]['RAdeg'], dec=rm30.iloc[i]['DEdeg'])\n",
    "rm30.head()"
   ]
  },
  {
   "cell_type": "code",
   "execution_count": 61,
   "metadata": {
    "ExecuteTime": {
     "end_time": "2020-04-06T19:08:32.189624Z",
     "start_time": "2020-04-06T19:08:32.185647Z"
    }
   },
   "outputs": [
    {
     "data": {
      "text/plain": [
       "306"
      ]
     },
     "execution_count": 61,
     "metadata": {},
     "output_type": "execute_result"
    }
   ],
   "source": [
    "np.count_nonzero(rm30['pix'] == 6)"
   ]
  },
  {
   "cell_type": "code",
   "execution_count": 73,
   "metadata": {
    "ExecuteTime": {
     "end_time": "2020-04-06T19:15:34.459574Z",
     "start_time": "2020-04-06T19:15:34.451247Z"
    }
   },
   "outputs": [],
   "source": [
    "no_rm30 = planck_z[planck_z['pix'] == 6]"
   ]
  },
  {
   "cell_type": "code",
   "execution_count": 74,
   "metadata": {
    "ExecuteTime": {
     "end_time": "2020-04-06T19:15:42.390922Z",
     "start_time": "2020-04-06T19:15:42.378362Z"
    }
   },
   "outputs": [
    {
     "data": {
      "text/plain": [
       "(40, 11)"
      ]
     },
     "execution_count": 74,
     "metadata": {},
     "output_type": "execute_result"
    }
   ],
   "source": [
    "no_rm30.shape"
   ]
  },
  {
   "cell_type": "code",
   "execution_count": 65,
   "metadata": {
    "ExecuteTime": {
     "end_time": "2020-04-06T19:10:26.394469Z",
     "start_time": "2020-04-06T19:10:26.377206Z"
    }
   },
   "outputs": [
    {
     "data": {
      "text/html": [
       "<div>\n",
       "<style scoped>\n",
       "    .dataframe tbody tr th:only-of-type {\n",
       "        vertical-align: middle;\n",
       "    }\n",
       "\n",
       "    .dataframe tbody tr th {\n",
       "        vertical-align: top;\n",
       "    }\n",
       "\n",
       "    .dataframe thead th {\n",
       "        text-align: right;\n",
       "    }\n",
       "</style>\n",
       "<table border=\"1\" class=\"dataframe\">\n",
       "  <thead>\n",
       "    <tr style=\"text-align: right;\">\n",
       "      <th></th>\n",
       "      <th>Unnamed: 0</th>\n",
       "      <th>Name</th>\n",
       "      <th>RAdeg</th>\n",
       "      <th>DEdeg</th>\n",
       "      <th>z</th>\n",
       "      <th>MSZ</th>\n",
       "      <th>MCXC</th>\n",
       "      <th>RedMAPPer</th>\n",
       "      <th>pix</th>\n",
       "      <th>theta</th>\n",
       "      <th>phi</th>\n",
       "    </tr>\n",
       "  </thead>\n",
       "  <tbody>\n",
       "    <tr>\n",
       "      <th>295</th>\n",
       "      <td>434</td>\n",
       "      <td>PSZ2 G094.56+51.03</td>\n",
       "      <td>227.061350</td>\n",
       "      <td>57.891783</td>\n",
       "      <td>0.539200</td>\n",
       "      <td>5.867250</td>\n",
       "      <td></td>\n",
       "      <td>RMJ150822.0+575515.2</td>\n",
       "      <td>6</td>\n",
       "      <td>1.65053</td>\n",
       "      <td>0.890646</td>\n",
       "    </tr>\n",
       "    <tr>\n",
       "      <th>299</th>\n",
       "      <td>439</td>\n",
       "      <td>PSZ2 G095.29+44.13</td>\n",
       "      <td>238.134593</td>\n",
       "      <td>62.054477</td>\n",
       "      <td>0.330785</td>\n",
       "      <td>4.034956</td>\n",
       "      <td></td>\n",
       "      <td></td>\n",
       "      <td>6</td>\n",
       "      <td>1.66317</td>\n",
       "      <td>0.770246</td>\n",
       "    </tr>\n",
       "    <tr>\n",
       "      <th>303</th>\n",
       "      <td>445</td>\n",
       "      <td>PSZ2 G096.14+56.24</td>\n",
       "      <td>218.838751</td>\n",
       "      <td>55.141350</td>\n",
       "      <td>0.139773</td>\n",
       "      <td>2.771250</td>\n",
       "      <td></td>\n",
       "      <td>RMJ143528.5+550752.3</td>\n",
       "      <td>6</td>\n",
       "      <td>1.67812</td>\n",
       "      <td>0.981694</td>\n",
       "    </tr>\n",
       "    <tr>\n",
       "      <th>306</th>\n",
       "      <td>449</td>\n",
       "      <td>PSZ2 G096.83+52.49</td>\n",
       "      <td>223.248775</td>\n",
       "      <td>58.036577</td>\n",
       "      <td>0.317900</td>\n",
       "      <td>4.924279</td>\n",
       "      <td>J1452.9+5802</td>\n",
       "      <td></td>\n",
       "      <td>6</td>\n",
       "      <td>1.69017</td>\n",
       "      <td>0.916144</td>\n",
       "    </tr>\n",
       "    <tr>\n",
       "      <th>309</th>\n",
       "      <td>452</td>\n",
       "      <td>PSZ2 G097.15+39.20</td>\n",
       "      <td>246.903435</td>\n",
       "      <td>65.396317</td>\n",
       "      <td>0.205800</td>\n",
       "      <td>2.944873</td>\n",
       "      <td></td>\n",
       "      <td></td>\n",
       "      <td>6</td>\n",
       "      <td>1.69559</td>\n",
       "      <td>0.684326</td>\n",
       "    </tr>\n",
       "  </tbody>\n",
       "</table>\n",
       "</div>"
      ],
      "text/plain": [
       "     Unnamed: 0                Name       RAdeg      DEdeg         z  \\\n",
       "295         434  PSZ2 G094.56+51.03  227.061350  57.891783  0.539200   \n",
       "299         439  PSZ2 G095.29+44.13  238.134593  62.054477  0.330785   \n",
       "303         445  PSZ2 G096.14+56.24  218.838751  55.141350  0.139773   \n",
       "306         449  PSZ2 G096.83+52.49  223.248775  58.036577  0.317900   \n",
       "309         452  PSZ2 G097.15+39.20  246.903435  65.396317  0.205800   \n",
       "\n",
       "          MSZ          MCXC             RedMAPPer  pix    theta       phi  \n",
       "295  5.867250                RMJ150822.0+575515.2    6  1.65053  0.890646  \n",
       "299  4.034956                                        6  1.66317  0.770246  \n",
       "303  2.771250                RMJ143528.5+550752.3    6  1.67812  0.981694  \n",
       "306  4.924279  J1452.9+5802                          6  1.69017  0.916144  \n",
       "309  2.944873                                        6  1.69559  0.684326  "
      ]
     },
     "execution_count": 65,
     "metadata": {},
     "output_type": "execute_result"
    }
   ],
   "source": [
    "no_rm30.head()"
   ]
  },
  {
   "cell_type": "code",
   "execution_count": 66,
   "metadata": {
    "ExecuteTime": {
     "end_time": "2020-04-06T19:11:00.420791Z",
     "start_time": "2020-04-06T19:11:00.415451Z"
    }
   },
   "outputs": [
    {
     "data": {
      "text/plain": [
       "['Unnamed: 0',\n",
       " 'Name',\n",
       " 'RAdeg',\n",
       " 'DEdeg',\n",
       " 'z',\n",
       " 'MSZ',\n",
       " 'MCXC',\n",
       " 'RedMAPPer',\n",
       " 'pix',\n",
       " 'theta',\n",
       " 'phi']"
      ]
     },
     "execution_count": 66,
     "metadata": {},
     "output_type": "execute_result"
    }
   ],
   "source": [
    "list(no_rm30)"
   ]
  },
  {
   "cell_type": "code",
   "execution_count": 75,
   "metadata": {
    "ExecuteTime": {
     "end_time": "2020-04-06T19:15:52.994073Z",
     "start_time": "2020-04-06T19:15:52.721885Z"
    }
   },
   "outputs": [
    {
     "name": "stderr",
     "output_type": "stream",
     "text": [
      "/home/rt2122/anaconda3/lib/python3.7/site-packages/pandas/core/frame.py:3940: SettingWithCopyWarning: \n",
      "A value is trying to be set on a copy of a slice from a DataFrame\n",
      "\n",
      "See the caveats in the documentation: http://pandas.pydata.org/pandas-docs/stable/indexing.html#indexing-view-versus-copy\n",
      "  errors=errors)\n"
     ]
    }
   ],
   "source": [
    "no_rm30.drop(['Unnamed: 0', 'Name', 'z', 'MSZ', 'MCXC', 'pix', 'theta', 'phi'], axis='columns', inplace=True)"
   ]
  },
  {
   "cell_type": "code",
   "execution_count": 76,
   "metadata": {
    "ExecuteTime": {
     "end_time": "2020-04-06T19:15:53.540751Z",
     "start_time": "2020-04-06T19:15:53.124226Z"
    }
   },
   "outputs": [],
   "source": [
    "no_rm30.drop(['RedMAPPer'], axis='columns', inplace=True)"
   ]
  },
  {
   "cell_type": "code",
   "execution_count": 77,
   "metadata": {
    "ExecuteTime": {
     "end_time": "2020-04-06T19:15:54.495142Z",
     "start_time": "2020-04-06T19:15:54.482784Z"
    }
   },
   "outputs": [
    {
     "data": {
      "text/html": [
       "<div>\n",
       "<style scoped>\n",
       "    .dataframe tbody tr th:only-of-type {\n",
       "        vertical-align: middle;\n",
       "    }\n",
       "\n",
       "    .dataframe tbody tr th {\n",
       "        vertical-align: top;\n",
       "    }\n",
       "\n",
       "    .dataframe thead th {\n",
       "        text-align: right;\n",
       "    }\n",
       "</style>\n",
       "<table border=\"1\" class=\"dataframe\">\n",
       "  <thead>\n",
       "    <tr style=\"text-align: right;\">\n",
       "      <th></th>\n",
       "      <th>RAdeg</th>\n",
       "      <th>DEdeg</th>\n",
       "    </tr>\n",
       "  </thead>\n",
       "  <tbody>\n",
       "    <tr>\n",
       "      <th>295</th>\n",
       "      <td>227.061350</td>\n",
       "      <td>57.891783</td>\n",
       "    </tr>\n",
       "    <tr>\n",
       "      <th>299</th>\n",
       "      <td>238.134593</td>\n",
       "      <td>62.054477</td>\n",
       "    </tr>\n",
       "    <tr>\n",
       "      <th>303</th>\n",
       "      <td>218.838751</td>\n",
       "      <td>55.141350</td>\n",
       "    </tr>\n",
       "    <tr>\n",
       "      <th>306</th>\n",
       "      <td>223.248775</td>\n",
       "      <td>58.036577</td>\n",
       "    </tr>\n",
       "    <tr>\n",
       "      <th>309</th>\n",
       "      <td>246.903435</td>\n",
       "      <td>65.396317</td>\n",
       "    </tr>\n",
       "  </tbody>\n",
       "</table>\n",
       "</div>"
      ],
      "text/plain": [
       "          RAdeg      DEdeg\n",
       "295  227.061350  57.891783\n",
       "299  238.134593  62.054477\n",
       "303  218.838751  55.141350\n",
       "306  223.248775  58.036577\n",
       "309  246.903435  65.396317"
      ]
     },
     "execution_count": 77,
     "metadata": {},
     "output_type": "execute_result"
    }
   ],
   "source": [
    "no_rm30.head()"
   ]
  },
  {
   "cell_type": "code",
   "execution_count": 78,
   "metadata": {
    "ExecuteTime": {
     "end_time": "2020-04-06T19:16:04.261578Z",
     "start_time": "2020-04-06T19:16:04.255714Z"
    }
   },
   "outputs": [
    {
     "data": {
      "text/plain": [
       "(40, 2)"
      ]
     },
     "execution_count": 78,
     "metadata": {},
     "output_type": "execute_result"
    }
   ],
   "source": [
    "no_rm30.shape"
   ]
  },
  {
   "cell_type": "code",
   "execution_count": 79,
   "metadata": {
    "ExecuteTime": {
     "end_time": "2020-04-06T19:16:18.881897Z",
     "start_time": "2020-04-06T19:16:18.878998Z"
    }
   },
   "outputs": [],
   "source": [
    "planck6 = no_rm30"
   ]
  },
  {
   "cell_type": "code",
   "execution_count": 81,
   "metadata": {
    "ExecuteTime": {
     "end_time": "2020-04-06T19:18:04.767118Z",
     "start_time": "2020-04-06T19:18:04.502204Z"
    }
   },
   "outputs": [
    {
     "name": "stderr",
     "output_type": "stream",
     "text": [
      "/home/rt2122/anaconda3/lib/python3.7/site-packages/pandas/core/frame.py:3940: SettingWithCopyWarning: \n",
      "A value is trying to be set on a copy of a slice from a DataFrame\n",
      "\n",
      "See the caveats in the documentation: http://pandas.pydata.org/pandas-docs/stable/indexing.html#indexing-view-versus-copy\n",
      "  errors=errors)\n"
     ]
    }
   ],
   "source": [
    "planck_no_z6 = planck_no_z[planck_no_z['pix'] == 6]\n",
    "planck_no_z6.drop(['Unnamed: 0', 'Name', 'z', 'MSZ', 'MCXC', 'pix','RedMAPPer'], axis='columns', inplace=True)"
   ]
  },
  {
   "cell_type": "code",
   "execution_count": 82,
   "metadata": {
    "ExecuteTime": {
     "end_time": "2020-04-06T19:18:10.891917Z",
     "start_time": "2020-04-06T19:18:10.883925Z"
    }
   },
   "outputs": [
    {
     "data": {
      "text/plain": [
       "(18, 2)"
      ]
     },
     "execution_count": 82,
     "metadata": {},
     "output_type": "execute_result"
    }
   ],
   "source": [
    "planck_no_z6.shape"
   ]
  },
  {
   "cell_type": "code",
   "execution_count": 83,
   "metadata": {
    "ExecuteTime": {
     "end_time": "2020-04-06T19:18:47.050274Z",
     "start_time": "2020-04-06T19:18:47.042656Z"
    }
   },
   "outputs": [
    {
     "data": {
      "text/plain": [
       "['Unnamed: 0', 'MCXC', 'OName', 'AName', 'RAdeg', 'DEdeg', 'z', 'M500', 'pix']"
      ]
     },
     "execution_count": 83,
     "metadata": {},
     "output_type": "execute_result"
    }
   ],
   "source": [
    "mcxc6 = mcxcwp[mcxcwp['pix'] == 6]\n",
    "list(mcxc6)"
   ]
  },
  {
   "cell_type": "code",
   "execution_count": 84,
   "metadata": {
    "ExecuteTime": {
     "end_time": "2020-04-06T19:19:45.963238Z",
     "start_time": "2020-04-06T19:19:45.695527Z"
    }
   },
   "outputs": [
    {
     "name": "stderr",
     "output_type": "stream",
     "text": [
      "/home/rt2122/anaconda3/lib/python3.7/site-packages/pandas/core/frame.py:3940: SettingWithCopyWarning: \n",
      "A value is trying to be set on a copy of a slice from a DataFrame\n",
      "\n",
      "See the caveats in the documentation: http://pandas.pydata.org/pandas-docs/stable/indexing.html#indexing-view-versus-copy\n",
      "  errors=errors)\n"
     ]
    }
   ],
   "source": [
    "mcxc6.drop(['Unnamed: 0', 'MCXC', 'OName', \n",
    "            'AName', 'z', 'M500', 'pix'], inplace=True, axis='columns')"
   ]
  },
  {
   "cell_type": "code",
   "execution_count": 85,
   "metadata": {
    "ExecuteTime": {
     "end_time": "2020-04-06T19:19:51.107133Z",
     "start_time": "2020-04-06T19:19:51.100170Z"
    }
   },
   "outputs": [
    {
     "data": {
      "text/html": [
       "<div>\n",
       "<style scoped>\n",
       "    .dataframe tbody tr th:only-of-type {\n",
       "        vertical-align: middle;\n",
       "    }\n",
       "\n",
       "    .dataframe tbody tr th {\n",
       "        vertical-align: top;\n",
       "    }\n",
       "\n",
       "    .dataframe thead th {\n",
       "        text-align: right;\n",
       "    }\n",
       "</style>\n",
       "<table border=\"1\" class=\"dataframe\">\n",
       "  <thead>\n",
       "    <tr style=\"text-align: right;\">\n",
       "      <th></th>\n",
       "      <th>RAdeg</th>\n",
       "      <th>DEdeg</th>\n",
       "    </tr>\n",
       "  </thead>\n",
       "  <tbody>\n",
       "    <tr>\n",
       "      <th>528</th>\n",
       "      <td>172.005</td>\n",
       "      <td>75.490</td>\n",
       "    </tr>\n",
       "    <tr>\n",
       "      <th>535</th>\n",
       "      <td>173.488</td>\n",
       "      <td>75.116</td>\n",
       "    </tr>\n",
       "    <tr>\n",
       "      <th>555</th>\n",
       "      <td>177.918</td>\n",
       "      <td>81.077</td>\n",
       "    </tr>\n",
       "    <tr>\n",
       "      <th>591</th>\n",
       "      <td>184.311</td>\n",
       "      <td>69.670</td>\n",
       "    </tr>\n",
       "    <tr>\n",
       "      <th>597</th>\n",
       "      <td>185.072</td>\n",
       "      <td>75.370</td>\n",
       "    </tr>\n",
       "  </tbody>\n",
       "</table>\n",
       "</div>"
      ],
      "text/plain": [
       "       RAdeg   DEdeg\n",
       "528  172.005  75.490\n",
       "535  173.488  75.116\n",
       "555  177.918  81.077\n",
       "591  184.311  69.670\n",
       "597  185.072  75.370"
      ]
     },
     "execution_count": 85,
     "metadata": {},
     "output_type": "execute_result"
    }
   ],
   "source": [
    "mcxc6.head()"
   ]
  },
  {
   "cell_type": "code",
   "execution_count": 86,
   "metadata": {
    "ExecuteTime": {
     "end_time": "2020-04-06T19:21:16.469365Z",
     "start_time": "2020-04-06T19:21:16.463587Z"
    }
   },
   "outputs": [],
   "source": [
    "pm6 = pd.concat([planck6, planck_no_z6])"
   ]
  },
  {
   "cell_type": "code",
   "execution_count": 87,
   "metadata": {
    "ExecuteTime": {
     "end_time": "2020-04-06T19:21:23.775513Z",
     "start_time": "2020-04-06T19:21:23.765427Z"
    }
   },
   "outputs": [
    {
     "data": {
      "text/html": [
       "<div>\n",
       "<style scoped>\n",
       "    .dataframe tbody tr th:only-of-type {\n",
       "        vertical-align: middle;\n",
       "    }\n",
       "\n",
       "    .dataframe tbody tr th {\n",
       "        vertical-align: top;\n",
       "    }\n",
       "\n",
       "    .dataframe thead th {\n",
       "        text-align: right;\n",
       "    }\n",
       "</style>\n",
       "<table border=\"1\" class=\"dataframe\">\n",
       "  <thead>\n",
       "    <tr style=\"text-align: right;\">\n",
       "      <th></th>\n",
       "      <th>RAdeg</th>\n",
       "      <th>DEdeg</th>\n",
       "    </tr>\n",
       "  </thead>\n",
       "  <tbody>\n",
       "    <tr>\n",
       "      <th>295</th>\n",
       "      <td>227.061350</td>\n",
       "      <td>57.891783</td>\n",
       "    </tr>\n",
       "    <tr>\n",
       "      <th>299</th>\n",
       "      <td>238.134593</td>\n",
       "      <td>62.054477</td>\n",
       "    </tr>\n",
       "    <tr>\n",
       "      <th>303</th>\n",
       "      <td>218.838751</td>\n",
       "      <td>55.141350</td>\n",
       "    </tr>\n",
       "    <tr>\n",
       "      <th>306</th>\n",
       "      <td>223.248775</td>\n",
       "      <td>58.036577</td>\n",
       "    </tr>\n",
       "    <tr>\n",
       "      <th>309</th>\n",
       "      <td>246.903435</td>\n",
       "      <td>65.396317</td>\n",
       "    </tr>\n",
       "  </tbody>\n",
       "</table>\n",
       "</div>"
      ],
      "text/plain": [
       "          RAdeg      DEdeg\n",
       "295  227.061350  57.891783\n",
       "299  238.134593  62.054477\n",
       "303  218.838751  55.141350\n",
       "306  223.248775  58.036577\n",
       "309  246.903435  65.396317"
      ]
     },
     "execution_count": 87,
     "metadata": {},
     "output_type": "execute_result"
    }
   ],
   "source": [
    "pm6.head()"
   ]
  },
  {
   "cell_type": "code",
   "execution_count": 88,
   "metadata": {
    "ExecuteTime": {
     "end_time": "2020-04-06T19:21:30.644637Z",
     "start_time": "2020-04-06T19:21:30.638492Z"
    }
   },
   "outputs": [
    {
     "data": {
      "text/plain": [
       "(58, 2)"
      ]
     },
     "execution_count": 88,
     "metadata": {},
     "output_type": "execute_result"
    }
   ],
   "source": [
    "pm6.shape"
   ]
  },
  {
   "cell_type": "code",
   "execution_count": 89,
   "metadata": {
    "ExecuteTime": {
     "end_time": "2020-04-06T19:21:55.581082Z",
     "start_time": "2020-04-06T19:21:55.573142Z"
    }
   },
   "outputs": [],
   "source": [
    "pm6 = pd.concat([pm6, mcxc6])"
   ]
  },
  {
   "cell_type": "code",
   "execution_count": 90,
   "metadata": {
    "ExecuteTime": {
     "end_time": "2020-04-06T19:22:08.464699Z",
     "start_time": "2020-04-06T19:22:08.461598Z"
    }
   },
   "outputs": [
    {
     "data": {
      "text/plain": [
       "(108, 2)"
      ]
     },
     "execution_count": 90,
     "metadata": {},
     "output_type": "execute_result"
    }
   ],
   "source": [
    "pm6.shape"
   ]
  },
  {
   "cell_type": "code",
   "execution_count": 91,
   "metadata": {
    "ExecuteTime": {
     "end_time": "2020-04-06T19:22:45.201696Z",
     "start_time": "2020-04-06T19:22:45.193804Z"
    }
   },
   "outputs": [],
   "source": [
    "pm6.to_csv('tile6.csv')"
   ]
  },
  {
   "cell_type": "code",
   "execution_count": 38,
   "metadata": {
    "ExecuteTime": {
     "end_time": "2020-04-07T16:28:17.474437Z",
     "start_time": "2020-04-07T16:28:17.456974Z"
    }
   },
   "outputs": [],
   "source": [
    "pm6 = pd.concat([planck_z, planck_no_z, mcxcwp])"
   ]
  },
  {
   "cell_type": "code",
   "execution_count": 39,
   "metadata": {
    "ExecuteTime": {
     "end_time": "2020-04-07T16:28:23.452445Z",
     "start_time": "2020-04-07T16:28:23.419610Z"
    }
   },
   "outputs": [
    {
     "data": {
      "text/html": [
       "<div>\n",
       "<style scoped>\n",
       "    .dataframe tbody tr th:only-of-type {\n",
       "        vertical-align: middle;\n",
       "    }\n",
       "\n",
       "    .dataframe tbody tr th {\n",
       "        vertical-align: top;\n",
       "    }\n",
       "\n",
       "    .dataframe thead th {\n",
       "        text-align: right;\n",
       "    }\n",
       "</style>\n",
       "<table border=\"1\" class=\"dataframe\">\n",
       "  <thead>\n",
       "    <tr style=\"text-align: right;\">\n",
       "      <th></th>\n",
       "      <th>Name</th>\n",
       "      <th>RAdeg</th>\n",
       "      <th>DEdeg</th>\n",
       "      <th>z</th>\n",
       "      <th>M500</th>\n",
       "      <th>pix</th>\n",
       "      <th>Cat</th>\n",
       "    </tr>\n",
       "  </thead>\n",
       "  <tbody>\n",
       "    <tr>\n",
       "      <th>0</th>\n",
       "      <td>PSZ2 G000.04+45.13</td>\n",
       "      <td>229.190512</td>\n",
       "      <td>-1.017222</td>\n",
       "      <td>0.1198</td>\n",
       "      <td>3.962411</td>\n",
       "      <td>2</td>\n",
       "      <td>planck_z</td>\n",
       "    </tr>\n",
       "    <tr>\n",
       "      <th>1</th>\n",
       "      <td>PSZ2 G000.13+78.04</td>\n",
       "      <td>203.558683</td>\n",
       "      <td>20.255990</td>\n",
       "      <td>0.1710</td>\n",
       "      <td>5.122391</td>\n",
       "      <td>3</td>\n",
       "      <td>planck_z</td>\n",
       "    </tr>\n",
       "    <tr>\n",
       "      <th>2</th>\n",
       "      <td>PSZ2 G000.40-41.86</td>\n",
       "      <td>316.084485</td>\n",
       "      <td>-41.354169</td>\n",
       "      <td>0.1651</td>\n",
       "      <td>5.297053</td>\n",
       "      <td>34</td>\n",
       "      <td>planck_z</td>\n",
       "    </tr>\n",
       "    <tr>\n",
       "      <th>3</th>\n",
       "      <td>PSZ2 G000.77-35.69</td>\n",
       "      <td>307.972844</td>\n",
       "      <td>-40.598725</td>\n",
       "      <td>0.3416</td>\n",
       "      <td>6.333562</td>\n",
       "      <td>16</td>\n",
       "      <td>planck_z</td>\n",
       "    </tr>\n",
       "    <tr>\n",
       "      <th>4</th>\n",
       "      <td>PSZ2 G002.08-68.28</td>\n",
       "      <td>349.632431</td>\n",
       "      <td>-36.332559</td>\n",
       "      <td>0.1400</td>\n",
       "      <td>2.835297</td>\n",
       "      <td>32</td>\n",
       "      <td>planck_z</td>\n",
       "    </tr>\n",
       "  </tbody>\n",
       "</table>\n",
       "</div>"
      ],
      "text/plain": [
       "                 Name       RAdeg      DEdeg       z      M500  pix       Cat\n",
       "0  PSZ2 G000.04+45.13  229.190512  -1.017222  0.1198  3.962411    2  planck_z\n",
       "1  PSZ2 G000.13+78.04  203.558683  20.255990  0.1710  5.122391    3  planck_z\n",
       "2  PSZ2 G000.40-41.86  316.084485 -41.354169  0.1651  5.297053   34  planck_z\n",
       "3  PSZ2 G000.77-35.69  307.972844 -40.598725  0.3416  6.333562   16  planck_z\n",
       "4  PSZ2 G002.08-68.28  349.632431 -36.332559  0.1400  2.835297   32  planck_z"
      ]
     },
     "execution_count": 39,
     "metadata": {},
     "output_type": "execute_result"
    }
   ],
   "source": [
    "pm6.head()"
   ]
  },
  {
   "cell_type": "code",
   "execution_count": 40,
   "metadata": {
    "ExecuteTime": {
     "end_time": "2020-04-07T16:28:40.152334Z",
     "start_time": "2020-04-07T16:28:40.145486Z"
    }
   },
   "outputs": [
    {
     "data": {
      "text/plain": [
       "(2846, 7)"
      ]
     },
     "execution_count": 40,
     "metadata": {},
     "output_type": "execute_result"
    }
   ],
   "source": [
    "pm6.shape"
   ]
  },
  {
   "cell_type": "code",
   "execution_count": 41,
   "metadata": {
    "ExecuteTime": {
     "end_time": "2020-04-07T16:29:02.013116Z",
     "start_time": "2020-04-07T16:29:01.936613Z"
    }
   },
   "outputs": [],
   "source": [
    "pm6.to_csv('./planck_mcxc_w_pix.csv')"
   ]
  },
  {
   "cell_type": "code",
   "execution_count": null,
   "metadata": {},
   "outputs": [],
   "source": []
  }
 ],
 "metadata": {
  "kernelspec": {
   "display_name": "Python 3",
   "language": "python",
   "name": "python3"
  },
  "language_info": {
   "codemirror_mode": {
    "name": "ipython",
    "version": 3
   },
   "file_extension": ".py",
   "mimetype": "text/x-python",
   "name": "python",
   "nbconvert_exporter": "python",
   "pygments_lexer": "ipython3",
   "version": "3.7.3"
  }
 },
 "nbformat": 4,
 "nbformat_minor": 2
}
