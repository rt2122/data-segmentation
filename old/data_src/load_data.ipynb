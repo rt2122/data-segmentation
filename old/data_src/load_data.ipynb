{
 "cells": [
  {
   "cell_type": "code",
   "execution_count": 11,
   "metadata": {
    "ExecuteTime": {
     "end_time": "2020-04-01T11:49:11.918816Z",
     "start_time": "2020-04-01T11:49:11.734024Z"
    }
   },
   "outputs": [
    {
     "name": "stdout",
     "output_type": "stream",
     "text": [
      "['Index', 'Name', 'GLON', 'GLAT', 'RAdeg', 'DEdeg', 'e_pos', 'SNR', 'Pipeline', 'PipeDet', 'PCCS2', 'PSZ', 'f_IR', 'q_neural', 'Y5R500', 'e_Y5R500', 'Val', 'zID', 'z', 'MSZ', 'E_MSZ', 'e_MSZ', 'MCXC', 'RedMAPPer', 'ACT', 'SPT', 'f_WISE', 'AMIevi', 'COSMO', 'Comment']\n",
      "Name \t PSZ2 G000.04+45.13 \t PSZ2 G359.67-07.23\n",
      "RAdeg \t 0.0902461 \t 359.7704048\n",
      "DEdeg \t -86.8106899 \t 88.4005322\n",
      "z \t -1.0 \t 0.972\n",
      "MSZ \t 0.0 \t 16.116468\n",
      "MCXC \t              \t J2359.3-6042\n",
      "RedMAPPer \t                      \t RMJ235542.6+112035.6\n",
      "                 Name       RAdeg      DEdeg       z       MSZ          MCXC  \\\n",
      "0  PSZ2 G000.04+45.13  229.190512  -1.017222  0.1198  3.962411  J1516.5-0056   \n",
      "1  PSZ2 G000.13+78.04  203.558683  20.255990  0.1710  5.122391  J1334.1+2013   \n",
      "2  PSZ2 G000.40-41.86  316.084485 -41.354169  0.1651  5.297053  J2104.3-4120   \n",
      "3  PSZ2 G000.77-35.69  307.972844 -40.598725  0.3416  6.333562  J2031.8-4037   \n",
      "4  PSZ2 G002.04-22.15  291.359610 -36.517944 -1.0000  0.000000                 \n",
      "\n",
      "              RedMAPPer  \n",
      "0  RMJ151653.9-010506.3  \n",
      "1  RMJ133408.7+201453.0  \n",
      "2                        \n",
      "3                        \n",
      "4                        \n"
     ]
    },
    {
     "name": "stderr",
     "output_type": "stream",
     "text": [
      "WARNING: VerifyWarning: Verification reported errors: [astropy.io.fits.verify]\n",
      "WARNING: VerifyWarning: HDU 2: [astropy.io.fits.verify]\n",
      "WARNING: VerifyWarning:     Card 66: [astropy.io.fits.verify]\n",
      "WARNING: VerifyWarning:         Card 'TAMAX9' is not FITS standard (invalid value string: '-nan / Allowed maximal value').  Fixed 'TAMAX9' card to meet the FITS standard. [astropy.io.fits.verify]\n",
      "WARNING: VerifyWarning:     Card 73: [astropy.io.fits.verify]\n",
      "WARNING: VerifyWarning:         Card 'TAMIN10' is not FITS standard (invalid value string: '-nan / Allowed minimal value').  Fixed 'TAMIN10' card to meet the FITS standard. [astropy.io.fits.verify]\n",
      "WARNING: VerifyWarning:     Card 80: [astropy.io.fits.verify]\n",
      "WARNING: VerifyWarning:         Card 'TAMAX11' is not FITS standard (invalid value string: '-nan / Allowed maximal value').  Fixed 'TAMAX11' card to meet the FITS standard. [astropy.io.fits.verify]\n",
      "WARNING: VerifyWarning:     Card 87: [astropy.io.fits.verify]\n",
      "WARNING: VerifyWarning:         Card 'TAMIN12' is not FITS standard (invalid value string: '-nan / Allowed minimal value').  Fixed 'TAMIN12' card to meet the FITS standard. [astropy.io.fits.verify]\n",
      "WARNING: VerifyWarning: HDU 3: [astropy.io.fits.verify]\n",
      "WARNING: VerifyWarning: HDU 4: [astropy.io.fits.verify]\n",
      "WARNING: VerifyWarning: Note: astropy.io.fits uses zero-based indexing.\n",
      " [astropy.io.fits.verify]\n"
     ]
    }
   ],
   "source": [
    "from astropy.io import fits\n",
    "from astropy.table import Table\n",
    "import numpy as np\n",
    "import matplotlib.pyplot as plt\n",
    "import pandas as pd\n",
    "\n",
    "planck_file = '/home/rt2122/Desktop/data-segmentation/data_src/Planck_SZ2.fits'\n",
    "planck = None\n",
    "with fits.open(planck_file) as table:\n",
    "    table.verify('fix')\n",
    "    data = table[1].data\n",
    "    keys = data.names\n",
    "    print(keys)\n",
    "    saved_keys = ['Name', 'RAdeg', 'DEdeg', 'z', 'MSZ', 'MCXC', 'RedMAPPer']\n",
    "    planck = pd.DataFrame([])\n",
    "    for key in saved_keys:\n",
    "        planck[key] = data[key]\n",
    "        print(key, '\\t', planck[key].min(), '\\t', planck[key].max())\n",
    "    print(planck.head())"
   ]
  },
  {
   "cell_type": "code",
   "execution_count": 2,
   "metadata": {
    "ExecuteTime": {
     "end_time": "2020-04-01T09:57:37.318085Z",
     "start_time": "2020-04-01T09:57:37.312742Z"
    }
   },
   "outputs": [
    {
     "name": "stdout",
     "output_type": "stream",
     "text": [
      "(1653, 7)\n"
     ]
    }
   ],
   "source": [
    "print(planck.shape)"
   ]
  },
  {
   "cell_type": "code",
   "execution_count": 3,
   "metadata": {
    "ExecuteTime": {
     "end_time": "2020-03-31T20:12:42.992295Z",
     "start_time": "2020-03-31T20:12:42.597057Z"
    }
   },
   "outputs": [
    {
     "name": "stdout",
     "output_type": "stream",
     "text": [
      "(1094, 7)\n",
      "(559, 7)\n"
     ]
    }
   ],
   "source": [
    "planck_z = planck[planck['z'] != -1]\n",
    "print(planck_z.shape)\n",
    "planck_no_z = planck[planck['z'] == -1]\n",
    "print(planck_no_z.shape)\n",
    "#planck_z.to_csv('./planck_z.csv')\n",
    "#planck_no_z.to_csv('./planck_no_z.csv')"
   ]
  },
  {
   "cell_type": "code",
   "execution_count": 12,
   "metadata": {
    "ExecuteTime": {
     "end_time": "2020-04-01T11:50:13.853127Z",
     "start_time": "2020-04-01T11:50:13.773847Z"
    }
   },
   "outputs": [
    {
     "name": "stdout",
     "output_type": "stream",
     "text": [
      "MCXC \t J0000.1+0816 \t J2359.9-3928\n",
      "OName \t A104               \t ZwCl9077          \n",
      "AName \t                                                        \t ZwCl9077                                              \n",
      "RAdeg \t 0.03 \t 359.982\n",
      "DEdeg \t -85.178 \t 85.885\n",
      "z \t 0.0031 \t 1.261\n",
      "M500 \t 0.0096 \t 22.1\n",
      "           MCXC               OName  \\\n",
      "0  J0000.1+0816  RXC J0000.1+0816     \n",
      "1  J0000.4-0237  RXC J0000.4-0237     \n",
      "2  J0001.6-1540  RXC J0001.6-1540     \n",
      "3  J0001.9+1204  RXC J0001.9+1204     \n",
      "4  J0003.1-0605  RXCJ0003.1-0605      \n",
      "\n",
      "                                               AName  RAdeg   DEdeg       z  \\\n",
      "0  UGC 12890                                     ...  0.030   8.274  0.0396   \n",
      "1                                                ...  0.103  -2.625  0.0379   \n",
      "2                                                ...  0.412 -15.681  0.1246   \n",
      "3  A2692                                         ...  0.488  12.073  0.2033   \n",
      "4  A2697                                         ...  0.799  -6.086  0.2320   \n",
      "\n",
      "     M500  \n",
      "0  0.7373  \n",
      "1  0.3297  \n",
      "2  1.6557  \n",
      "3  2.6927  \n",
      "4  5.2188  \n",
      "(1743, 7)\n"
     ]
    }
   ],
   "source": [
    "mcxc = None\n",
    "mcxc_file = '/home/rt2122/Desktop/data-segmentation/data_src/MCXC.fits'\n",
    "with fits.open(mcxc_file) as table:\n",
    "    table.verify('fix')\n",
    "\n",
    "    data = table[1].data\n",
    "    keys = data.names\n",
    "    saved_keys = ['MCXC', 'OName', 'AName', 'RAdeg', 'DEdeg', 'z', 'M500']\n",
    "    \n",
    "    mcxc = pd.DataFrame([])\n",
    "    for key in saved_keys:\n",
    "        mcxc[key] = data[key]\n",
    "        print(key, '\\t', mcxc[key].min(), '\\t', mcxc[key].max())\n",
    "    print(mcxc.head())\n",
    "    print(mcxc.shape)\n",
    "    #mcxc.to_csv('./MCXC.csv')"
   ]
  },
  {
   "cell_type": "code",
   "execution_count": 13,
   "metadata": {
    "ExecuteTime": {
     "end_time": "2020-04-01T11:50:20.151925Z",
     "start_time": "2020-04-01T11:50:20.144882Z"
    }
   },
   "outputs": [
    {
     "name": "stdout",
     "output_type": "stream",
     "text": [
      "1193\n"
     ]
    }
   ],
   "source": [
    "withoutp = (set(mcxc['MCXC'])).difference(set(planck['MCXC']))\n",
    "print(len(withoutp))"
   ]
  },
  {
   "cell_type": "code",
   "execution_count": 14,
   "metadata": {
    "ExecuteTime": {
     "end_time": "2020-04-01T11:50:20.968360Z",
     "start_time": "2020-04-01T11:50:20.958627Z"
    }
   },
   "outputs": [],
   "source": [
    "filter_wp = mcxc['MCXC'].isin(withoutp)\n",
    "mcxcwp = mcxc[filter_wp]"
   ]
  },
  {
   "cell_type": "code",
   "execution_count": 15,
   "metadata": {
    "ExecuteTime": {
     "end_time": "2020-04-01T11:50:22.290839Z",
     "start_time": "2020-04-01T11:50:22.286671Z"
    }
   },
   "outputs": [
    {
     "name": "stdout",
     "output_type": "stream",
     "text": [
      "(1193, 7)\n"
     ]
    }
   ],
   "source": [
    "print(mcxcwp.shape)"
   ]
  },
  {
   "cell_type": "code",
   "execution_count": 7,
   "metadata": {
    "ExecuteTime": {
     "end_time": "2020-04-01T09:58:20.684227Z",
     "start_time": "2020-04-01T09:58:20.669961Z"
    }
   },
   "outputs": [],
   "source": [
    "#mcxcwp.to_csv('mcxcwp.csv')"
   ]
  },
  {
   "cell_type": "code",
   "execution_count": 16,
   "metadata": {
    "ExecuteTime": {
     "end_time": "2020-04-01T11:50:32.342733Z",
     "start_time": "2020-04-01T11:50:32.256794Z"
    }
   },
   "outputs": [
    {
     "name": "stdout",
     "output_type": "stream",
     "text": [
      "['ID', 'NAME', 'RA', 'DEC', 'Z_LAMBDA', 'Z_LAMBDA_ERR', 'LAMBDA', 'LAMBDA_ERR', 'S', 'Z_SPEC', 'OBJID', 'IMAG', 'IMAG_ERR', 'MODEL_MAG_U', 'MODEL_MAGERR_U', 'MODEL_MAG_G', 'MODEL_MAGERR_G', 'MODEL_MAG_R', 'MODEL_MAGERR_R', 'MODEL_MAG_I', 'MODEL_MAGERR_I', 'MODEL_MAG_Z', 'MODEL_MAGERR_Z', 'ILUM', 'P_CEN', 'RA_CEN', 'DEC_CEN', 'ID_CEN', 'PZBINS', 'PZ']\n",
      "NAME \t RMJ000002.3+051717.8 \t RMJ235954.1-110813.5\n",
      "RA \t 0.009573451801770716 \t 359.9754387159011\n",
      "DEC \t -11.201826615164308 \t 68.72255623374552\n",
      "Z_LAMBDA \t 0.081065014 \t 0.5983342\n",
      "LAMBDA \t 19.850935 \t 299.45935\n",
      "S \t 0.9888237 \t 4.1384864\n",
      "Z_SPEC \t -1.0 \t 0.943789\n",
      "IMAG \t 0.0 \t 0.0\n",
      "MODEL_MAG_U \t 16.608995 \t 28.992018\n",
      "MODEL_MAG_G \t 14.62429 \t 28.713974\n",
      "MODEL_MAG_R \t 13.664849 \t 22.42834\n",
      "MODEL_MAG_I \t 13.256837 \t 20.959984\n",
      "MODEL_MAG_Z \t 12.901435 \t 25.334692\n",
      "ILUM \t 8.542767 \t 162.23651\n",
      "                   NAME          RA        DEC  Z_LAMBDA      LAMBDA  \\\n",
      "0  RMJ155820.0+271400.3  239.583329  27.233413  0.094831  169.837845   \n",
      "1  RMJ164019.8+464241.5  250.082548  46.711531  0.232764  199.539276   \n",
      "2  RMJ131129.5-012028.0  197.872957  -1.341116  0.182398  164.712173   \n",
      "3  RMJ090912.2+105824.9  137.300745  10.973595  0.170462  174.704178   \n",
      "4  RMJ133520.1+410004.1  203.833723  41.001146  0.231747  189.181152   \n",
      "\n",
      "          S    Z_SPEC  IMAG  MODEL_MAG_U  MODEL_MAG_G  MODEL_MAG_R  \\\n",
      "0  1.011366  0.090807   0.0    17.767290    15.414802    14.397099   \n",
      "1  0.995171 -1.000000   0.0    19.793066    17.980946    16.546164   \n",
      "2  1.006547 -1.000000   0.0    20.430338    16.889420    15.686827   \n",
      "3  1.014544 -1.000000   0.0    26.343122    18.158167    17.184233   \n",
      "4  1.010038  0.228309   0.0    19.995804    17.901672    16.366825   \n",
      "\n",
      "   MODEL_MAG_I  MODEL_MAG_Z        ILUM  \n",
      "0    13.978240    13.619685  115.149506  \n",
      "1    16.049070    15.814708  132.715820  \n",
      "2    15.248981    15.027758  118.676895  \n",
      "3    16.532034    16.288134  112.058441  \n",
      "4    15.850655    15.507919  128.978867  \n",
      "(26111, 14)\n"
     ]
    }
   ],
   "source": [
    "redmapper = None\n",
    "redmapper_file = '/home/rt2122/Desktop/data-segmentation/data_src/redmapper_dr8_public_v6.3_catalog.fits'\n",
    "with fits.open(redmapper_file) as table:\n",
    "    table.verify('fix')\n",
    "\n",
    "    data = table[1].data\n",
    "    keys = data.names\n",
    "    print(keys)\n",
    "    saved_keys = ['NAME', 'RA', 'DEC', 'Z_LAMBDA', 'LAMBDA','S', 'Z_SPEC', \n",
    "                  'IMAG', 'MODEL_MAG_U', 'MODEL_MAG_G', 'MODEL_MAG_R', 'MODEL_MAG_I', \n",
    "                  'MODEL_MAG_Z', 'ILUM']\n",
    "    \n",
    "    redmapper = pd.DataFrame([])\n",
    "    for key in saved_keys:\n",
    "        redmapper[key] = data[key]\n",
    "        print(key, '\\t', redmapper[key].min(), '\\t', redmapper[key].max())\n",
    "    print(redmapper.head())\n",
    "    print(redmapper.shape)\n",
    "    "
   ]
  },
  {
   "cell_type": "code",
   "execution_count": 17,
   "metadata": {
    "ExecuteTime": {
     "end_time": "2020-04-01T11:50:37.404700Z",
     "start_time": "2020-04-01T11:50:37.393750Z"
    }
   },
   "outputs": [
    {
     "data": {
      "text/plain": [
       "(15673, 14)"
      ]
     },
     "execution_count": 17,
     "metadata": {},
     "output_type": "execute_result"
    }
   ],
   "source": [
    "redmapper = redmapper[redmapper['LAMBDA'] > 30]\n",
    "redmapper.shape"
   ]
  },
  {
   "cell_type": "code",
   "execution_count": 10,
   "metadata": {
    "ExecuteTime": {
     "end_time": "2020-03-31T20:13:53.780959Z",
     "start_time": "2020-03-31T20:13:53.770846Z"
    }
   },
   "outputs": [],
   "source": [
    "redmapper_no_p = set(redmapper['NAME']).difference(set(planck['RedMAPPer']))"
   ]
  },
  {
   "cell_type": "code",
   "execution_count": 11,
   "metadata": {
    "ExecuteTime": {
     "end_time": "2020-03-31T20:13:54.459450Z",
     "start_time": "2020-03-31T20:13:54.435636Z"
    }
   },
   "outputs": [
    {
     "data": {
      "text/plain": [
       "(15375, 14)"
      ]
     },
     "execution_count": 11,
     "metadata": {},
     "output_type": "execute_result"
    }
   ],
   "source": [
    "filter_wp = redmapper['NAME'].isin(redmapper_no_p)\n",
    "redmapper = redmapper[filter_wp]\n",
    "redmapper.shape"
   ]
  },
  {
   "cell_type": "code",
   "execution_count": 12,
   "metadata": {
    "ExecuteTime": {
     "end_time": "2020-03-31T20:13:58.804679Z",
     "start_time": "2020-03-31T20:13:58.789493Z"
    }
   },
   "outputs": [
    {
     "name": "stdout",
     "output_type": "stream",
     "text": [
      "12\n",
      "12\n",
      "18\n",
      "18\n",
      "54\n",
      "54\n"
     ]
    }
   ],
   "source": [
    "print(min([len(x) for x in mcxc['MCXC']]))\n",
    "print(max([len(x) for x in mcxc['MCXC']]))\n",
    "print(min([len(x) for x in mcxc['OName']]))\n",
    "print(max([len(x) for x in mcxc['OName']]))\n",
    "print(min([len(x) for x in mcxc['AName']]))\n",
    "print(max([len(x) for x in mcxc['AName']]))"
   ]
  },
  {
   "cell_type": "code",
   "execution_count": 13,
   "metadata": {
    "ExecuteTime": {
     "end_time": "2020-03-31T20:13:59.772061Z",
     "start_time": "2020-03-31T20:13:59.755783Z"
    }
   },
   "outputs": [
    {
     "name": "stdout",
     "output_type": "stream",
     "text": [
      "20\n",
      "20\n"
     ]
    }
   ],
   "source": [
    "print(min([len(x) for x in redmapper['NAME']]))\n",
    "print(max([len(x) for x in redmapper['NAME']]))"
   ]
  },
  {
   "cell_type": "code",
   "execution_count": 23,
   "metadata": {
    "ExecuteTime": {
     "end_time": "2020-04-01T11:54:34.638516Z",
     "start_time": "2020-04-01T11:54:34.628567Z"
    }
   },
   "outputs": [],
   "source": [
    "def ra_dec_distance(ra, dec, ra1, dec1):\n",
    "    import numpy as np\n",
    "    from astropy import units as u\n",
    "    from astropy.coordinates import SkyCoord\n",
    "    c1 = SkyCoord(ra=ra, dec=dec, unit='deg')\n",
    "    c2 = SkyCoord(ra=ra1, dec=dec1, unit='deg')\n",
    "    sep = c1.separation(c2)\n",
    "    return sep.degree"
   ]
  },
  {
   "cell_type": "code",
   "execution_count": 15,
   "metadata": {
    "ExecuteTime": {
     "end_time": "2020-03-31T20:14:02.555548Z",
     "start_time": "2020-03-31T20:14:02.545943Z"
    }
   },
   "outputs": [
    {
     "name": "stdout",
     "output_type": "stream",
     "text": [
      "550\n"
     ]
    }
   ],
   "source": [
    "planck_mcxc_inter = set(planck['MCXC']).intersection(set(mcxc['MCXC']))\n",
    "print(len(planck_mcxc_inter))"
   ]
  },
  {
   "cell_type": "code",
   "execution_count": 17,
   "metadata": {
    "ExecuteTime": {
     "end_time": "2020-03-31T20:14:20.257606Z",
     "start_time": "2020-03-31T20:14:18.399574Z"
    }
   },
   "outputs": [
    {
     "data": {
      "text/plain": [
       "0.14329401854958784"
      ]
     },
     "execution_count": 17,
     "metadata": {},
     "output_type": "execute_result"
    }
   ],
   "source": [
    "planck_mcxc_inter = list(planck_mcxc_inter)\n",
    "difs = []\n",
    "for i in range(len(planck_mcxc_inter)):\n",
    "    fp = planck['MCXC'].isin([planck_mcxc_inter[i]])\n",
    "    fm = mcxc['MCXC'].isin([planck_mcxc_inter[i]])\n",
    "    ex_p = planck[fp]\n",
    "    ex_m = mcxc[fm]\n",
    "    difs.append(ra_dec_distance(ex_p['RAdeg'], ex_p['DEdeg'], ex_m['RAdeg'], ex_m['DEdeg'])[0])\n",
    "max_dif = max(difs)\n",
    "max_dif"
   ]
  },
  {
   "cell_type": "code",
   "execution_count": 18,
   "metadata": {
    "ExecuteTime": {
     "end_time": "2020-03-31T20:14:22.655982Z",
     "start_time": "2020-03-31T20:14:22.653439Z"
    }
   },
   "outputs": [],
   "source": [
    "redmapper.iloc[5]['NAME']\n",
    "redmapper_mcxc_inter = []"
   ]
  },
  {
   "cell_type": "code",
   "execution_count": 59,
   "metadata": {
    "ExecuteTime": {
     "end_time": "2020-03-31T19:03:29.167553Z",
     "start_time": "2020-03-31T18:42:45.164362Z"
    }
   },
   "outputs": [
    {
     "name": "stdout",
     "output_type": "stream",
     "text": [
      "0\n",
      "1\n",
      "2\n",
      "3\n",
      "4\n",
      "5\n",
      "6\n",
      "7\n",
      "8\n",
      "9\n",
      "10\n",
      "11\n",
      "12\n",
      "13\n",
      "14\n",
      "15\n",
      "16\n",
      "17\n",
      "18\n",
      "19\n",
      "20\n",
      "21\n",
      "22\n",
      "23\n",
      "24\n",
      "25\n",
      "26\n",
      "27\n",
      "28\n",
      "29\n",
      "30\n",
      "31\n",
      "32\n",
      "33\n",
      "34\n",
      "35\n",
      "36\n",
      "37\n",
      "38\n",
      "39\n",
      "40\n",
      "41\n",
      "42\n",
      "43\n",
      "44\n",
      "45\n",
      "46\n",
      "47\n",
      "48\n",
      "49\n",
      "50\n",
      "51\n",
      "52\n",
      "53\n",
      "54\n",
      "55\n",
      "56\n",
      "57\n",
      "58\n",
      "59\n",
      "60\n",
      "61\n",
      "62\n",
      "63\n",
      "64\n",
      "65\n",
      "66\n",
      "67\n",
      "68\n",
      "69\n",
      "70\n",
      "71\n",
      "72\n",
      "73\n",
      "74\n",
      "75\n",
      "76\n",
      "77\n",
      "78\n",
      "79\n",
      "80\n",
      "81\n",
      "82\n",
      "83\n",
      "84\n",
      "85\n",
      "86\n",
      "87\n",
      "88\n",
      "89\n",
      "90\n",
      "91\n",
      "92\n",
      "93\n",
      "94\n",
      "95\n",
      "96\n",
      "97\n",
      "98\n",
      "99\n",
      "100\n",
      "101\n",
      "102\n",
      "103\n",
      "104\n",
      "105\n",
      "106\n",
      "107\n",
      "108\n",
      "109\n",
      "110\n",
      "111\n",
      "112\n",
      "113\n",
      "114\n",
      "115\n",
      "116\n",
      "117\n",
      "118\n",
      "119\n",
      "120\n",
      "121\n",
      "122\n",
      "123\n",
      "124\n",
      "125\n",
      "126\n",
      "127\n",
      "128\n",
      "129\n",
      "130\n",
      "131\n",
      "132\n",
      "133\n",
      "134\n",
      "135\n",
      "136\n",
      "137\n",
      "138\n",
      "139\n",
      "140\n",
      "141\n",
      "142\n",
      "143\n",
      "144\n",
      "145\n",
      "146\n",
      "147\n",
      "148\n",
      "149\n",
      "150\n",
      "151\n",
      "152\n",
      "153\n",
      "154\n",
      "155\n",
      "156\n",
      "157\n",
      "158\n",
      "159\n",
      "160\n",
      "161\n",
      "162\n",
      "163\n",
      "164\n",
      "165\n",
      "166\n",
      "167\n",
      "168\n",
      "169\n",
      "170\n",
      "171\n",
      "172\n",
      "173\n",
      "174\n",
      "175\n",
      "176\n",
      "177\n",
      "178\n",
      "179\n",
      "180\n",
      "181\n",
      "182\n",
      "183\n",
      "184\n",
      "185\n",
      "186\n",
      "187\n",
      "188\n",
      "189\n",
      "190\n",
      "191\n",
      "192\n",
      "193\n",
      "194\n",
      "195\n",
      "196\n",
      "197\n",
      "198\n",
      "199\n",
      "200\n",
      "201\n",
      "202\n",
      "203\n",
      "204\n",
      "205\n",
      "206\n",
      "207\n",
      "208\n",
      "209\n",
      "210\n",
      "211\n",
      "212\n",
      "213\n",
      "214\n",
      "215\n",
      "216\n",
      "217\n",
      "218\n",
      "219\n",
      "220\n",
      "221\n",
      "222\n",
      "223\n",
      "224\n",
      "225\n",
      "226\n",
      "227\n",
      "228\n",
      "229\n",
      "230\n",
      "231\n",
      "232\n",
      "233\n",
      "234\n",
      "235\n",
      "236\n",
      "237\n",
      "238\n",
      "239\n",
      "240\n",
      "241\n",
      "242\n",
      "243\n",
      "244\n",
      "245\n",
      "246\n",
      "247\n",
      "248\n",
      "249\n",
      "250\n",
      "251\n",
      "252\n",
      "253\n",
      "254\n",
      "255\n",
      "256\n",
      "257\n",
      "258\n",
      "259\n",
      "260\n",
      "261\n",
      "262\n",
      "263\n",
      "264\n",
      "265\n",
      "266\n",
      "267\n",
      "268\n",
      "269\n",
      "270\n",
      "271\n",
      "272\n",
      "273\n",
      "274\n",
      "275\n",
      "276\n",
      "277\n",
      "278\n",
      "279\n",
      "280\n",
      "281\n",
      "282\n",
      "283\n",
      "284\n",
      "285\n",
      "286\n",
      "287\n",
      "288\n",
      "289\n",
      "290\n",
      "291\n",
      "292\n",
      "293\n",
      "294\n",
      "295\n",
      "296\n",
      "297\n",
      "298\n",
      "299\n",
      "300\n",
      "301\n",
      "302\n",
      "303\n",
      "304\n",
      "305\n",
      "306\n",
      "307\n",
      "308\n",
      "309\n",
      "310\n",
      "311\n",
      "312\n",
      "313\n",
      "314\n",
      "315\n",
      "316\n",
      "317\n",
      "318\n",
      "319\n",
      "320\n",
      "321\n",
      "322\n",
      "323\n",
      "324\n",
      "325\n",
      "326\n",
      "327\n",
      "328\n",
      "329\n",
      "330\n",
      "331\n",
      "332\n",
      "333\n",
      "334\n",
      "335\n",
      "336\n",
      "337\n",
      "338\n",
      "339\n",
      "340\n",
      "341\n",
      "342\n",
      "343\n",
      "344\n",
      "345\n",
      "346\n",
      "347\n",
      "348\n",
      "349\n",
      "350\n",
      "351\n",
      "352\n",
      "353\n",
      "354\n",
      "355\n",
      "356\n",
      "357\n",
      "358\n",
      "359\n",
      "360\n",
      "361\n",
      "362\n",
      "363\n",
      "364\n",
      "365\n",
      "366\n",
      "367\n",
      "368\n",
      "369\n",
      "370\n",
      "371\n",
      "372\n",
      "373\n",
      "374\n",
      "375\n",
      "376\n",
      "377\n",
      "378\n",
      "379\n",
      "380\n",
      "381\n",
      "382\n",
      "383\n",
      "384\n",
      "385\n",
      "386\n",
      "387\n",
      "388\n",
      "389\n",
      "390\n",
      "391\n",
      "392\n",
      "393\n",
      "394\n",
      "395\n",
      "396\n",
      "397\n",
      "398\n",
      "399\n",
      "400\n",
      "401\n",
      "402\n",
      "403\n",
      "404\n",
      "405\n",
      "406\n",
      "407\n",
      "408\n",
      "409\n",
      "410\n",
      "411\n",
      "412\n",
      "413\n",
      "414\n",
      "415\n",
      "416\n",
      "417\n",
      "418\n",
      "419\n",
      "420\n",
      "421\n",
      "422\n",
      "423\n",
      "424\n",
      "425\n",
      "426\n",
      "427\n",
      "428\n",
      "429\n",
      "430\n",
      "431\n",
      "432\n",
      "433\n",
      "434\n"
     ]
    },
    {
     "ename": "KeyboardInterrupt",
     "evalue": "",
     "output_type": "error",
     "traceback": [
      "\u001b[0;31m---------------------------------------------------------------------------\u001b[0m",
      "\u001b[0;31mKeyboardInterrupt\u001b[0m                         Traceback (most recent call last)",
      "\u001b[0;32m<ipython-input-59-37adc9f5c765>\u001b[0m in \u001b[0;36m<module>\u001b[0;34m\u001b[0m\n\u001b[1;32m      6\u001b[0m         \u001b[0mra1\u001b[0m \u001b[0;34m=\u001b[0m \u001b[0mmcxc\u001b[0m\u001b[0;34m.\u001b[0m\u001b[0miloc\u001b[0m\u001b[0;34m[\u001b[0m\u001b[0mj\u001b[0m\u001b[0;34m]\u001b[0m\u001b[0;34m[\u001b[0m\u001b[0;34m'RAdeg'\u001b[0m\u001b[0;34m]\u001b[0m\u001b[0;34m\u001b[0m\u001b[0;34m\u001b[0m\u001b[0m\n\u001b[1;32m      7\u001b[0m         \u001b[0mdec1\u001b[0m \u001b[0;34m=\u001b[0m \u001b[0mmcxc\u001b[0m\u001b[0;34m.\u001b[0m\u001b[0miloc\u001b[0m\u001b[0;34m[\u001b[0m\u001b[0mj\u001b[0m\u001b[0;34m]\u001b[0m\u001b[0;34m[\u001b[0m\u001b[0;34m'DEdeg'\u001b[0m\u001b[0;34m]\u001b[0m\u001b[0;34m\u001b[0m\u001b[0;34m\u001b[0m\u001b[0m\n\u001b[0;32m----> 8\u001b[0;31m         \u001b[0;32mif\u001b[0m \u001b[0;34m(\u001b[0m\u001b[0mra_dec_distance\u001b[0m\u001b[0;34m(\u001b[0m\u001b[0mra\u001b[0m\u001b[0;34m,\u001b[0m \u001b[0mdec\u001b[0m\u001b[0;34m,\u001b[0m \u001b[0mra1\u001b[0m\u001b[0;34m,\u001b[0m \u001b[0mdec1\u001b[0m\u001b[0;34m)\u001b[0m \u001b[0;34m<\u001b[0m \u001b[0mmax_dif\u001b[0m\u001b[0;34m)\u001b[0m\u001b[0;34m:\u001b[0m\u001b[0;34m\u001b[0m\u001b[0;34m\u001b[0m\u001b[0m\n\u001b[0m\u001b[1;32m      9\u001b[0m             \u001b[0mredmapper_mcxc_inter\u001b[0m\u001b[0;34m.\u001b[0m\u001b[0mappend\u001b[0m\u001b[0;34m(\u001b[0m\u001b[0mredmapper\u001b[0m\u001b[0;34m.\u001b[0m\u001b[0miloc\u001b[0m\u001b[0;34m[\u001b[0m\u001b[0mi\u001b[0m\u001b[0;34m]\u001b[0m\u001b[0;34m[\u001b[0m\u001b[0;34m'NAME'\u001b[0m\u001b[0;34m]\u001b[0m\u001b[0;34m)\u001b[0m\u001b[0;34m\u001b[0m\u001b[0;34m\u001b[0m\u001b[0m\n",
      "\u001b[0;32m<ipython-input-56-1ef6b3993a8a>\u001b[0m in \u001b[0;36mra_dec_distance\u001b[0;34m(ra, dec, ra1, dec1)\u001b[0m\n\u001b[1;32m      3\u001b[0m     \u001b[0;32mfrom\u001b[0m \u001b[0mastropy\u001b[0m \u001b[0;32mimport\u001b[0m \u001b[0munits\u001b[0m \u001b[0;32mas\u001b[0m \u001b[0mu\u001b[0m\u001b[0;34m\u001b[0m\u001b[0;34m\u001b[0m\u001b[0m\n\u001b[1;32m      4\u001b[0m     \u001b[0;32mfrom\u001b[0m \u001b[0mastropy\u001b[0m\u001b[0;34m.\u001b[0m\u001b[0mcoordinates\u001b[0m \u001b[0;32mimport\u001b[0m \u001b[0mSkyCoord\u001b[0m\u001b[0;34m\u001b[0m\u001b[0;34m\u001b[0m\u001b[0m\n\u001b[0;32m----> 5\u001b[0;31m     \u001b[0mc1\u001b[0m \u001b[0;34m=\u001b[0m \u001b[0mSkyCoord\u001b[0m\u001b[0;34m(\u001b[0m\u001b[0mra\u001b[0m\u001b[0;34m=\u001b[0m\u001b[0mra\u001b[0m\u001b[0;34m,\u001b[0m \u001b[0mdec\u001b[0m\u001b[0;34m=\u001b[0m\u001b[0mdec\u001b[0m\u001b[0;34m,\u001b[0m \u001b[0munit\u001b[0m\u001b[0;34m=\u001b[0m\u001b[0;34m'deg'\u001b[0m\u001b[0;34m)\u001b[0m\u001b[0;34m\u001b[0m\u001b[0;34m\u001b[0m\u001b[0m\n\u001b[0m\u001b[1;32m      6\u001b[0m     \u001b[0mc2\u001b[0m \u001b[0;34m=\u001b[0m \u001b[0mSkyCoord\u001b[0m\u001b[0;34m(\u001b[0m\u001b[0mra\u001b[0m\u001b[0;34m=\u001b[0m\u001b[0mra1\u001b[0m\u001b[0;34m,\u001b[0m \u001b[0mdec\u001b[0m\u001b[0;34m=\u001b[0m\u001b[0mdec1\u001b[0m\u001b[0;34m,\u001b[0m \u001b[0munit\u001b[0m\u001b[0;34m=\u001b[0m\u001b[0;34m'deg'\u001b[0m\u001b[0;34m)\u001b[0m\u001b[0;34m\u001b[0m\u001b[0;34m\u001b[0m\u001b[0m\n\u001b[1;32m      7\u001b[0m     \u001b[0msep\u001b[0m \u001b[0;34m=\u001b[0m \u001b[0mc1\u001b[0m\u001b[0;34m.\u001b[0m\u001b[0mseparation\u001b[0m\u001b[0;34m(\u001b[0m\u001b[0mc2\u001b[0m\u001b[0;34m)\u001b[0m\u001b[0;34m\u001b[0m\u001b[0;34m\u001b[0m\u001b[0m\n",
      "\u001b[0;32m~/anaconda3/lib/python3.7/site-packages/astropy/coordinates/sky_coordinate.py\u001b[0m in \u001b[0;36m__init__\u001b[0;34m(self, copy, *args, **kwargs)\u001b[0m\n\u001b[1;32m    255\u001b[0m             \u001b[0margs\u001b[0m \u001b[0;34m=\u001b[0m \u001b[0mlist\u001b[0m\u001b[0;34m(\u001b[0m\u001b[0margs\u001b[0m\u001b[0;34m)\u001b[0m  \u001b[0;31m# Make it mutable\u001b[0m\u001b[0;34m\u001b[0m\u001b[0;34m\u001b[0m\u001b[0m\n\u001b[1;32m    256\u001b[0m             skycoord_kwargs, components, info = _parse_coordinate_data(\n\u001b[0;32m--> 257\u001b[0;31m                 frame_cls(**frame_kwargs), args, kwargs)\n\u001b[0m\u001b[1;32m    258\u001b[0m \u001b[0;34m\u001b[0m\u001b[0m\n\u001b[1;32m    259\u001b[0m             \u001b[0;31m# In the above two parsing functions, these kwargs were identified\u001b[0m\u001b[0;34m\u001b[0m\u001b[0;34m\u001b[0m\u001b[0;34m\u001b[0m\u001b[0m\n",
      "\u001b[0;32m~/anaconda3/lib/python3.7/site-packages/astropy/coordinates/sky_coordinate_parsers.py\u001b[0m in \u001b[0;36m_parse_coordinate_data\u001b[0;34m(frame, args, kwargs)\u001b[0m\n\u001b[1;32m    242\u001b[0m     \u001b[0;31m# Grab any frame-specific attr names like `ra` or `l` or `distance` from\u001b[0m\u001b[0;34m\u001b[0m\u001b[0;34m\u001b[0m\u001b[0;34m\u001b[0m\u001b[0m\n\u001b[1;32m    243\u001b[0m     \u001b[0;31m# kwargs and move them to valid_components.\u001b[0m\u001b[0;34m\u001b[0m\u001b[0;34m\u001b[0m\u001b[0;34m\u001b[0m\u001b[0m\n\u001b[0;32m--> 244\u001b[0;31m     \u001b[0mvalid_components\u001b[0m\u001b[0;34m.\u001b[0m\u001b[0mupdate\u001b[0m\u001b[0;34m(\u001b[0m\u001b[0m_get_representation_attrs\u001b[0m\u001b[0;34m(\u001b[0m\u001b[0mframe\u001b[0m\u001b[0;34m,\u001b[0m \u001b[0munits\u001b[0m\u001b[0;34m,\u001b[0m \u001b[0mkwargs\u001b[0m\u001b[0;34m)\u001b[0m\u001b[0;34m)\u001b[0m\u001b[0;34m\u001b[0m\u001b[0;34m\u001b[0m\u001b[0m\n\u001b[0m\u001b[1;32m    245\u001b[0m \u001b[0;34m\u001b[0m\u001b[0m\n\u001b[1;32m    246\u001b[0m     \u001b[0;31m# Error if anything is still left in kwargs\u001b[0m\u001b[0;34m\u001b[0m\u001b[0;34m\u001b[0m\u001b[0;34m\u001b[0m\u001b[0m\n",
      "\u001b[0;32m~/anaconda3/lib/python3.7/site-packages/astropy/coordinates/sky_coordinate_parsers.py\u001b[0m in \u001b[0;36m_get_representation_attrs\u001b[0;34m(frame, units, kwargs)\u001b[0m\n\u001b[1;32m    587\u001b[0m         \u001b[0mvalue\u001b[0m \u001b[0;34m=\u001b[0m \u001b[0mkwargs\u001b[0m\u001b[0;34m.\u001b[0m\u001b[0mpop\u001b[0m\u001b[0;34m(\u001b[0m\u001b[0mframe_attr_name\u001b[0m\u001b[0;34m,\u001b[0m \u001b[0;32mNone\u001b[0m\u001b[0;34m)\u001b[0m\u001b[0;34m\u001b[0m\u001b[0;34m\u001b[0m\u001b[0m\n\u001b[1;32m    588\u001b[0m         \u001b[0;32mif\u001b[0m \u001b[0mvalue\u001b[0m \u001b[0;32mis\u001b[0m \u001b[0;32mnot\u001b[0m \u001b[0;32mNone\u001b[0m\u001b[0;34m:\u001b[0m\u001b[0;34m\u001b[0m\u001b[0;34m\u001b[0m\u001b[0m\n\u001b[0;32m--> 589\u001b[0;31m             \u001b[0mvalid_kwargs\u001b[0m\u001b[0;34m[\u001b[0m\u001b[0mframe_attr_name\u001b[0m\u001b[0;34m]\u001b[0m \u001b[0;34m=\u001b[0m \u001b[0mrepr_attr_class\u001b[0m\u001b[0;34m(\u001b[0m\u001b[0mvalue\u001b[0m\u001b[0;34m,\u001b[0m \u001b[0munit\u001b[0m\u001b[0;34m=\u001b[0m\u001b[0munit\u001b[0m\u001b[0;34m)\u001b[0m\u001b[0;34m\u001b[0m\u001b[0;34m\u001b[0m\u001b[0m\n\u001b[0m\u001b[1;32m    590\u001b[0m \u001b[0;34m\u001b[0m\u001b[0m\n\u001b[1;32m    591\u001b[0m     \u001b[0;31m# also check the differentials.  They aren't included in the units keyword,\u001b[0m\u001b[0;34m\u001b[0m\u001b[0;34m\u001b[0m\u001b[0;34m\u001b[0m\u001b[0m\n",
      "\u001b[0;32m~/anaconda3/lib/python3.7/site-packages/astropy/coordinates/angles.py\u001b[0m in \u001b[0;36m__new__\u001b[0;34m(cls, angle, unit, **kwargs)\u001b[0m\n\u001b[1;32m    511\u001b[0m         \u001b[0;32mif\u001b[0m \u001b[0misinstance\u001b[0m\u001b[0;34m(\u001b[0m\u001b[0mangle\u001b[0m\u001b[0;34m,\u001b[0m \u001b[0mLongitude\u001b[0m\u001b[0;34m)\u001b[0m\u001b[0;34m:\u001b[0m\u001b[0;34m\u001b[0m\u001b[0;34m\u001b[0m\u001b[0m\n\u001b[1;32m    512\u001b[0m             \u001b[0;32mraise\u001b[0m \u001b[0mTypeError\u001b[0m\u001b[0;34m(\u001b[0m\u001b[0;34m\"A Latitude angle cannot be created from a Longitude angle\"\u001b[0m\u001b[0;34m)\u001b[0m\u001b[0;34m\u001b[0m\u001b[0;34m\u001b[0m\u001b[0m\n\u001b[0;32m--> 513\u001b[0;31m         \u001b[0mself\u001b[0m \u001b[0;34m=\u001b[0m \u001b[0msuper\u001b[0m\u001b[0;34m(\u001b[0m\u001b[0;34m)\u001b[0m\u001b[0;34m.\u001b[0m\u001b[0m__new__\u001b[0m\u001b[0;34m(\u001b[0m\u001b[0mcls\u001b[0m\u001b[0;34m,\u001b[0m \u001b[0mangle\u001b[0m\u001b[0;34m,\u001b[0m \u001b[0munit\u001b[0m\u001b[0;34m=\u001b[0m\u001b[0munit\u001b[0m\u001b[0;34m,\u001b[0m \u001b[0;34m**\u001b[0m\u001b[0mkwargs\u001b[0m\u001b[0;34m)\u001b[0m\u001b[0;34m\u001b[0m\u001b[0;34m\u001b[0m\u001b[0m\n\u001b[0m\u001b[1;32m    514\u001b[0m         \u001b[0mself\u001b[0m\u001b[0;34m.\u001b[0m\u001b[0m_validate_angles\u001b[0m\u001b[0;34m(\u001b[0m\u001b[0;34m)\u001b[0m\u001b[0;34m\u001b[0m\u001b[0;34m\u001b[0m\u001b[0m\n\u001b[1;32m    515\u001b[0m         \u001b[0;32mreturn\u001b[0m \u001b[0mself\u001b[0m\u001b[0;34m\u001b[0m\u001b[0;34m\u001b[0m\u001b[0m\n",
      "\u001b[0;32m~/anaconda3/lib/python3.7/site-packages/astropy/coordinates/angles.py\u001b[0m in \u001b[0;36m__new__\u001b[0;34m(cls, angle, unit, dtype, copy)\u001b[0m\n\u001b[1;32m    107\u001b[0m                 \u001b[0mangle\u001b[0m \u001b[0;34m=\u001b[0m \u001b[0;34m[\u001b[0m\u001b[0mAngle\u001b[0m\u001b[0;34m(\u001b[0m\u001b[0mx\u001b[0m\u001b[0;34m,\u001b[0m \u001b[0munit\u001b[0m\u001b[0;34m,\u001b[0m \u001b[0mcopy\u001b[0m\u001b[0;34m=\u001b[0m\u001b[0;32mFalse\u001b[0m\u001b[0;34m)\u001b[0m \u001b[0;32mfor\u001b[0m \u001b[0mx\u001b[0m \u001b[0;32min\u001b[0m \u001b[0mangle\u001b[0m\u001b[0;34m]\u001b[0m\u001b[0;34m\u001b[0m\u001b[0;34m\u001b[0m\u001b[0m\n\u001b[1;32m    108\u001b[0m \u001b[0;34m\u001b[0m\u001b[0m\n\u001b[0;32m--> 109\u001b[0;31m         \u001b[0;32mreturn\u001b[0m \u001b[0msuper\u001b[0m\u001b[0;34m(\u001b[0m\u001b[0;34m)\u001b[0m\u001b[0;34m.\u001b[0m\u001b[0m__new__\u001b[0m\u001b[0;34m(\u001b[0m\u001b[0mcls\u001b[0m\u001b[0;34m,\u001b[0m \u001b[0mangle\u001b[0m\u001b[0;34m,\u001b[0m \u001b[0munit\u001b[0m\u001b[0;34m,\u001b[0m \u001b[0mdtype\u001b[0m\u001b[0;34m=\u001b[0m\u001b[0mdtype\u001b[0m\u001b[0;34m,\u001b[0m \u001b[0mcopy\u001b[0m\u001b[0;34m=\u001b[0m\u001b[0mcopy\u001b[0m\u001b[0;34m)\u001b[0m\u001b[0;34m\u001b[0m\u001b[0;34m\u001b[0m\u001b[0m\n\u001b[0m\u001b[1;32m    110\u001b[0m \u001b[0;34m\u001b[0m\u001b[0m\n\u001b[1;32m    111\u001b[0m     \u001b[0;34m@\u001b[0m\u001b[0mstaticmethod\u001b[0m\u001b[0;34m\u001b[0m\u001b[0;34m\u001b[0m\u001b[0m\n",
      "\u001b[0;32m~/anaconda3/lib/python3.7/site-packages/astropy/units/quantity.py\u001b[0m in \u001b[0;36m__new__\u001b[0;34m(cls, value, unit, dtype, copy, order, subok, ndmin)\u001b[0m\n\u001b[1;32m    382\u001b[0m \u001b[0;34m\u001b[0m\u001b[0m\n\u001b[1;32m    383\u001b[0m         \u001b[0mvalue\u001b[0m \u001b[0;34m=\u001b[0m \u001b[0mvalue\u001b[0m\u001b[0;34m.\u001b[0m\u001b[0mview\u001b[0m\u001b[0;34m(\u001b[0m\u001b[0mcls\u001b[0m\u001b[0;34m)\u001b[0m\u001b[0;34m\u001b[0m\u001b[0;34m\u001b[0m\u001b[0m\n\u001b[0;32m--> 384\u001b[0;31m         \u001b[0mvalue\u001b[0m\u001b[0;34m.\u001b[0m\u001b[0m_set_unit\u001b[0m\u001b[0;34m(\u001b[0m\u001b[0mvalue_unit\u001b[0m\u001b[0;34m)\u001b[0m\u001b[0;34m\u001b[0m\u001b[0;34m\u001b[0m\u001b[0m\n\u001b[0m\u001b[1;32m    385\u001b[0m         \u001b[0;32mif\u001b[0m \u001b[0munit\u001b[0m \u001b[0;32mis\u001b[0m \u001b[0mvalue_unit\u001b[0m\u001b[0;34m:\u001b[0m\u001b[0;34m\u001b[0m\u001b[0;34m\u001b[0m\u001b[0m\n\u001b[1;32m    386\u001b[0m             \u001b[0;32mreturn\u001b[0m \u001b[0mvalue\u001b[0m\u001b[0;34m\u001b[0m\u001b[0;34m\u001b[0m\u001b[0m\n",
      "\u001b[0;32m~/anaconda3/lib/python3.7/site-packages/astropy/coordinates/angles.py\u001b[0m in \u001b[0;36m_set_unit\u001b[0;34m(self, unit)\u001b[0m\n\u001b[1;32m    129\u001b[0m \u001b[0;34m\u001b[0m\u001b[0m\n\u001b[1;32m    130\u001b[0m     \u001b[0;32mdef\u001b[0m \u001b[0m_set_unit\u001b[0m\u001b[0;34m(\u001b[0m\u001b[0mself\u001b[0m\u001b[0;34m,\u001b[0m \u001b[0munit\u001b[0m\u001b[0;34m)\u001b[0m\u001b[0;34m:\u001b[0m\u001b[0;34m\u001b[0m\u001b[0;34m\u001b[0m\u001b[0m\n\u001b[0;32m--> 131\u001b[0;31m         \u001b[0msuper\u001b[0m\u001b[0;34m(\u001b[0m\u001b[0;34m)\u001b[0m\u001b[0;34m.\u001b[0m\u001b[0m_set_unit\u001b[0m\u001b[0;34m(\u001b[0m\u001b[0mself\u001b[0m\u001b[0;34m.\u001b[0m\u001b[0m_convert_unit_to_angle_unit\u001b[0m\u001b[0;34m(\u001b[0m\u001b[0munit\u001b[0m\u001b[0;34m)\u001b[0m\u001b[0;34m)\u001b[0m\u001b[0;34m\u001b[0m\u001b[0;34m\u001b[0m\u001b[0m\n\u001b[0m\u001b[1;32m    132\u001b[0m \u001b[0;34m\u001b[0m\u001b[0m\n\u001b[1;32m    133\u001b[0m     \u001b[0;34m@\u001b[0m\u001b[0mproperty\u001b[0m\u001b[0;34m\u001b[0m\u001b[0;34m\u001b[0m\u001b[0m\n",
      "\u001b[0;32m~/anaconda3/lib/python3.7/site-packages/astropy/units/quantity.py\u001b[0m in \u001b[0;36m_set_unit\u001b[0;34m(self, unit)\u001b[0m\n\u001b[1;32m   1590\u001b[0m \u001b[0;34m\u001b[0m\u001b[0m\n\u001b[1;32m   1591\u001b[0m     \u001b[0;32mdef\u001b[0m \u001b[0m_set_unit\u001b[0m\u001b[0;34m(\u001b[0m\u001b[0mself\u001b[0m\u001b[0;34m,\u001b[0m \u001b[0munit\u001b[0m\u001b[0;34m)\u001b[0m\u001b[0;34m:\u001b[0m\u001b[0;34m\u001b[0m\u001b[0;34m\u001b[0m\u001b[0m\n\u001b[0;32m-> 1592\u001b[0;31m         \u001b[0;32mif\u001b[0m \u001b[0munit\u001b[0m \u001b[0;32mis\u001b[0m \u001b[0;32mNone\u001b[0m \u001b[0;32mor\u001b[0m \u001b[0;32mnot\u001b[0m \u001b[0munit\u001b[0m\u001b[0;34m.\u001b[0m\u001b[0mis_equivalent\u001b[0m\u001b[0;34m(\u001b[0m\u001b[0mself\u001b[0m\u001b[0;34m.\u001b[0m\u001b[0m_equivalent_unit\u001b[0m\u001b[0;34m)\u001b[0m\u001b[0;34m:\u001b[0m\u001b[0;34m\u001b[0m\u001b[0;34m\u001b[0m\u001b[0m\n\u001b[0m\u001b[1;32m   1593\u001b[0m             raise UnitTypeError(\n\u001b[1;32m   1594\u001b[0m                 \u001b[0;34m\"{0} instances require units equivalent to '{1}'\"\u001b[0m\u001b[0;34m\u001b[0m\u001b[0;34m\u001b[0m\u001b[0m\n",
      "\u001b[0;32m~/anaconda3/lib/python3.7/site-packages/astropy/units/core.py\u001b[0m in \u001b[0;36mis_equivalent\u001b[0;34m(self, other, equivalencies)\u001b[0m\n\u001b[1;32m    806\u001b[0m                        for u in other)\n\u001b[1;32m    807\u001b[0m \u001b[0;34m\u001b[0m\u001b[0m\n\u001b[0;32m--> 808\u001b[0;31m         \u001b[0mother\u001b[0m \u001b[0;34m=\u001b[0m \u001b[0mUnit\u001b[0m\u001b[0;34m(\u001b[0m\u001b[0mother\u001b[0m\u001b[0;34m,\u001b[0m \u001b[0mparse_strict\u001b[0m\u001b[0;34m=\u001b[0m\u001b[0;34m'silent'\u001b[0m\u001b[0;34m)\u001b[0m\u001b[0;34m\u001b[0m\u001b[0;34m\u001b[0m\u001b[0m\n\u001b[0m\u001b[1;32m    809\u001b[0m \u001b[0;34m\u001b[0m\u001b[0m\n\u001b[1;32m    810\u001b[0m         \u001b[0;32mreturn\u001b[0m \u001b[0mself\u001b[0m\u001b[0;34m.\u001b[0m\u001b[0m_is_equivalent\u001b[0m\u001b[0;34m(\u001b[0m\u001b[0mother\u001b[0m\u001b[0;34m,\u001b[0m \u001b[0mequivalencies\u001b[0m\u001b[0;34m)\u001b[0m\u001b[0;34m\u001b[0m\u001b[0;34m\u001b[0m\u001b[0m\n",
      "\u001b[0;31mKeyboardInterrupt\u001b[0m: "
     ]
    }
   ],
   "source": [
    "for i in range(redmapper.shape[0]):\n",
    "    print(i)\n",
    "    for j in range(mcxcwp.shape[0]):\n",
    "        ra = redmapper.iloc[i]['RA']\n",
    "        dec = redmapper.iloc[i]['DEC']\n",
    "        ra1 = mcxc.iloc[j]['RAdeg']\n",
    "        dec1 = mcxc.iloc[j]['DEdeg']\n",
    "        if (ra_dec_distance(ra, dec, ra1, dec1) < max_dif):\n",
    "            redmapper_mcxc_inter.append(redmapper.iloc[i]['NAME'])"
   ]
  },
  {
   "cell_type": "code",
   "execution_count": 65,
   "metadata": {
    "ExecuteTime": {
     "end_time": "2020-03-31T19:07:05.986539Z",
     "start_time": "2020-03-31T19:07:05.971912Z"
    }
   },
   "outputs": [
    {
     "name": "stdout",
     "output_type": "stream",
     "text": [
      "Empty DataFrame\n",
      "Columns: [ra, dec, ra1, dec1]\n",
      "Index: []\n"
     ]
    }
   ],
   "source": [
    "rrdd = pd.DataFrame([])\n",
    "rrdd['ra'] = None\n",
    "rrdd['dec'] = None\n",
    "rrdd['ra1'] = None\n",
    "rrdd['dec1'] = None\n",
    "print(rrdd)\n"
   ]
  },
  {
   "cell_type": "code",
   "execution_count": 69,
   "metadata": {
    "ExecuteTime": {
     "end_time": "2020-03-31T19:22:28.737426Z",
     "start_time": "2020-03-31T19:10:49.290929Z"
    }
   },
   "outputs": [],
   "source": [
    "inter = []\n",
    "for i in range(redmapper.shape[0]):\n",
    "    ra = redmapper.iloc[i]['RA']\n",
    "    dec = redmapper.iloc[i]['DEC']\n",
    "    dif = min(ra_dec_distance(ra, dec, mcxcwp['RAdeg'], mcxcwp['DEdeg']))\n",
    "    if dif < max_dif:\n",
    "        inter.append(redmapper.iloc[i]['NAME'])"
   ]
  },
  {
   "cell_type": "code",
   "execution_count": 67,
   "metadata": {
    "ExecuteTime": {
     "end_time": "2020-03-31T19:10:02.895024Z",
     "start_time": "2020-03-31T19:10:02.887031Z"
    }
   },
   "outputs": [
    {
     "data": {
      "text/plain": [
       "['RMJ092030.0+302946.8',\n",
       " 'RMJ092052.5+302740.3',\n",
       " 'RMJ133431.5+201217.7',\n",
       " 'RMJ104729.0+151402.1',\n",
       " 'RMJ130650.0+463333.4',\n",
       " 'RMJ112954.6+202510.4',\n",
       " 'RMJ151617.9+000520.6',\n",
       " 'RMJ090644.9+101902.4',\n",
       " 'RMJ094257.5+465849.8',\n",
       " 'RMJ004155.0+212237.4',\n",
       " 'RMJ122714.9+085815.1',\n",
       " 'RMJ122854.3+192554.5',\n",
       " 'RMJ025630.8+000603.3',\n",
       " 'RMJ092836.6+374723.2',\n",
       " 'RMJ141638.9+304408.7',\n",
       " 'RMJ080543.3+454058.9',\n",
       " 'RMJ095946.8+222409.7',\n",
       " 'RMJ085612.7+375615.7',\n",
       " 'RMJ115715.2+333638.5',\n",
       " 'RMJ145308.4+215339.3',\n",
       " 'RMJ112135.9+480252.8',\n",
       " 'RMJ133224.5+502425.8',\n",
       " 'RMJ002016.1+000446.0',\n",
       " 'RMJ082615.4+041652.9',\n",
       " 'RMJ084032.7+054246.3',\n",
       " 'RMJ124132.9+325045.7',\n",
       " 'RMJ075822.7+264120.6',\n",
       " 'RMJ002854.0+075006.1',\n",
       " 'RMJ133050.6-015143.1',\n",
       " 'RMJ151108.8+180153.3',\n",
       " 'RMJ112701.7+170744.8',\n",
       " 'RMJ151840.6+061418.1',\n",
       " 'RMJ024803.4-033145.2',\n",
       " 'RMJ093527.4+073026.1',\n",
       " 'RMJ101633.5+244843.9',\n",
       " 'RMJ015825.9-014639.4',\n",
       " 'RMJ144726.0+082825.1',\n",
       " 'RMJ122751.2+632305.4',\n",
       " 'RMJ144406.9+634459.6',\n",
       " 'RMJ114436.8+672421.2',\n",
       " 'RMJ075655.8+383933.2',\n",
       " 'RMJ012202.7+002004.1',\n",
       " 'RMJ153637.6+013525.5',\n",
       " 'RMJ143034.5+253849.7',\n",
       " 'RMJ100750.4+003154.7',\n",
       " 'RMJ015716.3+321447.4',\n",
       " 'RMJ124324.7+271649.3',\n",
       " 'RMJ082557.8+041448.3',\n",
       " 'RMJ011156.2+330823.4']"
      ]
     },
     "execution_count": 67,
     "metadata": {},
     "output_type": "execute_result"
    }
   ],
   "source": [
    "redmapper_mcxc_inter"
   ]
  },
  {
   "cell_type": "code",
   "execution_count": 70,
   "metadata": {
    "ExecuteTime": {
     "end_time": "2020-03-31T19:22:52.659172Z",
     "start_time": "2020-03-31T19:22:52.653166Z"
    }
   },
   "outputs": [
    {
     "data": {
      "text/plain": [
       "245"
      ]
     },
     "execution_count": 70,
     "metadata": {},
     "output_type": "execute_result"
    }
   ],
   "source": [
    "len(inter)"
   ]
  },
  {
   "cell_type": "code",
   "execution_count": 71,
   "metadata": {
    "ExecuteTime": {
     "end_time": "2020-03-31T19:23:04.761182Z",
     "start_time": "2020-03-31T19:23:04.754025Z"
    }
   },
   "outputs": [
    {
     "data": {
      "text/plain": [
       "49"
      ]
     },
     "execution_count": 71,
     "metadata": {},
     "output_type": "execute_result"
    }
   ],
   "source": [
    "len(redmapper_mcxc_inter)"
   ]
  },
  {
   "cell_type": "code",
   "execution_count": 94,
   "metadata": {
    "ExecuteTime": {
     "end_time": "2020-03-31T19:35:17.743240Z",
     "start_time": "2020-03-31T19:35:17.715765Z"
    }
   },
   "outputs": [
    {
     "data": {
      "text/plain": [
       "(15130, 14)"
      ]
     },
     "execution_count": 94,
     "metadata": {},
     "output_type": "execute_result"
    }
   ],
   "source": [
    "filter_wp = redmapper['NAME'].isin(set(redmapper['NAME']).difference(set(inter)))\n",
    "redmapper = redmapper[filter_wp]\n",
    "redmapper.shape"
   ]
  },
  {
   "cell_type": "code",
   "execution_count": 95,
   "metadata": {
    "ExecuteTime": {
     "end_time": "2020-03-31T19:35:40.892495Z",
     "start_time": "2020-03-31T19:35:40.885250Z"
    }
   },
   "outputs": [
    {
     "data": {
      "text/plain": [
       "(8718, 14)"
      ]
     },
     "execution_count": 95,
     "metadata": {},
     "output_type": "execute_result"
    }
   ],
   "source": [
    "redmapper_ = redmapper[redmapper['Z_SPEC'] != -1.0]\n",
    "redmapper_.shape"
   ]
  },
  {
   "cell_type": "code",
   "execution_count": 96,
   "metadata": {
    "ExecuteTime": {
     "end_time": "2020-03-31T19:36:17.145692Z",
     "start_time": "2020-03-31T19:36:16.876953Z"
    }
   },
   "outputs": [],
   "source": [
    "redmapper.to_csv('./rm30_15130.csv')"
   ]
  },
  {
   "cell_type": "code",
   "execution_count": null,
   "metadata": {},
   "outputs": [],
   "source": [
    "redmapper_.to_csv('./rm30_87')"
   ]
  },
  {
   "cell_type": "code",
   "execution_count": 8,
   "metadata": {
    "ExecuteTime": {
     "end_time": "2020-04-01T10:05:17.057898Z",
     "start_time": "2020-04-01T10:05:16.807901Z"
    }
   },
   "outputs": [],
   "source": [
    "r30 = pd.read_csv('./rm30_15130.csv')"
   ]
  },
  {
   "cell_type": "code",
   "execution_count": 9,
   "metadata": {
    "ExecuteTime": {
     "end_time": "2020-04-01T10:05:41.080975Z",
     "start_time": "2020-04-01T10:05:41.071461Z"
    }
   },
   "outputs": [
    {
     "data": {
      "text/plain": [
       "(4711, 15)"
      ]
     },
     "execution_count": 9,
     "metadata": {},
     "output_type": "execute_result"
    }
   ],
   "source": [
    "r50 = r30[r30['LAMBDA'] > 50]\n",
    "r50.shape"
   ]
  },
  {
   "cell_type": "code",
   "execution_count": 10,
   "metadata": {
    "ExecuteTime": {
     "end_time": "2020-04-01T10:06:17.230294Z",
     "start_time": "2020-04-01T10:06:17.145017Z"
    }
   },
   "outputs": [],
   "source": [
    "r50.to_csv('./rm50_4711.csv')"
   ]
  },
  {
   "cell_type": "code",
   "execution_count": 18,
   "metadata": {
    "ExecuteTime": {
     "end_time": "2020-04-01T11:51:03.040935Z",
     "start_time": "2020-04-01T11:51:03.033686Z"
    }
   },
   "outputs": [
    {
     "data": {
      "text/plain": [
       "(15673, 14)"
      ]
     },
     "execution_count": 18,
     "metadata": {},
     "output_type": "execute_result"
    }
   ],
   "source": [
    "redmapper.shape"
   ]
  },
  {
   "cell_type": "code",
   "execution_count": 32,
   "metadata": {
    "ExecuteTime": {
     "end_time": "2020-04-01T12:20:42.925595Z",
     "start_time": "2020-04-01T12:20:42.919884Z"
    }
   },
   "outputs": [
    {
     "data": {
      "text/plain": [
       "(9058, 6)"
      ]
     },
     "execution_count": 32,
     "metadata": {},
     "output_type": "execute_result"
    }
   ],
   "source": [
    "redmapperz0 = redmapper[redmapper['Z_SPEC'] >= 0.0]\n",
    "redmapperz0.shape"
   ]
  },
  {
   "cell_type": "code",
   "execution_count": 33,
   "metadata": {
    "ExecuteTime": {
     "end_time": "2020-04-01T12:28:59.264956Z",
     "start_time": "2020-04-01T12:21:12.999120Z"
    }
   },
   "outputs": [],
   "source": [
    "inter = []\n",
    "thr = 1\n",
    "for i in range(redmapperz0.shape[0]):\n",
    "    d = ra_dec_distance(redmapperz0.iloc[i]['RA'], redmapperz0.iloc[i]['DEC'],\n",
    "                       mcxc['RAdeg'], mcxc['DEdeg'])\n",
    "    if min(d) < thr:\n",
    "        inter.append((redmapperz0.iloc[i]['NAME'], min(d)))"
   ]
  },
  {
   "cell_type": "code",
   "execution_count": 34,
   "metadata": {
    "ExecuteTime": {
     "end_time": "2020-04-01T12:34:43.918500Z",
     "start_time": "2020-04-01T12:34:43.912266Z"
    }
   },
   "outputs": [
    {
     "data": {
      "text/plain": [
       "1801"
      ]
     },
     "execution_count": 34,
     "metadata": {},
     "output_type": "execute_result"
    }
   ],
   "source": [
    "len(inter)"
   ]
  },
  {
   "cell_type": "code",
   "execution_count": 27,
   "metadata": {
    "ExecuteTime": {
     "end_time": "2020-04-01T12:17:19.119154Z",
     "start_time": "2020-04-01T12:17:19.114121Z"
    }
   },
   "outputs": [
    {
     "data": {
      "text/plain": [
       "8772"
      ]
     },
     "execution_count": 27,
     "metadata": {},
     "output_type": "execute_result"
    }
   ],
   "source": [
    "redmapper.shape[0] - len(inter)"
   ]
  },
  {
   "cell_type": "code",
   "execution_count": 28,
   "metadata": {
    "ExecuteTime": {
     "end_time": "2020-04-01T12:18:09.413337Z",
     "start_time": "2020-04-01T12:18:09.370045Z"
    }
   },
   "outputs": [
    {
     "data": {
      "text/plain": [
       "(26111, 6)"
      ]
     },
     "execution_count": 28,
     "metadata": {},
     "output_type": "execute_result"
    }
   ],
   "source": [
    "redmapper = pd.read_csv('./redmapper.csv')\n",
    "redmapper.shape"
   ]
  },
  {
   "cell_type": "code",
   "execution_count": 29,
   "metadata": {
    "ExecuteTime": {
     "end_time": "2020-04-01T12:18:34.561679Z",
     "start_time": "2020-04-01T12:18:34.556352Z"
    }
   },
   "outputs": [
    {
     "data": {
      "text/plain": [
       "(15673, 6)"
      ]
     },
     "execution_count": 29,
     "metadata": {},
     "output_type": "execute_result"
    }
   ],
   "source": [
    "redmapper = redmapper[redmapper['LAMBDA'] > 30]\n",
    "redmapper.shape"
   ]
  },
  {
   "cell_type": "code",
   "execution_count": 31,
   "metadata": {
    "ExecuteTime": {
     "end_time": "2020-04-01T12:19:04.164956Z",
     "start_time": "2020-04-01T12:19:04.157137Z"
    }
   },
   "outputs": [
    {
     "data": {
      "text/plain": [
       "15387"
      ]
     },
     "execution_count": 31,
     "metadata": {},
     "output_type": "execute_result"
    }
   ],
   "source": [
    "redmapper.shape[0] - len(inter)"
   ]
  },
  {
   "cell_type": "code",
   "execution_count": 49,
   "metadata": {
    "ExecuteTime": {
     "end_time": "2020-04-01T12:39:37.715590Z",
     "start_time": "2020-04-01T12:39:37.708678Z"
    }
   },
   "outputs": [
    {
     "name": "stdout",
     "output_type": "stream",
     "text": [
      "14956\n"
     ]
    }
   ],
   "source": [
    "inter = np.array(inter)\n",
    "print(redmapper.shape[0] - np.count_nonzero(np.float32(inter[:, 1]) < 0.53))"
   ]
  },
  {
   "cell_type": "code",
   "execution_count": 39,
   "metadata": {
    "ExecuteTime": {
     "end_time": "2020-04-01T12:37:38.627519Z",
     "start_time": "2020-04-01T12:37:38.620629Z"
    }
   },
   "outputs": [
    {
     "data": {
      "text/plain": [
       "array([['RMJ155820.0+271400.3', '0.0068385517'],\n",
       "       ['RMJ133520.1+410004.1', '0.0071528973'],\n",
       "       ['RMJ224319.8-093530.9', '0.0071321963'],\n",
       "       ...,\n",
       "       ['RMJ004029.6-093025.2', '0.3896414'],\n",
       "       ['RMJ125700.1-015544.5', '0.45413446'],\n",
       "       ['RMJ222012.5-023856.2', '0.4710528']], dtype='<U22')"
      ]
     },
     "execution_count": 39,
     "metadata": {},
     "output_type": "execute_result"
    }
   ],
   "source": [
    "inter"
   ]
  },
  {
   "cell_type": "code",
   "execution_count": 54,
   "metadata": {
    "ExecuteTime": {
     "end_time": "2020-04-01T12:43:25.759796Z",
     "start_time": "2020-04-01T12:43:25.734496Z"
    }
   },
   "outputs": [
    {
     "name": "stdout",
     "output_type": "stream",
     "text": [
      "(717,)\n"
     ]
    },
    {
     "data": {
      "text/plain": [
       "(14956, 6)"
      ]
     },
     "execution_count": 54,
     "metadata": {},
     "output_type": "execute_result"
    }
   ],
   "source": [
    "names_inter = inter[np.float32(inter[:, 1]) < 0.53, 0]\n",
    "print(names_inter.shape)\n",
    "dif = set(redmapper['NAME']).difference(set(names_inter))\n",
    "filter_wm = redmapper['NAME'].isin(dif)\n",
    "r30 = redmapper[filter_wm]\n",
    "r30.shape"
   ]
  },
  {
   "cell_type": "code",
   "execution_count": 51,
   "metadata": {
    "ExecuteTime": {
     "end_time": "2020-04-01T12:42:08.160090Z",
     "start_time": "2020-04-01T12:42:08.154546Z"
    }
   },
   "outputs": [
    {
     "data": {
      "text/plain": [
       "pandas.core.frame.DataFrame"
      ]
     },
     "execution_count": 51,
     "metadata": {},
     "output_type": "execute_result"
    }
   ],
   "source": [
    "type(redmapper)"
   ]
  },
  {
   "cell_type": "code",
   "execution_count": 55,
   "metadata": {
    "ExecuteTime": {
     "end_time": "2020-04-01T12:43:50.649431Z",
     "start_time": "2020-04-01T12:43:50.536116Z"
    }
   },
   "outputs": [],
   "source": [
    "r30.to_csv('./RM30.csv')"
   ]
  },
  {
   "cell_type": "code",
   "execution_count": 56,
   "metadata": {
    "ExecuteTime": {
     "end_time": "2020-04-01T12:44:17.051126Z",
     "start_time": "2020-04-01T12:44:17.040895Z"
    }
   },
   "outputs": [
    {
     "data": {
      "text/plain": [
       "(4808, 6)"
      ]
     },
     "execution_count": 56,
     "metadata": {},
     "output_type": "execute_result"
    }
   ],
   "source": [
    "r50 = r30[r30['LAMBDA'] > 50]\n",
    "r50.shape"
   ]
  },
  {
   "cell_type": "code",
   "execution_count": 57,
   "metadata": {
    "ExecuteTime": {
     "end_time": "2020-04-01T12:44:50.591381Z",
     "start_time": "2020-04-01T12:44:50.555153Z"
    }
   },
   "outputs": [],
   "source": [
    "r50.to_csv('./RM50_4808.csv')"
   ]
  },
  {
   "cell_type": "code",
   "execution_count": 1,
   "metadata": {
    "ExecuteTime": {
     "end_time": "2020-04-03T19:07:02.148857Z",
     "start_time": "2020-04-03T19:07:01.977532Z"
    }
   },
   "outputs": [
    {
     "ename": "NameError",
     "evalue": "name 'math' is not defined",
     "output_type": "error",
     "traceback": [
      "\u001b[0;31m---------------------------------------------------------------------------\u001b[0m",
      "\u001b[0;31mNameError\u001b[0m                                 Traceback (most recent call last)",
      "\u001b[0;32m<ipython-input-1-38836dc4d9d3>\u001b[0m in \u001b[0;36m<module>\u001b[0;34m\u001b[0m\n\u001b[0;32m----> 1\u001b[0;31m \u001b[0mmath\u001b[0m\u001b[0;34m.\u001b[0m\u001b[0msqrt\u001b[0m\u001b[0;34m(\u001b[0m\u001b[0;36m860\u001b[0m\u001b[0;34m)\u001b[0m\u001b[0;34m\u001b[0m\u001b[0;34m\u001b[0m\u001b[0m\n\u001b[0m",
      "\u001b[0;31mNameError\u001b[0m: name 'math' is not defined"
     ]
    }
   ],
   "source": []
  },
  {
   "cell_type": "code",
   "execution_count": null,
   "metadata": {},
   "outputs": [],
   "source": []
  }
 ],
 "metadata": {
  "kernelspec": {
   "display_name": "Python 3",
   "language": "python",
   "name": "python3"
  },
  "language_info": {
   "codemirror_mode": {
    "name": "ipython",
    "version": 3
   },
   "file_extension": ".py",
   "mimetype": "text/x-python",
   "name": "python",
   "nbconvert_exporter": "python",
   "pygments_lexer": "ipython3",
   "version": "3.7.3"
  }
 },
 "nbformat": 4,
 "nbformat_minor": 2
}
