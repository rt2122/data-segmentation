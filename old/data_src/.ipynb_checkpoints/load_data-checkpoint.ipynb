{
 "cells": [
  {
   "cell_type": "code",
   "execution_count": 13,
   "metadata": {
    "ExecuteTime": {
     "end_time": "2020-03-31T08:55:57.077536Z",
     "start_time": "2020-03-31T08:55:56.937096Z"
    }
   },
   "outputs": [
    {
     "name": "stdout",
     "output_type": "stream",
     "text": [
      "['Index', 'Name', 'GLON', 'GLAT', 'RAdeg', 'DEdeg', 'e_pos', 'SNR', 'Pipeline', 'PipeDet', 'PCCS2', 'PSZ', 'f_IR', 'q_neural', 'Y5R500', 'e_Y5R500', 'Val', 'zID', 'z', 'MSZ', 'E_MSZ', 'e_MSZ', 'MCXC', 'RedMAPPer', 'ACT', 'SPT', 'f_WISE', 'AMIevi', 'COSMO', 'Comment']\n",
      "Name \t PSZ2 G000.04+45.13 \t PSZ2 G359.67-07.23\n",
      "RAdeg \t 0.0902461 \t 359.7704048\n",
      "DEdeg \t -86.8106899 \t 88.4005322\n",
      "z \t -1.0 \t 0.972\n",
      "MSZ \t 0.0 \t 16.116468\n",
      "MCXC \t              \t J2359.3-6042\n",
      "RedMAPPer \t                      \t RMJ235542.6+112035.6\n",
      "                 Name       RAdeg      DEdeg       z       MSZ          MCXC  \\\n",
      "0  PSZ2 G000.04+45.13  229.190512  -1.017222  0.1198  3.962411  J1516.5-0056   \n",
      "1  PSZ2 G000.13+78.04  203.558683  20.255990  0.1710  5.122391  J1334.1+2013   \n",
      "2  PSZ2 G000.40-41.86  316.084485 -41.354169  0.1651  5.297053  J2104.3-4120   \n",
      "3  PSZ2 G000.77-35.69  307.972844 -40.598725  0.3416  6.333562  J2031.8-4037   \n",
      "4  PSZ2 G002.04-22.15  291.359610 -36.517944 -1.0000  0.000000                 \n",
      "\n",
      "              RedMAPPer  \n",
      "0  RMJ151653.9-010506.3  \n",
      "1  RMJ133408.7+201453.0  \n",
      "2                        \n",
      "3                        \n",
      "4                        \n"
     ]
    },
    {
     "name": "stderr",
     "output_type": "stream",
     "text": [
      "WARNING: VerifyWarning: Verification reported errors: [astropy.io.fits.verify]\n",
      "WARNING: VerifyWarning: HDU 2: [astropy.io.fits.verify]\n",
      "WARNING: VerifyWarning:     Card 66: [astropy.io.fits.verify]\n",
      "WARNING: VerifyWarning:         Card 'TAMAX9' is not FITS standard (invalid value string: '-nan / Allowed maximal value').  Fixed 'TAMAX9' card to meet the FITS standard. [astropy.io.fits.verify]\n",
      "WARNING: VerifyWarning:     Card 73: [astropy.io.fits.verify]\n",
      "WARNING: VerifyWarning:         Card 'TAMIN10' is not FITS standard (invalid value string: '-nan / Allowed minimal value').  Fixed 'TAMIN10' card to meet the FITS standard. [astropy.io.fits.verify]\n",
      "WARNING: VerifyWarning:     Card 80: [astropy.io.fits.verify]\n",
      "WARNING: VerifyWarning:         Card 'TAMAX11' is not FITS standard (invalid value string: '-nan / Allowed maximal value').  Fixed 'TAMAX11' card to meet the FITS standard. [astropy.io.fits.verify]\n",
      "WARNING: VerifyWarning:     Card 87: [astropy.io.fits.verify]\n",
      "WARNING: VerifyWarning:         Card 'TAMIN12' is not FITS standard (invalid value string: '-nan / Allowed minimal value').  Fixed 'TAMIN12' card to meet the FITS standard. [astropy.io.fits.verify]\n",
      "WARNING: VerifyWarning: HDU 3: [astropy.io.fits.verify]\n",
      "WARNING: VerifyWarning: HDU 4: [astropy.io.fits.verify]\n",
      "WARNING: VerifyWarning: Note: astropy.io.fits uses zero-based indexing.\n",
      " [astropy.io.fits.verify]\n"
     ]
    }
   ],
   "source": [
    "from astropy.io import fits\n",
    "from astropy.table import Table\n",
    "import numpy as np\n",
    "import matplotlib.pyplot as plt\n",
    "import pandas as pd\n",
    "\n",
    "planck_file = '/home/rt2122/Desktop/data-segmentation/data_src/Planck_SZ2.fits'\n",
    "planck = None\n",
    "with fits.open(planck_file) as table:\n",
    "    table.verify('fix')\n",
    "    data = table[1].data\n",
    "    keys = data.names\n",
    "    print(keys)\n",
    "    saved_keys = ['Name', 'RAdeg', 'DEdeg', 'z', 'MSZ', 'MCXC', 'RedMAPPer']\n",
    "    planck = pd.DataFrame([])\n",
    "    for key in saved_keys:\n",
    "        planck[key] = data[key]\n",
    "        print(key, '\\t', planck[key].min(), '\\t', planck[key].max())\n",
    "    print(planck.head())"
   ]
  },
  {
   "cell_type": "code",
   "execution_count": 2,
   "metadata": {
    "ExecuteTime": {
     "end_time": "2020-03-31T08:45:28.213912Z",
     "start_time": "2020-03-31T08:45:28.207700Z"
    }
   },
   "outputs": [
    {
     "name": "stdout",
     "output_type": "stream",
     "text": [
      "(1653, 7)\n"
     ]
    }
   ],
   "source": [
    "print(planck.shape)"
   ]
  },
  {
   "cell_type": "code",
   "execution_count": 34,
   "metadata": {
    "ExecuteTime": {
     "end_time": "2020-03-30T19:29:19.589794Z",
     "start_time": "2020-03-30T19:29:19.546521Z"
    }
   },
   "outputs": [
    {
     "name": "stdout",
     "output_type": "stream",
     "text": [
      "(1094, 7)\n",
      "(559, 7)\n"
     ]
    }
   ],
   "source": [
    "planck_z = planck[df['z'] != -1]\n",
    "print(planck_z.shape)\n",
    "planck_no_z = planck[df['z'] == -1]\n",
    "print(plank_no_z.shape)\n",
    "#planck_z.to_csv('./planck_z.csv')\n",
    "#planck_no_z.to_csv('./planck_no_z.csv')"
   ]
  },
  {
   "cell_type": "code",
   "execution_count": 12,
   "metadata": {
    "ExecuteTime": {
     "end_time": "2020-03-31T08:55:17.717370Z",
     "start_time": "2020-03-31T08:55:17.648638Z"
    }
   },
   "outputs": [
    {
     "name": "stdout",
     "output_type": "stream",
     "text": [
      "MCXC \t J0000.1+0816 \t J2359.9-3928\n",
      "OName \t A104               \t ZwCl9077          \n",
      "AName \t                                                        \t ZwCl9077                                              \n",
      "RAdeg \t 0.03 \t 359.982\n",
      "RAdeg \t 0.03 \t 359.982\n",
      "z \t 0.0031 \t 1.261\n",
      "M500 \t 0.0096 \t 22.1\n",
      "           MCXC               OName  \\\n",
      "0  J0000.1+0816  RXC J0000.1+0816     \n",
      "1  J0000.4-0237  RXC J0000.4-0237     \n",
      "2  J0001.6-1540  RXC J0001.6-1540     \n",
      "3  J0001.9+1204  RXC J0001.9+1204     \n",
      "4  J0003.1-0605  RXCJ0003.1-0605      \n",
      "\n",
      "                                               AName  RAdeg       z    M500  \n",
      "0  UGC 12890                                     ...  0.030  0.0396  0.7373  \n",
      "1                                                ...  0.103  0.0379  0.3297  \n",
      "2                                                ...  0.412  0.1246  1.6557  \n",
      "3  A2692                                         ...  0.488  0.2033  2.6927  \n",
      "4  A2697                                         ...  0.799  0.2320  5.2188  \n",
      "(1743, 6)\n"
     ]
    }
   ],
   "source": [
    "mcxc = None\n",
    "mcxc_file = '/home/rt2122/Desktop/data-segmentation/data_src/MCXC.fits'\n",
    "with fits.open(mcxc_file) as table:\n",
    "    table.verify('fix')\n",
    "\n",
    "    data = table[1].data\n",
    "    keys = data.names\n",
    "    saved_keys = ['MCXC', 'OName', 'AName', 'RAdeg', 'RAdeg', 'z', 'M500']\n",
    "    \n",
    "    mcxc = pd.DataFrame([])\n",
    "    for key in saved_keys:\n",
    "        mcxc[key] = data[key]\n",
    "        print(key, '\\t', mcxc[key].min(), '\\t', mcxc[key].max())\n",
    "    print(mcxc.head())\n",
    "    print(mcxc.shape)"
   ]
  },
  {
   "cell_type": "code",
   "execution_count": 70,
   "metadata": {
    "ExecuteTime": {
     "end_time": "2020-03-30T19:50:25.892817Z",
     "start_time": "2020-03-30T19:50:25.882847Z"
    }
   },
   "outputs": [
    {
     "name": "stdout",
     "output_type": "stream",
     "text": [
      "1193\n"
     ]
    }
   ],
   "source": [
    "withoutp = (set(mcxc['MCXC'])).difference(set(planck['MCXC']))\n",
    "print(len(withoutp))"
   ]
  },
  {
   "cell_type": "code",
   "execution_count": 71,
   "metadata": {
    "ExecuteTime": {
     "end_time": "2020-03-30T19:52:26.623573Z",
     "start_time": "2020-03-30T19:52:26.619023Z"
    }
   },
   "outputs": [],
   "source": [
    "filter_wp = mcxc['MCXC'].isin(withoutpthoutp)\n",
    "mcxcwp = mcxc[filter_wp]"
   ]
  },
  {
   "cell_type": "code",
   "execution_count": 11,
   "metadata": {
    "ExecuteTime": {
     "end_time": "2020-03-31T08:53:48.739332Z",
     "start_time": "2020-03-31T08:53:48.613738Z"
    }
   },
   "outputs": [
    {
     "name": "stdout",
     "output_type": "stream",
     "text": [
      "['ID', 'NAME', 'RA', 'DEC', 'Z_LAMBDA', 'Z_LAMBDA_ERR', 'LAMBDA', 'LAMBDA_ERR', 'S', 'Z_SPEC', 'OBJID', 'IMAG', 'IMAG_ERR', 'MODEL_MAG_U', 'MODEL_MAGERR_U', 'MODEL_MAG_G', 'MODEL_MAGERR_G', 'MODEL_MAG_R', 'MODEL_MAGERR_R', 'MODEL_MAG_I', 'MODEL_MAGERR_I', 'MODEL_MAG_Z', 'MODEL_MAGERR_Z', 'ILUM', 'P_CEN', 'RA_CEN', 'DEC_CEN', 'ID_CEN', 'PZBINS', 'PZ']\n",
      "NAME \t RMJ000002.3+051717.8 \t RMJ235954.1-110813.5\n",
      "RA \t 0.009573451801770716 \t 359.9754387159011\n",
      "DEC \t -11.201826615164308 \t 68.72255623374552\n",
      "Z_LAMBDA \t 0.081065014 \t 0.5983342\n",
      "LAMBDA \t 19.850935 \t 299.45935\n",
      "S \t 0.9888237 \t 4.1384864\n",
      "Z_SPEC \t -1.0 \t 0.943789\n",
      "IMAG \t 0.0 \t 0.0\n",
      "MODEL_MAG_U \t 16.608995 \t 28.992018\n",
      "MODEL_MAG_G \t 14.62429 \t 28.713974\n",
      "MODEL_MAG_R \t 13.664849 \t 22.42834\n",
      "MODEL_MAG_I \t 13.256837 \t 20.959984\n",
      "MODEL_MAG_Z \t 12.901435 \t 25.334692\n",
      "ILUM \t 8.542767 \t 162.23651\n",
      "                   NAME          RA        DEC  Z_LAMBDA      LAMBDA  \\\n",
      "0  RMJ155820.0+271400.3  239.583329  27.233413  0.094831  169.837845   \n",
      "1  RMJ164019.8+464241.5  250.082548  46.711531  0.232764  199.539276   \n",
      "2  RMJ131129.5-012028.0  197.872957  -1.341116  0.182398  164.712173   \n",
      "3  RMJ090912.2+105824.9  137.300745  10.973595  0.170462  174.704178   \n",
      "4  RMJ133520.1+410004.1  203.833723  41.001146  0.231747  189.181152   \n",
      "\n",
      "          S    Z_SPEC  IMAG  MODEL_MAG_U  MODEL_MAG_G  MODEL_MAG_R  \\\n",
      "0  1.011366  0.090807   0.0    17.767290    15.414802    14.397099   \n",
      "1  0.995171 -1.000000   0.0    19.793066    17.980946    16.546164   \n",
      "2  1.006547 -1.000000   0.0    20.430338    16.889420    15.686827   \n",
      "3  1.014544 -1.000000   0.0    26.343122    18.158167    17.184233   \n",
      "4  1.010038  0.228309   0.0    19.995804    17.901672    16.366825   \n",
      "\n",
      "   MODEL_MAG_I  MODEL_MAG_Z        ILUM  \n",
      "0    13.978240    13.619685  115.149506  \n",
      "1    16.049070    15.814708  132.715820  \n",
      "2    15.248981    15.027758  118.676895  \n",
      "3    16.532034    16.288134  112.058441  \n",
      "4    15.850655    15.507919  128.978867  \n",
      "(26111, 14)\n"
     ]
    }
   ],
   "source": [
    "redmapper = None\n",
    "redmapper_file = '/home/rt2122/Desktop/data-segmentation/data_src/redmapper_dr8_public_v6.3_catalog.fits'\n",
    "with fits.open(redmapper_file) as table:\n",
    "    table.verify('fix')\n",
    "\n",
    "    data = table[1].data\n",
    "    keys = data.names\n",
    "    print(keys)\n",
    "    saved_keys = ['NAME', 'RA', 'DEC', 'Z_LAMBDA', 'LAMBDA','S', 'Z_SPEC', \n",
    "                  'IMAG', 'MODEL_MAG_U', 'MODEL_MAG_G', 'MODEL_MAG_R', 'MODEL_MAG_I', \n",
    "                  'MODEL_MAG_Z', 'ILUM']\n",
    "    \n",
    "    redmapper = pd.DataFrame([])\n",
    "    for key in saved_keys:\n",
    "        redmapper[key] = data[key]\n",
    "        print(key, '\\t', redmapper[key].min(), '\\t', redmapper[key].max())\n",
    "    print(redmapper.head())\n",
    "    print(redmapper.shape)\n",
    "    "
   ]
  },
  {
   "cell_type": "code",
   "execution_count": null,
   "metadata": {},
   "outputs": [],
   "source": []
  }
 ],
 "metadata": {
  "kernelspec": {
   "display_name": "Python 3",
   "language": "python",
   "name": "python3"
  },
  "language_info": {
   "codemirror_mode": {
    "name": "ipython",
    "version": 3
   },
   "file_extension": ".py",
   "mimetype": "text/x-python",
   "name": "python",
   "nbconvert_exporter": "python",
   "pygments_lexer": "ipython3",
   "version": "3.7.3"
  }
 },
 "nbformat": 4,
 "nbformat_minor": 2
}
