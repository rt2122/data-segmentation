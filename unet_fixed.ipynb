{
  "nbformat": 4,
  "nbformat_minor": 0,
  "metadata": {
    "accelerator": "GPU",
    "colab": {
      "name": "unet_cuda.ipynb",
      "provenance": [],
      "collapsed_sections": [],
      "machine_shape": "hm"
    },
    "kernelspec": {
      "display_name": "Python 3",
      "language": "python",
      "name": "python3"
    },
    "language_info": {
      "codemirror_mode": {
        "name": "ipython",
        "version": 3
      },
      "file_extension": ".py",
      "mimetype": "text/x-python",
      "name": "python",
      "nbconvert_exporter": "python",
      "pygments_lexer": "ipython3",
      "version": "3.7.3"
    }
  },
  "cells": [
    {
      "cell_type": "code",
      "metadata": {
        "ExecuteTime": {
          "end_time": "2019-10-16T15:00:00.196292Z",
          "start_time": "2019-10-16T14:59:59.631266Z"
        },
        "colab_type": "code",
        "id": "-4ikgNSF-ZJY",
        "colab": {
          "base_uri": "https://localhost:8080/",
          "height": 35
        },
        "outputId": "9443aa7a-a4ca-477e-d7e2-cc0d26e32863"
      },
      "source": [
        "%pylab inline\n",
        "\n",
        "import torch\n",
        "import torchvision\n",
        "from torch.utils.data import Dataset\n",
        "from PIL import ImageDraw, Image"
      ],
      "execution_count": 1,
      "outputs": [
        {
          "output_type": "stream",
          "text": [
            "Populating the interactive namespace from numpy and matplotlib\n"
          ],
          "name": "stdout"
        }
      ]
    },
    {
      "cell_type": "code",
      "metadata": {
        "id": "AvXFN-ZdoCn0",
        "colab_type": "code",
        "colab": {
          "base_uri": "https://localhost:8080/",
          "height": 35
        },
        "outputId": "7f735afc-2636-45ae-a73a-6d4cf1017bed"
      },
      "source": [
        "torch.cuda.current_device()\n",
        "print(torch.cuda.is_available())\n",
        "cuda = torch.device('cuda') "
      ],
      "execution_count": 2,
      "outputs": [
        {
          "output_type": "stream",
          "text": [
            "True\n"
          ],
          "name": "stdout"
        }
      ]
    },
    {
      "cell_type": "code",
      "metadata": {
        "id": "mXiLvjhVlXNo",
        "colab_type": "code",
        "colab": {}
      },
      "source": [
        "cpu = torch.device('cpu')"
      ],
      "execution_count": 0,
      "outputs": []
    },
    {
      "cell_type": "code",
      "metadata": {
        "ExecuteTime": {
          "end_time": "2019-10-16T15:00:00.210514Z",
          "start_time": "2019-10-16T15:00:00.199127Z"
        },
        "colab_type": "code",
        "id": "0VDcTGqB-vfA",
        "colab": {}
      },
      "source": [
        "class EncoderBlock(torch.nn.Module):\n",
        "    def __init__(self, in_channels, out_channels):\n",
        "        super().__init__()\n",
        "        self.conv1 = torch.nn.Conv2d(in_channels, out_channels, 3, padding=1)\n",
        "        self.bn1 = torch.nn.BatchNorm2d(out_channels)\n",
        "        self.relu1 = torch.nn.ReLU(inplace=True)\n",
        "        self.conv2 = torch.nn.Conv2d(out_channels, out_channels, 3, padding=1)\n",
        "        self.bn2 = torch.nn.BatchNorm2d(out_channels)\n",
        "        self.relu2 = torch.nn.ReLU(inplace=True)\n",
        "\n",
        "    def forward(self, x):\n",
        "        x = self.conv1(x)\n",
        "        x = self.bn1(x)\n",
        "        x = self.relu1(x)\n",
        "        x = self.conv2(x)\n",
        "        x = self.bn2(x)\n",
        "        x = self.relu2(x)\n",
        "        return x"
      ],
      "execution_count": 0,
      "outputs": []
    },
    {
      "cell_type": "code",
      "metadata": {
        "ExecuteTime": {
          "end_time": "2019-10-16T15:00:00.341636Z",
          "start_time": "2019-10-16T15:00:00.213550Z"
        },
        "colab_type": "code",
        "id": "ANVZ6UeZ_FXc",
        "colab": {}
      },
      "source": [
        "class Encoder(torch.nn.Module):\n",
        "    def __init__(self, in_channels, num_filters, num_blocks):\n",
        "        super().__init__()\n",
        "        self.num_blocks = num_blocks\n",
        "        for i in range(num_blocks):\n",
        "            self.add_module('block_{}'.format(i + 1), module=EncoderBlock(in_channels=in_channels, \n",
        "                                                                         out_channels=num_filters))\n",
        "            in_channels = num_filters\n",
        "            num_filters *= 2\n",
        "            \n",
        "        self.mpull = torch.nn.MaxPool2d(2, 2)\n",
        "\n",
        "    def forward(self, x):\n",
        "        activations = []\n",
        "        for i in range(self.num_blocks):\n",
        "            block = self.__getattr__('block_{}'.format(i + 1))\n",
        "            \n",
        "            x = block.forward(x)\n",
        "            activations.append(x.clone())\n",
        "            if i != self.num_blocks - 1:\n",
        "                x = self.mpull(x)\n",
        "        return activations"
      ],
      "execution_count": 0,
      "outputs": []
    },
    {
      "cell_type": "code",
      "metadata": {
        "ExecuteTime": {
          "end_time": "2019-10-16T15:00:00.513209Z",
          "start_time": "2019-10-16T15:00:00.345036Z"
        },
        "colab_type": "code",
        "id": "t06tO0Q4EE3d",
        "colab": {}
      },
      "source": [
        "class DecoderBlock(torch.nn.Module):\n",
        "    def __init__(self, out_channels):\n",
        "        super().__init__()\n",
        "        self.conv1 = torch.nn.Conv2d(out_channels * 2, out_channels, 3, padding=1)\n",
        "        self.relu1 = torch.nn.ReLU()\n",
        "        self.conv2 = torch.nn.Conv2d(out_channels * 2, out_channels, 3, padding=1)\n",
        "        self.relu2 = torch.nn.ReLU()\n",
        "        self.conv3 = torch.nn.Conv2d(out_channels, out_channels, 3, padding=1)\n",
        "        self.relu3 = torch.nn.ReLU()\n",
        "        self.up = torch.nn.Upsample(scale_factor=2, align_corners=True, mode='bilinear')\n",
        "\n",
        "    def forward(self, down, left):\n",
        "        # upscale->conv+relu->concat->conv+relu->conv+relu - make it\n",
        "        #x = self.up(down)\n",
        "        x = torch.nn.functional.interpolate(down, scale_factor=2)\n",
        "        x = self.conv1(x)\n",
        "        x = self.relu1(x)\n",
        "        \n",
        "        x = torch.cat([x, left], dim=1)\n",
        "        \n",
        "        x = self.conv2(x)\n",
        "        x = self.relu2(x)\n",
        "        \n",
        "        x = self.conv3(x)\n",
        "        x = self.relu3(x)\n",
        "        return x"
      ],
      "execution_count": 0,
      "outputs": []
    },
    {
      "cell_type": "code",
      "metadata": {
        "ExecuteTime": {
          "end_time": "2019-10-16T15:00:00.652432Z",
          "start_time": "2019-10-16T15:00:00.519086Z"
        },
        "colab_type": "code",
        "id": "3qygH3L57Gcg",
        "colab": {}
      },
      "source": [
        "class Decoder(torch.nn.Module):\n",
        "    def __init__(self, num_filters, num_blocks):\n",
        "        super().__init__()\n",
        "        self.num_blocks = num_blocks\n",
        "        for i in range(num_blocks):\n",
        "            self.add_module('block_{}'.format(num_blocks - i), DecoderBlock(num_filters * 2**(i)))\n",
        "\n",
        "    def forward(self, activations):\n",
        "        x = activations[-1]\n",
        "        for i in range(len(activations) - 2, -1, -1):\n",
        "            block = self.__getattr__('block_{}'.format(self.num_blocks - i))\n",
        "            x = block(x, activations[i])\n",
        "        self.num_outchannels = x.shape[1]\n",
        "        return x"
      ],
      "execution_count": 0,
      "outputs": []
    },
    {
      "cell_type": "code",
      "metadata": {
        "ExecuteTime": {
          "end_time": "2019-10-16T15:00:00.831277Z",
          "start_time": "2019-10-16T15:00:00.657788Z"
        },
        "colab_type": "code",
        "id": "nBMwvwJ-7Gck",
        "colab": {}
      },
      "source": [
        "class UNet(torch.nn.Module):\n",
        "    def __init__(self, num_classes, in_channels=3, num_filters=8, num_blocks=4):\n",
        "        super().__init__()\n",
        "        self.encoder =  Encoder(in_channels, num_filters, num_blocks)\n",
        "        self.decoder =  Decoder(num_filters, num_blocks)\n",
        "        self.final =  torch.nn.Conv2d(num_filters, num_classes, 1, padding=0)\n",
        "        self.sigm = torch.nn.Sigmoid()\n",
        "\n",
        "    def forward(self, x):\n",
        "        #print(self.decoder)\n",
        "        #print(self.encoder)\n",
        "        #print(self.final)\n",
        "        acts = self.encoder(x)\n",
        "        x = self.decoder(acts)\n",
        "        x = self.final(x)\n",
        "        x = self.sigm(x)\n",
        "        return x"
      ],
      "execution_count": 0,
      "outputs": []
    },
    {
      "cell_type": "code",
      "metadata": {
        "ExecuteTime": {
          "end_time": "2019-10-16T15:00:00.952633Z",
          "start_time": "2019-10-16T15:00:00.845058Z"
        },
        "colab_type": "code",
        "id": "enBFPCar7Gcn",
        "colab": {}
      },
      "source": [
        "class Figures(Dataset):\n",
        "    def __init__(self, num_images=10, num_figure=10, size_hor=200, size_ver=200,\n",
        "                 min_size=5, max_size=40, noise=False,\n",
        "                 normalize=None):\n",
        "        \n",
        "        self.images = []\n",
        "        \n",
        "        for _ in range(num_images):\n",
        "            color_background = tuple(np.random.randint(low=0, high=255, size=3))\n",
        "            image = Image.new(mode='RGB', size=(size_hor, size_ver), color=color_background)\n",
        "            draw = ImageDraw.Draw(image)\n",
        "\n",
        "            mask = Image.new(mode='1', size=(size_hor, size_ver), color=0)\n",
        "            draw_mask = ImageDraw.Draw(mask)\n",
        "            \n",
        "            for i in range(num_figure):\n",
        "                color = tuple(np.random.randint(low=0, high=255, size=3))\n",
        "                size = np.random.randint(low=min_size, high=max_size)\n",
        "                \n",
        "                xl = np.random.randint(low=0, high=size_hor-size)\n",
        "                yt = np.random.randint(low=0, high=size_ver-size)\n",
        "                xr = xl + size\n",
        "                yb = yt + size\n",
        "                \n",
        "                figure_type = np.random.choice(['circle', 'triangle', 'rectangle'])\n",
        "                if figure_type == 'circle':\n",
        "                    draw.ellipse((xl, yt, xr, yb), fill=color)\n",
        "                    draw_mask.ellipse((xl, yt, xr, yb), fill=1)\n",
        "                elif figure_type == 'rectangle':\n",
        "                    draw.rectangle((xl, yt, xr, yb), fill=color)\n",
        "                    draw_mask.rectangle((xl, yt, xr, yb), fill=1)\n",
        "                elif figure_type == 'triangle':\n",
        "                    draw.polygon((xl, yb, xr, yb, (xl + xr) / 2, yt), fill=color)\n",
        "                    draw_mask.polygon((xl, yb, xr, yb, (xl + xr) / 2, yt), fill=1)\n",
        "\n",
        "            image = torchvision.transforms.ToTensor()(image).float()\n",
        "            mask = torchvision.transforms.ToTensor()(mask).float()\n",
        "            \n",
        "            if normalize:\n",
        "                image = normalize(image)\n",
        "           \n",
        "            if noise:\n",
        "                mean, var = 0, 0.001\n",
        "                gauss = np.random.normal(mean, var ** 0.5, (3, size_hor, size_ver))\n",
        "                image = image + torch.FloatTensor(gauss)\n",
        "                \n",
        "            self.images.append({'image': image, 'mask': mask})\n",
        "\n",
        "    def __getitem__(self, index):\n",
        "        return self.images[index]\n",
        "        \n",
        "    def __len__(self):\n",
        "        return len(self.images)"
      ],
      "execution_count": 0,
      "outputs": []
    },
    {
      "cell_type": "code",
      "metadata": {
        "ExecuteTime": {
          "end_time": "2019-10-16T15:00:01.275962Z",
          "start_time": "2019-10-16T15:00:00.955695Z"
        },
        "colab_type": "code",
        "id": "QvUxa1K57Gcq",
        "colab": {}
      },
      "source": [
        "generator = Figures(noise=True, normalize=None)"
      ],
      "execution_count": 0,
      "outputs": []
    },
    {
      "cell_type": "code",
      "metadata": {
        "ExecuteTime": {
          "end_time": "2019-10-16T15:00:01.324673Z",
          "start_time": "2019-10-16T15:00:01.281809Z"
        },
        "colab_type": "code",
        "id": "PKvn7yg27Gcs",
        "colab": {
          "base_uri": "https://localhost:8080/",
          "height": 217
        },
        "outputId": "d9349bfb-cb23-4f63-e583-5256075fd062"
      },
      "source": [
        "torchvision.transforms.ToPILImage()(generator[0]['image'])"
      ],
      "execution_count": 11,
      "outputs": [
        {
          "output_type": "execute_result",
          "data": {
            "image/png": "[encoded data removed]",
            "text/plain": [
              "<PIL.Image.Image image mode=RGB size=200x200 at 0x7F1CAD22C5F8>"
            ]
          },
          "metadata": {
            "tags": []
          },
          "execution_count": 11
        }
      ]
    },
    {
      "cell_type": "code",
      "metadata": {
        "ExecuteTime": {
          "end_time": "2019-10-16T15:00:01.690948Z",
          "start_time": "2019-10-16T15:00:01.326647Z"
        },
        "colab_type": "code",
        "id": "Tz5w6n8j7Gcw",
        "colab": {
          "base_uri": "https://localhost:8080/",
          "height": 269
        },
        "outputId": "2329517e-2ced-4af8-c8d2-c300ddfac116"
      },
      "source": [
        "plt.imshow(np.array(generator[0]['mask'][0, :, :]).reshape((200, 200)))\n",
        "plt.show()"
      ],
      "execution_count": 12,
      "outputs": [
        {
          "output_type": "display_data",
          "data": {
            "image/png": "[encoded data removed]",
            "text/plain": [
              "<Figure size 432x288 with 1 Axes>"
            ]
          },
          "metadata": {
            "tags": []
          }
        }
      ]
    },
    {
      "cell_type": "code",
      "metadata": {
        "ExecuteTime": {
          "end_time": "2019-10-16T15:00:04.111732Z",
          "start_time": "2019-10-16T15:00:01.694044Z"
        },
        "colab_type": "code",
        "id": "V0A65vX47Gcz",
        "colab": {}
      },
      "source": [
        "data = Figures(num_images=1000, noise=False)\n",
        "\n",
        "image_pixels = torch.stack([ell['image'].reshape((3, -1)) for ell in data], dim=1)\n",
        "mean_ = image_pixels.reshape((3, -1)).mean(1)\n",
        "std_ = image_pixels.reshape((3, -1)).std(1)\n",
        "normalize = torchvision.transforms.Normalize(mean_, std_)"
      ],
      "execution_count": 0,
      "outputs": []
    },
    {
      "cell_type": "code",
      "metadata": {
        "ExecuteTime": {
          "end_time": "2019-10-16T15:39:46.018929Z",
          "start_time": "2019-10-16T15:39:46.001748Z"
        },
        "colab_type": "code",
        "id": "_xvLjQf_7Gc2",
        "colab": {}
      },
      "source": [
        "def dice_coefficient(mask, prediction):\n",
        "    # your code\n",
        "    '''\n",
        "    inter = (prediction.contiguous().view(-1) * mask.contiguous().view(-1)).sum()\n",
        "    x = (prediction.contiguous().view(-1) * prediction.contiguous().view(-1)).sum()\n",
        "    y = (mask.contiguous().view(-1) * mask.contiguous().view(-1)).sum()\n",
        "    \n",
        "    return 1. - ((2. * inter + 1.)/(x + y + 1))\n",
        "    '''\n",
        "    num = 2. * (torch.sum(prediction * mask)).float()\n",
        "    denom = (torch.sum(prediction + mask)).float()\n",
        "    return 1. - (num + 1.) / (denom + 1.)"
      ],
      "execution_count": 0,
      "outputs": []
    },
    {
      "cell_type": "code",
      "metadata": {
        "ExecuteTime": {
          "end_time": "2019-10-16T15:39:49.079785Z",
          "start_time": "2019-10-16T15:39:49.038354Z"
        },
        "colab_type": "code",
        "id": "iVQp1nKc7Gc5",
        "colab": {
          "base_uri": "https://localhost:8080/",
          "height": 35
        },
        "outputId": "05d4f4c5-c1b4-441e-8853-d13888a50bf9"
      },
      "source": [
        "torch.manual_seed(10)\n",
        "\n",
        "test_mask = torch.randint(0, 2, size=(8, 1, 300, 300)).float()\n",
        "prediction_mask = torch.randint(0, 2, size=(8, 1, 300, 300)).float()\n",
        "\n",
        "dice_coefficient(test_mask, prediction_mask)"
      ],
      "execution_count": 15,
      "outputs": [
        {
          "output_type": "execute_result",
          "data": {
            "text/plain": [
              "tensor(0.4995)"
            ]
          },
          "metadata": {
            "tags": []
          },
          "execution_count": 15
        }
      ]
    },
    {
      "cell_type": "code",
      "metadata": {
        "ExecuteTime": {
          "end_time": "2019-10-16T15:39:51.100666Z",
          "start_time": "2019-10-16T15:39:50.170508Z"
        },
        "colab_type": "code",
        "id": "9SGqgc4d7Gc8",
        "colab": {}
      },
      "source": [
        "batch_size = 100\n",
        "\n",
        "train_data_loader = torch.utils.data.DataLoader(\n",
        "    dataset=Figures(noise=False, normalize=normalize, num_images=2000),\n",
        "    batch_size=batch_size, shuffle=True, pin_memory=True)\n",
        "\n",
        "test_data_loader = torch.utils.data.DataLoader(\n",
        "    dataset=Figures(noise=False, normalize=normalize, num_images=200),\n",
        "    batch_size=batch_size, pin_memory=True)\n",
        "\n",
        "train_size = len(train_data_loader.dataset)\n",
        "test_size = len(test_data_loader.dataset)"
      ],
      "execution_count": 0,
      "outputs": []
    },
    {
      "cell_type": "code",
      "metadata": {
        "ExecuteTime": {
          "end_time": "2019-10-16T15:39:51.708825Z",
          "start_time": "2019-10-16T15:39:51.657042Z"
        },
        "colab_type": "code",
        "id": "SpeqDPuO7Gc_",
        "colab": {}
      },
      "source": [
        "criterion = torch.nn.BCELoss()\n",
        "num_epoch = 40\n",
        "\n",
        "network = UNet(num_classes=1).to(cuda)\n",
        "optimizer = torch.optim.Adam(network.parameters())"
      ],
      "execution_count": 0,
      "outputs": []
    },
    {
      "cell_type": "code",
      "metadata": {
        "ExecuteTime": {
          "end_time": "2019-10-16T16:00:26.217435Z",
          "start_time": "2019-10-16T15:40:09.634547Z"
        },
        "colab_type": "code",
        "id": "_4zSSu0V7GdC",
        "colab": {
          "base_uri": "https://localhost:8080/",
          "height": 737
        },
        "outputId": "c10c4421-68f6-442a-8778-d410231da236"
      },
      "source": [
        "global_step = 0\n",
        "\n",
        "for epoch in range(num_epoch):\n",
        "    loss_train = 0\n",
        "    for i, batch in enumerate(train_data_loader):\n",
        "        # main train loop: zero gradient, forward, loss, backward, update\n",
        "        optimizer.zero_grad()\n",
        "        output = network(batch['image'].to(cuda))\n",
        "        #print(output.shape, batch['mask'].shape)\n",
        "        loss = criterion(output.to(cpu), batch['mask'].to(cpu))\n",
        "        loss_train += batch_size * float(loss.detach())\n",
        "        loss.backward()\n",
        "        optimizer.step()\n",
        "    loss_train = loss_train / train_size\n",
        "        \n",
        "    loss_test, dice_test = 0, 0\n",
        "    for i, batch in enumerate(test_data_loader):\n",
        "        output = network(batch['image'].to(cuda))\n",
        "        prediction_mask = (output > 0).float()\n",
        "        loss_test += batch_size * float(criterion(output, batch['mask'].to(cuda)).detach())\n",
        "        dice_test += batch_size * float(dice_coefficient(batch['mask'].to(cuda), prediction_mask.to(cuda)).detach())\n",
        "    loss_test = loss_test / test_size\n",
        "    dice_test = dice_test / test_size\n",
        "    \n",
        "    print('epoch: {},\\ttrain loss: {},\\ttest loss: {},\\ttest dice: {}'.format(\n",
        "        epoch, round(loss_train, 5), round(loss_test, 5), round(dice_test, 5)))"
      ],
      "execution_count": 18,
      "outputs": [
        {
          "output_type": "stream",
          "text": [
            "epoch: 0,\ttrain loss: 0.53246,\ttest loss: 0.25491,\ttest dice: 0.79643\n",
            "epoch: 1,\ttrain loss: 0.20055,\ttest loss: 0.1742,\ttest dice: 0.79643\n",
            "epoch: 2,\ttrain loss: 0.14758,\ttest loss: 0.13473,\ttest dice: 0.79643\n",
            "epoch: 3,\ttrain loss: 0.11933,\ttest loss: 0.10769,\ttest dice: 0.79643\n",
            "epoch: 4,\ttrain loss: 0.09827,\ttest loss: 0.09144,\ttest dice: 0.79643\n",
            "epoch: 5,\ttrain loss: 0.06333,\ttest loss: 0.04455,\ttest dice: 0.79643\n",
            "epoch: 6,\ttrain loss: 0.03698,\ttest loss: 0.03366,\ttest dice: 0.79643\n",
            "epoch: 7,\ttrain loss: 0.029,\ttest loss: 0.02817,\ttest dice: 0.79643\n",
            "epoch: 8,\ttrain loss: 0.0239,\ttest loss: 0.02456,\ttest dice: 0.79643\n",
            "epoch: 9,\ttrain loss: 0.02049,\ttest loss: 0.02233,\ttest dice: 0.79643\n",
            "epoch: 10,\ttrain loss: 0.01805,\ttest loss: 0.02022,\ttest dice: 0.79643\n",
            "epoch: 11,\ttrain loss: 0.01616,\ttest loss: 0.01819,\ttest dice: 0.79643\n",
            "epoch: 12,\ttrain loss: 0.01424,\ttest loss: 0.01672,\ttest dice: 0.79643\n",
            "epoch: 13,\ttrain loss: 0.01343,\ttest loss: 0.01596,\ttest dice: 0.79643\n",
            "epoch: 14,\ttrain loss: 0.01208,\ttest loss: 0.01468,\ttest dice: 0.79643\n",
            "epoch: 15,\ttrain loss: 0.01128,\ttest loss: 0.01489,\ttest dice: 0.79643\n",
            "epoch: 16,\ttrain loss: 0.01113,\ttest loss: 0.01417,\ttest dice: 0.79643\n",
            "epoch: 17,\ttrain loss: 0.01028,\ttest loss: 0.01236,\ttest dice: 0.79643\n",
            "epoch: 18,\ttrain loss: 0.00929,\ttest loss: 0.01205,\ttest dice: 0.79643\n",
            "epoch: 19,\ttrain loss: 0.00844,\ttest loss: 0.01288,\ttest dice: 0.79643\n",
            "epoch: 20,\ttrain loss: 0.00774,\ttest loss: 0.0114,\ttest dice: 0.79643\n",
            "epoch: 21,\ttrain loss: 0.00705,\ttest loss: 0.01087,\ttest dice: 0.79643\n",
            "epoch: 22,\ttrain loss: 0.00667,\ttest loss: 0.00987,\ttest dice: 0.79643\n",
            "epoch: 23,\ttrain loss: 0.01078,\ttest loss: 0.013,\ttest dice: 0.79643\n",
            "epoch: 24,\ttrain loss: 0.00927,\ttest loss: 0.01116,\ttest dice: 0.79643\n",
            "epoch: 25,\ttrain loss: 0.00741,\ttest loss: 0.01007,\ttest dice: 0.79643\n",
            "epoch: 26,\ttrain loss: 0.00643,\ttest loss: 0.00924,\ttest dice: 0.79643\n",
            "epoch: 27,\ttrain loss: 0.00627,\ttest loss: 0.00868,\ttest dice: 0.79643\n",
            "epoch: 28,\ttrain loss: 0.0057,\ttest loss: 0.00846,\ttest dice: 0.79643\n",
            "epoch: 29,\ttrain loss: 0.00531,\ttest loss: 0.00808,\ttest dice: 0.79643\n",
            "epoch: 30,\ttrain loss: 0.00486,\ttest loss: 0.00827,\ttest dice: 0.79643\n",
            "epoch: 31,\ttrain loss: 0.00459,\ttest loss: 0.00793,\ttest dice: 0.79643\n",
            "epoch: 32,\ttrain loss: 0.0044,\ttest loss: 0.00767,\ttest dice: 0.79643\n",
            "epoch: 33,\ttrain loss: 0.00421,\ttest loss: 0.00769,\ttest dice: 0.79643\n",
            "epoch: 34,\ttrain loss: 0.00401,\ttest loss: 0.00774,\ttest dice: 0.79643\n",
            "epoch: 35,\ttrain loss: 0.00383,\ttest loss: 0.00774,\ttest dice: 0.79643\n",
            "epoch: 36,\ttrain loss: 0.00369,\ttest loss: 0.00775,\ttest dice: 0.79643\n",
            "epoch: 37,\ttrain loss: 0.00356,\ttest loss: 0.0078,\ttest dice: 0.79643\n",
            "epoch: 38,\ttrain loss: 0.00341,\ttest loss: 0.00792,\ttest dice: 0.79643\n",
            "epoch: 39,\ttrain loss: 0.00329,\ttest loss: 0.00747,\ttest dice: 0.79643\n"
          ],
          "name": "stdout"
        }
      ]
    },
    {
      "cell_type": "code",
      "metadata": {
        "ExecuteTime": {
          "end_time": "2019-10-16T16:00:26.236102Z",
          "start_time": "2019-10-16T16:00:26.225208Z"
        },
        "colab_type": "code",
        "id": "iSzKh1S67GdF",
        "colab": {}
      },
      "source": [
        "my_test_data_loader = torch.utils.data.DataLoader(\n",
        "    dataset=Figures(noise=False, normalize=normalize, num_images=3),\n",
        "    batch_size=1)"
      ],
      "execution_count": 0,
      "outputs": []
    },
    {
      "cell_type": "code",
      "metadata": {
        "ExecuteTime": {
          "end_time": "2019-10-16T16:00:26.399762Z",
          "start_time": "2019-10-16T16:00:26.238749Z"
        },
        "colab_type": "code",
        "id": "iLph_gFX7GdI",
        "colab": {
          "base_uri": "https://localhost:8080/",
          "height": 235
        },
        "outputId": "e99f30fc-cb57-4078-d588-4cf20e91ab1b"
      },
      "source": [
        "gen =  enumerate(my_test_data_loader)\n",
        "(i, batch) = next(gen)\n",
        "print(i)\n",
        "torchvision.transforms.ToPILImage()(batch['image'][0])"
      ],
      "execution_count": 20,
      "outputs": [
        {
          "output_type": "stream",
          "text": [
            "0\n"
          ],
          "name": "stdout"
        },
        {
          "output_type": "execute_result",
          "data": {
            "image/png": "[encoded data removed]",
            "text/plain": [
              "<PIL.Image.Image image mode=RGB size=200x200 at 0x7F1CAAC99F28>"
            ]
          },
          "metadata": {
            "tags": []
          },
          "execution_count": 20
        }
      ]
    },
    {
      "cell_type": "code",
      "metadata": {
        "ExecuteTime": {
          "end_time": "2019-10-16T16:00:26.516697Z",
          "start_time": "2019-10-16T16:00:26.408540Z"
        },
        "colab_type": "code",
        "id": "UQXAgWCY7GdK",
        "colab": {
          "base_uri": "https://localhost:8080/",
          "height": 217
        },
        "outputId": "63a99a63-b961-464d-f186-ff5a013c6621"
      },
      "source": [
        "torchvision.transforms.ToPILImage()(batch['mask'][0])"
      ],
      "execution_count": 21,
      "outputs": [
        {
          "output_type": "execute_result",
          "data": {
            "image/png": "[encoded data removed]",
            "text/plain": [
              "<PIL.Image.Image image mode=L size=200x200 at 0x7F1CAB160668>"
            ]
          },
          "metadata": {
            "tags": []
          },
          "execution_count": 21
        }
      ]
    },
    {
      "cell_type": "code",
      "metadata": {
        "ExecuteTime": {
          "end_time": "2019-10-16T16:00:26.778205Z",
          "start_time": "2019-10-16T16:00:26.519627Z"
        },
        "colab_type": "code",
        "id": "xLr8D1NU7GdO",
        "colab": {
          "base_uri": "https://localhost:8080/",
          "height": 217
        },
        "outputId": "66a961c0-658a-4a19-fedf-d0961ab892a3"
      },
      "source": [
        "output = network(batch['image'].to(cuda))\n",
        "torchvision.transforms.ToPILImage()(output[0].to(torch.device('cpu')))"
      ],
      "execution_count": 22,
      "outputs": [
        {
          "output_type": "execute_result",
          "data": {
            "image/png": "[encoded data removed]",
            "text/plain": [
              "<PIL.Image.Image image mode=L size=200x200 at 0x7F1CAAC99550>"
            ]
          },
          "metadata": {
            "tags": []
          },
          "execution_count": 22
        }
      ]
    },
    {
      "cell_type": "code",
      "metadata": {
        "ExecuteTime": {
          "end_time": "2019-10-16T16:00:26.820187Z",
          "start_time": "2019-10-16T16:00:26.782134Z"
        },
        "colab_type": "code",
        "id": "50wEcfwn7GdT",
        "colab": {
          "base_uri": "https://localhost:8080/",
          "height": 235
        },
        "outputId": "a1efbeab-8988-4bbd-96e6-6cf7c6a455c2"
      },
      "source": [
        "(i, batch) = next(gen)\n",
        "print(i)\n",
        "torchvision.transforms.ToPILImage()(batch['image'][0])"
      ],
      "execution_count": 23,
      "outputs": [
        {
          "output_type": "stream",
          "text": [
            "1\n"
          ],
          "name": "stdout"
        },
        {
          "output_type": "execute_result",
          "data": {
            "image/png": "[encoded data removed]",
            "text/plain": [
              "<PIL.Image.Image image mode=RGB size=200x200 at 0x7F1CAACAD400>"
            ]
          },
          "metadata": {
            "tags": []
          },
          "execution_count": 23
        }
      ]
    },
    {
      "cell_type": "code",
      "metadata": {
        "ExecuteTime": {
          "end_time": "2019-10-16T16:00:26.938950Z",
          "start_time": "2019-10-16T16:00:26.822650Z"
        },
        "colab_type": "code",
        "id": "jPJNGkVl7GdX",
        "colab": {
          "base_uri": "https://localhost:8080/",
          "height": 217
        },
        "outputId": "3ddc1a92-a280-447d-a096-b494b691a637"
      },
      "source": [
        "torchvision.transforms.ToPILImage()(batch['mask'][0])"
      ],
      "execution_count": 24,
      "outputs": [
        {
          "output_type": "execute_result",
          "data": {
            "image/png": "[encoded data removed]",
            "text/plain": [
              "<PIL.Image.Image image mode=L size=200x200 at 0x7F1CAAC99F60>"
            ]
          },
          "metadata": {
            "tags": []
          },
          "execution_count": 24
        }
      ]
    },
    {
      "cell_type": "code",
      "metadata": {
        "ExecuteTime": {
          "end_time": "2019-10-16T16:00:27.163993Z",
          "start_time": "2019-10-16T16:00:26.943922Z"
        },
        "colab_type": "code",
        "id": "-Z-yuYFO7Gdb",
        "colab": {
          "base_uri": "https://localhost:8080/",
          "height": 217
        },
        "outputId": "f894b1fc-af21-48af-e4bd-4fa807cb29cf"
      },
      "source": [
        "output = network(batch['image'].to(cuda))\n",
        "torchvision.transforms.ToPILImage()(output[0].to(torch.device('cpu')))"
      ],
      "execution_count": 25,
      "outputs": [
        {
          "output_type": "execute_result",
          "data": {
            "image/png": "[encoded data removed]",
            "text/plain": [
              "<PIL.Image.Image image mode=L size=200x200 at 0x7F1CAAC999B0>"
            ]
          },
          "metadata": {
            "tags": []
          },
          "execution_count": 25
        }
      ]
    },
    {
      "cell_type": "code",
      "metadata": {
        "ExecuteTime": {
          "end_time": "2019-10-16T16:00:27.205635Z",
          "start_time": "2019-10-16T16:00:27.169502Z"
        },
        "colab_type": "code",
        "id": "JPoRjhUm7Gde",
        "colab": {
          "base_uri": "https://localhost:8080/",
          "height": 235
        },
        "outputId": "dd38c822-0af9-4fc5-921f-ccff4eb61cc0"
      },
      "source": [
        "(i, batch) = next(gen)\n",
        "print(i)\n",
        "torchvision.transforms.ToPILImage()(batch['image'][0])"
      ],
      "execution_count": 26,
      "outputs": [
        {
          "output_type": "stream",
          "text": [
            "2\n"
          ],
          "name": "stdout"
        },
        {
          "output_type": "execute_result",
          "data": {
            "image/png": "[encoded data removed]",
            "text/plain": [
              "<PIL.Image.Image image mode=RGB size=200x200 at 0x7F1CAACB6278>"
            ]
          },
          "metadata": {
            "tags": []
          },
          "execution_count": 26
        }
      ]
    },
    {
      "cell_type": "code",
      "metadata": {
        "ExecuteTime": {
          "end_time": "2019-10-16T16:00:27.326710Z",
          "start_time": "2019-10-16T16:00:27.212912Z"
        },
        "colab_type": "code",
        "id": "MrDQiDfm7Gdg",
        "colab": {
          "base_uri": "https://localhost:8080/",
          "height": 217
        },
        "outputId": "c97cdf3a-ff9d-4097-a716-1526ffed9613"
      },
      "source": [
        "torchvision.transforms.ToPILImage()(batch['mask'][0])"
      ],
      "execution_count": 27,
      "outputs": [
        {
          "output_type": "execute_result",
          "data": {
            "image/png": "[encoded data removed]",
            "text/plain": [
              "<PIL.Image.Image image mode=L size=200x200 at 0x7F1CAAC990B8>"
            ]
          },
          "metadata": {
            "tags": []
          },
          "execution_count": 27
        }
      ]
    },
    {
      "cell_type": "code",
      "metadata": {
        "ExecuteTime": {
          "end_time": "2019-10-16T16:00:27.518757Z",
          "start_time": "2019-10-16T16:00:27.330703Z"
        },
        "colab_type": "code",
        "id": "LCHKeG857Gdj",
        "colab": {
          "base_uri": "https://localhost:8080/",
          "height": 217
        },
        "outputId": "71346d16-aaf3-4e12-c117-f6afe33abb11"
      },
      "source": [
        "output = network(batch['image'].to(cuda))\n",
        "torchvision.transforms.ToPILImage()(output[0].to(torch.device('cpu')))"
      ],
      "execution_count": 28,
      "outputs": [
        {
          "output_type": "execute_result",
          "data": {
            "image/png": "[encoded data removed]",
            "text/plain": [
              "<PIL.Image.Image image mode=L size=200x200 at 0x7F1CAACB6BA8>"
            ]
          },
          "metadata": {
            "tags": []
          },
          "execution_count": 28
        }
      ]
    },
    {
      "cell_type": "code",
      "metadata": {
        "colab_type": "code",
        "id": "72NJLjf67Gdm",
        "colab": {}
      },
      "source": [
        ""
      ],
      "execution_count": 0,
      "outputs": []
    },
    {
      "cell_type": "code",
      "metadata": {
        "colab_type": "code",
        "id": "z7S1kjSl7Gdo",
        "colab": {}
      },
      "source": [
        ""
      ],
      "execution_count": 0,
      "outputs": []
    }
  ]
}