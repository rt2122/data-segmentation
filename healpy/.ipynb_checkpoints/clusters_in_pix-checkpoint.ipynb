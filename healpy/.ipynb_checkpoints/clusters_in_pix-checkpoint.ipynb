{
 "cells": [
  {
   "cell_type": "code",
   "execution_count": 3,
   "metadata": {
    "ExecuteTime": {
     "end_time": "2020-04-06T12:28:45.992891Z",
     "start_time": "2020-04-06T12:28:45.218363Z"
    }
   },
   "outputs": [],
   "source": [
    "import matplotlib.pyplot as plt\n",
    "%matplotlib inline\n",
    "import numpy as np\n",
    "import healpy as hp\n",
    "import astropy\n",
    "from astropy import units as u\n",
    "from astropy.coordinates import SkyCoord"
   ]
  },
  {
   "cell_type": "code",
   "execution_count": 70,
   "metadata": {
    "ExecuteTime": {
     "end_time": "2020-04-06T13:14:46.476069Z",
     "start_time": "2020-04-06T13:14:46.464372Z"
    }
   },
   "outputs": [],
   "source": [
    "def obj_in_pix(nside, ra, dec):\n",
    "    from math import pi, modf\n",
    "    sc = SkyCoord(ra=ra*u.degree, dec=dec*u.degree, frame='icrs') \n",
    "    galactic_coords = sc.galactic\n",
    "    theta = galactic_coords.l.radian\n",
    "    phi = galactic_coords.b.radian\n",
    "    if (theta > pi):\n",
    "        theta -= modf((theta / pi))[1] * pi\n",
    "    vec = hp.ang2vec(theta, phi)\n",
    "    pix = hp.vec2pix(nside=nside, x=vec[0], y=vec[1], z=vec[2], nest=True)\n",
    "    return pix"
   ]
  },
  {
   "cell_type": "code",
   "execution_count": 5,
   "metadata": {
    "ExecuteTime": {
     "end_time": "2020-04-06T12:43:45.784459Z",
     "start_time": "2020-04-06T12:43:43.205339Z"
    }
   },
   "outputs": [],
   "source": [
    "import pandas as pd"
   ]
  },
  {
   "cell_type": "code",
   "execution_count": 6,
   "metadata": {
    "ExecuteTime": {
     "end_time": "2020-04-06T12:44:11.880410Z",
     "start_time": "2020-04-06T12:44:11.548326Z"
    }
   },
   "outputs": [],
   "source": [
    "planck_z = pd.read_csv('../data_src/planck_z.csv')"
   ]
  },
  {
   "cell_type": "code",
   "execution_count": 9,
   "metadata": {
    "ExecuteTime": {
     "end_time": "2020-04-06T12:45:16.984665Z",
     "start_time": "2020-04-06T12:45:16.918766Z"
    }
   },
   "outputs": [
    {
     "data": {
      "text/html": [
       "<div>\n",
       "<style scoped>\n",
       "    .dataframe tbody tr th:only-of-type {\n",
       "        vertical-align: middle;\n",
       "    }\n",
       "\n",
       "    .dataframe tbody tr th {\n",
       "        vertical-align: top;\n",
       "    }\n",
       "\n",
       "    .dataframe thead th {\n",
       "        text-align: right;\n",
       "    }\n",
       "</style>\n",
       "<table border=\"1\" class=\"dataframe\">\n",
       "  <thead>\n",
       "    <tr style=\"text-align: right;\">\n",
       "      <th></th>\n",
       "      <th>Unnamed: 0</th>\n",
       "      <th>Name</th>\n",
       "      <th>RAdeg</th>\n",
       "      <th>DEdeg</th>\n",
       "      <th>z</th>\n",
       "      <th>MSZ</th>\n",
       "      <th>MCXC</th>\n",
       "      <th>RedMAPPer</th>\n",
       "    </tr>\n",
       "  </thead>\n",
       "  <tbody>\n",
       "    <tr>\n",
       "      <th>0</th>\n",
       "      <td>0</td>\n",
       "      <td>PSZ2 G000.04+45.13</td>\n",
       "      <td>229.190512</td>\n",
       "      <td>-1.017222</td>\n",
       "      <td>0.1198</td>\n",
       "      <td>3.962411</td>\n",
       "      <td>J1516.5-0056</td>\n",
       "      <td>RMJ151653.9-010506.3</td>\n",
       "    </tr>\n",
       "    <tr>\n",
       "      <th>1</th>\n",
       "      <td>1</td>\n",
       "      <td>PSZ2 G000.13+78.04</td>\n",
       "      <td>203.558683</td>\n",
       "      <td>20.255990</td>\n",
       "      <td>0.1710</td>\n",
       "      <td>5.122391</td>\n",
       "      <td>J1334.1+2013</td>\n",
       "      <td>RMJ133408.7+201453.0</td>\n",
       "    </tr>\n",
       "    <tr>\n",
       "      <th>2</th>\n",
       "      <td>2</td>\n",
       "      <td>PSZ2 G000.40-41.86</td>\n",
       "      <td>316.084485</td>\n",
       "      <td>-41.354169</td>\n",
       "      <td>0.1651</td>\n",
       "      <td>5.297053</td>\n",
       "      <td>J2104.3-4120</td>\n",
       "      <td></td>\n",
       "    </tr>\n",
       "    <tr>\n",
       "      <th>3</th>\n",
       "      <td>3</td>\n",
       "      <td>PSZ2 G000.77-35.69</td>\n",
       "      <td>307.972844</td>\n",
       "      <td>-40.598725</td>\n",
       "      <td>0.3416</td>\n",
       "      <td>6.333562</td>\n",
       "      <td>J2031.8-4037</td>\n",
       "      <td></td>\n",
       "    </tr>\n",
       "    <tr>\n",
       "      <th>4</th>\n",
       "      <td>5</td>\n",
       "      <td>PSZ2 G002.08-68.28</td>\n",
       "      <td>349.632431</td>\n",
       "      <td>-36.332559</td>\n",
       "      <td>0.1400</td>\n",
       "      <td>2.835297</td>\n",
       "      <td></td>\n",
       "      <td></td>\n",
       "    </tr>\n",
       "  </tbody>\n",
       "</table>\n",
       "</div>"
      ],
      "text/plain": [
       "   Unnamed: 0                Name       RAdeg      DEdeg       z       MSZ  \\\n",
       "0           0  PSZ2 G000.04+45.13  229.190512  -1.017222  0.1198  3.962411   \n",
       "1           1  PSZ2 G000.13+78.04  203.558683  20.255990  0.1710  5.122391   \n",
       "2           2  PSZ2 G000.40-41.86  316.084485 -41.354169  0.1651  5.297053   \n",
       "3           3  PSZ2 G000.77-35.69  307.972844 -40.598725  0.3416  6.333562   \n",
       "4           5  PSZ2 G002.08-68.28  349.632431 -36.332559  0.1400  2.835297   \n",
       "\n",
       "           MCXC             RedMAPPer  \n",
       "0  J1516.5-0056  RMJ151653.9-010506.3  \n",
       "1  J1334.1+2013  RMJ133408.7+201453.0  \n",
       "2  J2104.3-4120                        \n",
       "3  J2031.8-4037                        \n",
       "4                                      "
      ]
     },
     "execution_count": 9,
     "metadata": {},
     "output_type": "execute_result"
    }
   ],
   "source": [
    "planck_z.head()"
   ]
  },
  {
   "cell_type": "code",
   "execution_count": 13,
   "metadata": {
    "ExecuteTime": {
     "end_time": "2020-04-06T12:46:14.140366Z",
     "start_time": "2020-04-06T12:46:14.137262Z"
    }
   },
   "outputs": [],
   "source": [
    "planck_z['pix'] = None"
   ]
  },
  {
   "cell_type": "code",
   "execution_count": 71,
   "metadata": {
    "ExecuteTime": {
     "end_time": "2020-04-06T13:14:53.867834Z",
     "start_time": "2020-04-06T13:14:49.151531Z"
    }
   },
   "outputs": [],
   "source": [
    "for i in range(planck_z.shape[0]):\n",
    "    planck_z.loc[i, 'pix'] = obj_in_pix(nside=2, ra=planck_z.iloc[i]['RAdeg'], dec=planck_z.iloc[i]['DEdeg'])"
   ]
  },
  {
   "cell_type": "code",
   "execution_count": 72,
   "metadata": {
    "ExecuteTime": {
     "end_time": "2020-04-06T13:15:03.343911Z",
     "start_time": "2020-04-06T13:15:03.332907Z"
    }
   },
   "outputs": [
    {
     "data": {
      "text/html": [
       "<div>\n",
       "<style scoped>\n",
       "    .dataframe tbody tr th:only-of-type {\n",
       "        vertical-align: middle;\n",
       "    }\n",
       "\n",
       "    .dataframe tbody tr th {\n",
       "        vertical-align: top;\n",
       "    }\n",
       "\n",
       "    .dataframe thead th {\n",
       "        text-align: right;\n",
       "    }\n",
       "</style>\n",
       "<table border=\"1\" class=\"dataframe\">\n",
       "  <thead>\n",
       "    <tr style=\"text-align: right;\">\n",
       "      <th></th>\n",
       "      <th>Unnamed: 0</th>\n",
       "      <th>Name</th>\n",
       "      <th>RAdeg</th>\n",
       "      <th>DEdeg</th>\n",
       "      <th>z</th>\n",
       "      <th>MSZ</th>\n",
       "      <th>MCXC</th>\n",
       "      <th>RedMAPPer</th>\n",
       "      <th>pix</th>\n",
       "    </tr>\n",
       "  </thead>\n",
       "  <tbody>\n",
       "    <tr>\n",
       "      <th>0</th>\n",
       "      <td>0</td>\n",
       "      <td>PSZ2 G000.04+45.13</td>\n",
       "      <td>229.190512</td>\n",
       "      <td>-1.017222</td>\n",
       "      <td>0.1198</td>\n",
       "      <td>3.962411</td>\n",
       "      <td>J1516.5-0056</td>\n",
       "      <td>RMJ151653.9-010506.3</td>\n",
       "      <td>3</td>\n",
       "    </tr>\n",
       "    <tr>\n",
       "      <th>1</th>\n",
       "      <td>1</td>\n",
       "      <td>PSZ2 G000.13+78.04</td>\n",
       "      <td>203.558683</td>\n",
       "      <td>20.255990</td>\n",
       "      <td>0.1710</td>\n",
       "      <td>5.122391</td>\n",
       "      <td>J1334.1+2013</td>\n",
       "      <td>RMJ133408.7+201453.0</td>\n",
       "      <td>3</td>\n",
       "    </tr>\n",
       "    <tr>\n",
       "      <th>2</th>\n",
       "      <td>2</td>\n",
       "      <td>PSZ2 G000.40-41.86</td>\n",
       "      <td>316.084485</td>\n",
       "      <td>-41.354169</td>\n",
       "      <td>0.1651</td>\n",
       "      <td>5.297053</td>\n",
       "      <td>J2104.3-4120</td>\n",
       "      <td></td>\n",
       "      <td>15</td>\n",
       "    </tr>\n",
       "    <tr>\n",
       "      <th>3</th>\n",
       "      <td>3</td>\n",
       "      <td>PSZ2 G000.77-35.69</td>\n",
       "      <td>307.972844</td>\n",
       "      <td>-40.598725</td>\n",
       "      <td>0.3416</td>\n",
       "      <td>6.333562</td>\n",
       "      <td>J2031.8-4037</td>\n",
       "      <td></td>\n",
       "      <td>15</td>\n",
       "    </tr>\n",
       "    <tr>\n",
       "      <th>4</th>\n",
       "      <td>5</td>\n",
       "      <td>PSZ2 G002.08-68.28</td>\n",
       "      <td>349.632431</td>\n",
       "      <td>-36.332559</td>\n",
       "      <td>0.1400</td>\n",
       "      <td>2.835297</td>\n",
       "      <td></td>\n",
       "      <td></td>\n",
       "      <td>15</td>\n",
       "    </tr>\n",
       "  </tbody>\n",
       "</table>\n",
       "</div>"
      ],
      "text/plain": [
       "   Unnamed: 0                Name       RAdeg      DEdeg       z       MSZ  \\\n",
       "0           0  PSZ2 G000.04+45.13  229.190512  -1.017222  0.1198  3.962411   \n",
       "1           1  PSZ2 G000.13+78.04  203.558683  20.255990  0.1710  5.122391   \n",
       "2           2  PSZ2 G000.40-41.86  316.084485 -41.354169  0.1651  5.297053   \n",
       "3           3  PSZ2 G000.77-35.69  307.972844 -40.598725  0.3416  6.333562   \n",
       "4           5  PSZ2 G002.08-68.28  349.632431 -36.332559  0.1400  2.835297   \n",
       "\n",
       "           MCXC             RedMAPPer  pix  \n",
       "0  J1516.5-0056  RMJ151653.9-010506.3    3  \n",
       "1  J1334.1+2013  RMJ133408.7+201453.0    3  \n",
       "2  J2104.3-4120                         15  \n",
       "3  J2031.8-4037                         15  \n",
       "4                                       15  "
      ]
     },
     "execution_count": 72,
     "metadata": {},
     "output_type": "execute_result"
    }
   ],
   "source": [
    "planck_z.head()"
   ]
  },
  {
   "cell_type": "code",
   "execution_count": 74,
   "metadata": {
    "ExecuteTime": {
     "end_time": "2020-04-06T13:15:48.261664Z",
     "start_time": "2020-04-06T13:15:48.256785Z"
    }
   },
   "outputs": [
    {
     "data": {
      "text/plain": [
       "{0,\n",
       " 1,\n",
       " 2,\n",
       " 3,\n",
       " 12,\n",
       " 13,\n",
       " 14,\n",
       " 15,\n",
       " 16,\n",
       " 17,\n",
       " 18,\n",
       " 19,\n",
       " 20,\n",
       " 22,\n",
       " 23,\n",
       " 28,\n",
       " 29,\n",
       " 31,\n",
       " 32,\n",
       " 33,\n",
       " 34,\n",
       " 35,\n",
       " 44,\n",
       " 45,\n",
       " 46,\n",
       " 47}"
      ]
     },
     "execution_count": 74,
     "metadata": {},
     "output_type": "execute_result"
    }
   ],
   "source": [
    "set(planck_z['pix'])"
   ]
  },
  {
   "cell_type": "code",
   "execution_count": null,
   "metadata": {},
   "outputs": [],
   "source": []
  }
 ],
 "metadata": {
  "kernelspec": {
   "display_name": "Python 3",
   "language": "python",
   "name": "python3"
  },
  "language_info": {
   "codemirror_mode": {
    "name": "ipython",
    "version": 3
   },
   "file_extension": ".py",
   "mimetype": "text/x-python",
   "name": "python",
   "nbconvert_exporter": "python",
   "pygments_lexer": "ipython3",
   "version": "3.7.3"
  }
 },
 "nbformat": 4,
 "nbformat_minor": 2
}
