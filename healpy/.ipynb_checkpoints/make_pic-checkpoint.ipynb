{
 "cells": [
  {
   "cell_type": "code",
   "execution_count": 61,
   "metadata": {
    "ExecuteTime": {
     "end_time": "2020-04-10T21:50:41.817528Z",
     "start_time": "2020-04-10T21:50:39.726222Z"
    }
   },
   "outputs": [],
   "source": [
    "import matplotlib.pyplot as plt\n",
    "%matplotlib inline\n",
    "import numpy as np\n",
    "import healpy as hp\n",
    "from astropy import units as u\n",
    "from astropy.coordinates import SkyCoord"
   ]
  },
  {
   "cell_type": "code",
   "execution_count": 55,
   "metadata": {
    "ExecuteTime": {
     "end_time": "2020-04-10T21:40:51.722526Z",
     "start_time": "2020-04-10T21:40:51.705694Z"
    }
   },
   "outputs": [],
   "source": [
    "def show_pix(a, nside=2**11):\n",
    "    m = np.zeros((hp.nside2npix(nside)), dtype=np.int32)\n",
    "    i = 0\n",
    "    for npix in a:\n",
    "        vec = hp.pix2vec(nside=nside, ipix=npix, nest=True)\n",
    "        ipix_disc = hp.query_disc(nside=nside, vec=vec, radius=np.radians(1), nest=True)\n",
    "        m[ipix_disc] = 1 + i\n",
    "        i += 1\n",
    "    hp.mollview(m, title=\"Mollview image NEST\", nest=True)"
   ]
  },
  {
   "cell_type": "code",
   "execution_count": 65,
   "metadata": {
    "ExecuteTime": {
     "end_time": "2020-04-10T21:55:53.555203Z",
     "start_time": "2020-04-10T21:55:53.534769Z"
    }
   },
   "outputs": [],
   "source": [
    "def make_pic(center_pix, size=64, nside=2**11):\n",
    "    \n",
    "    def get_neighbours(npix):\n",
    "        theta, phi = hp.pix2ang(nside=nside, ipix=npix, nest=True)\n",
    "        neighbours = hp.get_all_neighbours(nside=nside, theta=theta, phi=phi, nest=True)\n",
    "        return neighbours\n",
    "    \n",
    "    \n",
    "    picture_pixels_idx = [center_pix]\n",
    "    picture_pixels_idx.extend(get_neighbours(center_pix)[:3])\n",
    "    \n",
    "    half = size // 2\n",
    "    far_pix = None\n",
    "    for i in range(half):\n",
    "        next_idx = set(picture_pixels_idx)\n",
    "        for pix in picture_pixels_idx:\n",
    "            next_idx = next_idx.union(set(get_neighbours(pix)))\n",
    "            \n",
    "        if i == half - 1:\n",
    "            far_pix = next_idx.difference(picture_pixels_idx)\n",
    "        else:\n",
    "            picture_pixels_idx = next_idx\n",
    "    \n",
    "    far_pix = list(far_pix)\n",
    "    picture_pixels_idx = list(picture_pixels_idx)\n",
    "    \n",
    "    \n",
    "    def dist_pixels(apix, bpix):\n",
    "        theta, phi = hp.pix2ang(nest=True, nside=nside, ipix=apix)\n",
    "        a = SkyCoord(frame='galactic', l=theta*u.radian, b=phi*u.radian)\n",
    "        theta, phi = hp.pix2ang(nest=True, nside=nside, ipix=bpix)\n",
    "        b = SkyCoord(frame='galactic', l=theta*u.radian, b=phi*u.radian)\n",
    "        return a.separation(b).degree\n",
    "    \n",
    "    dist = max(dist_pixels(center_pix, far_pix))\n",
    "    \n",
    "    return picture_pixels_idx, dist"
   ]
  },
  {
   "cell_type": "code",
   "execution_count": 66,
   "metadata": {
    "ExecuteTime": {
     "end_time": "2020-04-10T21:55:57.107137Z",
     "start_time": "2020-04-10T21:55:54.199309Z"
    }
   },
   "outputs": [
    {
     "name": "stdout",
     "output_type": "stream",
     "text": [
      "1.4501953124999987\n"
     ]
    }
   ],
   "source": [
    "idx, dist = make_pic(center_pix=6, nside=2**11)\n",
    "print(dist)"
   ]
  },
  {
   "cell_type": "code",
   "execution_count": null,
   "metadata": {},
   "outputs": [],
   "source": []
  }
 ],
 "metadata": {
  "kernelspec": {
   "display_name": "Python 3",
   "language": "python",
   "name": "python3"
  },
  "language_info": {
   "codemirror_mode": {
    "name": "ipython",
    "version": 3
   },
   "file_extension": ".py",
   "mimetype": "text/x-python",
   "name": "python",
   "nbconvert_exporter": "python",
   "pygments_lexer": "ipython3",
   "version": "3.7.3"
  }
 },
 "nbformat": 4,
 "nbformat_minor": 2
}
