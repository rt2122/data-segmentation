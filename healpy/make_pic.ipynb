{
 "cells": [
  {
   "cell_type": "code",
   "execution_count": 1,
   "metadata": {
    "ExecuteTime": {
     "end_time": "2020-04-10T21:29:31.654019Z",
     "start_time": "2020-04-10T21:29:31.268892Z"
    }
   },
   "outputs": [],
   "source": [
    "import matplotlib.pyplot as plt\n",
    "%matplotlib inline\n",
    "import numpy as np\n",
    "import healpy as hp"
   ]
  },
  {
   "cell_type": "code",
   "execution_count": 55,
   "metadata": {
    "ExecuteTime": {
     "end_time": "2020-04-10T21:40:51.722526Z",
     "start_time": "2020-04-10T21:40:51.705694Z"
    }
   },
   "outputs": [],
   "source": [
    "def show_pix(a, nside=2**11):\n",
    "    m = np.zeros((hp.nside2npix(nside)), dtype=np.int32)\n",
    "    i = 0\n",
    "    for npix in a:\n",
    "        vec = hp.pix2vec(nside=nside, ipix=npix, nest=True)\n",
    "        ipix_disc = hp.query_disc(nside=nside, vec=vec, radius=np.radians(1), nest=True)\n",
    "        m[ipix_disc] = 1 + i\n",
    "        i += 1\n",
    "    hp.mollview(m, title=\"Mollview image NEST\", nest=True)"
   ]
  },
  {
   "cell_type": "code",
   "execution_count": 57,
   "metadata": {
    "ExecuteTime": {
     "end_time": "2020-04-10T21:41:13.841054Z",
     "start_time": "2020-04-10T21:41:13.824675Z"
    }
   },
   "outputs": [],
   "source": [
    "def make_pic(center_pix, size=64, nside=2**11):\n",
    "    \n",
    "    def get_neighbours(npix):\n",
    "        theta, phi = hp.pix2ang(nside=nside, ipix=npix, nest=True)\n",
    "        neighbours = hp.get_all_neighbours(nside=nside, theta=theta, phi=phi, nest=True)\n",
    "        return neighbours\n",
    "    \n",
    "    \n",
    "    picture_pixels_idx = [center_pix]\n",
    "    picture_pixels_idx.extend(get_neighbours(center_pix)[:3])\n",
    "    \n",
    "    half = size // 2\n",
    "    for i in range(half - 1):\n",
    "        next_idx = set(picture_pixels_idx)\n",
    "        for pix in picture_pixels_idx:\n",
    "            next_idx = next_idx.union(set(get_neighbours(pix)))\n",
    "        picture_pixels_idx = next_idx\n",
    "    \n",
    "    picture_pixels_idx = list(picture_pixels_idx)\n",
    "    print(len(picture_pixels_idx))\n",
    "    show_pix(picture_pixels_idx, nside) "
   ]
  },
  {
   "cell_type": "code",
   "execution_count": 60,
   "metadata": {
    "ExecuteTime": {
     "end_time": "2020-04-10T21:42:01.729638Z",
     "start_time": "2020-04-10T21:41:58.882990Z"
    }
   },
   "outputs": [
    {
     "name": "stdout",
     "output_type": "stream",
     "text": [
      "4096\n"
     ]
    },
    {
     "data": {
      "image/png": "[encoded data removed]",
      "text/plain": [
       "<Figure size 612x388.8 with 2 Axes>"
      ]
     },
     "metadata": {
      "needs_background": "light"
     },
     "output_type": "display_data"
    }
   ],
   "source": [
    "make_pic(center_pix=6, nside=2**7)"
   ]
  },
  {
   "cell_type": "code",
   "execution_count": null,
   "metadata": {},
   "outputs": [],
   "source": []
  }
 ],
 "metadata": {
  "kernelspec": {
   "display_name": "Python 3",
   "language": "python",
   "name": "python3"
  },
  "language_info": {
   "codemirror_mode": {
    "name": "ipython",
    "version": 3
   },
   "file_extension": ".py",
   "mimetype": "text/x-python",
   "name": "python",
   "nbconvert_exporter": "python",
   "pygments_lexer": "ipython3",
   "version": "3.7.3"
  }
 },
 "nbformat": 4,
 "nbformat_minor": 2
}
