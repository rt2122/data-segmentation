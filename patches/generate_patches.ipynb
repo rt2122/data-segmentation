{
 "cells": [
  {
   "cell_type": "code",
   "execution_count": 1,
   "metadata": {
    "ExecuteTime": {
     "end_time": "2020-04-11T17:42:21.057765Z",
     "start_time": "2020-04-11T17:42:18.047710Z"
    }
   },
   "outputs": [],
   "source": [
    "import healpy as hp\n",
    "import pandas as pd\n",
    "import numpy as np\n",
    "import astropy\n",
    "from astropy import units as u\n",
    "from astropy.coordinates import SkyCoord\n",
    "%matplotlib inline"
   ]
  },
  {
   "cell_type": "code",
   "execution_count": 18,
   "metadata": {
    "ExecuteTime": {
     "end_time": "2020-04-08T15:44:29.894889Z",
     "start_time": "2020-04-08T15:44:29.873522Z"
    }
   },
   "outputs": [],
   "source": [
    "planck_z = pd.read_csv('../healpy/planck_z.csv')"
   ]
  },
  {
   "cell_type": "code",
   "execution_count": 19,
   "metadata": {
    "ExecuteTime": {
     "end_time": "2020-04-08T15:44:32.265749Z",
     "start_time": "2020-04-08T15:44:32.254679Z"
    }
   },
   "outputs": [],
   "source": [
    "def ra_dec_distance(ra, dec, ra1, dec1):\n",
    "    import numpy as np\n",
    "    from astropy import units as u\n",
    "    from astropy.coordinates import SkyCoord\n",
    "    c1 = SkyCoord(ra=ra, dec=dec, unit='deg')\n",
    "    c2 = SkyCoord(ra=ra1, dec=dec1, unit='deg')\n",
    "    sep = c1.separation(c2)\n",
    "    return sep.degree"
   ]
  },
  {
   "cell_type": "code",
   "execution_count": 20,
   "metadata": {
    "ExecuteTime": {
     "end_time": "2020-04-08T15:44:32.735189Z",
     "start_time": "2020-04-08T15:44:32.726749Z"
    }
   },
   "outputs": [],
   "source": [
    "def n_src_in_radius(cat, center, radius):\n",
    "    #center : [ra dec]\n",
    "    dists = ra_dec_distance(center[0], center[1], cat['RAdeg'], cat['DEdeg'])\n",
    "    return np.count_nonzero(dists < radius.degree) "
   ]
  },
  {
   "cell_type": "code",
   "execution_count": 21,
   "metadata": {
    "ExecuteTime": {
     "end_time": "2020-04-08T15:44:34.609651Z",
     "start_time": "2020-04-08T15:44:34.606010Z"
    }
   },
   "outputs": [],
   "source": [
    "def n_pix2ra_dec(npix, nside):\n",
    "    theta, phi = hp.pix2ang(nside=nside, ipix=[npix], nest=True, lonlat=True)\n",
    "    sc = SkyCoord(l=theta*u.degree, b=phi*u.degree, frame='galactic')\n",
    "    return sc.icrs.ra.degree, sc.icrs.dec.degree"
   ]
  },
  {
   "cell_type": "code",
   "execution_count": 26,
   "metadata": {
    "ExecuteTime": {
     "end_time": "2020-04-08T15:45:12.712151Z",
     "start_time": "2020-04-08T15:45:12.695305Z"
    }
   },
   "outputs": [],
   "source": [
    "def gen_centers(cat, n, radius=astropy.coordinates.Angle('1d'), nside=2**11, func=None):\n",
    "    npix = hp.nside2npix(nside)\n",
    "    a = np.arange(npix)\n",
    "    if not (func is None):\n",
    "        a = a[func(a, nside=nside)]\n",
    "    ans = []\n",
    "    while len(ans) < n:\n",
    "        num = np.random.choice(a)\n",
    "        if n_src_in_radius(cat, n_pix2ra_dec(num, nside), radius) > 0:\n",
    "            ans.append(num)\n",
    "    return np.array(ans)"
   ]
  },
  {
   "cell_type": "code",
   "execution_count": 30,
   "metadata": {
    "ExecuteTime": {
     "end_time": "2020-04-08T15:45:54.742449Z",
     "start_time": "2020-04-08T15:45:46.013121Z"
    }
   },
   "outputs": [
    {
     "name": "stdout",
     "output_type": "stream",
     "text": [
      "[45367884 42440932 12452791 47777884 35696134 15964125 39068722 21059237\n",
      " 43843129  8870174 47513732 46228438 41782592  3389373  4187208 25085748\n",
      " 24601423  2787388 29361481 35157112]\n"
     ]
    }
   ],
   "source": [
    "a = gen_centers(planck_z, 20)\n",
    "print(a)"
   ]
  },
  {
   "cell_type": "code",
   "execution_count": 28,
   "metadata": {
    "ExecuteTime": {
     "end_time": "2020-04-08T15:45:39.986565Z",
     "start_time": "2020-04-08T15:45:39.982400Z"
    }
   },
   "outputs": [],
   "source": [
    "def show_pix(a, nside=2**11):\n",
    "    m = np.zeros((hp.nside2npix(nside)), dtype=np.int32)\n",
    "    for npix in a:\n",
    "        vec = hp.pix2vec(nside=nside, ipix=npix, nest=True)\n",
    "        ipix_disc = hp.query_disc(nside=nside, vec=vec, radius=np.radians(1), nest=True)\n",
    "        m[ipix_disc] = 1\n",
    "    hp.mollview(m, title=\"Mollview image NEST\", nest=True)"
   ]
  },
  {
   "cell_type": "code",
   "execution_count": 31,
   "metadata": {
    "ExecuteTime": {
     "end_time": "2020-04-08T15:45:57.407984Z",
     "start_time": "2020-04-08T15:45:57.038753Z"
    }
   },
   "outputs": [
    {
     "data": {
      "image/png": "[encoded data removed]",
      "text/plain": [
       "<Figure size 612x388.8 with 2 Axes>"
      ]
     },
     "metadata": {
      "needs_background": "light"
     },
     "output_type": "display_data"
    }
   ],
   "source": [
    "show_pix(a)"
   ]
  },
  {
   "cell_type": "code",
   "execution_count": 2,
   "metadata": {
    "ExecuteTime": {
     "end_time": "2020-04-08T15:41:15.772635Z",
     "start_time": "2020-04-08T15:41:15.761974Z"
    }
   },
   "outputs": [],
   "source": [
    "def in_nth_pix(n, nside, nbig=6, nbigside=2):\n",
    "    vec = hp.pix2vec(nest=True, nside=nside, ipix=n)\n",
    "    return hp.vec2pix(nside=nbigside, x=vec[0], y=vec[1], z=vec[2], nest=True) == nbig"
   ]
  },
  {
   "cell_type": "code",
   "execution_count": 32,
   "metadata": {
    "ExecuteTime": {
     "end_time": "2020-04-08T15:46:18.911023Z",
     "start_time": "2020-04-08T15:46:05.787174Z"
    }
   },
   "outputs": [
    {
     "name": "stdout",
     "output_type": "stream",
     "text": [
      "[6733794 6723465 7259934 6408368 6786904 6864470 6862811 7037222 6954525\n",
      " 7014696 7012400 6963856 7220229 6568223 7083251 7262410 6785299 6800231\n",
      " 6407154 6731494]\n"
     ]
    }
   ],
   "source": [
    "b = gen_centers(planck_z, 20, func=in_nth_pix)\n",
    "print(b)"
   ]
  },
  {
   "cell_type": "code",
   "execution_count": 33,
   "metadata": {
    "ExecuteTime": {
     "end_time": "2020-04-08T15:46:19.238464Z",
     "start_time": "2020-04-08T15:46:18.913115Z"
    }
   },
   "outputs": [
    {
     "data": {
      "image/png": "[encoded data removed]",
      "text/plain": [
       "<Figure size 612x388.8 with 2 Axes>"
      ]
     },
     "metadata": {
      "needs_background": "light"
     },
     "output_type": "display_data"
    }
   ],
   "source": [
    "show_pix(b)"
   ]
  },
  {
   "cell_type": "code",
   "execution_count": 34,
   "metadata": {
    "ExecuteTime": {
     "end_time": "2020-04-08T15:47:38.206439Z",
     "start_time": "2020-04-08T15:47:19.616034Z"
    }
   },
   "outputs": [],
   "source": [
    "patches6 = gen_centers(planck_z, 50, func=in_nth_pix)"
   ]
  },
  {
   "cell_type": "code",
   "execution_count": 40,
   "metadata": {
    "ExecuteTime": {
     "end_time": "2020-04-08T16:07:48.282080Z",
     "start_time": "2020-04-08T16:07:48.274022Z"
    }
   },
   "outputs": [],
   "source": [
    "def pix2radec(npix, nside):\n",
    "    df = pd.DataFrame()\n",
    "    theta, phi = hp.pix2ang(nest=True, ipix=npix, nside=nside, lonlat=True)\n",
    "    sc = SkyCoord(l=theta * u.degree, b = phi * u.degree, frame='galactic')\n",
    "    df['RAdeg'] = sc.icrs.ra.degree\n",
    "    df['DEdeg'] = sc.icrs.dec.degree\n",
    "    return df    "
   ]
  },
  {
   "cell_type": "code",
   "execution_count": 41,
   "metadata": {
    "ExecuteTime": {
     "end_time": "2020-04-08T16:07:48.710974Z",
     "start_time": "2020-04-08T16:07:48.655873Z"
    }
   },
   "outputs": [],
   "source": [
    "df = pix2radec(patches6, 2 ** 11)"
   ]
  },
  {
   "cell_type": "code",
   "execution_count": 45,
   "metadata": {
    "ExecuteTime": {
     "end_time": "2020-04-08T16:10:46.530256Z",
     "start_time": "2020-04-08T16:10:46.519270Z"
    }
   },
   "outputs": [
    {
     "data": {
      "text/html": [
       "<div>\n",
       "<style scoped>\n",
       "    .dataframe tbody tr th:only-of-type {\n",
       "        vertical-align: middle;\n",
       "    }\n",
       "\n",
       "    .dataframe tbody tr th {\n",
       "        vertical-align: top;\n",
       "    }\n",
       "\n",
       "    .dataframe thead th {\n",
       "        text-align: right;\n",
       "    }\n",
       "</style>\n",
       "<table border=\"1\" class=\"dataframe\">\n",
       "  <thead>\n",
       "    <tr style=\"text-align: right;\">\n",
       "      <th></th>\n",
       "      <th>RAdeg</th>\n",
       "      <th>DEdeg</th>\n",
       "    </tr>\n",
       "  </thead>\n",
       "  <tbody>\n",
       "    <tr>\n",
       "      <th>0</th>\n",
       "      <td>217.863483</td>\n",
       "      <td>66.544666</td>\n",
       "    </tr>\n",
       "    <tr>\n",
       "      <th>1</th>\n",
       "      <td>201.670396</td>\n",
       "      <td>59.717376</td>\n",
       "    </tr>\n",
       "    <tr>\n",
       "      <th>2</th>\n",
       "      <td>252.315480</td>\n",
       "      <td>78.270121</td>\n",
       "    </tr>\n",
       "    <tr>\n",
       "      <th>3</th>\n",
       "      <td>199.211097</td>\n",
       "      <td>69.733384</td>\n",
       "    </tr>\n",
       "    <tr>\n",
       "      <th>4</th>\n",
       "      <td>197.642895</td>\n",
       "      <td>64.562792</td>\n",
       "    </tr>\n",
       "  </tbody>\n",
       "</table>\n",
       "</div>"
      ],
      "text/plain": [
       "        RAdeg      DEdeg\n",
       "0  217.863483  66.544666\n",
       "1  201.670396  59.717376\n",
       "2  252.315480  78.270121\n",
       "3  199.211097  69.733384\n",
       "4  197.642895  64.562792"
      ]
     },
     "execution_count": 45,
     "metadata": {},
     "output_type": "execute_result"
    }
   ],
   "source": [
    "df.head()"
   ]
  },
  {
   "cell_type": "code",
   "execution_count": 55,
   "metadata": {
    "ExecuteTime": {
     "end_time": "2020-04-08T16:28:13.229365Z",
     "start_time": "2020-04-08T16:28:13.226608Z"
    }
   },
   "outputs": [],
   "source": [
    "df.index.name = 'id'"
   ]
  },
  {
   "cell_type": "code",
   "execution_count": 56,
   "metadata": {
    "ExecuteTime": {
     "end_time": "2020-04-08T16:28:13.956716Z",
     "start_time": "2020-04-08T16:28:13.947416Z"
    }
   },
   "outputs": [
    {
     "data": {
      "text/html": [
       "<div>\n",
       "<style scoped>\n",
       "    .dataframe tbody tr th:only-of-type {\n",
       "        vertical-align: middle;\n",
       "    }\n",
       "\n",
       "    .dataframe tbody tr th {\n",
       "        vertical-align: top;\n",
       "    }\n",
       "\n",
       "    .dataframe thead th {\n",
       "        text-align: right;\n",
       "    }\n",
       "</style>\n",
       "<table border=\"1\" class=\"dataframe\">\n",
       "  <thead>\n",
       "    <tr style=\"text-align: right;\">\n",
       "      <th></th>\n",
       "      <th>RAdeg</th>\n",
       "      <th>DEdeg</th>\n",
       "    </tr>\n",
       "    <tr>\n",
       "      <th>id</th>\n",
       "      <th></th>\n",
       "      <th></th>\n",
       "    </tr>\n",
       "  </thead>\n",
       "  <tbody>\n",
       "    <tr>\n",
       "      <th>0</th>\n",
       "      <td>217.863483</td>\n",
       "      <td>66.544666</td>\n",
       "    </tr>\n",
       "    <tr>\n",
       "      <th>1</th>\n",
       "      <td>201.670396</td>\n",
       "      <td>59.717376</td>\n",
       "    </tr>\n",
       "    <tr>\n",
       "      <th>2</th>\n",
       "      <td>252.315480</td>\n",
       "      <td>78.270121</td>\n",
       "    </tr>\n",
       "    <tr>\n",
       "      <th>3</th>\n",
       "      <td>199.211097</td>\n",
       "      <td>69.733384</td>\n",
       "    </tr>\n",
       "    <tr>\n",
       "      <th>4</th>\n",
       "      <td>197.642895</td>\n",
       "      <td>64.562792</td>\n",
       "    </tr>\n",
       "  </tbody>\n",
       "</table>\n",
       "</div>"
      ],
      "text/plain": [
       "         RAdeg      DEdeg\n",
       "id                       \n",
       "0   217.863483  66.544666\n",
       "1   201.670396  59.717376\n",
       "2   252.315480  78.270121\n",
       "3   199.211097  69.733384\n",
       "4   197.642895  64.562792"
      ]
     },
     "execution_count": 56,
     "metadata": {},
     "output_type": "execute_result"
    }
   ],
   "source": [
    "df.head()"
   ]
  },
  {
   "cell_type": "code",
   "execution_count": 53,
   "metadata": {
    "ExecuteTime": {
     "end_time": "2020-04-08T16:14:32.932303Z",
     "start_time": "2020-04-08T16:14:32.926598Z"
    }
   },
   "outputs": [
    {
     "name": "stdout",
     "output_type": "stream",
     "text": [
      "index\n"
     ]
    }
   ],
   "source": [
    "print(df.index.name)"
   ]
  },
  {
   "cell_type": "code",
   "execution_count": 57,
   "metadata": {
    "ExecuteTime": {
     "end_time": "2020-04-08T16:28:16.482328Z",
     "start_time": "2020-04-08T16:28:16.474498Z"
    }
   },
   "outputs": [],
   "source": [
    "df.to_csv('./patches_centers6.csv')"
   ]
  },
  {
   "cell_type": "code",
   "execution_count": 2,
   "metadata": {
    "ExecuteTime": {
     "end_time": "2020-04-11T17:42:40.389573Z",
     "start_time": "2020-04-11T17:42:40.051757Z"
    }
   },
   "outputs": [],
   "source": [
    "df = pd.read_csv('./patches_centers6.csv')"
   ]
  },
  {
   "cell_type": "code",
   "execution_count": 3,
   "metadata": {
    "ExecuteTime": {
     "end_time": "2020-04-11T17:42:44.660536Z",
     "start_time": "2020-04-11T17:42:44.627129Z"
    }
   },
   "outputs": [
    {
     "data": {
      "text/html": [
       "<div>\n",
       "<style scoped>\n",
       "    .dataframe tbody tr th:only-of-type {\n",
       "        vertical-align: middle;\n",
       "    }\n",
       "\n",
       "    .dataframe tbody tr th {\n",
       "        vertical-align: top;\n",
       "    }\n",
       "\n",
       "    .dataframe thead th {\n",
       "        text-align: right;\n",
       "    }\n",
       "</style>\n",
       "<table border=\"1\" class=\"dataframe\">\n",
       "  <thead>\n",
       "    <tr style=\"text-align: right;\">\n",
       "      <th></th>\n",
       "      <th>id</th>\n",
       "      <th>RAdeg</th>\n",
       "      <th>DEdeg</th>\n",
       "    </tr>\n",
       "  </thead>\n",
       "  <tbody>\n",
       "    <tr>\n",
       "      <th>0</th>\n",
       "      <td>0</td>\n",
       "      <td>217.863483</td>\n",
       "      <td>66.544666</td>\n",
       "    </tr>\n",
       "    <tr>\n",
       "      <th>1</th>\n",
       "      <td>1</td>\n",
       "      <td>201.670396</td>\n",
       "      <td>59.717376</td>\n",
       "    </tr>\n",
       "    <tr>\n",
       "      <th>2</th>\n",
       "      <td>2</td>\n",
       "      <td>252.315480</td>\n",
       "      <td>78.270121</td>\n",
       "    </tr>\n",
       "    <tr>\n",
       "      <th>3</th>\n",
       "      <td>3</td>\n",
       "      <td>199.211097</td>\n",
       "      <td>69.733384</td>\n",
       "    </tr>\n",
       "    <tr>\n",
       "      <th>4</th>\n",
       "      <td>4</td>\n",
       "      <td>197.642895</td>\n",
       "      <td>64.562792</td>\n",
       "    </tr>\n",
       "  </tbody>\n",
       "</table>\n",
       "</div>"
      ],
      "text/plain": [
       "   id       RAdeg      DEdeg\n",
       "0   0  217.863483  66.544666\n",
       "1   1  201.670396  59.717376\n",
       "2   2  252.315480  78.270121\n",
       "3   3  199.211097  69.733384\n",
       "4   4  197.642895  64.562792"
      ]
     },
     "execution_count": 3,
     "metadata": {},
     "output_type": "execute_result"
    }
   ],
   "source": [
    "df.head()"
   ]
  },
  {
   "cell_type": "code",
   "execution_count": 4,
   "metadata": {
    "ExecuteTime": {
     "end_time": "2020-04-11T17:42:52.397243Z",
     "start_time": "2020-04-11T17:42:52.392348Z"
    }
   },
   "outputs": [
    {
     "data": {
      "text/plain": [
       "(50, 3)"
      ]
     },
     "execution_count": 4,
     "metadata": {},
     "output_type": "execute_result"
    }
   ],
   "source": [
    "df.shape"
   ]
  },
  {
   "cell_type": "code",
   "execution_count": 12,
   "metadata": {
    "ExecuteTime": {
     "end_time": "2020-04-11T17:49:10.987968Z",
     "start_time": "2020-04-11T17:49:10.953391Z"
    }
   },
   "outputs": [
    {
     "data": {
      "text/html": [
       "<div>\n",
       "<style scoped>\n",
       "    .dataframe tbody tr th:only-of-type {\n",
       "        vertical-align: middle;\n",
       "    }\n",
       "\n",
       "    .dataframe tbody tr th {\n",
       "        vertical-align: top;\n",
       "    }\n",
       "\n",
       "    .dataframe thead th {\n",
       "        text-align: right;\n",
       "    }\n",
       "</style>\n",
       "<table border=\"1\" class=\"dataframe\">\n",
       "  <thead>\n",
       "    <tr style=\"text-align: right;\">\n",
       "      <th></th>\n",
       "      <th>RAdeg</th>\n",
       "      <th>DEdeg</th>\n",
       "    </tr>\n",
       "  </thead>\n",
       "  <tbody>\n",
       "    <tr>\n",
       "      <th>0</th>\n",
       "      <td>217.863483</td>\n",
       "      <td>66.544666</td>\n",
       "    </tr>\n",
       "    <tr>\n",
       "      <th>1</th>\n",
       "      <td>201.670396</td>\n",
       "      <td>59.717376</td>\n",
       "    </tr>\n",
       "    <tr>\n",
       "      <th>2</th>\n",
       "      <td>252.315480</td>\n",
       "      <td>78.270121</td>\n",
       "    </tr>\n",
       "    <tr>\n",
       "      <th>3</th>\n",
       "      <td>199.211097</td>\n",
       "      <td>69.733384</td>\n",
       "    </tr>\n",
       "    <tr>\n",
       "      <th>4</th>\n",
       "      <td>197.642895</td>\n",
       "      <td>64.562792</td>\n",
       "    </tr>\n",
       "  </tbody>\n",
       "</table>\n",
       "</div>"
      ],
      "text/plain": [
       "        RAdeg      DEdeg\n",
       "0  217.863483  66.544666\n",
       "1  201.670396  59.717376\n",
       "2  252.315480  78.270121\n",
       "3  199.211097  69.733384\n",
       "4  197.642895  64.562792"
      ]
     },
     "execution_count": 12,
     "metadata": {},
     "output_type": "execute_result"
    }
   ],
   "source": [
    "df.drop(['id'], axis='columns', inplace=True)\n",
    "df.head()"
   ]
  },
  {
   "cell_type": "code",
   "execution_count": 13,
   "metadata": {
    "ExecuteTime": {
     "end_time": "2020-04-11T17:49:31.802623Z",
     "start_time": "2020-04-11T17:49:31.795192Z"
    }
   },
   "outputs": [
    {
     "data": {
      "text/html": [
       "<div>\n",
       "<style scoped>\n",
       "    .dataframe tbody tr th:only-of-type {\n",
       "        vertical-align: middle;\n",
       "    }\n",
       "\n",
       "    .dataframe tbody tr th {\n",
       "        vertical-align: top;\n",
       "    }\n",
       "\n",
       "    .dataframe thead th {\n",
       "        text-align: right;\n",
       "    }\n",
       "</style>\n",
       "<table border=\"1\" class=\"dataframe\">\n",
       "  <thead>\n",
       "    <tr style=\"text-align: right;\">\n",
       "      <th></th>\n",
       "      <th>RAdeg</th>\n",
       "      <th>DEdeg</th>\n",
       "    </tr>\n",
       "    <tr>\n",
       "      <th>id</th>\n",
       "      <th></th>\n",
       "      <th></th>\n",
       "    </tr>\n",
       "  </thead>\n",
       "  <tbody>\n",
       "    <tr>\n",
       "      <th>0</th>\n",
       "      <td>217.863483</td>\n",
       "      <td>66.544666</td>\n",
       "    </tr>\n",
       "    <tr>\n",
       "      <th>1</th>\n",
       "      <td>201.670396</td>\n",
       "      <td>59.717376</td>\n",
       "    </tr>\n",
       "    <tr>\n",
       "      <th>2</th>\n",
       "      <td>252.315480</td>\n",
       "      <td>78.270121</td>\n",
       "    </tr>\n",
       "    <tr>\n",
       "      <th>3</th>\n",
       "      <td>199.211097</td>\n",
       "      <td>69.733384</td>\n",
       "    </tr>\n",
       "    <tr>\n",
       "      <th>4</th>\n",
       "      <td>197.642895</td>\n",
       "      <td>64.562792</td>\n",
       "    </tr>\n",
       "  </tbody>\n",
       "</table>\n",
       "</div>"
      ],
      "text/plain": [
       "         RAdeg      DEdeg\n",
       "id                       \n",
       "0   217.863483  66.544666\n",
       "1   201.670396  59.717376\n",
       "2   252.315480  78.270121\n",
       "3   199.211097  69.733384\n",
       "4   197.642895  64.562792"
      ]
     },
     "execution_count": 13,
     "metadata": {},
     "output_type": "execute_result"
    }
   ],
   "source": [
    "df.index.name = 'id'\n",
    "df.head()"
   ]
  },
  {
   "cell_type": "code",
   "execution_count": 14,
   "metadata": {
    "ExecuteTime": {
     "end_time": "2020-04-11T17:49:35.031752Z",
     "start_time": "2020-04-11T17:49:35.022597Z"
    }
   },
   "outputs": [],
   "source": [
    "for i in range(5):\n",
    "    start = df.shape[0] // 5\n",
    "    start *= i\n",
    "    end = start + df.shape[0] // 5\n",
    "    df[start: end].to_csv('./patch_c%i.csv' % i)"
   ]
  },
  {
   "cell_type": "code",
   "execution_count": null,
   "metadata": {},
   "outputs": [],
   "source": []
  }
 ],
 "metadata": {
  "kernelspec": {
   "display_name": "Python 3",
   "language": "python",
   "name": "python3"
  },
  "language_info": {
   "codemirror_mode": {
    "name": "ipython",
    "version": 3
   },
   "file_extension": ".py",
   "mimetype": "text/x-python",
   "name": "python",
   "nbconvert_exporter": "python",
   "pygments_lexer": "ipython3",
   "version": "3.7.3"
  }
 },
 "nbformat": 4,
 "nbformat_minor": 2
}
