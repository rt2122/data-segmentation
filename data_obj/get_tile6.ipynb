{
 "cells": [
  {
   "cell_type": "code",
   "execution_count": 6,
   "metadata": {
    "ExecuteTime": {
     "end_time": "2020-04-07T13:45:54.930358Z",
     "start_time": "2020-04-07T13:45:54.922470Z"
    }
   },
   "outputs": [],
   "source": [
    "from __future__ import print_function\n",
    "import mastcasjobs\n",
    "\n",
    "query = \"\"\"select s.id, \n",
    "   o.objID, o.raStack, o.decStack, \n",
    "   m.gPSFFlux, m.gPSFFluxErr, m.gKronFlux, m.gKronFluxErr,\n",
    "   m.rPSFFlux, m.rPSFFluxErr, m.rKronFlux, m.rKronFluxErr,\n",
    "   m.iPSFFlux, m.iPSFFluxErr, m.iKronFlux, m.iKronFluxErr,\n",
    "   m.zPSFFlux, m.zPSFFluxErr, m.zKronFlux, m.zKronFluxErr,\n",
    "   m.yPSFFlux, m.yPSFFluxErr, m.yKronFlux, m.yKronFluxErr\n",
    "into MyDB.PSdr2sourcesTile6\n",
    "from MyDB.tile6 s\n",
    "cross apply fGetNearbyObjEq(s.RAdeg,s.DEdeg,60.0) nb\n",
    "inner join ObjectThin o on o.objid=nb.objid\n",
    "inner join StackObjectAttributes m on o.objid=m.objid\n",
    "where m.primaryDetection=1\n",
    "\"\"\"\n",
    "wsid = 1540641525\n",
    "pwd = None\n",
    "with open('/home/rt2122/pass/1.txt', 'r') as f:\n",
    "    pwd = f.readline()[:-1]"
   ]
  },
  {
   "cell_type": "code",
   "execution_count": 7,
   "metadata": {
    "ExecuteTime": {
     "end_time": "2020-04-07T13:45:57.514361Z",
     "start_time": "2020-04-07T13:45:56.659439Z"
    }
   },
   "outputs": [
    {
     "name": "stdout",
     "output_type": "stream",
     "text": [
      "      objID           raMean      decMean   ... zMeanPSFMag yMeanPSFMag\n",
      "------------------ ------------ ----------- ... ----------- -----------\n",
      "122861877184282370  187.7182957 12.38498652 ...      -999.0      -999.0\n",
      "122851877124637737 187.71246038 12.38100607 ...     17.9304     17.5089\n",
      "122881877112164157 187.71126291 12.40316557 ...      -999.0      -999.0\n",
      "122881877085143466 187.70849952 12.40240408 ...     17.8751     17.6812\n",
      "122871877068858435 187.70691412 12.39827131 ...     17.9392      -999.0\n",
      "122881877105204765 187.71049852 12.40351376 ...      -999.0      -999.0\n",
      "122881877095525205 187.70951816 12.40389163 ...      -999.0      -999.0\n",
      "122851877090477761 187.70902684 12.38101662 ...     17.6221      -999.0\n",
      "122851877018527082 187.70183402 12.38053199 ...      -999.0      -999.0\n",
      "122851877062673559 187.70624931 12.37754559 ...      -999.0     18.1421\n",
      "               ...          ...         ... ...         ...         ...\n",
      "122871876946391889 187.69463294 12.39283827 ...      -999.0      -999.0\n",
      "122871876941435711 187.69408039 12.39593305 ...     19.1839      -999.0\n",
      "122871877012582071 187.70129458 12.39292787 ...      -999.0      -999.0\n",
      "122871877026011277 187.70253777 12.39233837 ...     15.7681     16.9338\n",
      "122871877062551436 187.70623044 12.39237139 ...      -999.0     15.1102\n",
      "122871876945758919 187.69449749 12.39870483 ...      -999.0      -999.0\n",
      "122881876951360506 187.69528774 12.40013142 ...      -999.0     17.7803\n",
      "122851877008084336 187.70079968 12.37828008 ...     18.4389      -999.0\n",
      "122861876952960254  187.6953359 12.38301399 ...      -999.0     18.6671\n",
      "122851876947049923 187.69475786 12.38281845 ...     18.1394      -999.0\n",
      "122861876946372059 187.69472326 12.38464777 ...     18.8606      -999.0\n",
      "Length = 45 rows\n"
     ]
    }
   ],
   "source": [
    "jobs = mastcasjobs.MastCasJobs(userid=wsid, password=pwd, context=\"PanSTARRS_DR1\")\n",
    "results = jobs.quick(query, task_name=\"python cone search\")\n",
    "print(results)"
   ]
  },
  {
   "cell_type": "code",
   "execution_count": 9,
   "metadata": {
    "ExecuteTime": {
     "end_time": "2020-04-07T13:49:32.693019Z",
     "start_time": "2020-04-07T13:49:32.410529Z"
    }
   },
   "outputs": [],
   "source": [
    "import pandas as pd\n",
    "tile6 = pd.read_csv('./tile6.csv')"
   ]
  },
  {
   "cell_type": "code",
   "execution_count": 11,
   "metadata": {
    "ExecuteTime": {
     "end_time": "2020-04-07T13:51:04.924021Z",
     "start_time": "2020-04-07T13:51:04.769864Z"
    }
   },
   "outputs": [
    {
     "data": {
      "text/html": [
       "<div>\n",
       "<style scoped>\n",
       "    .dataframe tbody tr th:only-of-type {\n",
       "        vertical-align: middle;\n",
       "    }\n",
       "\n",
       "    .dataframe tbody tr th {\n",
       "        vertical-align: top;\n",
       "    }\n",
       "\n",
       "    .dataframe thead th {\n",
       "        text-align: right;\n",
       "    }\n",
       "</style>\n",
       "<table border=\"1\" class=\"dataframe\">\n",
       "  <thead>\n",
       "    <tr style=\"text-align: right;\">\n",
       "      <th></th>\n",
       "      <th>Unnamed: 0</th>\n",
       "      <th>RAdeg</th>\n",
       "      <th>DEdeg</th>\n",
       "    </tr>\n",
       "  </thead>\n",
       "  <tbody>\n",
       "    <tr>\n",
       "      <th>0</th>\n",
       "      <td>295</td>\n",
       "      <td>227.061350</td>\n",
       "      <td>57.891783</td>\n",
       "    </tr>\n",
       "    <tr>\n",
       "      <th>1</th>\n",
       "      <td>299</td>\n",
       "      <td>238.134593</td>\n",
       "      <td>62.054477</td>\n",
       "    </tr>\n",
       "    <tr>\n",
       "      <th>2</th>\n",
       "      <td>303</td>\n",
       "      <td>218.838751</td>\n",
       "      <td>55.141350</td>\n",
       "    </tr>\n",
       "    <tr>\n",
       "      <th>3</th>\n",
       "      <td>306</td>\n",
       "      <td>223.248775</td>\n",
       "      <td>58.036577</td>\n",
       "    </tr>\n",
       "    <tr>\n",
       "      <th>4</th>\n",
       "      <td>309</td>\n",
       "      <td>246.903435</td>\n",
       "      <td>65.396317</td>\n",
       "    </tr>\n",
       "  </tbody>\n",
       "</table>\n",
       "</div>"
      ],
      "text/plain": [
       "   Unnamed: 0       RAdeg      DEdeg\n",
       "0         295  227.061350  57.891783\n",
       "1         299  238.134593  62.054477\n",
       "2         303  218.838751  55.141350\n",
       "3         306  223.248775  58.036577\n",
       "4         309  246.903435  65.396317"
      ]
     },
     "execution_count": 11,
     "metadata": {},
     "output_type": "execute_result"
    }
   ],
   "source": [
    "tile6.reset_index(drop=True)\n",
    "tile6.head()"
   ]
  },
  {
   "cell_type": "code",
   "execution_count": 12,
   "metadata": {
    "ExecuteTime": {
     "end_time": "2020-04-07T13:51:23.507715Z",
     "start_time": "2020-04-07T13:51:23.489722Z"
    }
   },
   "outputs": [],
   "source": [
    "tile6.to_csv('./tile6.csv')"
   ]
  },
  {
   "cell_type": "code",
   "execution_count": null,
   "metadata": {},
   "outputs": [],
   "source": []
  }
 ],
 "metadata": {
  "kernelspec": {
   "display_name": "Python 3",
   "language": "python",
   "name": "python3"
  },
  "language_info": {
   "codemirror_mode": {
    "name": "ipython",
    "version": 3
   },
   "file_extension": ".py",
   "mimetype": "text/x-python",
   "name": "python",
   "nbconvert_exporter": "python",
   "pygments_lexer": "ipython3",
   "version": "3.7.3"
  }
 },
 "nbformat": 4,
 "nbformat_minor": 2
}
