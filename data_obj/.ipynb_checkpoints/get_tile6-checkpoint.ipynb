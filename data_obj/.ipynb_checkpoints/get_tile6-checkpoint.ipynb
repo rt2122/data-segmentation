{
 "cells": [
  {
   "cell_type": "code",
   "execution_count": 1,
   "metadata": {
    "ExecuteTime": {
     "end_time": "2020-04-07T13:42:46.177766Z",
     "start_time": "2020-04-07T13:42:45.686391Z"
    }
   },
   "outputs": [
    {
     "ename": "FileNotFoundError",
     "evalue": "[Errno 2] No such file or directory: '~/pass/1.txt'",
     "output_type": "error",
     "traceback": [
      "\u001b[0;31m---------------------------------------------------------------------------\u001b[0m",
      "\u001b[0;31mFileNotFoundError\u001b[0m                         Traceback (most recent call last)",
      "\u001b[0;32m<ipython-input-1-c57a00b3066a>\u001b[0m in \u001b[0;36m<module>\u001b[0;34m\u001b[0m\n\u001b[1;32m     15\u001b[0m \u001b[0mwsid\u001b[0m \u001b[0;34m=\u001b[0m \u001b[0;36m1540641525\u001b[0m\u001b[0;34m\u001b[0m\u001b[0;34m\u001b[0m\u001b[0m\n\u001b[1;32m     16\u001b[0m \u001b[0mpwd\u001b[0m \u001b[0;34m=\u001b[0m \u001b[0;32mNone\u001b[0m\u001b[0;34m\u001b[0m\u001b[0;34m\u001b[0m\u001b[0m\n\u001b[0;32m---> 17\u001b[0;31m \u001b[0;32mwith\u001b[0m \u001b[0mopen\u001b[0m\u001b[0;34m(\u001b[0m\u001b[0;34m'~/pass/1.txt'\u001b[0m\u001b[0;34m,\u001b[0m \u001b[0;34m'r'\u001b[0m\u001b[0;34m)\u001b[0m \u001b[0;32mas\u001b[0m \u001b[0mf\u001b[0m\u001b[0;34m:\u001b[0m\u001b[0;34m\u001b[0m\u001b[0;34m\u001b[0m\u001b[0m\n\u001b[0m\u001b[1;32m     18\u001b[0m     \u001b[0mpwd\u001b[0m \u001b[0;34m=\u001b[0m \u001b[0mf\u001b[0m\u001b[0;34m.\u001b[0m\u001b[0mreadline\u001b[0m\u001b[0;34m(\u001b[0m\u001b[0;34m)\u001b[0m\u001b[0;34m\u001b[0m\u001b[0;34m\u001b[0m\u001b[0m\n\u001b[1;32m     19\u001b[0m \u001b[0mprint\u001b[0m\u001b[0;34m(\u001b[0m\u001b[0mpwd\u001b[0m\u001b[0;34m)\u001b[0m\u001b[0;34m\u001b[0m\u001b[0;34m\u001b[0m\u001b[0m\n",
      "\u001b[0;31mFileNotFoundError\u001b[0m: [Errno 2] No such file or directory: '~/pass/1.txt'"
     ]
    }
   ],
   "source": [
    "from __future__ import print_function\n",
    "import mastcasjobs\n",
    "\n",
    "query = \"\"\"select o.objID, o.raMean, o.decMean,\n",
    "o.nDetections, o.ng, o.nr, o.ni, o.nz, o.ny,\n",
    "m.gMeanPSFMag, m.rMeanPSFMag, m.iMeanPSFMag, m.zMeanPSFMag, m.yMeanPSFMag\n",
    "from fGetNearbyObjEq(187.706,12.391,50.0/60.0) nb\n",
    "inner join ObjectThin o on o.objid=nb.objid and o.nDetections>1\n",
    "inner join MeanObject m on o.objid=m.objid and o.uniquePspsOBid=m.uniquePspsOBid\n",
    "\"\"\"\n",
    "\n",
    "# get your WSID from from <http://mastweb.stsci.edu/ps1casjobs/changedetails.aspx> after you login to Casjobs\n",
    "# pwd is your Casjobs password\n",
    "# These can also come from the CASJOBS_WSID and CASJOBS_PW environment variables\n",
    "wsid = 1540641525\n",
    "pwd = None\n",
    "with open('~/pass/1.txt', 'r') as f:\n",
    "    pwd = f.readline()\n",
    "print(pwd)\n",
    "\n"
   ]
  },
  {
   "cell_type": "code",
   "execution_count": null,
   "metadata": {
    "ExecuteTime": {
     "end_time": "2020-04-07T13:42:46.180092Z",
     "start_time": "2020-04-07T13:42:45.686Z"
    }
   },
   "outputs": [],
   "source": [
    "\n",
    "jobs = mastcasjobs.MastCasJobs(userid=wsid, password=pwd, context=\"PanSTARRS_DR1\")\n",
    "results = jobs.quick(query, task_name=\"python cone search\")\n",
    "print(results)"
   ]
  }
 ],
 "metadata": {
  "kernelspec": {
   "display_name": "Python 3",
   "language": "python",
   "name": "python3"
  },
  "language_info": {
   "codemirror_mode": {
    "name": "ipython",
    "version": 3
   },
   "file_extension": ".py",
   "mimetype": "text/x-python",
   "name": "python",
   "nbconvert_exporter": "python",
   "pygments_lexer": "ipython3",
   "version": "3.7.3"
  }
 },
 "nbformat": 4,
 "nbformat_minor": 2
}
