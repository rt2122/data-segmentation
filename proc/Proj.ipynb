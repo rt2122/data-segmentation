{
 "cells": [
  {
   "cell_type": "code",
   "execution_count": 2,
   "metadata": {
    "ExecuteTime": {
     "end_time": "2020-04-29T09:41:39.777530Z",
     "start_time": "2020-04-29T09:41:39.265806Z"
    }
   },
   "outputs": [],
   "source": [
    "import healpy as hp\n",
    "import pandas as pd\n",
    "import numpy as np"
   ]
  },
  {
   "cell_type": "code",
   "execution_count": 3,
   "metadata": {
    "ExecuteTime": {
     "end_time": "2020-04-29T09:41:40.178556Z",
     "start_time": "2020-04-29T09:41:39.779080Z"
    }
   },
   "outputs": [],
   "source": [
    "from astropy.coordinates import SkyCoord\n",
    "from astropy import units as u"
   ]
  },
  {
   "cell_type": "code",
   "execution_count": 4,
   "metadata": {
    "ExecuteTime": {
     "end_time": "2020-04-29T09:41:40.195440Z",
     "start_time": "2020-04-29T09:41:40.182591Z"
    }
   },
   "outputs": [],
   "source": [
    "from tqdm import tqdm_notebook"
   ]
  },
  {
   "cell_type": "code",
   "execution_count": 5,
   "metadata": {
    "ExecuteTime": {
     "end_time": "2020-04-29T09:41:41.092082Z",
     "start_time": "2020-04-29T09:41:40.736705Z"
    }
   },
   "outputs": [],
   "source": [
    "patch = pd.read_csv('/home/rt2122/data/new/try/typdat_il2_ip0_ra129.0758_dec65.6675_stcl_in5.csv', \n",
    "                    index_col='Unnamed: 0')\n",
    "patch.index.name='index'\n",
    "patch.index = np.arange(patch.shape[0])"
   ]
  },
  {
   "cell_type": "code",
   "execution_count": 8,
   "metadata": {
    "ExecuteTime": {
     "end_time": "2020-04-29T08:15:55.524519Z",
     "start_time": "2020-04-29T08:15:55.467365Z"
    }
   },
   "outputs": [
    {
     "data": {
      "text/html": [
       "<div>\n",
       "<style scoped>\n",
       "    .dataframe tbody tr th:only-of-type {\n",
       "        vertical-align: middle;\n",
       "    }\n",
       "\n",
       "    .dataframe tbody tr th {\n",
       "        vertical-align: top;\n",
       "    }\n",
       "\n",
       "    .dataframe thead th {\n",
       "        text-align: right;\n",
       "    }\n",
       "</style>\n",
       "<table border=\"1\" class=\"dataframe\">\n",
       "  <thead>\n",
       "    <tr style=\"text-align: right;\">\n",
       "      <th></th>\n",
       "      <th>objID</th>\n",
       "      <th>l</th>\n",
       "      <th>b</th>\n",
       "      <th>gPSFFlux</th>\n",
       "      <th>gKronFlux</th>\n",
       "      <th>rPSFFlux</th>\n",
       "      <th>rKronFlux</th>\n",
       "      <th>iPSFFlux</th>\n",
       "      <th>iKronFlux</th>\n",
       "      <th>zPSFFlux</th>\n",
       "      <th>zKronFlux</th>\n",
       "      <th>yPSFFlux</th>\n",
       "      <th>yKronFlux</th>\n",
       "      <th>pix</th>\n",
       "    </tr>\n",
       "    <tr>\n",
       "      <th>index</th>\n",
       "      <th></th>\n",
       "      <th></th>\n",
       "      <th></th>\n",
       "      <th></th>\n",
       "      <th></th>\n",
       "      <th></th>\n",
       "      <th></th>\n",
       "      <th></th>\n",
       "      <th></th>\n",
       "      <th></th>\n",
       "      <th></th>\n",
       "      <th></th>\n",
       "      <th></th>\n",
       "      <th></th>\n",
       "    </tr>\n",
       "  </thead>\n",
       "  <tbody>\n",
       "    <tr>\n",
       "      <th>0</th>\n",
       "      <td>185721288297399836</td>\n",
       "      <td>150.951278</td>\n",
       "      <td>35.351899</td>\n",
       "      <td>6.960980e-07</td>\n",
       "      <td>NaN</td>\n",
       "      <td>1.012100e-06</td>\n",
       "      <td>NaN</td>\n",
       "      <td>2.065530e-06</td>\n",
       "      <td>0.000003</td>\n",
       "      <td>-7.097490e-07</td>\n",
       "      <td>NaN</td>\n",
       "      <td>3.204210e-06</td>\n",
       "      <td>NaN</td>\n",
       "      <td>23711087867</td>\n",
       "    </tr>\n",
       "    <tr>\n",
       "      <th>1</th>\n",
       "      <td>185721288638078505</td>\n",
       "      <td>150.949115</td>\n",
       "      <td>35.366349</td>\n",
       "      <td>1.782060e-06</td>\n",
       "      <td>0.000003</td>\n",
       "      <td>3.691760e-07</td>\n",
       "      <td>NaN</td>\n",
       "      <td>2.932630e-07</td>\n",
       "      <td>NaN</td>\n",
       "      <td>-6.903210e-07</td>\n",
       "      <td>NaN</td>\n",
       "      <td>-6.257910e-08</td>\n",
       "      <td>NaN</td>\n",
       "      <td>23711110526</td>\n",
       "    </tr>\n",
       "    <tr>\n",
       "      <th>2</th>\n",
       "      <td>185721288742356513</td>\n",
       "      <td>150.950026</td>\n",
       "      <td>35.371037</td>\n",
       "      <td>2.452230e-06</td>\n",
       "      <td>0.000005</td>\n",
       "      <td>2.512580e-07</td>\n",
       "      <td>NaN</td>\n",
       "      <td>-1.022000e-06</td>\n",
       "      <td>NaN</td>\n",
       "      <td>-3.267670e-07</td>\n",
       "      <td>NaN</td>\n",
       "      <td>-1.029660e-06</td>\n",
       "      <td>NaN</td>\n",
       "      <td>23711154356</td>\n",
       "    </tr>\n",
       "    <tr>\n",
       "      <th>3</th>\n",
       "      <td>185721288823868724</td>\n",
       "      <td>150.946970</td>\n",
       "      <td>35.374108</td>\n",
       "      <td>2.209820e-06</td>\n",
       "      <td>NaN</td>\n",
       "      <td>4.125760e-06</td>\n",
       "      <td>0.000008</td>\n",
       "      <td>4.643720e-06</td>\n",
       "      <td>0.000009</td>\n",
       "      <td>7.237550e-06</td>\n",
       "      <td>0.000013</td>\n",
       "      <td>4.150490e-06</td>\n",
       "      <td>NaN</td>\n",
       "      <td>23711154737</td>\n",
       "    </tr>\n",
       "    <tr>\n",
       "      <th>4</th>\n",
       "      <td>185721289414905026</td>\n",
       "      <td>150.944663</td>\n",
       "      <td>35.399381</td>\n",
       "      <td>-5.940830e-08</td>\n",
       "      <td>NaN</td>\n",
       "      <td>-5.403630e-07</td>\n",
       "      <td>NaN</td>\n",
       "      <td>2.443060e-06</td>\n",
       "      <td>0.000005</td>\n",
       "      <td>1.014520e-06</td>\n",
       "      <td>NaN</td>\n",
       "      <td>-6.293170e-06</td>\n",
       "      <td>NaN</td>\n",
       "      <td>23711157915</td>\n",
       "    </tr>\n",
       "  </tbody>\n",
       "</table>\n",
       "</div>"
      ],
      "text/plain": [
       "                    objID           l          b      gPSFFlux  gKronFlux  \\\n",
       "index                                                                       \n",
       "0      185721288297399836  150.951278  35.351899  6.960980e-07        NaN   \n",
       "1      185721288638078505  150.949115  35.366349  1.782060e-06   0.000003   \n",
       "2      185721288742356513  150.950026  35.371037  2.452230e-06   0.000005   \n",
       "3      185721288823868724  150.946970  35.374108  2.209820e-06        NaN   \n",
       "4      185721289414905026  150.944663  35.399381 -5.940830e-08        NaN   \n",
       "\n",
       "           rPSFFlux  rKronFlux      iPSFFlux  iKronFlux      zPSFFlux  \\\n",
       "index                                                                   \n",
       "0      1.012100e-06        NaN  2.065530e-06   0.000003 -7.097490e-07   \n",
       "1      3.691760e-07        NaN  2.932630e-07        NaN -6.903210e-07   \n",
       "2      2.512580e-07        NaN -1.022000e-06        NaN -3.267670e-07   \n",
       "3      4.125760e-06   0.000008  4.643720e-06   0.000009  7.237550e-06   \n",
       "4     -5.403630e-07        NaN  2.443060e-06   0.000005  1.014520e-06   \n",
       "\n",
       "       zKronFlux      yPSFFlux  yKronFlux          pix  \n",
       "index                                                   \n",
       "0            NaN  3.204210e-06        NaN  23711087867  \n",
       "1            NaN -6.257910e-08        NaN  23711110526  \n",
       "2            NaN -1.029660e-06        NaN  23711154356  \n",
       "3       0.000013  4.150490e-06        NaN  23711154737  \n",
       "4            NaN -6.293170e-06        NaN  23711157915  "
      ]
     },
     "execution_count": 8,
     "metadata": {},
     "output_type": "execute_result"
    }
   ],
   "source": [
    "patch.head()"
   ]
  },
  {
   "cell_type": "code",
   "execution_count": 9,
   "metadata": {
    "ExecuteTime": {
     "end_time": "2020-04-29T09:42:17.387905Z",
     "start_time": "2020-04-29T09:42:17.380907Z"
    }
   },
   "outputs": [],
   "source": [
    "mtx = np.zeros((2048,2048), dtype=np.float32)"
   ]
  },
  {
   "cell_type": "code",
   "execution_count": 19,
   "metadata": {
    "ExecuteTime": {
     "end_time": "2020-04-29T09:53:27.057527Z",
     "start_time": "2020-04-29T09:53:27.029833Z"
    }
   },
   "outputs": [],
   "source": [
    "center_sc = SkyCoord(ra=129.0758*u.degree, dec=65.6675*u.degree, frame='icrs')\n",
    "center_lb = (center_sc.galactic.l.radian, center_sc.galactic.b.radian)"
   ]
  },
  {
   "cell_type": "code",
   "execution_count": 24,
   "metadata": {
    "ExecuteTime": {
     "end_time": "2020-04-29T09:55:41.874663Z",
     "start_time": "2020-04-29T09:55:41.865453Z"
    }
   },
   "outputs": [
    {
     "data": {
      "text/plain": [
       "'G[2.615437912141641, 0.6156310654900116]'"
      ]
     },
     "execution_count": 24,
     "metadata": {},
     "output_type": "execute_result"
    }
   ],
   "source": [
    "cen_str = 'G' + str(list(center_lb))\n",
    "cen_str"
   ]
  },
  {
   "cell_type": "code",
   "execution_count": 25,
   "metadata": {
    "ExecuteTime": {
     "end_time": "2020-04-29T09:55:55.352734Z",
     "start_time": "2020-04-29T09:55:55.305544Z"
    }
   },
   "outputs": [
    {
     "data": {
      "application/vnd.jupyter.widget-view+json": {
       "model_id": "da9104466f3c40e09469ac6ffec8f2cf",
       "version_major": 2,
       "version_minor": 0
      },
      "text/plain": [
       "HBox(children=(IntProgress(value=0, max=126247), HTML(value='')))"
      ]
     },
     "metadata": {},
     "output_type": "display_data"
    },
    {
     "name": "stdout",
     "output_type": "stream",
     "text": [
      "\n"
     ]
    },
    {
     "ename": "TypeError",
     "evalue": "Coordinate must be a string (G[alactic], E[cliptic] or C[elestial]) or a sequence of 2 strings",
     "output_type": "error",
     "traceback": [
      "\u001b[0;31m---------------------------------------------------------------------------\u001b[0m",
      "\u001b[0;31mTypeError\u001b[0m                                 Traceback (most recent call last)",
      "\u001b[0;32m<ipython-input-25-ce60960de3af>\u001b[0m in \u001b[0;36m<module>\u001b[0;34m\u001b[0m\n\u001b[1;32m      8\u001b[0m     \u001b[0mb\u001b[0m \u001b[0;34m=\u001b[0m \u001b[0mpatch\u001b[0m\u001b[0;34m[\u001b[0m\u001b[0;34m'b'\u001b[0m\u001b[0;34m]\u001b[0m\u001b[0;34m[\u001b[0m\u001b[0mk\u001b[0m\u001b[0;34m]\u001b[0m\u001b[0;34m\u001b[0m\u001b[0;34m\u001b[0m\u001b[0m\n\u001b[1;32m      9\u001b[0m \u001b[0;34m\u001b[0m\u001b[0m\n\u001b[0;32m---> 10\u001b[0;31m     x, y = hp.projector.GnomonicProj(xsize=2048, ysize=2048, coord=cen_str).ang2xy(lonlat=True, \n\u001b[0m\u001b[1;32m     11\u001b[0m                                                                                    theta=l, phi=b)\n\u001b[1;32m     12\u001b[0m     \u001b[0mcoord\u001b[0m \u001b[0;34m=\u001b[0m \u001b[0mhp\u001b[0m\u001b[0;34m.\u001b[0m\u001b[0mprojector\u001b[0m\u001b[0;34m.\u001b[0m\u001b[0mMollweideProj\u001b[0m\u001b[0;34m(\u001b[0m\u001b[0;34m)\u001b[0m\u001b[0;34m.\u001b[0m\u001b[0mxy2ij\u001b[0m\u001b[0;34m(\u001b[0m\u001b[0mx\u001b[0m\u001b[0;34m,\u001b[0m \u001b[0my\u001b[0m\u001b[0;34m)\u001b[0m\u001b[0;34m\u001b[0m\u001b[0;34m\u001b[0m\u001b[0m\n",
      "\u001b[0;32m~/anaconda3/lib/python3.7/site-packages/healpy/projector.py\u001b[0m in \u001b[0;36m__init__\u001b[0;34m(self, rot, coord, xsize, ysize, reso, **kwds)\u001b[0m\n\u001b[1;32m    267\u001b[0m     \u001b[0;32mdef\u001b[0m \u001b[0m__init__\u001b[0m\u001b[0;34m(\u001b[0m\u001b[0mself\u001b[0m\u001b[0;34m,\u001b[0m \u001b[0mrot\u001b[0m\u001b[0;34m=\u001b[0m\u001b[0;32mNone\u001b[0m\u001b[0;34m,\u001b[0m \u001b[0mcoord\u001b[0m\u001b[0;34m=\u001b[0m\u001b[0;32mNone\u001b[0m\u001b[0;34m,\u001b[0m \u001b[0mxsize\u001b[0m\u001b[0;34m=\u001b[0m\u001b[0;32mNone\u001b[0m\u001b[0;34m,\u001b[0m \u001b[0mysize\u001b[0m\u001b[0;34m=\u001b[0m\u001b[0;32mNone\u001b[0m\u001b[0;34m,\u001b[0m \u001b[0mreso\u001b[0m\u001b[0;34m=\u001b[0m\u001b[0;32mNone\u001b[0m\u001b[0;34m,\u001b[0m \u001b[0;34m**\u001b[0m\u001b[0mkwds\u001b[0m\u001b[0;34m)\u001b[0m\u001b[0;34m:\u001b[0m\u001b[0;34m\u001b[0m\u001b[0;34m\u001b[0m\u001b[0m\n\u001b[1;32m    268\u001b[0m         super(GnomonicProj, self).__init__(\n\u001b[0;32m--> 269\u001b[0;31m             \u001b[0mrot\u001b[0m\u001b[0;34m=\u001b[0m\u001b[0mrot\u001b[0m\u001b[0;34m,\u001b[0m \u001b[0mcoord\u001b[0m\u001b[0;34m=\u001b[0m\u001b[0mcoord\u001b[0m\u001b[0;34m,\u001b[0m \u001b[0mxsize\u001b[0m\u001b[0;34m=\u001b[0m\u001b[0mxsize\u001b[0m\u001b[0;34m,\u001b[0m \u001b[0mysize\u001b[0m\u001b[0;34m=\u001b[0m\u001b[0mysize\u001b[0m\u001b[0;34m,\u001b[0m \u001b[0mreso\u001b[0m\u001b[0;34m=\u001b[0m\u001b[0mreso\u001b[0m\u001b[0;34m,\u001b[0m \u001b[0;34m**\u001b[0m\u001b[0mkwds\u001b[0m\u001b[0;34m\u001b[0m\u001b[0;34m\u001b[0m\u001b[0m\n\u001b[0m\u001b[1;32m    270\u001b[0m         )\n\u001b[1;32m    271\u001b[0m \u001b[0;34m\u001b[0m\u001b[0m\n",
      "\u001b[0;32m~/anaconda3/lib/python3.7/site-packages/healpy/projector.py\u001b[0m in \u001b[0;36m__init__\u001b[0;34m(self, rot, coord, flipconv, **kwds)\u001b[0m\n\u001b[1;32m     51\u001b[0m     \u001b[0;32mdef\u001b[0m \u001b[0m__init__\u001b[0m\u001b[0;34m(\u001b[0m\u001b[0mself\u001b[0m\u001b[0;34m,\u001b[0m \u001b[0mrot\u001b[0m\u001b[0;34m=\u001b[0m\u001b[0;32mNone\u001b[0m\u001b[0;34m,\u001b[0m \u001b[0mcoord\u001b[0m\u001b[0;34m=\u001b[0m\u001b[0;32mNone\u001b[0m\u001b[0;34m,\u001b[0m \u001b[0mflipconv\u001b[0m\u001b[0;34m=\u001b[0m\u001b[0;32mNone\u001b[0m\u001b[0;34m,\u001b[0m \u001b[0;34m**\u001b[0m\u001b[0mkwds\u001b[0m\u001b[0;34m)\u001b[0m\u001b[0;34m:\u001b[0m\u001b[0;34m\u001b[0m\u001b[0;34m\u001b[0m\u001b[0m\n\u001b[1;32m     52\u001b[0m         \u001b[0mself\u001b[0m\u001b[0;34m.\u001b[0m\u001b[0mrotator\u001b[0m \u001b[0;34m=\u001b[0m \u001b[0mR\u001b[0m\u001b[0;34m.\u001b[0m\u001b[0mRotator\u001b[0m\u001b[0;34m(\u001b[0m\u001b[0mrot\u001b[0m\u001b[0;34m=\u001b[0m\u001b[0mrot\u001b[0m\u001b[0;34m,\u001b[0m \u001b[0mcoord\u001b[0m\u001b[0;34m=\u001b[0m\u001b[0;32mNone\u001b[0m\u001b[0;34m,\u001b[0m \u001b[0meulertype\u001b[0m\u001b[0;34m=\u001b[0m\u001b[0;34m\"ZYX\"\u001b[0m\u001b[0;34m)\u001b[0m\u001b[0;34m\u001b[0m\u001b[0;34m\u001b[0m\u001b[0m\n\u001b[0;32m---> 53\u001b[0;31m         \u001b[0mself\u001b[0m\u001b[0;34m.\u001b[0m\u001b[0mcoordsys\u001b[0m \u001b[0;34m=\u001b[0m \u001b[0mR\u001b[0m\u001b[0;34m.\u001b[0m\u001b[0mRotator\u001b[0m\u001b[0;34m(\u001b[0m\u001b[0mcoord\u001b[0m\u001b[0;34m=\u001b[0m\u001b[0mcoord\u001b[0m\u001b[0;34m)\u001b[0m\u001b[0;34m.\u001b[0m\u001b[0mcoordout\u001b[0m\u001b[0;34m\u001b[0m\u001b[0;34m\u001b[0m\u001b[0m\n\u001b[0m\u001b[1;32m     54\u001b[0m         \u001b[0mself\u001b[0m\u001b[0;34m.\u001b[0m\u001b[0mcoordsysstr\u001b[0m \u001b[0;34m=\u001b[0m \u001b[0mR\u001b[0m\u001b[0;34m.\u001b[0m\u001b[0mRotator\u001b[0m\u001b[0;34m(\u001b[0m\u001b[0mcoord\u001b[0m\u001b[0;34m=\u001b[0m\u001b[0mcoord\u001b[0m\u001b[0;34m)\u001b[0m\u001b[0;34m.\u001b[0m\u001b[0mcoordoutstr\u001b[0m\u001b[0;34m\u001b[0m\u001b[0;34m\u001b[0m\u001b[0m\n\u001b[1;32m     55\u001b[0m         \u001b[0mself\u001b[0m\u001b[0;34m.\u001b[0m\u001b[0mset_flip\u001b[0m\u001b[0;34m(\u001b[0m\u001b[0mflipconv\u001b[0m\u001b[0;34m)\u001b[0m\u001b[0;34m\u001b[0m\u001b[0;34m\u001b[0m\u001b[0m\n",
      "\u001b[0;32m~/anaconda3/lib/python3.7/site-packages/healpy/rotator.py\u001b[0m in \u001b[0;36m__init__\u001b[0;34m(self, rot, coord, inv, deg, eulertype)\u001b[0m\n\u001b[1;32m    141\u001b[0m             \u001b[0;31m#            if self._eultype in ['X','Y']:\u001b[0m\u001b[0;34m\u001b[0m\u001b[0;34m\u001b[0m\u001b[0;34m\u001b[0m\u001b[0m\n\u001b[1;32m    142\u001b[0m             \u001b[0;31m#                rn[1] = -rn[1]\u001b[0m\u001b[0;34m\u001b[0m\u001b[0;34m\u001b[0m\u001b[0;34m\u001b[0m\u001b[0m\n\u001b[0;32m--> 143\u001b[0;31m             \u001b[0mcn\u001b[0m \u001b[0;34m=\u001b[0m \u001b[0mnormalise_coord\u001b[0m\u001b[0;34m(\u001b[0m\u001b[0mc\u001b[0m\u001b[0;34m)\u001b[0m\u001b[0;34m\u001b[0m\u001b[0;34m\u001b[0m\u001b[0m\n\u001b[0m\u001b[1;32m    144\u001b[0m             \u001b[0mself\u001b[0m\u001b[0;34m.\u001b[0m\u001b[0m_rots\u001b[0m\u001b[0;34m.\u001b[0m\u001b[0mappend\u001b[0m\u001b[0;34m(\u001b[0m\u001b[0mrn\u001b[0m\u001b[0;34m)\u001b[0m  \u001b[0;31m# append(rn) or insert(0, rn) ?\u001b[0m\u001b[0;34m\u001b[0m\u001b[0;34m\u001b[0m\u001b[0m\n\u001b[1;32m    145\u001b[0m             \u001b[0mself\u001b[0m\u001b[0;34m.\u001b[0m\u001b[0m_coords\u001b[0m\u001b[0;34m.\u001b[0m\u001b[0mappend\u001b[0m\u001b[0;34m(\u001b[0m\u001b[0mcn\u001b[0m\u001b[0;34m)\u001b[0m  \u001b[0;31m# append(cn) or insert(0, cn) ?\u001b[0m\u001b[0;34m\u001b[0m\u001b[0;34m\u001b[0m\u001b[0m\n",
      "\u001b[0;32m~/anaconda3/lib/python3.7/site-packages/healpy/rotator.py\u001b[0m in \u001b[0;36mnormalise_coord\u001b[0;34m(coord)\u001b[0m\n\u001b[1;32m    789\u001b[0m     \u001b[0;32mif\u001b[0m \u001b[0mlen\u001b[0m\u001b[0;34m(\u001b[0m\u001b[0mcoord\u001b[0m\u001b[0;34m)\u001b[0m \u001b[0;34m>\u001b[0m \u001b[0;36m2\u001b[0m\u001b[0;34m:\u001b[0m\u001b[0;34m\u001b[0m\u001b[0;34m\u001b[0m\u001b[0m\n\u001b[1;32m    790\u001b[0m         raise TypeError(\n\u001b[0;32m--> 791\u001b[0;31m             \u001b[0;34m\"Coordinate must be a string (G[alactic],\"\u001b[0m\u001b[0;34m\u001b[0m\u001b[0;34m\u001b[0m\u001b[0m\n\u001b[0m\u001b[1;32m    792\u001b[0m             \u001b[0;34m\" E[cliptic] or C[elestial])\"\u001b[0m\u001b[0;34m\u001b[0m\u001b[0;34m\u001b[0m\u001b[0m\n\u001b[1;32m    793\u001b[0m             \u001b[0;34m\" or a sequence of 2 strings\"\u001b[0m\u001b[0;34m\u001b[0m\u001b[0;34m\u001b[0m\u001b[0m\n",
      "\u001b[0;31mTypeError\u001b[0m: Coordinate must be a string (G[alactic], E[cliptic] or C[elestial]) or a sequence of 2 strings"
     ]
    }
   ],
   "source": [
    "for k in tqdm_notebook(range(patch.shape[0])):\n",
    "    flux = patch['iKronFlux'][k]\n",
    "    if np.isnan(flux) or flux < -200:\n",
    "        flux = patch['iPSFFlux'][k]\n",
    "        if np.isnan(flux) or flux < -200:\n",
    "            continue\n",
    "    l = patch['l'][k]\n",
    "    b = patch['b'][k]\n",
    "    \n",
    "    x, y = hp.projector.GnomonicProj(xsize=2048, ysize=2048, coord=cen_str).ang2xy(lonlat=True, \n",
    "                                                                                   theta=l, phi=b)\n",
    "    coord = hp.projector.MollweideProj().xy2ij(x, y)\n",
    "    '''\n",
    "    x -= xmin\n",
    "    x /= xmax\n",
    "    x *= 2048\n",
    "    i = int(x)\n",
    "    \n",
    "    y -= ymin\n",
    "    y /= ymax\n",
    "    y *= 2048\n",
    "    j = int(y)\n",
    "    '''\n",
    "    mtx[i, j] = flux"
   ]
  },
  {
   "cell_type": "code",
   "execution_count": 12,
   "metadata": {
    "ExecuteTime": {
     "end_time": "2020-04-29T09:43:42.406921Z",
     "start_time": "2020-04-29T09:43:42.366969Z"
    }
   },
   "outputs": [],
   "source": [
    "import matplotlib.pyplot as plt"
   ]
  },
  {
   "cell_type": "code",
   "execution_count": 16,
   "metadata": {
    "ExecuteTime": {
     "end_time": "2020-04-29T09:43:52.113340Z",
     "start_time": "2020-04-29T09:43:51.428198Z"
    }
   },
   "outputs": [
    {
     "data": {
      "text/plain": [
       "<matplotlib.image.AxesImage at 0x7f13ebde5278>"
      ]
     },
     "execution_count": 16,
     "metadata": {},
     "output_type": "execute_result"
    },
    {
     "data": {
      "image/png": "[encoded data removed]",
      "text/plain": [
       "<Figure size 1440x1440 with 1 Axes>"
      ]
     },
     "metadata": {
      "needs_background": "light"
     },
     "output_type": "display_data"
    }
   ],
   "source": [
    "plt.figure(figsize=(20,20))\n",
    "plt.imshow(mtx)"
   ]
  },
  {
   "cell_type": "code",
   "execution_count": 13,
   "metadata": {
    "ExecuteTime": {
     "end_time": "2020-04-29T09:43:45.806568Z",
     "start_time": "2020-04-29T09:43:45.792704Z"
    }
   },
   "outputs": [
    {
     "data": {
      "text/plain": [
       "(-0.00199567, 0.0706623)"
      ]
     },
     "execution_count": 13,
     "metadata": {},
     "output_type": "execute_result"
    }
   ],
   "source": [
    "mtx.min(), mtx.max()"
   ]
  },
  {
   "cell_type": "code",
   "execution_count": 14,
   "metadata": {
    "ExecuteTime": {
     "end_time": "2020-04-29T09:43:47.964948Z",
     "start_time": "2020-04-29T09:43:47.941014Z"
    }
   },
   "outputs": [],
   "source": [
    "mtx -= mtx.min()\n",
    "mtx /= mtx.max()"
   ]
  },
  {
   "cell_type": "code",
   "execution_count": 15,
   "metadata": {
    "ExecuteTime": {
     "end_time": "2020-04-29T09:43:49.121362Z",
     "start_time": "2020-04-29T09:43:49.107764Z"
    }
   },
   "outputs": [],
   "source": [
    "mtx *= 255\n",
    "mtx = mtx.astype(np.uint8)"
   ]
  },
  {
   "cell_type": "code",
   "execution_count": 34,
   "metadata": {
    "ExecuteTime": {
     "end_time": "2020-04-29T08:34:32.234332Z",
     "start_time": "2020-04-29T08:34:32.224109Z"
    }
   },
   "outputs": [
    {
     "data": {
      "text/plain": [
       "(291, 296, 103, 109)"
      ]
     },
     "execution_count": 34,
     "metadata": {},
     "output_type": "execute_result"
    }
   ],
   "source": [
    "imin, imax, jmin, jmax"
   ]
  },
  {
   "cell_type": "code",
   "execution_count": 6,
   "metadata": {
    "ExecuteTime": {
     "end_time": "2020-04-29T09:41:57.257315Z",
     "start_time": "2020-04-29T09:41:57.247585Z"
    }
   },
   "outputs": [],
   "source": [
    "xmin, xmax, ymin, ymax = (-1.4829600609456928,\n",
    " -1.453299416580486,\n",
    " 0.46023782212895525,\n",
    " 0.48306963010101434)"
   ]
  },
  {
   "cell_type": "code",
   "execution_count": 47,
   "metadata": {
    "ExecuteTime": {
     "end_time": "2020-04-29T10:26:42.770300Z",
     "start_time": "2020-04-29T10:26:42.765735Z"
    }
   },
   "outputs": [],
   "source": [
    "gn = hp.projector.GnomonicProj(xsize=20480000, ysize=2048000, reso=2, coord='G')"
   ]
  },
  {
   "cell_type": "code",
   "execution_count": 27,
   "metadata": {
    "ExecuteTime": {
     "end_time": "2020-04-29T10:18:33.405081Z",
     "start_time": "2020-04-29T10:18:32.331926Z"
    }
   },
   "outputs": [],
   "source": [
    "x, y = gn.ang2xy(patch['l'], patch['b'], lonlat=True)"
   ]
  },
  {
   "cell_type": "code",
   "execution_count": 31,
   "metadata": {
    "ExecuteTime": {
     "end_time": "2020-04-29T10:21:10.022136Z",
     "start_time": "2020-04-29T10:21:10.015456Z"
    }
   },
   "outputs": [
    {
     "data": {
      "text/plain": [
       "(-0.7094002517541491,\n",
       " 0.555421221687504,\n",
       " 0.6353993328396157,\n",
       " 0.8702395945810637)"
      ]
     },
     "execution_count": 31,
     "metadata": {},
     "output_type": "execute_result"
    }
   ],
   "source": [
    "x.min(), x.max(), y.min(), y.max()"
   ]
  },
  {
   "cell_type": "code",
   "execution_count": 10,
   "metadata": {
    "ExecuteTime": {
     "end_time": "2020-04-29T14:06:53.652828Z",
     "start_time": "2020-04-29T14:06:48.904650Z"
    }
   },
   "outputs": [],
   "source": [
    "lb = [(patch['l'][i], patch['b'][i]) \n",
    "      for i in range(patch.shape[0]) \n",
    "      if not np.isnan(patch['l'][i]) and not np.isnan(patch['b'][i])]"
   ]
  },
  {
   "cell_type": "code",
   "execution_count": 54,
   "metadata": {
    "ExecuteTime": {
     "end_time": "2020-04-29T10:29:00.386769Z",
     "start_time": "2020-04-29T10:29:00.379856Z"
    }
   },
   "outputs": [],
   "source": [
    "x, y = gn.ang2xy(lb[0], lb[1], lonlat=True)\n",
    "i, j = gn.xy2ij(x, y)"
   ]
  },
  {
   "cell_type": "code",
   "execution_count": 49,
   "metadata": {
    "ExecuteTime": {
     "end_time": "2020-04-29T10:26:46.402206Z",
     "start_time": "2020-04-29T10:26:46.391075Z"
    }
   },
   "outputs": [
    {
     "data": {
      "text/plain": [
       "(403, 2174)"
      ]
     },
     "execution_count": 49,
     "metadata": {},
     "output_type": "execute_result"
    }
   ],
   "source": [
    "i.max() - i.min(), j.max() - j.min()"
   ]
  },
  {
   "cell_type": "code",
   "execution_count": 50,
   "metadata": {
    "ExecuteTime": {
     "end_time": "2020-04-29T10:27:25.218275Z",
     "start_time": "2020-04-29T10:27:25.208662Z"
    }
   },
   "outputs": [
    {
     "data": {
      "text/plain": [
       "(1.264821473441653, 0.234840261741448)"
      ]
     },
     "execution_count": 50,
     "metadata": {},
     "output_type": "execute_result"
    }
   ],
   "source": [
    "x.max() - x.min(), y.max() - y.min()"
   ]
  },
  {
   "cell_type": "code",
   "execution_count": null,
   "metadata": {},
   "outputs": [],
   "source": [
    "for ii, jj in zip(i, j):\n",
    "    if "
   ]
  },
  {
   "cell_type": "code",
   "execution_count": 55,
   "metadata": {
    "ExecuteTime": {
     "end_time": "2020-04-29T10:29:02.945111Z",
     "start_time": "2020-04-29T10:29:02.935186Z"
    }
   },
   "outputs": [],
   "source": [
    "x -= x.min()\n",
    "x /= x.max()\n",
    "x *= 2047\n",
    "x = x.astype(np.int64)\n",
    "y -= x.min()\n",
    "y /= x.max()\n",
    "y *= 2047\n",
    "y = y.astype(np.int64)"
   ]
  },
  {
   "cell_type": "code",
   "execution_count": 52,
   "metadata": {
    "ExecuteTime": {
     "end_time": "2020-04-29T10:28:43.311790Z",
     "start_time": "2020-04-29T10:28:43.304322Z"
    }
   },
   "outputs": [],
   "source": [
    "a = np.zeros((2048,2048), dtype=np.uint8)"
   ]
  },
  {
   "cell_type": "code",
   "execution_count": 56,
   "metadata": {
    "ExecuteTime": {
     "end_time": "2020-04-29T10:29:05.315775Z",
     "start_time": "2020-04-29T10:29:05.310272Z"
    }
   },
   "outputs": [],
   "source": [
    "a[x, y] = 255"
   ]
  },
  {
   "cell_type": "code",
   "execution_count": 58,
   "metadata": {
    "ExecuteTime": {
     "end_time": "2020-04-29T10:29:29.017098Z",
     "start_time": "2020-04-29T10:29:28.488125Z"
    }
   },
   "outputs": [
    {
     "data": {
      "text/plain": [
       "<matplotlib.image.AxesImage at 0x7f13eb6df048>"
      ]
     },
     "execution_count": 58,
     "metadata": {},
     "output_type": "execute_result"
    },
    {
     "data": {
      "image/png": "[encoded data removed]",
      "text/plain": [
       "<Figure size 1440x1440 with 1 Axes>"
      ]
     },
     "metadata": {
      "needs_background": "light"
     },
     "output_type": "display_data"
    }
   ],
   "source": [
    "plt.figure(figsize=(20,20))\n",
    "plt.imshow(a)"
   ]
  },
  {
   "cell_type": "code",
   "execution_count": null,
   "metadata": {},
   "outputs": [],
   "source": [
    "from functools import partial\n",
    "\n",
    "import healpy as hp\n",
    "import numpy as np\n",
    "import matplotlib.pyplot as plt\n",
    "\n",
    "# Build a map\n",
    "#nside = 64\n",
    "#npix = hp.nside2npix(nside)\n",
    "#hpxmap = np.arange(npix)\n",
    "\n",
    "# Get the cutout via a cartesian projection\n",
    "lonra = [30, 40]\n",
    "latra = [-10, 10]\n",
    "\n",
    "proj = hp.projector.CartesianProj(\n",
    "    lonra=lonra, latra=latra,\n",
    "    coord='G',\n",
    "    xsize=n_pixels, ysize=n_pixels)\n",
    "reproj_im = proj.projmap(hpxmap, vec2pix_func=partial(hp.vec2pix, nside))\n",
    "\n",
    "# Plot the cutout\n",
    "plt.imshow(reproj_im, origin='lower', interpolation='nearest')"
   ]
  },
  {
   "cell_type": "code",
   "execution_count": 3,
   "metadata": {
    "ExecuteTime": {
     "end_time": "2020-04-29T14:04:59.417706Z",
     "start_time": "2020-04-29T14:04:59.406104Z"
    }
   },
   "outputs": [],
   "source": [
    "from functools import partial\n",
    "\n",
    "import healpy as hp\n",
    "import numpy as np\n",
    "import matplotlib.pyplot as plt\n",
    "\n",
    "# Build a map\n",
    "nside = 2**17\n",
    "npix = hp.nside2npix(nside)\n",
    "#hpxmap = np.arange(npix)\n",
    "\n",
    "# Get the cutout via a cartesian projection\n",
    "lonra = [148.751256104034, 150.955582612672]\n",
    "latra = [34.373669513097894, 36.17279037533721]\n",
    "\n",
    "lonra = np.radians(lonra)\n",
    "latra = np.radians(latra)\n",
    "\n",
    "proj = hp.projector.CartesianProj(\n",
    "    lonra=lonra, latra=latra,\n",
    "    coord='G',\n",
    "    xsize=2048, ysize=2048)\n",
    "#reproj_im = proj.projmap(hpxmap, vec2pix_func=lambda x, y, z:hp.vec2pix(nside=nside, x=x,y=y,z=z, nest=True))\n",
    "\n",
    "# Plot the cutout\n",
    "#plt.imshow(reproj_im, origin='lower', interpolation='nearest')"
   ]
  },
  {
   "cell_type": "code",
   "execution_count": 5,
   "metadata": {
    "ExecuteTime": {
     "end_time": "2020-04-29T14:05:53.510739Z",
     "start_time": "2020-04-29T14:05:53.274178Z"
    }
   },
   "outputs": [],
   "source": [
    "import pandas as pd"
   ]
  },
  {
   "cell_type": "code",
   "execution_count": 7,
   "metadata": {
    "ExecuteTime": {
     "end_time": "2020-04-29T14:06:00.159521Z",
     "start_time": "2020-04-29T14:05:59.791462Z"
    }
   },
   "outputs": [],
   "source": [
    "patch = pd.read_csv('/home/rt2122/data/new/try/typdat_il2_ip0_ra129.0758_dec65.6675_stcl_in5.csv', \n",
    "                    index_col='Unnamed: 0') "
   ]
  },
  {
   "cell_type": "code",
   "execution_count": 64,
   "metadata": {
    "ExecuteTime": {
     "end_time": "2020-04-29T10:37:23.582635Z",
     "start_time": "2020-04-29T10:37:23.574427Z"
    }
   },
   "outputs": [
    {
     "data": {
      "text/plain": [
       "(148.751256104034, 150.955582612672, 34.373669513097894, 36.17279037533721)"
      ]
     },
     "execution_count": 64,
     "metadata": {},
     "output_type": "execute_result"
    }
   ],
   "source": [
    "lb[:,0].min(), lb[:,0].max(), lb[:,1].min(), lb[:,1].max()"
   ]
  },
  {
   "cell_type": "code",
   "execution_count": 63,
   "metadata": {
    "ExecuteTime": {
     "end_time": "2020-04-29T10:37:11.591273Z",
     "start_time": "2020-04-29T10:37:11.537363Z"
    }
   },
   "outputs": [],
   "source": [
    "lb = np.array(lb)"
   ]
  },
  {
   "cell_type": "code",
   "execution_count": 68,
   "metadata": {
    "ExecuteTime": {
     "end_time": "2020-04-29T10:45:28.385974Z",
     "start_time": "2020-04-29T10:45:28.373822Z"
    }
   },
   "outputs": [
    {
     "data": {
      "text/plain": [
       "(18526821.0, 18526834.0)"
      ]
     },
     "execution_count": 68,
     "metadata": {},
     "output_type": "execute_result"
    }
   ],
   "source": [
    "reproj_im.min(), reproj_im.max()"
   ]
  },
  {
   "cell_type": "code",
   "execution_count": 73,
   "metadata": {
    "ExecuteTime": {
     "end_time": "2020-04-29T10:47:30.014739Z",
     "start_time": "2020-04-29T10:47:30.008883Z"
    }
   },
   "outputs": [
    {
     "data": {
      "text/plain": [
       "(126247,)"
      ]
     },
     "execution_count": 73,
     "metadata": {},
     "output_type": "execute_result"
    }
   ],
   "source": [
    "patch['pix'].shape"
   ]
  },
  {
   "cell_type": "code",
   "execution_count": 9,
   "metadata": {
    "ExecuteTime": {
     "end_time": "2020-04-29T14:06:40.033333Z",
     "start_time": "2020-04-29T14:06:40.027273Z"
    }
   },
   "outputs": [],
   "source": [
    "patch.index = np.arange(patch.shape[0])"
   ]
  },
  {
   "cell_type": "code",
   "execution_count": 11,
   "metadata": {
    "ExecuteTime": {
     "end_time": "2020-04-29T14:09:25.039698Z",
     "start_time": "2020-04-29T14:09:25.031274Z"
    }
   },
   "outputs": [],
   "source": [
    "from tqdm import tqdm_notebook"
   ]
  },
  {
   "cell_type": "code",
   "execution_count": 17,
   "metadata": {
    "ExecuteTime": {
     "end_time": "2020-04-29T14:12:03.370593Z",
     "start_time": "2020-04-29T14:12:03.360688Z"
    }
   },
   "outputs": [],
   "source": [
    "a = np.zeros((2048,2048), dtype=np.uint8)\n",
    "xy = proj.ang2xy(lb[0], lb[1], lonlat=True)\n",
    "ij = proj.xy2ij(xy[0], xy[1])"
   ]
  },
  {
   "cell_type": "code",
   "execution_count": 15,
   "metadata": {
    "ExecuteTime": {
     "end_time": "2020-04-29T14:10:59.601946Z",
     "start_time": "2020-04-29T14:10:59.595793Z"
    }
   },
   "outputs": [],
   "source": [
    "import matplotlib.pyplot as plt"
   ]
  },
  {
   "cell_type": "code",
   "execution_count": 16,
   "metadata": {
    "ExecuteTime": {
     "end_time": "2020-04-29T14:11:00.552968Z",
     "start_time": "2020-04-29T14:10:59.604571Z"
    }
   },
   "outputs": [
    {
     "data": {
      "text/plain": [
       "<matplotlib.image.AxesImage at 0x7fce1eb2bef0>"
      ]
     },
     "execution_count": 16,
     "metadata": {},
     "output_type": "execute_result"
    },
    {
     "data": {
      "image/png": "[encoded data removed]",
      "text/plain": [
       "<Figure size 1440x1440 with 1 Axes>"
      ]
     },
     "metadata": {
      "needs_background": "light"
     },
     "output_type": "display_data"
    }
   ],
   "source": [
    "plt.figure(figsize=(20,20))\n",
    "plt.imshow(a)"
   ]
  },
  {
   "cell_type": "code",
   "execution_count": 18,
   "metadata": {
    "ExecuteTime": {
     "end_time": "2020-04-29T14:12:29.734249Z",
     "start_time": "2020-04-29T14:12:29.723288Z"
    }
   },
   "outputs": [
    {
     "data": {
      "text/plain": [
       "(masked, masked, masked, masked)"
      ]
     },
     "execution_count": 18,
     "metadata": {},
     "output_type": "execute_result"
    }
   ],
   "source": [
    "ij[0].min(), ij[0].max(), ij[1].min(), ij[1].max()"
   ]
  },
  {
   "cell_type": "code",
   "execution_count": 19,
   "metadata": {
    "ExecuteTime": {
     "end_time": "2020-04-29T14:13:00.513355Z",
     "start_time": "2020-04-29T14:13:00.506286Z"
    }
   },
   "outputs": [
    {
     "data": {
      "text/plain": [
       "(-35.351899126232084,\n",
       " 29.048722274434983,\n",
       " 29.050885473248993,\n",
       " 35.36634935538248)"
      ]
     },
     "execution_count": 19,
     "metadata": {},
     "output_type": "execute_result"
    }
   ],
   "source": [
    "xy[0].min(), xy[0].max(), xy[1].min(), xy[1].max()"
   ]
  },
  {
   "cell_type": "code",
   "execution_count": null,
   "metadata": {},
   "outputs": [],
   "source": []
  }
 ],
 "metadata": {
  "kernelspec": {
   "display_name": "Python 3",
   "language": "python",
   "name": "python3"
  }
 },
 "nbformat": 4,
 "nbformat_minor": 2
}
