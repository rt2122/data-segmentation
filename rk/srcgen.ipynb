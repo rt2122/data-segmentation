{
  "nbformat": 4,
  "nbformat_minor": 0,
  "metadata": {
    "colab": {
      "name": "srcgen.ipynb",
      "provenance": [],
      "machine_shape": "hm"
    },
    "kernelspec": {
      "name": "python3",
      "display_name": "Python 3"
    }
  },
  "cells": [
    {
      "cell_type": "code",
      "metadata": {
        "id": "y6916RFUObdG",
        "colab_type": "code",
        "colab": {
          "base_uri": "https://localhost:8080/",
          "height": 83
        },
        "outputId": "3f440002-985d-4e30-a9b6-1a4c213d92ba"
      },
      "source": [
        "import numpy as np \n",
        "import os\n",
        "import skimage.io as io\n",
        "import skimage.transform as trans\n",
        "import numpy as np\n",
        "\n",
        "from tensorflow.keras.callbacks import ModelCheckpoint, LearningRateScheduler\n",
        "from tensorflow.keras import backend as keras\n",
        "from tensorflow.keras.optimizers import Adam, SGD\n",
        "from tensorflow.keras.layers import Conv2D, MaxPooling2D, Dropout, concatenate, UpSampling2D\n",
        "from tensorflow.keras import Input\n",
        "from tensorflow.keras.callbacks import ModelCheckpoint\n",
        "from tensorflow.keras.models import Model\n",
        "from tensorflow.keras.layers import Activation\n",
        "from tensorflow.keras.activations import relu, sigmoid\n",
        "from tensorflow.keras.layers import UpSampling2D\n",
        "from tensorflow.keras.losses import binary_crossentropy, categorical_crossentropy, sparse_categorical_crossentropy\n",
        "from keras.preprocessing.image import ImageDataGenerator\n",
        "from matplotlib.pyplot import figure\n",
        "from skimage.io import imshow\n",
        "from tensorflow.keras.layers import BatchNormalization\n",
        "\n",
        "def unet(input_size = (2048,2048,4), filters=64, blocks=4):\n",
        "    encoder = []\n",
        "    inputs = Input(input_size)\n",
        "    prev = inputs\n",
        "    for i in range(blocks):\n",
        "        cur = Conv2D(filters=filters, kernel_size=3, padding = 'same', kernel_initializer = 'he_normal')(prev)\n",
        "        cur = BatchNormalization()(cur)\n",
        "        cur = Activation(relu)(cur)\n",
        "\n",
        "        cur = Conv2D(filters=filters, kernel_size=3, padding = 'same', kernel_initializer = 'he_normal')(cur)\n",
        "        cur = BatchNormalization()(cur)\n",
        "        cur = Activation(relu)(cur)\n",
        "\n",
        "        encoder.append(cur)\n",
        "\n",
        "        cur = MaxPooling2D()(cur)\n",
        "\n",
        "        filters *= 2\n",
        "        prev = cur\n",
        "\n",
        "    for i in range(blocks - 1, -1, -1):\n",
        "        cur = UpSampling2D()(prev)\n",
        "        cur = Conv2D(filters=filters, kernel_size=3, padding='same')(cur)\n",
        "        cur = Activation(relu)(cur)\n",
        "        cur = concatenate([cur, encoder[i]], axis=3)\n",
        "\n",
        "        cur = Conv2D(filters=filters, kernel_size=3, padding='same')(cur)\n",
        "        cur = Activation(relu)(cur)\n",
        "        cur = Conv2D(filters=filters, kernel_size=3, padding='same')(cur)\n",
        "        cur = Activation(relu)(cur)\n",
        "\n",
        "        prev = cur\n",
        "        filters //= 2\n",
        "\n",
        "    prev = Conv2D(1, kernel_size=1)(prev)\n",
        "    prev = Activation(sigmoid)(prev)\n",
        "\n",
        "    \n",
        "    model = Model(inputs=inputs, outputs=prev)\n",
        "    model.compile(optimizer = Adam(lr = 1e-4), loss = 'binary_crossentropy', metrics = ['accuracy'])\n",
        "    \n",
        "    return model\n"
      ],
      "execution_count": 1,
      "outputs": [
        {
          "output_type": "display_data",
          "data": {
            "text/html": [
              "<p style=\"color: red;\">\n",
              "The default version of TensorFlow in Colab will soon switch to TensorFlow 2.x.<br>\n",
              "We recommend you <a href=\"https://www.tensorflow.org/guide/migrate\" target=\"_blank\">upgrade</a> now \n",
              "or ensure your notebook will continue to use TensorFlow 1.x via the <code>%tensorflow_version 1.x</code> magic:\n",
              "<a href=\"https://colab.research.google.com/notebooks/tensorflow_version.ipynb\" target=\"_blank\">more info</a>.</p>\n"
            ],
            "text/plain": [
              "<IPython.core.display.HTML object>"
            ]
          },
          "metadata": {
            "tags": []
          }
        },
        {
          "output_type": "stream",
          "text": [
            "Using TensorFlow backend.\n"
          ],
          "name": "stderr"
        }
      ]
    },
    {
      "cell_type": "code",
      "metadata": {
        "id": "u0vM1QX_Or4O",
        "colab_type": "code",
        "colab": {}
      },
      "source": [
        "import os\n",
        "os.environ['TF_CPP_MIN_LOG_LEVEL'] = '3' \n",
        "import tensorflow as tf\n",
        "tf.compat.v1.logging.set_verbosity(tf.compat.v1.logging.ERROR)"
      ],
      "execution_count": 0,
      "outputs": []
    },
    {
      "cell_type": "code",
      "metadata": {
        "id": "yWmvDUTyOicp",
        "colab_type": "code",
        "colab": {}
      },
      "source": [
        "import numpy as np \n",
        "import random as rnd\n",
        "from matplotlib import pyplot as plt\n",
        "from skimage.draw import circle\n",
        "from skimage.io import imshow\n",
        "\n",
        "def gen_gauss_dots(n_dots, xy_range, scale, mu=0, sigma=1):\n",
        "\n",
        "    ''' xy_range: [[x_st, x_en], [y_st, y_en]] '''\n",
        "    xy_range = np.array(xy_range).astype(np.int64)\n",
        "\n",
        "    res = []\n",
        "    for i in range(n_dots):\n",
        "        res.append([rnd.gauss(mu, sigma), rnd.gauss(mu, sigma)])\n",
        "    \n",
        "    res = np.array(res)\n",
        "    res *= scale\n",
        "    res[:, 0] += xy_range[0].mean()\n",
        "    res[:, 1] += xy_range[1].mean()\n",
        "\n",
        "    for i in range(res.shape[0]):\n",
        "        for j in range(2):\n",
        "            if res[i, j] < xy_range[j, 0] or res[i, j] >= xy_range[j, 1]:\n",
        "                res[i, j] = np.random.randint(xy_range[j, 0], xy_range[j, 1])\n",
        "    res = np.array(res)\n",
        "\n",
        "    return res\n",
        "\n",
        "class Src:\n",
        "    def __init__(self, x, y, max_rad, max_n, noise=False):\n",
        "        self.x = x\n",
        "        self.y = y\n",
        "        self.rad = np.random.randint(2, max_rad + 1) \n",
        "        self.n = np.random.randint(2, max_n + 1)\n",
        "        if noise:\n",
        "            self.rad = max_rad\n",
        "            self.n = max_n\n",
        "    def gen_ph(self, label, scale=1, shape=None):\n",
        "        xy_range = [[self.x - self.rad, self.x + self.rad], \n",
        "                [self.y - self.rad, self.y + self.rad]]\n",
        "        coords = gen_gauss_dots(self.n, xy_range, scale)\n",
        "        if shape is not None:\n",
        "            coords = np.array([[x, y] for [x, y] in \n",
        "                coords if x >= 0 and y >= 0 and x < shape[0] and y < shape[1]])\n",
        "        labels = np.array([label] * len(coords)).reshape(len(coords), 1)\n",
        "        return np.hstack([coords, labels])\n",
        "\n",
        "\n",
        "def gen_src(n_src, max_rad, max_n, shape):\n",
        "    coords = gen_gauss_dots(n_src, [[0, shape[0]], [0, shape[1]]], max(shape) * 44) \n",
        "    srcs = []\n",
        "    for [x, y] in coords:\n",
        "        srcs.append(Src(x, y, max_rad, max_n))\n",
        "    return np.array(srcs)\n",
        "\n",
        "def gen_ph_map(srcs, shape, n_noise):\n",
        "    all_ph = None \n",
        "    for i in range(len(srcs)):\n",
        "        ph = srcs[i].gen_ph(i, shape=shape)\n",
        "        if all_ph is None:\n",
        "            all_ph = ph\n",
        "        else:\n",
        "           all_ph = np.vstack([all_ph, ph])\n",
        "    \n",
        "    noise = Src(shape[0] // 2, shape[1] // 2, max_rad = max(shape) * 4, max_n=n_noise, noise=True)\n",
        "    all_ph = np.vstack([all_ph, noise.gen_ph(len(srcs), scale=max(shape) * 440, shape=shape)])\n",
        "    return all_ph\n",
        "\n",
        "def gen_all(n_src, max_rad, max_n, shape, n_noise):\n",
        "    srcs = gen_src(n_src, max_rad, max_n, shape)\n",
        "    return gen_ph_map(srcs, shape, n_noise), srcs\n",
        "\n",
        "def gen_train(n_src, max_rad, max_n, shape, n_noise):\n",
        "    while 4:\n",
        "        phs, srcs = gen_all(n_src, max_rad, max_n, shape, n_noise)\n",
        "        X = np.zeros(shape, np.uint8)\n",
        "        Y = np.zeros(shape, np.uint8)\n",
        "        phs = phs.astype(np.int64)\n",
        "        for ph in phs:\n",
        "            X[ph[0], ph[1], 0] = 1\n",
        "        for src in srcs:\n",
        "            c = circle(src.x, src.y, src.rad, shape)\n",
        "            Y[c] = 1\n",
        "        yield np.array([X]), np.array([Y])\n",
        "\n",
        "rnd.seed(0)\n"
      ],
      "execution_count": 0,
      "outputs": []
    },
    {
      "cell_type": "code",
      "metadata": {
        "id": "1LpmlZ3pOt8K",
        "colab_type": "code",
        "colab": {}
      },
      "source": [
        "input_size = (1024, 1024, 1)\n",
        "model = unet(input_size=input_size, filters=32, blocks=3)"
      ],
      "execution_count": 0,
      "outputs": []
    },
    {
      "cell_type": "code",
      "metadata": {
        "id": "N4UtKSDePnqh",
        "colab_type": "code",
        "colab": {
          "base_uri": "https://localhost:8080/",
          "height": 35
        },
        "outputId": "7ea3d25a-9098-4ef2-d33d-9ed86303c666"
      },
      "source": [
        "for x, y in gen_train(n_src=34, max_rad=30, max_n=30, shape=input_size, n_noise=10000):\n",
        "    print(x.shape, y.shape)\n",
        "    break"
      ],
      "execution_count": 5,
      "outputs": [
        {
          "output_type": "stream",
          "text": [
            "(1, 1024, 1024, 1) (1, 1024, 1024, 1)\n"
          ],
          "name": "stdout"
        }
      ]
    },
    {
      "cell_type": "code",
      "metadata": {
        "id": "2OymXaV2O9EA",
        "colab_type": "code",
        "colab": {
          "base_uri": "https://localhost:8080/",
          "height": 429
        },
        "outputId": "31f1537c-6140-4c3c-cced-8fde67f63ee3"
      },
      "source": [
        "history = model.fit_generator(\n",
        "    gen_train(n_src=34, max_rad=30, max_n=30, shape=input_size, n_noise=10000),\n",
        "    steps_per_epoch = 100,\n",
        "    epochs=100)"
      ],
      "execution_count": 6,
      "outputs": [
        {
          "output_type": "stream",
          "text": [
            "Epoch 1/100\n",
            "100/100 [==============================] - 3660s 37s/step - loss: 0.1219 - acc: 0.9636\n",
            "Epoch 2/100\n",
            " 88/100 [=========================>....] - ETA: 7:18 - loss: 0.0504 - acc: 0.9764"
          ],
          "name": "stdout"
        },
        {
          "output_type": "error",
          "ename": "KeyboardInterrupt",
          "evalue": "ignored",
          "traceback": [
            "\u001b[0;31m---------------------------------------------------------------------------\u001b[0m",
            "\u001b[0;31mKeyboardInterrupt\u001b[0m                         Traceback (most recent call last)",
            "\u001b[0;32m<ipython-input-6-8cbb802f79fc>\u001b[0m in \u001b[0;36m<module>\u001b[0;34m()\u001b[0m\n\u001b[1;32m      2\u001b[0m     \u001b[0mgen_train\u001b[0m\u001b[0;34m(\u001b[0m\u001b[0mn_src\u001b[0m\u001b[0;34m=\u001b[0m\u001b[0;36m34\u001b[0m\u001b[0;34m,\u001b[0m \u001b[0mmax_rad\u001b[0m\u001b[0;34m=\u001b[0m\u001b[0;36m30\u001b[0m\u001b[0;34m,\u001b[0m \u001b[0mmax_n\u001b[0m\u001b[0;34m=\u001b[0m\u001b[0;36m30\u001b[0m\u001b[0;34m,\u001b[0m \u001b[0mshape\u001b[0m\u001b[0;34m=\u001b[0m\u001b[0minput_size\u001b[0m\u001b[0;34m,\u001b[0m \u001b[0mn_noise\u001b[0m\u001b[0;34m=\u001b[0m\u001b[0;36m10000\u001b[0m\u001b[0;34m)\u001b[0m\u001b[0;34m,\u001b[0m\u001b[0;34m\u001b[0m\u001b[0;34m\u001b[0m\u001b[0m\n\u001b[1;32m      3\u001b[0m     \u001b[0msteps_per_epoch\u001b[0m \u001b[0;34m=\u001b[0m \u001b[0;36m100\u001b[0m\u001b[0;34m,\u001b[0m\u001b[0;34m\u001b[0m\u001b[0;34m\u001b[0m\u001b[0m\n\u001b[0;32m----> 4\u001b[0;31m     epochs=100)\n\u001b[0m",
            "\u001b[0;32m/usr/local/lib/python3.6/dist-packages/tensorflow_core/python/keras/engine/training.py\u001b[0m in \u001b[0;36mfit_generator\u001b[0;34m(self, generator, steps_per_epoch, epochs, verbose, callbacks, validation_data, validation_steps, validation_freq, class_weight, max_queue_size, workers, use_multiprocessing, shuffle, initial_epoch)\u001b[0m\n\u001b[1;32m   1294\u001b[0m         \u001b[0mshuffle\u001b[0m\u001b[0;34m=\u001b[0m\u001b[0mshuffle\u001b[0m\u001b[0;34m,\u001b[0m\u001b[0;34m\u001b[0m\u001b[0;34m\u001b[0m\u001b[0m\n\u001b[1;32m   1295\u001b[0m         \u001b[0minitial_epoch\u001b[0m\u001b[0;34m=\u001b[0m\u001b[0minitial_epoch\u001b[0m\u001b[0;34m,\u001b[0m\u001b[0;34m\u001b[0m\u001b[0;34m\u001b[0m\u001b[0m\n\u001b[0;32m-> 1296\u001b[0;31m         steps_name='steps_per_epoch')\n\u001b[0m\u001b[1;32m   1297\u001b[0m \u001b[0;34m\u001b[0m\u001b[0m\n\u001b[1;32m   1298\u001b[0m   def evaluate_generator(self,\n",
            "\u001b[0;32m/usr/local/lib/python3.6/dist-packages/tensorflow_core/python/keras/engine/training_generator.py\u001b[0m in \u001b[0;36mmodel_iteration\u001b[0;34m(model, data, steps_per_epoch, epochs, verbose, callbacks, validation_data, validation_steps, validation_freq, class_weight, max_queue_size, workers, use_multiprocessing, shuffle, initial_epoch, mode, batch_size, steps_name, **kwargs)\u001b[0m\n\u001b[1;32m    263\u001b[0m \u001b[0;34m\u001b[0m\u001b[0m\n\u001b[1;32m    264\u001b[0m       \u001b[0mis_deferred\u001b[0m \u001b[0;34m=\u001b[0m \u001b[0;32mnot\u001b[0m \u001b[0mmodel\u001b[0m\u001b[0;34m.\u001b[0m\u001b[0m_is_compiled\u001b[0m\u001b[0;34m\u001b[0m\u001b[0;34m\u001b[0m\u001b[0m\n\u001b[0;32m--> 265\u001b[0;31m       \u001b[0mbatch_outs\u001b[0m \u001b[0;34m=\u001b[0m \u001b[0mbatch_function\u001b[0m\u001b[0;34m(\u001b[0m\u001b[0;34m*\u001b[0m\u001b[0mbatch_data\u001b[0m\u001b[0;34m)\u001b[0m\u001b[0;34m\u001b[0m\u001b[0;34m\u001b[0m\u001b[0m\n\u001b[0m\u001b[1;32m    266\u001b[0m       \u001b[0;32mif\u001b[0m \u001b[0;32mnot\u001b[0m \u001b[0misinstance\u001b[0m\u001b[0;34m(\u001b[0m\u001b[0mbatch_outs\u001b[0m\u001b[0;34m,\u001b[0m \u001b[0mlist\u001b[0m\u001b[0;34m)\u001b[0m\u001b[0;34m:\u001b[0m\u001b[0;34m\u001b[0m\u001b[0;34m\u001b[0m\u001b[0m\n\u001b[1;32m    267\u001b[0m         \u001b[0mbatch_outs\u001b[0m \u001b[0;34m=\u001b[0m \u001b[0;34m[\u001b[0m\u001b[0mbatch_outs\u001b[0m\u001b[0;34m]\u001b[0m\u001b[0;34m\u001b[0m\u001b[0;34m\u001b[0m\u001b[0m\n",
            "\u001b[0;32m/usr/local/lib/python3.6/dist-packages/tensorflow_core/python/keras/engine/training.py\u001b[0m in \u001b[0;36mtrain_on_batch\u001b[0;34m(self, x, y, sample_weight, class_weight, reset_metrics)\u001b[0m\n\u001b[1;32m   1015\u001b[0m       \u001b[0mself\u001b[0m\u001b[0;34m.\u001b[0m\u001b[0m_update_sample_weight_modes\u001b[0m\u001b[0;34m(\u001b[0m\u001b[0msample_weights\u001b[0m\u001b[0;34m=\u001b[0m\u001b[0msample_weights\u001b[0m\u001b[0;34m)\u001b[0m\u001b[0;34m\u001b[0m\u001b[0;34m\u001b[0m\u001b[0m\n\u001b[1;32m   1016\u001b[0m       \u001b[0mself\u001b[0m\u001b[0;34m.\u001b[0m\u001b[0m_make_train_function\u001b[0m\u001b[0;34m(\u001b[0m\u001b[0;34m)\u001b[0m\u001b[0;34m\u001b[0m\u001b[0;34m\u001b[0m\u001b[0m\n\u001b[0;32m-> 1017\u001b[0;31m       \u001b[0moutputs\u001b[0m \u001b[0;34m=\u001b[0m \u001b[0mself\u001b[0m\u001b[0;34m.\u001b[0m\u001b[0mtrain_function\u001b[0m\u001b[0;34m(\u001b[0m\u001b[0mins\u001b[0m\u001b[0;34m)\u001b[0m  \u001b[0;31m# pylint: disable=not-callable\u001b[0m\u001b[0;34m\u001b[0m\u001b[0;34m\u001b[0m\u001b[0m\n\u001b[0m\u001b[1;32m   1018\u001b[0m \u001b[0;34m\u001b[0m\u001b[0m\n\u001b[1;32m   1019\u001b[0m     \u001b[0;32mif\u001b[0m \u001b[0mreset_metrics\u001b[0m\u001b[0;34m:\u001b[0m\u001b[0;34m\u001b[0m\u001b[0;34m\u001b[0m\u001b[0m\n",
            "\u001b[0;32m/usr/local/lib/python3.6/dist-packages/tensorflow_core/python/keras/backend.py\u001b[0m in \u001b[0;36m__call__\u001b[0;34m(self, inputs)\u001b[0m\n\u001b[1;32m   3474\u001b[0m \u001b[0;34m\u001b[0m\u001b[0m\n\u001b[1;32m   3475\u001b[0m     fetched = self._callable_fn(*array_vals,\n\u001b[0;32m-> 3476\u001b[0;31m                                 run_metadata=self.run_metadata)\n\u001b[0m\u001b[1;32m   3477\u001b[0m     \u001b[0mself\u001b[0m\u001b[0;34m.\u001b[0m\u001b[0m_call_fetch_callbacks\u001b[0m\u001b[0;34m(\u001b[0m\u001b[0mfetched\u001b[0m\u001b[0;34m[\u001b[0m\u001b[0;34m-\u001b[0m\u001b[0mlen\u001b[0m\u001b[0;34m(\u001b[0m\u001b[0mself\u001b[0m\u001b[0;34m.\u001b[0m\u001b[0m_fetches\u001b[0m\u001b[0;34m)\u001b[0m\u001b[0;34m:\u001b[0m\u001b[0;34m]\u001b[0m\u001b[0;34m)\u001b[0m\u001b[0;34m\u001b[0m\u001b[0;34m\u001b[0m\u001b[0m\n\u001b[1;32m   3478\u001b[0m     output_structure = nest.pack_sequence_as(\n",
            "\u001b[0;32m/usr/local/lib/python3.6/dist-packages/tensorflow_core/python/client/session.py\u001b[0m in \u001b[0;36m__call__\u001b[0;34m(self, *args, **kwargs)\u001b[0m\n\u001b[1;32m   1470\u001b[0m         ret = tf_session.TF_SessionRunCallable(self._session._session,\n\u001b[1;32m   1471\u001b[0m                                                \u001b[0mself\u001b[0m\u001b[0;34m.\u001b[0m\u001b[0m_handle\u001b[0m\u001b[0;34m,\u001b[0m \u001b[0margs\u001b[0m\u001b[0;34m,\u001b[0m\u001b[0;34m\u001b[0m\u001b[0;34m\u001b[0m\u001b[0m\n\u001b[0;32m-> 1472\u001b[0;31m                                                run_metadata_ptr)\n\u001b[0m\u001b[1;32m   1473\u001b[0m         \u001b[0;32mif\u001b[0m \u001b[0mrun_metadata\u001b[0m\u001b[0;34m:\u001b[0m\u001b[0;34m\u001b[0m\u001b[0;34m\u001b[0m\u001b[0m\n\u001b[1;32m   1474\u001b[0m           \u001b[0mproto_data\u001b[0m \u001b[0;34m=\u001b[0m \u001b[0mtf_session\u001b[0m\u001b[0;34m.\u001b[0m\u001b[0mTF_GetBuffer\u001b[0m\u001b[0;34m(\u001b[0m\u001b[0mrun_metadata_ptr\u001b[0m\u001b[0;34m)\u001b[0m\u001b[0;34m\u001b[0m\u001b[0;34m\u001b[0m\u001b[0m\n",
            "\u001b[0;31mKeyboardInterrupt\u001b[0m: "
          ]
        }
      ]
    },
    {
      "cell_type": "code",
      "metadata": {
        "id": "FOlWg8H0QUaG",
        "colab_type": "code",
        "colab": {
          "base_uri": "https://localhost:8080/",
          "height": 913
        },
        "outputId": "d4833537-da09-4f5f-d615-621f1ca9174a"
      },
      "source": [
        "for x, y in gen_train(n_src=34, max_rad=30, max_n=30, shape=input_size, n_noise=10000):\n",
        "    ans = model.predict(x)\n",
        "    plt.figure(0)\n",
        "    imshow(x[0, :, :, 0])\n",
        "    plt.figure(1)\n",
        "    imshow(y[0, :, :, 0])\n",
        "    plt.figure(2)\n",
        "    imshow(ans[0, :, :, 0])\n",
        "    plt.show()\n",
        "    break"
      ],
      "execution_count": 7,
      "outputs": [
        {
          "output_type": "stream",
          "text": [
            "/usr/local/lib/python3.6/dist-packages/skimage/io/_plugins/matplotlib_plugin.py:150: UserWarning: Low image data range; displaying image with stretched contrast.\n",
            "  lo, hi, cmap = _get_display_range(image)\n"
          ],
          "name": "stderr"
        },
        {
          "output_type": "display_data",
          "data": {
            "image/png": "[encoded data removed]",
            "text/plain": [
              "<Figure size 432x288 with 2 Axes>"
            ]
          },
          "metadata": {
            "tags": []
          }
        },
        {
          "output_type": "display_data",
          "data": {
            "image/png": "[encoded data removed]",
            "text/plain": [
              "<Figure size 432x288 with 2 Axes>"
            ]
          },
          "metadata": {
            "tags": []
          }
        },
        {
          "output_type": "display_data",
          "data": {
            "image/png": "[encoded data removed]",
            "text/plain": [
              "<Figure size 432x288 with 1 Axes>"
            ]
          },
          "metadata": {
            "tags": []
          }
        }
      ]
    },
    {
      "cell_type": "code",
      "metadata": {
        "id": "jB4q-097sSau",
        "colab_type": "code",
        "colab": {}
      },
      "source": [
        ""
      ],
      "execution_count": 0,
      "outputs": []
    }
  ]
}