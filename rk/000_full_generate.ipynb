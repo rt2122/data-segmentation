{
 "cells": [
  {
   "cell_type": "code",
   "execution_count": null,
   "metadata": {},
   "outputs": [],
   "source": []
  },
  {
   "cell_type": "code",
   "execution_count": null,
   "metadata": {},
   "outputs": [],
   "source": [
    "def generate_all(list_num, inpix, radius, size, cat, n_patches, nside, \n",
    "                 cnt_dir='/home/rt2122/data/train/centers/'):\n",
    "    #generate centers\n",
    "    from all_p import gen_patches_pixels, gen_centers_fast, ClusterFile\n",
    "    from numpy import log2\n",
    "    import pandas as pd\n",
    "    from os.path import join\n",
    "    all_pixels = gen_patches_pixels(cat, radius, 2**10).astype(np.int64)\n",
    "    cnt = gen_centers_fast(n_patches, all_pixels, 2**10, nside)\n",
    "    cnt.index.name='index'\n",
    "    cf_cnt = ClusterFile('_')\n",
    "    cf_cnt.params['typ'] = 'cen'\n",
    "    cf_cnt.params['id_list'] = list_num\n",
    "    cf_cnt.params['num'] = n_patches\n",
    "    cf_cnt.params['inpix'] = inpix\n",
    "    cf_cnt.params['size'] = inpix\n",
    "    cf_cnt.params['nside'] = log2(nside)\n",
    "    \n",
    "    cnt.to_csv(join(cnt_dir, cf.file('.csv')))\n",
    "    \n",
    "    del all_pixels\n",
    "    \n",
    "    #download\n",
    "    from only_colab import get_patch\n",
    "    cf = ClusterFile('_')\n",
    "    cf.params['typ'] = 'dat'\n",
    "    cf.params['id_list'] = list_num\n",
    "    cf.params['inpix'] = inpix\n",
    "    cf.params['state'] = 'ne'\n",
    "    cf.params['typ'] = 'dat'\n",
    "    for i in range(n_patches):\n",
    "        ra = cnt['ra'].iloc[i]\n",
    "        dec = cnt['dec'].iloc[i]\n",
    "        get_patch(ra, dec, radius * 60, job_name='list_%d_patch_%d' % (list_num, i), \n",
    "                 file_name = )\n",
    "    \n",
    "    #proc: drop duplicates and calc pix\n",
    "    \n",
    "    #make pixels matrix\n",
    "    \n",
    "    #make filters"
   ]
  }
 ],
 "metadata": {
  "kernelspec": {
   "display_name": "Python 3",
   "language": "python",
   "name": "python3"
  },
  "language_info": {
   "codemirror_mode": {
    "name": "ipython",
    "version": 3
   },
   "file_extension": ".py",
   "mimetype": "text/x-python",
   "name": "python",
   "nbconvert_exporter": "python",
   "pygments_lexer": "ipython3",
   "version": "3.7.3"
  }
 },
 "nbformat": 4,
 "nbformat_minor": 2
}
