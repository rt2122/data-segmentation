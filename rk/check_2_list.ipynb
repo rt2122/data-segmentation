{
 "cells": [
  {
   "cell_type": "code",
   "execution_count": 1,
   "metadata": {
    "ExecuteTime": {
     "end_time": "2020-04-27T13:46:54.958819Z",
     "start_time": "2020-04-27T13:46:54.664438Z"
    }
   },
   "outputs": [],
   "source": [
    "import pandas as pd"
   ]
  },
  {
   "cell_type": "code",
   "execution_count": 31,
   "metadata": {
    "ExecuteTime": {
     "end_time": "2020-04-27T13:59:39.189302Z",
     "start_time": "2020-04-27T13:59:39.159178Z"
    }
   },
   "outputs": [],
   "source": [
    "cnt = pd.read_csv('/home/rt2122/data/train/centers/tcen_il1_n20_in5_len0.6462_hns17.csv', index_col='index')"
   ]
  },
  {
   "cell_type": "code",
   "execution_count": 32,
   "metadata": {
    "ExecuteTime": {
     "end_time": "2020-04-27T13:59:44.845560Z",
     "start_time": "2020-04-27T13:59:44.837364Z"
    }
   },
   "outputs": [
    {
     "data": {
      "text/html": [
       "<div>\n",
       "<style scoped>\n",
       "    .dataframe tbody tr th:only-of-type {\n",
       "        vertical-align: middle;\n",
       "    }\n",
       "\n",
       "    .dataframe tbody tr th {\n",
       "        vertical-align: top;\n",
       "    }\n",
       "\n",
       "    .dataframe thead th {\n",
       "        text-align: right;\n",
       "    }\n",
       "</style>\n",
       "<table border=\"1\" class=\"dataframe\">\n",
       "  <thead>\n",
       "    <tr style=\"text-align: right;\">\n",
       "      <th></th>\n",
       "      <th>pix</th>\n",
       "      <th>ra</th>\n",
       "      <th>dec</th>\n",
       "    </tr>\n",
       "    <tr>\n",
       "      <th>index</th>\n",
       "      <th></th>\n",
       "      <th></th>\n",
       "      <th></th>\n",
       "    </tr>\n",
       "  </thead>\n",
       "  <tbody>\n",
       "    <tr>\n",
       "      <th>0</th>\n",
       "      <td>22951680682</td>\n",
       "      <td>132.221748</td>\n",
       "      <td>48.009135</td>\n",
       "    </tr>\n",
       "    <tr>\n",
       "      <th>1</th>\n",
       "      <td>21482986154</td>\n",
       "      <td>100.095108</td>\n",
       "      <td>57.330533</td>\n",
       "    </tr>\n",
       "    <tr>\n",
       "      <th>2</th>\n",
       "      <td>25322199722</td>\n",
       "      <td>156.208598</td>\n",
       "      <td>49.593828</td>\n",
       "    </tr>\n",
       "    <tr>\n",
       "      <th>3</th>\n",
       "      <td>24804468053</td>\n",
       "      <td>148.255913</td>\n",
       "      <td>52.175710</td>\n",
       "    </tr>\n",
       "    <tr>\n",
       "      <th>4</th>\n",
       "      <td>21488409258</td>\n",
       "      <td>99.916181</td>\n",
       "      <td>58.030799</td>\n",
       "    </tr>\n",
       "  </tbody>\n",
       "</table>\n",
       "</div>"
      ],
      "text/plain": [
       "               pix          ra        dec\n",
       "index                                    \n",
       "0      22951680682  132.221748  48.009135\n",
       "1      21482986154  100.095108  57.330533\n",
       "2      25322199722  156.208598  49.593828\n",
       "3      24804468053  148.255913  52.175710\n",
       "4      21488409258   99.916181  58.030799"
      ]
     },
     "execution_count": 32,
     "metadata": {},
     "output_type": "execute_result"
    }
   ],
   "source": [
    "cnt.head()"
   ]
  },
  {
   "cell_type": "code",
   "execution_count": 4,
   "metadata": {
    "ExecuteTime": {
     "end_time": "2020-04-27T13:47:55.676724Z",
     "start_time": "2020-04-27T13:47:54.976811Z"
    }
   },
   "outputs": [],
   "source": [
    "import healpy as hp"
   ]
  },
  {
   "cell_type": "code",
   "execution_count": 23,
   "metadata": {
    "ExecuteTime": {
     "end_time": "2020-04-27T13:54:27.695462Z",
     "start_time": "2020-04-27T13:54:27.685056Z"
    }
   },
   "outputs": [
    {
     "data": {
      "text/plain": [
       "12288"
      ]
     },
     "execution_count": 23,
     "metadata": {},
     "output_type": "execute_result"
    }
   ],
   "source": [
    "nside = 2**5\n",
    "npix = hp.nside2npix(nside)\n",
    "npix"
   ]
  },
  {
   "cell_type": "code",
   "execution_count": 9,
   "metadata": {
    "ExecuteTime": {
     "end_time": "2020-04-27T13:49:16.719419Z",
     "start_time": "2020-04-27T13:49:16.717002Z"
    }
   },
   "outputs": [],
   "source": [
    "import numpy as np"
   ]
  },
  {
   "cell_type": "code",
   "execution_count": 11,
   "metadata": {
    "ExecuteTime": {
     "end_time": "2020-04-27T13:50:19.327641Z",
     "start_time": "2020-04-27T13:50:19.316507Z"
    }
   },
   "outputs": [],
   "source": [
    "def show_pix(a, nside=2**11, matrix=False, one_colour=True):\n",
    "    if matrix:\n",
    "        a = a.reshape((a.shape[0] * a.shape[1]))\n",
    "    m = np.zeros((hp.nside2npix(nside)), dtype=np.int32)\n",
    "    i = 0\n",
    "    for npix in a:\n",
    "        vec = hp.pix2vec(nside=nside, ipix=npix, nest=True)\n",
    "        ipix_disc = hp.query_disc(nside=nside, vec=vec, radius=np.radians(1), nest=True)\n",
    "        m[ipix_disc] = 35\n",
    "        if not one_colour:\n",
    "            m[ipix_disc] += i\n",
    "            i += 1\n",
    "    hp.mollview(m, title=\"Mollview image NEST\", nest=True)"
   ]
  },
  {
   "cell_type": "code",
   "execution_count": 24,
   "metadata": {
    "ExecuteTime": {
     "end_time": "2020-04-27T13:54:30.376560Z",
     "start_time": "2020-04-27T13:54:29.973886Z"
    }
   },
   "outputs": [
    {
     "data": {
      "image/png": "[encoded data removed]",
      "text/plain": [
       "<Figure size 612x388.8 with 2 Axes>"
      ]
     },
     "metadata": {
      "needs_background": "light"
     },
     "output_type": "display_data"
    }
   ],
   "source": [
    "hp.mollview(np.array([0, 1] * (npix // 2)), title=\"Mollview image NEST\", nest=True)"
   ]
  },
  {
   "cell_type": "code",
   "execution_count": 15,
   "metadata": {
    "ExecuteTime": {
     "end_time": "2020-04-27T13:52:54.256601Z",
     "start_time": "2020-04-27T13:52:54.232320Z"
    }
   },
   "outputs": [],
   "source": [
    "%matplotlib inline"
   ]
  },
  {
   "cell_type": "code",
   "execution_count": 33,
   "metadata": {
    "ExecuteTime": {
     "end_time": "2020-04-27T13:59:53.311617Z",
     "start_time": "2020-04-27T13:59:53.297730Z"
    }
   },
   "outputs": [],
   "source": [
    "cnt_5 = []\n",
    "for i in range(cnt.shape[0]):\n",
    "    pix = cnt['pix'].iloc[i]\n",
    "    vec = hp.pix2vec(nside=2**17, nest=True, ipix=pix)\n",
    "    cnt_5.append(hp.vec2pix(nside=nside, nest=True, x=vec[0], y=vec[1], z=vec[2]))"
   ]
  },
  {
   "cell_type": "code",
   "execution_count": 34,
   "metadata": {
    "ExecuteTime": {
     "end_time": "2020-04-27T13:59:53.876989Z",
     "start_time": "2020-04-27T13:59:53.869361Z"
    }
   },
   "outputs": [],
   "source": [
    "sh = np.zeros(npix)"
   ]
  },
  {
   "cell_type": "code",
   "execution_count": 35,
   "metadata": {
    "ExecuteTime": {
     "end_time": "2020-04-27T13:59:56.931762Z",
     "start_time": "2020-04-27T13:59:56.922926Z"
    }
   },
   "outputs": [],
   "source": [
    "sh[cnt_5] = 1"
   ]
  },
  {
   "cell_type": "code",
   "execution_count": 36,
   "metadata": {
    "ExecuteTime": {
     "end_time": "2020-04-27T13:59:57.561920Z",
     "start_time": "2020-04-27T13:59:57.299915Z"
    }
   },
   "outputs": [
    {
     "data": {
      "image/png": "[encoded data removed]",
      "text/plain": [
       "<Figure size 612x388.8 with 2 Axes>"
      ]
     },
     "metadata": {
      "needs_background": "light"
     },
     "output_type": "display_data"
    }
   ],
   "source": [
    "hp.mollview(sh, title=\"Mollview image NEST\", nest=True)"
   ]
  },
  {
   "cell_type": "code",
   "execution_count": null,
   "metadata": {},
   "outputs": [],
   "source": []
  }
 ],
 "metadata": {
  "kernelspec": {
   "display_name": "Python 3",
   "language": "python",
   "name": "python3"
  },
  "language_info": {
   "codemirror_mode": {
    "name": "ipython",
    "version": 3
   },
   "file_extension": ".py",
   "mimetype": "text/x-python",
   "name": "python",
   "nbconvert_exporter": "python",
   "pygments_lexer": "ipython3",
   "version": "3.7.3"
  }
 },
 "nbformat": 4,
 "nbformat_minor": 2
}
