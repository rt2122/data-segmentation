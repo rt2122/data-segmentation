{
 "cells": [
  {
   "cell_type": "code",
   "execution_count": 1,
   "metadata": {
    "ExecuteTime": {
     "end_time": "2020-04-18T18:03:33.576308Z",
     "start_time": "2020-04-18T18:03:33.033042Z"
    }
   },
   "outputs": [],
   "source": [
    "%matplotlib inline\n",
    "from astropy.io import ascii\n",
    "from astropy.table import Table\n",
    "\n",
    "import sys\n",
    "import re\n",
    "import numpy as np\n",
    "import pylab\n",
    "import json\n",
    "import requests\n",
    "\n",
    "try: # Python 3.x\n",
    "    from urllib.parse import quote as urlencode\n",
    "    from urllib.request import urlretrieve\n",
    "except ImportError:  # Python 2.x\n",
    "    from urllib import pathname2url as urlencode\n",
    "    from urllib import urlretrieve\n",
    "\n",
    "try: # Python 3.x\n",
    "    import http.client as httplib \n",
    "except ImportError:  # Python 2.x\n",
    "    import httplib  "
   ]
  },
  {
   "cell_type": "code",
   "execution_count": 2,
   "metadata": {
    "ExecuteTime": {
     "end_time": "2020-04-18T18:03:33.587900Z",
     "start_time": "2020-04-18T18:03:33.580643Z"
    }
   },
   "outputs": [],
   "source": [
    "from api import *"
   ]
  },
  {
   "cell_type": "code",
   "execution_count": 3,
   "metadata": {
    "ExecuteTime": {
     "end_time": "2020-04-18T18:05:52.265575Z",
     "start_time": "2020-04-18T18:05:49.741163Z"
    }
   },
   "outputs": [],
   "source": [
    "import pandas as pd"
   ]
  },
  {
   "cell_type": "code",
   "execution_count": 4,
   "metadata": {
    "ExecuteTime": {
     "end_time": "2020-04-18T18:06:08.932510Z",
     "start_time": "2020-04-18T18:06:08.634829Z"
    }
   },
   "outputs": [],
   "source": [
    "c_patch = pd.read_csv('../src_data/one_patch.csv')"
   ]
  },
  {
   "cell_type": "code",
   "execution_count": 7,
   "metadata": {
    "ExecuteTime": {
     "end_time": "2020-04-18T18:12:37.820456Z",
     "start_time": "2020-04-18T18:12:34.051213Z"
    }
   },
   "outputs": [
    {
     "name": "stdout",
     "output_type": "stream",
     "text": [
      "https://catalogs.mast.stsci.edu/api/v0.1/panstarrs/dr2/stack.csv?nDetections.gt=1&ra=217.8634834331949&dec=66.54466608500267&radius=0.013888888888888888&columns=%5Bl%2Cb%2CgPSFFlux%2CgPSFFluxErr%2CgKronFlux%2CgKronFluxErr%2CrPSFFlux%2CrPSFFluxErr%2CrKronFlux%2CrKronFluxErr%2CiPSFFlux%2CiPSFFluxErr%2CiKronFlux%2CiKronFluxErr%2CzPSFFlux%2CzPSFFluxErr%2CzKronFlux%2CzKronFluxErr%2CyPSFFlux%2CyPSFFluxErr%2CyKronFlux%2CyKronFluxErr%5D\n",
      "11 rows in results -- first 5 rows:\n",
      "l,b,gPSFFlux,gPSFFluxErr,gKronFlux,gKronFluxErr,rPSFFlux,rPSFFluxErr,rKronFlux,rKronFluxErr,iPSFFlux,iPSFFluxErr,iKronFlux,iKronFluxErr,zPSFFlux,zPSFFluxErr,zKronFlux,zKronFluxErr,yPSFFlux,yPSFFluxErr,yKronFlux,yKronFluxErr\r\n",
      "108.4654289057925,47.68652981653164,0.0007394740241579711,1.2212799447297584e-06,0.0007061050273478031,1.1322199497953989e-06,0.0012014700332656503,1.8061799664792488e-06,0.0011536399833858013,1.8802800241246587e-06,0.001429000054486096,1.6538399449927965e-06,0.0013883699430152774,1.6476200244142092e-06,0.0014141099527478218,2.651190015967586e-06,0.0014457900542765856,3.1276699701265898e-06,0.0016612099716439843,3.7240299661789322e-06,0.0015598000027239323,5.560580120800296e-06\r\n",
      "108.4429704462418,47.672097012248535,0.0001891389983939007,9.907359981298214e-07,0.00017919199308380485,1.1440599791967543e-06,0.0002659920137375593,1.518299995950656e-06,0.00021372700575739145,1.9122899175272323e-06,0.0002519040135666728,5.621880063699791e-07,0.00023108499590307474,7.457369974872563e-07,0.0002444119891151786,1.508239961367508e-06,0.0002290580014232546,2.0302300072216894e-06,0.00023041600070428103,2.9720399652433116e-06,0.00022474500292446464,4.78372021461837e-06\r\n",
      "108.47501337931786,47.68389770986544,2.267240006403881e-06,4.0261900835503184e-07,2.662470024006325e-06,5.350149763216905e-07,3.1412200769409537e-06,5.439309802568459e-07,4.032319793623174e-06,1.0108300330102793e-06,4.0607101254863665e-06,3.1352999485534383e-07,4.6706800276297145e-06,5.180870061849419e-07,4.3829500100400764e-06,1.189329964290664e-06,-999.0,-999.0,8.612300007371232e-06,2.698079924812191e-06,-999.0,-999.0\r\n",
      "108.46854741195527,47.68241696595007,1.1869999980262946e-05,4.276820106952073e-07,1.0380999810877256e-05,5.426800271379761e-07,1.6154699551407248e-05,5.697600045095896e-07,1.3918000149715226e-05,8.067800081335008e-07,1.894429988169577e-05,3.46569009934683e-07,1.6107400369946845e-05,4.978739980288083e-07,1.9806100681307726e-05,1.2387599781504832e-06,1.6224999853875488e-05,1.6180399597942596e-06,2.13053008337738e-05,2.6526799956627656e-06,1.515749954705825e-05,3.210619979654439e-06\r\n",
      "108.47790313867331,47.67608851182484,4.2778301576618105e-06,4.023129918095947e-07,4.717160209111171e-06,5.244049816610641e-07,6.755779850209365e-06,5.538209961741813e-07,7.430549885611981e-06,7.259320113917056e-07,9.547759873385075e-06,3.2701601071494224e-07,1.686369978415314e-05,6.512029813166009e-07,1.5054600225994363e-05,1.0129200518349535e-06,1.9009899915545247e-05,1.711330014586565e-06,1.7137099348474294e-05,2.5360900508530904e-06,4.089159847353585e-05,5.279840024741134e-06\r\n"
     ]
    }
   ],
   "source": [
    "ra = c_patch['RAdeg'].iloc[0]\n",
    "dec = c_patch['DEdeg'].iloc[0]\n",
    "radius = 50.0/3600.0\n",
    "constraints = {'nDetections.gt':1}\n",
    "\n",
    "# strip blanks and weed out blank and commented-out values\n",
    "columns = \"\"\"l,b,\n",
    "gPSFFlux,gPSFFluxErr,gKronFlux, gKronFluxErr,\n",
    "rPSFFlux, rPSFFluxErr, rKronFlux, rKronFluxErr,\n",
    "iPSFFlux, iPSFFluxErr, iKronFlux, iKronFluxErr,\n",
    "zPSFFlux, zPSFFluxErr, zKronFlux, zKronFluxErr,\n",
    "yPSFFlux, yPSFFluxErr, yKronFlux, yKronFluxErr\"\"\".split(',')\n",
    "columns = [x.strip() for x in columns]\n",
    "columns = [x for x in columns if x and not x.startswith('#')]\n",
    "results = ps1cone(ra,dec,radius,release='dr2',columns=columns,verbose=True,**constraints, table='stack')\n",
    "# print first few lines\n",
    "lines = results.split('\\n')\n",
    "print(len(lines),\"rows in results -- first 5 rows:\")\n",
    "print('\\n'.join(lines[:6]))"
   ]
  },
  {
   "cell_type": "code",
   "execution_count": 8,
   "metadata": {
    "ExecuteTime": {
     "end_time": "2020-04-18T18:13:48.116685Z",
     "start_time": "2020-04-18T18:13:48.075685Z"
    }
   },
   "outputs": [],
   "source": [
    "tab = ascii.read(results)"
   ]
  },
  {
   "cell_type": "code",
   "execution_count": 10,
   "metadata": {
    "ExecuteTime": {
     "end_time": "2020-04-18T18:14:14.515833Z",
     "start_time": "2020-04-18T18:14:14.374387Z"
    }
   },
   "outputs": [
    {
     "ename": "ValueError",
     "evalue": "DataFrame constructor not properly called!",
     "output_type": "error",
     "traceback": [
      "\u001b[0;31m---------------------------------------------------------------------------\u001b[0m",
      "\u001b[0;31mValueError\u001b[0m                                Traceback (most recent call last)",
      "\u001b[0;32m<ipython-input-10-206370abf29f>\u001b[0m in \u001b[0;36m<module>\u001b[0;34m\u001b[0m\n\u001b[0;32m----> 1\u001b[0;31m \u001b[0mdata\u001b[0m \u001b[0;34m=\u001b[0m \u001b[0mpd\u001b[0m\u001b[0;34m.\u001b[0m\u001b[0mDataFrame\u001b[0m\u001b[0;34m(\u001b[0m\u001b[0mtab\u001b[0m\u001b[0;34m)\u001b[0m\u001b[0;34m\u001b[0m\u001b[0;34m\u001b[0m\u001b[0m\n\u001b[0m",
      "\u001b[0;32m~/anaconda3/lib/python3.7/site-packages/pandas/core/frame.py\u001b[0m in \u001b[0;36m__init__\u001b[0;34m(self, data, index, columns, dtype, copy)\u001b[0m\n\u001b[1;32m    466\u001b[0m                                    dtype=values.dtype, copy=False)\n\u001b[1;32m    467\u001b[0m             \u001b[0;32melse\u001b[0m\u001b[0;34m:\u001b[0m\u001b[0;34m\u001b[0m\u001b[0;34m\u001b[0m\u001b[0m\n\u001b[0;32m--> 468\u001b[0;31m                 \u001b[0;32mraise\u001b[0m \u001b[0mValueError\u001b[0m\u001b[0;34m(\u001b[0m\u001b[0;34m'DataFrame constructor not properly called!'\u001b[0m\u001b[0;34m)\u001b[0m\u001b[0;34m\u001b[0m\u001b[0;34m\u001b[0m\u001b[0m\n\u001b[0m\u001b[1;32m    469\u001b[0m \u001b[0;34m\u001b[0m\u001b[0m\n\u001b[1;32m    470\u001b[0m         \u001b[0mNDFrame\u001b[0m\u001b[0;34m.\u001b[0m\u001b[0m__init__\u001b[0m\u001b[0;34m(\u001b[0m\u001b[0mself\u001b[0m\u001b[0;34m,\u001b[0m \u001b[0mmgr\u001b[0m\u001b[0;34m,\u001b[0m \u001b[0mfastpath\u001b[0m\u001b[0;34m=\u001b[0m\u001b[0;32mTrue\u001b[0m\u001b[0;34m)\u001b[0m\u001b[0;34m\u001b[0m\u001b[0;34m\u001b[0m\u001b[0m\n",
      "\u001b[0;31mValueError\u001b[0m: DataFrame constructor not properly called!"
     ]
    }
   ],
   "source": [
    "data = pd.DataFrame(tab)"
   ]
  },
  {
   "cell_type": "code",
   "execution_count": 11,
   "metadata": {
    "ExecuteTime": {
     "end_time": "2020-04-18T18:16:39.625124Z",
     "start_time": "2020-04-18T18:16:39.617404Z"
    }
   },
   "outputs": [
    {
     "data": {
      "text/plain": [
       "9"
      ]
     },
     "execution_count": 11,
     "metadata": {},
     "output_type": "execute_result"
    }
   ],
   "source": [
    "len(tab)"
   ]
  },
  {
   "cell_type": "code",
   "execution_count": 28,
   "metadata": {
    "ExecuteTime": {
     "end_time": "2020-04-18T18:20:53.389549Z",
     "start_time": "2020-04-18T18:20:53.386078Z"
    }
   },
   "outputs": [],
   "source": [
    "params = tab[0].colnames"
   ]
  },
  {
   "cell_type": "code",
   "execution_count": 30,
   "metadata": {
    "ExecuteTime": {
     "end_time": "2020-04-18T18:21:37.048300Z",
     "start_time": "2020-04-18T18:21:36.972534Z"
    }
   },
   "outputs": [],
   "source": [
    "data = pd.DataFrame([])\n",
    "for p in params:\n",
    "    data[p] = tab[p]"
   ]
  },
  {
   "cell_type": "code",
   "execution_count": 29,
   "metadata": {
    "ExecuteTime": {
     "end_time": "2020-04-18T18:21:24.358186Z",
     "start_time": "2020-04-18T18:21:24.346615Z"
    }
   },
   "outputs": [
    {
     "data": {
      "text/html": [
       "&lt;Column name=&apos;l&apos; dtype=&apos;float64&apos; length=5&gt;\n",
       "<table>\n",
       "<tr><td>108.4654289057925</td></tr>\n",
       "<tr><td>108.4429704462418</td></tr>\n",
       "<tr><td>108.47501337931786</td></tr>\n",
       "<tr><td>108.46854741195527</td></tr>\n",
       "<tr><td>108.47790313867331</td></tr>\n",
       "</table>"
      ],
      "text/plain": [
       "<Column name='l' dtype='float64' length=5>\n",
       " 108.4654289057925\n",
       " 108.4429704462418\n",
       "108.47501337931786\n",
       "108.46854741195527\n",
       "108.47790313867331"
      ]
     },
     "execution_count": 29,
     "metadata": {},
     "output_type": "execute_result"
    }
   ],
   "source": [
    "tab[params[0]][:5]"
   ]
  },
  {
   "cell_type": "code",
   "execution_count": 31,
   "metadata": {
    "ExecuteTime": {
     "end_time": "2020-04-18T18:21:42.482438Z",
     "start_time": "2020-04-18T18:21:42.268996Z"
    }
   },
   "outputs": [
    {
     "data": {
      "text/html": [
       "<div>\n",
       "<style scoped>\n",
       "    .dataframe tbody tr th:only-of-type {\n",
       "        vertical-align: middle;\n",
       "    }\n",
       "\n",
       "    .dataframe tbody tr th {\n",
       "        vertical-align: top;\n",
       "    }\n",
       "\n",
       "    .dataframe thead th {\n",
       "        text-align: right;\n",
       "    }\n",
       "</style>\n",
       "<table border=\"1\" class=\"dataframe\">\n",
       "  <thead>\n",
       "    <tr style=\"text-align: right;\">\n",
       "      <th></th>\n",
       "      <th>l</th>\n",
       "      <th>b</th>\n",
       "      <th>gPSFFlux</th>\n",
       "      <th>gPSFFluxErr</th>\n",
       "      <th>gKronFlux</th>\n",
       "      <th>gKronFluxErr</th>\n",
       "      <th>rPSFFlux</th>\n",
       "      <th>rPSFFluxErr</th>\n",
       "      <th>rKronFlux</th>\n",
       "      <th>rKronFluxErr</th>\n",
       "      <th>...</th>\n",
       "      <th>iKronFlux</th>\n",
       "      <th>iKronFluxErr</th>\n",
       "      <th>zPSFFlux</th>\n",
       "      <th>zPSFFluxErr</th>\n",
       "      <th>zKronFlux</th>\n",
       "      <th>zKronFluxErr</th>\n",
       "      <th>yPSFFlux</th>\n",
       "      <th>yPSFFluxErr</th>\n",
       "      <th>yKronFlux</th>\n",
       "      <th>yKronFluxErr</th>\n",
       "    </tr>\n",
       "  </thead>\n",
       "  <tbody>\n",
       "    <tr>\n",
       "      <th>0</th>\n",
       "      <td>108.465429</td>\n",
       "      <td>47.686530</td>\n",
       "      <td>0.000739</td>\n",
       "      <td>1.221280e-06</td>\n",
       "      <td>0.000706</td>\n",
       "      <td>1.132220e-06</td>\n",
       "      <td>0.001201</td>\n",
       "      <td>1.806180e-06</td>\n",
       "      <td>0.001154</td>\n",
       "      <td>1.880280e-06</td>\n",
       "      <td>...</td>\n",
       "      <td>0.001388</td>\n",
       "      <td>1.647620e-06</td>\n",
       "      <td>0.001414</td>\n",
       "      <td>0.000003</td>\n",
       "      <td>0.001446</td>\n",
       "      <td>0.000003</td>\n",
       "      <td>0.001661</td>\n",
       "      <td>0.000004</td>\n",
       "      <td>0.001560</td>\n",
       "      <td>0.000006</td>\n",
       "    </tr>\n",
       "    <tr>\n",
       "      <th>1</th>\n",
       "      <td>108.442970</td>\n",
       "      <td>47.672097</td>\n",
       "      <td>0.000189</td>\n",
       "      <td>9.907360e-07</td>\n",
       "      <td>0.000179</td>\n",
       "      <td>1.144060e-06</td>\n",
       "      <td>0.000266</td>\n",
       "      <td>1.518300e-06</td>\n",
       "      <td>0.000214</td>\n",
       "      <td>1.912290e-06</td>\n",
       "      <td>...</td>\n",
       "      <td>0.000231</td>\n",
       "      <td>7.457370e-07</td>\n",
       "      <td>0.000244</td>\n",
       "      <td>0.000002</td>\n",
       "      <td>0.000229</td>\n",
       "      <td>0.000002</td>\n",
       "      <td>0.000230</td>\n",
       "      <td>0.000003</td>\n",
       "      <td>0.000225</td>\n",
       "      <td>0.000005</td>\n",
       "    </tr>\n",
       "    <tr>\n",
       "      <th>2</th>\n",
       "      <td>108.475013</td>\n",
       "      <td>47.683898</td>\n",
       "      <td>0.000002</td>\n",
       "      <td>4.026190e-07</td>\n",
       "      <td>0.000003</td>\n",
       "      <td>5.350150e-07</td>\n",
       "      <td>0.000003</td>\n",
       "      <td>5.439310e-07</td>\n",
       "      <td>0.000004</td>\n",
       "      <td>1.010830e-06</td>\n",
       "      <td>...</td>\n",
       "      <td>0.000005</td>\n",
       "      <td>5.180870e-07</td>\n",
       "      <td>0.000004</td>\n",
       "      <td>0.000001</td>\n",
       "      <td>-999.000000</td>\n",
       "      <td>-999.000000</td>\n",
       "      <td>0.000009</td>\n",
       "      <td>0.000003</td>\n",
       "      <td>-999.000000</td>\n",
       "      <td>-999.000000</td>\n",
       "    </tr>\n",
       "    <tr>\n",
       "      <th>3</th>\n",
       "      <td>108.468547</td>\n",
       "      <td>47.682417</td>\n",
       "      <td>0.000012</td>\n",
       "      <td>4.276820e-07</td>\n",
       "      <td>0.000010</td>\n",
       "      <td>5.426800e-07</td>\n",
       "      <td>0.000016</td>\n",
       "      <td>5.697600e-07</td>\n",
       "      <td>0.000014</td>\n",
       "      <td>8.067800e-07</td>\n",
       "      <td>...</td>\n",
       "      <td>0.000016</td>\n",
       "      <td>4.978740e-07</td>\n",
       "      <td>0.000020</td>\n",
       "      <td>0.000001</td>\n",
       "      <td>0.000016</td>\n",
       "      <td>0.000002</td>\n",
       "      <td>0.000021</td>\n",
       "      <td>0.000003</td>\n",
       "      <td>0.000015</td>\n",
       "      <td>0.000003</td>\n",
       "    </tr>\n",
       "    <tr>\n",
       "      <th>4</th>\n",
       "      <td>108.477903</td>\n",
       "      <td>47.676089</td>\n",
       "      <td>0.000004</td>\n",
       "      <td>4.023130e-07</td>\n",
       "      <td>0.000005</td>\n",
       "      <td>5.244050e-07</td>\n",
       "      <td>0.000007</td>\n",
       "      <td>5.538210e-07</td>\n",
       "      <td>0.000007</td>\n",
       "      <td>7.259320e-07</td>\n",
       "      <td>...</td>\n",
       "      <td>0.000017</td>\n",
       "      <td>6.512030e-07</td>\n",
       "      <td>0.000015</td>\n",
       "      <td>0.000001</td>\n",
       "      <td>0.000019</td>\n",
       "      <td>0.000002</td>\n",
       "      <td>0.000017</td>\n",
       "      <td>0.000003</td>\n",
       "      <td>0.000041</td>\n",
       "      <td>0.000005</td>\n",
       "    </tr>\n",
       "  </tbody>\n",
       "</table>\n",
       "<p>5 rows × 22 columns</p>\n",
       "</div>"
      ],
      "text/plain": [
       "            l          b  gPSFFlux   gPSFFluxErr  gKronFlux  gKronFluxErr  \\\n",
       "0  108.465429  47.686530  0.000739  1.221280e-06   0.000706  1.132220e-06   \n",
       "1  108.442970  47.672097  0.000189  9.907360e-07   0.000179  1.144060e-06   \n",
       "2  108.475013  47.683898  0.000002  4.026190e-07   0.000003  5.350150e-07   \n",
       "3  108.468547  47.682417  0.000012  4.276820e-07   0.000010  5.426800e-07   \n",
       "4  108.477903  47.676089  0.000004  4.023130e-07   0.000005  5.244050e-07   \n",
       "\n",
       "   rPSFFlux   rPSFFluxErr  rKronFlux  rKronFluxErr  ...  iKronFlux  \\\n",
       "0  0.001201  1.806180e-06   0.001154  1.880280e-06  ...   0.001388   \n",
       "1  0.000266  1.518300e-06   0.000214  1.912290e-06  ...   0.000231   \n",
       "2  0.000003  5.439310e-07   0.000004  1.010830e-06  ...   0.000005   \n",
       "3  0.000016  5.697600e-07   0.000014  8.067800e-07  ...   0.000016   \n",
       "4  0.000007  5.538210e-07   0.000007  7.259320e-07  ...   0.000017   \n",
       "\n",
       "   iKronFluxErr  zPSFFlux  zPSFFluxErr   zKronFlux  zKronFluxErr  yPSFFlux  \\\n",
       "0  1.647620e-06  0.001414     0.000003    0.001446      0.000003  0.001661   \n",
       "1  7.457370e-07  0.000244     0.000002    0.000229      0.000002  0.000230   \n",
       "2  5.180870e-07  0.000004     0.000001 -999.000000   -999.000000  0.000009   \n",
       "3  4.978740e-07  0.000020     0.000001    0.000016      0.000002  0.000021   \n",
       "4  6.512030e-07  0.000015     0.000001    0.000019      0.000002  0.000017   \n",
       "\n",
       "   yPSFFluxErr   yKronFlux  yKronFluxErr  \n",
       "0     0.000004    0.001560      0.000006  \n",
       "1     0.000003    0.000225      0.000005  \n",
       "2     0.000003 -999.000000   -999.000000  \n",
       "3     0.000003    0.000015      0.000003  \n",
       "4     0.000003    0.000041      0.000005  \n",
       "\n",
       "[5 rows x 22 columns]"
      ]
     },
     "execution_count": 31,
     "metadata": {},
     "output_type": "execute_result"
    }
   ],
   "source": [
    "data.head()"
   ]
  },
  {
   "cell_type": "code",
   "execution_count": 32,
   "metadata": {
    "ExecuteTime": {
     "end_time": "2020-04-18T18:23:44.579479Z",
     "start_time": "2020-04-18T18:23:44.568286Z"
    }
   },
   "outputs": [],
   "source": [
    "def get_one_patch(ra, dec, radius):\n",
    "    constraints = {'nDetections.gt':1}\n",
    "\n",
    "    columns = \"\"\"l,b,\n",
    "    gPSFFlux,gPSFFluxErr,gKronFlux, gKronFluxErr,\n",
    "    rPSFFlux, rPSFFluxErr, rKronFlux, rKronFluxErr,\n",
    "    iPSFFlux, iPSFFluxErr, iKronFlux, iKronFluxErr,\n",
    "    zPSFFlux, zPSFFluxErr, zKronFlux, zKronFluxErr,\n",
    "    yPSFFlux, yPSFFluxErr, yKronFlux, yKronFluxErr\"\"\".split(',')\n",
    "    columns = [x.strip() for x in columns]\n",
    "    columns = [x for x in columns if x and not x.startswith('#')]\n",
    "    results = ps1cone(ra,dec,radius,release='dr2',columns=columns,verbose=True,**constraints, table='stack')\n",
    "    lines = results.split('\\n')\n",
    "    \n",
    "    \n",
    "    tab = ascii.read(results)\n",
    "    \n",
    "    params = tab[0].colnames\n",
    "    data = pd.DataFrame([])\n",
    "    for p in params:\n",
    "        data[p] = tab[p]\n",
    "    \n",
    "    return data"
   ]
  },
  {
   "cell_type": "code",
   "execution_count": null,
   "metadata": {},
   "outputs": [],
   "source": []
  }
 ],
 "metadata": {
  "kernelspec": {
   "display_name": "Python 3",
   "language": "python",
   "name": "python3"
  },
  "language_info": {
   "codemirror_mode": {
    "name": "ipython",
    "version": 3
   },
   "file_extension": ".py",
   "mimetype": "text/x-python",
   "name": "python",
   "nbconvert_exporter": "python",
   "pygments_lexer": "ipython3",
   "version": "3.7.3"
  }
 },
 "nbformat": 4,
 "nbformat_minor": 2
}
