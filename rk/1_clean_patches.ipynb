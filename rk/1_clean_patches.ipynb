{
 "cells": [
  {
   "cell_type": "code",
   "execution_count": 13,
   "metadata": {
    "ExecuteTime": {
     "end_time": "2020-04-25T16:54:03.675455Z",
     "start_time": "2020-04-25T16:54:03.667218Z"
    }
   },
   "outputs": [],
   "source": [
    "from os import walk\n",
    "from os.path import join\n",
    "from all_p import ClusterFile, remove_duplicates_patch "
   ]
  },
  {
   "cell_type": "code",
   "execution_count": 2,
   "metadata": {
    "ExecuteTime": {
     "end_time": "2020-04-25T16:33:48.104660Z",
     "start_time": "2020-04-25T16:33:48.080663Z"
    }
   },
   "outputs": [
    {
     "data": {
      "text/plain": [
       "['tdat_il1_ip15_ra152.4899_dec71.4755_sne_in5.csv',\n",
       " 'tdat_il1_ip12_ra129.0758_dec65.6675_sne_in5.csv',\n",
       " 'tdat_il1_ip3_ra148.2559_dec52.1757_sne_in5.csv',\n",
       " 'tdat_il1_ip1_ra100.0951_dec57.3305_sne_in5.csv',\n",
       " 'tdat_il1_ip17_ra116.6979_dec59.9642_sne_in5.csv',\n",
       " 'tdat_il1_ip19_ra128.0709_dec66.1570_sne_in5.csv',\n",
       " 'tdat_il1_ip16_ra155.6608_dec48.9188_sne_in5.csv',\n",
       " 'tdat_il1_ip18_ra138.0892_dec60.6509_sne_in5.csv',\n",
       " 'tdat_il1_ip10_ra156.1136_dec48.9973_sne_in5.csv',\n",
       " 'tdat_il1_ip11_ra118.8646_dec52.9088_sne_in5.csv',\n",
       " 'tdat_il1_ip14_ra99.1087_dec57.4169_sne_in5.csv',\n",
       " 'tdat_il1_ip4_ra99.9162_dec58.0308_sne_in5.csv',\n",
       " 'tdat_il1_ip5_ra139.8363_dec52.1861_sne_in5.csv',\n",
       " 'tdat_il1_ip6_ra126.5754_dec47.6416_sne_in5.csv',\n",
       " 'tdat_il1_ip8_ra155.2182_dec48.9728_sne_in5.csv',\n",
       " 'tdat_il1_ip0_ra132.2217_dec48.0091_sne_in5.csv',\n",
       " 'tdat_il1_ip13_ra109.2418_dec54.4102_sne_in5.csv',\n",
       " 'tdat_il1_ip2_ra156.2086_dec49.5938_sne_in5.csv',\n",
       " 'tdat_il1_ip9_ra128.9139_dec66.0122_sne_in5.csv',\n",
       " 'tdat_il1_ip7_ra150.8614_dec66.5578_sne_in5.csv']"
      ]
     },
     "execution_count": 2,
     "metadata": {},
     "output_type": "execute_result"
    }
   ],
   "source": [
    "dirname = '/home/rt2122/data/train/no_edit/'\n",
    "files = next(walk(dirname))[-1]\n",
    "files"
   ]
  },
  {
   "cell_type": "code",
   "execution_count": 6,
   "metadata": {
    "ExecuteTime": {
     "end_time": "2020-04-25T16:48:55.714337Z",
     "start_time": "2020-04-25T16:48:55.708818Z"
    }
   },
   "outputs": [],
   "source": [
    "clear_dir = '/home/rt2122/data/train/clear/'"
   ]
  },
  {
   "cell_type": "code",
   "execution_count": 5,
   "metadata": {
    "ExecuteTime": {
     "end_time": "2020-04-25T16:45:08.371247Z",
     "start_time": "2020-04-25T16:45:08.366883Z"
    }
   },
   "outputs": [],
   "source": [
    "import pandas as pd"
   ]
  },
  {
   "cell_type": "code",
   "execution_count": 14,
   "metadata": {
    "ExecuteTime": {
     "end_time": "2020-04-25T16:57:30.474864Z",
     "start_time": "2020-04-25T16:56:22.777287Z"
    }
   },
   "outputs": [
    {
     "name": "stderr",
     "output_type": "stream",
     "text": [
      "/home/rt2122/L/git/data-segmentation/rk/all_p.py:33: UserWarning: Boolean Series key will be reindexed to match DataFrame index.\n",
      "  cur_duplicates = duplicates[duplicates[\"l\"] == l][duplicates[\"b\"] == b]\n"
     ]
    }
   ],
   "source": [
    "for f in files:\n",
    "    cf = ClusterFile(f)\n",
    "    cf.params['state']='cl'\n",
    "    \n",
    "    patch = pd.read_csv(join(dirname, f))\n",
    "    patch.index.name = 'index'\n",
    "    remove_duplicates_patch(patch)\n",
    "    \n",
    "    patch.to_csv(join(clear_dir, cf.file('.csv')))\n",
    "    "
   ]
  },
  {
   "cell_type": "code",
   "execution_count": null,
   "metadata": {},
   "outputs": [],
   "source": []
  }
 ],
 "metadata": {
  "kernelspec": {
   "display_name": "Python 3",
   "language": "python",
   "name": "python3"
  },
  "language_info": {
   "codemirror_mode": {
    "name": "ipython",
    "version": 3
   },
   "file_extension": ".py",
   "mimetype": "text/x-python",
   "name": "python",
   "nbconvert_exporter": "python",
   "pygments_lexer": "ipython3",
   "version": "3.7.3"
  }
 },
 "nbformat": 4,
 "nbformat_minor": 2
}
