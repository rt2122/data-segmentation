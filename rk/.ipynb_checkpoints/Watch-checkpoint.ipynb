{
 "cells": [
  {
   "cell_type": "code",
   "execution_count": 1,
   "metadata": {
    "ExecuteTime": {
     "end_time": "2020-04-23T09:22:07.498188Z",
     "start_time": "2020-04-23T09:21:50.926505Z"
    }
   },
   "outputs": [
    {
     "ename": "ImportError",
     "evalue": "cannot import name 'ClusterFilesterFile' from 'all_p' (/home/rt2122/L/git/data-segmentation/rk/all_p.py)",
     "output_type": "error",
     "traceback": [
      "\u001b[0;31m---------------------------------------------------------------------------\u001b[0m",
      "\u001b[0;31mImportError\u001b[0m                               Traceback (most recent call last)",
      "\u001b[0;32m<ipython-input-1-a5f647ec2dda>\u001b[0m in \u001b[0;36m<module>\u001b[0;34m\u001b[0m\n\u001b[1;32m      2\u001b[0m \u001b[0;32mfrom\u001b[0m \u001b[0mos\u001b[0m \u001b[0;32mimport\u001b[0m \u001b[0mrename\u001b[0m\u001b[0;34m\u001b[0m\u001b[0;34m\u001b[0m\u001b[0m\n\u001b[1;32m      3\u001b[0m \u001b[0;32mfrom\u001b[0m \u001b[0mdatetime\u001b[0m \u001b[0;32mimport\u001b[0m \u001b[0mdatetime\u001b[0m\u001b[0;34m\u001b[0m\u001b[0;34m\u001b[0m\u001b[0m\n\u001b[0;32m----> 4\u001b[0;31m \u001b[0;32mfrom\u001b[0m \u001b[0mall_p\u001b[0m \u001b[0;32mimport\u001b[0m \u001b[0mClusterFilesterFile\u001b[0m\u001b[0;34m\u001b[0m\u001b[0;34m\u001b[0m\u001b[0m\n\u001b[0m",
      "\u001b[0;31mImportError\u001b[0m: cannot import name 'ClusterFilesterFile' from 'all_p' (/home/rt2122/L/git/data-segmentation/rk/all_p.py)"
     ]
    }
   ],
   "source": [
    "import pandas as pd\n",
    "from os import rename\n",
    "from datetime import datetime\n",
    "from all_p import ClusterFilesterFile"
   ]
  },
  {
   "cell_type": "code",
   "execution_count": null,
   "metadata": {},
   "outputs": [],
   "source": [
    "class Watch:\n",
    "    table = None\n",
    "    def_name = '~/watch/last.csv'\n",
    "    def_dir = '~/watch/'\n",
    "    states = ('ne', 'cl', 'grizym')\n",
    "    def __new__(obj):\n",
    "        if not hasattr(obj, 'instance'):\n",
    "            obj.instance=super(Watch, obj).__new__();\n",
    "        return obj.instance;\n",
    "    \n",
    "    def __init__(self):\n",
    "        table = pd.read_csv(def_name, index_col='index')\n",
    "\n",
    "    def name_backup():\n",
    "        time = datetime.now()\n",
    "        return 'back%d.%d_%d:%d:%d.csv' % (now.month, now.day, now.hour, now.minute, now.second)\n",
    "\n",
    "    def __del__(self):\n",
    "        rename(def_name, join(def_dir, name_backup()))\n",
    "        self.table.to_csv(def_name)\n",
    "        \n",
    "    def get_patch_idx(self, id_list, id_patch):\n",
    "        idx = self.table[self.table['id_list'] == id_list][self.table['id_patch'] == id_patch].index[0]\n",
    "        if len(idx) > 0:\n",
    "            return idx[0]\n",
    "        return None\n",
    "    \n",
    "    def add_patch(self, cf, idx, i=None, id_list=None, from_list=True):\n",
    "        if from_list:\n",
    "            self.table['id_list'].loc[idx] = id_list\n",
    "            self.table['id_patch'].loc[i] = i\n",
    "        else:\n",
    "            self.table['state'] = cf.params['state']\n",
    "            \n",
    "        self.table['ra'].loc[i] = cf.params['ra']\n",
    "        self.table['dec'].loc[i] = cf.params['dec']\n",
    "        self.table['inpix'].loc[i] = cf.params['inpix']\n",
    "    \n",
    "    def update_state(self, cf, idx):\n",
    "        new_state = cf.params['state']\n",
    "        if new_state in self.states:\n",
    "            new_state_i = states.index(new_state)\n",
    "            old_state_i = states.index(self.table['state'].iloc[idx])\n",
    "            if new_state_i > old_state_i:\n",
    "                self.table['state'].loc[idx] = new_state\n",
    "                \n",
    "    def update(self, fname, data=None, vrb=False):\n",
    "        cf = ClusterFile(fname)\n",
    "        if cf.params['typ'] == 'cen':\n",
    "            if data is None:\n",
    "                return\n",
    "            id_list = cf.params['id_list']\n",
    "            for i in range(data.shape[0]):\n",
    "                idx = self.get_patch(id_list, idx, i, id_list)\n",
    "                if idx is None:\n",
    "                    idx = self.table.shape[0]\n",
    "                    self.add_patch(cf, idx, i, id_list)\n",
    "        elif cf.params['typ'] == 'data':\n",
    "            if not (data is None):\n",
    "                print('I dont need data for patch!')\n",
    "            idx = self.get_patch_idx(cf.params['id_list'], cf.params['id_patch'])\n",
    "            if idx is None:\n",
    "                idx = self.table.shape[0]\n",
    "                self.add_patch(cf, idx, from_list=False)\n",
    "            "
   ]
  },
  {
   "cell_type": "code",
   "execution_count": 2,
   "metadata": {
    "ExecuteTime": {
     "end_time": "2020-04-23T09:32:19.242413Z",
     "start_time": "2020-04-23T09:32:19.237170Z"
    }
   },
   "outputs": [],
   "source": [
    "table = pd.DataFrame({'id_list': [0, 0, 0, 1, 1, 1, 1],\n",
    "                     'id_patch': [0, 1, 2, 0, 1, 2, 3]})"
   ]
  },
  {
   "cell_type": "code",
   "execution_count": 8,
   "metadata": {
    "ExecuteTime": {
     "end_time": "2020-04-23T09:33:14.813093Z",
     "start_time": "2020-04-23T09:33:14.803294Z"
    }
   },
   "outputs": [
    {
     "name": "stderr",
     "output_type": "stream",
     "text": [
      "/home/rt2122/anaconda3/lib/python3.7/site-packages/ipykernel_launcher.py:1: UserWarning: Boolean Series key will be reindexed to match DataFrame index.\n",
      "  \"\"\"Entry point for launching an IPython kernel.\n"
     ]
    },
    {
     "data": {
      "text/plain": [
       "Int64Index([], dtype='int64')"
      ]
     },
     "execution_count": 8,
     "metadata": {},
     "output_type": "execute_result"
    }
   ],
   "source": [
    "table[table['id_list'] == 2][table['id_patch'] == 1].index"
   ]
  },
  {
   "cell_type": "code",
   "execution_count": 6,
   "metadata": {
    "ExecuteTime": {
     "end_time": "2020-04-23T09:33:03.195431Z",
     "start_time": "2020-04-23T09:33:03.189650Z"
    }
   },
   "outputs": [
    {
     "data": {
      "text/html": [
       "<div>\n",
       "<style scoped>\n",
       "    .dataframe tbody tr th:only-of-type {\n",
       "        vertical-align: middle;\n",
       "    }\n",
       "\n",
       "    .dataframe tbody tr th {\n",
       "        vertical-align: top;\n",
       "    }\n",
       "\n",
       "    .dataframe thead th {\n",
       "        text-align: right;\n",
       "    }\n",
       "</style>\n",
       "<table border=\"1\" class=\"dataframe\">\n",
       "  <thead>\n",
       "    <tr style=\"text-align: right;\">\n",
       "      <th></th>\n",
       "      <th>id_list</th>\n",
       "      <th>id_patch</th>\n",
       "    </tr>\n",
       "  </thead>\n",
       "  <tbody>\n",
       "    <tr>\n",
       "      <th>0</th>\n",
       "      <td>0</td>\n",
       "      <td>0</td>\n",
       "    </tr>\n",
       "    <tr>\n",
       "      <th>1</th>\n",
       "      <td>0</td>\n",
       "      <td>1</td>\n",
       "    </tr>\n",
       "    <tr>\n",
       "      <th>2</th>\n",
       "      <td>0</td>\n",
       "      <td>2</td>\n",
       "    </tr>\n",
       "    <tr>\n",
       "      <th>3</th>\n",
       "      <td>1</td>\n",
       "      <td>0</td>\n",
       "    </tr>\n",
       "    <tr>\n",
       "      <th>4</th>\n",
       "      <td>1</td>\n",
       "      <td>1</td>\n",
       "    </tr>\n",
       "    <tr>\n",
       "      <th>5</th>\n",
       "      <td>1</td>\n",
       "      <td>2</td>\n",
       "    </tr>\n",
       "    <tr>\n",
       "      <th>6</th>\n",
       "      <td>1</td>\n",
       "      <td>3</td>\n",
       "    </tr>\n",
       "  </tbody>\n",
       "</table>\n",
       "</div>"
      ],
      "text/plain": [
       "   id_list  id_patch\n",
       "0        0         0\n",
       "1        0         1\n",
       "2        0         2\n",
       "3        1         0\n",
       "4        1         1\n",
       "5        1         2\n",
       "6        1         3"
      ]
     },
     "execution_count": 6,
     "metadata": {},
     "output_type": "execute_result"
    }
   ],
   "source": [
    "table"
   ]
  },
  {
   "cell_type": "code",
   "execution_count": 9,
   "metadata": {
    "ExecuteTime": {
     "end_time": "2020-04-23T10:01:43.777165Z",
     "start_time": "2020-04-23T10:01:43.767801Z"
    }
   },
   "outputs": [
    {
     "ename": "ValueError",
     "evalue": "'4' is not in list",
     "output_type": "error",
     "traceback": [
      "\u001b[0;31m---------------------------------------------------------------------------\u001b[0m",
      "\u001b[0;31mValueError\u001b[0m                                Traceback (most recent call last)",
      "\u001b[0;32m<ipython-input-9-26aae38da759>\u001b[0m in \u001b[0;36m<module>\u001b[0;34m\u001b[0m\n\u001b[1;32m      1\u001b[0m \u001b[0msl\u001b[0m \u001b[0;34m=\u001b[0m \u001b[0;34m[\u001b[0m\u001b[0;34m'1'\u001b[0m\u001b[0;34m,\u001b[0m \u001b[0;34m'2'\u001b[0m\u001b[0;34m,\u001b[0m \u001b[0;34m'3'\u001b[0m\u001b[0;34m]\u001b[0m\u001b[0;34m\u001b[0m\u001b[0;34m\u001b[0m\u001b[0m\n\u001b[0;32m----> 2\u001b[0;31m \u001b[0mprint\u001b[0m\u001b[0;34m(\u001b[0m\u001b[0msl\u001b[0m\u001b[0;34m.\u001b[0m\u001b[0mindex\u001b[0m\u001b[0;34m(\u001b[0m\u001b[0;34m'4'\u001b[0m\u001b[0;34m)\u001b[0m\u001b[0;34m)\u001b[0m\u001b[0;34m\u001b[0m\u001b[0;34m\u001b[0m\u001b[0m\n\u001b[0m",
      "\u001b[0;31mValueError\u001b[0m: '4' is not in list"
     ]
    }
   ],
   "source": [
    "sl = ['1', '2', '3']\n",
    "print(sl.index('4'))"
   ]
  },
  {
   "cell_type": "code",
   "execution_count": null,
   "metadata": {},
   "outputs": [],
   "source": []
  }
 ],
 "metadata": {
  "kernelspec": {
   "display_name": "Python 3",
   "language": "python",
   "name": "python3"
  },
  "language_info": {
   "codemirror_mode": {
    "name": "ipython",
    "version": 3
   },
   "file_extension": ".py",
   "mimetype": "text/x-python",
   "name": "python",
   "nbconvert_exporter": "python",
   "pygments_lexer": "ipython3",
   "version": "3.7.3"
  }
 },
 "nbformat": 4,
 "nbformat_minor": 2
}
