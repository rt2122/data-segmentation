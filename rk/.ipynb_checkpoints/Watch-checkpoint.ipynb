{
 "cells": [
  {
   "cell_type": "code",
   "execution_count": 41,
   "metadata": {
    "ExecuteTime": {
     "end_time": "2020-04-23T14:34:33.421625Z",
     "start_time": "2020-04-23T14:34:33.418515Z"
    }
   },
   "outputs": [],
   "source": [
    "import pandas as pd\n",
    "from os import rename\n",
    "from datetime import datetime\n",
    "from all_p import ClusterFile\n",
    "from os.path import join\n",
    "from os import walk"
   ]
  },
  {
   "cell_type": "code",
   "execution_count": 132,
   "metadata": {
    "ExecuteTime": {
     "end_time": "2020-04-23T14:57:15.362575Z",
     "start_time": "2020-04-23T14:57:15.341364Z"
    }
   },
   "outputs": [],
   "source": [
    "class Watch:\n",
    "    table = None\n",
    "    def_name = '/home/rt2122/watch/last.csv'\n",
    "    def_dir = '/home/rt2122/watch/'\n",
    "    states = ('no', 'ne', 'cl', 'grizym')\n",
    "    changed = False\n",
    "    vrb = False\n",
    "    def __new__(obj):\n",
    "        if not hasattr(obj, 'instance'):\n",
    "            obj.instance=super(Watch, obj).__new__(obj);\n",
    "        return obj.instance;\n",
    "    \n",
    "    def __init__(self):\n",
    "        self.table = pd.read_csv(self.def_name, index_col='index')\n",
    "\n",
    "\n",
    "    def drop(self):\n",
    "        #~~~~~~~~~~~~~~~~~#\n",
    "        def name_backup():\n",
    "            now = datetime.now()\n",
    "            return 'back%d.%d_%d:%d:%d.csv' % (now.month, now.day, now.hour, now.minute, now.second)\n",
    "        #~~~~~~~~~~~~~~~~~#\n",
    "        print('Drop')\n",
    "        if self.changed:\n",
    "            rename(self.def_name, join(self.def_dir, name_backup()))\n",
    "            self.table.to_csv(self.def_name)\n",
    "        \n",
    "    def get_patch_idx(self, id_list, id_patch):\n",
    "        idx = self.table[self.table['id_list'] == id_list][self.table['id_patch'] == id_patch].index\n",
    "        if len(idx) > 0:\n",
    "            return idx[0]\n",
    "        return None\n",
    "    \n",
    "    def add_patch(self, cf, idx, i=None, id_list=None, from_list=True):\n",
    "        self.changed = True\n",
    "        if from_list:\n",
    "            self.table['id_list'].loc[idx] = id_list\n",
    "            self.table['id_patch'].loc[idx] = i\n",
    "        else:\n",
    "            self.table['state'].loc[idx] = cf.params['state']\n",
    "            self.table['id_list'].loc[idx] = cf.params['id_list']\n",
    "            self.table['id_patch'].loc[idx] = cf.params['id_patch']\n",
    "            \n",
    "        self.table['ra'].loc[idx] = cf.params['ra']\n",
    "        self.table['dec'].loc[idx] = cf.params['dec']\n",
    "        self.table['inpix'].loc[idx] = cf.params['inpix']\n",
    "        \n",
    "        loc = 'from list' if from_list else 'from name'\n",
    "        \n",
    "        if self.vrb:\n",
    "            print('Added patch %s list #%d patch #%d' % (loc, self.table['id_list'].iloc[idx],\n",
    "                                                        self.table['id_patch'].iloc[idx]))\n",
    "    \n",
    "    def update_state(self, cf, idx):\n",
    "        new_state = cf.params['state']\n",
    "        if new_state in self.states:\n",
    "            new_state_i = self.states.index(new_state)\n",
    "            old_state = str(self.table['state'].iloc[idx])\n",
    "            old_state_i = self.states.index(self.table['state'].iloc[idx])\n",
    "            if new_state_i > old_state_i:\n",
    "                self.table['state'].loc[idx] = new_state\n",
    "                if self.vrb:\n",
    "                    print('From %d list patch #%d changed from %s to %s' % (cf.params['id_list'], \n",
    "                                                                           cf.params['id_patch'], \n",
    "                                                                           old_state, new_state))\n",
    "                \n",
    "    def update(self, fname, data=None):\n",
    "        cf = ClusterFile(fname)\n",
    "        if cf.params['typ'] == 'cen':\n",
    "            if data is None:\n",
    "                return\n",
    "            id_list = cf.params['id_list']\n",
    "            for i in range(data.shape[0]):\n",
    "                idx = self.get_patch(id_list, idx, i, id_list)\n",
    "                if idx is None:\n",
    "                    idx = self.table.shape[0]\n",
    "                    self.add_patch(cf, idx, i, id_list)\n",
    "        elif cf.params['typ'] == 'dat':\n",
    "            if not (data is None) and self.vrb:\n",
    "                print('I dont need data for patch!')\n",
    "            idx = self.get_patch_idx(cf.params['id_list'], cf.params['id_patch'])\n",
    "            if idx is None:\n",
    "                idx = self.table.shape[0]\n",
    "                self.add_patch(cf, idx, from_list=False)\n",
    "            else:\n",
    "                self.update_state(cf, idx)\n",
    "            \n",
    "            "
   ]
  },
  {
   "cell_type": "code",
   "execution_count": 136,
   "metadata": {
    "ExecuteTime": {
     "end_time": "2020-04-23T14:57:33.547538Z",
     "start_time": "2020-04-23T14:57:33.535697Z"
    }
   },
   "outputs": [],
   "source": [
    "watch = Watch()"
   ]
  },
  {
   "cell_type": "code",
   "execution_count": 73,
   "metadata": {
    "ExecuteTime": {
     "end_time": "2020-04-23T14:47:17.275486Z",
     "start_time": "2020-04-23T14:47:17.271111Z"
    }
   },
   "outputs": [
    {
     "data": {
      "text/plain": [
       "['tcen_n50_il0_in4.csv']"
      ]
     },
     "execution_count": 73,
     "metadata": {},
     "output_type": "execute_result"
    }
   ],
   "source": [
    "files = next(walk('/home/rt2122/data/train/centers/'))[-1]\n",
    "files"
   ]
  },
  {
   "cell_type": "code",
   "execution_count": 128,
   "metadata": {
    "ExecuteTime": {
     "end_time": "2020-04-23T14:56:36.766895Z",
     "start_time": "2020-04-23T14:56:36.698066Z"
    }
   },
   "outputs": [],
   "source": [
    "watch.update(files[0])"
   ]
  },
  {
   "cell_type": "code",
   "execution_count": 102,
   "metadata": {
    "ExecuteTime": {
     "end_time": "2020-04-23T14:51:13.883090Z",
     "start_time": "2020-04-23T14:51:13.872039Z"
    }
   },
   "outputs": [
    {
     "data": {
      "text/plain": [
       "['tdat_ip1_ra95.6591_dec66.9648_scl_in4_il0.csv',\n",
       " 'tdat_ip6_ra95.8086_dec68.133_scl_in4_il0.csv',\n",
       " 'tdat_ip10_ra149.8894_dec75.3573_scl_in4_il0.csv',\n",
       " 'tdat_ip5_ra101.1796_dec70.7459_scl_in4_il0.csv',\n",
       " 'tdat_ip14_ra99.4052_dec75.2856_scl_in4_il0.csv',\n",
       " 'tdat_ip11_ra95.9004_dec67.9524_scl_in4_il0.csv',\n",
       " 'tdat_ip13_ra52.1056_dec77.6378_scl_in4_il0.csv',\n",
       " 'tdat_ip16_ra128.9214_dec76.5332_scl_in4_il0.csv',\n",
       " 'tdat_ip0_ra68.1497_dec67.3438_scl_in4_il0.csv',\n",
       " 'tdat_ip15_ra138.5468_dec79.3242_scl_in4_il0.csv',\n",
       " 'tdat_ip2_ra91.6275_dec67.48_scl_in4_il0.csv',\n",
       " 'tdat_ip17_ra133.0238_dec77.3853_scl_in4_il0.csv',\n",
       " 'tdat_ip3_ra68.5748_dec86.6007_scl_in4_il0.csv',\n",
       " 'tdat_ip4_ra93.6453_dec74.5114_scl_in4_il0.csv',\n",
       " 'tdat_ip9_ra96.1332_dec67.3208_scl_in4_il0.csv',\n",
       " 'tdat_ip18_ra92.5061_dec85.5084_scl_in4_il0.csv',\n",
       " 'tdat_ip8_ra51.6729_dec78.4047_scl_in4_il0.csv',\n",
       " 'tdat_ip12_ra52.0033_dec78.6723_scl_in4_il0.csv',\n",
       " 'tdat_ip19_ra101.2175_dec68.8344_scl_in4_il0.csv',\n",
       " 'tdat_ip7_ra112.9365_dec74.2803_scl_in4_il0.csv']"
      ]
     },
     "execution_count": 102,
     "metadata": {},
     "output_type": "execute_result"
    }
   ],
   "source": [
    "files = next(walk('/home/rt2122/data/train/clear/'))[-1]\n",
    "files"
   ]
  },
  {
   "cell_type": "code",
   "execution_count": 122,
   "metadata": {
    "ExecuteTime": {
     "end_time": "2020-04-23T14:55:06.290747Z",
     "start_time": "2020-04-23T14:55:06.223575Z"
    }
   },
   "outputs": [],
   "source": [
    "watch.update(files[0])"
   ]
  },
  {
   "cell_type": "code",
   "execution_count": 67,
   "metadata": {
    "ExecuteTime": {
     "end_time": "2020-04-23T14:46:23.294945Z",
     "start_time": "2020-04-23T14:46:23.217999Z"
    }
   },
   "outputs": [],
   "source": [
    "for f in files:\n",
    "    watch.update(f)"
   ]
  },
  {
   "cell_type": "code",
   "execution_count": 141,
   "metadata": {
    "ExecuteTime": {
     "end_time": "2020-04-23T14:58:10.758569Z",
     "start_time": "2020-04-23T14:58:10.741855Z"
    }
   },
   "outputs": [
    {
     "data": {
      "text/html": [
       "<div>\n",
       "<style scoped>\n",
       "    .dataframe tbody tr th:only-of-type {\n",
       "        vertical-align: middle;\n",
       "    }\n",
       "\n",
       "    .dataframe tbody tr th {\n",
       "        vertical-align: top;\n",
       "    }\n",
       "\n",
       "    .dataframe thead th {\n",
       "        text-align: right;\n",
       "    }\n",
       "</style>\n",
       "<table border=\"1\" class=\"dataframe\">\n",
       "  <thead>\n",
       "    <tr style=\"text-align: right;\">\n",
       "      <th></th>\n",
       "      <th>id_patch</th>\n",
       "      <th>id_list</th>\n",
       "      <th>ra</th>\n",
       "      <th>dec</th>\n",
       "      <th>inpix</th>\n",
       "      <th>state</th>\n",
       "    </tr>\n",
       "    <tr>\n",
       "      <th>index</th>\n",
       "      <th></th>\n",
       "      <th></th>\n",
       "      <th></th>\n",
       "      <th></th>\n",
       "      <th></th>\n",
       "      <th></th>\n",
       "    </tr>\n",
       "  </thead>\n",
       "  <tbody>\n",
       "    <tr>\n",
       "      <th>0</th>\n",
       "      <td>0</td>\n",
       "      <td>0</td>\n",
       "      <td>68.149720</td>\n",
       "      <td>67.343782</td>\n",
       "      <td>4</td>\n",
       "      <td>cl</td>\n",
       "    </tr>\n",
       "    <tr>\n",
       "      <th>1</th>\n",
       "      <td>1</td>\n",
       "      <td>0</td>\n",
       "      <td>95.659138</td>\n",
       "      <td>66.964809</td>\n",
       "      <td>4</td>\n",
       "      <td>cl</td>\n",
       "    </tr>\n",
       "    <tr>\n",
       "      <th>2</th>\n",
       "      <td>2</td>\n",
       "      <td>0</td>\n",
       "      <td>91.627482</td>\n",
       "      <td>67.480008</td>\n",
       "      <td>4</td>\n",
       "      <td>cl</td>\n",
       "    </tr>\n",
       "    <tr>\n",
       "      <th>3</th>\n",
       "      <td>3</td>\n",
       "      <td>0</td>\n",
       "      <td>68.574847</td>\n",
       "      <td>86.600743</td>\n",
       "      <td>4</td>\n",
       "      <td>cl</td>\n",
       "    </tr>\n",
       "    <tr>\n",
       "      <th>4</th>\n",
       "      <td>4</td>\n",
       "      <td>0</td>\n",
       "      <td>93.645251</td>\n",
       "      <td>74.511402</td>\n",
       "      <td>4</td>\n",
       "      <td>cl</td>\n",
       "    </tr>\n",
       "  </tbody>\n",
       "</table>\n",
       "</div>"
      ],
      "text/plain": [
       "       id_patch  id_list         ra        dec  inpix state\n",
       "index                                                      \n",
       "0             0        0  68.149720  67.343782      4    cl\n",
       "1             1        0  95.659138  66.964809      4    cl\n",
       "2             2        0  91.627482  67.480008      4    cl\n",
       "3             3        0  68.574847  86.600743      4    cl\n",
       "4             4        0  93.645251  74.511402      4    cl"
      ]
     },
     "execution_count": 141,
     "metadata": {},
     "output_type": "execute_result"
    }
   ],
   "source": [
    "watch.table.head()"
   ]
  },
  {
   "cell_type": "code",
   "execution_count": 138,
   "metadata": {
    "ExecuteTime": {
     "end_time": "2020-04-23T14:57:46.193605Z",
     "start_time": "2020-04-23T14:57:46.184569Z"
    }
   },
   "outputs": [],
   "source": [
    "watch.vrb = True"
   ]
  },
  {
   "cell_type": "code",
   "execution_count": 139,
   "metadata": {
    "ExecuteTime": {
     "end_time": "2020-04-23T14:57:47.964696Z",
     "start_time": "2020-04-23T14:57:46.924369Z"
    }
   },
   "outputs": [
    {
     "name": "stdout",
     "output_type": "stream",
     "text": [
      "From 0 list patch #1 changed from no to cl\n",
      "From 0 list patch #6 changed from no to cl\n",
      "From 0 list patch #10 changed from no to cl\n",
      "From 0 list patch #5 changed from no to cl\n",
      "From 0 list patch #14 changed from no to cl\n",
      "From 0 list patch #11 changed from no to cl\n",
      "From 0 list patch #13 changed from no to cl\n",
      "From 0 list patch #16 changed from no to cl\n",
      "From 0 list patch #0 changed from no to cl\n",
      "From 0 list patch #15 changed from no to cl\n",
      "From 0 list patch #2 changed from no to cl\n",
      "From 0 list patch #17 changed from no to cl\n",
      "From 0 list patch #3 changed from no to cl\n",
      "From 0 list patch #4 changed from no to cl\n",
      "From 0 list patch #9 changed from no to cl\n",
      "From 0 list patch #18 changed from no to cl\n",
      "From 0 list patch #8 changed from no to cl\n",
      "From 0 list patch #12 changed from no to cl\n",
      "From 0 list patch #19 changed from no to cl\n",
      "From 0 list patch #7 changed from no to cl\n"
     ]
    }
   ],
   "source": [
    "for f in files:\n",
    "    watch.update(f)"
   ]
  },
  {
   "cell_type": "code",
   "execution_count": 140,
   "metadata": {
    "ExecuteTime": {
     "end_time": "2020-04-23T14:58:02.111684Z",
     "start_time": "2020-04-23T14:58:02.099408Z"
    }
   },
   "outputs": [
    {
     "name": "stdout",
     "output_type": "stream",
     "text": [
      "Drop\n"
     ]
    }
   ],
   "source": [
    "watch.changed=True\n",
    "watch.drop()"
   ]
  },
  {
   "cell_type": "code",
   "execution_count": 116,
   "metadata": {
    "ExecuteTime": {
     "end_time": "2020-04-23T14:53:39.506622Z",
     "start_time": "2020-04-23T14:53:39.497018Z"
    }
   },
   "outputs": [
    {
     "data": {
      "text/plain": [
       "('no', 'ne', 'cl', 'grizym')"
      ]
     },
     "execution_count": 116,
     "metadata": {},
     "output_type": "execute_result"
    }
   ],
   "source": [
    "watch.states"
   ]
  },
  {
   "cell_type": "code",
   "execution_count": null,
   "metadata": {},
   "outputs": [],
   "source": []
  }
 ],
 "metadata": {
  "kernelspec": {
   "display_name": "Python 3",
   "language": "python",
   "name": "python3"
  },
  "language_info": {
   "codemirror_mode": {
    "name": "ipython",
    "version": 3
   },
   "file_extension": ".py",
   "mimetype": "text/x-python",
   "name": "python",
   "nbconvert_exporter": "python",
   "pygments_lexer": "ipython3",
   "version": "3.7.3"
  }
 },
 "nbformat": 4,
 "nbformat_minor": 2
}
