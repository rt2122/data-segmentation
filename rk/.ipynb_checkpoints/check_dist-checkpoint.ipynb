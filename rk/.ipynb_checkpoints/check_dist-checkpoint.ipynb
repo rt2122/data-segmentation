{
 "cells": [
  {
   "cell_type": "code",
   "execution_count": 1,
   "metadata": {
    "ExecuteTime": {
     "end_time": "2020-04-17T22:18:48.047907Z",
     "start_time": "2020-04-17T22:18:45.726496Z"
    }
   },
   "outputs": [],
   "source": [
    "import numpy as np\n",
    "import healpy as hp\n",
    "import pandas as pd"
   ]
  },
  {
   "cell_type": "code",
   "execution_count": 2,
   "metadata": {
    "ExecuteTime": {
     "end_time": "2020-04-17T22:19:08.529207Z",
     "start_time": "2020-04-17T22:19:08.270178Z"
    }
   },
   "outputs": [],
   "source": [
    "pc = pd.read_csv('../src_data/one_patch.csv')"
   ]
  },
  {
   "cell_type": "code",
   "execution_count": 4,
   "metadata": {
    "ExecuteTime": {
     "end_time": "2020-04-17T22:19:36.195276Z",
     "start_time": "2020-04-17T22:19:36.190242Z"
    }
   },
   "outputs": [],
   "source": [
    "ra = pc['RAdeg'].iloc[0]\n",
    "dec = pc['DEdeg'].iloc[0]"
   ]
  },
  {
   "cell_type": "code",
   "execution_count": 7,
   "metadata": {
    "ExecuteTime": {
     "end_time": "2020-04-17T22:20:34.140419Z",
     "start_time": "2020-04-17T22:20:34.134328Z"
    }
   },
   "outputs": [],
   "source": [
    "from astropy.coordinates import SkyCoord\n",
    "from astropy import units as u"
   ]
  },
  {
   "cell_type": "code",
   "execution_count": 8,
   "metadata": {
    "ExecuteTime": {
     "end_time": "2020-04-17T22:20:49.626244Z",
     "start_time": "2020-04-17T22:20:49.616839Z"
    }
   },
   "outputs": [],
   "source": [
    "sc = SkyCoord(ra=ra*u.degree, dec=dec*u.degree, frame='icrs')"
   ]
  },
  {
   "cell_type": "code",
   "execution_count": 9,
   "metadata": {
    "ExecuteTime": {
     "end_time": "2020-04-17T22:21:07.648766Z",
     "start_time": "2020-04-17T22:21:07.612542Z"
    }
   },
   "outputs": [],
   "source": [
    "l = sc.galactic.l.degree\n",
    "b = sc.galactic.b.degree"
   ]
  },
  {
   "cell_type": "code",
   "execution_count": 14,
   "metadata": {
    "ExecuteTime": {
     "end_time": "2020-04-17T22:22:42.436069Z",
     "start_time": "2020-04-17T22:22:42.425599Z"
    }
   },
   "outputs": [],
   "source": [
    "def dist(l, b, ll, bb):\n",
    "    sc = SkyCoord(l=l*u.degree, b=b*u.degree, frame='galactic')\n",
    "    sscc = SkyCoord(l=ll*u.degree, b=bb*u.degree, frame='galactic')\n",
    "    return sc.separation(sscc).degree"
   ]
  },
  {
   "cell_type": "code",
   "execution_count": 15,
   "metadata": {
    "ExecuteTime": {
     "end_time": "2020-04-17T22:22:42.811070Z",
     "start_time": "2020-04-17T22:22:42.733619Z"
    }
   },
   "outputs": [
    {
     "data": {
      "text/plain": [
       "0.0"
      ]
     },
     "execution_count": 15,
     "metadata": {},
     "output_type": "execute_result"
    }
   ],
   "source": [
    "dist(l, b, l, b)"
   ]
  },
  {
   "cell_type": "code",
   "execution_count": 16,
   "metadata": {
    "ExecuteTime": {
     "end_time": "2020-04-17T22:23:04.181407Z",
     "start_time": "2020-04-17T22:23:03.894965Z"
    }
   },
   "outputs": [],
   "source": [
    "from data_obj import make_pic"
   ]
  },
  {
   "cell_type": "code",
   "execution_count": 17,
   "metadata": {
    "ExecuteTime": {
     "end_time": "2020-04-17T22:24:08.637471Z",
     "start_time": "2020-04-17T22:24:08.627412Z"
    }
   },
   "outputs": [],
   "source": [
    "pix11 = hp.ang2pix(theta=l, phi=b, lonlat=True, nest=True, nside=2**11)\n",
    "pix17 = hp.ang2pix(theta=l, phi=b, lonlat=True, nest=True, nside=2**17)"
   ]
  },
  {
   "cell_type": "code",
   "execution_count": 18,
   "metadata": {
    "ExecuteTime": {
     "end_time": "2020-04-17T22:24:13.036734Z",
     "start_time": "2020-04-17T22:24:13.028239Z"
    }
   },
   "outputs": [
    {
     "data": {
      "text/plain": [
       "(7115936, 29146875562)"
      ]
     },
     "execution_count": 18,
     "metadata": {},
     "output_type": "execute_result"
    }
   ],
   "source": [
    "pix11, pix17"
   ]
  },
  {
   "cell_type": "code",
   "execution_count": 30,
   "metadata": {
    "ExecuteTime": {
     "end_time": "2020-04-17T22:48:19.974828Z",
     "start_time": "2020-04-17T22:48:19.696079Z"
    }
   },
   "outputs": [
    {
     "data": {
      "application/vnd.jupyter.widget-view+json": {
       "model_id": "1e2363a5ef43488ab1c4335402293f4c",
       "version_major": 2,
       "version_minor": 0
      },
      "text/plain": [
       "HBox(children=(IntProgress(value=0, max=66), HTML(value='')))"
      ]
     },
     "metadata": {},
     "output_type": "display_data"
    },
    {
     "name": "stdout",
     "output_type": "stream",
     "text": [
      "\n"
     ]
    }
   ],
   "source": [
    "pix_map11 = make_pic(pix11, nside=2**11, size=66)"
   ]
  },
  {
   "cell_type": "code",
   "execution_count": 21,
   "metadata": {
    "ExecuteTime": {
     "end_time": "2020-04-17T22:38:51.306356Z",
     "start_time": "2020-04-17T22:25:31.606844Z"
    }
   },
   "outputs": [
    {
     "data": {
      "application/vnd.jupyter.widget-view+json": {
       "model_id": "daab8059ca8a48e3a58f6c0af15e93a8",
       "version_major": 2,
       "version_minor": 0
      },
      "text/plain": [
       "HBox(children=(IntProgress(value=0, max=4096), HTML(value='')))"
      ]
     },
     "metadata": {},
     "output_type": "display_data"
    },
    {
     "name": "stdout",
     "output_type": "stream",
     "text": [
      "\n"
     ]
    }
   ],
   "source": [
    "pix_map17 = make_pic(pix17, nside=2**17, size=4096)"
   ]
  },
  {
   "cell_type": "code",
   "execution_count": 26,
   "metadata": {
    "ExecuteTime": {
     "end_time": "2020-04-17T22:41:57.725027Z",
     "start_time": "2020-04-17T22:41:57.717355Z"
    }
   },
   "outputs": [],
   "source": [
    "def pix_dist(nside, pix0, pix1):\n",
    "    l0, b0 = hp.pix2ang(nside=nside, ipix=pix0, nest=True, lonlat=True)\n",
    "    l1, b1 = hp.pix2ang(nside=nside, ipix=pix1, nest=True, lonlat=True)\n",
    "    \n",
    "    return dist(l0, b0, l1, b1)"
   ]
  },
  {
   "cell_type": "code",
   "execution_count": 31,
   "metadata": {
    "ExecuteTime": {
     "end_time": "2020-04-17T22:48:22.944749Z",
     "start_time": "2020-04-17T22:48:22.934569Z"
    }
   },
   "outputs": [
    {
     "data": {
      "text/plain": [
       "1.691237818550674"
      ]
     },
     "execution_count": 31,
     "metadata": {},
     "output_type": "execute_result"
    }
   ],
   "source": [
    "pix_dist(2**11, pix11, pix_map11[0,0])"
   ]
  },
  {
   "cell_type": "code",
   "execution_count": 29,
   "metadata": {
    "ExecuteTime": {
     "end_time": "2020-04-17T22:42:48.746648Z",
     "start_time": "2020-04-17T22:42:48.732082Z"
    }
   },
   "outputs": [
    {
     "data": {
      "text/plain": [
       "1.6904077232314192"
      ]
     },
     "execution_count": 29,
     "metadata": {},
     "output_type": "execute_result"
    }
   ],
   "source": [
    "pix_dist(2**17, pix17, pix_map17[0,0])"
   ]
  },
  {
   "cell_type": "code",
   "execution_count": null,
   "metadata": {},
   "outputs": [],
   "source": []
  }
 ],
 "metadata": {
  "kernelspec": {
   "display_name": "Python 3",
   "language": "python",
   "name": "python3"
  },
  "language_info": {
   "codemirror_mode": {
    "name": "ipython",
    "version": 3
   },
   "file_extension": ".py",
   "mimetype": "text/x-python",
   "name": "python",
   "nbconvert_exporter": "python",
   "pygments_lexer": "ipython3",
   "version": "3.7.3"
  }
 },
 "nbformat": 4,
 "nbformat_minor": 2
}
