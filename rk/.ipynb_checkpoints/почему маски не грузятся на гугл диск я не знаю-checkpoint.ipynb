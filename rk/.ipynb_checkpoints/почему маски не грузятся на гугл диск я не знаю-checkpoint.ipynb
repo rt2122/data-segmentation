{
 "cells": [
  {
   "cell_type": "code",
   "execution_count": 2,
   "metadata": {
    "ExecuteTime": {
     "end_time": "2020-04-25T21:11:20.368081Z",
     "start_time": "2020-04-25T21:11:19.350004Z"
    }
   },
   "outputs": [],
   "source": [
    "from os.path import join\n",
    "from os import walk\n",
    "import numpy as np\n",
    "from all_p import ClusterFile"
   ]
  },
  {
   "cell_type": "code",
   "execution_count": 4,
   "metadata": {
    "ExecuteTime": {
     "end_time": "2020-04-25T21:11:50.437802Z",
     "start_time": "2020-04-25T21:11:50.375544Z"
    }
   },
   "outputs": [
    {
     "data": {
      "text/plain": [
       "['tf_il1_ip2_ra156.2086_dec49.5938_sgrizym_in5.npy',\n",
       " 'tf_il1_ip19_ra128.0709_dec66.1570_sgrizym_in5.npy',\n",
       " 'tf_il1_ip9_ra128.9139_dec66.0122_sgrizym_in5.npy',\n",
       " 'tf_il1_ip16_ra155.6608_dec48.9188_sgrizym_in5.npy',\n",
       " 'tf_il1_ip18_ra138.0892_dec60.6509_sgrizym_in5.npy',\n",
       " 'tf_il1_ip17_ra116.6979_dec59.9642_sgrizym_in5.npy',\n",
       " 'tf_il1_ip10_ra156.1136_dec48.9973_sgrizym_in5.npy',\n",
       " 'tf_il1_ip3_ra148.2559_dec52.1757_sgrizym_in5.npy',\n",
       " 'tf_il1_ip4_ra99.9162_dec58.0308_sgrizym_in5.npy',\n",
       " 'tf_il1_ip6_ra126.5754_dec47.6416_sgrizym_in5.npy',\n",
       " 'tf_il1_ip15_ra152.4899_dec71.4755_sgrizym_in5.npy',\n",
       " 'tf_il1_ip12_ra129.0758_dec65.6675_sgrizym_in5.npy',\n",
       " 'tf_il1_ip7_ra150.8614_dec66.5578_sgrizym_in5.npy',\n",
       " 'tf_il1_ip13_ra109.2418_dec54.4102_sgrizym_in5.npy',\n",
       " 'tf_il1_ip5_ra139.8363_dec52.1861_sgrizym_in5.npy',\n",
       " 'tf_il1_ip1_ra100.0951_dec57.3305_sgrizym_in5.npy',\n",
       " 'tf_il1_ip8_ra155.2182_dec48.9728_sgrizym_in5.npy',\n",
       " 'tf_il1_ip0_ra132.2217_dec48.0091_sgrizym_in5.npy',\n",
       " 'tf_il1_ip14_ra99.1087_dec57.4169_sgrizym_in5.npy',\n",
       " 'tf_il1_ip11_ra118.8646_dec52.9088_sgrizym_in5.npy']"
      ]
     },
     "execution_count": 4,
     "metadata": {},
     "output_type": "execute_result"
    }
   ],
   "source": [
    "dirf = '/home/rt2122/data/train/filters/'\n",
    "files = next(walk(dirf))[-1]\n",
    "files = list(filter(lambda name: ClusterFile(name).params['id_list'] == 1, files))\n",
    "files"
   ]
  },
  {
   "cell_type": "code",
   "execution_count": 9,
   "metadata": {
    "ExecuteTime": {
     "end_time": "2020-04-25T21:18:48.767177Z",
     "start_time": "2020-04-25T21:18:14.888006Z"
    }
   },
   "outputs": [
    {
     "name": "stdout",
     "output_type": "stream",
     "text": [
      "0 255\n",
      "0 255\n",
      "0 255\n",
      "0 255\n",
      "0 255\n",
      "0 255\n",
      "0 255\n",
      "0 255\n",
      "0 255\n",
      "0 255\n",
      "0 255\n",
      "0 255\n",
      "0 0\n",
      "0 255\n",
      "0 255\n",
      "0 255\n",
      "0 0\n",
      "0 0\n",
      "0 0\n",
      "0 255\n"
     ]
    }
   ],
   "source": [
    "for f in files:\n",
    "    akk = np.load(join(dirf, f))\n",
    "    data = akk[:,:,:-1]\n",
    "    mask = akk[:,:,-1].astype(np.uint8)\n",
    "    mask *= 255\n",
    "    print(mask.min(), mask.max())\n",
    "   \n",
    "    f = list(f)\n",
    "    f[1] = 'd'\n",
    "    np.save(join(dirf, l2s(f)), data)\n",
    "    f[1] = 'm'\n",
    "    np.save(join(dirf, l2s(f)), mask)"
   ]
  },
  {
   "cell_type": "code",
   "execution_count": 8,
   "metadata": {
    "ExecuteTime": {
     "end_time": "2020-04-25T21:17:53.357374Z",
     "start_time": "2020-04-25T21:17:53.348044Z"
    }
   },
   "outputs": [],
   "source": [
    "def l2s(l):\n",
    "    a = ''\n",
    "    for b in l:\n",
    "        a+=b\n",
    "    return a"
   ]
  },
  {
   "cell_type": "code",
   "execution_count": null,
   "metadata": {},
   "outputs": [],
   "source": []
  }
 ],
 "metadata": {
  "kernelspec": {
   "display_name": "Python 3",
   "language": "python",
   "name": "python3"
  },
  "language_info": {
   "codemirror_mode": {
    "name": "ipython",
    "version": 3
   },
   "file_extension": ".py",
   "mimetype": "text/x-python",
   "name": "python",
   "nbconvert_exporter": "python",
   "pygments_lexer": "ipython3",
   "version": "3.7.3"
  }
 },
 "nbformat": 4,
 "nbformat_minor": 2
}
