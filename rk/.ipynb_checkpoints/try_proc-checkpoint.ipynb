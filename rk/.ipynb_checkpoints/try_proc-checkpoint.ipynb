{
 "cells": [
  {
   "cell_type": "code",
   "execution_count": 1,
   "metadata": {
    "ExecuteTime": {
     "end_time": "2020-04-20T01:02:26.330932Z",
     "start_time": "2020-04-20T01:02:16.821861Z"
    }
   },
   "outputs": [],
   "source": [
    "from api import *"
   ]
  },
  {
   "cell_type": "code",
   "execution_count": 2,
   "metadata": {
    "ExecuteTime": {
     "end_time": "2020-04-20T01:02:32.871517Z",
     "start_time": "2020-04-20T01:02:26.334734Z"
    }
   },
   "outputs": [],
   "source": [
    "from proc import *"
   ]
  },
  {
   "cell_type": "code",
   "execution_count": 3,
   "metadata": {
    "ExecuteTime": {
     "end_time": "2020-04-20T01:02:33.735366Z",
     "start_time": "2020-04-20T01:02:32.881744Z"
    }
   },
   "outputs": [],
   "source": [
    "from generate_patches import *"
   ]
  },
  {
   "cell_type": "code",
   "execution_count": 4,
   "metadata": {
    "ExecuteTime": {
     "end_time": "2020-04-20T01:02:34.036551Z",
     "start_time": "2020-04-20T01:02:33.742930Z"
    }
   },
   "outputs": [],
   "source": [
    "planck = pd.read_csv('../src_data/planck_z-Copy1.csv')"
   ]
  },
  {
   "cell_type": "code",
   "execution_count": 5,
   "metadata": {
    "ExecuteTime": {
     "end_time": "2020-04-20T01:02:47.674763Z",
     "start_time": "2020-04-20T01:02:34.040227Z"
    }
   },
   "outputs": [
    {
     "name": "stdout",
     "output_type": "stream",
     "text": [
      "(50331648,)\n"
     ]
    }
   ],
   "source": [
    "centers_patches = gen_centers(planck, 10, radius=1.5, nside=2**11, \n",
    "                              func=lambda n, nside:in_nth_pix(n, nside, nbig=4))"
   ]
  }
 ],
 "metadata": {
  "kernelspec": {
   "display_name": "Python 3",
   "language": "python",
   "name": "python3"
  },
  "language_info": {
   "codemirror_mode": {
    "name": "ipython",
    "version": 3
   },
   "file_extension": ".py",
   "mimetype": "text/x-python",
   "name": "python",
   "nbconvert_exporter": "python",
   "pygments_lexer": "ipython3",
   "version": "3.7.3"
  }
 },
 "nbformat": 4,
 "nbformat_minor": 2
}
