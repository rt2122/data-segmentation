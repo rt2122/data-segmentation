{
 "cells": [
  {
   "cell_type": "code",
   "execution_count": 1,
   "metadata": {
    "ExecuteTime": {
     "end_time": "2020-04-26T21:24:21.130513Z",
     "start_time": "2020-04-26T21:24:21.127381Z"
    }
   },
   "outputs": [],
   "source": [
    "this_pix = 7\n",
    "this_list = 4"
   ]
  },
  {
   "cell_type": "code",
   "execution_count": 3,
   "metadata": {
    "ExecuteTime": {
     "end_time": "2020-04-26T21:24:44.780728Z",
     "start_time": "2020-04-26T21:24:43.528363Z"
    }
   },
   "outputs": [],
   "source": [
    "from os import walk\n",
    "from os.path import join\n",
    "from all_p import ClusterFile, proc_files"
   ]
  },
  {
   "cell_type": "code",
   "execution_count": 4,
   "metadata": {
    "ExecuteTime": {
     "end_time": "2020-04-26T21:24:44.882337Z",
     "start_time": "2020-04-26T21:24:44.782367Z"
    }
   },
   "outputs": [
    {
     "data": {
      "text/plain": [
       "['tdat_il4_ip9_ra195.1921_dec60.5488_sne_in7.csv',\n",
       " 'tdat_il4_ip14_ra187.4889_dec46.9345_sne_in7.csv',\n",
       " 'tdat_il4_ip16_ra187.4889_dec46.9344_sne_in7.csv',\n",
       " 'tdat_il4_ip19_ra178.0183_dec60.5293_sne_in7.csv',\n",
       " 'tdat_il4_ip11_ra198.7069_dec39.2329_sne_in7.csv',\n",
       " 'tdat_il4_ip17_ra170.8056_dec43.5411_sne_in7.csv',\n",
       " 'tdat_il4_ip8_ra201.8420_dec49.1519_sne_in7.csv',\n",
       " 'tdat_il4_ip15_ra197.0965_dec39.5006_sne_in7.csv',\n",
       " 'tdat_il4_ip5_ra180.5136_dec58.6707_sne_in7.csv',\n",
       " 'tdat_il4_ip2_ra174.6845_dec66.8075_sne_in7.csv',\n",
       " 'tdat_il4_ip10_ra176.3175_dec51.7430_sne_in7.csv',\n",
       " 'tdat_il4_ip1_ra187.3484_dec47.1498_sne_in7.csv',\n",
       " 'tdat_il4_ip0_ra163.1320_dec58.3101_sne_in7.csv',\n",
       " 'tdat_il4_ip12_ra177.1410_dec51.9537_sne_in7.csv',\n",
       " 'tdat_il4_ip6_ra184.1741_dec51.0555_sne_in7.csv',\n",
       " 'tdat_il4_ip7_ra168.5814_dec58.6462_sne_in7.csv',\n",
       " 'tdat_il4_ip4_ra193.2090_dec49.3313_sne_in7.csv',\n",
       " 'tdat_il4_ip13_ra191.6882_dec49.8275_sne_in7.csv',\n",
       " 'tdat_il4_ip3_ra177.7263_dec63.0286_sne_in7.csv',\n",
       " 'tdat_il4_ip18_ra197.8840_dec38.4552_sne_in7.csv']"
      ]
     },
     "execution_count": 4,
     "metadata": {},
     "output_type": "execute_result"
    }
   ],
   "source": [
    "dirname = '/home/rt2122/data/train/no_edit/'\n",
    "files = next(walk(dirname))[-1]\n",
    "files = list(filter(lambda name:ClusterFile(name).params['id_list'] == this_list, files))\n",
    "files"
   ]
  },
  {
   "cell_type": "code",
   "execution_count": 5,
   "metadata": {
    "ExecuteTime": {
     "end_time": "2020-04-26T21:24:53.898481Z",
     "start_time": "2020-04-26T21:24:53.893853Z"
    }
   },
   "outputs": [],
   "source": [
    "clear_dir = '/home/rt2122/data/train/clear/'"
   ]
  },
  {
   "cell_type": "code",
   "execution_count": 6,
   "metadata": {
    "ExecuteTime": {
     "end_time": "2020-04-26T21:24:54.318776Z",
     "start_time": "2020-04-26T21:24:54.315838Z"
    }
   },
   "outputs": [],
   "source": [
    "import pandas as pd"
   ]
  },
  {
   "cell_type": "code",
   "execution_count": 7,
   "metadata": {
    "ExecuteTime": {
     "end_time": "2020-04-26T21:24:54.761863Z",
     "start_time": "2020-04-26T21:24:54.753285Z"
    }
   },
   "outputs": [],
   "source": [
    "from os.path import join"
   ]
  },
  {
   "cell_type": "code",
   "execution_count": 8,
   "metadata": {
    "ExecuteTime": {
     "end_time": "2020-04-26T22:19:51.010772Z",
     "start_time": "2020-04-26T21:25:38.174254Z"
    }
   },
   "outputs": [
    {
     "name": "stderr",
     "output_type": "stream",
     "text": [
      "/home/rt2122/L/git/data-segmentation/rk/all_p.py:32: UserWarning: Boolean Series key will be reindexed to match DataFrame index.\n",
      "  cur_duplicates = duplicates[duplicates[\"l\"] == l][duplicates[\"b\"] == b]\n"
     ]
    },
    {
     "data": {
      "application/vnd.jupyter.widget-view+json": {
       "model_id": "aac47700f666468e85f749906b1a99fd",
       "version_major": 2,
       "version_minor": 0
      },
      "text/plain": [
       "HBox(children=(IntProgress(value=0, max=106961), HTML(value='')))"
      ]
     },
     "metadata": {},
     "output_type": "display_data"
    },
    {
     "name": "stdout",
     "output_type": "stream",
     "text": [
      "\n",
      "9 ) Removed: 325\n",
      "tdat_il4_ip9_ra195.1921_dec60.5488_scl_in7.csv\n"
     ]
    },
    {
     "name": "stderr",
     "output_type": "stream",
     "text": [
      "/home/rt2122/L/git/data-segmentation/rk/all_p.py:32: UserWarning: Boolean Series key will be reindexed to match DataFrame index.\n",
      "  cur_duplicates = duplicates[duplicates[\"l\"] == l][duplicates[\"b\"] == b]\n"
     ]
    },
    {
     "data": {
      "application/vnd.jupyter.widget-view+json": {
       "model_id": "5c7af3a5dcc0406a9ba53692f80f524a",
       "version_major": 2,
       "version_minor": 0
      },
      "text/plain": [
       "HBox(children=(IntProgress(value=0, max=132389), HTML(value='')))"
      ]
     },
     "metadata": {},
     "output_type": "display_data"
    },
    {
     "name": "stdout",
     "output_type": "stream",
     "text": [
      "\n",
      "14 ) Removed: 566\n",
      "tdat_il4_ip14_ra187.4889_dec46.9345_scl_in7.csv\n"
     ]
    },
    {
     "data": {
      "application/vnd.jupyter.widget-view+json": {
       "model_id": "696c33f51eb84199988aa8bf33bf32cd",
       "version_major": 2,
       "version_minor": 0
      },
      "text/plain": [
       "HBox(children=(IntProgress(value=0, max=118335), HTML(value='')))"
      ]
     },
     "metadata": {},
     "output_type": "display_data"
    },
    {
     "name": "stdout",
     "output_type": "stream",
     "text": [
      "\n",
      "16 ) Removed: 786\n",
      "tdat_il4_ip16_ra187.4889_dec46.9344_scl_in7.csv\n"
     ]
    },
    {
     "data": {
      "application/vnd.jupyter.widget-view+json": {
       "model_id": "eff2e8f214f84341b08a69b735b9c3aa",
       "version_major": 2,
       "version_minor": 0
      },
      "text/plain": [
       "HBox(children=(IntProgress(value=0, max=104095), HTML(value='')))"
      ]
     },
     "metadata": {},
     "output_type": "display_data"
    },
    {
     "name": "stdout",
     "output_type": "stream",
     "text": [
      "\n",
      "19 ) Removed: 354\n",
      "tdat_il4_ip19_ra178.0183_dec60.5293_scl_in7.csv\n"
     ]
    },
    {
     "data": {
      "application/vnd.jupyter.widget-view+json": {
       "model_id": "c5152202e17447b8959f0b2fb123d888",
       "version_major": 2,
       "version_minor": 0
      },
      "text/plain": [
       "HBox(children=(IntProgress(value=0, max=103589), HTML(value='')))"
      ]
     },
     "metadata": {},
     "output_type": "display_data"
    },
    {
     "name": "stdout",
     "output_type": "stream",
     "text": [
      "\n",
      "11 ) Removed: 312\n",
      "tdat_il4_ip11_ra198.7069_dec39.2329_scl_in7.csv\n"
     ]
    },
    {
     "data": {
      "application/vnd.jupyter.widget-view+json": {
       "model_id": "512fc09fd25844bf9f88f2e16f9476d5",
       "version_major": 2,
       "version_minor": 0
      },
      "text/plain": [
       "HBox(children=(IntProgress(value=0, max=110510), HTML(value='')))"
      ]
     },
     "metadata": {},
     "output_type": "display_data"
    },
    {
     "name": "stdout",
     "output_type": "stream",
     "text": [
      "\n",
      "17 ) Removed: 587\n",
      "tdat_il4_ip17_ra170.8056_dec43.5411_scl_in7.csv\n"
     ]
    },
    {
     "data": {
      "application/vnd.jupyter.widget-view+json": {
       "model_id": "1a34b4a43c6042e0a9ebc1899c80555b",
       "version_major": 2,
       "version_minor": 0
      },
      "text/plain": [
       "HBox(children=(IntProgress(value=0, max=96856), HTML(value='')))"
      ]
     },
     "metadata": {},
     "output_type": "display_data"
    },
    {
     "name": "stdout",
     "output_type": "stream",
     "text": [
      "\n",
      "8 ) Removed: 320\n",
      "tdat_il4_ip8_ra201.8420_dec49.1519_scl_in7.csv\n"
     ]
    },
    {
     "data": {
      "application/vnd.jupyter.widget-view+json": {
       "model_id": "511273d40c504426a1eaac05766dcc5f",
       "version_major": 2,
       "version_minor": 0
      },
      "text/plain": [
       "HBox(children=(IntProgress(value=0, max=106721), HTML(value='')))"
      ]
     },
     "metadata": {},
     "output_type": "display_data"
    },
    {
     "name": "stdout",
     "output_type": "stream",
     "text": [
      "\n",
      "15 ) Removed: 344\n",
      "tdat_il4_ip15_ra197.0965_dec39.5006_scl_in7.csv\n"
     ]
    },
    {
     "data": {
      "application/vnd.jupyter.widget-view+json": {
       "model_id": "7056b1d58b984fbb9e05e79107944ae9",
       "version_major": 2,
       "version_minor": 0
      },
      "text/plain": [
       "HBox(children=(IntProgress(value=0, max=97966), HTML(value='')))"
      ]
     },
     "metadata": {},
     "output_type": "display_data"
    },
    {
     "name": "stdout",
     "output_type": "stream",
     "text": [
      "\n",
      "5 ) Removed: 385\n",
      "tdat_il4_ip5_ra180.5136_dec58.6707_scl_in7.csv\n"
     ]
    },
    {
     "data": {
      "application/vnd.jupyter.widget-view+json": {
       "model_id": "99bd59185aea460986fe432d1767fab7",
       "version_major": 2,
       "version_minor": 0
      },
      "text/plain": [
       "HBox(children=(IntProgress(value=0, max=94957), HTML(value='')))"
      ]
     },
     "metadata": {},
     "output_type": "display_data"
    },
    {
     "name": "stdout",
     "output_type": "stream",
     "text": [
      "\n",
      "2 ) Removed: 373\n",
      "tdat_il4_ip2_ra174.6845_dec66.8075_scl_in7.csv\n"
     ]
    },
    {
     "data": {
      "application/vnd.jupyter.widget-view+json": {
       "model_id": "6454ee6c5d8a4a6988bbfc040eed8bad",
       "version_major": 2,
       "version_minor": 0
      },
      "text/plain": [
       "HBox(children=(IntProgress(value=0, max=119509), HTML(value='')))"
      ]
     },
     "metadata": {},
     "output_type": "display_data"
    },
    {
     "name": "stdout",
     "output_type": "stream",
     "text": [
      "\n",
      "10 ) Removed: 384\n",
      "tdat_il4_ip10_ra176.3175_dec51.7430_scl_in7.csv\n"
     ]
    },
    {
     "data": {
      "application/vnd.jupyter.widget-view+json": {
       "model_id": "b61c0d1dff0f4341b18dabff8aaf6812",
       "version_major": 2,
       "version_minor": 0
      },
      "text/plain": [
       "HBox(children=(IntProgress(value=0, max=133847), HTML(value='')))"
      ]
     },
     "metadata": {},
     "output_type": "display_data"
    },
    {
     "name": "stdout",
     "output_type": "stream",
     "text": [
      "\n",
      "1 ) Removed: 565\n",
      "tdat_il4_ip1_ra187.3484_dec47.1498_scl_in7.csv\n"
     ]
    },
    {
     "data": {
      "application/vnd.jupyter.widget-view+json": {
       "model_id": "e16d62e3c0de40cdb9be436054f0690e",
       "version_major": 2,
       "version_minor": 0
      },
      "text/plain": [
       "HBox(children=(IntProgress(value=0, max=156248), HTML(value='')))"
      ]
     },
     "metadata": {},
     "output_type": "display_data"
    },
    {
     "name": "stdout",
     "output_type": "stream",
     "text": [
      "\n",
      "0 ) Removed: 587\n",
      "tdat_il4_ip0_ra163.1320_dec58.3101_scl_in7.csv\n"
     ]
    },
    {
     "data": {
      "application/vnd.jupyter.widget-view+json": {
       "model_id": "ef95b10063464d99a6a840cfd5fec3ba",
       "version_major": 2,
       "version_minor": 0
      },
      "text/plain": [
       "HBox(children=(IntProgress(value=0, max=116638), HTML(value='')))"
      ]
     },
     "metadata": {},
     "output_type": "display_data"
    },
    {
     "name": "stdout",
     "output_type": "stream",
     "text": [
      "\n",
      "12 ) Removed: 469\n",
      "tdat_il4_ip12_ra177.1410_dec51.9537_scl_in7.csv\n"
     ]
    },
    {
     "data": {
      "application/vnd.jupyter.widget-view+json": {
       "model_id": "6e593f775bb741358eb8cad36ff324e8",
       "version_major": 2,
       "version_minor": 0
      },
      "text/plain": [
       "HBox(children=(IntProgress(value=0, max=105003), HTML(value='')))"
      ]
     },
     "metadata": {},
     "output_type": "display_data"
    },
    {
     "name": "stdout",
     "output_type": "stream",
     "text": [
      "\n",
      "6 ) Removed: 384\n",
      "tdat_il4_ip6_ra184.1741_dec51.0555_scl_in7.csv\n"
     ]
    },
    {
     "data": {
      "application/vnd.jupyter.widget-view+json": {
       "model_id": "01c9dbd9c3814378ac5db9ca84dfc4fe",
       "version_major": 2,
       "version_minor": 0
      },
      "text/plain": [
       "HBox(children=(IntProgress(value=0, max=104989), HTML(value='')))"
      ]
     },
     "metadata": {},
     "output_type": "display_data"
    },
    {
     "name": "stdout",
     "output_type": "stream",
     "text": [
      "\n",
      "7 ) Removed: 360\n",
      "tdat_il4_ip7_ra168.5814_dec58.6462_scl_in7.csv\n"
     ]
    },
    {
     "data": {
      "application/vnd.jupyter.widget-view+json": {
       "model_id": "1fe1982a4ec245558af835473b58d402",
       "version_major": 2,
       "version_minor": 0
      },
      "text/plain": [
       "HBox(children=(IntProgress(value=0, max=103534), HTML(value='')))"
      ]
     },
     "metadata": {},
     "output_type": "display_data"
    },
    {
     "name": "stdout",
     "output_type": "stream",
     "text": [
      "\n",
      "4 ) Removed: 303\n",
      "tdat_il4_ip4_ra193.2090_dec49.3313_scl_in7.csv\n"
     ]
    },
    {
     "data": {
      "application/vnd.jupyter.widget-view+json": {
       "model_id": "78ca544307cc4167a1115c6e51743f08",
       "version_major": 2,
       "version_minor": 0
      },
      "text/plain": [
       "HBox(children=(IntProgress(value=0, max=108350), HTML(value='')))"
      ]
     },
     "metadata": {},
     "output_type": "display_data"
    },
    {
     "name": "stdout",
     "output_type": "stream",
     "text": [
      "\n",
      "13 ) Removed: 308\n",
      "tdat_il4_ip13_ra191.6882_dec49.8275_scl_in7.csv\n"
     ]
    },
    {
     "data": {
      "application/vnd.jupyter.widget-view+json": {
       "model_id": "123f08a1af9c40b3a3c60bcba771757c",
       "version_major": 2,
       "version_minor": 0
      },
      "text/plain": [
       "HBox(children=(IntProgress(value=0, max=95245), HTML(value='')))"
      ]
     },
     "metadata": {},
     "output_type": "display_data"
    },
    {
     "name": "stdout",
     "output_type": "stream",
     "text": [
      "\n",
      "3 ) Removed: 428\n",
      "tdat_il4_ip3_ra177.7263_dec63.0286_scl_in7.csv\n"
     ]
    },
    {
     "data": {
      "application/vnd.jupyter.widget-view+json": {
       "model_id": "3f9e70eb550c4441a10e58ddc9e1ae3b",
       "version_major": 2,
       "version_minor": 0
      },
      "text/plain": [
       "HBox(children=(IntProgress(value=0, max=112597), HTML(value='')))"
      ]
     },
     "metadata": {},
     "output_type": "display_data"
    },
    {
     "name": "stdout",
     "output_type": "stream",
     "text": [
      "\n",
      "18 ) Removed: 411\n",
      "tdat_il4_ip18_ra197.8840_dec38.4552_scl_in7.csv\n"
     ]
    }
   ],
   "source": [
    "proc_files(files, clear_dir, dirname)"
   ]
  },
  {
   "cell_type": "code",
   "execution_count": null,
   "metadata": {},
   "outputs": [],
   "source": []
  }
 ],
 "metadata": {
  "kernelspec": {
   "display_name": "Python 3",
   "language": "python",
   "name": "python3"
  },
  "language_info": {
   "codemirror_mode": {
    "name": "ipython",
    "version": 3
   },
   "file_extension": ".py",
   "mimetype": "text/x-python",
   "name": "python",
   "nbconvert_exporter": "python",
   "pygments_lexer": "ipython3",
   "version": "3.7.3"
  }
 },
 "nbformat": 4,
 "nbformat_minor": 2
}
