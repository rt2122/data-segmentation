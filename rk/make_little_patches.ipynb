{
 "cells": [
  {
   "cell_type": "code",
   "execution_count": 1,
   "metadata": {
    "ExecuteTime": {
     "end_time": "2020-04-25T13:50:36.569382Z",
     "start_time": "2020-04-25T13:50:35.451131Z"
    }
   },
   "outputs": [],
   "source": [
    "from all_p import make_pic"
   ]
  },
  {
   "cell_type": "code",
   "execution_count": 2,
   "metadata": {
    "ExecuteTime": {
     "end_time": "2020-04-25T13:50:36.581305Z",
     "start_time": "2020-04-25T13:50:36.576570Z"
    }
   },
   "outputs": [],
   "source": [
    "import healpy as hp"
   ]
  },
  {
   "cell_type": "code",
   "execution_count": 3,
   "metadata": {
    "ExecuteTime": {
     "end_time": "2020-04-25T13:50:36.731351Z",
     "start_time": "2020-04-25T13:50:36.585589Z"
    }
   },
   "outputs": [],
   "source": [
    "import numpy as np"
   ]
  },
  {
   "cell_type": "code",
   "execution_count": 4,
   "metadata": {
    "ExecuteTime": {
     "end_time": "2020-04-25T13:50:36.917071Z",
     "start_time": "2020-04-25T13:50:36.911573Z"
    }
   },
   "outputs": [],
   "source": [
    "cen_pix = np.random.randint(hp.nside2npix(2**17))"
   ]
  },
  {
   "cell_type": "code",
   "execution_count": 6,
   "metadata": {
    "ExecuteTime": {
     "end_time": "2020-04-25T13:45:38.039055Z",
     "start_time": "2020-04-25T13:41:58.732108Z"
    }
   },
   "outputs": [
    {
     "data": {
      "application/vnd.jupyter.widget-view+json": {
       "model_id": "cde278d50d1d4a07b48fd9bcab6eb1c6",
       "version_major": 2,
       "version_minor": 0
      },
      "text/plain": [
       "HBox(children=(IntProgress(value=0, max=2050), HTML(value='')))"
      ]
     },
     "metadata": {},
     "output_type": "display_data"
    },
    {
     "name": "stdout",
     "output_type": "stream",
     "text": [
      "\n"
     ]
    }
   ],
   "source": [
    "matr = make_pic(center_pix=cen_pix, nside=2**17, size=2050)"
   ]
  },
  {
   "cell_type": "code",
   "execution_count": 5,
   "metadata": {
    "ExecuteTime": {
     "end_time": "2020-04-25T13:50:40.273277Z",
     "start_time": "2020-04-25T13:50:40.257284Z"
    }
   },
   "outputs": [],
   "source": [
    "def dist(l, b, ll, bb):\n",
    "    sc = SkyCoord(l=l*u.degree, b=b*u.degree, frame='galactic')\n",
    "    sscc = SkyCoord(l=ll*u.degree, b=bb*u.degree, frame='galactic')\n",
    "    return sc.separation(sscc).degree\n",
    "\n",
    "def pix_dist(nside, pix0, pix1):\n",
    "    l0, b0 = hp.pix2ang(nside=nside, ipix=pix0, nest=True, lonlat=True)\n",
    "    l1, b1 = hp.pix2ang(nside=nside, ipix=pix1, nest=True, lonlat=True)\n",
    "    \n",
    "    return dist(l0, b0, l1, b1)"
   ]
  },
  {
   "cell_type": "code",
   "execution_count": 13,
   "metadata": {
    "ExecuteTime": {
     "end_time": "2020-04-25T13:46:19.584812Z",
     "start_time": "2020-04-25T13:46:19.574884Z"
    }
   },
   "outputs": [
    {
     "name": "stdout",
     "output_type": "stream",
     "text": [
      "0.6462359932748121\n"
     ]
    }
   ],
   "source": [
    "print(pix_dist(2**17, matr[2049,2049], cen_pix))"
   ]
  },
  {
   "cell_type": "code",
   "execution_count": 10,
   "metadata": {
    "ExecuteTime": {
     "end_time": "2020-04-25T13:46:02.370288Z",
     "start_time": "2020-04-25T13:46:02.364537Z"
    }
   },
   "outputs": [],
   "source": [
    "from astropy.coordinates import SkyCoord"
   ]
  },
  {
   "cell_type": "code",
   "execution_count": 12,
   "metadata": {
    "ExecuteTime": {
     "end_time": "2020-04-25T13:46:17.394630Z",
     "start_time": "2020-04-25T13:46:17.390802Z"
    }
   },
   "outputs": [],
   "source": [
    "from astropy import units as u"
   ]
  },
  {
   "cell_type": "code",
   "execution_count": 14,
   "metadata": {
    "ExecuteTime": {
     "end_time": "2020-04-25T13:46:38.611619Z",
     "start_time": "2020-04-25T13:46:38.598138Z"
    }
   },
   "outputs": [],
   "source": [
    "max_dist = pix_dist(2**17, matr[2049,2049], cen_pix)"
   ]
  },
  {
   "cell_type": "code",
   "execution_count": 6,
   "metadata": {
    "ExecuteTime": {
     "end_time": "2020-04-25T13:50:59.375883Z",
     "start_time": "2020-04-25T13:50:59.370006Z"
    }
   },
   "outputs": [],
   "source": [
    "max_dist =0.6462359932748121 "
   ]
  },
  {
   "cell_type": "code",
   "execution_count": 7,
   "metadata": {
    "ExecuteTime": {
     "end_time": "2020-04-25T13:51:01.391677Z",
     "start_time": "2020-04-25T13:51:01.382865Z"
    }
   },
   "outputs": [],
   "source": [
    "from generate_patches import *"
   ]
  },
  {
   "cell_type": "code",
   "execution_count": 8,
   "metadata": {
    "ExecuteTime": {
     "end_time": "2020-04-25T13:51:01.709486Z",
     "start_time": "2020-04-25T13:51:01.701992Z"
    }
   },
   "outputs": [],
   "source": [
    "import pandas as pd"
   ]
  },
  {
   "cell_type": "code",
   "execution_count": 9,
   "metadata": {
    "ExecuteTime": {
     "end_time": "2020-04-25T13:51:02.138329Z",
     "start_time": "2020-04-25T13:51:02.108359Z"
    }
   },
   "outputs": [],
   "source": [
    "planck = pd.read_csv('../src_data/planck_z.csv', index_col='index')"
   ]
  },
  {
   "cell_type": "code",
   "execution_count": 10,
   "metadata": {
    "ExecuteTime": {
     "end_time": "2020-04-25T13:51:02.728416Z",
     "start_time": "2020-04-25T13:51:02.706285Z"
    }
   },
   "outputs": [
    {
     "data": {
      "text/html": [
       "<div>\n",
       "<style scoped>\n",
       "    .dataframe tbody tr th:only-of-type {\n",
       "        vertical-align: middle;\n",
       "    }\n",
       "\n",
       "    .dataframe tbody tr th {\n",
       "        vertical-align: top;\n",
       "    }\n",
       "\n",
       "    .dataframe thead th {\n",
       "        text-align: right;\n",
       "    }\n",
       "</style>\n",
       "<table border=\"1\" class=\"dataframe\">\n",
       "  <thead>\n",
       "    <tr style=\"text-align: right;\">\n",
       "      <th></th>\n",
       "      <th>Name</th>\n",
       "      <th>RAdeg</th>\n",
       "      <th>DEdeg</th>\n",
       "      <th>z</th>\n",
       "      <th>MSZ</th>\n",
       "      <th>MCXC</th>\n",
       "      <th>RedMAPPer</th>\n",
       "      <th>pix</th>\n",
       "      <th>theta</th>\n",
       "      <th>phi</th>\n",
       "    </tr>\n",
       "    <tr>\n",
       "      <th>index</th>\n",
       "      <th></th>\n",
       "      <th></th>\n",
       "      <th></th>\n",
       "      <th></th>\n",
       "      <th></th>\n",
       "      <th></th>\n",
       "      <th></th>\n",
       "      <th></th>\n",
       "      <th></th>\n",
       "      <th></th>\n",
       "    </tr>\n",
       "  </thead>\n",
       "  <tbody>\n",
       "    <tr>\n",
       "      <th>0</th>\n",
       "      <td>PSZ2 G000.04+45.13</td>\n",
       "      <td>229.190512</td>\n",
       "      <td>-1.017222</td>\n",
       "      <td>0.1198</td>\n",
       "      <td>3.962411</td>\n",
       "      <td>J1516.5-0056</td>\n",
       "      <td>RMJ151653.9-010506.3</td>\n",
       "      <td>2</td>\n",
       "      <td>0.000708</td>\n",
       "      <td>0.787757</td>\n",
       "    </tr>\n",
       "    <tr>\n",
       "      <th>1</th>\n",
       "      <td>PSZ2 G000.13+78.04</td>\n",
       "      <td>203.558683</td>\n",
       "      <td>20.255990</td>\n",
       "      <td>0.1710</td>\n",
       "      <td>5.122391</td>\n",
       "      <td>J1334.1+2013</td>\n",
       "      <td>RMJ133408.7+201453.0</td>\n",
       "      <td>3</td>\n",
       "      <td>0.002410</td>\n",
       "      <td>1.362092</td>\n",
       "    </tr>\n",
       "    <tr>\n",
       "      <th>2</th>\n",
       "      <td>PSZ2 G000.40-41.86</td>\n",
       "      <td>316.084485</td>\n",
       "      <td>-41.354169</td>\n",
       "      <td>0.1651</td>\n",
       "      <td>5.297053</td>\n",
       "      <td>J2104.3-4120</td>\n",
       "      <td></td>\n",
       "      <td>34</td>\n",
       "      <td>0.007034</td>\n",
       "      <td>-0.730609</td>\n",
       "    </tr>\n",
       "    <tr>\n",
       "      <th>3</th>\n",
       "      <td>PSZ2 G000.77-35.69</td>\n",
       "      <td>307.972844</td>\n",
       "      <td>-40.598725</td>\n",
       "      <td>0.3416</td>\n",
       "      <td>6.333562</td>\n",
       "      <td>J2031.8-4037</td>\n",
       "      <td></td>\n",
       "      <td>16</td>\n",
       "      <td>0.013527</td>\n",
       "      <td>-0.623072</td>\n",
       "    </tr>\n",
       "    <tr>\n",
       "      <th>4</th>\n",
       "      <td>PSZ2 G002.08-68.28</td>\n",
       "      <td>349.632431</td>\n",
       "      <td>-36.332559</td>\n",
       "      <td>0.1400</td>\n",
       "      <td>2.835297</td>\n",
       "      <td></td>\n",
       "      <td></td>\n",
       "      <td>32</td>\n",
       "      <td>0.036425</td>\n",
       "      <td>-1.191738</td>\n",
       "    </tr>\n",
       "  </tbody>\n",
       "</table>\n",
       "</div>"
      ],
      "text/plain": [
       "                     Name       RAdeg      DEdeg       z       MSZ  \\\n",
       "index                                                                \n",
       "0      PSZ2 G000.04+45.13  229.190512  -1.017222  0.1198  3.962411   \n",
       "1      PSZ2 G000.13+78.04  203.558683  20.255990  0.1710  5.122391   \n",
       "2      PSZ2 G000.40-41.86  316.084485 -41.354169  0.1651  5.297053   \n",
       "3      PSZ2 G000.77-35.69  307.972844 -40.598725  0.3416  6.333562   \n",
       "4      PSZ2 G002.08-68.28  349.632431 -36.332559  0.1400  2.835297   \n",
       "\n",
       "               MCXC             RedMAPPer  pix     theta       phi  \n",
       "index                                                               \n",
       "0      J1516.5-0056  RMJ151653.9-010506.3    2  0.000708  0.787757  \n",
       "1      J1334.1+2013  RMJ133408.7+201453.0    3  0.002410  1.362092  \n",
       "2      J2104.3-4120                         34  0.007034 -0.730609  \n",
       "3      J2031.8-4037                         16  0.013527 -0.623072  \n",
       "4                                           32  0.036425 -1.191738  "
      ]
     },
     "execution_count": 10,
     "metadata": {},
     "output_type": "execute_result"
    }
   ],
   "source": [
    "planck.head()"
   ]
  },
  {
   "cell_type": "code",
   "execution_count": 11,
   "metadata": {
    "ExecuteTime": {
     "end_time": "2020-04-25T13:51:09.196999Z",
     "start_time": "2020-04-25T13:51:09.186237Z"
    }
   },
   "outputs": [
    {
     "data": {
      "text/plain": [
       "(36, 10)"
      ]
     },
     "execution_count": 11,
     "metadata": {},
     "output_type": "execute_result"
    }
   ],
   "source": [
    "planck5 = planck[planck['pix'] == 5]\n",
    "planck5.shape"
   ]
  },
  {
   "cell_type": "code",
   "execution_count": null,
   "metadata": {},
   "outputs": [],
   "source": [
    "centers = gen_centers(planck5, 20, radius=max_dist, nside=2**17, func=lambda n, nside:in_nth_pix(n, nside, npix)"
   ]
  }
 ],
 "metadata": {
  "kernelspec": {
   "display_name": "Python 3",
   "language": "python",
   "name": "python3"
  },
  "language_info": {
   "codemirror_mode": {
    "name": "ipython",
    "version": 3
   },
   "file_extension": ".py",
   "mimetype": "text/x-python",
   "name": "python",
   "nbconvert_exporter": "python",
   "pygments_lexer": "ipython3",
   "version": "3.7.3"
  }
 },
 "nbformat": 4,
 "nbformat_minor": 2
}
