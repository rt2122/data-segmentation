{
 "cells": [
  {
   "cell_type": "code",
   "execution_count": 1,
   "metadata": {
    "ExecuteTime": {
     "end_time": "2020-04-24T20:48:26.484649Z",
     "start_time": "2020-04-24T20:48:26.339394Z"
    }
   },
   "outputs": [],
   "source": [
    "import scipy.sparse as sp\n",
    "import numpy as np"
   ]
  },
  {
   "cell_type": "code",
   "execution_count": 2,
   "metadata": {
    "ExecuteTime": {
     "end_time": "2020-04-24T20:48:26.524435Z",
     "start_time": "2020-04-24T20:48:26.521986Z"
    }
   },
   "outputs": [],
   "source": [
    "from os import walk\n",
    "from os.path import join"
   ]
  },
  {
   "cell_type": "code",
   "execution_count": 3,
   "metadata": {
    "ExecuteTime": {
     "end_time": "2020-04-24T20:05:00.301499Z",
     "start_time": "2020-04-24T20:05:00.141216Z"
    }
   },
   "outputs": [
    {
     "data": {
      "text/plain": [
       "['tf_ip17_ra133.0238_dec77.3853_sgrizym_in4_il0.csv.npy',\n",
       " 'tf_ip18_ra92.5061_dec85.5084_sgrizym_in4_il0.csv.npy',\n",
       " 'tf_ip10_ra149.8894_dec75.3573_sgrizym_in4_il0.csv.npy',\n",
       " 'tf_ip3_ra68.5748_dec86.6007_sgrizym_in4_il0.csv.npy',\n",
       " 'tf_ip8_ra51.6729_dec78.4047_sgrizym_in4_il0.csv.npy',\n",
       " 'tf_ip16_ra128.9214_dec76.5332_sgrizym_in4_il0.csv.npy',\n",
       " 'tf_ip12_ra52.0033_dec78.6723_sgrizym_in4_il0.csv.npy',\n",
       " 'tf_ip9_ra96.1332_dec67.3208_sgrizym_in4_il0.csv.npy',\n",
       " 'tf_ip5_ra101.1796_dec70.7459_sgrizym_in4_il0.csv.npy',\n",
       " 'tf_ip1_ra95.6591_dec66.9648_sgrizym_in4_il0.csv.npy',\n",
       " 'tf_ip14_ra99.4052_dec75.2856_sgrizym_in4_il0.csv.npy',\n",
       " 'tf_ip19_ra101.2175_dec68.8344_sgrizym_in4_il0.csv.npy',\n",
       " 'tf_ip6_ra95.8086_dec68.133_sgrizym_in4_il0.csv.npy',\n",
       " 'tf_ip0_ra68.1497_dec67.3438_sgrizym_in4_il0.csv.npy',\n",
       " 'tf_ip2_ra91.6275_dec67.48_sgrizym_in4_il0.csv.npy',\n",
       " 'tf_ip4_ra93.6453_dec74.5114_sgrizym_in4_il0.csv.npy',\n",
       " 'tf_ip13_ra52.1056_dec77.6378_sgrizym_in4_il0.csv.npy',\n",
       " 'tf_ip11_ra95.9004_dec67.9524_sgrizym_in4_il0.csv.npy',\n",
       " 'tf_ip7_ra112.9365_dec74.2803_sgrizym_in4_il0.csv.npy',\n",
       " 'tf_ip15_ra138.5468_dec79.3242_sgrizym_in4_il0.csv.npy']"
      ]
     },
     "execution_count": 3,
     "metadata": {},
     "output_type": "execute_result"
    }
   ],
   "source": [
    "dirname = r'/home/rt2122/data/train/filters/'\n",
    "files = next(walk(dirname))[-1]\n",
    "files"
   ]
  },
  {
   "cell_type": "code",
   "execution_count": 3,
   "metadata": {
    "ExecuteTime": {
     "end_time": "2020-04-24T20:47:46.514627Z",
     "start_time": "2020-04-24T20:47:46.506583Z"
    }
   },
   "outputs": [],
   "source": [
    "from sys import getsizeof"
   ]
  },
  {
   "cell_type": "code",
   "execution_count": 12,
   "metadata": {
    "ExecuteTime": {
     "end_time": "2020-04-24T20:19:07.964519Z",
     "start_time": "2020-04-24T20:17:05.864921Z"
    },
    "collapsed": true
   },
   "outputs": [
    {
     "name": "stdout",
     "output_type": "stream",
     "text": [
      "Old size: 402653312; new size: 336\n",
      "Saved in tf_ip17_ra133.0238_dec77.3853_scsrg_in4_il0.csv\n",
      "Saved in tf_ip17_ra133.0238_dec77.3853_scsrr_in4_il0.csv\n",
      "Saved in tf_ip17_ra133.0238_dec77.3853_scsri_in4_il0.csv\n",
      "Saved in tf_ip17_ra133.0238_dec77.3853_scsrz_in4_il0.csv\n",
      "Saved in tf_ip17_ra133.0238_dec77.3853_scsry_in4_il0.csv\n",
      "Saved in tf_ip17_ra133.0238_dec77.3853_scsrm_in4_il0.csv\n",
      "Old size: 402653312; new size: 336\n",
      "Saved in tf_ip18_ra92.5061_dec85.5084_scsrg_in4_il0.csv\n",
      "Saved in tf_ip18_ra92.5061_dec85.5084_scsrr_in4_il0.csv\n",
      "Saved in tf_ip18_ra92.5061_dec85.5084_scsri_in4_il0.csv\n",
      "Saved in tf_ip18_ra92.5061_dec85.5084_scsrz_in4_il0.csv\n",
      "Saved in tf_ip18_ra92.5061_dec85.5084_scsry_in4_il0.csv\n",
      "Saved in tf_ip18_ra92.5061_dec85.5084_scsrm_in4_il0.csv\n",
      "Old size: 402653312; new size: 336\n",
      "Saved in tf_ip10_ra149.8894_dec75.3573_scsrg_in4_il0.csv\n",
      "Saved in tf_ip10_ra149.8894_dec75.3573_scsrr_in4_il0.csv\n",
      "Saved in tf_ip10_ra149.8894_dec75.3573_scsri_in4_il0.csv\n",
      "Saved in tf_ip10_ra149.8894_dec75.3573_scsrz_in4_il0.csv\n",
      "Saved in tf_ip10_ra149.8894_dec75.3573_scsry_in4_il0.csv\n",
      "Saved in tf_ip10_ra149.8894_dec75.3573_scsrm_in4_il0.csv\n",
      "Old size: 402653312; new size: 336\n",
      "Saved in tf_ip3_ra68.5748_dec86.6007_scsrg_in4_il0.csv\n",
      "Saved in tf_ip3_ra68.5748_dec86.6007_scsrr_in4_il0.csv\n",
      "Saved in tf_ip3_ra68.5748_dec86.6007_scsri_in4_il0.csv\n",
      "Saved in tf_ip3_ra68.5748_dec86.6007_scsrz_in4_il0.csv\n",
      "Saved in tf_ip3_ra68.5748_dec86.6007_scsry_in4_il0.csv\n",
      "Saved in tf_ip3_ra68.5748_dec86.6007_scsrm_in4_il0.csv\n",
      "Old size: 402653312; new size: 336\n",
      "Saved in tf_ip8_ra51.6729_dec78.4047_scsrg_in4_il0.csv\n",
      "Saved in tf_ip8_ra51.6729_dec78.4047_scsrr_in4_il0.csv\n",
      "Saved in tf_ip8_ra51.6729_dec78.4047_scsri_in4_il0.csv\n",
      "Saved in tf_ip8_ra51.6729_dec78.4047_scsrz_in4_il0.csv\n",
      "Saved in tf_ip8_ra51.6729_dec78.4047_scsry_in4_il0.csv\n",
      "Saved in tf_ip8_ra51.6729_dec78.4047_scsrm_in4_il0.csv\n",
      "Old size: 402653312; new size: 336\n",
      "Saved in tf_ip16_ra128.9214_dec76.5332_scsrg_in4_il0.csv\n",
      "Saved in tf_ip16_ra128.9214_dec76.5332_scsrr_in4_il0.csv\n",
      "Saved in tf_ip16_ra128.9214_dec76.5332_scsri_in4_il0.csv\n",
      "Saved in tf_ip16_ra128.9214_dec76.5332_scsrz_in4_il0.csv\n",
      "Saved in tf_ip16_ra128.9214_dec76.5332_scsry_in4_il0.csv\n",
      "Saved in tf_ip16_ra128.9214_dec76.5332_scsrm_in4_il0.csv\n",
      "Old size: 402653312; new size: 336\n",
      "Saved in tf_ip12_ra52.0033_dec78.6723_scsrg_in4_il0.csv\n",
      "Saved in tf_ip12_ra52.0033_dec78.6723_scsrr_in4_il0.csv\n",
      "Saved in tf_ip12_ra52.0033_dec78.6723_scsri_in4_il0.csv\n",
      "Saved in tf_ip12_ra52.0033_dec78.6723_scsrz_in4_il0.csv\n",
      "Saved in tf_ip12_ra52.0033_dec78.6723_scsry_in4_il0.csv\n",
      "Saved in tf_ip12_ra52.0033_dec78.6723_scsrm_in4_il0.csv\n",
      "Old size: 402653312; new size: 336\n",
      "Saved in tf_ip9_ra96.1332_dec67.3208_scsrg_in4_il0.csv\n",
      "Saved in tf_ip9_ra96.1332_dec67.3208_scsrr_in4_il0.csv\n",
      "Saved in tf_ip9_ra96.1332_dec67.3208_scsri_in4_il0.csv\n",
      "Saved in tf_ip9_ra96.1332_dec67.3208_scsrz_in4_il0.csv\n",
      "Saved in tf_ip9_ra96.1332_dec67.3208_scsry_in4_il0.csv\n",
      "Saved in tf_ip9_ra96.1332_dec67.3208_scsrm_in4_il0.csv\n",
      "Old size: 402653312; new size: 336\n",
      "Saved in tf_ip5_ra101.1796_dec70.7459_scsrg_in4_il0.csv\n",
      "Saved in tf_ip5_ra101.1796_dec70.7459_scsrr_in4_il0.csv\n",
      "Saved in tf_ip5_ra101.1796_dec70.7459_scsri_in4_il0.csv\n",
      "Saved in tf_ip5_ra101.1796_dec70.7459_scsrz_in4_il0.csv\n",
      "Saved in tf_ip5_ra101.1796_dec70.7459_scsry_in4_il0.csv\n",
      "Saved in tf_ip5_ra101.1796_dec70.7459_scsrm_in4_il0.csv\n",
      "Old size: 402653312; new size: 336\n",
      "Saved in tf_ip1_ra95.6591_dec66.9648_scsrg_in4_il0.csv\n",
      "Saved in tf_ip1_ra95.6591_dec66.9648_scsrr_in4_il0.csv\n",
      "Saved in tf_ip1_ra95.6591_dec66.9648_scsri_in4_il0.csv\n",
      "Saved in tf_ip1_ra95.6591_dec66.9648_scsrz_in4_il0.csv\n",
      "Saved in tf_ip1_ra95.6591_dec66.9648_scsry_in4_il0.csv\n",
      "Saved in tf_ip1_ra95.6591_dec66.9648_scsrm_in4_il0.csv\n",
      "Old size: 402653312; new size: 336\n",
      "Saved in tf_ip14_ra99.4052_dec75.2856_scsrg_in4_il0.csv\n",
      "Saved in tf_ip14_ra99.4052_dec75.2856_scsrr_in4_il0.csv\n",
      "Saved in tf_ip14_ra99.4052_dec75.2856_scsri_in4_il0.csv\n",
      "Saved in tf_ip14_ra99.4052_dec75.2856_scsrz_in4_il0.csv\n",
      "Saved in tf_ip14_ra99.4052_dec75.2856_scsry_in4_il0.csv\n",
      "Saved in tf_ip14_ra99.4052_dec75.2856_scsrm_in4_il0.csv\n",
      "Old size: 402653312; new size: 336\n",
      "Saved in tf_ip19_ra101.2175_dec68.8344_scsrg_in4_il0.csv\n",
      "Saved in tf_ip19_ra101.2175_dec68.8344_scsrr_in4_il0.csv\n",
      "Saved in tf_ip19_ra101.2175_dec68.8344_scsri_in4_il0.csv\n",
      "Saved in tf_ip19_ra101.2175_dec68.8344_scsrz_in4_il0.csv\n",
      "Saved in tf_ip19_ra101.2175_dec68.8344_scsry_in4_il0.csv\n",
      "Saved in tf_ip19_ra101.2175_dec68.8344_scsrm_in4_il0.csv\n",
      "Old size: 402653312; new size: 336\n",
      "Saved in tf_ip6_ra95.8086_dec68.133_scsrg_in4_il0.csv\n",
      "Saved in tf_ip6_ra95.8086_dec68.133_scsrr_in4_il0.csv\n",
      "Saved in tf_ip6_ra95.8086_dec68.133_scsri_in4_il0.csv\n",
      "Saved in tf_ip6_ra95.8086_dec68.133_scsrz_in4_il0.csv\n",
      "Saved in tf_ip6_ra95.8086_dec68.133_scsry_in4_il0.csv\n",
      "Saved in tf_ip6_ra95.8086_dec68.133_scsrm_in4_il0.csv\n",
      "Old size: 402653312; new size: 336\n",
      "Saved in tf_ip0_ra68.1497_dec67.3438_scsrg_in4_il0.csv\n",
      "Saved in tf_ip0_ra68.1497_dec67.3438_scsrr_in4_il0.csv\n",
      "Saved in tf_ip0_ra68.1497_dec67.3438_scsri_in4_il0.csv\n",
      "Saved in tf_ip0_ra68.1497_dec67.3438_scsrz_in4_il0.csv\n",
      "Saved in tf_ip0_ra68.1497_dec67.3438_scsry_in4_il0.csv\n",
      "Saved in tf_ip0_ra68.1497_dec67.3438_scsrm_in4_il0.csv\n",
      "Old size: 402653312; new size: 336\n",
      "Saved in tf_ip2_ra91.6275_dec67.48_scsrg_in4_il0.csv\n",
      "Saved in tf_ip2_ra91.6275_dec67.48_scsrr_in4_il0.csv\n",
      "Saved in tf_ip2_ra91.6275_dec67.48_scsri_in4_il0.csv\n",
      "Saved in tf_ip2_ra91.6275_dec67.48_scsrz_in4_il0.csv\n",
      "Saved in tf_ip2_ra91.6275_dec67.48_scsry_in4_il0.csv\n",
      "Saved in tf_ip2_ra91.6275_dec67.48_scsrm_in4_il0.csv\n",
      "Old size: 402653312; new size: 336\n",
      "Saved in tf_ip4_ra93.6453_dec74.5114_scsrg_in4_il0.csv\n",
      "Saved in tf_ip4_ra93.6453_dec74.5114_scsrr_in4_il0.csv\n",
      "Saved in tf_ip4_ra93.6453_dec74.5114_scsri_in4_il0.csv\n",
      "Saved in tf_ip4_ra93.6453_dec74.5114_scsrz_in4_il0.csv\n",
      "Saved in tf_ip4_ra93.6453_dec74.5114_scsry_in4_il0.csv\n",
      "Saved in tf_ip4_ra93.6453_dec74.5114_scsrm_in4_il0.csv\n",
      "Old size: 402653312; new size: 336\n",
      "Saved in tf_ip13_ra52.1056_dec77.6378_scsrg_in4_il0.csv\n",
      "Saved in tf_ip13_ra52.1056_dec77.6378_scsrr_in4_il0.csv\n",
      "Saved in tf_ip13_ra52.1056_dec77.6378_scsri_in4_il0.csv\n",
      "Saved in tf_ip13_ra52.1056_dec77.6378_scsrz_in4_il0.csv\n",
      "Saved in tf_ip13_ra52.1056_dec77.6378_scsry_in4_il0.csv\n",
      "Saved in tf_ip13_ra52.1056_dec77.6378_scsrm_in4_il0.csv\n",
      "Old size: 402653312; new size: 336\n",
      "Saved in tf_ip11_ra95.9004_dec67.9524_scsrg_in4_il0.csv\n",
      "Saved in tf_ip11_ra95.9004_dec67.9524_scsrr_in4_il0.csv\n",
      "Saved in tf_ip11_ra95.9004_dec67.9524_scsri_in4_il0.csv\n",
      "Saved in tf_ip11_ra95.9004_dec67.9524_scsrz_in4_il0.csv\n",
      "Saved in tf_ip11_ra95.9004_dec67.9524_scsry_in4_il0.csv\n",
      "Saved in tf_ip11_ra95.9004_dec67.9524_scsrm_in4_il0.csv\n",
      "Old size: 402653312; new size: 336\n",
      "Saved in tf_ip7_ra112.9365_dec74.2803_scsrg_in4_il0.csv\n",
      "Saved in tf_ip7_ra112.9365_dec74.2803_scsrr_in4_il0.csv\n",
      "Saved in tf_ip7_ra112.9365_dec74.2803_scsri_in4_il0.csv\n",
      "Saved in tf_ip7_ra112.9365_dec74.2803_scsrz_in4_il0.csv\n",
      "Saved in tf_ip7_ra112.9365_dec74.2803_scsry_in4_il0.csv\n",
      "Saved in tf_ip7_ra112.9365_dec74.2803_scsrm_in4_il0.csv\n",
      "Old size: 402653312; new size: 336\n",
      "Saved in tf_ip15_ra138.5468_dec79.3242_scsrg_in4_il0.csv\n",
      "Saved in tf_ip15_ra138.5468_dec79.3242_scsrr_in4_il0.csv\n",
      "Saved in tf_ip15_ra138.5468_dec79.3242_scsri_in4_il0.csv\n",
      "Saved in tf_ip15_ra138.5468_dec79.3242_scsrz_in4_il0.csv\n",
      "Saved in tf_ip15_ra138.5468_dec79.3242_scsry_in4_il0.csv\n",
      "Saved in tf_ip15_ra138.5468_dec79.3242_scsrm_in4_il0.csv\n"
     ]
    }
   ],
   "source": [
    "for f in files:\n",
    "    cf = ClusterFile(f)\n",
    "    cf.params['state'] = 'csr'\n",
    "    arr = np.load(join(dirname, f))\n",
    "    csr = []\n",
    "    csr.append(sp.csr_matrix(arr[:,:,0]))\n",
    "    csr.append(sp.csr_matrix(arr[:,:,1]))\n",
    "    csr.append(sp.csr_matrix(arr[:,:,2]))\n",
    "    csr.append(sp.csr_matrix(arr[:,:,3]))\n",
    "    csr.append(sp.csr_matrix(arr[:,:,4]))\n",
    "    csr.append(sp.csr_matrix(arr[:,:,5]))\n",
    "    print('Old size: %d; new size: %d' % (getsizeof(arr), sum([getsizeof(layer) for layer in csr])))\n",
    "    del arr\n",
    "    \n",
    "    filters='grizym'\n",
    "    for i in range(len(csr)):\n",
    "        fil = filters[i]\n",
    "        cf.params['state'] = 'csr'+fil\n",
    "        sp.save_npz(cf.file(), csr[i])\n",
    "        print('Saved in %s'%(cf.file()))"
   ]
  },
  {
   "cell_type": "code",
   "execution_count": 3,
   "metadata": {
    "ExecuteTime": {
     "end_time": "2020-04-24T20:48:32.055540Z",
     "start_time": "2020-04-24T20:48:31.023895Z"
    }
   },
   "outputs": [],
   "source": [
    "from all_p import ClusterFile"
   ]
  },
  {
   "cell_type": "code",
   "execution_count": 4,
   "metadata": {
    "ExecuteTime": {
     "end_time": "2020-04-24T20:48:32.062735Z",
     "start_time": "2020-04-24T20:48:32.057381Z"
    }
   },
   "outputs": [],
   "source": [
    "from os.path import exists\n",
    "old_dir = '/home/rt2122/data/train/csr/'\n",
    "exists(old_dir)\n",
    "from os import mkdir\n",
    "from os import rename"
   ]
  },
  {
   "cell_type": "code",
   "execution_count": 21,
   "metadata": {
    "ExecuteTime": {
     "end_time": "2020-04-24T20:32:19.608974Z",
     "start_time": "2020-04-24T20:32:19.599240Z"
    }
   },
   "outputs": [],
   "source": [
    "rename('/home/rt2122/data/train/check', '/home/rt2122/data/check')"
   ]
  },
  {
   "cell_type": "code",
   "execution_count": 5,
   "metadata": {
    "ExecuteTime": {
     "end_time": "2020-04-24T20:48:35.200651Z",
     "start_time": "2020-04-24T20:48:35.190850Z"
    },
    "collapsed": true
   },
   "outputs": [
    {
     "data": {
      "text/plain": [
       "['tf_ip16_ra128.9214_dec76.5332_scsrm_in4_il0.csv.npz',\n",
       " 'tf_ip11_ra95.9004_dec67.9524_scsrm_in4_il0.csv.npz',\n",
       " 'tf_ip1_ra95.6591_dec66.9648_scsry_in4_il0.csv.npz',\n",
       " 'tf_ip12_ra52.0033_dec78.6723_scsry_in4_il0.csv.npz',\n",
       " 'tf_ip7_ra112.9365_dec74.2803_scsry_in4_il0.csv.npz',\n",
       " 'tf_ip10_ra149.8894_dec75.3573_scsri_in4_il0.csv.npz',\n",
       " 'tf_ip6_ra95.8086_dec68.133_scsrm_in4_il0.csv.npz',\n",
       " 'tf_ip7_ra112.9365_dec74.2803_scsrz_in4_il0.csv.npz',\n",
       " 'tf_ip8_ra51.6729_dec78.4047_scsry_in4_il0.csv.npz',\n",
       " 'tf_ip9_ra96.1332_dec67.3208_scsry_in4_il0.csv.npz',\n",
       " 'tf_ip2_ra91.6275_dec67.48_scsrr_in4_il0.csv.npz',\n",
       " 'tf_ip15_ra138.5468_dec79.3242_scsrz_in4_il0.csv.npz',\n",
       " 'tf_ip7_ra112.9365_dec74.2803_scsri_in4_il0.csv.npz',\n",
       " 'tf_ip18_ra92.5061_dec85.5084_scsrg_in4_il0.csv.npz',\n",
       " 'tf_ip1_ra95.6591_dec66.9648_scsrz_in4_il0.csv.npz',\n",
       " 'tf_ip10_ra149.8894_dec75.3573_scsrr_in4_il0.csv.npz',\n",
       " 'tf_ip2_ra91.6275_dec67.48_scsrm_in4_il0.csv.npz',\n",
       " 'tf_ip11_ra95.9004_dec67.9524_scsry_in4_il0.csv.npz',\n",
       " 'tf_ip8_ra51.6729_dec78.4047_scsrm_in4_il0.csv.npz',\n",
       " 'tf_ip16_ra128.9214_dec76.5332_scsri_in4_il0.csv.npz',\n",
       " 'tf_ip17_ra133.0238_dec77.3853_scsry_in4_il0.csv.npz',\n",
       " 'tf_ip13_ra52.1056_dec77.6378_scsri_in4_il0.csv.npz',\n",
       " 'tf_ip19_ra101.2175_dec68.8344_scsrz_in4_il0.csv.npz',\n",
       " 'tf_ip3_ra68.5748_dec86.6007_scsrg_in4_il0.csv.npz',\n",
       " 'tf_ip10_ra149.8894_dec75.3573_scsrm_in4_il0.csv.npz',\n",
       " 'tf_ip14_ra99.4052_dec75.2856_scsrm_in4_il0.csv.npz',\n",
       " 'tf_ip12_ra52.0033_dec78.6723_scsri_in4_il0.csv.npz',\n",
       " 'tf_ip4_ra93.6453_dec74.5114_scsry_in4_il0.csv.npz',\n",
       " 'tf_ip12_ra52.0033_dec78.6723_scsrz_in4_il0.csv.npz',\n",
       " 'tf_ip14_ra99.4052_dec75.2856_scsrr_in4_il0.csv.npz',\n",
       " 'tf_ip1_ra95.6591_dec66.9648_scsri_in4_il0.csv.npz',\n",
       " 'tf_ip10_ra149.8894_dec75.3573_scsry_in4_il0.csv.npz',\n",
       " 'tf_ip6_ra95.8086_dec68.133_scsrr_in4_il0.csv.npz',\n",
       " 'tf_ip4_ra93.6453_dec74.5114_scsrm_in4_il0.csv.npz',\n",
       " 'tf_ip6_ra95.8086_dec68.133_scsrg_in4_il0.csv.npz',\n",
       " 'tf_ip17_ra133.0238_dec77.3853_scsrz_in4_il0.csv.npz',\n",
       " 'tf_ip13_ra52.1056_dec77.6378_scsrm_in4_il0.csv.npz',\n",
       " 'tf_ip15_ra138.5468_dec79.3242_scsri_in4_il0.csv.npz',\n",
       " 'tf_ip7_ra112.9365_dec74.2803_scsrr_in4_il0.csv.npz',\n",
       " 'tf_ip2_ra91.6275_dec67.48_scsrg_in4_il0.csv.npz',\n",
       " 'tf_ip16_ra128.9214_dec76.5332_scsrg_in4_il0.csv.npz',\n",
       " 'tf_ip16_ra128.9214_dec76.5332_scsrz_in4_il0.csv.npz',\n",
       " 'tf_ip18_ra92.5061_dec85.5084_scsry_in4_il0.csv.npz',\n",
       " 'tf_ip14_ra99.4052_dec75.2856_scsrz_in4_il0.csv.npz',\n",
       " 'tf_ip18_ra92.5061_dec85.5084_scsrm_in4_il0.csv.npz',\n",
       " 'tf_ip6_ra95.8086_dec68.133_scsrz_in4_il0.csv.npz',\n",
       " 'tf_ip11_ra95.9004_dec67.9524_scsrz_in4_il0.csv.npz',\n",
       " 'tf_ip17_ra133.0238_dec77.3853_scsrr_in4_il0.csv.npz',\n",
       " 'tf_ip14_ra99.4052_dec75.2856_scsry_in4_il0.csv.npz',\n",
       " 'tf_ip10_ra149.8894_dec75.3573_scsrg_in4_il0.csv.npz',\n",
       " 'tf_ip17_ra133.0238_dec77.3853_scsri_in4_il0.csv.npz',\n",
       " 'tf_ip12_ra52.0033_dec78.6723_scsrr_in4_il0.csv.npz',\n",
       " 'tf_ip13_ra52.1056_dec77.6378_scsry_in4_il0.csv.npz',\n",
       " 'tf_ip18_ra92.5061_dec85.5084_scsri_in4_il0.csv.npz',\n",
       " 'tf_ip3_ra68.5748_dec86.6007_scsry_in4_il0.csv.npz',\n",
       " 'tf_ip5_ra101.1796_dec70.7459_scsrg_in4_il0.csv.npz',\n",
       " 'tf_ip2_ra91.6275_dec67.48_scsry_in4_il0.csv.npz',\n",
       " 'tf_ip3_ra68.5748_dec86.6007_scsri_in4_il0.csv.npz',\n",
       " 'tf_ip19_ra101.2175_dec68.8344_scsry_in4_il0.csv.npz',\n",
       " 'tf_ip5_ra101.1796_dec70.7459_scsrz_in4_il0.csv.npz',\n",
       " 'tf_ip11_ra95.9004_dec67.9524_scsrg_in4_il0.csv.npz',\n",
       " 'tf_ip8_ra51.6729_dec78.4047_scsrg_in4_il0.csv.npz',\n",
       " 'tf_ip7_ra112.9365_dec74.2803_scsrg_in4_il0.csv.npz',\n",
       " 'tf_ip9_ra96.1332_dec67.3208_scsrg_in4_il0.csv.npz',\n",
       " 'tf_ip8_ra51.6729_dec78.4047_scsrr_in4_il0.csv.npz',\n",
       " 'tf_ip12_ra52.0033_dec78.6723_scsrm_in4_il0.csv.npz',\n",
       " 'tf_ip15_ra138.5468_dec79.3242_scsry_in4_il0.csv.npz',\n",
       " 'tf_ip9_ra96.1332_dec67.3208_scsri_in4_il0.csv.npz',\n",
       " 'tf_ip13_ra52.1056_dec77.6378_scsrz_in4_il0.csv.npz',\n",
       " 'tf_ip17_ra133.0238_dec77.3853_scsrm_in4_il0.csv.npz',\n",
       " 'tf_ip15_ra138.5468_dec79.3242_scsrr_in4_il0.csv.npz',\n",
       " 'tf_ip4_ra93.6453_dec74.5114_scsri_in4_il0.csv.npz',\n",
       " 'tf_ip19_ra101.2175_dec68.8344_scsrg_in4_il0.csv.npz',\n",
       " 'tf_ip5_ra101.1796_dec70.7459_scsrr_in4_il0.csv.npz',\n",
       " 'tf_ip5_ra101.1796_dec70.7459_scsry_in4_il0.csv.npz',\n",
       " 'tf_ip5_ra101.1796_dec70.7459_scsrm_in4_il0.csv.npz',\n",
       " 'tf_ip18_ra92.5061_dec85.5084_scsrz_in4_il0.csv.npz',\n",
       " 'tf_ip14_ra99.4052_dec75.2856_scsri_in4_il0.csv.npz',\n",
       " 'tf_ip6_ra95.8086_dec68.133_scsry_in4_il0.csv.npz',\n",
       " 'tf_ip14_ra99.4052_dec75.2856_scsrg_in4_il0.csv.npz',\n",
       " 'tf_ip1_ra95.6591_dec66.9648_scsrg_in4_il0.csv.npz',\n",
       " 'tf_ip1_ra95.6591_dec66.9648_scsrr_in4_il0.csv.npz',\n",
       " 'tf_ip16_ra128.9214_dec76.5332_scsrr_in4_il0.csv.npz',\n",
       " 'tf_ip6_ra95.8086_dec68.133_scsri_in4_il0.csv.npz',\n",
       " 'tf_ip11_ra95.9004_dec67.9524_scsri_in4_il0.csv.npz',\n",
       " 'tf_ip19_ra101.2175_dec68.8344_scsrm_in4_il0.csv.npz',\n",
       " 'tf_ip10_ra149.8894_dec75.3573_scsrz_in4_il0.csv.npz',\n",
       " 'tf_ip15_ra138.5468_dec79.3242_scsrm_in4_il0.csv.npz',\n",
       " 'tf_ip9_ra96.1332_dec67.3208_scsrz_in4_il0.csv.npz',\n",
       " 'tf_ip7_ra112.9365_dec74.2803_scsrm_in4_il0.csv.npz',\n",
       " 'tf_ip13_ra52.1056_dec77.6378_scsrg_in4_il0.csv.npz',\n",
       " 'tf_ip16_ra128.9214_dec76.5332_scsry_in4_il0.csv.npz',\n",
       " 'tf_ip4_ra93.6453_dec74.5114_scsrz_in4_il0.csv.npz',\n",
       " 'tf_ip8_ra51.6729_dec78.4047_scsrz_in4_il0.csv.npz',\n",
       " 'tf_ip3_ra68.5748_dec86.6007_scsrm_in4_il0.csv.npz',\n",
       " 'tf_ip9_ra96.1332_dec67.3208_scsrm_in4_il0.csv.npz',\n",
       " 'tf_ip4_ra93.6453_dec74.5114_scsrg_in4_il0.csv.npz',\n",
       " 'tf_ip19_ra101.2175_dec68.8344_scsri_in4_il0.csv.npz',\n",
       " 'tf_ip11_ra95.9004_dec67.9524_scsrr_in4_il0.csv.npz',\n",
       " 'tf_ip8_ra51.6729_dec78.4047_scsri_in4_il0.csv.npz',\n",
       " 'tf_ip13_ra52.1056_dec77.6378_scsrr_in4_il0.csv.npz',\n",
       " 'tf_ip4_ra93.6453_dec74.5114_scsrr_in4_il0.csv.npz',\n",
       " 'tf_ip5_ra101.1796_dec70.7459_scsri_in4_il0.csv.npz',\n",
       " 'tf_ip3_ra68.5748_dec86.6007_scsrz_in4_il0.csv.npz',\n",
       " 'tf_ip2_ra91.6275_dec67.48_scsri_in4_il0.csv.npz',\n",
       " 'tf_ip2_ra91.6275_dec67.48_scsrz_in4_il0.csv.npz',\n",
       " 'tf_ip17_ra133.0238_dec77.3853_scsrg_in4_il0.csv.npz',\n",
       " 'tf_ip1_ra95.6591_dec66.9648_scsrm_in4_il0.csv.npz',\n",
       " 'tf_ip15_ra138.5468_dec79.3242_scsrg_in4_il0.csv.npz',\n",
       " 'tf_ip9_ra96.1332_dec67.3208_scsrr_in4_il0.csv.npz',\n",
       " 'tf_ip12_ra52.0033_dec78.6723_scsrg_in4_il0.csv.npz',\n",
       " 'tf_ip19_ra101.2175_dec68.8344_scsrr_in4_il0.csv.npz',\n",
       " 'tf_ip3_ra68.5748_dec86.6007_scsrr_in4_il0.csv.npz',\n",
       " 'tf_ip18_ra92.5061_dec85.5084_scsrr_in4_il0.csv.npz']"
      ]
     },
     "execution_count": 5,
     "metadata": {},
     "output_type": "execute_result"
    }
   ],
   "source": [
    "files = next(walk(old_dir))[-1]\n",
    "files"
   ]
  },
  {
   "cell_type": "code",
   "execution_count": 6,
   "metadata": {
    "ExecuteTime": {
     "end_time": "2020-04-24T20:48:39.959968Z",
     "start_time": "2020-04-24T20:48:39.781124Z"
    }
   },
   "outputs": [
    {
     "name": "stdout",
     "output_type": "stream",
     "text": [
      "created dir /home/rt2122/data/train/csr/0_16\n",
      "moved tf_ip16_ra128.9214_dec76.5332_scsrm_in4_il0.csv.npz from /home/rt2122/data/train/csr/ to /home/rt2122/data/train/csr/0_16\n",
      "created dir /home/rt2122/data/train/csr/0_11\n",
      "moved tf_ip11_ra95.9004_dec67.9524_scsrm_in4_il0.csv.npz from /home/rt2122/data/train/csr/ to /home/rt2122/data/train/csr/0_11\n",
      "created dir /home/rt2122/data/train/csr/0_1\n",
      "moved tf_ip1_ra95.6591_dec66.9648_scsry_in4_il0.csv.npz from /home/rt2122/data/train/csr/ to /home/rt2122/data/train/csr/0_1\n",
      "created dir /home/rt2122/data/train/csr/0_12\n",
      "moved tf_ip12_ra52.0033_dec78.6723_scsry_in4_il0.csv.npz from /home/rt2122/data/train/csr/ to /home/rt2122/data/train/csr/0_12\n",
      "created dir /home/rt2122/data/train/csr/0_7\n",
      "moved tf_ip7_ra112.9365_dec74.2803_scsry_in4_il0.csv.npz from /home/rt2122/data/train/csr/ to /home/rt2122/data/train/csr/0_7\n",
      "created dir /home/rt2122/data/train/csr/0_10\n",
      "moved tf_ip10_ra149.8894_dec75.3573_scsri_in4_il0.csv.npz from /home/rt2122/data/train/csr/ to /home/rt2122/data/train/csr/0_10\n",
      "created dir /home/rt2122/data/train/csr/0_6\n",
      "moved tf_ip6_ra95.8086_dec68.133_scsrm_in4_il0.csv.npz from /home/rt2122/data/train/csr/ to /home/rt2122/data/train/csr/0_6\n",
      "moved tf_ip7_ra112.9365_dec74.2803_scsrz_in4_il0.csv.npz from /home/rt2122/data/train/csr/ to /home/rt2122/data/train/csr/0_7\n",
      "created dir /home/rt2122/data/train/csr/0_8\n",
      "moved tf_ip8_ra51.6729_dec78.4047_scsry_in4_il0.csv.npz from /home/rt2122/data/train/csr/ to /home/rt2122/data/train/csr/0_8\n",
      "created dir /home/rt2122/data/train/csr/0_9\n",
      "moved tf_ip9_ra96.1332_dec67.3208_scsry_in4_il0.csv.npz from /home/rt2122/data/train/csr/ to /home/rt2122/data/train/csr/0_9\n",
      "created dir /home/rt2122/data/train/csr/0_2\n",
      "moved tf_ip2_ra91.6275_dec67.48_scsrr_in4_il0.csv.npz from /home/rt2122/data/train/csr/ to /home/rt2122/data/train/csr/0_2\n",
      "created dir /home/rt2122/data/train/csr/0_15\n",
      "moved tf_ip15_ra138.5468_dec79.3242_scsrz_in4_il0.csv.npz from /home/rt2122/data/train/csr/ to /home/rt2122/data/train/csr/0_15\n",
      "moved tf_ip7_ra112.9365_dec74.2803_scsri_in4_il0.csv.npz from /home/rt2122/data/train/csr/ to /home/rt2122/data/train/csr/0_7\n",
      "created dir /home/rt2122/data/train/csr/0_18\n",
      "moved tf_ip18_ra92.5061_dec85.5084_scsrg_in4_il0.csv.npz from /home/rt2122/data/train/csr/ to /home/rt2122/data/train/csr/0_18\n",
      "moved tf_ip1_ra95.6591_dec66.9648_scsrz_in4_il0.csv.npz from /home/rt2122/data/train/csr/ to /home/rt2122/data/train/csr/0_1\n",
      "moved tf_ip10_ra149.8894_dec75.3573_scsrr_in4_il0.csv.npz from /home/rt2122/data/train/csr/ to /home/rt2122/data/train/csr/0_10\n",
      "moved tf_ip2_ra91.6275_dec67.48_scsrm_in4_il0.csv.npz from /home/rt2122/data/train/csr/ to /home/rt2122/data/train/csr/0_2\n",
      "moved tf_ip11_ra95.9004_dec67.9524_scsry_in4_il0.csv.npz from /home/rt2122/data/train/csr/ to /home/rt2122/data/train/csr/0_11\n",
      "moved tf_ip8_ra51.6729_dec78.4047_scsrm_in4_il0.csv.npz from /home/rt2122/data/train/csr/ to /home/rt2122/data/train/csr/0_8\n",
      "moved tf_ip16_ra128.9214_dec76.5332_scsri_in4_il0.csv.npz from /home/rt2122/data/train/csr/ to /home/rt2122/data/train/csr/0_16\n",
      "created dir /home/rt2122/data/train/csr/0_17\n",
      "moved tf_ip17_ra133.0238_dec77.3853_scsry_in4_il0.csv.npz from /home/rt2122/data/train/csr/ to /home/rt2122/data/train/csr/0_17\n",
      "created dir /home/rt2122/data/train/csr/0_13\n",
      "moved tf_ip13_ra52.1056_dec77.6378_scsri_in4_il0.csv.npz from /home/rt2122/data/train/csr/ to /home/rt2122/data/train/csr/0_13\n",
      "created dir /home/rt2122/data/train/csr/0_19\n",
      "moved tf_ip19_ra101.2175_dec68.8344_scsrz_in4_il0.csv.npz from /home/rt2122/data/train/csr/ to /home/rt2122/data/train/csr/0_19\n",
      "created dir /home/rt2122/data/train/csr/0_3\n",
      "moved tf_ip3_ra68.5748_dec86.6007_scsrg_in4_il0.csv.npz from /home/rt2122/data/train/csr/ to /home/rt2122/data/train/csr/0_3\n",
      "moved tf_ip10_ra149.8894_dec75.3573_scsrm_in4_il0.csv.npz from /home/rt2122/data/train/csr/ to /home/rt2122/data/train/csr/0_10\n",
      "created dir /home/rt2122/data/train/csr/0_14\n",
      "moved tf_ip14_ra99.4052_dec75.2856_scsrm_in4_il0.csv.npz from /home/rt2122/data/train/csr/ to /home/rt2122/data/train/csr/0_14\n",
      "moved tf_ip12_ra52.0033_dec78.6723_scsri_in4_il0.csv.npz from /home/rt2122/data/train/csr/ to /home/rt2122/data/train/csr/0_12\n",
      "created dir /home/rt2122/data/train/csr/0_4\n",
      "moved tf_ip4_ra93.6453_dec74.5114_scsry_in4_il0.csv.npz from /home/rt2122/data/train/csr/ to /home/rt2122/data/train/csr/0_4\n",
      "moved tf_ip12_ra52.0033_dec78.6723_scsrz_in4_il0.csv.npz from /home/rt2122/data/train/csr/ to /home/rt2122/data/train/csr/0_12\n",
      "moved tf_ip14_ra99.4052_dec75.2856_scsrr_in4_il0.csv.npz from /home/rt2122/data/train/csr/ to /home/rt2122/data/train/csr/0_14\n",
      "moved tf_ip1_ra95.6591_dec66.9648_scsri_in4_il0.csv.npz from /home/rt2122/data/train/csr/ to /home/rt2122/data/train/csr/0_1\n",
      "moved tf_ip10_ra149.8894_dec75.3573_scsry_in4_il0.csv.npz from /home/rt2122/data/train/csr/ to /home/rt2122/data/train/csr/0_10\n",
      "moved tf_ip6_ra95.8086_dec68.133_scsrr_in4_il0.csv.npz from /home/rt2122/data/train/csr/ to /home/rt2122/data/train/csr/0_6\n",
      "moved tf_ip4_ra93.6453_dec74.5114_scsrm_in4_il0.csv.npz from /home/rt2122/data/train/csr/ to /home/rt2122/data/train/csr/0_4\n",
      "moved tf_ip6_ra95.8086_dec68.133_scsrg_in4_il0.csv.npz from /home/rt2122/data/train/csr/ to /home/rt2122/data/train/csr/0_6\n",
      "moved tf_ip17_ra133.0238_dec77.3853_scsrz_in4_il0.csv.npz from /home/rt2122/data/train/csr/ to /home/rt2122/data/train/csr/0_17\n",
      "moved tf_ip13_ra52.1056_dec77.6378_scsrm_in4_il0.csv.npz from /home/rt2122/data/train/csr/ to /home/rt2122/data/train/csr/0_13\n",
      "moved tf_ip15_ra138.5468_dec79.3242_scsri_in4_il0.csv.npz from /home/rt2122/data/train/csr/ to /home/rt2122/data/train/csr/0_15\n",
      "moved tf_ip7_ra112.9365_dec74.2803_scsrr_in4_il0.csv.npz from /home/rt2122/data/train/csr/ to /home/rt2122/data/train/csr/0_7\n",
      "moved tf_ip2_ra91.6275_dec67.48_scsrg_in4_il0.csv.npz from /home/rt2122/data/train/csr/ to /home/rt2122/data/train/csr/0_2\n",
      "moved tf_ip16_ra128.9214_dec76.5332_scsrg_in4_il0.csv.npz from /home/rt2122/data/train/csr/ to /home/rt2122/data/train/csr/0_16\n",
      "moved tf_ip16_ra128.9214_dec76.5332_scsrz_in4_il0.csv.npz from /home/rt2122/data/train/csr/ to /home/rt2122/data/train/csr/0_16\n",
      "moved tf_ip18_ra92.5061_dec85.5084_scsry_in4_il0.csv.npz from /home/rt2122/data/train/csr/ to /home/rt2122/data/train/csr/0_18\n",
      "moved tf_ip14_ra99.4052_dec75.2856_scsrz_in4_il0.csv.npz from /home/rt2122/data/train/csr/ to /home/rt2122/data/train/csr/0_14\n",
      "moved tf_ip18_ra92.5061_dec85.5084_scsrm_in4_il0.csv.npz from /home/rt2122/data/train/csr/ to /home/rt2122/data/train/csr/0_18\n",
      "moved tf_ip6_ra95.8086_dec68.133_scsrz_in4_il0.csv.npz from /home/rt2122/data/train/csr/ to /home/rt2122/data/train/csr/0_6\n",
      "moved tf_ip11_ra95.9004_dec67.9524_scsrz_in4_il0.csv.npz from /home/rt2122/data/train/csr/ to /home/rt2122/data/train/csr/0_11\n",
      "moved tf_ip17_ra133.0238_dec77.3853_scsrr_in4_il0.csv.npz from /home/rt2122/data/train/csr/ to /home/rt2122/data/train/csr/0_17\n",
      "moved tf_ip14_ra99.4052_dec75.2856_scsry_in4_il0.csv.npz from /home/rt2122/data/train/csr/ to /home/rt2122/data/train/csr/0_14\n",
      "moved tf_ip10_ra149.8894_dec75.3573_scsrg_in4_il0.csv.npz from /home/rt2122/data/train/csr/ to /home/rt2122/data/train/csr/0_10\n",
      "moved tf_ip17_ra133.0238_dec77.3853_scsri_in4_il0.csv.npz from /home/rt2122/data/train/csr/ to /home/rt2122/data/train/csr/0_17\n",
      "moved tf_ip12_ra52.0033_dec78.6723_scsrr_in4_il0.csv.npz from /home/rt2122/data/train/csr/ to /home/rt2122/data/train/csr/0_12\n",
      "moved tf_ip13_ra52.1056_dec77.6378_scsry_in4_il0.csv.npz from /home/rt2122/data/train/csr/ to /home/rt2122/data/train/csr/0_13\n",
      "moved tf_ip18_ra92.5061_dec85.5084_scsri_in4_il0.csv.npz from /home/rt2122/data/train/csr/ to /home/rt2122/data/train/csr/0_18\n",
      "moved tf_ip3_ra68.5748_dec86.6007_scsry_in4_il0.csv.npz from /home/rt2122/data/train/csr/ to /home/rt2122/data/train/csr/0_3\n",
      "created dir /home/rt2122/data/train/csr/0_5\n",
      "moved tf_ip5_ra101.1796_dec70.7459_scsrg_in4_il0.csv.npz from /home/rt2122/data/train/csr/ to /home/rt2122/data/train/csr/0_5\n",
      "moved tf_ip2_ra91.6275_dec67.48_scsry_in4_il0.csv.npz from /home/rt2122/data/train/csr/ to /home/rt2122/data/train/csr/0_2\n",
      "moved tf_ip3_ra68.5748_dec86.6007_scsri_in4_il0.csv.npz from /home/rt2122/data/train/csr/ to /home/rt2122/data/train/csr/0_3\n",
      "moved tf_ip19_ra101.2175_dec68.8344_scsry_in4_il0.csv.npz from /home/rt2122/data/train/csr/ to /home/rt2122/data/train/csr/0_19\n",
      "moved tf_ip5_ra101.1796_dec70.7459_scsrz_in4_il0.csv.npz from /home/rt2122/data/train/csr/ to /home/rt2122/data/train/csr/0_5\n",
      "moved tf_ip11_ra95.9004_dec67.9524_scsrg_in4_il0.csv.npz from /home/rt2122/data/train/csr/ to /home/rt2122/data/train/csr/0_11\n",
      "moved tf_ip8_ra51.6729_dec78.4047_scsrg_in4_il0.csv.npz from /home/rt2122/data/train/csr/ to /home/rt2122/data/train/csr/0_8\n",
      "moved tf_ip7_ra112.9365_dec74.2803_scsrg_in4_il0.csv.npz from /home/rt2122/data/train/csr/ to /home/rt2122/data/train/csr/0_7\n",
      "moved tf_ip9_ra96.1332_dec67.3208_scsrg_in4_il0.csv.npz from /home/rt2122/data/train/csr/ to /home/rt2122/data/train/csr/0_9\n",
      "moved tf_ip8_ra51.6729_dec78.4047_scsrr_in4_il0.csv.npz from /home/rt2122/data/train/csr/ to /home/rt2122/data/train/csr/0_8\n",
      "moved tf_ip12_ra52.0033_dec78.6723_scsrm_in4_il0.csv.npz from /home/rt2122/data/train/csr/ to /home/rt2122/data/train/csr/0_12\n",
      "moved tf_ip15_ra138.5468_dec79.3242_scsry_in4_il0.csv.npz from /home/rt2122/data/train/csr/ to /home/rt2122/data/train/csr/0_15\n",
      "moved tf_ip9_ra96.1332_dec67.3208_scsri_in4_il0.csv.npz from /home/rt2122/data/train/csr/ to /home/rt2122/data/train/csr/0_9\n",
      "moved tf_ip13_ra52.1056_dec77.6378_scsrz_in4_il0.csv.npz from /home/rt2122/data/train/csr/ to /home/rt2122/data/train/csr/0_13\n",
      "moved tf_ip17_ra133.0238_dec77.3853_scsrm_in4_il0.csv.npz from /home/rt2122/data/train/csr/ to /home/rt2122/data/train/csr/0_17\n",
      "moved tf_ip15_ra138.5468_dec79.3242_scsrr_in4_il0.csv.npz from /home/rt2122/data/train/csr/ to /home/rt2122/data/train/csr/0_15\n",
      "moved tf_ip4_ra93.6453_dec74.5114_scsri_in4_il0.csv.npz from /home/rt2122/data/train/csr/ to /home/rt2122/data/train/csr/0_4\n",
      "moved tf_ip19_ra101.2175_dec68.8344_scsrg_in4_il0.csv.npz from /home/rt2122/data/train/csr/ to /home/rt2122/data/train/csr/0_19\n",
      "moved tf_ip5_ra101.1796_dec70.7459_scsrr_in4_il0.csv.npz from /home/rt2122/data/train/csr/ to /home/rt2122/data/train/csr/0_5\n",
      "moved tf_ip5_ra101.1796_dec70.7459_scsry_in4_il0.csv.npz from /home/rt2122/data/train/csr/ to /home/rt2122/data/train/csr/0_5\n",
      "moved tf_ip5_ra101.1796_dec70.7459_scsrm_in4_il0.csv.npz from /home/rt2122/data/train/csr/ to /home/rt2122/data/train/csr/0_5\n",
      "moved tf_ip18_ra92.5061_dec85.5084_scsrz_in4_il0.csv.npz from /home/rt2122/data/train/csr/ to /home/rt2122/data/train/csr/0_18\n",
      "moved tf_ip14_ra99.4052_dec75.2856_scsri_in4_il0.csv.npz from /home/rt2122/data/train/csr/ to /home/rt2122/data/train/csr/0_14\n",
      "moved tf_ip6_ra95.8086_dec68.133_scsry_in4_il0.csv.npz from /home/rt2122/data/train/csr/ to /home/rt2122/data/train/csr/0_6\n",
      "moved tf_ip14_ra99.4052_dec75.2856_scsrg_in4_il0.csv.npz from /home/rt2122/data/train/csr/ to /home/rt2122/data/train/csr/0_14\n",
      "moved tf_ip1_ra95.6591_dec66.9648_scsrg_in4_il0.csv.npz from /home/rt2122/data/train/csr/ to /home/rt2122/data/train/csr/0_1\n",
      "moved tf_ip1_ra95.6591_dec66.9648_scsrr_in4_il0.csv.npz from /home/rt2122/data/train/csr/ to /home/rt2122/data/train/csr/0_1\n",
      "moved tf_ip16_ra128.9214_dec76.5332_scsrr_in4_il0.csv.npz from /home/rt2122/data/train/csr/ to /home/rt2122/data/train/csr/0_16\n",
      "moved tf_ip6_ra95.8086_dec68.133_scsri_in4_il0.csv.npz from /home/rt2122/data/train/csr/ to /home/rt2122/data/train/csr/0_6\n",
      "moved tf_ip11_ra95.9004_dec67.9524_scsri_in4_il0.csv.npz from /home/rt2122/data/train/csr/ to /home/rt2122/data/train/csr/0_11\n",
      "moved tf_ip19_ra101.2175_dec68.8344_scsrm_in4_il0.csv.npz from /home/rt2122/data/train/csr/ to /home/rt2122/data/train/csr/0_19\n",
      "moved tf_ip10_ra149.8894_dec75.3573_scsrz_in4_il0.csv.npz from /home/rt2122/data/train/csr/ to /home/rt2122/data/train/csr/0_10\n",
      "moved tf_ip15_ra138.5468_dec79.3242_scsrm_in4_il0.csv.npz from /home/rt2122/data/train/csr/ to /home/rt2122/data/train/csr/0_15\n",
      "moved tf_ip9_ra96.1332_dec67.3208_scsrz_in4_il0.csv.npz from /home/rt2122/data/train/csr/ to /home/rt2122/data/train/csr/0_9\n",
      "moved tf_ip7_ra112.9365_dec74.2803_scsrm_in4_il0.csv.npz from /home/rt2122/data/train/csr/ to /home/rt2122/data/train/csr/0_7\n",
      "moved tf_ip13_ra52.1056_dec77.6378_scsrg_in4_il0.csv.npz from /home/rt2122/data/train/csr/ to /home/rt2122/data/train/csr/0_13\n",
      "moved tf_ip16_ra128.9214_dec76.5332_scsry_in4_il0.csv.npz from /home/rt2122/data/train/csr/ to /home/rt2122/data/train/csr/0_16\n",
      "moved tf_ip4_ra93.6453_dec74.5114_scsrz_in4_il0.csv.npz from /home/rt2122/data/train/csr/ to /home/rt2122/data/train/csr/0_4\n",
      "moved tf_ip8_ra51.6729_dec78.4047_scsrz_in4_il0.csv.npz from /home/rt2122/data/train/csr/ to /home/rt2122/data/train/csr/0_8\n",
      "moved tf_ip3_ra68.5748_dec86.6007_scsrm_in4_il0.csv.npz from /home/rt2122/data/train/csr/ to /home/rt2122/data/train/csr/0_3\n",
      "moved tf_ip9_ra96.1332_dec67.3208_scsrm_in4_il0.csv.npz from /home/rt2122/data/train/csr/ to /home/rt2122/data/train/csr/0_9\n",
      "moved tf_ip4_ra93.6453_dec74.5114_scsrg_in4_il0.csv.npz from /home/rt2122/data/train/csr/ to /home/rt2122/data/train/csr/0_4\n",
      "moved tf_ip19_ra101.2175_dec68.8344_scsri_in4_il0.csv.npz from /home/rt2122/data/train/csr/ to /home/rt2122/data/train/csr/0_19\n",
      "moved tf_ip11_ra95.9004_dec67.9524_scsrr_in4_il0.csv.npz from /home/rt2122/data/train/csr/ to /home/rt2122/data/train/csr/0_11\n",
      "moved tf_ip8_ra51.6729_dec78.4047_scsri_in4_il0.csv.npz from /home/rt2122/data/train/csr/ to /home/rt2122/data/train/csr/0_8\n",
      "moved tf_ip13_ra52.1056_dec77.6378_scsrr_in4_il0.csv.npz from /home/rt2122/data/train/csr/ to /home/rt2122/data/train/csr/0_13\n",
      "moved tf_ip4_ra93.6453_dec74.5114_scsrr_in4_il0.csv.npz from /home/rt2122/data/train/csr/ to /home/rt2122/data/train/csr/0_4\n",
      "moved tf_ip5_ra101.1796_dec70.7459_scsri_in4_il0.csv.npz from /home/rt2122/data/train/csr/ to /home/rt2122/data/train/csr/0_5\n",
      "moved tf_ip3_ra68.5748_dec86.6007_scsrz_in4_il0.csv.npz from /home/rt2122/data/train/csr/ to /home/rt2122/data/train/csr/0_3\n",
      "moved tf_ip2_ra91.6275_dec67.48_scsri_in4_il0.csv.npz from /home/rt2122/data/train/csr/ to /home/rt2122/data/train/csr/0_2\n",
      "moved tf_ip2_ra91.6275_dec67.48_scsrz_in4_il0.csv.npz from /home/rt2122/data/train/csr/ to /home/rt2122/data/train/csr/0_2\n",
      "moved tf_ip17_ra133.0238_dec77.3853_scsrg_in4_il0.csv.npz from /home/rt2122/data/train/csr/ to /home/rt2122/data/train/csr/0_17\n",
      "moved tf_ip1_ra95.6591_dec66.9648_scsrm_in4_il0.csv.npz from /home/rt2122/data/train/csr/ to /home/rt2122/data/train/csr/0_1\n",
      "moved tf_ip15_ra138.5468_dec79.3242_scsrg_in4_il0.csv.npz from /home/rt2122/data/train/csr/ to /home/rt2122/data/train/csr/0_15\n",
      "moved tf_ip9_ra96.1332_dec67.3208_scsrr_in4_il0.csv.npz from /home/rt2122/data/train/csr/ to /home/rt2122/data/train/csr/0_9\n",
      "moved tf_ip12_ra52.0033_dec78.6723_scsrg_in4_il0.csv.npz from /home/rt2122/data/train/csr/ to /home/rt2122/data/train/csr/0_12\n",
      "moved tf_ip19_ra101.2175_dec68.8344_scsrr_in4_il0.csv.npz from /home/rt2122/data/train/csr/ to /home/rt2122/data/train/csr/0_19\n",
      "moved tf_ip3_ra68.5748_dec86.6007_scsrr_in4_il0.csv.npz from /home/rt2122/data/train/csr/ to /home/rt2122/data/train/csr/0_3\n",
      "moved tf_ip18_ra92.5061_dec85.5084_scsrr_in4_il0.csv.npz from /home/rt2122/data/train/csr/ to /home/rt2122/data/train/csr/0_18\n"
     ]
    }
   ],
   "source": [
    "for f in files:\n",
    "    cf = ClusterFile(f)\n",
    "    patchdir = str(cf.params['id_list'])+'_'+str(cf.params['id_patch'])\n",
    "    patchdir = join(old_dir, patchdir)\n",
    "    if not exists(patchdir):\n",
    "        mkdir(patchdir)\n",
    "        print('created dir %s' % (patchdir))\n",
    "    rename(join(old_dir, f), join(patchdir, f))\n",
    "    print('moved %s from %s to %s' % (f, old_dir, patchdir))"
   ]
  },
  {
   "cell_type": "code",
   "execution_count": null,
   "metadata": {},
   "outputs": [],
   "source": [
    "def load_csr(dirname):\n",
    "    "
   ]
  },
  {
   "cell_type": "code",
   "execution_count": 26,
   "metadata": {
    "ExecuteTime": {
     "end_time": "2020-04-24T20:38:48.624178Z",
     "start_time": "2020-04-24T20:38:48.619191Z"
    }
   },
   "outputs": [],
   "source": [
    "import re"
   ]
  },
  {
   "cell_type": "code",
   "execution_count": 35,
   "metadata": {
    "ExecuteTime": {
     "end_time": "2020-04-24T20:43:59.572616Z",
     "start_time": "2020-04-24T20:43:59.564168Z"
    }
   },
   "outputs": [
    {
     "name": "stdout",
     "output_type": "stream",
     "text": [
      "['.npy.csv']\n"
     ]
    }
   ],
   "source": [
    "s = 'adkfj45.6hajk.npy.csv'\n",
    "print(re.findall(r'\\.\\D+', s))"
   ]
  },
  {
   "cell_type": "code",
   "execution_count": null,
   "metadata": {},
   "outputs": [],
   "source": [
    "def unpack_csr(data_dir):\n",
    "    filters = 'grizym'\n",
    "    crs = []\n",
    "    files = next(walk(data_dir))[-1]\n",
    "    def key(name):\n",
    "        return \n",
    "    files = sorted(files, key=lambda name:filters.index(ClusterFile(name).params['state'][-1]))\n",
    "    for f in :\n",
    "        crs.append(sp.load_npz(join(data_dir, f)))\n",
    "    return crs"
   ]
  },
  {
   "cell_type": "code",
   "execution_count": 7,
   "metadata": {
    "ExecuteTime": {
     "end_time": "2020-04-24T20:54:19.208336Z",
     "start_time": "2020-04-24T20:54:19.195411Z"
    }
   },
   "outputs": [
    {
     "data": {
      "text/plain": [
       "2"
      ]
     },
     "execution_count": 7,
     "metadata": {},
     "output_type": "execute_result"
    }
   ],
   "source": [
    "'grizym'.index('i')"
   ]
  },
  {
   "cell_type": "code",
   "execution_count": 14,
   "metadata": {
    "ExecuteTime": {
     "end_time": "2020-04-24T21:00:21.124209Z",
     "start_time": "2020-04-24T21:00:21.099916Z"
    }
   },
   "outputs": [
    {
     "name": "stdout",
     "output_type": "stream",
     "text": [
      "tf_ip0_ra68.1497_dec67.3438_scsry_in4_il0.csv.npz\n",
      "tf_ip0_ra68.1497_dec67.3438_scsrz_in4_il0.csv.npz\n",
      "tf_ip0_ra68.1497_dec67.3438_scsrr_in4_il0.csv.npz\n",
      "tf_ip0_ra68.1497_dec67.3438_scsri_in4_il0.csv.npz\n",
      "tf_ip0_ra68.1497_dec67.3438_scsrm_in4_il0.csv.npz\n",
      "tf_ip0_ra68.1497_dec67.3438_scsrg_in4_il0.csv.npz\n",
      "#\n",
      "tf_ip0_ra68.1497_dec67.3438_scsrg_in4_il0.csv.npz\n",
      "tf_ip0_ra68.1497_dec67.3438_scsrr_in4_il0.csv.npz\n",
      "tf_ip0_ra68.1497_dec67.3438_scsri_in4_il0.csv.npz\n",
      "tf_ip0_ra68.1497_dec67.3438_scsrz_in4_il0.csv.npz\n",
      "tf_ip0_ra68.1497_dec67.3438_scsry_in4_il0.csv.npz\n",
      "tf_ip0_ra68.1497_dec67.3438_scsrm_in4_il0.csv.npz\n"
     ]
    },
    {
     "data": {
      "text/plain": [
       "[None, None, None, None, None, None]"
      ]
     },
     "execution_count": 14,
     "metadata": {},
     "output_type": "execute_result"
    }
   ],
   "source": [
    "filters='grizym'\n",
    "files = next(walk('/home/rt2122/data/train/csr/0_0/'))[-1]\n",
    "[print(f) for f in files]\n",
    "files = sorted(files, key=lambda name:filters.index(ClusterFile(name).params['state'][-1]))\n",
    "print('#')\n",
    "[print(f) for f in files]"
   ]
  },
  {
   "cell_type": "code",
   "execution_count": 24,
   "metadata": {
    "ExecuteTime": {
     "end_time": "2020-04-24T21:03:28.552209Z",
     "start_time": "2020-04-24T21:03:28.534897Z"
    }
   },
   "outputs": [
    {
     "name": "stdout",
     "output_type": "stream",
     "text": [
      "(2, 2)\n"
     ]
    },
    {
     "data": {
      "text/plain": [
       "array([[1, 2],\n",
       "       [3, 4],\n",
       "       [5, 7],\n",
       "       [6, 9]], dtype=int64)"
      ]
     },
     "execution_count": 24,
     "metadata": {},
     "output_type": "execute_result"
    }
   ],
   "source": [
    "A = sp.csr_matrix([[1, 2], [3, 4]])\n",
    "B = sp.csr_matrix([[5, 7], [6, 9]])\n",
    "print(A.shape)\n",
    "sp.bmat([[A], [B]]).toarray()"
   ]
  },
  {
   "cell_type": "code",
   "execution_count": 36,
   "metadata": {
    "ExecuteTime": {
     "end_time": "2020-04-24T21:21:21.767287Z",
     "start_time": "2020-04-24T21:21:21.760140Z"
    }
   },
   "outputs": [],
   "source": [
    "class GetAttr(type):\n",
    "    def __getitem__(cls, x):\n",
    "        print(x)\n",
    "        return None\n",
    "\n",
    "class My_CSR:\n",
    "    __metaclass__ = GetAttr\n",
    "    def __init__(self):\n",
    "        print('#')\n"
   ]
  },
  {
   "cell_type": "code",
   "execution_count": 37,
   "metadata": {
    "ExecuteTime": {
     "end_time": "2020-04-24T21:21:22.279546Z",
     "start_time": "2020-04-24T21:21:22.274638Z"
    }
   },
   "outputs": [
    {
     "name": "stdout",
     "output_type": "stream",
     "text": [
      "#\n"
     ]
    }
   ],
   "source": [
    "m = My_CSR()"
   ]
  },
  {
   "cell_type": "code",
   "execution_count": 38,
   "metadata": {
    "ExecuteTime": {
     "end_time": "2020-04-24T21:21:23.613508Z",
     "start_time": "2020-04-24T21:21:23.597277Z"
    }
   },
   "outputs": [
    {
     "ename": "TypeError",
     "evalue": "'type' object is not subscriptable",
     "output_type": "error",
     "traceback": [
      "\u001b[0;31m---------------------------------------------------------------------------\u001b[0m",
      "\u001b[0;31mTypeError\u001b[0m                                 Traceback (most recent call last)",
      "\u001b[0;32m<ipython-input-38-9cb4e5e3073e>\u001b[0m in \u001b[0;36m<module>\u001b[0;34m\u001b[0m\n\u001b[0;32m----> 1\u001b[0;31m \u001b[0mMy_CSR\u001b[0m\u001b[0;34m[\u001b[0m\u001b[0;34m'3'\u001b[0m\u001b[0;34m]\u001b[0m\u001b[0;34m\u001b[0m\u001b[0;34m\u001b[0m\u001b[0m\n\u001b[0m",
      "\u001b[0;31mTypeError\u001b[0m: 'type' object is not subscriptable"
     ]
    }
   ],
   "source": [
    "My_CSR['3']"
   ]
  },
  {
   "cell_type": "code",
   "execution_count": null,
   "metadata": {},
   "outputs": [],
   "source": []
  }
 ],
 "metadata": {
  "kernelspec": {
   "display_name": "Python 3",
   "language": "python",
   "name": "python3"
  },
  "language_info": {
   "codemirror_mode": {
    "name": "ipython",
    "version": 3
   },
   "file_extension": ".py",
   "mimetype": "text/x-python",
   "name": "python",
   "nbconvert_exporter": "python",
   "pygments_lexer": "ipython3",
   "version": "3.7.3"
  }
 },
 "nbformat": 4,
 "nbformat_minor": 2
}
