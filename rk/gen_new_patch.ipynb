{
 "cells": [
  {
   "cell_type": "code",
   "execution_count": 1,
   "metadata": {
    "ExecuteTime": {
     "end_time": "2020-04-18T13:15:06.279115Z",
     "start_time": "2020-04-18T13:15:05.766078Z"
    }
   },
   "outputs": [],
   "source": [
    "from generate_patches import *"
   ]
  },
  {
   "cell_type": "code",
   "execution_count": 2,
   "metadata": {
    "ExecuteTime": {
     "end_time": "2020-04-18T13:15:06.732729Z",
     "start_time": "2020-04-18T13:15:06.281748Z"
    }
   },
   "outputs": [],
   "source": [
    "import pandas as pd"
   ]
  },
  {
   "cell_type": "code",
   "execution_count": 3,
   "metadata": {
    "ExecuteTime": {
     "end_time": "2020-04-18T13:15:06.777370Z",
     "start_time": "2020-04-18T13:15:06.740388Z"
    }
   },
   "outputs": [],
   "source": [
    "cat = pd.read_csv('../src_data/planck_z-Copy1.csv')"
   ]
  },
  {
   "cell_type": "code",
   "execution_count": null,
   "metadata": {
    "ExecuteTime": {
     "start_time": "2020-04-18T13:15:05.775Z"
    }
   },
   "outputs": [],
   "source": [
    "centers = gen_centers(cat, 50, 1.6, nside=2**17, func=lambda n, nside: in_nth_pix(n, nside,nbig=4))"
   ]
  },
  {
   "cell_type": "code",
   "execution_count": null,
   "metadata": {},
   "outputs": [],
   "source": []
  }
 ],
 "metadata": {
  "kernelspec": {
   "display_name": "Python 3",
   "language": "python",
   "name": "python3"
  },
  "language_info": {
   "codemirror_mode": {
    "name": "ipython",
    "version": 3
   },
   "file_extension": ".py",
   "mimetype": "text/x-python",
   "name": "python",
   "nbconvert_exporter": "python",
   "pygments_lexer": "ipython3",
   "version": "3.7.3"
  }
 },
 "nbformat": 4,
 "nbformat_minor": 2
}
