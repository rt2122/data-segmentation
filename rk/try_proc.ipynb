{
 "cells": [
  {
   "cell_type": "code",
   "execution_count": 1,
   "metadata": {
    "ExecuteTime": {
     "end_time": "2020-04-18T19:03:49.017189Z",
     "start_time": "2020-04-18T19:03:31.105792Z"
    }
   },
   "outputs": [],
   "source": [
    "from api import *"
   ]
  },
  {
   "cell_type": "code",
   "execution_count": 2,
   "metadata": {
    "ExecuteTime": {
     "end_time": "2020-04-18T19:04:09.911085Z",
     "start_time": "2020-04-18T19:03:49.021337Z"
    }
   },
   "outputs": [],
   "source": [
    "from proc import *"
   ]
  },
  {
   "cell_type": "code",
   "execution_count": 3,
   "metadata": {
    "ExecuteTime": {
     "end_time": "2020-04-18T19:04:09.929781Z",
     "start_time": "2020-04-18T19:04:09.913832Z"
    }
   },
   "outputs": [],
   "source": [
    "from generate_patches import *"
   ]
  },
  {
   "cell_type": "code",
   "execution_count": null,
   "metadata": {
    "ExecuteTime": {
     "start_time": "2020-04-18T19:03:31.111Z"
    }
   },
   "outputs": [],
   "source": [
    "planck = pd.read_csv('../src_data/planck_z-Copy1.csv')"
   ]
  },
  {
   "cell_type": "code",
   "execution_count": null,
   "metadata": {
    "ExecuteTime": {
     "start_time": "2020-04-18T19:03:31.115Z"
    }
   },
   "outputs": [],
   "source": [
    "centers_patches = gen_centers(planck, 10, radius=1.5, nside=2**17, \n",
    "                              func=lambda n, nside:in_nth_pix(n, nside, nbig=4))"
   ]
  }
 ],
 "metadata": {
  "kernelspec": {
   "display_name": "Python 3",
   "language": "python",
   "name": "python3"
  },
  "language_info": {
   "codemirror_mode": {
    "name": "ipython",
    "version": 3
   },
   "file_extension": ".py",
   "mimetype": "text/x-python",
   "name": "python",
   "nbconvert_exporter": "python",
   "pygments_lexer": "ipython3",
   "version": "3.7.3"
  }
 },
 "nbformat": 4,
 "nbformat_minor": 2
}
