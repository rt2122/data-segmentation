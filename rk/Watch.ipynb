{
 "cells": [
  {
   "cell_type": "code",
   "execution_count": 10,
   "metadata": {
    "ExecuteTime": {
     "end_time": "2020-04-23T10:11:54.143606Z",
     "start_time": "2020-04-23T10:11:54.138115Z"
    }
   },
   "outputs": [],
   "source": [
    "import pandas as pd\n",
    "from os import rename\n",
    "from datetime import datetime\n",
    "from all_p import ClusterFile"
   ]
  },
  {
   "cell_type": "code",
   "execution_count": 11,
   "metadata": {
    "ExecuteTime": {
     "end_time": "2020-04-23T10:12:00.114404Z",
     "start_time": "2020-04-23T10:12:00.097134Z"
    }
   },
   "outputs": [],
   "source": [
    "class Watch:\n",
    "    table = None\n",
    "    def_name = '~/watch/last.csv'\n",
    "    def_dir = '~/watch/'\n",
    "    states = ('ne', 'cl', 'grizym')\n",
    "    def __new__(obj):\n",
    "        if not hasattr(obj, 'instance'):\n",
    "            obj.instance=super(Watch, obj).__new__();\n",
    "        return obj.instance;\n",
    "    \n",
    "    def __init__(self):\n",
    "        table = pd.read_csv(def_name, index_col='index')\n",
    "\n",
    "    def name_backup():\n",
    "        time = datetime.now()\n",
    "        return 'back%d.%d_%d:%d:%d.csv' % (now.month, now.day, now.hour, now.minute, now.second)\n",
    "\n",
    "    def __del__(self):\n",
    "        rename(def_name, join(def_dir, name_backup()))\n",
    "        self.table.to_csv(def_name)\n",
    "        \n",
    "    def get_patch_idx(self, id_list, id_patch):\n",
    "        idx = self.table[self.table['id_list'] == id_list][self.table['id_patch'] == id_patch].index[0]\n",
    "        if len(idx) > 0:\n",
    "            return idx[0]\n",
    "        return None\n",
    "    \n",
    "    def add_patch(self, cf, idx, i=None, id_list=None, from_list=True):\n",
    "        if from_list:\n",
    "            self.table['id_list'].loc[idx] = id_list\n",
    "            self.table['id_patch'].loc[i] = i\n",
    "        else:\n",
    "            self.table['state'] = cf.params['state']\n",
    "            \n",
    "        self.table['ra'].loc[i] = cf.params['ra']\n",
    "        self.table['dec'].loc[i] = cf.params['dec']\n",
    "        self.table['inpix'].loc[i] = cf.params['inpix']\n",
    "    \n",
    "    def update_state(self, cf, idx):\n",
    "        new_state = cf.params['state']\n",
    "        if new_state in self.states:\n",
    "            new_state_i = states.index(new_state)\n",
    "            old_state_i = states.index(self.table['state'].iloc[idx])\n",
    "            if new_state_i > old_state_i:\n",
    "                self.table['state'].loc[idx] = new_state\n",
    "                \n",
    "    def update(self, fname, data=None, vrb=False):\n",
    "        cf = ClusterFile(fname)\n",
    "        if cf.params['typ'] == 'cen':\n",
    "            if data is None:\n",
    "                return\n",
    "            id_list = cf.params['id_list']\n",
    "            for i in range(data.shape[0]):\n",
    "                idx = self.get_patch(id_list, idx, i, id_list)\n",
    "                if idx is None:\n",
    "                    idx = self.table.shape[0]\n",
    "                    self.add_patch(cf, idx, i, id_list)\n",
    "        elif cf.params['typ'] == 'data':\n",
    "            if not (data is None):\n",
    "                print('I dont need data for patch!')\n",
    "            idx = self.get_patch_idx(cf.params['id_list'], cf.params['id_patch'])\n",
    "            if idx is None:\n",
    "                idx = self.table.shape[0]\n",
    "                self.add_patch(cf, idx, from_list=False)\n",
    "            "
   ]
  },
  {
   "cell_type": "code",
   "execution_count": null,
   "metadata": {},
   "outputs": [],
   "source": []
  }
 ],
 "metadata": {
  "kernelspec": {
   "display_name": "Python 3",
   "language": "python",
   "name": "python3"
  },
  "language_info": {
   "codemirror_mode": {
    "name": "ipython",
    "version": 3
   },
   "file_extension": ".py",
   "mimetype": "text/x-python",
   "name": "python",
   "nbconvert_exporter": "python",
   "pygments_lexer": "ipython3",
   "version": "3.7.3"
  }
 },
 "nbformat": 4,
 "nbformat_minor": 2
}
