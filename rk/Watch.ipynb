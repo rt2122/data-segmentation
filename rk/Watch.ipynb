{
 "cells": [
  {
   "cell_type": "code",
   "execution_count": 1,
   "metadata": {
    "ExecuteTime": {
     "end_time": "2020-04-26T15:29:18.354887Z",
     "start_time": "2020-04-26T15:29:17.122647Z"
    }
   },
   "outputs": [],
   "source": [
    "import pandas as pd\n",
    "from os import rename\n",
    "from datetime import datetime\n",
    "from all_p import ClusterFile\n",
    "from os.path import join\n",
    "from os import walk"
   ]
  },
  {
   "cell_type": "code",
   "execution_count": 15,
   "metadata": {
    "ExecuteTime": {
     "end_time": "2020-04-26T15:34:53.238422Z",
     "start_time": "2020-04-26T15:34:53.210538Z"
    }
   },
   "outputs": [],
   "source": [
    "class Watch:\n",
    "    table = None\n",
    "    def_name = '/home/rt2122/watch/last.csv'\n",
    "    def_dir = '/home/rt2122/watch/'\n",
    "    states = ('no', 'ne', 'cl', 'grizym')\n",
    "    changed = False\n",
    "    vrb = False\n",
    "    def __new__(obj):\n",
    "        if not hasattr(obj, 'instance'):\n",
    "            obj.instance=super(Watch, obj).__new__(obj);\n",
    "        return obj.instance;\n",
    "    \n",
    "    def __init__(self):\n",
    "        self.table = pd.read_csv(self.def_name, index_col='index')\n",
    "\n",
    "\n",
    "    def drop(self):\n",
    "        #~~~~~~~~~~~~~~~~~#\n",
    "        def name_backup():\n",
    "            now = datetime.now()\n",
    "            return 'back%d.%d_%d:%d:%d.csv' % (now.month, now.day, now.hour, now.minute, now.second)\n",
    "        #~~~~~~~~~~~~~~~~~#\n",
    "        print('Drop')\n",
    "        if self.changed:\n",
    "            rename(self.def_name, join(self.def_dir, name_backup()))\n",
    "            self.table.to_csv(self.def_name)\n",
    "        \n",
    "    def get_patch_idx(self, id_list, id_patch):\n",
    "        idx = self.table[self.table['id_list'] == id_list][self.table['id_patch'] == id_patch].index\n",
    "        if len(idx) > 0:\n",
    "            return idx[0]\n",
    "        return None\n",
    "    \n",
    "    def add_patch(self, cf, idx, i=None, id_list=None, from_list=True):\n",
    "        self.changed = True\n",
    "        if from_list:\n",
    "            self.table['id_list'].loc[idx] = id_list\n",
    "            self.table['id_patch'].loc[idx] = i\n",
    "        else:\n",
    "            self.table['state'].loc[idx] = cf.params['state']\n",
    "            self.table['id_list'].loc[idx] = cf.params['id_list']\n",
    "            self.table['id_patch'].loc[idx] = cf.params['id_patch']\n",
    "            \n",
    "        self.table['ra'].loc[idx] = cf.params['ra']\n",
    "        self.table['dec'].loc[idx] = cf.params['dec']\n",
    "        self.table['inpix'].loc[idx] = cf.params['inpix']\n",
    "        \n",
    "        loc = 'from list' if from_list else 'from name'\n",
    "        \n",
    "        if self.vrb:\n",
    "            print('Added patch %s list #%d patch #%d' % (loc, self.table['id_list'].iloc[idx],\n",
    "                                                        self.table['id_patch'].iloc[idx]))\n",
    "    \n",
    "    def update_state(self, cf, idx):\n",
    "        new_state = cf.params['state']\n",
    "        if new_state in self.states:\n",
    "            new_state_i = self.states.index(new_state)\n",
    "            old_state = str(self.table['state'].iloc[idx])\n",
    "            old_state_i = self.states.index(self.table['state'].iloc[idx])\n",
    "            if new_state_i > old_state_i:\n",
    "                self.table['state'].loc[idx] = new_state\n",
    "                if self.vrb:\n",
    "                    print('From %d list patch #%d changed from %s to %s' % (cf.params['id_list'], \n",
    "                                                                           cf.params['id_patch'], \n",
    "                                                                           old_state, new_state))\n",
    "                \n",
    "    def update(self, fname, data=None):\n",
    "        cf = ClusterFile(fname)\n",
    "        if cf.params['typ'] == 'cen':\n",
    "            if data is None:\n",
    "                return\n",
    "            id_list = cf.params['id_list']\n",
    "            for i in range(data.shape[0]):\n",
    "                idx = self.get_patch(id_list, idx, i, id_list)\n",
    "                if idx is None:\n",
    "                    idx = self.table.shape[0]\n",
    "                    self.add_patch(cf, idx, i, id_list)\n",
    "        elif cf.params['typ'] == 'dat' or cf.params['typ'] == 'm' or cf.params['typ'] == 'f':\n",
    "            \n",
    "            if not (data is None) and self.vrb:\n",
    "                print('I dont need data for patch!')\n",
    "            idx = self.get_patch_idx(cf.params['id_list'], cf.params['id_patch'])\n",
    "            if idx is None:\n",
    "                idx = self.table.shape[0]\n",
    "                self.add_patch(cf, idx, from_list=False)\n",
    "            else:\n",
    "                self.update_state(cf, idx)\n",
    "            \n",
    "            "
   ]
  },
  {
   "cell_type": "code",
   "execution_count": 31,
   "metadata": {
    "ExecuteTime": {
     "end_time": "2020-04-26T15:39:27.769945Z",
     "start_time": "2020-04-26T15:39:27.756788Z"
    }
   },
   "outputs": [],
   "source": [
    "watch = Watch()"
   ]
  },
  {
   "cell_type": "code",
   "execution_count": 32,
   "metadata": {
    "ExecuteTime": {
     "end_time": "2020-04-26T15:39:28.767284Z",
     "start_time": "2020-04-26T15:39:28.752639Z"
    }
   },
   "outputs": [],
   "source": [
    "files = next(walk('/home/rt2122/data/train/filters/'))[-1]"
   ]
  },
  {
   "cell_type": "code",
   "execution_count": 33,
   "metadata": {
    "ExecuteTime": {
     "end_time": "2020-04-26T15:39:32.631789Z",
     "start_time": "2020-04-26T15:39:32.610320Z"
    }
   },
   "outputs": [
    {
     "name": "stdout",
     "output_type": "stream",
     "text": [
      "Added patch from name list #1 patch #2\n"
     ]
    },
    {
     "name": "stderr",
     "output_type": "stream",
     "text": [
      "/home/rt2122/anaconda3/lib/python3.7/site-packages/ipykernel_launcher.py:29: UserWarning: Boolean Series key will be reindexed to match DataFrame index.\n"
     ]
    }
   ],
   "source": [
    "watch.update(files[0])"
   ]
  },
  {
   "cell_type": "code",
   "execution_count": 34,
   "metadata": {
    "ExecuteTime": {
     "end_time": "2020-04-26T15:39:47.714220Z",
     "start_time": "2020-04-26T15:39:47.427596Z"
    }
   },
   "outputs": [
    {
     "name": "stdout",
     "output_type": "stream",
     "text": [
      "Added patch from name list #1 patch #2\n",
      "From 0 list patch #17 changed from cl to grizym\n",
      "From 0 list patch #18 changed from cl to grizym\n",
      "Added patch from name list #1 patch #19\n",
      "From 0 list patch #10 changed from cl to grizym\n",
      "Added patch from name list #1 patch #9\n",
      "Added patch from name list #1 patch #19\n",
      "Added patch from name list #1 patch #16\n",
      "Added patch from name list #1 patch #2\n",
      "Added patch from name list #1 patch #18\n",
      "Added patch from name list #1 patch #14\n",
      "From 0 list patch #3 changed from cl to grizym\n",
      "Added patch from name list #1 patch #16\n",
      "Added patch from name list #1 patch #4\n",
      "Added patch from name list #1 patch #17\n",
      "From 0 list patch #8 changed from cl to grizym\n",
      "Added patch from name list #1 patch #10\n",
      "From 0 list patch #16 changed from cl to grizym\n",
      "Added patch from name list #1 patch #3\n",
      "Added patch from name list #1 patch #9\n",
      "Added patch from name list #1 patch #4\n",
      "From 0 list patch #12 changed from cl to grizym\n",
      "From 0 list patch #9 changed from cl to grizym\n",
      "Added patch from name list #1 patch #6\n",
      "From 0 list patch #5 changed from cl to grizym\n",
      "Added patch from name list #1 patch #5\n",
      "Added patch from name list #1 patch #6\n",
      "Added patch from name list #1 patch #15\n",
      "Added patch from name list #1 patch #11\n",
      "From 0 list patch #1 changed from cl to grizym\n",
      "From 0 list patch #14 changed from cl to grizym\n",
      "From 0 list patch #19 changed from cl to grizym\n",
      "Added patch from name list #1 patch #12\n",
      "Added patch from name list #1 patch #1\n",
      "Added patch from name list #1 patch #12\n",
      "From 0 list patch #6 changed from cl to grizym\n",
      "Added patch from name list #1 patch #7\n",
      "From 0 list patch #0 changed from cl to grizym\n",
      "From 0 list patch #2 changed from cl to grizym\n",
      "Added patch from name list #1 patch #13\n",
      "Added patch from name list #1 patch #10\n",
      "Added patch from name list #1 patch #8\n",
      "Added patch from name list #1 patch #13\n",
      "From 0 list patch #4 changed from cl to grizym\n",
      "Added patch from name list #1 patch #5\n",
      "From 0 list patch #13 changed from cl to grizym\n",
      "From 0 list patch #11 changed from cl to grizym\n",
      "Added patch from name list #1 patch #7\n",
      "Added patch from name list #1 patch #1\n",
      "Added patch from name list #1 patch #8\n",
      "Added patch from name list #1 patch #0\n",
      "Added patch from name list #1 patch #0\n",
      "From 0 list patch #7 changed from cl to grizym\n",
      "Added patch from name list #1 patch #14\n",
      "Added patch from name list #1 patch #17\n",
      "Added patch from name list #1 patch #15\n",
      "Added patch from name list #1 patch #3\n",
      "From 0 list patch #15 changed from cl to grizym\n",
      "Added patch from name list #1 patch #11\n",
      "Added patch from name list #1 patch #18\n"
     ]
    },
    {
     "name": "stderr",
     "output_type": "stream",
     "text": [
      "/home/rt2122/anaconda3/lib/python3.7/site-packages/ipykernel_launcher.py:29: UserWarning: Boolean Series key will be reindexed to match DataFrame index.\n"
     ]
    }
   ],
   "source": [
    "for f in files:\n",
    "    watch.update(f)"
   ]
  },
  {
   "cell_type": "code",
   "execution_count": 27,
   "metadata": {
    "ExecuteTime": {
     "end_time": "2020-04-26T15:36:48.046068Z",
     "start_time": "2020-04-26T15:36:48.036620Z"
    }
   },
   "outputs": [
    {
     "data": {
      "text/html": [
       "<div>\n",
       "<style scoped>\n",
       "    .dataframe tbody tr th:only-of-type {\n",
       "        vertical-align: middle;\n",
       "    }\n",
       "\n",
       "    .dataframe tbody tr th {\n",
       "        vertical-align: top;\n",
       "    }\n",
       "\n",
       "    .dataframe thead th {\n",
       "        text-align: right;\n",
       "    }\n",
       "</style>\n",
       "<table border=\"1\" class=\"dataframe\">\n",
       "  <thead>\n",
       "    <tr style=\"text-align: right;\">\n",
       "      <th></th>\n",
       "      <th>id_patch</th>\n",
       "      <th>id_list</th>\n",
       "      <th>ra</th>\n",
       "      <th>dec</th>\n",
       "      <th>inpix</th>\n",
       "      <th>state</th>\n",
       "    </tr>\n",
       "    <tr>\n",
       "      <th>index</th>\n",
       "      <th></th>\n",
       "      <th></th>\n",
       "      <th></th>\n",
       "      <th></th>\n",
       "      <th></th>\n",
       "      <th></th>\n",
       "    </tr>\n",
       "  </thead>\n",
       "  <tbody>\n",
       "    <tr>\n",
       "      <th>0</th>\n",
       "      <td>0</td>\n",
       "      <td>0</td>\n",
       "      <td>68.149720</td>\n",
       "      <td>67.343782</td>\n",
       "      <td>4</td>\n",
       "      <td>cl</td>\n",
       "    </tr>\n",
       "    <tr>\n",
       "      <th>1</th>\n",
       "      <td>1</td>\n",
       "      <td>0</td>\n",
       "      <td>95.659138</td>\n",
       "      <td>66.964809</td>\n",
       "      <td>4</td>\n",
       "      <td>cl</td>\n",
       "    </tr>\n",
       "    <tr>\n",
       "      <th>2</th>\n",
       "      <td>2</td>\n",
       "      <td>0</td>\n",
       "      <td>91.627482</td>\n",
       "      <td>67.480008</td>\n",
       "      <td>4</td>\n",
       "      <td>cl</td>\n",
       "    </tr>\n",
       "    <tr>\n",
       "      <th>3</th>\n",
       "      <td>3</td>\n",
       "      <td>0</td>\n",
       "      <td>68.574847</td>\n",
       "      <td>86.600743</td>\n",
       "      <td>4</td>\n",
       "      <td>cl</td>\n",
       "    </tr>\n",
       "    <tr>\n",
       "      <th>4</th>\n",
       "      <td>4</td>\n",
       "      <td>0</td>\n",
       "      <td>93.645251</td>\n",
       "      <td>74.511402</td>\n",
       "      <td>4</td>\n",
       "      <td>cl</td>\n",
       "    </tr>\n",
       "  </tbody>\n",
       "</table>\n",
       "</div>"
      ],
      "text/plain": [
       "       id_patch  id_list         ra        dec  inpix state\n",
       "index                                                      \n",
       "0             0        0  68.149720  67.343782      4    cl\n",
       "1             1        0  95.659138  66.964809      4    cl\n",
       "2             2        0  91.627482  67.480008      4    cl\n",
       "3             3        0  68.574847  86.600743      4    cl\n",
       "4             4        0  93.645251  74.511402      4    cl"
      ]
     },
     "execution_count": 27,
     "metadata": {},
     "output_type": "execute_result"
    }
   ],
   "source": [
    "watch.table.head()"
   ]
  },
  {
   "cell_type": "code",
   "execution_count": 17,
   "metadata": {
    "ExecuteTime": {
     "end_time": "2020-04-26T15:35:02.620366Z",
     "start_time": "2020-04-26T15:35:02.613485Z"
    }
   },
   "outputs": [],
   "source": [
    "watch.vrb = True"
   ]
  },
  {
   "cell_type": "code",
   "execution_count": 7,
   "metadata": {
    "ExecuteTime": {
     "end_time": "2020-04-26T15:32:40.367888Z",
     "start_time": "2020-04-26T15:32:40.278391Z"
    }
   },
   "outputs": [],
   "source": [
    "for f in files:\n",
    "    watch.update(f)"
   ]
  },
  {
   "cell_type": "code",
   "execution_count": 140,
   "metadata": {
    "ExecuteTime": {
     "end_time": "2020-04-23T14:58:02.111684Z",
     "start_time": "2020-04-23T14:58:02.099408Z"
    }
   },
   "outputs": [
    {
     "name": "stdout",
     "output_type": "stream",
     "text": [
      "Drop\n"
     ]
    }
   ],
   "source": [
    "watch.changed=True\n",
    "watch.drop()"
   ]
  },
  {
   "cell_type": "code",
   "execution_count": 116,
   "metadata": {
    "ExecuteTime": {
     "end_time": "2020-04-23T14:53:39.506622Z",
     "start_time": "2020-04-23T14:53:39.497018Z"
    }
   },
   "outputs": [
    {
     "data": {
      "text/plain": [
       "('no', 'ne', 'cl', 'grizym')"
      ]
     },
     "execution_count": 116,
     "metadata": {},
     "output_type": "execute_result"
    }
   ],
   "source": [
    "watch.states"
   ]
  },
  {
   "cell_type": "code",
   "execution_count": 24,
   "metadata": {
    "ExecuteTime": {
     "end_time": "2020-04-26T15:36:01.211018Z",
     "start_time": "2020-04-26T15:36:01.170229Z"
    }
   },
   "outputs": [
    {
     "name": "stderr",
     "output_type": "stream",
     "text": [
      "/home/rt2122/anaconda3/lib/python3.7/site-packages/pandas/core/ops.py:1649: FutureWarning: elementwise comparison failed; returning scalar instead, but in the future will perform elementwise comparison\n",
      "  result = method(y)\n",
      "/home/rt2122/anaconda3/lib/python3.7/site-packages/ipykernel_launcher.py:1: UserWarning: Boolean Series key will be reindexed to match DataFrame index.\n",
      "  \"\"\"Entry point for launching an IPython kernel.\n"
     ]
    },
    {
     "data": {
      "text/plain": [
       "(0, 6)"
      ]
     },
     "execution_count": 24,
     "metadata": {},
     "output_type": "execute_result"
    }
   ],
   "source": [
    "watch.table[watch.table['id_list'] == '1'].shape"
   ]
  },
  {
   "cell_type": "code",
   "execution_count": 21,
   "metadata": {
    "ExecuteTime": {
     "end_time": "2020-04-26T15:35:41.729979Z",
     "start_time": "2020-04-26T15:35:41.722193Z"
    }
   },
   "outputs": [
    {
     "data": {
      "text/plain": [
       "{0, 1}"
      ]
     },
     "execution_count": 21,
     "metadata": {},
     "output_type": "execute_result"
    }
   ],
   "source": [
    "set(watch.table['id_list'])"
   ]
  },
  {
   "cell_type": "code",
   "execution_count": 30,
   "metadata": {
    "ExecuteTime": {
     "end_time": "2020-04-26T15:39:08.551720Z",
     "start_time": "2020-04-26T15:39:08.538266Z"
    }
   },
   "outputs": [
    {
     "data": {
      "text/html": [
       "<div>\n",
       "<style scoped>\n",
       "    .dataframe tbody tr th:only-of-type {\n",
       "        vertical-align: middle;\n",
       "    }\n",
       "\n",
       "    .dataframe tbody tr th {\n",
       "        vertical-align: top;\n",
       "    }\n",
       "\n",
       "    .dataframe thead th {\n",
       "        text-align: right;\n",
       "    }\n",
       "</style>\n",
       "<table border=\"1\" class=\"dataframe\">\n",
       "  <thead>\n",
       "    <tr style=\"text-align: right;\">\n",
       "      <th></th>\n",
       "      <th>id_patch</th>\n",
       "      <th>id_list</th>\n",
       "      <th>ra</th>\n",
       "      <th>dec</th>\n",
       "      <th>inpix</th>\n",
       "      <th>state</th>\n",
       "    </tr>\n",
       "    <tr>\n",
       "      <th>index</th>\n",
       "      <th></th>\n",
       "      <th></th>\n",
       "      <th></th>\n",
       "      <th></th>\n",
       "      <th></th>\n",
       "      <th></th>\n",
       "    </tr>\n",
       "  </thead>\n",
       "  <tbody>\n",
       "    <tr>\n",
       "      <th>47</th>\n",
       "      <td>47</td>\n",
       "      <td>0</td>\n",
       "      <td>120.657084</td>\n",
       "      <td>74.117886</td>\n",
       "      <td>4</td>\n",
       "      <td>no</td>\n",
       "    </tr>\n",
       "    <tr>\n",
       "      <th>48</th>\n",
       "      <td>48</td>\n",
       "      <td>0</td>\n",
       "      <td>104.212103</td>\n",
       "      <td>86.241356</td>\n",
       "      <td>4</td>\n",
       "      <td>no</td>\n",
       "    </tr>\n",
       "    <tr>\n",
       "      <th>49</th>\n",
       "      <td>49</td>\n",
       "      <td>0</td>\n",
       "      <td>104.135893</td>\n",
       "      <td>70.532809</td>\n",
       "      <td>4</td>\n",
       "      <td>no</td>\n",
       "    </tr>\n",
       "  </tbody>\n",
       "</table>\n",
       "</div>"
      ],
      "text/plain": [
       "       id_patch  id_list          ra        dec  inpix state\n",
       "index                                                       \n",
       "47           47        0  120.657084  74.117886      4    no\n",
       "48           48        0  104.212103  86.241356      4    no\n",
       "49           49        0  104.135893  70.532809      4    no"
      ]
     },
     "execution_count": 30,
     "metadata": {},
     "output_type": "execute_result"
    }
   ],
   "source": [
    "watch.table.iloc[47:]"
   ]
  },
  {
   "cell_type": "code",
   "execution_count": 35,
   "metadata": {
    "ExecuteTime": {
     "end_time": "2020-04-26T15:39:59.815328Z",
     "start_time": "2020-04-26T15:39:59.807795Z"
    }
   },
   "outputs": [
    {
     "data": {
      "text/plain": [
       "(50, 6)"
      ]
     },
     "execution_count": 35,
     "metadata": {},
     "output_type": "execute_result"
    }
   ],
   "source": [
    "watch.table.shape"
   ]
  },
  {
   "cell_type": "code",
   "execution_count": null,
   "metadata": {},
   "outputs": [],
   "source": []
  }
 ],
 "metadata": {
  "kernelspec": {
   "display_name": "Python 3",
   "language": "python",
   "name": "python3"
  },
  "language_info": {
   "codemirror_mode": {
    "name": "ipython",
    "version": 3
   },
   "file_extension": ".py",
   "mimetype": "text/x-python",
   "name": "python",
   "nbconvert_exporter": "python",
   "pygments_lexer": "ipython3",
   "version": "3.7.3"
  }
 },
 "nbformat": 4,
 "nbformat_minor": 2
}
