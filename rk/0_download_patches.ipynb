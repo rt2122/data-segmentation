{
 "cells": [
  {
   "cell_type": "code",
   "execution_count": 23,
   "metadata": {
    "ExecuteTime": {
     "end_time": "2020-04-25T15:48:54.449089Z",
     "start_time": "2020-04-25T15:48:54.434170Z"
    }
   },
   "outputs": [],
   "source": [
    "def download_patches(filename, dirname):\n",
    "    import pandas as pd\n",
    "    from only_colab import get_patch\n",
    "    from all_p import ClusterFile\n",
    "    from os.path import join\n",
    "    from tqdm import tqdm_notebook\n",
    "    \n",
    "    cnt = pd.read_csv(filename, index_col='index')\n",
    "    cnt_cf = ClusterFile(filename)\n",
    "    radius = cnt_cf.params['size']\n",
    "    print('radius: %f' % radius)\n",
    "    \n",
    "    cf = ClusterFile('_')\n",
    "    cf.params['typ'] = 'dat'\n",
    "    cf.params['id_list'] = cnt_cf.params['id_list']\n",
    "    cf.params['state'] = 'ne'\n",
    "    cf.params['inpix'] = cnt_cf.params['inpix']\n",
    "    for i in tqdm_notebook(range(cnt.shape[0])):\n",
    "        ra = cnt['ra'].iloc[i]\n",
    "        dec = cnt['dec'].iloc[i]\n",
    "        cf.params['ra'] = ra\n",
    "        cf.params['dec'] = dec\n",
    "        cf.params['id_patch'] = i\n",
    "        \n",
    "        print('downloading to: %s'%join(dirname,cf.file('.csv')))\n",
    "        get_patch(ra, dec, radius*60, job_name=str(i), file_name=join(dirname, cf.file('.csv')), \n",
    "                  table_name='table%d_%d' % (cnt_cf.params['id_list'], i))"
   ]
  },
  {
   "cell_type": "code",
   "execution_count": 2,
   "metadata": {
    "ExecuteTime": {
     "end_time": "2020-04-25T15:26:07.694180Z",
     "start_time": "2020-04-25T15:26:07.684992Z"
    }
   },
   "outputs": [],
   "source": [
    "dirname = '/home/rt2122/data/train/no_edit/'"
   ]
  },
  {
   "cell_type": "code",
   "execution_count": 3,
   "metadata": {
    "ExecuteTime": {
     "end_time": "2020-04-25T15:26:32.920685Z",
     "start_time": "2020-04-25T15:26:32.592257Z"
    }
   },
   "outputs": [],
   "source": [
    "import pandas as pd"
   ]
  },
  {
   "cell_type": "code",
   "execution_count": 6,
   "metadata": {
    "ExecuteTime": {
     "end_time": "2020-04-25T15:27:48.151283Z",
     "start_time": "2020-04-25T15:27:48.145040Z"
    }
   },
   "outputs": [],
   "source": [
    "cnt_name = '/home/rt2122/data/train/centers/tcen_il1_n20_in5_len0.6462_hns17.csv'"
   ]
  },
  {
   "cell_type": "code",
   "execution_count": 24,
   "metadata": {
    "ExecuteTime": {
     "end_time": "2020-04-25T16:20:35.125906Z",
     "start_time": "2020-04-25T15:49:03.634267Z"
    }
   },
   "outputs": [
    {
     "name": "stdout",
     "output_type": "stream",
     "text": [
      "radius: 0.646200\n"
     ]
    },
    {
     "data": {
      "application/vnd.jupyter.widget-view+json": {
       "model_id": "cbecd53a1a4f4335b31dc2de889857c0",
       "version_major": 2,
       "version_minor": 0
      },
      "text/plain": [
       "HBox(children=(IntProgress(value=0, max=20), HTML(value='')))"
      ]
     },
     "metadata": {},
     "output_type": "display_data"
    },
    {
     "name": "stdout",
     "output_type": "stream",
     "text": [
      "downloading to: /home/rt2122/data/train/no_edit/tdat_il1_ip0_ra132.2217_dec48.0091_sne_in5.csv\n",
      "downloading to: /home/rt2122/data/train/no_edit/tdat_il1_ip1_ra100.0951_dec57.3305_sne_in5.csv\n",
      "downloading to: /home/rt2122/data/train/no_edit/tdat_il1_ip2_ra156.2086_dec49.5938_sne_in5.csv\n",
      "downloading to: /home/rt2122/data/train/no_edit/tdat_il1_ip3_ra148.2559_dec52.1757_sne_in5.csv\n",
      "downloading to: /home/rt2122/data/train/no_edit/tdat_il1_ip4_ra99.9162_dec58.0308_sne_in5.csv\n",
      "downloading to: /home/rt2122/data/train/no_edit/tdat_il1_ip5_ra139.8363_dec52.1861_sne_in5.csv\n",
      "downloading to: /home/rt2122/data/train/no_edit/tdat_il1_ip6_ra126.5754_dec47.6416_sne_in5.csv\n",
      "downloading to: /home/rt2122/data/train/no_edit/tdat_il1_ip7_ra150.8614_dec66.5578_sne_in5.csv\n",
      "downloading to: /home/rt2122/data/train/no_edit/tdat_il1_ip8_ra155.2182_dec48.9728_sne_in5.csv\n",
      "downloading to: /home/rt2122/data/train/no_edit/tdat_il1_ip9_ra128.9139_dec66.0122_sne_in5.csv\n",
      "downloading to: /home/rt2122/data/train/no_edit/tdat_il1_ip10_ra156.1136_dec48.9973_sne_in5.csv\n",
      "downloading to: /home/rt2122/data/train/no_edit/tdat_il1_ip11_ra118.8646_dec52.9088_sne_in5.csv\n",
      "downloading to: /home/rt2122/data/train/no_edit/tdat_il1_ip12_ra129.0758_dec65.6675_sne_in5.csv\n",
      "downloading to: /home/rt2122/data/train/no_edit/tdat_il1_ip13_ra109.2418_dec54.4102_sne_in5.csv\n",
      "downloading to: /home/rt2122/data/train/no_edit/tdat_il1_ip14_ra99.1087_dec57.4169_sne_in5.csv\n",
      "downloading to: /home/rt2122/data/train/no_edit/tdat_il1_ip15_ra152.4899_dec71.4755_sne_in5.csv\n",
      "downloading to: /home/rt2122/data/train/no_edit/tdat_il1_ip16_ra155.6608_dec48.9188_sne_in5.csv\n",
      "downloading to: /home/rt2122/data/train/no_edit/tdat_il1_ip17_ra116.6979_dec59.9642_sne_in5.csv\n",
      "downloading to: /home/rt2122/data/train/no_edit/tdat_il1_ip18_ra138.0892_dec60.6509_sne_in5.csv\n",
      "downloading to: /home/rt2122/data/train/no_edit/tdat_il1_ip19_ra128.0709_dec66.1570_sne_in5.csv\n"
     ]
    }
   ],
   "source": [
    "download_patches(cnt_name, dirname)"
   ]
  },
  {
   "cell_type": "code",
   "execution_count": null,
   "metadata": {},
   "outputs": [],
   "source": []
  }
 ],
 "metadata": {
  "kernelspec": {
   "display_name": "Python 3",
   "language": "python",
   "name": "python3"
  },
  "language_info": {
   "codemirror_mode": {
    "name": "ipython",
    "version": 3
   },
   "file_extension": ".py",
   "mimetype": "text/x-python",
   "name": "python",
   "nbconvert_exporter": "python",
   "pygments_lexer": "ipython3",
   "version": "3.7.3"
  }
 },
 "nbformat": 4,
 "nbformat_minor": 2
}
