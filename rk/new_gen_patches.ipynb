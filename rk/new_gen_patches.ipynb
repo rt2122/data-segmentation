{
 "cells": [
  {
   "cell_type": "code",
   "execution_count": 1,
   "metadata": {
    "ExecuteTime": {
     "end_time": "2020-04-25T15:14:27.377346Z",
     "start_time": "2020-04-25T15:14:26.509473Z"
    }
   },
   "outputs": [],
   "source": [
    "import healpy as hp\n",
    "import pandas as pd\n",
    "import numpy as np\n",
    "from astropy.coordinates import SkyCoord\n",
    "from astropy import units as u\n",
    "dist=0.6462359932748121"
   ]
  },
  {
   "cell_type": "code",
   "execution_count": 3,
   "metadata": {
    "ExecuteTime": {
     "end_time": "2020-04-25T14:53:41.170480Z",
     "start_time": "2020-04-25T14:53:41.158504Z"
    }
   },
   "outputs": [],
   "source": [
    "def gen_centers_fast(n, all_pixels, nside1 = 2**10, nside2=2**17):\n",
    "    \n",
    "    def n_pix2ra_dec(npix, nside):\n",
    "        theta, phi = hp.pix2ang(nside=nside, ipix=npix, nest=True, lonlat=True)\n",
    "        sc = SkyCoord(l=theta*u.degree, b=phi*u.degree, frame='galactic')\n",
    "        return sc.icrs.ra.degree, sc.icrs.dec.degree\n",
    "\n",
    "    \n",
    "    ans = np.random.choice(all_pixels, size=n)\n",
    "    \n",
    "    ras, decs = n_pix2ra_dec(ans, nside1)\n",
    "    \n",
    "    if nside1 != nside2:\n",
    "        l, b = hp.pix2ang(nside=nside1, ipix=ans, nest=True, lonlat=True)\n",
    "        ans = hp.ang2pix(nside=nside2, nest=True, lonlat=True, theta=l, phi=b)\n",
    "    \n",
    "    return pd.DataFrame({'pix':ans, 'ra':ras, 'dec':decs})"
   ]
  },
  {
   "cell_type": "code",
   "execution_count": 4,
   "metadata": {
    "ExecuteTime": {
     "end_time": "2020-04-25T14:53:41.485167Z",
     "start_time": "2020-04-25T14:53:41.452671Z"
    }
   },
   "outputs": [
    {
     "data": {
      "text/html": [
       "<div>\n",
       "<style scoped>\n",
       "    .dataframe tbody tr th:only-of-type {\n",
       "        vertical-align: middle;\n",
       "    }\n",
       "\n",
       "    .dataframe tbody tr th {\n",
       "        vertical-align: top;\n",
       "    }\n",
       "\n",
       "    .dataframe thead th {\n",
       "        text-align: right;\n",
       "    }\n",
       "</style>\n",
       "<table border=\"1\" class=\"dataframe\">\n",
       "  <thead>\n",
       "    <tr style=\"text-align: right;\">\n",
       "      <th></th>\n",
       "      <th>Name</th>\n",
       "      <th>RAdeg</th>\n",
       "      <th>DEdeg</th>\n",
       "      <th>z</th>\n",
       "      <th>MSZ</th>\n",
       "      <th>MCXC</th>\n",
       "      <th>RedMAPPer</th>\n",
       "      <th>pix</th>\n",
       "      <th>theta</th>\n",
       "      <th>phi</th>\n",
       "    </tr>\n",
       "    <tr>\n",
       "      <th>index</th>\n",
       "      <th></th>\n",
       "      <th></th>\n",
       "      <th></th>\n",
       "      <th></th>\n",
       "      <th></th>\n",
       "      <th></th>\n",
       "      <th></th>\n",
       "      <th></th>\n",
       "      <th></th>\n",
       "      <th></th>\n",
       "    </tr>\n",
       "  </thead>\n",
       "  <tbody>\n",
       "    <tr>\n",
       "      <th>0</th>\n",
       "      <td>PSZ2 G000.04+45.13</td>\n",
       "      <td>229.190512</td>\n",
       "      <td>-1.017222</td>\n",
       "      <td>0.1198</td>\n",
       "      <td>3.962411</td>\n",
       "      <td>J1516.5-0056</td>\n",
       "      <td>RMJ151653.9-010506.3</td>\n",
       "      <td>2</td>\n",
       "      <td>0.000708</td>\n",
       "      <td>0.787757</td>\n",
       "    </tr>\n",
       "    <tr>\n",
       "      <th>1</th>\n",
       "      <td>PSZ2 G000.13+78.04</td>\n",
       "      <td>203.558683</td>\n",
       "      <td>20.255990</td>\n",
       "      <td>0.1710</td>\n",
       "      <td>5.122391</td>\n",
       "      <td>J1334.1+2013</td>\n",
       "      <td>RMJ133408.7+201453.0</td>\n",
       "      <td>3</td>\n",
       "      <td>0.002410</td>\n",
       "      <td>1.362092</td>\n",
       "    </tr>\n",
       "    <tr>\n",
       "      <th>2</th>\n",
       "      <td>PSZ2 G000.40-41.86</td>\n",
       "      <td>316.084485</td>\n",
       "      <td>-41.354169</td>\n",
       "      <td>0.1651</td>\n",
       "      <td>5.297053</td>\n",
       "      <td>J2104.3-4120</td>\n",
       "      <td></td>\n",
       "      <td>34</td>\n",
       "      <td>0.007034</td>\n",
       "      <td>-0.730609</td>\n",
       "    </tr>\n",
       "    <tr>\n",
       "      <th>3</th>\n",
       "      <td>PSZ2 G000.77-35.69</td>\n",
       "      <td>307.972844</td>\n",
       "      <td>-40.598725</td>\n",
       "      <td>0.3416</td>\n",
       "      <td>6.333562</td>\n",
       "      <td>J2031.8-4037</td>\n",
       "      <td></td>\n",
       "      <td>16</td>\n",
       "      <td>0.013527</td>\n",
       "      <td>-0.623072</td>\n",
       "    </tr>\n",
       "    <tr>\n",
       "      <th>4</th>\n",
       "      <td>PSZ2 G002.08-68.28</td>\n",
       "      <td>349.632431</td>\n",
       "      <td>-36.332559</td>\n",
       "      <td>0.1400</td>\n",
       "      <td>2.835297</td>\n",
       "      <td></td>\n",
       "      <td></td>\n",
       "      <td>32</td>\n",
       "      <td>0.036425</td>\n",
       "      <td>-1.191738</td>\n",
       "    </tr>\n",
       "  </tbody>\n",
       "</table>\n",
       "</div>"
      ],
      "text/plain": [
       "                     Name       RAdeg      DEdeg       z       MSZ  \\\n",
       "index                                                                \n",
       "0      PSZ2 G000.04+45.13  229.190512  -1.017222  0.1198  3.962411   \n",
       "1      PSZ2 G000.13+78.04  203.558683  20.255990  0.1710  5.122391   \n",
       "2      PSZ2 G000.40-41.86  316.084485 -41.354169  0.1651  5.297053   \n",
       "3      PSZ2 G000.77-35.69  307.972844 -40.598725  0.3416  6.333562   \n",
       "4      PSZ2 G002.08-68.28  349.632431 -36.332559  0.1400  2.835297   \n",
       "\n",
       "               MCXC             RedMAPPer  pix     theta       phi  \n",
       "index                                                               \n",
       "0      J1516.5-0056  RMJ151653.9-010506.3    2  0.000708  0.787757  \n",
       "1      J1334.1+2013  RMJ133408.7+201453.0    3  0.002410  1.362092  \n",
       "2      J2104.3-4120                         34  0.007034 -0.730609  \n",
       "3      J2031.8-4037                         16  0.013527 -0.623072  \n",
       "4                                           32  0.036425 -1.191738  "
      ]
     },
     "execution_count": 4,
     "metadata": {},
     "output_type": "execute_result"
    }
   ],
   "source": [
    "planck = pd.read_csv('../src_data/planck_z.csv', index_col='index')\n",
    "planck.head()"
   ]
  },
  {
   "cell_type": "code",
   "execution_count": 5,
   "metadata": {
    "ExecuteTime": {
     "end_time": "2020-04-25T14:53:43.960098Z",
     "start_time": "2020-04-25T14:53:43.948984Z"
    }
   },
   "outputs": [
    {
     "data": {
      "text/plain": [
       "(36, 10)"
      ]
     },
     "execution_count": 5,
     "metadata": {},
     "output_type": "execute_result"
    }
   ],
   "source": [
    "planck5=planck[planck['pix']==5]\n",
    "planck5.shape"
   ]
  },
  {
   "cell_type": "code",
   "execution_count": 14,
   "metadata": {
    "ExecuteTime": {
     "end_time": "2020-04-25T14:23:16.913772Z",
     "start_time": "2020-04-25T14:23:16.878246Z"
    }
   },
   "outputs": [
    {
     "ename": "TypeError",
     "evalue": "only size-1 arrays can be converted to Python scalars",
     "output_type": "error",
     "traceback": [
      "\u001b[0;31m---------------------------------------------------------------------------\u001b[0m",
      "\u001b[0;31mTypeError\u001b[0m                                 Traceback (most recent call last)",
      "\u001b[0;32m<ipython-input-14-02046c82902b>\u001b[0m in \u001b[0;36m<module>\u001b[0;34m\u001b[0m\n\u001b[0;32m----> 1\u001b[0;31m \u001b[0ma\u001b[0m \u001b[0;34m=\u001b[0m \u001b[0mgen_centers_fast\u001b[0m\u001b[0;34m(\u001b[0m\u001b[0mplanck5\u001b[0m\u001b[0;34m,\u001b[0m \u001b[0mdist\u001b[0m\u001b[0;34m,\u001b[0m \u001b[0;36m10\u001b[0m\u001b[0;34m)\u001b[0m\u001b[0;34m\u001b[0m\u001b[0;34m\u001b[0m\u001b[0m\n\u001b[0m",
      "\u001b[0;32m<ipython-input-13-22596d0ce6b0>\u001b[0m in \u001b[0;36mgen_centers_fast\u001b[0;34m(cat, radius, n, nside)\u001b[0m\n\u001b[1;32m     15\u001b[0m                          \u001b[0mphi\u001b[0m\u001b[0;34m=\u001b[0m\u001b[0msc\u001b[0m\u001b[0;34m.\u001b[0m\u001b[0mgalactic\u001b[0m\u001b[0;34m.\u001b[0m\u001b[0mb\u001b[0m\u001b[0;34m.\u001b[0m\u001b[0mdegree\u001b[0m\u001b[0;34m,\u001b[0m\u001b[0;34m\u001b[0m\u001b[0;34m\u001b[0m\u001b[0m\n\u001b[1;32m     16\u001b[0m                          lonlat=True)\n\u001b[0;32m---> 17\u001b[0;31m         \u001b[0mpixels\u001b[0m \u001b[0;34m=\u001b[0m \u001b[0mhp\u001b[0m\u001b[0;34m.\u001b[0m\u001b[0mquery_disc\u001b[0m\u001b[0;34m(\u001b[0m\u001b[0mnside\u001b[0m\u001b[0;34m=\u001b[0m\u001b[0mnside\u001b[0m\u001b[0;34m,\u001b[0m \u001b[0mvec\u001b[0m\u001b[0;34m=\u001b[0m\u001b[0mvec\u001b[0m\u001b[0;34m,\u001b[0m \u001b[0mradius\u001b[0m\u001b[0;34m=\u001b[0m\u001b[0mnp\u001b[0m\u001b[0;34m.\u001b[0m\u001b[0mradians\u001b[0m\u001b[0;34m(\u001b[0m\u001b[0mradius\u001b[0m\u001b[0;34m)\u001b[0m\u001b[0;34m,\u001b[0m \u001b[0mnest\u001b[0m\u001b[0;34m=\u001b[0m\u001b[0;32mTrue\u001b[0m\u001b[0;34m)\u001b[0m\u001b[0;34m\u001b[0m\u001b[0;34m\u001b[0m\u001b[0m\n\u001b[0m\u001b[1;32m     18\u001b[0m         \u001b[0mall_pixels\u001b[0m\u001b[0;34m.\u001b[0m\u001b[0mextend\u001b[0m\u001b[0;34m(\u001b[0m\u001b[0mlist\u001b[0m\u001b[0;34m(\u001b[0m\u001b[0mpixels\u001b[0m\u001b[0;34m)\u001b[0m\u001b[0;34m)\u001b[0m\u001b[0;34m\u001b[0m\u001b[0;34m\u001b[0m\u001b[0m\n\u001b[1;32m     19\u001b[0m \u001b[0;34m\u001b[0m\u001b[0m\n",
      "\u001b[0;32mhealpy/src/_query_disc.pyx\u001b[0m in \u001b[0;36mhealpy._query_disc.query_disc\u001b[0;34m()\u001b[0m\n",
      "\u001b[0;31mTypeError\u001b[0m: only size-1 arrays can be converted to Python scalars"
     ]
    }
   ],
   "source": [
    "a = gen_centers_fast(planck5, dist, 10)"
   ]
  },
  {
   "cell_type": "code",
   "execution_count": 6,
   "metadata": {
    "ExecuteTime": {
     "end_time": "2020-04-25T14:53:47.126713Z",
     "start_time": "2020-04-25T14:53:47.108572Z"
    }
   },
   "outputs": [],
   "source": [
    "def gen_patches_pixels(cat, radius, nside=2**10):\n",
    "    \n",
    "    all_pixels = np.array([])\n",
    "    for i in range(cat.shape[0]):\n",
    "        ra = cat['RAdeg'].iloc[i]\n",
    "        dec = cat['DEdeg'].iloc[i]\n",
    "        sc = SkyCoord(ra=ra*u.degree, dec=dec*u.degree, frame='icrs')\n",
    "        vec = hp.ang2vec(theta=sc.galactic.l.degree, \n",
    "                         phi=sc.galactic.b.degree, \n",
    "                         lonlat=True)\n",
    "        pixels = hp.query_disc(nside=nside, vec=vec, radius=np.radians(radius), nest=True).flatten()\n",
    "        all_pixels = np.concatenate([all_pixels, pixels], axis=0)\n",
    "    \n",
    "    all_pixels = np.unique(all_pixels)\n",
    "    return all_pixels"
   ]
  },
  {
   "cell_type": "code",
   "execution_count": 59,
   "metadata": {
    "ExecuteTime": {
     "end_time": "2020-04-25T14:40:03.736479Z",
     "start_time": "2020-04-25T14:40:03.438021Z"
    }
   },
   "outputs": [],
   "source": [
    "all_centers_in5_nside10 = gen_patches_pixels(planck5, dist)"
   ]
  },
  {
   "cell_type": "code",
   "execution_count": 60,
   "metadata": {
    "ExecuteTime": {
     "end_time": "2020-04-25T14:40:05.001008Z",
     "start_time": "2020-04-25T14:40:04.990915Z"
    }
   },
   "outputs": [
    {
     "data": {
      "text/plain": [
       "(13853,)"
      ]
     },
     "execution_count": 60,
     "metadata": {},
     "output_type": "execute_result"
    }
   ],
   "source": [
    "all_centers_in5_nside10.shape"
   ]
  },
  {
   "cell_type": "code",
   "execution_count": 61,
   "metadata": {
    "ExecuteTime": {
     "end_time": "2020-04-25T14:41:10.008538Z",
     "start_time": "2020-04-25T14:41:09.998234Z"
    }
   },
   "outputs": [],
   "source": [
    "np.save('/home/rt2122/data/all_centers_in5_nside10', all_centers_in5_nside10)"
   ]
  },
  {
   "cell_type": "code",
   "execution_count": 8,
   "metadata": {
    "ExecuteTime": {
     "end_time": "2020-04-25T14:54:47.746229Z",
     "start_time": "2020-04-25T14:54:47.736233Z"
    }
   },
   "outputs": [],
   "source": [
    "all_centers_in5_nside10 = np.load('/home/rt2122/data/all_centers_in5_nside10.npy')"
   ]
  },
  {
   "cell_type": "code",
   "execution_count": 11,
   "metadata": {
    "ExecuteTime": {
     "end_time": "2020-04-25T14:56:07.771203Z",
     "start_time": "2020-04-25T14:56:07.743604Z"
    }
   },
   "outputs": [],
   "source": [
    "cnt = gen_centers_fast(20, all_centers_in5_nside10, 2**10, 2**17)"
   ]
  },
  {
   "cell_type": "code",
   "execution_count": 10,
   "metadata": {
    "ExecuteTime": {
     "end_time": "2020-04-25T14:56:04.723157Z",
     "start_time": "2020-04-25T14:56:04.718056Z"
    }
   },
   "outputs": [],
   "source": [
    "all_centers_in5_nside10 = all_centers_in5_nside10.astype(np.int64)"
   ]
  },
  {
   "cell_type": "code",
   "execution_count": 12,
   "metadata": {
    "ExecuteTime": {
     "end_time": "2020-04-25T14:56:10.724421Z",
     "start_time": "2020-04-25T14:56:10.710497Z"
    }
   },
   "outputs": [
    {
     "data": {
      "text/html": [
       "<div>\n",
       "<style scoped>\n",
       "    .dataframe tbody tr th:only-of-type {\n",
       "        vertical-align: middle;\n",
       "    }\n",
       "\n",
       "    .dataframe tbody tr th {\n",
       "        vertical-align: top;\n",
       "    }\n",
       "\n",
       "    .dataframe thead th {\n",
       "        text-align: right;\n",
       "    }\n",
       "</style>\n",
       "<table border=\"1\" class=\"dataframe\">\n",
       "  <thead>\n",
       "    <tr style=\"text-align: right;\">\n",
       "      <th></th>\n",
       "      <th>pix</th>\n",
       "      <th>ra</th>\n",
       "      <th>dec</th>\n",
       "    </tr>\n",
       "  </thead>\n",
       "  <tbody>\n",
       "    <tr>\n",
       "      <th>0</th>\n",
       "      <td>22951680682</td>\n",
       "      <td>132.221748</td>\n",
       "      <td>48.009135</td>\n",
       "    </tr>\n",
       "    <tr>\n",
       "      <th>1</th>\n",
       "      <td>21482986154</td>\n",
       "      <td>100.095108</td>\n",
       "      <td>57.330533</td>\n",
       "    </tr>\n",
       "    <tr>\n",
       "      <th>2</th>\n",
       "      <td>25322199722</td>\n",
       "      <td>156.208598</td>\n",
       "      <td>49.593828</td>\n",
       "    </tr>\n",
       "    <tr>\n",
       "      <th>3</th>\n",
       "      <td>24804468053</td>\n",
       "      <td>148.255913</td>\n",
       "      <td>52.175710</td>\n",
       "    </tr>\n",
       "    <tr>\n",
       "      <th>4</th>\n",
       "      <td>21488409258</td>\n",
       "      <td>99.916181</td>\n",
       "      <td>58.030799</td>\n",
       "    </tr>\n",
       "  </tbody>\n",
       "</table>\n",
       "</div>"
      ],
      "text/plain": [
       "           pix          ra        dec\n",
       "0  22951680682  132.221748  48.009135\n",
       "1  21482986154  100.095108  57.330533\n",
       "2  25322199722  156.208598  49.593828\n",
       "3  24804468053  148.255913  52.175710\n",
       "4  21488409258   99.916181  58.030799"
      ]
     },
     "execution_count": 12,
     "metadata": {},
     "output_type": "execute_result"
    }
   ],
   "source": [
    "cnt.head()"
   ]
  },
  {
   "cell_type": "code",
   "execution_count": 2,
   "metadata": {
    "ExecuteTime": {
     "end_time": "2020-04-25T15:14:31.601088Z",
     "start_time": "2020-04-25T15:14:31.220234Z"
    }
   },
   "outputs": [],
   "source": [
    "from all_p import ClusterFile"
   ]
  },
  {
   "cell_type": "code",
   "execution_count": 14,
   "metadata": {
    "ExecuteTime": {
     "end_time": "2020-04-25T15:03:44.746112Z",
     "start_time": "2020-04-25T15:03:44.740390Z"
    }
   },
   "outputs": [],
   "source": [
    "cnt.index.name='index'"
   ]
  },
  {
   "cell_type": "code",
   "execution_count": 3,
   "metadata": {
    "ExecuteTime": {
     "end_time": "2020-04-25T15:14:32.338818Z",
     "start_time": "2020-04-25T15:14:32.333023Z"
    }
   },
   "outputs": [],
   "source": [
    "cf = ClusterFile('_')"
   ]
  },
  {
   "cell_type": "code",
   "execution_count": 4,
   "metadata": {
    "ExecuteTime": {
     "end_time": "2020-04-25T15:14:32.734762Z",
     "start_time": "2020-04-25T15:14:32.725155Z"
    }
   },
   "outputs": [],
   "source": [
    "cf.params['typ'] = 'cen'\n",
    "cf.params['id_list'] = 1\n",
    "cf.params['num'] = 20\n",
    "cf.params['inpix'] = 5\n",
    "cf.params['size'] = dist\n",
    "cf.params['nside'] = 17"
   ]
  },
  {
   "cell_type": "code",
   "execution_count": 5,
   "metadata": {
    "ExecuteTime": {
     "end_time": "2020-04-25T15:14:34.540452Z",
     "start_time": "2020-04-25T15:14:34.524392Z"
    }
   },
   "outputs": [
    {
     "data": {
      "text/plain": [
       "'tcen_il1_n20_in5_len0.6462_hns17.csv'"
      ]
     },
     "execution_count": 5,
     "metadata": {},
     "output_type": "execute_result"
    }
   ],
   "source": [
    "cf.file('.csv')"
   ]
  },
  {
   "cell_type": "code",
   "execution_count": 20,
   "metadata": {
    "ExecuteTime": {
     "end_time": "2020-04-25T15:11:38.434173Z",
     "start_time": "2020-04-25T15:11:38.406263Z"
    }
   },
   "outputs": [],
   "source": [
    "cnt.to_csv('tmp.csv')"
   ]
  },
  {
   "cell_type": "code",
   "execution_count": 6,
   "metadata": {
    "ExecuteTime": {
     "end_time": "2020-04-25T15:14:57.854117Z",
     "start_time": "2020-04-25T15:14:57.832274Z"
    }
   },
   "outputs": [
    {
     "data": {
      "text/html": [
       "<div>\n",
       "<style scoped>\n",
       "    .dataframe tbody tr th:only-of-type {\n",
       "        vertical-align: middle;\n",
       "    }\n",
       "\n",
       "    .dataframe tbody tr th {\n",
       "        vertical-align: top;\n",
       "    }\n",
       "\n",
       "    .dataframe thead th {\n",
       "        text-align: right;\n",
       "    }\n",
       "</style>\n",
       "<table border=\"1\" class=\"dataframe\">\n",
       "  <thead>\n",
       "    <tr style=\"text-align: right;\">\n",
       "      <th></th>\n",
       "      <th>pix</th>\n",
       "      <th>ra</th>\n",
       "      <th>dec</th>\n",
       "    </tr>\n",
       "    <tr>\n",
       "      <th>index</th>\n",
       "      <th></th>\n",
       "      <th></th>\n",
       "      <th></th>\n",
       "    </tr>\n",
       "  </thead>\n",
       "  <tbody>\n",
       "    <tr>\n",
       "      <th>0</th>\n",
       "      <td>22951680682</td>\n",
       "      <td>132.221748</td>\n",
       "      <td>48.009135</td>\n",
       "    </tr>\n",
       "    <tr>\n",
       "      <th>1</th>\n",
       "      <td>21482986154</td>\n",
       "      <td>100.095108</td>\n",
       "      <td>57.330533</td>\n",
       "    </tr>\n",
       "    <tr>\n",
       "      <th>2</th>\n",
       "      <td>25322199722</td>\n",
       "      <td>156.208598</td>\n",
       "      <td>49.593828</td>\n",
       "    </tr>\n",
       "    <tr>\n",
       "      <th>3</th>\n",
       "      <td>24804468053</td>\n",
       "      <td>148.255913</td>\n",
       "      <td>52.175710</td>\n",
       "    </tr>\n",
       "    <tr>\n",
       "      <th>4</th>\n",
       "      <td>21488409258</td>\n",
       "      <td>99.916181</td>\n",
       "      <td>58.030799</td>\n",
       "    </tr>\n",
       "  </tbody>\n",
       "</table>\n",
       "</div>"
      ],
      "text/plain": [
       "               pix          ra        dec\n",
       "index                                    \n",
       "0      22951680682  132.221748  48.009135\n",
       "1      21482986154  100.095108  57.330533\n",
       "2      25322199722  156.208598  49.593828\n",
       "3      24804468053  148.255913  52.175710\n",
       "4      21488409258   99.916181  58.030799"
      ]
     },
     "execution_count": 6,
     "metadata": {},
     "output_type": "execute_result"
    }
   ],
   "source": [
    "cnt = pd.read_csv('tmp.csv', index_col='index')\n",
    "cnt.head()"
   ]
  },
  {
   "cell_type": "code",
   "execution_count": 7,
   "metadata": {
    "ExecuteTime": {
     "end_time": "2020-04-25T15:15:42.815486Z",
     "start_time": "2020-04-25T15:15:42.783225Z"
    }
   },
   "outputs": [],
   "source": [
    "from os.path import join\n",
    "cnt.to_csv(join('/home/rt2122/data/train/centers/', cf.file('.csv')))"
   ]
  },
  {
   "cell_type": "code",
   "execution_count": null,
   "metadata": {},
   "outputs": [],
   "source": []
  }
 ],
 "metadata": {
  "kernelspec": {
   "display_name": "Python 3",
   "language": "python",
   "name": "python3"
  },
  "language_info": {
   "codemirror_mode": {
    "name": "ipython",
    "version": 3
   },
   "file_extension": ".py",
   "mimetype": "text/x-python",
   "name": "python",
   "nbconvert_exporter": "python",
   "pygments_lexer": "ipython3",
   "version": "3.7.3"
  }
 },
 "nbformat": 4,
 "nbformat_minor": 2
}
