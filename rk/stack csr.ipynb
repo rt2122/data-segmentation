{
 "cells": [
  {
   "cell_type": "code",
   "execution_count": 1,
   "metadata": {
    "ExecuteTime": {
     "end_time": "2020-04-25T12:58:16.802543Z",
     "start_time": "2020-04-25T12:58:14.601601Z"
    }
   },
   "outputs": [],
   "source": [
    "import scipy.sparse as sp\n",
    "import numpy as np"
   ]
  },
  {
   "cell_type": "code",
   "execution_count": 14,
   "metadata": {
    "ExecuteTime": {
     "end_time": "2020-04-25T13:02:05.509787Z",
     "start_time": "2020-04-25T13:02:05.503260Z"
    }
   },
   "outputs": [],
   "source": [
    "def unpack_csr(data_dir):\n",
    "    from os import walk\n",
    "    from os.path import join\n",
    "    import scipy.sparse as sp\n",
    "    from all_p import ClusterFile\n",
    "    filters = 'grizym'\n",
    "    csr = []\n",
    "    files = next(walk(data_dir))[-1]\n",
    "    files = sorted(files, key=lambda name:filters.index(ClusterFile(name).params['state'][-1]))\n",
    "    for f in files:\n",
    "        csr.append(sp.load_npz(join(data_dir, f)))\n",
    "    return csr"
   ]
  },
  {
   "cell_type": "code",
   "execution_count": 15,
   "metadata": {
    "ExecuteTime": {
     "end_time": "2020-04-25T13:02:06.146305Z",
     "start_time": "2020-04-25T13:02:05.773789Z"
    }
   },
   "outputs": [],
   "source": [
    "dirname = '/home/rt2122/data/train/csr/0_0'\n",
    "csr = unpack_csr(dirname)"
   ]
  },
  {
   "cell_type": "code",
   "execution_count": 16,
   "metadata": {
    "ExecuteTime": {
     "end_time": "2020-04-25T13:02:07.702080Z",
     "start_time": "2020-04-25T13:02:07.698666Z"
    }
   },
   "outputs": [
    {
     "data": {
      "text/plain": [
       "6"
      ]
     },
     "execution_count": 16,
     "metadata": {},
     "output_type": "execute_result"
    }
   ],
   "source": [
    "len(csr)"
   ]
  },
  {
   "cell_type": "code",
   "execution_count": 34,
   "metadata": {
    "ExecuteTime": {
     "end_time": "2020-04-25T13:05:24.180858Z",
     "start_time": "2020-04-25T13:05:24.170643Z"
    }
   },
   "outputs": [],
   "source": [
    "arr = np.stack(csr[:-1])"
   ]
  },
  {
   "cell_type": "code",
   "execution_count": 35,
   "metadata": {
    "ExecuteTime": {
     "end_time": "2020-04-25T13:05:24.583913Z",
     "start_time": "2020-04-25T13:05:24.572456Z"
    }
   },
   "outputs": [
    {
     "data": {
      "text/plain": [
       "(5,)"
      ]
     },
     "execution_count": 35,
     "metadata": {},
     "output_type": "execute_result"
    }
   ],
   "source": [
    "arr.shape"
   ]
  },
  {
   "cell_type": "code",
   "execution_count": 36,
   "metadata": {
    "ExecuteTime": {
     "end_time": "2020-04-25T13:05:31.153153Z",
     "start_time": "2020-04-25T13:05:31.142070Z"
    }
   },
   "outputs": [
    {
     "data": {
      "text/plain": [
       "0.0"
      ]
     },
     "execution_count": 36,
     "metadata": {},
     "output_type": "execute_result"
    }
   ],
   "source": [
    "csr[0][4, 5]"
   ]
  },
  {
   "cell_type": "code",
   "execution_count": null,
   "metadata": {},
   "outputs": [],
   "source": []
  }
 ],
 "metadata": {
  "kernelspec": {
   "display_name": "Python 3",
   "language": "python",
   "name": "python3"
  },
  "language_info": {
   "codemirror_mode": {
    "name": "ipython",
    "version": 3
   },
   "file_extension": ".py",
   "mimetype": "text/x-python",
   "name": "python",
   "nbconvert_exporter": "python",
   "pygments_lexer": "ipython3",
   "version": "3.7.3"
  }
 },
 "nbformat": 4,
 "nbformat_minor": 2
}
