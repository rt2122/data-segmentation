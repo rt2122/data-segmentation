{
 "cells": [
  {
   "cell_type": "code",
   "execution_count": 4,
   "metadata": {
    "ExecuteTime": {
     "end_time": "2020-04-25T18:45:20.582403Z",
     "start_time": "2020-04-25T18:45:20.572071Z"
    }
   },
   "outputs": [],
   "source": [
    "import pandas as pd\n",
    "from os.path import join\n",
    "from os import walk\n",
    "from all_p import ClusterFile, calc_pix"
   ]
  },
  {
   "cell_type": "code",
   "execution_count": 6,
   "metadata": {
    "ExecuteTime": {
     "end_time": "2020-04-25T18:45:52.973513Z",
     "start_time": "2020-04-25T18:45:52.925209Z"
    }
   },
   "outputs": [
    {
     "data": {
      "text/plain": [
       "['tdat_il1_ip19_ra128.0709_dec66.1570_scl_in5.csv',\n",
       " 'tdat_il1_ip9_ra128.9139_dec66.0122_scl_in5.csv',\n",
       " 'tdat_il1_ip14_ra99.1087_dec57.4169_scl_in5.csv',\n",
       " 'tdat_il1_ip1_ra100.0951_dec57.3305_scl_in5.csv',\n",
       " 'tdat_il1_ip2_ra156.2086_dec49.5938_scl_in5.csv',\n",
       " 'tdat_il1_ip5_ra139.8363_dec52.1861_scl_in5.csv',\n",
       " 'tdat_il1_ip15_ra152.4899_dec71.4755_scl_in5.csv',\n",
       " 'tdat_il1_ip7_ra150.8614_dec66.5578_scl_in5.csv',\n",
       " 'tdat_il1_ip17_ra116.6979_dec59.9642_scl_in5.csv',\n",
       " 'tdat_il1_ip0_ra132.2217_dec48.0091_scl_in5.csv',\n",
       " 'tdat_il1_ip8_ra155.2182_dec48.9728_scl_in5.csv',\n",
       " 'tdat_il1_ip13_ra109.2418_dec54.4102_scl_in5.csv',\n",
       " 'tdat_il1_ip18_ra138.0892_dec60.6509_scl_in5.csv',\n",
       " 'tdat_il1_ip6_ra126.5754_dec47.6416_scl_in5.csv',\n",
       " 'tdat_il1_ip11_ra118.8646_dec52.9088_scl_in5.csv',\n",
       " 'tdat_il1_ip10_ra156.1136_dec48.9973_scl_in5.csv',\n",
       " 'tdat_il1_ip12_ra129.0758_dec65.6675_scl_in5.csv',\n",
       " 'tdat_il1_ip3_ra148.2559_dec52.1757_scl_in5.csv',\n",
       " 'tdat_il1_ip16_ra155.6608_dec48.9188_scl_in5.csv',\n",
       " 'tdat_il1_ip4_ra99.9162_dec58.0308_scl_in5.csv']"
      ]
     },
     "execution_count": 6,
     "metadata": {},
     "output_type": "execute_result"
    }
   ],
   "source": [
    "cl_dir = '/home/rt2122/data/train/clear/'\n",
    "files = next(walk(cl_dir))[-1]\n",
    "files = list(filter(lambda name:ClusterFile(name).params['id_list']==1, files) )\n",
    "files"
   ]
  },
  {
   "cell_type": "code",
   "execution_count": null,
   "metadata": {
    "ExecuteTime": {
     "start_time": "2020-04-25T18:47:34.294Z"
    }
   },
   "outputs": [
    {
     "data": {
      "application/vnd.jupyter.widget-view+json": {
       "model_id": "2114ca5571d74bf68cb9a803cc5b4bdd",
       "version_major": 2,
       "version_minor": 0
      },
      "text/plain": [
       "HBox(children=(IntProgress(value=0, max=67785), HTML(value='')))"
      ]
     },
     "metadata": {},
     "output_type": "display_data"
    },
    {
     "name": "stdout",
     "output_type": "stream",
     "text": [
      "\n"
     ]
    },
    {
     "data": {
      "application/vnd.jupyter.widget-view+json": {
       "model_id": "2608ec888e3747eca42ed52daa1d1ef7",
       "version_major": 2,
       "version_minor": 0
      },
      "text/plain": [
       "HBox(children=(IntProgress(value=0, max=66094), HTML(value='')))"
      ]
     },
     "metadata": {},
     "output_type": "display_data"
    },
    {
     "name": "stdout",
     "output_type": "stream",
     "text": [
      "\n"
     ]
    },
    {
     "data": {
      "application/vnd.jupyter.widget-view+json": {
       "model_id": "043faf12c47749e8879cc060ad9e061c",
       "version_major": 2,
       "version_minor": 0
      },
      "text/plain": [
       "HBox(children=(IntProgress(value=0, max=73627), HTML(value='')))"
      ]
     },
     "metadata": {},
     "output_type": "display_data"
    },
    {
     "name": "stdout",
     "output_type": "stream",
     "text": [
      "\n"
     ]
    },
    {
     "data": {
      "application/vnd.jupyter.widget-view+json": {
       "model_id": "4031e2095c71405784bd249564571146",
       "version_major": 2,
       "version_minor": 0
      },
      "text/plain": [
       "HBox(children=(IntProgress(value=0, max=70765), HTML(value='')))"
      ]
     },
     "metadata": {},
     "output_type": "display_data"
    },
    {
     "name": "stdout",
     "output_type": "stream",
     "text": [
      "\n"
     ]
    },
    {
     "data": {
      "application/vnd.jupyter.widget-view+json": {
       "model_id": "b46584e3719040128fdb05669f0c3069",
       "version_major": 2,
       "version_minor": 0
      },
      "text/plain": [
       "HBox(children=(IntProgress(value=0, max=67796), HTML(value='')))"
      ]
     },
     "metadata": {},
     "output_type": "display_data"
    }
   ],
   "source": [
    "for f in files:\n",
    "    patch = pd.read_csv(join(cl_dir, f), index_col='Unnamed: 0')\n",
    "    patch.index.name='index'\n",
    "    \n",
    "    calc_pix(patch, nside=2**17)\n",
    "    patch.to_csv(join(cl_dir, f))"
   ]
  },
  {
   "cell_type": "code",
   "execution_count": null,
   "metadata": {},
   "outputs": [],
   "source": []
  }
 ],
 "metadata": {
  "kernelspec": {
   "display_name": "Python 3",
   "language": "python",
   "name": "python3"
  },
  "language_info": {
   "codemirror_mode": {
    "name": "ipython",
    "version": 3
   },
   "file_extension": ".py",
   "mimetype": "text/x-python",
   "name": "python",
   "nbconvert_exporter": "python",
   "pygments_lexer": "ipython3",
   "version": "3.7.3"
  }
 },
 "nbformat": 4,
 "nbformat_minor": 2
}
