{
 "cells": [
  {
   "cell_type": "code",
   "execution_count": 11,
   "metadata": {
    "ExecuteTime": {
     "end_time": "2020-04-12T22:56:58.717384Z",
     "start_time": "2020-04-12T22:56:58.700215Z"
    }
   },
   "outputs": [],
   "source": [
    "import healpy as hp\n",
    "import pandas as pd\n",
    "import numpy as np\n",
    "import astropy\n",
    "from astropy import units as u\n",
    "from astropy.coordinates import SkyCoord\n",
    "%matplotlib inline\n",
    "from healpy_m import obj_in_pix\n",
    "from tqdm import tqdm_notebook"
   ]
  },
  {
   "cell_type": "code",
   "execution_count": 12,
   "metadata": {
    "ExecuteTime": {
     "end_time": "2020-04-12T22:57:13.675319Z",
     "start_time": "2020-04-12T22:56:59.049444Z"
    }
   },
   "outputs": [],
   "source": [
    "pc0 = pd.read_csv('/home/rt2122/data/Tile6_1_5deg_0.csv')"
   ]
  },
  {
   "cell_type": "code",
   "execution_count": 13,
   "metadata": {
    "ExecuteTime": {
     "end_time": "2020-04-12T22:57:13.704693Z",
     "start_time": "2020-04-12T22:57:13.676560Z"
    }
   },
   "outputs": [
    {
     "data": {
      "text/html": [
       "<div>\n",
       "<style scoped>\n",
       "    .dataframe tbody tr th:only-of-type {\n",
       "        vertical-align: middle;\n",
       "    }\n",
       "\n",
       "    .dataframe tbody tr th {\n",
       "        vertical-align: top;\n",
       "    }\n",
       "\n",
       "    .dataframe thead th {\n",
       "        text-align: right;\n",
       "    }\n",
       "</style>\n",
       "<table border=\"1\" class=\"dataframe\">\n",
       "  <thead>\n",
       "    <tr style=\"text-align: right;\">\n",
       "      <th></th>\n",
       "      <th>id</th>\n",
       "      <th>objID</th>\n",
       "      <th>raStack</th>\n",
       "      <th>decStack</th>\n",
       "      <th>gPSFFlux</th>\n",
       "      <th>gPSFFluxErr</th>\n",
       "      <th>gKronFlux</th>\n",
       "      <th>gKronFluxErr</th>\n",
       "      <th>rPSFFlux</th>\n",
       "      <th>rPSFFluxErr</th>\n",
       "      <th>...</th>\n",
       "      <th>iKronFlux</th>\n",
       "      <th>iKronFluxErr</th>\n",
       "      <th>zPSFFlux</th>\n",
       "      <th>zPSFFluxErr</th>\n",
       "      <th>zKronFlux</th>\n",
       "      <th>zKronFluxErr</th>\n",
       "      <th>yPSFFlux</th>\n",
       "      <th>yPSFFluxErr</th>\n",
       "      <th>yKronFlux</th>\n",
       "      <th>yKronFluxErr</th>\n",
       "    </tr>\n",
       "  </thead>\n",
       "  <tbody>\n",
       "    <tr>\n",
       "      <th>0</th>\n",
       "      <td>0</td>\n",
       "      <td>187792166702849712</td>\n",
       "      <td>216.670292</td>\n",
       "      <td>66.499140</td>\n",
       "      <td>1.281900e-06</td>\n",
       "      <td>4.447640e-07</td>\n",
       "      <td>-999.000000</td>\n",
       "      <td>-9.990000e+02</td>\n",
       "      <td>0.000004</td>\n",
       "      <td>5.802500e-07</td>\n",
       "      <td>...</td>\n",
       "      <td>0.000004</td>\n",
       "      <td>4.520370e-07</td>\n",
       "      <td>0.000006</td>\n",
       "      <td>9.828530e-07</td>\n",
       "      <td>0.000008</td>\n",
       "      <td>0.000002</td>\n",
       "      <td>7.760270e-06</td>\n",
       "      <td>0.000003</td>\n",
       "      <td>-999.00000</td>\n",
       "      <td>-999.000000</td>\n",
       "    </tr>\n",
       "    <tr>\n",
       "      <th>1</th>\n",
       "      <td>0</td>\n",
       "      <td>187792166510120457</td>\n",
       "      <td>216.650981</td>\n",
       "      <td>66.491425</td>\n",
       "      <td>2.927060e-06</td>\n",
       "      <td>4.368490e-07</td>\n",
       "      <td>0.000004</td>\n",
       "      <td>8.035710e-07</td>\n",
       "      <td>0.000001</td>\n",
       "      <td>5.780550e-07</td>\n",
       "      <td>...</td>\n",
       "      <td>-999.000000</td>\n",
       "      <td>-9.990000e+02</td>\n",
       "      <td>0.000003</td>\n",
       "      <td>9.966210e-07</td>\n",
       "      <td>-999.000000</td>\n",
       "      <td>-999.000000</td>\n",
       "      <td>2.012660e-06</td>\n",
       "      <td>0.000002</td>\n",
       "      <td>-999.00000</td>\n",
       "      <td>-999.000000</td>\n",
       "    </tr>\n",
       "    <tr>\n",
       "      <th>2</th>\n",
       "      <td>0</td>\n",
       "      <td>187792166628682728</td>\n",
       "      <td>216.662838</td>\n",
       "      <td>66.493315</td>\n",
       "      <td>8.349020e-05</td>\n",
       "      <td>5.894640e-07</td>\n",
       "      <td>0.000237</td>\n",
       "      <td>1.625190e-06</td>\n",
       "      <td>0.000148</td>\n",
       "      <td>7.903330e-07</td>\n",
       "      <td>...</td>\n",
       "      <td>0.000610</td>\n",
       "      <td>1.877780e-06</td>\n",
       "      <td>0.000241</td>\n",
       "      <td>1.258340e-06</td>\n",
       "      <td>0.000726</td>\n",
       "      <td>0.000004</td>\n",
       "      <td>2.550230e-04</td>\n",
       "      <td>0.000002</td>\n",
       "      <td>0.00073</td>\n",
       "      <td>0.000008</td>\n",
       "    </tr>\n",
       "    <tr>\n",
       "      <th>3</th>\n",
       "      <td>0</td>\n",
       "      <td>187792166559463846</td>\n",
       "      <td>216.655974</td>\n",
       "      <td>66.494247</td>\n",
       "      <td>5.957160e-07</td>\n",
       "      <td>4.306020e-07</td>\n",
       "      <td>-999.000000</td>\n",
       "      <td>-9.990000e+02</td>\n",
       "      <td>0.000003</td>\n",
       "      <td>5.786240e-07</td>\n",
       "      <td>...</td>\n",
       "      <td>0.000002</td>\n",
       "      <td>4.063660e-07</td>\n",
       "      <td>0.000002</td>\n",
       "      <td>9.674790e-07</td>\n",
       "      <td>-999.000000</td>\n",
       "      <td>-999.000000</td>\n",
       "      <td>-9.766080e-07</td>\n",
       "      <td>0.000002</td>\n",
       "      <td>-999.00000</td>\n",
       "      <td>-999.000000</td>\n",
       "    </tr>\n",
       "    <tr>\n",
       "      <th>4</th>\n",
       "      <td>0</td>\n",
       "      <td>187802166383557052</td>\n",
       "      <td>216.638363</td>\n",
       "      <td>66.505259</td>\n",
       "      <td>1.023320e-06</td>\n",
       "      <td>4.590230e-07</td>\n",
       "      <td>-999.000000</td>\n",
       "      <td>-9.990000e+02</td>\n",
       "      <td>0.000003</td>\n",
       "      <td>5.788770e-07</td>\n",
       "      <td>...</td>\n",
       "      <td>0.000004</td>\n",
       "      <td>5.598810e-07</td>\n",
       "      <td>0.000005</td>\n",
       "      <td>1.064530e-06</td>\n",
       "      <td>-999.000000</td>\n",
       "      <td>-999.000000</td>\n",
       "      <td>3.418760e-06</td>\n",
       "      <td>0.000002</td>\n",
       "      <td>-999.00000</td>\n",
       "      <td>-999.000000</td>\n",
       "    </tr>\n",
       "  </tbody>\n",
       "</table>\n",
       "<p>5 rows × 24 columns</p>\n",
       "</div>"
      ],
      "text/plain": [
       "   id               objID     raStack   decStack      gPSFFlux   gPSFFluxErr  \\\n",
       "0   0  187792166702849712  216.670292  66.499140  1.281900e-06  4.447640e-07   \n",
       "1   0  187792166510120457  216.650981  66.491425  2.927060e-06  4.368490e-07   \n",
       "2   0  187792166628682728  216.662838  66.493315  8.349020e-05  5.894640e-07   \n",
       "3   0  187792166559463846  216.655974  66.494247  5.957160e-07  4.306020e-07   \n",
       "4   0  187802166383557052  216.638363  66.505259  1.023320e-06  4.590230e-07   \n",
       "\n",
       "    gKronFlux  gKronFluxErr  rPSFFlux   rPSFFluxErr  ...   iKronFlux  \\\n",
       "0 -999.000000 -9.990000e+02  0.000004  5.802500e-07  ...    0.000004   \n",
       "1    0.000004  8.035710e-07  0.000001  5.780550e-07  ... -999.000000   \n",
       "2    0.000237  1.625190e-06  0.000148  7.903330e-07  ...    0.000610   \n",
       "3 -999.000000 -9.990000e+02  0.000003  5.786240e-07  ...    0.000002   \n",
       "4 -999.000000 -9.990000e+02  0.000003  5.788770e-07  ...    0.000004   \n",
       "\n",
       "   iKronFluxErr  zPSFFlux   zPSFFluxErr   zKronFlux  zKronFluxErr  \\\n",
       "0  4.520370e-07  0.000006  9.828530e-07    0.000008      0.000002   \n",
       "1 -9.990000e+02  0.000003  9.966210e-07 -999.000000   -999.000000   \n",
       "2  1.877780e-06  0.000241  1.258340e-06    0.000726      0.000004   \n",
       "3  4.063660e-07  0.000002  9.674790e-07 -999.000000   -999.000000   \n",
       "4  5.598810e-07  0.000005  1.064530e-06 -999.000000   -999.000000   \n",
       "\n",
       "       yPSFFlux  yPSFFluxErr  yKronFlux  yKronFluxErr  \n",
       "0  7.760270e-06     0.000003 -999.00000   -999.000000  \n",
       "1  2.012660e-06     0.000002 -999.00000   -999.000000  \n",
       "2  2.550230e-04     0.000002    0.00073      0.000008  \n",
       "3 -9.766080e-07     0.000002 -999.00000   -999.000000  \n",
       "4  3.418760e-06     0.000002 -999.00000   -999.000000  \n",
       "\n",
       "[5 rows x 24 columns]"
      ]
     },
     "execution_count": 13,
     "metadata": {},
     "output_type": "execute_result"
    }
   ],
   "source": [
    "pc0.head()"
   ]
  },
  {
   "cell_type": "code",
   "execution_count": 14,
   "metadata": {
    "ExecuteTime": {
     "end_time": "2020-04-12T22:57:13.814168Z",
     "start_time": "2020-04-12T22:57:13.707063Z"
    }
   },
   "outputs": [],
   "source": [
    "def proc_big_table(df):\n",
    "    print('Size of table before: ', df.shape[0])\n",
    "    df.drop_duplicates(subset = ['raStack', 'decStack'], keep='first', inplace=True)\n",
    "    df = df[df['raStack'] != -999]\n",
    "    df = df[df['decStack'] != -999]\n",
    "    df.index = np.arange(df.shape[0])\n",
    "    print('Size of table after: ', df.shape[0])\n",
    "    return df"
   ]
  },
  {
   "cell_type": "code",
   "execution_count": 19,
   "metadata": {
    "ExecuteTime": {
     "end_time": "2020-04-12T22:57:51.327357Z",
     "start_time": "2020-04-12T22:57:51.315469Z"
    }
   },
   "outputs": [],
   "source": [
    "from threading import Thread\n",
    "class MyThread(Thread):\n",
    "    def __init__(self, table, st, en):\n",
    "        Thread.__init__(self)\n",
    "        self.table = table\n",
    "        self.st = st\n",
    "        self.en = en\n",
    "    \n",
    "    def run(self):\n",
    "        for i in range(st, en):\n",
    "            ra = self.table.loc[i, 'raStack']\n",
    "            dec = self.table.loc[i, 'decStack']\n",
    "            npix = obj_in_pix(ra=ra, dec=dec, nside=2**11)\n",
    "            self.table.loc[i, 'pix'] = npix"
   ]
  },
  {
   "cell_type": "code",
   "execution_count": 16,
   "metadata": {
    "ExecuteTime": {
     "end_time": "2020-04-12T22:57:16.447932Z",
     "start_time": "2020-04-12T22:57:13.948629Z"
    }
   },
   "outputs": [
    {
     "name": "stdout",
     "output_type": "stream",
     "text": [
      "Size of table before:  3440408\n",
      "Size of table after:  3425830\n"
     ]
    }
   ],
   "source": [
    "pc0 = proc_big_table(pc0)"
   ]
  },
  {
   "cell_type": "code",
   "execution_count": 17,
   "metadata": {
    "ExecuteTime": {
     "end_time": "2020-04-12T22:57:16.511811Z",
     "start_time": "2020-04-12T22:57:16.449723Z"
    }
   },
   "outputs": [],
   "source": [
    "pc0['pix'] = None"
   ]
  },
  {
   "cell_type": "code",
   "execution_count": 18,
   "metadata": {
    "ExecuteTime": {
     "end_time": "2020-04-12T22:57:16.615817Z",
     "start_time": "2020-04-12T22:57:16.514044Z"
    }
   },
   "outputs": [],
   "source": [
    "st_0, en_0 = 0, 100000"
   ]
  },
  {
   "cell_type": "code",
   "execution_count": 20,
   "metadata": {
    "ExecuteTime": {
     "end_time": "2020-04-12T23:02:03.461069Z",
     "start_time": "2020-04-12T22:58:12.362031Z"
    }
   },
   "outputs": [],
   "source": [
    "for i in range(st_0,  en_0 // 1000):\n",
    "    st = i * 1000\n",
    "    en = min(st + 1000, pc0.shape[0])\n",
    "    thr = MyThread(pc0, st, en)\n",
    "    thr.start()"
   ]
  },
  {
   "cell_type": "code",
   "execution_count": 21,
   "metadata": {
    "ExecuteTime": {
     "end_time": "2020-04-12T23:18:02.751753Z",
     "start_time": "2020-04-12T23:09:48.099002Z"
    }
   },
   "outputs": [
    {
     "data": {
      "text/plain": [
       "id                               0\n",
       "objID           187292213477671681\n",
       "raStack                    221.348\n",
       "decStack                   66.0758\n",
       "gPSFFlux               1.78562e-05\n",
       "gPSFFluxErr            4.97333e-07\n",
       "gKronFlux              2.58127e-05\n",
       "gKronFluxErr           8.43367e-07\n",
       "rPSFFlux               2.69458e-05\n",
       "rPSFFluxErr            4.80136e-07\n",
       "rKronFlux              4.99269e-05\n",
       "rKronFluxErr           9.68336e-07\n",
       "iPSFFlux               2.89338e-05\n",
       "iPSFFluxErr            3.81714e-07\n",
       "iKronFlux              6.53492e-05\n",
       "iKronFluxErr           1.01057e-06\n",
       "zPSFFlux                3.9801e-05\n",
       "zPSFFluxErr            8.41858e-07\n",
       "zKronFlux              7.35634e-05\n",
       "zKronFluxErr           1.66553e-06\n",
       "yPSFFlux               4.28719e-05\n",
       "yPSFFluxErr            2.49639e-06\n",
       "yKronFlux              7.05774e-05\n",
       "yKronFluxErr            4.6483e-06\n",
       "pix                           None\n",
       "Name: 100000, dtype: object"
      ]
     },
     "execution_count": 21,
     "metadata": {},
     "output_type": "execute_result"
    }
   ],
   "source": [
    "pc0.loc[100000]"
   ]
  },
  {
   "cell_type": "code",
   "execution_count": null,
   "metadata": {
    "ExecuteTime": {
     "start_time": "2020-04-12T23:20:32.816Z"
    }
   },
   "outputs": [],
   "source": [
    "pc0.to_csv('~/data/pc0_fixed.csv')"
   ]
  },
  {
   "cell_type": "code",
   "execution_count": null,
   "metadata": {},
   "outputs": [],
   "source": []
  }
 ],
 "metadata": {
  "kernelspec": {
   "display_name": "Python 3",
   "language": "python",
   "name": "python3"
  },
  "language_info": {
   "codemirror_mode": {
    "name": "ipython",
    "version": 3
   },
   "file_extension": ".py",
   "mimetype": "text/x-python",
   "name": "python",
   "nbconvert_exporter": "python",
   "pygments_lexer": "ipython3",
   "version": "3.7.3"
  }
 },
 "nbformat": 4,
 "nbformat_minor": 2
}
